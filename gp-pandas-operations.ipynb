{
 "cells": [
  {
   "cell_type": "markdown",
   "id": "8fb82884",
   "metadata": {
    "tags": []
   },
   "source": [
    "<a id='pd-ops'></a>  \n",
    "# Pandas Operations  "
   ]
  },
  {
   "cell_type": "markdown",
   "id": "19486a68-5f73-4146-8f46-127daddcd81b",
   "metadata": {},
   "source": [
    "## Key points  \n",
    "- read_csv  \n",
    "  - delim_whitespace=True   \n",
    "- apply function to columns\n",
    "  - df[\"TEMP_C\"] = df[\"TEMP_F\"].apply(tc.fahr_to_celsius)  \n",
    "- apply lambda to columns\n",
    "  - df[\"TEMP_C\"] = df[\"TEMP_F\"].apply(lambda x: (x - 32) / 1.8 )  \n",
    "- integer dates  \n",
    "  - astype(str).str.slice(start=, stop=)  \n",
    "  - pd.to_datetime(df[\"TIME\"].astype(str), format=\"%Y%m\", exact=False)  \n",
    "  - exact speeds up process (drops all non-specifed (drops days, hours, mins, secs)  \n",
    "- index  \n",
    "  - .set_index(\"YEAR_MONTH_DT\",drop=True)  (drops previous index)  \n",
    "  - filt = df.index.to_series().dt.year == 1969  \n",
    "- groupby  \n",
    "  - group_agg = df.groupby(\"YEAR_MONTH\")[cols].agg('mean')  \n",
    "- filter  \n",
    "  - filt = df[\"MONTH\"] == \"04\"  \n",
    "  - cols = [\"STATION\", \"TEMP_F\", \"TEMP_C\", \"YEAR_MONTH\"]  \n",
    "  - sel = df[filt][cols]  \n",
    "- glob  \n",
    "  - file_list = glob.glob(os.path.join(data_dir,\"0*txt\"))  \n",
    "- isna  \n",
    "  - df.isna().sum()  \n",
    "- join  \n",
    "  - join1 = monthly_data.merge(reference_temps, on='month')  "
   ]
  },
  {
   "cell_type": "markdown",
   "id": "39c3b93f-bfc4-4987-87d5-cb0d4a887569",
   "metadata": {},
   "source": [
    "[Import](#pd-ops-import)  \n",
    "[Attributes](#pd-ops-attributes)   \n",
    "[Aggregate](#pd-ops-aggregate)    \n",
    "[Transform](#pd-ops-transform)  \n",
    "[Group](#pd-ops-group)  \n",
    "[Filter](#pd-ops-filter)  \n",
    "[Exercise](#pd-ops-exercise) "
   ]
  },
  {
   "cell_type": "markdown",
   "id": "8a6db74b-dfcc-42e0-b94a-041d1774cc7b",
   "metadata": {},
   "source": [
    "## Libraries"
   ]
  },
  {
   "cell_type": "code",
   "execution_count": 1,
   "id": "hungarian-longer",
   "metadata": {
    "tags": []
   },
   "outputs": [],
   "source": [
    "import os\n",
    "import glob\n",
    "import pandas as pd\n",
    "import temp_converter as tc"
   ]
  },
  {
   "cell_type": "markdown",
   "id": "a009f371-7a1d-4379-8854-9125a54847a6",
   "metadata": {
    "tags": [],
    "toc-hr-collapsed": true
   },
   "source": [
    "## Parameters"
   ]
  },
  {
   "cell_type": "code",
   "execution_count": 2,
   "id": "c97aba73-4c35-4cfb-84f1-2af51e2a054e",
   "metadata": {},
   "outputs": [],
   "source": [
    "# shows result of cell without needing print\n",
    "from IPython.core.interactiveshell import InteractiveShell\n",
    "InteractiveShell.ast_node_interactivity = \"last_expr_or_assign\""
   ]
  },
  {
   "cell_type": "code",
   "execution_count": 3,
   "id": "8000dfbb-350e-4859-8311-abebe0a7dfdb",
   "metadata": {},
   "outputs": [],
   "source": [
    "pd.set_option('display.max_rows',10)\n",
    "#defaults: pd.set_option('display.max_columns',20,'display.max_rows',60,'display.max_colwidth',50)"
   ]
  },
  {
   "cell_type": "markdown",
   "id": "57a732de",
   "metadata": {
    "tags": [],
    "toc-hr-collapsed": true
   },
   "source": [
    "## Directories"
   ]
  },
  {
   "cell_type": "code",
   "execution_count": 4,
   "id": "c7b2df80-6d08-4601-ae78-7aaf6ecc302a",
   "metadata": {
    "tags": []
   },
   "outputs": [
    {
     "data": {
      "text/plain": [
       "'/Users/forest/eda/gpy'"
      ]
     },
     "execution_count": 4,
     "metadata": {},
     "output_type": "execute_result"
    }
   ],
   "source": [
    "home_dir = home_dir = os.path.expanduser(\"~\")\n",
    "work_dir = os.path.join(home_dir, 'eda', 'gpy')\n",
    "data_dir = os.path.join(work_dir,'data') \n",
    "os.chdir(work_dir)\n",
    "os.getcwd()"
   ]
  },
  {
   "cell_type": "markdown",
   "id": "e91860f1-d0f9-4ba5-bd63-6ce2d19c26bd",
   "metadata": {
    "toc-hr-collapsed": true
   },
   "source": [
    "<a id='pd-ops-import'></a>\n",
    "## Import"
   ]
  },
  {
   "cell_type": "markdown",
   "id": "408395c0-21d5-4798-8fea-84183cbc5056",
   "metadata": {},
   "source": [
    "[Return to Start of Notebook](#pd-ops)  "
   ]
  },
  {
   "cell_type": "markdown",
   "id": "55d5ca59-2e39-4e9d-9496-a9fb384ce962",
   "metadata": {},
   "source": [
    "### file path"
   ]
  },
  {
   "cell_type": "code",
   "execution_count": 5,
   "id": "0fd0f6ba-2224-4d59-89ab-6ffbddc0e089",
   "metadata": {},
   "outputs": [
    {
     "data": {
      "text/plain": [
       "'/Users/forest/eda/gpy/data/029440.txt'"
      ]
     },
     "execution_count": 5,
     "metadata": {},
     "output_type": "execute_result"
    }
   ],
   "source": [
    "file_path = os.path.join(data_dir,\"029440.txt\")"
   ]
  },
  {
   "cell_type": "markdown",
   "id": "1ed9f65a-7e91-47a8-8ffc-b750ac7aae95",
   "metadata": {},
   "source": [
    "### delim_whitespace=True"
   ]
  },
  {
   "cell_type": "code",
   "execution_count": 6,
   "id": "2126c29f-0b11-422c-9ea4-fea0a850e308",
   "metadata": {},
   "outputs": [
    {
     "data": {
      "text/html": [
       "<div>\n",
       "<style scoped>\n",
       "    .dataframe tbody tr th:only-of-type {\n",
       "        vertical-align: middle;\n",
       "    }\n",
       "\n",
       "    .dataframe tbody tr th {\n",
       "        vertical-align: top;\n",
       "    }\n",
       "\n",
       "    .dataframe thead th {\n",
       "        text-align: right;\n",
       "    }\n",
       "</style>\n",
       "<table border=\"1\" class=\"dataframe\">\n",
       "  <thead>\n",
       "    <tr style=\"text-align: right;\">\n",
       "      <th></th>\n",
       "      <th>USAF</th>\n",
       "      <th>YR--MODAHRMN</th>\n",
       "      <th>DIR</th>\n",
       "      <th>SPD</th>\n",
       "      <th>GUS</th>\n",
       "      <th>TEMP</th>\n",
       "      <th>MAX</th>\n",
       "      <th>MIN</th>\n",
       "    </tr>\n",
       "  </thead>\n",
       "  <tbody>\n",
       "    <tr>\n",
       "      <th>0</th>\n",
       "      <td>29440</td>\n",
       "      <td>190601010600</td>\n",
       "      <td>90.0</td>\n",
       "      <td>7.0</td>\n",
       "      <td>NaN</td>\n",
       "      <td>27.0</td>\n",
       "      <td>NaN</td>\n",
       "      <td>NaN</td>\n",
       "    </tr>\n",
       "    <tr>\n",
       "      <th>1</th>\n",
       "      <td>29440</td>\n",
       "      <td>190601011300</td>\n",
       "      <td>NaN</td>\n",
       "      <td>0.0</td>\n",
       "      <td>NaN</td>\n",
       "      <td>27.0</td>\n",
       "      <td>NaN</td>\n",
       "      <td>NaN</td>\n",
       "    </tr>\n",
       "    <tr>\n",
       "      <th>2</th>\n",
       "      <td>29440</td>\n",
       "      <td>190601012000</td>\n",
       "      <td>NaN</td>\n",
       "      <td>0.0</td>\n",
       "      <td>NaN</td>\n",
       "      <td>25.0</td>\n",
       "      <td>NaN</td>\n",
       "      <td>NaN</td>\n",
       "    </tr>\n",
       "  </tbody>\n",
       "</table>\n",
       "</div>"
      ],
      "text/plain": [
       "    USAF  YR--MODAHRMN   DIR  SPD  GUS  TEMP  MAX  MIN\n",
       "0  29440  190601010600  90.0  7.0  NaN  27.0  NaN  NaN\n",
       "1  29440  190601011300   NaN  0.0  NaN  27.0  NaN  NaN\n",
       "2  29440  190601012000   NaN  0.0  NaN  25.0  NaN  NaN"
      ]
     },
     "execution_count": 6,
     "metadata": {},
     "output_type": "execute_result"
    }
   ],
   "source": [
    "data = pd.read_csv(file_path,\n",
    "                   delim_whitespace=True,\n",
    "                   usecols=[\"USAF\", \"YR--MODAHRMN\", \"DIR\", \"SPD\", \"GUS\", \"TEMP\", \"MAX\", \"MIN\"],\n",
    "                   na_values=[\"*\", \"**\", \"***\", \"****\", \"*****\", \"******\"])\n",
    "data.head(3)"
   ]
  },
  {
   "cell_type": "raw",
   "id": "9afc303c-9132-447d-81fd-022b638a9fa9",
   "metadata": {},
   "source": [
    "# parse_dates is much slower\n",
    "\n",
    "data = pd.read_csv(file_path,\n",
    "                   delim_whitespace=True,\n",
    "                   usecols=[\"USAF\", \"YR--MODAHRMN\", \"DIR\", \"SPD\", \"GUS\", \"TEMP\", \"MAX\", \"MIN\"],\n",
    "                   parse_dates=[\"YR--MODAHRMN\"],\n",
    "                   index_col=\"YR--MODAHRMN\",\n",
    "                   na_values=[\"*\", \"**\", \"***\", \"****\", \"*****\", \"******\"])\n",
    "data.head(3)"
   ]
  },
  {
   "cell_type": "markdown",
   "id": "cd58fc48-2dfa-429c-9231-fa040c13b9d7",
   "metadata": {
    "tags": [],
    "toc-hr-collapsed": true
   },
   "source": [
    "<a id='pd-ops-attributes'></a>\n",
    "## Attributes"
   ]
  },
  {
   "cell_type": "markdown",
   "id": "6c3e2e5f-b6d6-48bc-bb73-774a1dcd73d8",
   "metadata": {},
   "source": [
    "[Return to Start of Notebook](#pd-ops)  "
   ]
  },
  {
   "cell_type": "markdown",
   "id": "f4c5e5bc-e278-46cf-ab54-0eb645e349b2",
   "metadata": {},
   "source": [
    "Attributes  (minimally sufficient pandas)\n",
    "- shape  \n",
    "- columns  \n",
    "- dtypes  \n",
    "- index  "
   ]
  },
  {
   "cell_type": "markdown",
   "id": "83ec68c6-ff7b-4a00-9a44-beaaed452a5c",
   "metadata": {},
   "source": [
    "### shape"
   ]
  },
  {
   "cell_type": "code",
   "execution_count": 7,
   "id": "f8b46873-e1f9-41e3-b0dc-a0aa4a9b50ec",
   "metadata": {},
   "outputs": [
    {
     "data": {
      "text/plain": [
       "(757983, 8)"
      ]
     },
     "execution_count": 7,
     "metadata": {},
     "output_type": "execute_result"
    }
   ],
   "source": [
    "data.shape"
   ]
  },
  {
   "cell_type": "code",
   "execution_count": 8,
   "id": "f6d62a30-d982-48a0-b372-4f5fc720f36d",
   "metadata": {},
   "outputs": [
    {
     "data": {
      "text/plain": [
       "757983"
      ]
     },
     "execution_count": 8,
     "metadata": {},
     "output_type": "execute_result"
    }
   ],
   "source": [
    "row_count = data.shape[0]"
   ]
  },
  {
   "cell_type": "code",
   "execution_count": 9,
   "id": "09c77ca3-6c74-489c-b3bf-ee82629f6a3c",
   "metadata": {},
   "outputs": [
    {
     "data": {
      "text/plain": [
       "8"
      ]
     },
     "execution_count": 9,
     "metadata": {},
     "output_type": "execute_result"
    }
   ],
   "source": [
    "col_count = data.shape[1]"
   ]
  },
  {
   "cell_type": "markdown",
   "id": "e9ce6b17-0d5a-4f16-bd73-477b838adf6d",
   "metadata": {},
   "source": [
    "### columns"
   ]
  },
  {
   "cell_type": "code",
   "execution_count": 10,
   "id": "8a0c0659-722e-4388-a0b9-fc52c9178822",
   "metadata": {},
   "outputs": [
    {
     "data": {
      "text/plain": [
       "['USAF', 'YR--MODAHRMN', 'DIR', 'SPD', 'GUS', 'TEMP', 'MAX', 'MIN']"
      ]
     },
     "execution_count": 10,
     "metadata": {},
     "output_type": "execute_result"
    }
   ],
   "source": [
    "list(data.columns)"
   ]
  },
  {
   "cell_type": "markdown",
   "id": "ec1da6a7-f522-4c06-a18a-1b29ac8b5453",
   "metadata": {},
   "source": [
    "### dtypes"
   ]
  },
  {
   "cell_type": "code",
   "execution_count": 11,
   "id": "a74096b0-ba46-4f48-b821-8aece64d9dbd",
   "metadata": {},
   "outputs": [
    {
     "data": {
      "text/plain": [
       "USAF              int64\n",
       "YR--MODAHRMN      int64\n",
       "DIR             float64\n",
       "SPD             float64\n",
       "GUS             float64\n",
       "TEMP            float64\n",
       "MAX             float64\n",
       "MIN             float64\n",
       "dtype: object"
      ]
     },
     "execution_count": 11,
     "metadata": {},
     "output_type": "execute_result"
    }
   ],
   "source": [
    "data.dtypes"
   ]
  },
  {
   "cell_type": "markdown",
   "id": "5ba381ff-72f4-4f7a-baac-b6212b69b55c",
   "metadata": {},
   "source": [
    "### index"
   ]
  },
  {
   "cell_type": "code",
   "execution_count": 12,
   "id": "95b32b61-8cdf-490a-a415-4c3294b2ce7f",
   "metadata": {},
   "outputs": [
    {
     "data": {
      "text/plain": [
       "RangeIndex(start=0, stop=757983, step=1)"
      ]
     },
     "execution_count": 12,
     "metadata": {},
     "output_type": "execute_result"
    }
   ],
   "source": [
    "data.index"
   ]
  },
  {
   "cell_type": "markdown",
   "id": "8f7ba097-cce0-4f11-8a99-aa9ba8ec3bbd",
   "metadata": {
    "tags": [],
    "toc-hr-collapsed": true
   },
   "source": [
    "<a id='pd-ops-aggregate'></a>\n",
    "## Aggregate"
   ]
  },
  {
   "cell_type": "markdown",
   "id": "9b313ee4-797f-459e-b0e9-a6d4b86b8034",
   "metadata": {},
   "source": [
    "[Return to Start of Notebook](#pd-ops)  "
   ]
  },
  {
   "cell_type": "markdown",
   "id": "54983857-b6dd-4dd1-b53a-5665d4bfa248",
   "metadata": {},
   "source": [
    "Aggregation Methods  (minimally sufficient pandas)\n",
    "- describe\n",
    "- count, sum, max, min  \n",
    "- idxmax, idxmin \n",
    "- all, any  \n",
    "- mean, median, mode, std, var      \n",
    "- nunique   "
   ]
  },
  {
   "cell_type": "markdown",
   "id": "5c869793-1b5a-4720-a6cb-10f99148035d",
   "metadata": {},
   "source": [
    "### describe"
   ]
  },
  {
   "cell_type": "code",
   "execution_count": 13,
   "id": "45666b57-16ef-4ace-adb4-3dd17773bce1",
   "metadata": {},
   "outputs": [
    {
     "data": {
      "text/html": [
       "<div>\n",
       "<style scoped>\n",
       "    .dataframe tbody tr th:only-of-type {\n",
       "        vertical-align: middle;\n",
       "    }\n",
       "\n",
       "    .dataframe tbody tr th {\n",
       "        vertical-align: top;\n",
       "    }\n",
       "\n",
       "    .dataframe thead th {\n",
       "        text-align: right;\n",
       "    }\n",
       "</style>\n",
       "<table border=\"1\" class=\"dataframe\">\n",
       "  <thead>\n",
       "    <tr style=\"text-align: right;\">\n",
       "      <th></th>\n",
       "      <th>USAF</th>\n",
       "      <th>YR--MODAHRMN</th>\n",
       "      <th>DIR</th>\n",
       "      <th>SPD</th>\n",
       "      <th>GUS</th>\n",
       "      <th>TEMP</th>\n",
       "      <th>MAX</th>\n",
       "      <th>MIN</th>\n",
       "    </tr>\n",
       "  </thead>\n",
       "  <tbody>\n",
       "    <tr>\n",
       "      <th>count</th>\n",
       "      <td>757983.0</td>\n",
       "      <td>7.579830e+05</td>\n",
       "      <td>699256.000000</td>\n",
       "      <td>750143.000000</td>\n",
       "      <td>19906.000000</td>\n",
       "      <td>754862.000000</td>\n",
       "      <td>23869.000000</td>\n",
       "      <td>23268.000000</td>\n",
       "    </tr>\n",
       "    <tr>\n",
       "      <th>mean</th>\n",
       "      <td>29440.0</td>\n",
       "      <td>1.999974e+11</td>\n",
       "      <td>233.499846</td>\n",
       "      <td>6.742641</td>\n",
       "      <td>20.147996</td>\n",
       "      <td>40.409778</td>\n",
       "      <td>45.373539</td>\n",
       "      <td>35.783737</td>\n",
       "    </tr>\n",
       "    <tr>\n",
       "      <th>std</th>\n",
       "      <td>0.0</td>\n",
       "      <td>1.629544e+09</td>\n",
       "      <td>209.707258</td>\n",
       "      <td>4.296191</td>\n",
       "      <td>7.415138</td>\n",
       "      <td>17.898715</td>\n",
       "      <td>18.242679</td>\n",
       "      <td>17.195427</td>\n",
       "    </tr>\n",
       "    <tr>\n",
       "      <th>min</th>\n",
       "      <td>29440.0</td>\n",
       "      <td>1.906010e+11</td>\n",
       "      <td>10.000000</td>\n",
       "      <td>0.000000</td>\n",
       "      <td>11.000000</td>\n",
       "      <td>-33.000000</td>\n",
       "      <td>-26.000000</td>\n",
       "      <td>-32.000000</td>\n",
       "    </tr>\n",
       "    <tr>\n",
       "      <th>25%</th>\n",
       "      <td>29440.0</td>\n",
       "      <td>1.989083e+11</td>\n",
       "      <td>130.000000</td>\n",
       "      <td>3.000000</td>\n",
       "      <td>14.000000</td>\n",
       "      <td>29.000000</td>\n",
       "      <td>32.000000</td>\n",
       "      <td>26.000000</td>\n",
       "    </tr>\n",
       "    <tr>\n",
       "      <th>50%</th>\n",
       "      <td>29440.0</td>\n",
       "      <td>2.004042e+11</td>\n",
       "      <td>200.000000</td>\n",
       "      <td>7.000000</td>\n",
       "      <td>18.000000</td>\n",
       "      <td>39.000000</td>\n",
       "      <td>44.000000</td>\n",
       "      <td>36.000000</td>\n",
       "    </tr>\n",
       "    <tr>\n",
       "      <th>75%</th>\n",
       "      <td>29440.0</td>\n",
       "      <td>2.012050e+11</td>\n",
       "      <td>270.000000</td>\n",
       "      <td>9.000000</td>\n",
       "      <td>26.000000</td>\n",
       "      <td>54.000000</td>\n",
       "      <td>60.000000</td>\n",
       "      <td>49.000000</td>\n",
       "    </tr>\n",
       "    <tr>\n",
       "      <th>max</th>\n",
       "      <td>29440.0</td>\n",
       "      <td>2.019100e+11</td>\n",
       "      <td>990.000000</td>\n",
       "      <td>61.000000</td>\n",
       "      <td>108.000000</td>\n",
       "      <td>91.000000</td>\n",
       "      <td>91.000000</td>\n",
       "      <td>81.000000</td>\n",
       "    </tr>\n",
       "  </tbody>\n",
       "</table>\n",
       "</div>"
      ],
      "text/plain": [
       "           USAF  YR--MODAHRMN            DIR            SPD           GUS  \\\n",
       "count  757983.0  7.579830e+05  699256.000000  750143.000000  19906.000000   \n",
       "mean    29440.0  1.999974e+11     233.499846       6.742641     20.147996   \n",
       "std         0.0  1.629544e+09     209.707258       4.296191      7.415138   \n",
       "min     29440.0  1.906010e+11      10.000000       0.000000     11.000000   \n",
       "25%     29440.0  1.989083e+11     130.000000       3.000000     14.000000   \n",
       "50%     29440.0  2.004042e+11     200.000000       7.000000     18.000000   \n",
       "75%     29440.0  2.012050e+11     270.000000       9.000000     26.000000   \n",
       "max     29440.0  2.019100e+11     990.000000      61.000000    108.000000   \n",
       "\n",
       "                TEMP           MAX           MIN  \n",
       "count  754862.000000  23869.000000  23268.000000  \n",
       "mean       40.409778     45.373539     35.783737  \n",
       "std        17.898715     18.242679     17.195427  \n",
       "min       -33.000000    -26.000000    -32.000000  \n",
       "25%        29.000000     32.000000     26.000000  \n",
       "50%        39.000000     44.000000     36.000000  \n",
       "75%        54.000000     60.000000     49.000000  \n",
       "max        91.000000     91.000000     81.000000  "
      ]
     },
     "execution_count": 13,
     "metadata": {},
     "output_type": "execute_result"
    }
   ],
   "source": [
    "data.describe()"
   ]
  },
  {
   "cell_type": "markdown",
   "id": "9d356793-3c3e-420d-a183-cd66edf0efd3",
   "metadata": {
    "tags": [],
    "toc-hr-collapsed": true
   },
   "source": [
    "<a id='pd-ops-transform'></a>\n",
    "## Transform"
   ]
  },
  {
   "cell_type": "markdown",
   "id": "bca44cda-9407-4ce9-aef1-757d35247856",
   "metadata": {},
   "source": [
    "[Return to Start of Notebook](#pd-ops)  "
   ]
  },
  {
   "cell_type": "markdown",
   "id": "5693ab3d-5f22-425b-bbd1-1ff33fdb2068",
   "metadata": {},
   "source": [
    "### rename"
   ]
  },
  {
   "cell_type": "code",
   "execution_count": 14,
   "id": "2857624d-a69e-4a9c-8cd1-e1807393151d",
   "metadata": {},
   "outputs": [
    {
     "data": {
      "text/html": [
       "<div>\n",
       "<style scoped>\n",
       "    .dataframe tbody tr th:only-of-type {\n",
       "        vertical-align: middle;\n",
       "    }\n",
       "\n",
       "    .dataframe tbody tr th {\n",
       "        vertical-align: top;\n",
       "    }\n",
       "\n",
       "    .dataframe thead th {\n",
       "        text-align: right;\n",
       "    }\n",
       "</style>\n",
       "<table border=\"1\" class=\"dataframe\">\n",
       "  <thead>\n",
       "    <tr style=\"text-align: right;\">\n",
       "      <th></th>\n",
       "      <th>STATION</th>\n",
       "      <th>TIME</th>\n",
       "      <th>DIR</th>\n",
       "      <th>SPEED</th>\n",
       "      <th>GUST</th>\n",
       "      <th>TEMP_F</th>\n",
       "      <th>MAX_F</th>\n",
       "      <th>MIN_F</th>\n",
       "    </tr>\n",
       "  </thead>\n",
       "  <tbody>\n",
       "    <tr>\n",
       "      <th>0</th>\n",
       "      <td>29440</td>\n",
       "      <td>190601010600</td>\n",
       "      <td>90.0</td>\n",
       "      <td>7.0</td>\n",
       "      <td>NaN</td>\n",
       "      <td>27.0</td>\n",
       "      <td>NaN</td>\n",
       "      <td>NaN</td>\n",
       "    </tr>\n",
       "    <tr>\n",
       "      <th>1</th>\n",
       "      <td>29440</td>\n",
       "      <td>190601011300</td>\n",
       "      <td>NaN</td>\n",
       "      <td>0.0</td>\n",
       "      <td>NaN</td>\n",
       "      <td>27.0</td>\n",
       "      <td>NaN</td>\n",
       "      <td>NaN</td>\n",
       "    </tr>\n",
       "    <tr>\n",
       "      <th>2</th>\n",
       "      <td>29440</td>\n",
       "      <td>190601012000</td>\n",
       "      <td>NaN</td>\n",
       "      <td>0.0</td>\n",
       "      <td>NaN</td>\n",
       "      <td>25.0</td>\n",
       "      <td>NaN</td>\n",
       "      <td>NaN</td>\n",
       "    </tr>\n",
       "  </tbody>\n",
       "</table>\n",
       "</div>"
      ],
      "text/plain": [
       "   STATION          TIME   DIR  SPEED  GUST  TEMP_F  MAX_F  MIN_F\n",
       "0    29440  190601010600  90.0    7.0   NaN    27.0    NaN    NaN\n",
       "1    29440  190601011300   NaN    0.0   NaN    27.0    NaN    NaN\n",
       "2    29440  190601012000   NaN    0.0   NaN    25.0    NaN    NaN"
      ]
     },
     "execution_count": 14,
     "metadata": {},
     "output_type": "execute_result"
    }
   ],
   "source": [
    "new_names = {\"USAF\": \"STATION\",\n",
    "             \"TEMP\": \"TEMP_F\",\n",
    "             \"MAX\": \"MAX_F\",\n",
    "             \"MIN\": \"MIN_F\",             \n",
    "             \"YR--MODAHRMN\": \"TIME\",\n",
    "             \"SPD\": \"SPEED\",\n",
    "             \"GUS\": \"GUST\"}\n",
    "data = data.rename(columns=new_names)\n",
    "data.head(3)"
   ]
  },
  {
   "cell_type": "markdown",
   "id": "2ef25c50-ed92-483e-adad-852244bac7a4",
   "metadata": {},
   "source": [
    "### copy"
   ]
  },
  {
   "cell_type": "code",
   "execution_count": 15,
   "id": "aa6dad73-8dfc-4e99-9c31-876e5ef48172",
   "metadata": {
    "tags": []
   },
   "outputs": [],
   "source": [
    "dfc = data.copy();"
   ]
  },
  {
   "cell_type": "markdown",
   "id": "3b33a8a4-2f2e-48aa-a02e-db40598b161e",
   "metadata": {
    "tags": []
   },
   "source": [
    "### apply"
   ]
  },
  {
   "cell_type": "markdown",
   "id": "85027c92-8c91-47d6-8e00-6499f99cf91f",
   "metadata": {},
   "source": [
    "#### function (to single column)"
   ]
  },
  {
   "cell_type": "code",
   "execution_count": 16,
   "id": "727a093c-3294-4f66-9a16-4f8b34762cbb",
   "metadata": {},
   "outputs": [
    {
     "data": {
      "text/html": [
       "<div>\n",
       "<style scoped>\n",
       "    .dataframe tbody tr th:only-of-type {\n",
       "        vertical-align: middle;\n",
       "    }\n",
       "\n",
       "    .dataframe tbody tr th {\n",
       "        vertical-align: top;\n",
       "    }\n",
       "\n",
       "    .dataframe thead th {\n",
       "        text-align: right;\n",
       "    }\n",
       "</style>\n",
       "<table border=\"1\" class=\"dataframe\">\n",
       "  <thead>\n",
       "    <tr style=\"text-align: right;\">\n",
       "      <th></th>\n",
       "      <th>STATION</th>\n",
       "      <th>TIME</th>\n",
       "      <th>DIR</th>\n",
       "      <th>SPEED</th>\n",
       "      <th>GUST</th>\n",
       "      <th>TEMP_F</th>\n",
       "      <th>MAX_F</th>\n",
       "      <th>MIN_F</th>\n",
       "      <th>TEMP_C</th>\n",
       "    </tr>\n",
       "  </thead>\n",
       "  <tbody>\n",
       "    <tr>\n",
       "      <th>0</th>\n",
       "      <td>29440</td>\n",
       "      <td>190601010600</td>\n",
       "      <td>90.0</td>\n",
       "      <td>7.0</td>\n",
       "      <td>NaN</td>\n",
       "      <td>27.0</td>\n",
       "      <td>NaN</td>\n",
       "      <td>NaN</td>\n",
       "      <td>-2.777778</td>\n",
       "    </tr>\n",
       "    <tr>\n",
       "      <th>1</th>\n",
       "      <td>29440</td>\n",
       "      <td>190601011300</td>\n",
       "      <td>NaN</td>\n",
       "      <td>0.0</td>\n",
       "      <td>NaN</td>\n",
       "      <td>27.0</td>\n",
       "      <td>NaN</td>\n",
       "      <td>NaN</td>\n",
       "      <td>-2.777778</td>\n",
       "    </tr>\n",
       "    <tr>\n",
       "      <th>2</th>\n",
       "      <td>29440</td>\n",
       "      <td>190601012000</td>\n",
       "      <td>NaN</td>\n",
       "      <td>0.0</td>\n",
       "      <td>NaN</td>\n",
       "      <td>25.0</td>\n",
       "      <td>NaN</td>\n",
       "      <td>NaN</td>\n",
       "      <td>-3.888889</td>\n",
       "    </tr>\n",
       "  </tbody>\n",
       "</table>\n",
       "</div>"
      ],
      "text/plain": [
       "   STATION          TIME   DIR  SPEED  GUST  TEMP_F  MAX_F  MIN_F    TEMP_C\n",
       "0    29440  190601010600  90.0    7.0   NaN    27.0    NaN    NaN -2.777778\n",
       "1    29440  190601011300   NaN    0.0   NaN    27.0    NaN    NaN -2.777778\n",
       "2    29440  190601012000   NaN    0.0   NaN    25.0    NaN    NaN -3.888889"
      ]
     },
     "execution_count": 16,
     "metadata": {},
     "output_type": "execute_result"
    }
   ],
   "source": [
    "dfc[\"TEMP_C\"] = dfc[\"TEMP_F\"].apply(\n",
    "    tc.fahr_to_celsius)\n",
    "dfc.head(3)"
   ]
  },
  {
   "cell_type": "markdown",
   "id": "20a8742d-d85e-458e-9619-2762bc427eab",
   "metadata": {},
   "source": [
    "#### function (to multiple columns)"
   ]
  },
  {
   "cell_type": "code",
   "execution_count": 17,
   "id": "8b0419e3-0bb6-4d99-9751-b81f0420c3e0",
   "metadata": {},
   "outputs": [
    {
     "data": {
      "text/html": [
       "<div>\n",
       "<style scoped>\n",
       "    .dataframe tbody tr th:only-of-type {\n",
       "        vertical-align: middle;\n",
       "    }\n",
       "\n",
       "    .dataframe tbody tr th {\n",
       "        vertical-align: top;\n",
       "    }\n",
       "\n",
       "    .dataframe thead th {\n",
       "        text-align: right;\n",
       "    }\n",
       "</style>\n",
       "<table border=\"1\" class=\"dataframe\">\n",
       "  <thead>\n",
       "    <tr style=\"text-align: right;\">\n",
       "      <th></th>\n",
       "      <th>STATION</th>\n",
       "      <th>TIME</th>\n",
       "      <th>DIR</th>\n",
       "      <th>SPEED</th>\n",
       "      <th>GUST</th>\n",
       "      <th>TEMP_F</th>\n",
       "      <th>MAX_F</th>\n",
       "      <th>MIN_F</th>\n",
       "      <th>TEMP_C</th>\n",
       "      <th>MIN_C</th>\n",
       "      <th>MAX_C</th>\n",
       "    </tr>\n",
       "  </thead>\n",
       "  <tbody>\n",
       "    <tr>\n",
       "      <th>0</th>\n",
       "      <td>29440</td>\n",
       "      <td>190601010600</td>\n",
       "      <td>90.0</td>\n",
       "      <td>7.0</td>\n",
       "      <td>NaN</td>\n",
       "      <td>27.0</td>\n",
       "      <td>NaN</td>\n",
       "      <td>NaN</td>\n",
       "      <td>-2.777778</td>\n",
       "      <td>NaN</td>\n",
       "      <td>NaN</td>\n",
       "    </tr>\n",
       "    <tr>\n",
       "      <th>1</th>\n",
       "      <td>29440</td>\n",
       "      <td>190601011300</td>\n",
       "      <td>NaN</td>\n",
       "      <td>0.0</td>\n",
       "      <td>NaN</td>\n",
       "      <td>27.0</td>\n",
       "      <td>NaN</td>\n",
       "      <td>NaN</td>\n",
       "      <td>-2.777778</td>\n",
       "      <td>NaN</td>\n",
       "      <td>NaN</td>\n",
       "    </tr>\n",
       "    <tr>\n",
       "      <th>2</th>\n",
       "      <td>29440</td>\n",
       "      <td>190601012000</td>\n",
       "      <td>NaN</td>\n",
       "      <td>0.0</td>\n",
       "      <td>NaN</td>\n",
       "      <td>25.0</td>\n",
       "      <td>NaN</td>\n",
       "      <td>NaN</td>\n",
       "      <td>-3.888889</td>\n",
       "      <td>NaN</td>\n",
       "      <td>NaN</td>\n",
       "    </tr>\n",
       "  </tbody>\n",
       "</table>\n",
       "</div>"
      ],
      "text/plain": [
       "   STATION          TIME   DIR  SPEED  GUST  TEMP_F  MAX_F  MIN_F    TEMP_C  \\\n",
       "0    29440  190601010600  90.0    7.0   NaN    27.0    NaN    NaN -2.777778   \n",
       "1    29440  190601011300   NaN    0.0   NaN    27.0    NaN    NaN -2.777778   \n",
       "2    29440  190601012000   NaN    0.0   NaN    25.0    NaN    NaN -3.888889   \n",
       "\n",
       "   MIN_C  MAX_C  \n",
       "0    NaN    NaN  \n",
       "1    NaN    NaN  \n",
       "2    NaN    NaN  "
      ]
     },
     "execution_count": 17,
     "metadata": {},
     "output_type": "execute_result"
    }
   ],
   "source": [
    "dfc[[\"TEMP_C\", \"MIN_C\", \"MAX_C\"]] = dfc[[\"TEMP_F\", \"MIN_F\", \"MAX_F\"]].apply(\n",
    "    tc.fahr_to_celsius)\n",
    "dfc.head(3)"
   ]
  },
  {
   "cell_type": "markdown",
   "id": "b97d532b-41f7-4981-a3b9-6442d4408752",
   "metadata": {
    "tags": []
   },
   "source": [
    "#### lambda to single column"
   ]
  },
  {
   "cell_type": "code",
   "execution_count": 18,
   "id": "cedc097a-1b2e-48a5-b12c-8871f1a4324b",
   "metadata": {},
   "outputs": [
    {
     "data": {
      "text/html": [
       "<div>\n",
       "<style scoped>\n",
       "    .dataframe tbody tr th:only-of-type {\n",
       "        vertical-align: middle;\n",
       "    }\n",
       "\n",
       "    .dataframe tbody tr th {\n",
       "        vertical-align: top;\n",
       "    }\n",
       "\n",
       "    .dataframe thead th {\n",
       "        text-align: right;\n",
       "    }\n",
       "</style>\n",
       "<table border=\"1\" class=\"dataframe\">\n",
       "  <thead>\n",
       "    <tr style=\"text-align: right;\">\n",
       "      <th></th>\n",
       "      <th>STATION</th>\n",
       "      <th>TIME</th>\n",
       "      <th>DIR</th>\n",
       "      <th>SPEED</th>\n",
       "      <th>GUST</th>\n",
       "      <th>TEMP_F</th>\n",
       "      <th>MAX_F</th>\n",
       "      <th>MIN_F</th>\n",
       "    </tr>\n",
       "  </thead>\n",
       "  <tbody>\n",
       "    <tr>\n",
       "      <th>0</th>\n",
       "      <td>29440</td>\n",
       "      <td>190601010600</td>\n",
       "      <td>90.0</td>\n",
       "      <td>7.0</td>\n",
       "      <td>NaN</td>\n",
       "      <td>27.0</td>\n",
       "      <td>NaN</td>\n",
       "      <td>NaN</td>\n",
       "    </tr>\n",
       "    <tr>\n",
       "      <th>1</th>\n",
       "      <td>29440</td>\n",
       "      <td>190601011300</td>\n",
       "      <td>NaN</td>\n",
       "      <td>0.0</td>\n",
       "      <td>NaN</td>\n",
       "      <td>27.0</td>\n",
       "      <td>NaN</td>\n",
       "      <td>NaN</td>\n",
       "    </tr>\n",
       "    <tr>\n",
       "      <th>2</th>\n",
       "      <td>29440</td>\n",
       "      <td>190601012000</td>\n",
       "      <td>NaN</td>\n",
       "      <td>0.0</td>\n",
       "      <td>NaN</td>\n",
       "      <td>25.0</td>\n",
       "      <td>NaN</td>\n",
       "      <td>NaN</td>\n",
       "    </tr>\n",
       "  </tbody>\n",
       "</table>\n",
       "</div>"
      ],
      "text/plain": [
       "   STATION          TIME   DIR  SPEED  GUST  TEMP_F  MAX_F  MIN_F\n",
       "0    29440  190601010600  90.0    7.0   NaN    27.0    NaN    NaN\n",
       "1    29440  190601011300   NaN    0.0   NaN    27.0    NaN    NaN\n",
       "2    29440  190601012000   NaN    0.0   NaN    25.0    NaN    NaN"
      ]
     },
     "execution_count": 18,
     "metadata": {},
     "output_type": "execute_result"
    }
   ],
   "source": [
    "dfc = data.copy();\n",
    "dfc.head(3)"
   ]
  },
  {
   "cell_type": "code",
   "execution_count": 19,
   "id": "dcf5e67a-c1d0-446a-9368-c1f8a4b6b5f9",
   "metadata": {},
   "outputs": [
    {
     "data": {
      "text/html": [
       "<div>\n",
       "<style scoped>\n",
       "    .dataframe tbody tr th:only-of-type {\n",
       "        vertical-align: middle;\n",
       "    }\n",
       "\n",
       "    .dataframe tbody tr th {\n",
       "        vertical-align: top;\n",
       "    }\n",
       "\n",
       "    .dataframe thead th {\n",
       "        text-align: right;\n",
       "    }\n",
       "</style>\n",
       "<table border=\"1\" class=\"dataframe\">\n",
       "  <thead>\n",
       "    <tr style=\"text-align: right;\">\n",
       "      <th></th>\n",
       "      <th>STATION</th>\n",
       "      <th>TIME</th>\n",
       "      <th>DIR</th>\n",
       "      <th>SPEED</th>\n",
       "      <th>GUST</th>\n",
       "      <th>TEMP_F</th>\n",
       "      <th>MAX_F</th>\n",
       "      <th>MIN_F</th>\n",
       "      <th>TEMP_C</th>\n",
       "    </tr>\n",
       "  </thead>\n",
       "  <tbody>\n",
       "    <tr>\n",
       "      <th>0</th>\n",
       "      <td>29440</td>\n",
       "      <td>190601010600</td>\n",
       "      <td>90.0</td>\n",
       "      <td>7.0</td>\n",
       "      <td>NaN</td>\n",
       "      <td>27.0</td>\n",
       "      <td>NaN</td>\n",
       "      <td>NaN</td>\n",
       "      <td>-2.777778</td>\n",
       "    </tr>\n",
       "    <tr>\n",
       "      <th>1</th>\n",
       "      <td>29440</td>\n",
       "      <td>190601011300</td>\n",
       "      <td>NaN</td>\n",
       "      <td>0.0</td>\n",
       "      <td>NaN</td>\n",
       "      <td>27.0</td>\n",
       "      <td>NaN</td>\n",
       "      <td>NaN</td>\n",
       "      <td>-2.777778</td>\n",
       "    </tr>\n",
       "    <tr>\n",
       "      <th>2</th>\n",
       "      <td>29440</td>\n",
       "      <td>190601012000</td>\n",
       "      <td>NaN</td>\n",
       "      <td>0.0</td>\n",
       "      <td>NaN</td>\n",
       "      <td>25.0</td>\n",
       "      <td>NaN</td>\n",
       "      <td>NaN</td>\n",
       "      <td>-3.888889</td>\n",
       "    </tr>\n",
       "  </tbody>\n",
       "</table>\n",
       "</div>"
      ],
      "text/plain": [
       "   STATION          TIME   DIR  SPEED  GUST  TEMP_F  MAX_F  MIN_F    TEMP_C\n",
       "0    29440  190601010600  90.0    7.0   NaN    27.0    NaN    NaN -2.777778\n",
       "1    29440  190601011300   NaN    0.0   NaN    27.0    NaN    NaN -2.777778\n",
       "2    29440  190601012000   NaN    0.0   NaN    25.0    NaN    NaN -3.888889"
      ]
     },
     "execution_count": 19,
     "metadata": {},
     "output_type": "execute_result"
    }
   ],
   "source": [
    "dfc[\"TEMP_C\"] = dfc[\"TEMP_F\"].apply(\n",
    "    lambda x: (x - 32) / 1.8 )\n",
    "dfc.head(3)"
   ]
  },
  {
   "cell_type": "markdown",
   "id": "92ea3edb-450d-492b-9f4c-b393afa620b9",
   "metadata": {},
   "source": [
    "#### lambda (to multiple columns)"
   ]
  },
  {
   "cell_type": "code",
   "execution_count": 20,
   "id": "e223b152-d315-4672-9201-e68c9b8c0059",
   "metadata": {},
   "outputs": [
    {
     "data": {
      "text/html": [
       "<div>\n",
       "<style scoped>\n",
       "    .dataframe tbody tr th:only-of-type {\n",
       "        vertical-align: middle;\n",
       "    }\n",
       "\n",
       "    .dataframe tbody tr th {\n",
       "        vertical-align: top;\n",
       "    }\n",
       "\n",
       "    .dataframe thead th {\n",
       "        text-align: right;\n",
       "    }\n",
       "</style>\n",
       "<table border=\"1\" class=\"dataframe\">\n",
       "  <thead>\n",
       "    <tr style=\"text-align: right;\">\n",
       "      <th></th>\n",
       "      <th>STATION</th>\n",
       "      <th>TIME</th>\n",
       "      <th>DIR</th>\n",
       "      <th>SPEED</th>\n",
       "      <th>GUST</th>\n",
       "      <th>TEMP_F</th>\n",
       "      <th>MAX_F</th>\n",
       "      <th>MIN_F</th>\n",
       "      <th>TEMP_C</th>\n",
       "      <th>MIN_C</th>\n",
       "      <th>MAX_C</th>\n",
       "    </tr>\n",
       "  </thead>\n",
       "  <tbody>\n",
       "    <tr>\n",
       "      <th>0</th>\n",
       "      <td>29440</td>\n",
       "      <td>190601010600</td>\n",
       "      <td>90.0</td>\n",
       "      <td>7.0</td>\n",
       "      <td>NaN</td>\n",
       "      <td>27.0</td>\n",
       "      <td>NaN</td>\n",
       "      <td>NaN</td>\n",
       "      <td>-2.777778</td>\n",
       "      <td>NaN</td>\n",
       "      <td>NaN</td>\n",
       "    </tr>\n",
       "    <tr>\n",
       "      <th>1</th>\n",
       "      <td>29440</td>\n",
       "      <td>190601011300</td>\n",
       "      <td>NaN</td>\n",
       "      <td>0.0</td>\n",
       "      <td>NaN</td>\n",
       "      <td>27.0</td>\n",
       "      <td>NaN</td>\n",
       "      <td>NaN</td>\n",
       "      <td>-2.777778</td>\n",
       "      <td>NaN</td>\n",
       "      <td>NaN</td>\n",
       "    </tr>\n",
       "    <tr>\n",
       "      <th>2</th>\n",
       "      <td>29440</td>\n",
       "      <td>190601012000</td>\n",
       "      <td>NaN</td>\n",
       "      <td>0.0</td>\n",
       "      <td>NaN</td>\n",
       "      <td>25.0</td>\n",
       "      <td>NaN</td>\n",
       "      <td>NaN</td>\n",
       "      <td>-3.888889</td>\n",
       "      <td>NaN</td>\n",
       "      <td>NaN</td>\n",
       "    </tr>\n",
       "  </tbody>\n",
       "</table>\n",
       "</div>"
      ],
      "text/plain": [
       "   STATION          TIME   DIR  SPEED  GUST  TEMP_F  MAX_F  MIN_F    TEMP_C  \\\n",
       "0    29440  190601010600  90.0    7.0   NaN    27.0    NaN    NaN -2.777778   \n",
       "1    29440  190601011300   NaN    0.0   NaN    27.0    NaN    NaN -2.777778   \n",
       "2    29440  190601012000   NaN    0.0   NaN    25.0    NaN    NaN -3.888889   \n",
       "\n",
       "   MIN_C  MAX_C  \n",
       "0    NaN    NaN  \n",
       "1    NaN    NaN  \n",
       "2    NaN    NaN  "
      ]
     },
     "execution_count": 20,
     "metadata": {},
     "output_type": "execute_result"
    }
   ],
   "source": [
    "dfc[[\"TEMP_C\", \"MIN_C\", \"MAX_C\"]] = dfc[[\"TEMP_F\", \"MIN_F\", \"MAX_F\"]].apply(\n",
    "    lambda x: (x - 32) / 1.8 )\n",
    "dfc.head(3)"
   ]
  },
  {
   "cell_type": "markdown",
   "id": "4e62fd77-33a6-459f-9afa-1e76754e9d17",
   "metadata": {
    "toc-hr-collapsed": true
   },
   "source": [
    "### datetime"
   ]
  },
  {
   "cell_type": "markdown",
   "id": "60337650-5e45-4507-81d5-4f31e6c8f45b",
   "metadata": {},
   "source": [
    "#### option 1: astype(str).str.slice(start=, stop=)"
   ]
  },
  {
   "cell_type": "code",
   "execution_count": 21,
   "id": "c2c92c41-fd17-49f1-ac0b-cf46b1dd7332",
   "metadata": {},
   "outputs": [
    {
     "data": {
      "text/html": [
       "<div>\n",
       "<style scoped>\n",
       "    .dataframe tbody tr th:only-of-type {\n",
       "        vertical-align: middle;\n",
       "    }\n",
       "\n",
       "    .dataframe tbody tr th {\n",
       "        vertical-align: top;\n",
       "    }\n",
       "\n",
       "    .dataframe thead th {\n",
       "        text-align: right;\n",
       "    }\n",
       "</style>\n",
       "<table border=\"1\" class=\"dataframe\">\n",
       "  <thead>\n",
       "    <tr style=\"text-align: right;\">\n",
       "      <th></th>\n",
       "      <th>STATION</th>\n",
       "      <th>TIME</th>\n",
       "      <th>DIR</th>\n",
       "      <th>SPEED</th>\n",
       "      <th>GUST</th>\n",
       "      <th>TEMP_F</th>\n",
       "      <th>MAX_F</th>\n",
       "      <th>MIN_F</th>\n",
       "      <th>TEMP_C</th>\n",
       "      <th>MIN_C</th>\n",
       "      <th>MAX_C</th>\n",
       "    </tr>\n",
       "  </thead>\n",
       "  <tbody>\n",
       "    <tr>\n",
       "      <th>0</th>\n",
       "      <td>29440</td>\n",
       "      <td>190601010600</td>\n",
       "      <td>90.0</td>\n",
       "      <td>7.0</td>\n",
       "      <td>NaN</td>\n",
       "      <td>27.0</td>\n",
       "      <td>NaN</td>\n",
       "      <td>NaN</td>\n",
       "      <td>-2.777778</td>\n",
       "      <td>NaN</td>\n",
       "      <td>NaN</td>\n",
       "    </tr>\n",
       "    <tr>\n",
       "      <th>1</th>\n",
       "      <td>29440</td>\n",
       "      <td>190601011300</td>\n",
       "      <td>NaN</td>\n",
       "      <td>0.0</td>\n",
       "      <td>NaN</td>\n",
       "      <td>27.0</td>\n",
       "      <td>NaN</td>\n",
       "      <td>NaN</td>\n",
       "      <td>-2.777778</td>\n",
       "      <td>NaN</td>\n",
       "      <td>NaN</td>\n",
       "    </tr>\n",
       "    <tr>\n",
       "      <th>2</th>\n",
       "      <td>29440</td>\n",
       "      <td>190601012000</td>\n",
       "      <td>NaN</td>\n",
       "      <td>0.0</td>\n",
       "      <td>NaN</td>\n",
       "      <td>25.0</td>\n",
       "      <td>NaN</td>\n",
       "      <td>NaN</td>\n",
       "      <td>-3.888889</td>\n",
       "      <td>NaN</td>\n",
       "      <td>NaN</td>\n",
       "    </tr>\n",
       "  </tbody>\n",
       "</table>\n",
       "</div>"
      ],
      "text/plain": [
       "   STATION          TIME   DIR  SPEED  GUST  TEMP_F  MAX_F  MIN_F    TEMP_C  \\\n",
       "0    29440  190601010600  90.0    7.0   NaN    27.0    NaN    NaN -2.777778   \n",
       "1    29440  190601011300   NaN    0.0   NaN    27.0    NaN    NaN -2.777778   \n",
       "2    29440  190601012000   NaN    0.0   NaN    25.0    NaN    NaN -3.888889   \n",
       "\n",
       "   MIN_C  MAX_C  \n",
       "0    NaN    NaN  \n",
       "1    NaN    NaN  \n",
       "2    NaN    NaN  "
      ]
     },
     "execution_count": 21,
     "metadata": {},
     "output_type": "execute_result"
    }
   ],
   "source": [
    "dfdt1 = dfc.copy()\n",
    "dfdt1.head(3)"
   ]
  },
  {
   "cell_type": "code",
   "execution_count": 22,
   "id": "70091a11-3cb2-45cb-9412-796c44ab7f39",
   "metadata": {},
   "outputs": [
    {
     "data": {
      "text/html": [
       "<div>\n",
       "<style scoped>\n",
       "    .dataframe tbody tr th:only-of-type {\n",
       "        vertical-align: middle;\n",
       "    }\n",
       "\n",
       "    .dataframe tbody tr th {\n",
       "        vertical-align: top;\n",
       "    }\n",
       "\n",
       "    .dataframe thead th {\n",
       "        text-align: right;\n",
       "    }\n",
       "</style>\n",
       "<table border=\"1\" class=\"dataframe\">\n",
       "  <thead>\n",
       "    <tr style=\"text-align: right;\">\n",
       "      <th></th>\n",
       "      <th>STATION</th>\n",
       "      <th>TIME</th>\n",
       "      <th>DIR</th>\n",
       "      <th>SPEED</th>\n",
       "      <th>GUST</th>\n",
       "      <th>TEMP_F</th>\n",
       "      <th>MAX_F</th>\n",
       "      <th>MIN_F</th>\n",
       "      <th>TEMP_C</th>\n",
       "      <th>MIN_C</th>\n",
       "      <th>MAX_C</th>\n",
       "      <th>YEAR_MONTH</th>\n",
       "      <th>YEAR</th>\n",
       "      <th>MONTH</th>\n",
       "    </tr>\n",
       "  </thead>\n",
       "  <tbody>\n",
       "    <tr>\n",
       "      <th>0</th>\n",
       "      <td>29440</td>\n",
       "      <td>190601010600</td>\n",
       "      <td>90.0</td>\n",
       "      <td>7.0</td>\n",
       "      <td>NaN</td>\n",
       "      <td>27.0</td>\n",
       "      <td>NaN</td>\n",
       "      <td>NaN</td>\n",
       "      <td>-2.777778</td>\n",
       "      <td>NaN</td>\n",
       "      <td>NaN</td>\n",
       "      <td>190601</td>\n",
       "      <td>1906</td>\n",
       "      <td>01</td>\n",
       "    </tr>\n",
       "    <tr>\n",
       "      <th>1</th>\n",
       "      <td>29440</td>\n",
       "      <td>190601011300</td>\n",
       "      <td>NaN</td>\n",
       "      <td>0.0</td>\n",
       "      <td>NaN</td>\n",
       "      <td>27.0</td>\n",
       "      <td>NaN</td>\n",
       "      <td>NaN</td>\n",
       "      <td>-2.777778</td>\n",
       "      <td>NaN</td>\n",
       "      <td>NaN</td>\n",
       "      <td>190601</td>\n",
       "      <td>1906</td>\n",
       "      <td>01</td>\n",
       "    </tr>\n",
       "    <tr>\n",
       "      <th>2</th>\n",
       "      <td>29440</td>\n",
       "      <td>190601012000</td>\n",
       "      <td>NaN</td>\n",
       "      <td>0.0</td>\n",
       "      <td>NaN</td>\n",
       "      <td>25.0</td>\n",
       "      <td>NaN</td>\n",
       "      <td>NaN</td>\n",
       "      <td>-3.888889</td>\n",
       "      <td>NaN</td>\n",
       "      <td>NaN</td>\n",
       "      <td>190601</td>\n",
       "      <td>1906</td>\n",
       "      <td>01</td>\n",
       "    </tr>\n",
       "  </tbody>\n",
       "</table>\n",
       "</div>"
      ],
      "text/plain": [
       "   STATION          TIME   DIR  SPEED  GUST  TEMP_F  MAX_F  MIN_F    TEMP_C  \\\n",
       "0    29440  190601010600  90.0    7.0   NaN    27.0    NaN    NaN -2.777778   \n",
       "1    29440  190601011300   NaN    0.0   NaN    27.0    NaN    NaN -2.777778   \n",
       "2    29440  190601012000   NaN    0.0   NaN    25.0    NaN    NaN -3.888889   \n",
       "\n",
       "   MIN_C  MAX_C YEAR_MONTH  YEAR MONTH  \n",
       "0    NaN    NaN     190601  1906    01  \n",
       "1    NaN    NaN     190601  1906    01  \n",
       "2    NaN    NaN     190601  1906    01  "
      ]
     },
     "execution_count": 22,
     "metadata": {},
     "output_type": "execute_result"
    }
   ],
   "source": [
    "dfdt1[\"YEAR_MONTH\"] = dfdt1[\"TIME\"].astype(str).str.slice(start=0, stop=6)\n",
    "dfdt1[\"YEAR\"] = dfdt1[\"TIME\"].astype(str).str.slice(start=0, stop=4)\n",
    "dfdt1[\"MONTH\"] = dfdt1[\"TIME\"].astype(str).str.slice(start=4, stop=6)\n",
    "dfdt1.head(3)"
   ]
  },
  {
   "cell_type": "code",
   "execution_count": 23,
   "id": "108c6c2f-d4a6-4fab-a714-48fe0fa17185",
   "metadata": {},
   "outputs": [
    {
     "name": "stdout",
     "output_type": "stream",
     "text": [
      "51\n",
      "12\n",
      "601\n"
     ]
    }
   ],
   "source": [
    "print(dfdt1[\"YEAR\"].nunique())\n",
    "print(dfdt1[\"MONTH\"].nunique())\n",
    "print(dfdt1[\"YEAR_MONTH\"].nunique())"
   ]
  },
  {
   "cell_type": "markdown",
   "id": "e5239fa5-2252-4420-b054-24d6303ff4b3",
   "metadata": {},
   "source": [
    "#### option 2 pd.to_datetime()"
   ]
  },
  {
   "cell_type": "code",
   "execution_count": 24,
   "id": "70d33e57-6e87-44a6-938e-3ed9712d0b48",
   "metadata": {},
   "outputs": [
    {
     "data": {
      "text/html": [
       "<div>\n",
       "<style scoped>\n",
       "    .dataframe tbody tr th:only-of-type {\n",
       "        vertical-align: middle;\n",
       "    }\n",
       "\n",
       "    .dataframe tbody tr th {\n",
       "        vertical-align: top;\n",
       "    }\n",
       "\n",
       "    .dataframe thead th {\n",
       "        text-align: right;\n",
       "    }\n",
       "</style>\n",
       "<table border=\"1\" class=\"dataframe\">\n",
       "  <thead>\n",
       "    <tr style=\"text-align: right;\">\n",
       "      <th></th>\n",
       "      <th>STATION</th>\n",
       "      <th>TIME</th>\n",
       "      <th>DIR</th>\n",
       "      <th>SPEED</th>\n",
       "      <th>GUST</th>\n",
       "      <th>TEMP_F</th>\n",
       "      <th>MAX_F</th>\n",
       "      <th>MIN_F</th>\n",
       "      <th>TEMP_C</th>\n",
       "      <th>MIN_C</th>\n",
       "      <th>MAX_C</th>\n",
       "    </tr>\n",
       "  </thead>\n",
       "  <tbody>\n",
       "    <tr>\n",
       "      <th>0</th>\n",
       "      <td>29440</td>\n",
       "      <td>190601010600</td>\n",
       "      <td>90.0</td>\n",
       "      <td>7.0</td>\n",
       "      <td>NaN</td>\n",
       "      <td>27.0</td>\n",
       "      <td>NaN</td>\n",
       "      <td>NaN</td>\n",
       "      <td>-2.777778</td>\n",
       "      <td>NaN</td>\n",
       "      <td>NaN</td>\n",
       "    </tr>\n",
       "    <tr>\n",
       "      <th>1</th>\n",
       "      <td>29440</td>\n",
       "      <td>190601011300</td>\n",
       "      <td>NaN</td>\n",
       "      <td>0.0</td>\n",
       "      <td>NaN</td>\n",
       "      <td>27.0</td>\n",
       "      <td>NaN</td>\n",
       "      <td>NaN</td>\n",
       "      <td>-2.777778</td>\n",
       "      <td>NaN</td>\n",
       "      <td>NaN</td>\n",
       "    </tr>\n",
       "    <tr>\n",
       "      <th>2</th>\n",
       "      <td>29440</td>\n",
       "      <td>190601012000</td>\n",
       "      <td>NaN</td>\n",
       "      <td>0.0</td>\n",
       "      <td>NaN</td>\n",
       "      <td>25.0</td>\n",
       "      <td>NaN</td>\n",
       "      <td>NaN</td>\n",
       "      <td>-3.888889</td>\n",
       "      <td>NaN</td>\n",
       "      <td>NaN</td>\n",
       "    </tr>\n",
       "  </tbody>\n",
       "</table>\n",
       "</div>"
      ],
      "text/plain": [
       "   STATION          TIME   DIR  SPEED  GUST  TEMP_F  MAX_F  MIN_F    TEMP_C  \\\n",
       "0    29440  190601010600  90.0    7.0   NaN    27.0    NaN    NaN -2.777778   \n",
       "1    29440  190601011300   NaN    0.0   NaN    27.0    NaN    NaN -2.777778   \n",
       "2    29440  190601012000   NaN    0.0   NaN    25.0    NaN    NaN -3.888889   \n",
       "\n",
       "   MIN_C  MAX_C  \n",
       "0    NaN    NaN  \n",
       "1    NaN    NaN  \n",
       "2    NaN    NaN  "
      ]
     },
     "execution_count": 24,
     "metadata": {},
     "output_type": "execute_result"
    }
   ],
   "source": [
    "dfdt2 = dfc.copy()\n",
    "dfdt2.head(3)"
   ]
  },
  {
   "cell_type": "markdown",
   "id": "6f069261-4e5b-4496-a996-ca25bbd218b4",
   "metadata": {},
   "source": [
    "#### .astype(str), format=, exact=False  \n",
    "- exact will drop all non-specifed (drops days, hours, mins, secs)"
   ]
  },
  {
   "cell_type": "code",
   "execution_count": 25,
   "id": "3787e619-0ebe-4bc7-95ff-9a195e468aa6",
   "metadata": {},
   "outputs": [
    {
     "data": {
      "text/html": [
       "<div>\n",
       "<style scoped>\n",
       "    .dataframe tbody tr th:only-of-type {\n",
       "        vertical-align: middle;\n",
       "    }\n",
       "\n",
       "    .dataframe tbody tr th {\n",
       "        vertical-align: top;\n",
       "    }\n",
       "\n",
       "    .dataframe thead th {\n",
       "        text-align: right;\n",
       "    }\n",
       "</style>\n",
       "<table border=\"1\" class=\"dataframe\">\n",
       "  <thead>\n",
       "    <tr style=\"text-align: right;\">\n",
       "      <th></th>\n",
       "      <th>STATION</th>\n",
       "      <th>TIME</th>\n",
       "      <th>DIR</th>\n",
       "      <th>SPEED</th>\n",
       "      <th>GUST</th>\n",
       "      <th>TEMP_F</th>\n",
       "      <th>MAX_F</th>\n",
       "      <th>MIN_F</th>\n",
       "      <th>TEMP_C</th>\n",
       "      <th>MIN_C</th>\n",
       "      <th>MAX_C</th>\n",
       "      <th>YEAR_MONTH_DT</th>\n",
       "    </tr>\n",
       "  </thead>\n",
       "  <tbody>\n",
       "    <tr>\n",
       "      <th>0</th>\n",
       "      <td>29440</td>\n",
       "      <td>190601010600</td>\n",
       "      <td>90.0</td>\n",
       "      <td>7.0</td>\n",
       "      <td>NaN</td>\n",
       "      <td>27.0</td>\n",
       "      <td>NaN</td>\n",
       "      <td>NaN</td>\n",
       "      <td>-2.777778</td>\n",
       "      <td>NaN</td>\n",
       "      <td>NaN</td>\n",
       "      <td>1906-01-01</td>\n",
       "    </tr>\n",
       "    <tr>\n",
       "      <th>1</th>\n",
       "      <td>29440</td>\n",
       "      <td>190601011300</td>\n",
       "      <td>NaN</td>\n",
       "      <td>0.0</td>\n",
       "      <td>NaN</td>\n",
       "      <td>27.0</td>\n",
       "      <td>NaN</td>\n",
       "      <td>NaN</td>\n",
       "      <td>-2.777778</td>\n",
       "      <td>NaN</td>\n",
       "      <td>NaN</td>\n",
       "      <td>1906-01-01</td>\n",
       "    </tr>\n",
       "    <tr>\n",
       "      <th>2</th>\n",
       "      <td>29440</td>\n",
       "      <td>190601012000</td>\n",
       "      <td>NaN</td>\n",
       "      <td>0.0</td>\n",
       "      <td>NaN</td>\n",
       "      <td>25.0</td>\n",
       "      <td>NaN</td>\n",
       "      <td>NaN</td>\n",
       "      <td>-3.888889</td>\n",
       "      <td>NaN</td>\n",
       "      <td>NaN</td>\n",
       "      <td>1906-01-01</td>\n",
       "    </tr>\n",
       "  </tbody>\n",
       "</table>\n",
       "</div>"
      ],
      "text/plain": [
       "   STATION          TIME   DIR  SPEED  GUST  TEMP_F  MAX_F  MIN_F    TEMP_C  \\\n",
       "0    29440  190601010600  90.0    7.0   NaN    27.0    NaN    NaN -2.777778   \n",
       "1    29440  190601011300   NaN    0.0   NaN    27.0    NaN    NaN -2.777778   \n",
       "2    29440  190601012000   NaN    0.0   NaN    25.0    NaN    NaN -3.888889   \n",
       "\n",
       "   MIN_C  MAX_C YEAR_MONTH_DT  \n",
       "0    NaN    NaN    1906-01-01  \n",
       "1    NaN    NaN    1906-01-01  \n",
       "2    NaN    NaN    1906-01-01  "
      ]
     },
     "execution_count": 25,
     "metadata": {},
     "output_type": "execute_result"
    }
   ],
   "source": [
    "dfdt2[\"YEAR_MONTH_DT\"] = pd.to_datetime(dfdt2[\"TIME\"].astype(str), format=\"%Y%m\", exact=False)\n",
    "dfdt2.head(3)"
   ]
  },
  {
   "cell_type": "markdown",
   "id": "c297d757-06fa-4443-a6ad-09504414fd67",
   "metadata": {},
   "source": [
    "#### set_index"
   ]
  },
  {
   "cell_type": "code",
   "execution_count": 26,
   "id": "f56504fe-13d0-454b-bb58-bdf31067ba32",
   "metadata": {},
   "outputs": [
    {
     "data": {
      "text/html": [
       "<div>\n",
       "<style scoped>\n",
       "    .dataframe tbody tr th:only-of-type {\n",
       "        vertical-align: middle;\n",
       "    }\n",
       "\n",
       "    .dataframe tbody tr th {\n",
       "        vertical-align: top;\n",
       "    }\n",
       "\n",
       "    .dataframe thead th {\n",
       "        text-align: right;\n",
       "    }\n",
       "</style>\n",
       "<table border=\"1\" class=\"dataframe\">\n",
       "  <thead>\n",
       "    <tr style=\"text-align: right;\">\n",
       "      <th></th>\n",
       "      <th>STATION</th>\n",
       "      <th>TIME</th>\n",
       "      <th>DIR</th>\n",
       "      <th>SPEED</th>\n",
       "      <th>GUST</th>\n",
       "      <th>TEMP_F</th>\n",
       "      <th>MAX_F</th>\n",
       "      <th>MIN_F</th>\n",
       "      <th>TEMP_C</th>\n",
       "      <th>MIN_C</th>\n",
       "      <th>MAX_C</th>\n",
       "      <th>YEAR_MONTH_DT</th>\n",
       "    </tr>\n",
       "  </thead>\n",
       "  <tbody>\n",
       "    <tr>\n",
       "      <th>0</th>\n",
       "      <td>29440</td>\n",
       "      <td>190601010600</td>\n",
       "      <td>90.0</td>\n",
       "      <td>7.0</td>\n",
       "      <td>NaN</td>\n",
       "      <td>27.0</td>\n",
       "      <td>NaN</td>\n",
       "      <td>NaN</td>\n",
       "      <td>-2.777778</td>\n",
       "      <td>NaN</td>\n",
       "      <td>NaN</td>\n",
       "      <td>1906-01-01</td>\n",
       "    </tr>\n",
       "    <tr>\n",
       "      <th>1</th>\n",
       "      <td>29440</td>\n",
       "      <td>190601011300</td>\n",
       "      <td>NaN</td>\n",
       "      <td>0.0</td>\n",
       "      <td>NaN</td>\n",
       "      <td>27.0</td>\n",
       "      <td>NaN</td>\n",
       "      <td>NaN</td>\n",
       "      <td>-2.777778</td>\n",
       "      <td>NaN</td>\n",
       "      <td>NaN</td>\n",
       "      <td>1906-01-01</td>\n",
       "    </tr>\n",
       "    <tr>\n",
       "      <th>2</th>\n",
       "      <td>29440</td>\n",
       "      <td>190601012000</td>\n",
       "      <td>NaN</td>\n",
       "      <td>0.0</td>\n",
       "      <td>NaN</td>\n",
       "      <td>25.0</td>\n",
       "      <td>NaN</td>\n",
       "      <td>NaN</td>\n",
       "      <td>-3.888889</td>\n",
       "      <td>NaN</td>\n",
       "      <td>NaN</td>\n",
       "      <td>1906-01-01</td>\n",
       "    </tr>\n",
       "  </tbody>\n",
       "</table>\n",
       "</div>"
      ],
      "text/plain": [
       "   STATION          TIME   DIR  SPEED  GUST  TEMP_F  MAX_F  MIN_F    TEMP_C  \\\n",
       "0    29440  190601010600  90.0    7.0   NaN    27.0    NaN    NaN -2.777778   \n",
       "1    29440  190601011300   NaN    0.0   NaN    27.0    NaN    NaN -2.777778   \n",
       "2    29440  190601012000   NaN    0.0   NaN    25.0    NaN    NaN -3.888889   \n",
       "\n",
       "   MIN_C  MAX_C YEAR_MONTH_DT  \n",
       "0    NaN    NaN    1906-01-01  \n",
       "1    NaN    NaN    1906-01-01  \n",
       "2    NaN    NaN    1906-01-01  "
      ]
     },
     "execution_count": 26,
     "metadata": {},
     "output_type": "execute_result"
    }
   ],
   "source": [
    "dfdt2.set_index(\"YEAR_MONTH_DT\",drop=True)\n",
    "dfdt2.head(3)"
   ]
  },
  {
   "cell_type": "markdown",
   "id": "4ee70b68-9814-4606-a1e7-0e6893409c2e",
   "metadata": {
    "tags": [],
    "toc-hr-collapsed": true
   },
   "source": [
    "<a id='pd-ops-group'></a>\n",
    "## Group"
   ]
  },
  {
   "cell_type": "markdown",
   "id": "6a5b8212-258c-440d-ae8d-3c4abc8f0c82",
   "metadata": {},
   "source": [
    "[Return to Start of Notebook](#pd-ops)  "
   ]
  },
  {
   "cell_type": "markdown",
   "id": "66e39439-7579-4376-a568-eccebd9e4c41",
   "metadata": {},
   "source": [
    "The pd.concat function accepts a list of tables which it combines:  \n",
    "- by row when using axis=0 (this is the default)  \n",
    "- by column when using axis=1"
   ]
  },
  {
   "cell_type": "markdown",
   "id": "f83329f5-fbe2-4a89-8086-8454de41bd82",
   "metadata": {},
   "source": [
    "### .groupby"
   ]
  },
  {
   "cell_type": "code",
   "execution_count": 27,
   "id": "fc6dbdaa-e316-4c75-8efa-8132d43014f0",
   "metadata": {},
   "outputs": [
    {
     "name": "stdout",
     "output_type": "stream",
     "text": [
      "757983\n",
      "601\n"
     ]
    }
   ],
   "source": [
    "print(len(dfdt1))\n",
    "print(dfdt1[\"YEAR_MONTH\"].nunique())"
   ]
  },
  {
   "cell_type": "code",
   "execution_count": 28,
   "id": "6c5ea263-3841-40b1-9c0f-00212e99b981",
   "metadata": {},
   "outputs": [
    {
     "name": "stdout",
     "output_type": "stream",
     "text": [
      "<class 'pandas.core.groupby.generic.DataFrameGroupBy'>\n",
      "<class 'dict_keys'>\n",
      "601\n"
     ]
    }
   ],
   "source": [
    "grouped = dfdt1.groupby(\"YEAR_MONTH\")\n",
    "\n",
    "print(type(grouped))\n",
    "print(type(grouped.groups.keys()))\n",
    "print(len(grouped))"
   ]
  },
  {
   "cell_type": "markdown",
   "id": "b1ff4c9b-1689-4b28-8708-2275519533a6",
   "metadata": {},
   "source": [
    "### .get_group()"
   ]
  },
  {
   "cell_type": "code",
   "execution_count": 29,
   "id": "7ee1e59c-fb4e-44e8-9578-9841940963cf",
   "metadata": {},
   "outputs": [
    {
     "name": "stdout",
     "output_type": "stream",
     "text": [
      "<class 'pandas.core.frame.DataFrame'>\n"
     ]
    },
    {
     "data": {
      "text/html": [
       "<div>\n",
       "<style scoped>\n",
       "    .dataframe tbody tr th:only-of-type {\n",
       "        vertical-align: middle;\n",
       "    }\n",
       "\n",
       "    .dataframe tbody tr th {\n",
       "        vertical-align: top;\n",
       "    }\n",
       "\n",
       "    .dataframe thead th {\n",
       "        text-align: right;\n",
       "    }\n",
       "</style>\n",
       "<table border=\"1\" class=\"dataframe\">\n",
       "  <thead>\n",
       "    <tr style=\"text-align: right;\">\n",
       "      <th></th>\n",
       "      <th>STATION</th>\n",
       "      <th>TIME</th>\n",
       "      <th>DIR</th>\n",
       "      <th>SPEED</th>\n",
       "      <th>GUST</th>\n",
       "      <th>TEMP_F</th>\n",
       "      <th>MAX_F</th>\n",
       "      <th>MIN_F</th>\n",
       "      <th>TEMP_C</th>\n",
       "      <th>MIN_C</th>\n",
       "      <th>MAX_C</th>\n",
       "      <th>YEAR_MONTH</th>\n",
       "      <th>YEAR</th>\n",
       "      <th>MONTH</th>\n",
       "    </tr>\n",
       "  </thead>\n",
       "  <tbody>\n",
       "    <tr>\n",
       "      <th>0</th>\n",
       "      <td>29440</td>\n",
       "      <td>190601010600</td>\n",
       "      <td>90.0</td>\n",
       "      <td>7.0</td>\n",
       "      <td>NaN</td>\n",
       "      <td>27.0</td>\n",
       "      <td>NaN</td>\n",
       "      <td>NaN</td>\n",
       "      <td>-2.777778</td>\n",
       "      <td>NaN</td>\n",
       "      <td>NaN</td>\n",
       "      <td>190601</td>\n",
       "      <td>1906</td>\n",
       "      <td>01</td>\n",
       "    </tr>\n",
       "    <tr>\n",
       "      <th>1</th>\n",
       "      <td>29440</td>\n",
       "      <td>190601011300</td>\n",
       "      <td>NaN</td>\n",
       "      <td>0.0</td>\n",
       "      <td>NaN</td>\n",
       "      <td>27.0</td>\n",
       "      <td>NaN</td>\n",
       "      <td>NaN</td>\n",
       "      <td>-2.777778</td>\n",
       "      <td>NaN</td>\n",
       "      <td>NaN</td>\n",
       "      <td>190601</td>\n",
       "      <td>1906</td>\n",
       "      <td>01</td>\n",
       "    </tr>\n",
       "    <tr>\n",
       "      <th>2</th>\n",
       "      <td>29440</td>\n",
       "      <td>190601012000</td>\n",
       "      <td>NaN</td>\n",
       "      <td>0.0</td>\n",
       "      <td>NaN</td>\n",
       "      <td>25.0</td>\n",
       "      <td>NaN</td>\n",
       "      <td>NaN</td>\n",
       "      <td>-3.888889</td>\n",
       "      <td>NaN</td>\n",
       "      <td>NaN</td>\n",
       "      <td>190601</td>\n",
       "      <td>1906</td>\n",
       "      <td>01</td>\n",
       "    </tr>\n",
       "  </tbody>\n",
       "</table>\n",
       "</div>"
      ],
      "text/plain": [
       "   STATION          TIME   DIR  SPEED  GUST  TEMP_F  MAX_F  MIN_F    TEMP_C  \\\n",
       "0    29440  190601010600  90.0    7.0   NaN    27.0    NaN    NaN -2.777778   \n",
       "1    29440  190601011300   NaN    0.0   NaN    27.0    NaN    NaN -2.777778   \n",
       "2    29440  190601012000   NaN    0.0   NaN    25.0    NaN    NaN -3.888889   \n",
       "\n",
       "   MIN_C  MAX_C YEAR_MONTH  YEAR MONTH  \n",
       "0    NaN    NaN     190601  1906    01  \n",
       "1    NaN    NaN     190601  1906    01  \n",
       "2    NaN    NaN     190601  1906    01  "
      ]
     },
     "execution_count": 29,
     "metadata": {},
     "output_type": "execute_result"
    }
   ],
   "source": [
    "key = \"190601\"\n",
    "group1 = grouped.get_group(key)\n",
    "print(type(group1))\n",
    "group1.head(3)"
   ]
  },
  {
   "cell_type": "markdown",
   "id": "d19989e8-8377-47c0-b7bd-3fe27db5fbf5",
   "metadata": {},
   "source": [
    "### aggregate"
   ]
  },
  {
   "cell_type": "code",
   "execution_count": 30,
   "id": "cd5f4de4-410b-4554-97b6-badf67fa2908",
   "metadata": {},
   "outputs": [
    {
     "data": {
      "text/plain": [
       "['DIR', 'SPEED', 'GUST', 'TEMP_F', 'TEMP_C']"
      ]
     },
     "execution_count": 30,
     "metadata": {},
     "output_type": "execute_result"
    }
   ],
   "source": [
    "mean_cols = [\"DIR\", \"SPEED\", \"GUST\", \"TEMP_F\", \"TEMP_C\"]"
   ]
  },
  {
   "cell_type": "markdown",
   "id": "ab16a8ec-f54a-4e59-b557-6603b1df8961",
   "metadata": {},
   "source": [
    "#### option1"
   ]
  },
  {
   "cell_type": "code",
   "execution_count": 31,
   "id": "13ba5b84-ac6b-479f-b1bf-183c87fcb87b",
   "metadata": {},
   "outputs": [
    {
     "data": {
      "text/html": [
       "<div>\n",
       "<style scoped>\n",
       "    .dataframe tbody tr th:only-of-type {\n",
       "        vertical-align: middle;\n",
       "    }\n",
       "\n",
       "    .dataframe tbody tr th {\n",
       "        vertical-align: top;\n",
       "    }\n",
       "\n",
       "    .dataframe thead th {\n",
       "        text-align: right;\n",
       "    }\n",
       "</style>\n",
       "<table border=\"1\" class=\"dataframe\">\n",
       "  <thead>\n",
       "    <tr style=\"text-align: right;\">\n",
       "      <th></th>\n",
       "      <th>DIR</th>\n",
       "      <th>SPEED</th>\n",
       "      <th>GUST</th>\n",
       "      <th>TEMP_F</th>\n",
       "      <th>TEMP_C</th>\n",
       "      <th>YEAR_MONTH</th>\n",
       "    </tr>\n",
       "  </thead>\n",
       "  <tbody>\n",
       "    <tr>\n",
       "      <th>0</th>\n",
       "      <td>218.181818</td>\n",
       "      <td>13.204301</td>\n",
       "      <td>NaN</td>\n",
       "      <td>25.526882</td>\n",
       "      <td>-3.596177</td>\n",
       "      <td>190601</td>\n",
       "    </tr>\n",
       "    <tr>\n",
       "      <th>1</th>\n",
       "      <td>178.095238</td>\n",
       "      <td>13.142857</td>\n",
       "      <td>NaN</td>\n",
       "      <td>25.797619</td>\n",
       "      <td>-3.445767</td>\n",
       "      <td>190602</td>\n",
       "    </tr>\n",
       "    <tr>\n",
       "      <th>2</th>\n",
       "      <td>232.043011</td>\n",
       "      <td>15.021505</td>\n",
       "      <td>NaN</td>\n",
       "      <td>22.806452</td>\n",
       "      <td>-5.107527</td>\n",
       "      <td>190603</td>\n",
       "    </tr>\n",
       "    <tr>\n",
       "      <th>3</th>\n",
       "      <td>232.045455</td>\n",
       "      <td>13.811111</td>\n",
       "      <td>NaN</td>\n",
       "      <td>38.822222</td>\n",
       "      <td>3.790123</td>\n",
       "      <td>190604</td>\n",
       "    </tr>\n",
       "    <tr>\n",
       "      <th>4</th>\n",
       "      <td>192.820513</td>\n",
       "      <td>10.333333</td>\n",
       "      <td>NaN</td>\n",
       "      <td>55.526882</td>\n",
       "      <td>13.070490</td>\n",
       "      <td>190605</td>\n",
       "    </tr>\n",
       "    <tr>\n",
       "      <th>...</th>\n",
       "      <td>...</td>\n",
       "      <td>...</td>\n",
       "      <td>...</td>\n",
       "      <td>...</td>\n",
       "      <td>...</td>\n",
       "      <td>...</td>\n",
       "    </tr>\n",
       "    <tr>\n",
       "      <th>596</th>\n",
       "      <td>370.992008</td>\n",
       "      <td>8.138490</td>\n",
       "      <td>17.251852</td>\n",
       "      <td>61.743400</td>\n",
       "      <td>16.524111</td>\n",
       "      <td>201906</td>\n",
       "    </tr>\n",
       "    <tr>\n",
       "      <th>597</th>\n",
       "      <td>294.433641</td>\n",
       "      <td>5.785714</td>\n",
       "      <td>15.034722</td>\n",
       "      <td>61.569955</td>\n",
       "      <td>16.427753</td>\n",
       "      <td>201907</td>\n",
       "    </tr>\n",
       "    <tr>\n",
       "      <th>598</th>\n",
       "      <td>320.335766</td>\n",
       "      <td>6.769447</td>\n",
       "      <td>15.751678</td>\n",
       "      <td>60.598649</td>\n",
       "      <td>15.888138</td>\n",
       "      <td>201908</td>\n",
       "    </tr>\n",
       "    <tr>\n",
       "      <th>599</th>\n",
       "      <td>306.491058</td>\n",
       "      <td>6.363594</td>\n",
       "      <td>15.173285</td>\n",
       "      <td>49.958137</td>\n",
       "      <td>9.976743</td>\n",
       "      <td>201909</td>\n",
       "    </tr>\n",
       "    <tr>\n",
       "      <th>600</th>\n",
       "      <td>239.577465</td>\n",
       "      <td>10.169014</td>\n",
       "      <td>17.470588</td>\n",
       "      <td>42.774648</td>\n",
       "      <td>5.985915</td>\n",
       "      <td>201910</td>\n",
       "    </tr>\n",
       "  </tbody>\n",
       "</table>\n",
       "<p>601 rows × 6 columns</p>\n",
       "</div>"
      ],
      "text/plain": [
       "            DIR      SPEED       GUST     TEMP_F     TEMP_C YEAR_MONTH\n",
       "0    218.181818  13.204301        NaN  25.526882  -3.596177     190601\n",
       "1    178.095238  13.142857        NaN  25.797619  -3.445767     190602\n",
       "2    232.043011  15.021505        NaN  22.806452  -5.107527     190603\n",
       "3    232.045455  13.811111        NaN  38.822222   3.790123     190604\n",
       "4    192.820513  10.333333        NaN  55.526882  13.070490     190605\n",
       "..          ...        ...        ...        ...        ...        ...\n",
       "596  370.992008   8.138490  17.251852  61.743400  16.524111     201906\n",
       "597  294.433641   5.785714  15.034722  61.569955  16.427753     201907\n",
       "598  320.335766   6.769447  15.751678  60.598649  15.888138     201908\n",
       "599  306.491058   6.363594  15.173285  49.958137   9.976743     201909\n",
       "600  239.577465  10.169014  17.470588  42.774648   5.985915     201910\n",
       "\n",
       "[601 rows x 6 columns]"
      ]
     },
     "execution_count": 31,
     "metadata": {},
     "output_type": "execute_result"
    }
   ],
   "source": [
    "# Create an empty DataFrame for the aggregated values\n",
    "monthly_data = pd.DataFrame()\n",
    "\n",
    "# Iterate over the groups\n",
    "for key, group in grouped:\n",
    "\n",
    "    # Calculate mean\n",
    "    mean_values = group[mean_cols].mean()\n",
    "\n",
    "    # Add the ´key´ (i.e. the date+time information) into the aggregated values\n",
    "    mean_values[\"YEAR_MONTH\"] = key\n",
    "\n",
    "    # Append the aggregated values into the DataFrame\n",
    "    monthly_data = monthly_data.append(mean_values, ignore_index=True)\n",
    "monthly_data"
   ]
  },
  {
   "cell_type": "markdown",
   "id": "ddae2889-6c32-46fd-92c0-73374eac28c5",
   "metadata": {},
   "source": [
    "#### option2"
   ]
  },
  {
   "cell_type": "code",
   "execution_count": 32,
   "id": "f1ee91a7-0d57-4f84-bb78-a5cf6c2eb3b7",
   "metadata": {},
   "outputs": [
    {
     "data": {
      "text/html": [
       "<div>\n",
       "<style scoped>\n",
       "    .dataframe tbody tr th:only-of-type {\n",
       "        vertical-align: middle;\n",
       "    }\n",
       "\n",
       "    .dataframe tbody tr th {\n",
       "        vertical-align: top;\n",
       "    }\n",
       "\n",
       "    .dataframe thead th {\n",
       "        text-align: right;\n",
       "    }\n",
       "</style>\n",
       "<table border=\"1\" class=\"dataframe\">\n",
       "  <thead>\n",
       "    <tr style=\"text-align: right;\">\n",
       "      <th></th>\n",
       "      <th>DIR</th>\n",
       "      <th>SPEED</th>\n",
       "      <th>GUST</th>\n",
       "      <th>TEMP_F</th>\n",
       "      <th>TEMP_C</th>\n",
       "    </tr>\n",
       "    <tr>\n",
       "      <th>YEAR_MONTH</th>\n",
       "      <th></th>\n",
       "      <th></th>\n",
       "      <th></th>\n",
       "      <th></th>\n",
       "      <th></th>\n",
       "    </tr>\n",
       "  </thead>\n",
       "  <tbody>\n",
       "    <tr>\n",
       "      <th>190601</th>\n",
       "      <td>218.181818</td>\n",
       "      <td>13.204301</td>\n",
       "      <td>NaN</td>\n",
       "      <td>25.526882</td>\n",
       "      <td>-3.596177</td>\n",
       "    </tr>\n",
       "    <tr>\n",
       "      <th>190602</th>\n",
       "      <td>178.095238</td>\n",
       "      <td>13.142857</td>\n",
       "      <td>NaN</td>\n",
       "      <td>25.797619</td>\n",
       "      <td>-3.445767</td>\n",
       "    </tr>\n",
       "    <tr>\n",
       "      <th>190603</th>\n",
       "      <td>232.043011</td>\n",
       "      <td>15.021505</td>\n",
       "      <td>NaN</td>\n",
       "      <td>22.806452</td>\n",
       "      <td>-5.107527</td>\n",
       "    </tr>\n",
       "    <tr>\n",
       "      <th>190604</th>\n",
       "      <td>232.045455</td>\n",
       "      <td>13.811111</td>\n",
       "      <td>NaN</td>\n",
       "      <td>38.822222</td>\n",
       "      <td>3.790123</td>\n",
       "    </tr>\n",
       "    <tr>\n",
       "      <th>190605</th>\n",
       "      <td>192.820513</td>\n",
       "      <td>10.333333</td>\n",
       "      <td>NaN</td>\n",
       "      <td>55.526882</td>\n",
       "      <td>13.070490</td>\n",
       "    </tr>\n",
       "    <tr>\n",
       "      <th>...</th>\n",
       "      <td>...</td>\n",
       "      <td>...</td>\n",
       "      <td>...</td>\n",
       "      <td>...</td>\n",
       "      <td>...</td>\n",
       "    </tr>\n",
       "    <tr>\n",
       "      <th>201906</th>\n",
       "      <td>370.992008</td>\n",
       "      <td>8.138490</td>\n",
       "      <td>17.251852</td>\n",
       "      <td>61.743400</td>\n",
       "      <td>16.524111</td>\n",
       "    </tr>\n",
       "    <tr>\n",
       "      <th>201907</th>\n",
       "      <td>294.433641</td>\n",
       "      <td>5.785714</td>\n",
       "      <td>15.034722</td>\n",
       "      <td>61.569955</td>\n",
       "      <td>16.427753</td>\n",
       "    </tr>\n",
       "    <tr>\n",
       "      <th>201908</th>\n",
       "      <td>320.335766</td>\n",
       "      <td>6.769447</td>\n",
       "      <td>15.751678</td>\n",
       "      <td>60.598649</td>\n",
       "      <td>15.888138</td>\n",
       "    </tr>\n",
       "    <tr>\n",
       "      <th>201909</th>\n",
       "      <td>306.491058</td>\n",
       "      <td>6.363594</td>\n",
       "      <td>15.173285</td>\n",
       "      <td>49.958137</td>\n",
       "      <td>9.976743</td>\n",
       "    </tr>\n",
       "    <tr>\n",
       "      <th>201910</th>\n",
       "      <td>239.577465</td>\n",
       "      <td>10.169014</td>\n",
       "      <td>17.470588</td>\n",
       "      <td>42.774648</td>\n",
       "      <td>5.985915</td>\n",
       "    </tr>\n",
       "  </tbody>\n",
       "</table>\n",
       "<p>601 rows × 5 columns</p>\n",
       "</div>"
      ],
      "text/plain": [
       "                   DIR      SPEED       GUST     TEMP_F     TEMP_C\n",
       "YEAR_MONTH                                                        \n",
       "190601      218.181818  13.204301        NaN  25.526882  -3.596177\n",
       "190602      178.095238  13.142857        NaN  25.797619  -3.445767\n",
       "190603      232.043011  15.021505        NaN  22.806452  -5.107527\n",
       "190604      232.045455  13.811111        NaN  38.822222   3.790123\n",
       "190605      192.820513  10.333333        NaN  55.526882  13.070490\n",
       "...                ...        ...        ...        ...        ...\n",
       "201906      370.992008   8.138490  17.251852  61.743400  16.524111\n",
       "201907      294.433641   5.785714  15.034722  61.569955  16.427753\n",
       "201908      320.335766   6.769447  15.751678  60.598649  15.888138\n",
       "201909      306.491058   6.363594  15.173285  49.958137   9.976743\n",
       "201910      239.577465  10.169014  17.470588  42.774648   5.985915\n",
       "\n",
       "[601 rows x 5 columns]"
      ]
     },
     "execution_count": 32,
     "metadata": {},
     "output_type": "execute_result"
    }
   ],
   "source": [
    "monthly_data = grouped[mean_cols].mean()"
   ]
  },
  {
   "cell_type": "markdown",
   "id": "c1fb5308-93da-46c9-aa05-d40fbf7b802b",
   "metadata": {},
   "source": [
    "### groupby().agg()"
   ]
  },
  {
   "cell_type": "code",
   "execution_count": 33,
   "id": "6631c6a0-5068-4e96-9085-fb6428aaf502",
   "metadata": {},
   "outputs": [
    {
     "data": {
      "text/html": [
       "<div>\n",
       "<style scoped>\n",
       "    .dataframe tbody tr th:only-of-type {\n",
       "        vertical-align: middle;\n",
       "    }\n",
       "\n",
       "    .dataframe tbody tr th {\n",
       "        vertical-align: top;\n",
       "    }\n",
       "\n",
       "    .dataframe thead th {\n",
       "        text-align: right;\n",
       "    }\n",
       "</style>\n",
       "<table border=\"1\" class=\"dataframe\">\n",
       "  <thead>\n",
       "    <tr style=\"text-align: right;\">\n",
       "      <th></th>\n",
       "      <th>DIR</th>\n",
       "      <th>SPEED</th>\n",
       "      <th>GUST</th>\n",
       "      <th>TEMP_F</th>\n",
       "      <th>TEMP_C</th>\n",
       "    </tr>\n",
       "    <tr>\n",
       "      <th>YEAR_MONTH</th>\n",
       "      <th></th>\n",
       "      <th></th>\n",
       "      <th></th>\n",
       "      <th></th>\n",
       "      <th></th>\n",
       "    </tr>\n",
       "  </thead>\n",
       "  <tbody>\n",
       "    <tr>\n",
       "      <th>190601</th>\n",
       "      <td>218.181818</td>\n",
       "      <td>13.204301</td>\n",
       "      <td>NaN</td>\n",
       "      <td>25.526882</td>\n",
       "      <td>-3.596177</td>\n",
       "    </tr>\n",
       "    <tr>\n",
       "      <th>190602</th>\n",
       "      <td>178.095238</td>\n",
       "      <td>13.142857</td>\n",
       "      <td>NaN</td>\n",
       "      <td>25.797619</td>\n",
       "      <td>-3.445767</td>\n",
       "    </tr>\n",
       "    <tr>\n",
       "      <th>190603</th>\n",
       "      <td>232.043011</td>\n",
       "      <td>15.021505</td>\n",
       "      <td>NaN</td>\n",
       "      <td>22.806452</td>\n",
       "      <td>-5.107527</td>\n",
       "    </tr>\n",
       "    <tr>\n",
       "      <th>190604</th>\n",
       "      <td>232.045455</td>\n",
       "      <td>13.811111</td>\n",
       "      <td>NaN</td>\n",
       "      <td>38.822222</td>\n",
       "      <td>3.790123</td>\n",
       "    </tr>\n",
       "    <tr>\n",
       "      <th>190605</th>\n",
       "      <td>192.820513</td>\n",
       "      <td>10.333333</td>\n",
       "      <td>NaN</td>\n",
       "      <td>55.526882</td>\n",
       "      <td>13.070490</td>\n",
       "    </tr>\n",
       "    <tr>\n",
       "      <th>...</th>\n",
       "      <td>...</td>\n",
       "      <td>...</td>\n",
       "      <td>...</td>\n",
       "      <td>...</td>\n",
       "      <td>...</td>\n",
       "    </tr>\n",
       "    <tr>\n",
       "      <th>201906</th>\n",
       "      <td>370.992008</td>\n",
       "      <td>8.138490</td>\n",
       "      <td>17.251852</td>\n",
       "      <td>61.743400</td>\n",
       "      <td>16.524111</td>\n",
       "    </tr>\n",
       "    <tr>\n",
       "      <th>201907</th>\n",
       "      <td>294.433641</td>\n",
       "      <td>5.785714</td>\n",
       "      <td>15.034722</td>\n",
       "      <td>61.569955</td>\n",
       "      <td>16.427753</td>\n",
       "    </tr>\n",
       "    <tr>\n",
       "      <th>201908</th>\n",
       "      <td>320.335766</td>\n",
       "      <td>6.769447</td>\n",
       "      <td>15.751678</td>\n",
       "      <td>60.598649</td>\n",
       "      <td>15.888138</td>\n",
       "    </tr>\n",
       "    <tr>\n",
       "      <th>201909</th>\n",
       "      <td>306.491058</td>\n",
       "      <td>6.363594</td>\n",
       "      <td>15.173285</td>\n",
       "      <td>49.958137</td>\n",
       "      <td>9.976743</td>\n",
       "    </tr>\n",
       "    <tr>\n",
       "      <th>201910</th>\n",
       "      <td>239.577465</td>\n",
       "      <td>10.169014</td>\n",
       "      <td>17.470588</td>\n",
       "      <td>42.774648</td>\n",
       "      <td>5.985915</td>\n",
       "    </tr>\n",
       "  </tbody>\n",
       "</table>\n",
       "<p>601 rows × 5 columns</p>\n",
       "</div>"
      ],
      "text/plain": [
       "                   DIR      SPEED       GUST     TEMP_F     TEMP_C\n",
       "YEAR_MONTH                                                        \n",
       "190601      218.181818  13.204301        NaN  25.526882  -3.596177\n",
       "190602      178.095238  13.142857        NaN  25.797619  -3.445767\n",
       "190603      232.043011  15.021505        NaN  22.806452  -5.107527\n",
       "190604      232.045455  13.811111        NaN  38.822222   3.790123\n",
       "190605      192.820513  10.333333        NaN  55.526882  13.070490\n",
       "...                ...        ...        ...        ...        ...\n",
       "201906      370.992008   8.138490  17.251852  61.743400  16.524111\n",
       "201907      294.433641   5.785714  15.034722  61.569955  16.427753\n",
       "201908      320.335766   6.769447  15.751678  60.598649  15.888138\n",
       "201909      306.491058   6.363594  15.173285  49.958137   9.976743\n",
       "201910      239.577465  10.169014  17.470588  42.774648   5.985915\n",
       "\n",
       "[601 rows x 5 columns]"
      ]
     },
     "execution_count": 33,
     "metadata": {},
     "output_type": "execute_result"
    }
   ],
   "source": [
    "group_agg = dfdt1.groupby(\"YEAR_MONTH\")[mean_cols].agg('mean')"
   ]
  },
  {
   "cell_type": "markdown",
   "id": "24bd50ba-aab2-4454-98a1-bbb98123ef7a",
   "metadata": {
    "tags": [],
    "toc-hr-collapsed": true
   },
   "source": [
    "<a id='pd-ops-filter'></a>\n",
    "## Filter"
   ]
  },
  {
   "cell_type": "markdown",
   "id": "eeafc9df-200d-49bb-86cb-18237679404f",
   "metadata": {
    "tags": []
   },
   "source": [
    "[Return to Start of Notebook](#pd-ops)  "
   ]
  },
  {
   "cell_type": "code",
   "execution_count": 34,
   "id": "a51f2d01-510e-459b-85f5-2a8cdcf075a7",
   "metadata": {},
   "outputs": [
    {
     "data": {
      "text/html": [
       "<div>\n",
       "<style scoped>\n",
       "    .dataframe tbody tr th:only-of-type {\n",
       "        vertical-align: middle;\n",
       "    }\n",
       "\n",
       "    .dataframe tbody tr th {\n",
       "        vertical-align: top;\n",
       "    }\n",
       "\n",
       "    .dataframe thead th {\n",
       "        text-align: right;\n",
       "    }\n",
       "</style>\n",
       "<table border=\"1\" class=\"dataframe\">\n",
       "  <thead>\n",
       "    <tr style=\"text-align: right;\">\n",
       "      <th></th>\n",
       "      <th>STATION</th>\n",
       "      <th>TEMP_F</th>\n",
       "      <th>TEMP_C</th>\n",
       "      <th>YEAR_MONTH</th>\n",
       "    </tr>\n",
       "  </thead>\n",
       "  <tbody>\n",
       "    <tr>\n",
       "      <th>270</th>\n",
       "      <td>29440</td>\n",
       "      <td>19.0</td>\n",
       "      <td>-7.222222</td>\n",
       "      <td>190604</td>\n",
       "    </tr>\n",
       "    <tr>\n",
       "      <th>271</th>\n",
       "      <td>29440</td>\n",
       "      <td>29.0</td>\n",
       "      <td>-1.666667</td>\n",
       "      <td>190604</td>\n",
       "    </tr>\n",
       "    <tr>\n",
       "      <th>272</th>\n",
       "      <td>29440</td>\n",
       "      <td>18.0</td>\n",
       "      <td>-7.777778</td>\n",
       "      <td>190604</td>\n",
       "    </tr>\n",
       "  </tbody>\n",
       "</table>\n",
       "</div>"
      ],
      "text/plain": [
       "     STATION  TEMP_F    TEMP_C YEAR_MONTH\n",
       "270    29440    19.0 -7.222222     190604\n",
       "271    29440    29.0 -1.666667     190604\n",
       "272    29440    18.0 -7.777778     190604"
      ]
     },
     "execution_count": 34,
     "metadata": {},
     "output_type": "execute_result"
    }
   ],
   "source": [
    "filt = dfdt1[\"MONTH\"] == \"04\"\n",
    "cols = [\"STATION\", \"TEMP_F\", \"TEMP_C\", \"YEAR_MONTH\"]\n",
    "aprils = dfdt1[filt][cols]\n",
    "aprils.head(3)"
   ]
  },
  {
   "cell_type": "code",
   "execution_count": 35,
   "id": "ec2f4d21-d762-4a0b-869e-92380b76c6e4",
   "metadata": {},
   "outputs": [
    {
     "data": {
      "text/html": [
       "<div>\n",
       "<style scoped>\n",
       "    .dataframe tbody tr th:only-of-type {\n",
       "        vertical-align: middle;\n",
       "    }\n",
       "\n",
       "    .dataframe tbody tr th {\n",
       "        vertical-align: top;\n",
       "    }\n",
       "\n",
       "    .dataframe thead th {\n",
       "        text-align: right;\n",
       "    }\n",
       "</style>\n",
       "<table border=\"1\" class=\"dataframe\">\n",
       "  <thead>\n",
       "    <tr style=\"text-align: right;\">\n",
       "      <th></th>\n",
       "      <th>STATION</th>\n",
       "      <th>TEMP_F</th>\n",
       "      <th>TEMP_C</th>\n",
       "    </tr>\n",
       "    <tr>\n",
       "      <th>YEAR_MONTH</th>\n",
       "      <th></th>\n",
       "      <th></th>\n",
       "      <th></th>\n",
       "    </tr>\n",
       "  </thead>\n",
       "  <tbody>\n",
       "    <tr>\n",
       "      <th>190604</th>\n",
       "      <td>29440.0</td>\n",
       "      <td>38.822222</td>\n",
       "      <td>3.790123</td>\n",
       "    </tr>\n",
       "    <tr>\n",
       "      <th>190704</th>\n",
       "      <td>29440.0</td>\n",
       "      <td>36.111111</td>\n",
       "      <td>2.283951</td>\n",
       "    </tr>\n",
       "    <tr>\n",
       "      <th>190804</th>\n",
       "      <td>29440.0</td>\n",
       "      <td>36.811111</td>\n",
       "      <td>2.672840</td>\n",
       "    </tr>\n",
       "  </tbody>\n",
       "</table>\n",
       "</div>"
      ],
      "text/plain": [
       "            STATION     TEMP_F    TEMP_C\n",
       "YEAR_MONTH                              \n",
       "190604      29440.0  38.822222  3.790123\n",
       "190704      29440.0  36.111111  2.283951\n",
       "190804      29440.0  36.811111  2.672840"
      ]
     },
     "execution_count": 35,
     "metadata": {},
     "output_type": "execute_result"
    }
   ],
   "source": [
    "monthly_mean = aprils.groupby(\"YEAR_MONTH\").agg('mean')\n",
    "monthly_mean.head(3)"
   ]
  },
  {
   "cell_type": "markdown",
   "id": "a293ade2-e3ed-42ba-8f98-413fbcb8baf5",
   "metadata": {},
   "source": [
    "#### sort"
   ]
  },
  {
   "cell_type": "code",
   "execution_count": 36,
   "id": "718de2c7-9e1c-47b4-8dd1-c3b082d24058",
   "metadata": {},
   "outputs": [
    {
     "data": {
      "text/html": [
       "<div>\n",
       "<style scoped>\n",
       "    .dataframe tbody tr th:only-of-type {\n",
       "        vertical-align: middle;\n",
       "    }\n",
       "\n",
       "    .dataframe tbody tr th {\n",
       "        vertical-align: top;\n",
       "    }\n",
       "\n",
       "    .dataframe thead th {\n",
       "        text-align: right;\n",
       "    }\n",
       "</style>\n",
       "<table border=\"1\" class=\"dataframe\">\n",
       "  <thead>\n",
       "    <tr style=\"text-align: right;\">\n",
       "      <th></th>\n",
       "      <th>STATION</th>\n",
       "      <th>TEMP_F</th>\n",
       "      <th>TEMP_C</th>\n",
       "    </tr>\n",
       "    <tr>\n",
       "      <th>YEAR_MONTH</th>\n",
       "      <th></th>\n",
       "      <th></th>\n",
       "      <th></th>\n",
       "    </tr>\n",
       "  </thead>\n",
       "  <tbody>\n",
       "    <tr>\n",
       "      <th>201904</th>\n",
       "      <td>29440.0</td>\n",
       "      <td>42.472030</td>\n",
       "      <td>5.817794</td>\n",
       "    </tr>\n",
       "    <tr>\n",
       "      <th>199004</th>\n",
       "      <td>29440.0</td>\n",
       "      <td>41.918084</td>\n",
       "      <td>5.510047</td>\n",
       "    </tr>\n",
       "    <tr>\n",
       "      <th>198904</th>\n",
       "      <td>29440.0</td>\n",
       "      <td>41.369647</td>\n",
       "      <td>5.205360</td>\n",
       "    </tr>\n",
       "    <tr>\n",
       "      <th>201104</th>\n",
       "      <td>29440.0</td>\n",
       "      <td>41.290730</td>\n",
       "      <td>5.161517</td>\n",
       "    </tr>\n",
       "    <tr>\n",
       "      <th>200404</th>\n",
       "      <td>29440.0</td>\n",
       "      <td>41.249676</td>\n",
       "      <td>5.138709</td>\n",
       "    </tr>\n",
       "    <tr>\n",
       "      <th>200204</th>\n",
       "      <td>29440.0</td>\n",
       "      <td>41.132353</td>\n",
       "      <td>5.073529</td>\n",
       "    </tr>\n",
       "    <tr>\n",
       "      <th>198304</th>\n",
       "      <td>29440.0</td>\n",
       "      <td>41.016183</td>\n",
       "      <td>5.008991</td>\n",
       "    </tr>\n",
       "    <tr>\n",
       "      <th>200804</th>\n",
       "      <td>29440.0</td>\n",
       "      <td>40.962343</td>\n",
       "      <td>4.979079</td>\n",
       "    </tr>\n",
       "    <tr>\n",
       "      <th>200004</th>\n",
       "      <td>29440.0</td>\n",
       "      <td>40.777778</td>\n",
       "      <td>4.876543</td>\n",
       "    </tr>\n",
       "    <tr>\n",
       "      <th>199904</th>\n",
       "      <td>29440.0</td>\n",
       "      <td>40.695291</td>\n",
       "      <td>4.830717</td>\n",
       "    </tr>\n",
       "  </tbody>\n",
       "</table>\n",
       "</div>"
      ],
      "text/plain": [
       "            STATION     TEMP_F    TEMP_C\n",
       "YEAR_MONTH                              \n",
       "201904      29440.0  42.472030  5.817794\n",
       "199004      29440.0  41.918084  5.510047\n",
       "198904      29440.0  41.369647  5.205360\n",
       "201104      29440.0  41.290730  5.161517\n",
       "200404      29440.0  41.249676  5.138709\n",
       "200204      29440.0  41.132353  5.073529\n",
       "198304      29440.0  41.016183  5.008991\n",
       "200804      29440.0  40.962343  4.979079\n",
       "200004      29440.0  40.777778  4.876543\n",
       "199904      29440.0  40.695291  4.830717"
      ]
     },
     "execution_count": 36,
     "metadata": {},
     "output_type": "execute_result"
    }
   ],
   "source": [
    "monthly_mean.sort_values(by=\"TEMP_C\", ascending=False).head(10)"
   ]
  },
  {
   "cell_type": "markdown",
   "id": "a6431283-8461-4cee-925a-b7044f4b1beb",
   "metadata": {},
   "source": [
    "## Workflow"
   ]
  },
  {
   "cell_type": "code",
   "execution_count": 37,
   "id": "d02f8dcf-e9ec-43fd-bb83-08ee55424cf8",
   "metadata": {},
   "outputs": [
    {
     "data": {
      "text/plain": [
       "['/Users/forest/eda/gpy/data/029170.txt',\n",
       " '/Users/forest/eda/gpy/data/028690.txt',\n",
       " '/Users/forest/eda/gpy/data/029820.txt',\n",
       " '/Users/forest/eda/gpy/data/029700.txt',\n",
       " '/Users/forest/eda/gpy/data/028970.txt',\n",
       " '/Users/forest/eda/gpy/data/029070.txt',\n",
       " '/Users/forest/eda/gpy/data/029500.txt',\n",
       " '/Users/forest/eda/gpy/data/029110.txt',\n",
       " '/Users/forest/eda/gpy/data/028750.txt',\n",
       " '/Users/forest/eda/gpy/data/029720.txt',\n",
       " '/Users/forest/eda/gpy/data/029440.txt',\n",
       " '/Users/forest/eda/gpy/data/028360.txt',\n",
       " '/Users/forest/eda/gpy/data/029810.txt',\n",
       " '/Users/forest/eda/gpy/data/029740.txt',\n",
       " '/Users/forest/eda/gpy/data/029350.txt']"
      ]
     },
     "execution_count": 37,
     "metadata": {},
     "output_type": "execute_result"
    }
   ],
   "source": [
    "file_list = glob.glob(os.path.join(data_dir,\"0*txt\"))"
   ]
  },
  {
   "cell_type": "raw",
   "id": "e65953ad-0dde-4960-93ea-d82da0c57d35",
   "metadata": {},
   "source": [
    "# Repeat the analysis steps for each input file:\n",
    "for fp in file_list:\n",
    "\n",
    "    # Read selected columns of  data using varying amount of spaces as separator and specifying * characters as NoData values\n",
    "    data = pd.read_csv(\n",
    "        fp,\n",
    "        delim_whitespace=True,\n",
    "        usecols=[\"USAF\", \"YR--MODAHRMN\", \"DIR\", \"SPD\", \"GUS\", \"TEMP\", \"MAX\", \"MIN\"],\n",
    "        na_values=[\"*\", \"**\", \"***\", \"****\", \"*****\", \"******\"],\n",
    "    )\n",
    "\n",
    "    # Rename the columns\n",
    "    new_names = {\n",
    "        \"USAF\": \"STATION_NUMBER\",\n",
    "        \"YR--MODAHRMN\": \"TIME\",\n",
    "        \"SPD\": \"SPEED\",\n",
    "        \"GUS\": \"GUST\",\n",
    "        \"TEMP\": \"TEMP_F\",\n",
    "    }\n",
    "    data = data.rename(columns=new_names)\n",
    "\n",
    "    # Print info about the current input file:\n",
    "    print(f\"STATION NUMBER: {data.at[0, 'STATION_NUMBER']}\")\n",
    "    print(f\"NUMBER OF OBSERVATIONS: {len(data)}\")\n",
    "\n",
    "    # Create column\n",
    "    col_name = \"TEMP_C\"\n",
    "    data[col_name] = None\n",
    "\n",
    "    # Convert tempetarues from Fahrenheits to Celsius\n",
    "    data[\"TEMP_C\"] = data[\"TEMP_F\"].apply(tc.fahr_to_celsius)\n",
    "\n",
    "    # Convert TIME to string\n",
    "    data[\"TIME_STR\"] = data[\"TIME\"].astype(str)\n",
    "\n",
    "    # Parse year and month\n",
    "    data[\"MONTH\"] = data[\"TIME_STR\"].str.slice(start=5, stop=6).astype(int)\n",
    "    data[\"YEAR\"] = data[\"TIME_STR\"].str.slice(start=0, stop=4).astype(int)\n",
    "\n",
    "    # Extract observations for the months of April\n",
    "    aprils = data[data[\"MONTH\"] == 4]\n",
    "\n",
    "    # Take a subset of columns\n",
    "    aprils = aprils[[\"STATION_NUMBER\", \"TEMP_F\", \"TEMP_C\", \"YEAR\", \"MONTH\"]]\n",
    "\n",
    "    # Group by year and month\n",
    "    grouped = aprils.groupby(by=[\"YEAR\", \"MONTH\"])\n",
    "\n",
    "    # Get mean values for each group\n",
    "    monthly_mean = grouped.mean()\n",
    "\n",
    "    # Print info\n",
    "    print(monthly_mean.sort_values(by=\"TEMP_C\", ascending=False).head(5))\n",
    "    print(\"\\n\")"
   ]
  },
  {
   "cell_type": "markdown",
   "id": "b27f48b3-27c5-471e-9154-768a03c57ed9",
   "metadata": {
    "tags": [],
    "toc-hr-collapsed": true
   },
   "source": [
    "<a id='pd-ops-exercise'></a>\n",
    "## Exercise"
   ]
  },
  {
   "cell_type": "markdown",
   "id": "749534a9-ef27-46e0-ab18-6099d3f9f659",
   "metadata": {
    "tags": []
   },
   "source": [
    "[Return to Start of Notebook](#pd-ops)  "
   ]
  },
  {
   "cell_type": "markdown",
   "id": "8678cc12-395d-4dd9-9edc-825935fea2e4",
   "metadata": {},
   "source": [
    "### Prob 1"
   ]
  },
  {
   "cell_type": "code",
   "execution_count": 38,
   "id": "941145e8-9195-49c6-967d-2bcd1cedc607",
   "metadata": {},
   "outputs": [
    {
     "data": {
      "text/plain": [
       "'/Users/forest/eda/gpy/data/1091402.txt'"
      ]
     },
     "execution_count": 38,
     "metadata": {},
     "output_type": "execute_result"
    }
   ],
   "source": [
    "file_path = os.path.join(data_dir,\"1091402.txt\")"
   ]
  },
  {
   "cell_type": "code",
   "execution_count": 39,
   "id": "04de4687-0c78-464f-90b2-e3ab46bdb8f3",
   "metadata": {},
   "outputs": [
    {
     "data": {
      "text/html": [
       "<div>\n",
       "<style scoped>\n",
       "    .dataframe tbody tr th:only-of-type {\n",
       "        vertical-align: middle;\n",
       "    }\n",
       "\n",
       "    .dataframe tbody tr th {\n",
       "        vertical-align: top;\n",
       "    }\n",
       "\n",
       "    .dataframe thead th {\n",
       "        text-align: right;\n",
       "    }\n",
       "</style>\n",
       "<table border=\"1\" class=\"dataframe\">\n",
       "  <thead>\n",
       "    <tr style=\"text-align: right;\">\n",
       "      <th></th>\n",
       "      <th>STATION</th>\n",
       "      <th>ELEVATION</th>\n",
       "      <th>LATITUDE</th>\n",
       "      <th>LONGITUDE</th>\n",
       "      <th>DATE</th>\n",
       "      <th>PRCP</th>\n",
       "      <th>TAVG</th>\n",
       "      <th>TMAX</th>\n",
       "      <th>TMIN</th>\n",
       "    </tr>\n",
       "  </thead>\n",
       "  <tbody>\n",
       "    <tr>\n",
       "      <th>0</th>\n",
       "      <td>-----------------</td>\n",
       "      <td>----------</td>\n",
       "      <td>----------</td>\n",
       "      <td>----------</td>\n",
       "      <td>--------</td>\n",
       "      <td>--------</td>\n",
       "      <td>--------</td>\n",
       "      <td>--------</td>\n",
       "      <td>--------</td>\n",
       "    </tr>\n",
       "    <tr>\n",
       "      <th>1</th>\n",
       "      <td>GHCND:FIE00142080</td>\n",
       "      <td>51</td>\n",
       "      <td>60.3269</td>\n",
       "      <td>24.9603</td>\n",
       "      <td>19520101</td>\n",
       "      <td>0.31</td>\n",
       "      <td>37</td>\n",
       "      <td>39</td>\n",
       "      <td>34</td>\n",
       "    </tr>\n",
       "    <tr>\n",
       "      <th>2</th>\n",
       "      <td>GHCND:FIE00142080</td>\n",
       "      <td>51</td>\n",
       "      <td>60.3269</td>\n",
       "      <td>24.9603</td>\n",
       "      <td>19520102</td>\n",
       "      <td>NaN</td>\n",
       "      <td>35</td>\n",
       "      <td>37</td>\n",
       "      <td>34</td>\n",
       "    </tr>\n",
       "  </tbody>\n",
       "</table>\n",
       "</div>"
      ],
      "text/plain": [
       "             STATION   ELEVATION    LATITUDE   LONGITUDE      DATE      PRCP  \\\n",
       "0  -----------------  ----------  ----------  ----------  --------  --------   \n",
       "1  GHCND:FIE00142080          51     60.3269     24.9603  19520101      0.31   \n",
       "2  GHCND:FIE00142080          51     60.3269     24.9603  19520102       NaN   \n",
       "\n",
       "       TAVG      TMAX      TMIN  \n",
       "0  --------  --------  --------  \n",
       "1        37        39        34  \n",
       "2        35        37        34  "
      ]
     },
     "execution_count": 39,
     "metadata": {},
     "output_type": "execute_result"
    }
   ],
   "source": [
    "data = pd.read_csv(file_path,\n",
    "                   delim_whitespace=True,\n",
    "                   na_values=[-9999])\n",
    "data.head(3)"
   ]
  },
  {
   "cell_type": "markdown",
   "id": "4037cfea-b246-4d0f-90aa-78acc9a472a5",
   "metadata": {},
   "source": [
    "#### skip single row skiprows=[]"
   ]
  },
  {
   "cell_type": "code",
   "execution_count": 40,
   "id": "bdbe0c67-a91b-43d5-b3ac-5f27cd35e72d",
   "metadata": {},
   "outputs": [
    {
     "data": {
      "text/html": [
       "<div>\n",
       "<style scoped>\n",
       "    .dataframe tbody tr th:only-of-type {\n",
       "        vertical-align: middle;\n",
       "    }\n",
       "\n",
       "    .dataframe tbody tr th {\n",
       "        vertical-align: top;\n",
       "    }\n",
       "\n",
       "    .dataframe thead th {\n",
       "        text-align: right;\n",
       "    }\n",
       "</style>\n",
       "<table border=\"1\" class=\"dataframe\">\n",
       "  <thead>\n",
       "    <tr style=\"text-align: right;\">\n",
       "      <th></th>\n",
       "      <th>STATION</th>\n",
       "      <th>ELEVATION</th>\n",
       "      <th>LATITUDE</th>\n",
       "      <th>LONGITUDE</th>\n",
       "      <th>PRCP</th>\n",
       "      <th>TAVG</th>\n",
       "      <th>TMAX</th>\n",
       "      <th>TMIN</th>\n",
       "    </tr>\n",
       "    <tr>\n",
       "      <th>DATE</th>\n",
       "      <th></th>\n",
       "      <th></th>\n",
       "      <th></th>\n",
       "      <th></th>\n",
       "      <th></th>\n",
       "      <th></th>\n",
       "      <th></th>\n",
       "      <th></th>\n",
       "    </tr>\n",
       "  </thead>\n",
       "  <tbody>\n",
       "    <tr>\n",
       "      <th>1952-01-01</th>\n",
       "      <td>GHCND:FIE00142080</td>\n",
       "      <td>51</td>\n",
       "      <td>60.3269</td>\n",
       "      <td>24.9603</td>\n",
       "      <td>0.31</td>\n",
       "      <td>37.0</td>\n",
       "      <td>39.0</td>\n",
       "      <td>34.0</td>\n",
       "    </tr>\n",
       "    <tr>\n",
       "      <th>1952-01-02</th>\n",
       "      <td>GHCND:FIE00142080</td>\n",
       "      <td>51</td>\n",
       "      <td>60.3269</td>\n",
       "      <td>24.9603</td>\n",
       "      <td>NaN</td>\n",
       "      <td>35.0</td>\n",
       "      <td>37.0</td>\n",
       "      <td>34.0</td>\n",
       "    </tr>\n",
       "    <tr>\n",
       "      <th>1952-01-03</th>\n",
       "      <td>GHCND:FIE00142080</td>\n",
       "      <td>51</td>\n",
       "      <td>60.3269</td>\n",
       "      <td>24.9603</td>\n",
       "      <td>0.14</td>\n",
       "      <td>33.0</td>\n",
       "      <td>36.0</td>\n",
       "      <td>NaN</td>\n",
       "    </tr>\n",
       "  </tbody>\n",
       "</table>\n",
       "</div>"
      ],
      "text/plain": [
       "                      STATION  ELEVATION  LATITUDE  LONGITUDE  PRCP  TAVG  \\\n",
       "DATE                                                                        \n",
       "1952-01-01  GHCND:FIE00142080         51   60.3269    24.9603  0.31  37.0   \n",
       "1952-01-02  GHCND:FIE00142080         51   60.3269    24.9603   NaN  35.0   \n",
       "1952-01-03  GHCND:FIE00142080         51   60.3269    24.9603  0.14  33.0   \n",
       "\n",
       "            TMAX  TMIN  \n",
       "DATE                    \n",
       "1952-01-01  39.0  34.0  \n",
       "1952-01-02  37.0  34.0  \n",
       "1952-01-03  36.0   NaN  "
      ]
     },
     "execution_count": 40,
     "metadata": {},
     "output_type": "execute_result"
    }
   ],
   "source": [
    "data = pd.read_csv(file_path,\n",
    "                   delim_whitespace=True,\n",
    "                   skiprows=[1],\n",
    "                   parse_dates=['DATE'],\n",
    "                   index_col='DATE',\n",
    "                   na_values=[-9999])\n",
    "data.head(3)"
   ]
  },
  {
   "cell_type": "code",
   "execution_count": 41,
   "id": "3070cabd-fd1c-4318-971e-f2ccb6d03f69",
   "metadata": {},
   "outputs": [
    {
     "data": {
      "text/plain": [
       "STATION       object\n",
       "ELEVATION      int64\n",
       "LATITUDE     float64\n",
       "LONGITUDE    float64\n",
       "PRCP         float64\n",
       "TAVG         float64\n",
       "TMAX         float64\n",
       "TMIN         float64\n",
       "dtype: object"
      ]
     },
     "execution_count": 41,
     "metadata": {},
     "output_type": "execute_result"
    }
   ],
   "source": [
    "data.dtypes"
   ]
  },
  {
   "cell_type": "code",
   "execution_count": 42,
   "id": "0d226bcd-7e73-4be6-ab57-a819969d607c",
   "metadata": {},
   "outputs": [
    {
     "data": {
      "text/html": [
       "<div>\n",
       "<style scoped>\n",
       "    .dataframe tbody tr th:only-of-type {\n",
       "        vertical-align: middle;\n",
       "    }\n",
       "\n",
       "    .dataframe tbody tr th {\n",
       "        vertical-align: top;\n",
       "    }\n",
       "\n",
       "    .dataframe thead th {\n",
       "        text-align: right;\n",
       "    }\n",
       "</style>\n",
       "<table border=\"1\" class=\"dataframe\">\n",
       "  <thead>\n",
       "    <tr style=\"text-align: right;\">\n",
       "      <th></th>\n",
       "      <th>STATION</th>\n",
       "      <th>ELEVATION</th>\n",
       "      <th>LATITUDE</th>\n",
       "      <th>LONGITUDE</th>\n",
       "      <th>PRCP</th>\n",
       "      <th>TAVG</th>\n",
       "      <th>TMAX</th>\n",
       "      <th>TMIN</th>\n",
       "    </tr>\n",
       "    <tr>\n",
       "      <th>DATE</th>\n",
       "      <th></th>\n",
       "      <th></th>\n",
       "      <th></th>\n",
       "      <th></th>\n",
       "      <th></th>\n",
       "      <th></th>\n",
       "      <th></th>\n",
       "      <th></th>\n",
       "    </tr>\n",
       "  </thead>\n",
       "  <tbody>\n",
       "    <tr>\n",
       "      <th>2017-10-02</th>\n",
       "      <td>GHCND:FIE00142080</td>\n",
       "      <td>51</td>\n",
       "      <td>60.3269</td>\n",
       "      <td>24.9603</td>\n",
       "      <td>NaN</td>\n",
       "      <td>47.0</td>\n",
       "      <td>49.0</td>\n",
       "      <td>46.0</td>\n",
       "    </tr>\n",
       "    <tr>\n",
       "      <th>2017-10-03</th>\n",
       "      <td>GHCND:FIE00142080</td>\n",
       "      <td>51</td>\n",
       "      <td>60.3269</td>\n",
       "      <td>24.9603</td>\n",
       "      <td>0.94</td>\n",
       "      <td>47.0</td>\n",
       "      <td>NaN</td>\n",
       "      <td>44.0</td>\n",
       "    </tr>\n",
       "    <tr>\n",
       "      <th>2017-10-04</th>\n",
       "      <td>GHCND:FIE00142080</td>\n",
       "      <td>51</td>\n",
       "      <td>60.3269</td>\n",
       "      <td>24.9603</td>\n",
       "      <td>0.51</td>\n",
       "      <td>52.0</td>\n",
       "      <td>56.0</td>\n",
       "      <td>NaN</td>\n",
       "    </tr>\n",
       "  </tbody>\n",
       "</table>\n",
       "</div>"
      ],
      "text/plain": [
       "                      STATION  ELEVATION  LATITUDE  LONGITUDE  PRCP  TAVG  \\\n",
       "DATE                                                                        \n",
       "2017-10-02  GHCND:FIE00142080         51   60.3269    24.9603   NaN  47.0   \n",
       "2017-10-03  GHCND:FIE00142080         51   60.3269    24.9603  0.94  47.0   \n",
       "2017-10-04  GHCND:FIE00142080         51   60.3269    24.9603  0.51  52.0   \n",
       "\n",
       "            TMAX  TMIN  \n",
       "DATE                    \n",
       "2017-10-02  49.0  46.0  \n",
       "2017-10-03   NaN  44.0  \n",
       "2017-10-04  56.0   NaN  "
      ]
     },
     "execution_count": 42,
     "metadata": {},
     "output_type": "execute_result"
    }
   ],
   "source": [
    "data.tail(3)"
   ]
  },
  {
   "cell_type": "code",
   "execution_count": 43,
   "id": "9ff3dbb5-e63b-4b32-98b1-cfe9e439c6c2",
   "metadata": {},
   "outputs": [
    {
     "data": {
      "text/plain": [
       "(23716, 8)"
      ]
     },
     "execution_count": 43,
     "metadata": {},
     "output_type": "execute_result"
    }
   ],
   "source": [
    "data.shape"
   ]
  },
  {
   "cell_type": "markdown",
   "id": "57cc4e19-3243-47e9-8316-5463a481feea",
   "metadata": {},
   "source": [
    "#### no data"
   ]
  },
  {
   "cell_type": "code",
   "execution_count": 44,
   "id": "4e294c35-75b1-4050-be80-99807acc8ff9",
   "metadata": {},
   "outputs": [
    {
     "data": {
      "text/plain": [
       "STATION         0\n",
       "ELEVATION       0\n",
       "LATITUDE        0\n",
       "LONGITUDE       0\n",
       "PRCP         1553\n",
       "TAVG         3308\n",
       "TMAX          260\n",
       "TMIN          365\n",
       "dtype: int64"
      ]
     },
     "execution_count": 44,
     "metadata": {},
     "output_type": "execute_result"
    }
   ],
   "source": [
    "data.isna().sum()"
   ]
  },
  {
   "cell_type": "code",
   "execution_count": 45,
   "id": "e3ee8056-bd48-4086-9620-b2f43ad71901",
   "metadata": {},
   "outputs": [
    {
     "data": {
      "text/plain": [
       "3308"
      ]
     },
     "execution_count": 45,
     "metadata": {},
     "output_type": "execute_result"
    }
   ],
   "source": [
    "tavg_nodata_count = data['TAVG'].isna().sum()"
   ]
  },
  {
   "cell_type": "code",
   "execution_count": 46,
   "id": "837e861c-9efd-42b6-8fed-88e30d23aeb5",
   "metadata": {},
   "outputs": [
    {
     "data": {
      "text/plain": [
       "365"
      ]
     },
     "execution_count": 46,
     "metadata": {},
     "output_type": "execute_result"
    }
   ],
   "source": [
    "tmin_nodata_count = data['TMIN'].isna().sum()"
   ]
  },
  {
   "cell_type": "code",
   "execution_count": 47,
   "id": "4b1edfc9-3c0d-49ef-8148-c691a3ccf284",
   "metadata": {},
   "outputs": [
    {
     "data": {
      "text/plain": [
       "23716"
      ]
     },
     "execution_count": 47,
     "metadata": {},
     "output_type": "execute_result"
    }
   ],
   "source": [
    "day_count = len(data)"
   ]
  },
  {
   "cell_type": "markdown",
   "id": "cb702138-7c87-4046-93c4-49ee4e81ae30",
   "metadata": {
    "toc-hr-collapsed": true
   },
   "source": [
    "#### first and last observation"
   ]
  },
  {
   "cell_type": "markdown",
   "id": "550beae5-14b4-4433-a977-12c0495fdb17",
   "metadata": {},
   "source": [
    "##### option 1 .min()"
   ]
  },
  {
   "cell_type": "code",
   "execution_count": 48,
   "id": "b77e08d2-18b4-4b21-aded-6a3b0ee9c61e",
   "metadata": {},
   "outputs": [
    {
     "data": {
      "text/html": [
       "<div>\n",
       "<style scoped>\n",
       "    .dataframe tbody tr th:only-of-type {\n",
       "        vertical-align: middle;\n",
       "    }\n",
       "\n",
       "    .dataframe tbody tr th {\n",
       "        vertical-align: top;\n",
       "    }\n",
       "\n",
       "    .dataframe thead th {\n",
       "        text-align: right;\n",
       "    }\n",
       "</style>\n",
       "<table border=\"1\" class=\"dataframe\">\n",
       "  <thead>\n",
       "    <tr style=\"text-align: right;\">\n",
       "      <th></th>\n",
       "      <th>STATION</th>\n",
       "      <th>ELEVATION</th>\n",
       "      <th>LATITUDE</th>\n",
       "      <th>LONGITUDE</th>\n",
       "      <th>PRCP</th>\n",
       "      <th>TAVG</th>\n",
       "      <th>TMAX</th>\n",
       "      <th>TMIN</th>\n",
       "    </tr>\n",
       "    <tr>\n",
       "      <th>DATE</th>\n",
       "      <th></th>\n",
       "      <th></th>\n",
       "      <th></th>\n",
       "      <th></th>\n",
       "      <th></th>\n",
       "      <th></th>\n",
       "      <th></th>\n",
       "      <th></th>\n",
       "    </tr>\n",
       "  </thead>\n",
       "  <tbody>\n",
       "    <tr>\n",
       "      <th>1952-01-01</th>\n",
       "      <td>GHCND:FIE00142080</td>\n",
       "      <td>51</td>\n",
       "      <td>60.3269</td>\n",
       "      <td>24.9603</td>\n",
       "      <td>0.31</td>\n",
       "      <td>37.0</td>\n",
       "      <td>39.0</td>\n",
       "      <td>34.0</td>\n",
       "    </tr>\n",
       "  </tbody>\n",
       "</table>\n",
       "</div>"
      ],
      "text/plain": [
       "                      STATION  ELEVATION  LATITUDE  LONGITUDE  PRCP  TAVG  \\\n",
       "DATE                                                                        \n",
       "1952-01-01  GHCND:FIE00142080         51   60.3269    24.9603  0.31  37.0   \n",
       "\n",
       "            TMAX  TMIN  \n",
       "DATE                    \n",
       "1952-01-01  39.0  34.0  "
      ]
     },
     "execution_count": 48,
     "metadata": {},
     "output_type": "execute_result"
    }
   ],
   "source": [
    "filt = data.index == data.index.min()\n",
    "first_obs = data[filt]"
   ]
  },
  {
   "cell_type": "code",
   "execution_count": 49,
   "id": "d3ef8596-8837-4cbb-a2ce-dd07efc47a23",
   "metadata": {},
   "outputs": [
    {
     "data": {
      "text/html": [
       "<div>\n",
       "<style scoped>\n",
       "    .dataframe tbody tr th:only-of-type {\n",
       "        vertical-align: middle;\n",
       "    }\n",
       "\n",
       "    .dataframe tbody tr th {\n",
       "        vertical-align: top;\n",
       "    }\n",
       "\n",
       "    .dataframe thead th {\n",
       "        text-align: right;\n",
       "    }\n",
       "</style>\n",
       "<table border=\"1\" class=\"dataframe\">\n",
       "  <thead>\n",
       "    <tr style=\"text-align: right;\">\n",
       "      <th></th>\n",
       "      <th>STATION</th>\n",
       "      <th>ELEVATION</th>\n",
       "      <th>LATITUDE</th>\n",
       "      <th>LONGITUDE</th>\n",
       "      <th>PRCP</th>\n",
       "      <th>TAVG</th>\n",
       "      <th>TMAX</th>\n",
       "      <th>TMIN</th>\n",
       "    </tr>\n",
       "    <tr>\n",
       "      <th>DATE</th>\n",
       "      <th></th>\n",
       "      <th></th>\n",
       "      <th></th>\n",
       "      <th></th>\n",
       "      <th></th>\n",
       "      <th></th>\n",
       "      <th></th>\n",
       "      <th></th>\n",
       "    </tr>\n",
       "  </thead>\n",
       "  <tbody>\n",
       "    <tr>\n",
       "      <th>2017-10-04</th>\n",
       "      <td>GHCND:FIE00142080</td>\n",
       "      <td>51</td>\n",
       "      <td>60.3269</td>\n",
       "      <td>24.9603</td>\n",
       "      <td>0.51</td>\n",
       "      <td>52.0</td>\n",
       "      <td>56.0</td>\n",
       "      <td>NaN</td>\n",
       "    </tr>\n",
       "  </tbody>\n",
       "</table>\n",
       "</div>"
      ],
      "text/plain": [
       "                      STATION  ELEVATION  LATITUDE  LONGITUDE  PRCP  TAVG  \\\n",
       "DATE                                                                        \n",
       "2017-10-04  GHCND:FIE00142080         51   60.3269    24.9603  0.51  52.0   \n",
       "\n",
       "            TMAX  TMIN  \n",
       "DATE                    \n",
       "2017-10-04  56.0   NaN  "
      ]
     },
     "execution_count": 49,
     "metadata": {},
     "output_type": "execute_result"
    }
   ],
   "source": [
    "filt = data.index == data.index.max()\n",
    "last_obs = data[filt]"
   ]
  },
  {
   "cell_type": "markdown",
   "id": "f43cb650-9069-4c0d-9785-aac400ed2e64",
   "metadata": {},
   "source": [
    "##### option 2 .idxmin()"
   ]
  },
  {
   "cell_type": "code",
   "execution_count": 50,
   "id": "ec086519-c353-49e2-80bb-40453694eb9d",
   "metadata": {},
   "outputs": [
    {
     "data": {
      "text/html": [
       "<div>\n",
       "<style scoped>\n",
       "    .dataframe tbody tr th:only-of-type {\n",
       "        vertical-align: middle;\n",
       "    }\n",
       "\n",
       "    .dataframe tbody tr th {\n",
       "        vertical-align: top;\n",
       "    }\n",
       "\n",
       "    .dataframe thead th {\n",
       "        text-align: right;\n",
       "    }\n",
       "</style>\n",
       "<table border=\"1\" class=\"dataframe\">\n",
       "  <thead>\n",
       "    <tr style=\"text-align: right;\">\n",
       "      <th></th>\n",
       "      <th>STATION</th>\n",
       "      <th>ELEVATION</th>\n",
       "      <th>LATITUDE</th>\n",
       "      <th>LONGITUDE</th>\n",
       "      <th>PRCP</th>\n",
       "      <th>TAVG</th>\n",
       "      <th>TMAX</th>\n",
       "      <th>TMIN</th>\n",
       "    </tr>\n",
       "    <tr>\n",
       "      <th>DATE</th>\n",
       "      <th></th>\n",
       "      <th></th>\n",
       "      <th></th>\n",
       "      <th></th>\n",
       "      <th></th>\n",
       "      <th></th>\n",
       "      <th></th>\n",
       "      <th></th>\n",
       "    </tr>\n",
       "  </thead>\n",
       "  <tbody>\n",
       "    <tr>\n",
       "      <th>1952-01-01</th>\n",
       "      <td>GHCND:FIE00142080</td>\n",
       "      <td>51</td>\n",
       "      <td>60.3269</td>\n",
       "      <td>24.9603</td>\n",
       "      <td>0.31</td>\n",
       "      <td>37.0</td>\n",
       "      <td>39.0</td>\n",
       "      <td>34.0</td>\n",
       "    </tr>\n",
       "  </tbody>\n",
       "</table>\n",
       "</div>"
      ],
      "text/plain": [
       "                      STATION  ELEVATION  LATITUDE  LONGITUDE  PRCP  TAVG  \\\n",
       "DATE                                                                        \n",
       "1952-01-01  GHCND:FIE00142080         51   60.3269    24.9603  0.31  37.0   \n",
       "\n",
       "            TMAX  TMIN  \n",
       "DATE                    \n",
       "1952-01-01  39.0  34.0  "
      ]
     },
     "execution_count": 50,
     "metadata": {},
     "output_type": "execute_result"
    }
   ],
   "source": [
    "first_obs = data.loc[[data.index.min()]]"
   ]
  },
  {
   "cell_type": "code",
   "execution_count": 51,
   "id": "f4bfc2f1-8c4b-4c6e-bdf2-62bef9a73d0a",
   "metadata": {},
   "outputs": [
    {
     "data": {
      "text/html": [
       "<div>\n",
       "<style scoped>\n",
       "    .dataframe tbody tr th:only-of-type {\n",
       "        vertical-align: middle;\n",
       "    }\n",
       "\n",
       "    .dataframe tbody tr th {\n",
       "        vertical-align: top;\n",
       "    }\n",
       "\n",
       "    .dataframe thead th {\n",
       "        text-align: right;\n",
       "    }\n",
       "</style>\n",
       "<table border=\"1\" class=\"dataframe\">\n",
       "  <thead>\n",
       "    <tr style=\"text-align: right;\">\n",
       "      <th></th>\n",
       "      <th>STATION</th>\n",
       "      <th>ELEVATION</th>\n",
       "      <th>LATITUDE</th>\n",
       "      <th>LONGITUDE</th>\n",
       "      <th>PRCP</th>\n",
       "      <th>TAVG</th>\n",
       "      <th>TMAX</th>\n",
       "      <th>TMIN</th>\n",
       "    </tr>\n",
       "    <tr>\n",
       "      <th>DATE</th>\n",
       "      <th></th>\n",
       "      <th></th>\n",
       "      <th></th>\n",
       "      <th></th>\n",
       "      <th></th>\n",
       "      <th></th>\n",
       "      <th></th>\n",
       "      <th></th>\n",
       "    </tr>\n",
       "  </thead>\n",
       "  <tbody>\n",
       "    <tr>\n",
       "      <th>2017-10-04</th>\n",
       "      <td>GHCND:FIE00142080</td>\n",
       "      <td>51</td>\n",
       "      <td>60.3269</td>\n",
       "      <td>24.9603</td>\n",
       "      <td>0.51</td>\n",
       "      <td>52.0</td>\n",
       "      <td>56.0</td>\n",
       "      <td>NaN</td>\n",
       "    </tr>\n",
       "  </tbody>\n",
       "</table>\n",
       "</div>"
      ],
      "text/plain": [
       "                      STATION  ELEVATION  LATITUDE  LONGITUDE  PRCP  TAVG  \\\n",
       "DATE                                                                        \n",
       "2017-10-04  GHCND:FIE00142080         51   60.3269    24.9603  0.51  52.0   \n",
       "\n",
       "            TMAX  TMIN  \n",
       "DATE                    \n",
       "2017-10-04  56.0   NaN  "
      ]
     },
     "execution_count": 51,
     "metadata": {},
     "output_type": "execute_result"
    }
   ],
   "source": [
    "last_obs = data.loc[[data.index.max()]]"
   ]
  },
  {
   "cell_type": "markdown",
   "id": "b05664f5-a057-42f1-aca1-053e4c3599a3",
   "metadata": {},
   "source": [
    "#### avg_temp"
   ]
  },
  {
   "cell_type": "code",
   "execution_count": 52,
   "id": "5c38a352-1ecf-4a2d-96c4-5cbb1522caa3",
   "metadata": {},
   "outputs": [
    {
     "data": {
      "text/plain": [
       "41.32408859270874"
      ]
     },
     "execution_count": 52,
     "metadata": {},
     "output_type": "execute_result"
    }
   ],
   "source": [
    "avg_temp = data['TAVG'].mean()"
   ]
  },
  {
   "cell_type": "code",
   "execution_count": 53,
   "id": "796c6afc-d21b-47ea-b253-dcafc173347f",
   "metadata": {},
   "outputs": [
    {
     "data": {
      "text/html": [
       "<div>\n",
       "<style scoped>\n",
       "    .dataframe tbody tr th:only-of-type {\n",
       "        vertical-align: middle;\n",
       "    }\n",
       "\n",
       "    .dataframe tbody tr th {\n",
       "        vertical-align: top;\n",
       "    }\n",
       "\n",
       "    .dataframe thead th {\n",
       "        text-align: right;\n",
       "    }\n",
       "</style>\n",
       "<table border=\"1\" class=\"dataframe\">\n",
       "  <thead>\n",
       "    <tr style=\"text-align: right;\">\n",
       "      <th></th>\n",
       "      <th>STATION</th>\n",
       "      <th>ELEVATION</th>\n",
       "      <th>LATITUDE</th>\n",
       "      <th>LONGITUDE</th>\n",
       "      <th>PRCP</th>\n",
       "      <th>TAVG</th>\n",
       "      <th>TMAX</th>\n",
       "      <th>TMIN</th>\n",
       "    </tr>\n",
       "    <tr>\n",
       "      <th>DATE</th>\n",
       "      <th></th>\n",
       "      <th></th>\n",
       "      <th></th>\n",
       "      <th></th>\n",
       "      <th></th>\n",
       "      <th></th>\n",
       "      <th></th>\n",
       "      <th></th>\n",
       "    </tr>\n",
       "  </thead>\n",
       "  <tbody>\n",
       "    <tr>\n",
       "      <th>1969-05-01</th>\n",
       "      <td>GHCND:FIE00142080</td>\n",
       "      <td>51</td>\n",
       "      <td>60.3269</td>\n",
       "      <td>24.9603</td>\n",
       "      <td>0.0</td>\n",
       "      <td>NaN</td>\n",
       "      <td>41.0</td>\n",
       "      <td>33.0</td>\n",
       "    </tr>\n",
       "    <tr>\n",
       "      <th>1969-05-02</th>\n",
       "      <td>GHCND:FIE00142080</td>\n",
       "      <td>51</td>\n",
       "      <td>60.3269</td>\n",
       "      <td>24.9603</td>\n",
       "      <td>0.0</td>\n",
       "      <td>NaN</td>\n",
       "      <td>48.0</td>\n",
       "      <td>31.0</td>\n",
       "    </tr>\n",
       "    <tr>\n",
       "      <th>1969-05-03</th>\n",
       "      <td>GHCND:FIE00142080</td>\n",
       "      <td>51</td>\n",
       "      <td>60.3269</td>\n",
       "      <td>24.9603</td>\n",
       "      <td>0.0</td>\n",
       "      <td>NaN</td>\n",
       "      <td>44.0</td>\n",
       "      <td>27.0</td>\n",
       "    </tr>\n",
       "  </tbody>\n",
       "</table>\n",
       "</div>"
      ],
      "text/plain": [
       "                      STATION  ELEVATION  LATITUDE  LONGITUDE  PRCP  TAVG  \\\n",
       "DATE                                                                        \n",
       "1969-05-01  GHCND:FIE00142080         51   60.3269    24.9603   0.0   NaN   \n",
       "1969-05-02  GHCND:FIE00142080         51   60.3269    24.9603   0.0   NaN   \n",
       "1969-05-03  GHCND:FIE00142080         51   60.3269    24.9603   0.0   NaN   \n",
       "\n",
       "            TMAX  TMIN  \n",
       "DATE                    \n",
       "1969-05-01  41.0  33.0  \n",
       "1969-05-02  48.0  31.0  \n",
       "1969-05-03  44.0  27.0  "
      ]
     },
     "execution_count": 53,
     "metadata": {},
     "output_type": "execute_result"
    }
   ],
   "source": [
    "filt1 = data.index.to_series().dt.year == 1969\n",
    "filt2 = data.index.to_series().dt.month.isin([5,6,7,8])\n",
    "filt = filt1 & filt2\n",
    "temp_1969_may_aug = data[filt]\n",
    "temp_1969_may_aug.head(3)"
   ]
  },
  {
   "cell_type": "code",
   "execution_count": 54,
   "id": "d2710ff3-ede9-49e4-9bcb-a5ff392df604",
   "metadata": {},
   "outputs": [
    {
     "data": {
      "text/plain": [
       "67.82"
      ]
     },
     "execution_count": 54,
     "metadata": {},
     "output_type": "execute_result"
    }
   ],
   "source": [
    "avg_temp_1969 = round(temp_1969_may_aug['TMAX'].mean(),2)"
   ]
  },
  {
   "cell_type": "markdown",
   "id": "cf1c86ed-1f70-43bf-94b3-2ac0513a92d3",
   "metadata": {},
   "source": [
    "### Prob 2"
   ]
  },
  {
   "cell_type": "markdown",
   "id": "658223af-aa8b-4dbb-8a74-25ce8eadbf5b",
   "metadata": {},
   "source": [
    "#### convert date"
   ]
  },
  {
   "cell_type": "code",
   "execution_count": 55,
   "id": "56177edf-aa4b-41db-8423-bdbbec21a91b",
   "metadata": {},
   "outputs": [
    {
     "data": {
      "text/html": [
       "<div>\n",
       "<style scoped>\n",
       "    .dataframe tbody tr th:only-of-type {\n",
       "        vertical-align: middle;\n",
       "    }\n",
       "\n",
       "    .dataframe tbody tr th {\n",
       "        vertical-align: top;\n",
       "    }\n",
       "\n",
       "    .dataframe thead th {\n",
       "        text-align: right;\n",
       "    }\n",
       "</style>\n",
       "<table border=\"1\" class=\"dataframe\">\n",
       "  <thead>\n",
       "    <tr style=\"text-align: right;\">\n",
       "      <th></th>\n",
       "      <th>STATION</th>\n",
       "      <th>ELEVATION</th>\n",
       "      <th>LATITUDE</th>\n",
       "      <th>LONGITUDE</th>\n",
       "      <th>PRCP</th>\n",
       "      <th>TAVG</th>\n",
       "      <th>TMAX</th>\n",
       "      <th>TMIN</th>\n",
       "      <th>YEAR_MONTH</th>\n",
       "    </tr>\n",
       "    <tr>\n",
       "      <th>DATE</th>\n",
       "      <th></th>\n",
       "      <th></th>\n",
       "      <th></th>\n",
       "      <th></th>\n",
       "      <th></th>\n",
       "      <th></th>\n",
       "      <th></th>\n",
       "      <th></th>\n",
       "      <th></th>\n",
       "    </tr>\n",
       "  </thead>\n",
       "  <tbody>\n",
       "    <tr>\n",
       "      <th>1952-01-01</th>\n",
       "      <td>GHCND:FIE00142080</td>\n",
       "      <td>51</td>\n",
       "      <td>60.3269</td>\n",
       "      <td>24.9603</td>\n",
       "      <td>0.31</td>\n",
       "      <td>37.0</td>\n",
       "      <td>39.0</td>\n",
       "      <td>34.0</td>\n",
       "      <td>195201</td>\n",
       "    </tr>\n",
       "    <tr>\n",
       "      <th>1952-01-02</th>\n",
       "      <td>GHCND:FIE00142080</td>\n",
       "      <td>51</td>\n",
       "      <td>60.3269</td>\n",
       "      <td>24.9603</td>\n",
       "      <td>NaN</td>\n",
       "      <td>35.0</td>\n",
       "      <td>37.0</td>\n",
       "      <td>34.0</td>\n",
       "      <td>195201</td>\n",
       "    </tr>\n",
       "    <tr>\n",
       "      <th>1952-01-03</th>\n",
       "      <td>GHCND:FIE00142080</td>\n",
       "      <td>51</td>\n",
       "      <td>60.3269</td>\n",
       "      <td>24.9603</td>\n",
       "      <td>0.14</td>\n",
       "      <td>33.0</td>\n",
       "      <td>36.0</td>\n",
       "      <td>NaN</td>\n",
       "      <td>195201</td>\n",
       "    </tr>\n",
       "  </tbody>\n",
       "</table>\n",
       "</div>"
      ],
      "text/plain": [
       "                      STATION  ELEVATION  LATITUDE  LONGITUDE  PRCP  TAVG  \\\n",
       "DATE                                                                        \n",
       "1952-01-01  GHCND:FIE00142080         51   60.3269    24.9603  0.31  37.0   \n",
       "1952-01-02  GHCND:FIE00142080         51   60.3269    24.9603   NaN  35.0   \n",
       "1952-01-03  GHCND:FIE00142080         51   60.3269    24.9603  0.14  33.0   \n",
       "\n",
       "            TMAX  TMIN YEAR_MONTH  \n",
       "DATE                               \n",
       "1952-01-01  39.0  34.0     195201  \n",
       "1952-01-02  37.0  34.0     195201  \n",
       "1952-01-03  36.0   NaN     195201  "
      ]
     },
     "execution_count": 55,
     "metadata": {},
     "output_type": "execute_result"
    }
   ],
   "source": [
    "data['YEAR_MONTH'] =  data.index.astype(str).str.slice(start=0, stop=4) +\\\n",
    "                      data.index.astype(str).str.slice(start=5, stop=7)\n",
    "data.head(3)"
   ]
  },
  {
   "cell_type": "markdown",
   "id": "a9b1cdba-2ead-41db-acee-a0bc1768cca9",
   "metadata": {},
   "source": [
    "#### apply function"
   ]
  },
  {
   "cell_type": "code",
   "execution_count": 56,
   "id": "27a2f6fb-2432-4f57-b430-1f19bbd98ed0",
   "metadata": {},
   "outputs": [],
   "source": [
    "data['temp_celsius'] = data['TAVG'].apply(tc.fahr_to_celsius)"
   ]
  },
  {
   "cell_type": "markdown",
   "id": "66a4f33a-a71b-4762-a71a-ebb62bde00d8",
   "metadata": {},
   "source": [
    "#### .groupby"
   ]
  },
  {
   "cell_type": "code",
   "execution_count": 57,
   "id": "b4675ab4-c6c8-4104-8be8-b1448c57cad6",
   "metadata": {},
   "outputs": [
    {
     "data": {
      "text/html": [
       "<div>\n",
       "<style scoped>\n",
       "    .dataframe tbody tr th:only-of-type {\n",
       "        vertical-align: middle;\n",
       "    }\n",
       "\n",
       "    .dataframe tbody tr th {\n",
       "        vertical-align: top;\n",
       "    }\n",
       "\n",
       "    .dataframe thead th {\n",
       "        text-align: right;\n",
       "    }\n",
       "</style>\n",
       "<table border=\"1\" class=\"dataframe\">\n",
       "  <thead>\n",
       "    <tr style=\"text-align: right;\">\n",
       "      <th></th>\n",
       "      <th>temp_celsius</th>\n",
       "    </tr>\n",
       "    <tr>\n",
       "      <th>YEAR_MONTH</th>\n",
       "      <th></th>\n",
       "    </tr>\n",
       "  </thead>\n",
       "  <tbody>\n",
       "    <tr>\n",
       "      <th>195201</th>\n",
       "      <td>-1.400966</td>\n",
       "    </tr>\n",
       "    <tr>\n",
       "      <th>195202</th>\n",
       "      <td>-4.000000</td>\n",
       "    </tr>\n",
       "    <tr>\n",
       "      <th>195203</th>\n",
       "      <td>-10.106838</td>\n",
       "    </tr>\n",
       "    <tr>\n",
       "      <th>195204</th>\n",
       "      <td>4.226190</td>\n",
       "    </tr>\n",
       "    <tr>\n",
       "      <th>195205</th>\n",
       "      <td>7.037037</td>\n",
       "    </tr>\n",
       "    <tr>\n",
       "      <th>...</th>\n",
       "      <td>...</td>\n",
       "    </tr>\n",
       "    <tr>\n",
       "      <th>201706</th>\n",
       "      <td>13.500000</td>\n",
       "    </tr>\n",
       "    <tr>\n",
       "      <th>201707</th>\n",
       "      <td>15.716846</td>\n",
       "    </tr>\n",
       "    <tr>\n",
       "      <th>201708</th>\n",
       "      <td>15.716846</td>\n",
       "    </tr>\n",
       "    <tr>\n",
       "      <th>201709</th>\n",
       "      <td>11.296296</td>\n",
       "    </tr>\n",
       "    <tr>\n",
       "      <th>201710</th>\n",
       "      <td>9.027778</td>\n",
       "    </tr>\n",
       "  </tbody>\n",
       "</table>\n",
       "<p>790 rows × 1 columns</p>\n",
       "</div>"
      ],
      "text/plain": [
       "            temp_celsius\n",
       "YEAR_MONTH              \n",
       "195201         -1.400966\n",
       "195202         -4.000000\n",
       "195203        -10.106838\n",
       "195204          4.226190\n",
       "195205          7.037037\n",
       "...                  ...\n",
       "201706         13.500000\n",
       "201707         15.716846\n",
       "201708         15.716846\n",
       "201709         11.296296\n",
       "201710          9.027778\n",
       "\n",
       "[790 rows x 1 columns]"
      ]
     },
     "execution_count": 57,
     "metadata": {},
     "output_type": "execute_result"
    }
   ],
   "source": [
    "cols = ['temp_celsius']\n",
    "monthly_data = data.groupby(\"YEAR_MONTH\")[cols].agg('mean')"
   ]
  },
  {
   "cell_type": "markdown",
   "id": "418a0dd7-83f6-4843-8f56-65c4257002ba",
   "metadata": {},
   "source": [
    "### Prob 3"
   ]
  },
  {
   "cell_type": "code",
   "execution_count": 58,
   "id": "a93229df-33e6-4918-a055-4c1487d0f165",
   "metadata": {},
   "outputs": [
    {
     "data": {
      "text/html": [
       "<div>\n",
       "<style scoped>\n",
       "    .dataframe tbody tr th:only-of-type {\n",
       "        vertical-align: middle;\n",
       "    }\n",
       "\n",
       "    .dataframe tbody tr th {\n",
       "        vertical-align: top;\n",
       "    }\n",
       "\n",
       "    .dataframe thead th {\n",
       "        text-align: right;\n",
       "    }\n",
       "</style>\n",
       "<table border=\"1\" class=\"dataframe\">\n",
       "  <thead>\n",
       "    <tr style=\"text-align: right;\">\n",
       "      <th></th>\n",
       "      <th>YEAR_MONTH</th>\n",
       "      <th>temp_celsius</th>\n",
       "      <th>month</th>\n",
       "    </tr>\n",
       "  </thead>\n",
       "  <tbody>\n",
       "    <tr>\n",
       "      <th>0</th>\n",
       "      <td>195201</td>\n",
       "      <td>-1.400966</td>\n",
       "      <td>01</td>\n",
       "    </tr>\n",
       "    <tr>\n",
       "      <th>1</th>\n",
       "      <td>195202</td>\n",
       "      <td>-4.000000</td>\n",
       "      <td>02</td>\n",
       "    </tr>\n",
       "    <tr>\n",
       "      <th>2</th>\n",
       "      <td>195203</td>\n",
       "      <td>-10.106838</td>\n",
       "      <td>03</td>\n",
       "    </tr>\n",
       "    <tr>\n",
       "      <th>3</th>\n",
       "      <td>195204</td>\n",
       "      <td>4.226190</td>\n",
       "      <td>04</td>\n",
       "    </tr>\n",
       "    <tr>\n",
       "      <th>4</th>\n",
       "      <td>195205</td>\n",
       "      <td>7.037037</td>\n",
       "      <td>05</td>\n",
       "    </tr>\n",
       "    <tr>\n",
       "      <th>...</th>\n",
       "      <td>...</td>\n",
       "      <td>...</td>\n",
       "      <td>...</td>\n",
       "    </tr>\n",
       "    <tr>\n",
       "      <th>785</th>\n",
       "      <td>201706</td>\n",
       "      <td>13.500000</td>\n",
       "      <td>06</td>\n",
       "    </tr>\n",
       "    <tr>\n",
       "      <th>786</th>\n",
       "      <td>201707</td>\n",
       "      <td>15.716846</td>\n",
       "      <td>07</td>\n",
       "    </tr>\n",
       "    <tr>\n",
       "      <th>787</th>\n",
       "      <td>201708</td>\n",
       "      <td>15.716846</td>\n",
       "      <td>08</td>\n",
       "    </tr>\n",
       "    <tr>\n",
       "      <th>788</th>\n",
       "      <td>201709</td>\n",
       "      <td>11.296296</td>\n",
       "      <td>09</td>\n",
       "    </tr>\n",
       "    <tr>\n",
       "      <th>789</th>\n",
       "      <td>201710</td>\n",
       "      <td>9.027778</td>\n",
       "      <td>10</td>\n",
       "    </tr>\n",
       "  </tbody>\n",
       "</table>\n",
       "<p>790 rows × 3 columns</p>\n",
       "</div>"
      ],
      "text/plain": [
       "    YEAR_MONTH  temp_celsius month\n",
       "0       195201     -1.400966    01\n",
       "1       195202     -4.000000    02\n",
       "2       195203    -10.106838    03\n",
       "3       195204      4.226190    04\n",
       "4       195205      7.037037    05\n",
       "..         ...           ...   ...\n",
       "785     201706     13.500000    06\n",
       "786     201707     15.716846    07\n",
       "787     201708     15.716846    08\n",
       "788     201709     11.296296    09\n",
       "789     201710      9.027778    10\n",
       "\n",
       "[790 rows x 3 columns]"
      ]
     },
     "execution_count": 58,
     "metadata": {},
     "output_type": "execute_result"
    }
   ],
   "source": [
    "monthly_data['month'] =  monthly_data.index.to_series().str.slice(start=4, stop=6)\n",
    "monthly_data.reset_index(inplace=True)\n",
    "monthly_data"
   ]
  },
  {
   "cell_type": "markdown",
   "id": "f2c78964-02a5-426b-b3df-7b1819edba58",
   "metadata": {},
   "source": [
    "#### part 1: reference_temps"
   ]
  },
  {
   "cell_type": "code",
   "execution_count": 59,
   "id": "edb93cba-22f6-46c3-ae01-502822cc431c",
   "metadata": {},
   "outputs": [
    {
     "data": {
      "text/html": [
       "<div>\n",
       "<style scoped>\n",
       "    .dataframe tbody tr th:only-of-type {\n",
       "        vertical-align: middle;\n",
       "    }\n",
       "\n",
       "    .dataframe tbody tr th {\n",
       "        vertical-align: top;\n",
       "    }\n",
       "\n",
       "    .dataframe thead th {\n",
       "        text-align: right;\n",
       "    }\n",
       "</style>\n",
       "<table border=\"1\" class=\"dataframe\">\n",
       "  <thead>\n",
       "    <tr style=\"text-align: right;\">\n",
       "      <th></th>\n",
       "      <th>temp_celsius</th>\n",
       "    </tr>\n",
       "    <tr>\n",
       "      <th>month</th>\n",
       "      <th></th>\n",
       "    </tr>\n",
       "  </thead>\n",
       "  <tbody>\n",
       "    <tr>\n",
       "      <th>01</th>\n",
       "      <td>-5.350916</td>\n",
       "    </tr>\n",
       "    <tr>\n",
       "      <th>02</th>\n",
       "      <td>-5.941307</td>\n",
       "    </tr>\n",
       "    <tr>\n",
       "      <th>03</th>\n",
       "      <td>-2.440364</td>\n",
       "    </tr>\n",
       "    <tr>\n",
       "      <th>04</th>\n",
       "      <td>3.423785</td>\n",
       "    </tr>\n",
       "    <tr>\n",
       "      <th>05</th>\n",
       "      <td>10.179938</td>\n",
       "    </tr>\n",
       "    <tr>\n",
       "      <th>...</th>\n",
       "      <td>...</td>\n",
       "    </tr>\n",
       "    <tr>\n",
       "      <th>08</th>\n",
       "      <td>15.603642</td>\n",
       "    </tr>\n",
       "    <tr>\n",
       "      <th>09</th>\n",
       "      <td>10.596153</td>\n",
       "    </tr>\n",
       "    <tr>\n",
       "      <th>10</th>\n",
       "      <td>5.487785</td>\n",
       "    </tr>\n",
       "    <tr>\n",
       "      <th>11</th>\n",
       "      <td>0.645782</td>\n",
       "    </tr>\n",
       "    <tr>\n",
       "      <th>12</th>\n",
       "      <td>-3.211359</td>\n",
       "    </tr>\n",
       "  </tbody>\n",
       "</table>\n",
       "<p>12 rows × 1 columns</p>\n",
       "</div>"
      ],
      "text/plain": [
       "       temp_celsius\n",
       "month              \n",
       "01        -5.350916\n",
       "02        -5.941307\n",
       "03        -2.440364\n",
       "04         3.423785\n",
       "05        10.179938\n",
       "...             ...\n",
       "08        15.603642\n",
       "09        10.596153\n",
       "10         5.487785\n",
       "11         0.645782\n",
       "12        -3.211359\n",
       "\n",
       "[12 rows x 1 columns]"
      ]
     },
     "execution_count": 59,
     "metadata": {},
     "output_type": "execute_result"
    }
   ],
   "source": [
    "cols = ['temp_celsius']\n",
    "reference_temps = monthly_data.groupby(\"month\")[cols].agg('mean')"
   ]
  },
  {
   "cell_type": "code",
   "execution_count": 60,
   "id": "4e681a34-4574-499f-9161-e2599c6622af",
   "metadata": {},
   "outputs": [],
   "source": [
    "reference_temps.reset_index(inplace=True)"
   ]
  },
  {
   "cell_type": "code",
   "execution_count": 61,
   "id": "1115264f-241b-4266-aae1-f1dedea55ec9",
   "metadata": {},
   "outputs": [],
   "source": [
    "new_names = {\"temp_celsius\": \"ref_temp\"}\n",
    "reference_temps = reference_temps.rename(columns=new_names);"
   ]
  },
  {
   "cell_type": "code",
   "execution_count": 62,
   "id": "670e2cb5-18d4-4d8a-a0d5-d6ad17c913ec",
   "metadata": {},
   "outputs": [
    {
     "data": {
      "text/html": [
       "<div>\n",
       "<style scoped>\n",
       "    .dataframe tbody tr th:only-of-type {\n",
       "        vertical-align: middle;\n",
       "    }\n",
       "\n",
       "    .dataframe tbody tr th {\n",
       "        vertical-align: top;\n",
       "    }\n",
       "\n",
       "    .dataframe thead th {\n",
       "        text-align: right;\n",
       "    }\n",
       "</style>\n",
       "<table border=\"1\" class=\"dataframe\">\n",
       "  <thead>\n",
       "    <tr style=\"text-align: right;\">\n",
       "      <th></th>\n",
       "      <th>month</th>\n",
       "      <th>ref_temp</th>\n",
       "    </tr>\n",
       "  </thead>\n",
       "  <tbody>\n",
       "    <tr>\n",
       "      <th>0</th>\n",
       "      <td>01</td>\n",
       "      <td>-5.350916</td>\n",
       "    </tr>\n",
       "    <tr>\n",
       "      <th>1</th>\n",
       "      <td>02</td>\n",
       "      <td>-5.941307</td>\n",
       "    </tr>\n",
       "    <tr>\n",
       "      <th>2</th>\n",
       "      <td>03</td>\n",
       "      <td>-2.440364</td>\n",
       "    </tr>\n",
       "  </tbody>\n",
       "</table>\n",
       "</div>"
      ],
      "text/plain": [
       "  month  ref_temp\n",
       "0    01 -5.350916\n",
       "1    02 -5.941307\n",
       "2    03 -2.440364"
      ]
     },
     "execution_count": 62,
     "metadata": {},
     "output_type": "execute_result"
    }
   ],
   "source": [
    "reference_temps.head(3)"
   ]
  },
  {
   "cell_type": "markdown",
   "id": "d0bf499f-6f02-46b1-b5d3-423525119110",
   "metadata": {},
   "source": [
    "#### part 2: temperature anomalies"
   ]
  },
  {
   "cell_type": "code",
   "execution_count": 63,
   "id": "085228ae-8d11-4e61-9eb1-a7da11bc9a63",
   "metadata": {},
   "outputs": [
    {
     "data": {
      "text/html": [
       "<div>\n",
       "<style scoped>\n",
       "    .dataframe tbody tr th:only-of-type {\n",
       "        vertical-align: middle;\n",
       "    }\n",
       "\n",
       "    .dataframe tbody tr th {\n",
       "        vertical-align: top;\n",
       "    }\n",
       "\n",
       "    .dataframe thead th {\n",
       "        text-align: right;\n",
       "    }\n",
       "</style>\n",
       "<table border=\"1\" class=\"dataframe\">\n",
       "  <thead>\n",
       "    <tr style=\"text-align: right;\">\n",
       "      <th></th>\n",
       "      <th>YEAR_MONTH</th>\n",
       "      <th>temp_celsius</th>\n",
       "      <th>month</th>\n",
       "    </tr>\n",
       "  </thead>\n",
       "  <tbody>\n",
       "    <tr>\n",
       "      <th>0</th>\n",
       "      <td>195201</td>\n",
       "      <td>-1.400966</td>\n",
       "      <td>01</td>\n",
       "    </tr>\n",
       "    <tr>\n",
       "      <th>1</th>\n",
       "      <td>195202</td>\n",
       "      <td>-4.000000</td>\n",
       "      <td>02</td>\n",
       "    </tr>\n",
       "    <tr>\n",
       "      <th>2</th>\n",
       "      <td>195203</td>\n",
       "      <td>-10.106838</td>\n",
       "      <td>03</td>\n",
       "    </tr>\n",
       "  </tbody>\n",
       "</table>\n",
       "</div>"
      ],
      "text/plain": [
       "  YEAR_MONTH  temp_celsius month\n",
       "0     195201     -1.400966    01\n",
       "1     195202     -4.000000    02\n",
       "2     195203    -10.106838    03"
      ]
     },
     "execution_count": 63,
     "metadata": {},
     "output_type": "execute_result"
    }
   ],
   "source": [
    "monthly_data.head(3)"
   ]
  },
  {
   "cell_type": "code",
   "execution_count": 64,
   "id": "faa12e20-2e81-46ee-80ee-8fc8a581d92f",
   "metadata": {},
   "outputs": [
    {
     "data": {
      "text/html": [
       "<div>\n",
       "<style scoped>\n",
       "    .dataframe tbody tr th:only-of-type {\n",
       "        vertical-align: middle;\n",
       "    }\n",
       "\n",
       "    .dataframe tbody tr th {\n",
       "        vertical-align: top;\n",
       "    }\n",
       "\n",
       "    .dataframe thead th {\n",
       "        text-align: right;\n",
       "    }\n",
       "</style>\n",
       "<table border=\"1\" class=\"dataframe\">\n",
       "  <thead>\n",
       "    <tr style=\"text-align: right;\">\n",
       "      <th></th>\n",
       "      <th>YEAR_MONTH</th>\n",
       "      <th>temp_celsius</th>\n",
       "      <th>month</th>\n",
       "      <th>ref_temp</th>\n",
       "    </tr>\n",
       "  </thead>\n",
       "  <tbody>\n",
       "    <tr>\n",
       "      <th>0</th>\n",
       "      <td>195201</td>\n",
       "      <td>-1.400966</td>\n",
       "      <td>01</td>\n",
       "      <td>-5.350916</td>\n",
       "    </tr>\n",
       "    <tr>\n",
       "      <th>1</th>\n",
       "      <td>195301</td>\n",
       "      <td>-5.396825</td>\n",
       "      <td>01</td>\n",
       "      <td>-5.350916</td>\n",
       "    </tr>\n",
       "    <tr>\n",
       "      <th>2</th>\n",
       "      <td>195401</td>\n",
       "      <td>-7.072650</td>\n",
       "      <td>01</td>\n",
       "      <td>-5.350916</td>\n",
       "    </tr>\n",
       "    <tr>\n",
       "      <th>3</th>\n",
       "      <td>195501</td>\n",
       "      <td>-5.473251</td>\n",
       "      <td>01</td>\n",
       "      <td>-5.350916</td>\n",
       "    </tr>\n",
       "    <tr>\n",
       "      <th>4</th>\n",
       "      <td>195601</td>\n",
       "      <td>-8.133333</td>\n",
       "      <td>01</td>\n",
       "      <td>-5.350916</td>\n",
       "    </tr>\n",
       "    <tr>\n",
       "      <th>...</th>\n",
       "      <td>...</td>\n",
       "      <td>...</td>\n",
       "      <td>...</td>\n",
       "      <td>...</td>\n",
       "    </tr>\n",
       "    <tr>\n",
       "      <th>785</th>\n",
       "      <td>201212</td>\n",
       "      <td>-6.630824</td>\n",
       "      <td>12</td>\n",
       "      <td>-3.211359</td>\n",
       "    </tr>\n",
       "    <tr>\n",
       "      <th>786</th>\n",
       "      <td>201312</td>\n",
       "      <td>1.362007</td>\n",
       "      <td>12</td>\n",
       "      <td>-3.211359</td>\n",
       "    </tr>\n",
       "    <tr>\n",
       "      <th>787</th>\n",
       "      <td>201412</td>\n",
       "      <td>-1.146953</td>\n",
       "      <td>12</td>\n",
       "      <td>-3.211359</td>\n",
       "    </tr>\n",
       "    <tr>\n",
       "      <th>788</th>\n",
       "      <td>201512</td>\n",
       "      <td>2.204301</td>\n",
       "      <td>12</td>\n",
       "      <td>-3.211359</td>\n",
       "    </tr>\n",
       "    <tr>\n",
       "      <th>789</th>\n",
       "      <td>201612</td>\n",
       "      <td>-0.788530</td>\n",
       "      <td>12</td>\n",
       "      <td>-3.211359</td>\n",
       "    </tr>\n",
       "  </tbody>\n",
       "</table>\n",
       "<p>790 rows × 4 columns</p>\n",
       "</div>"
      ],
      "text/plain": [
       "    YEAR_MONTH  temp_celsius month  ref_temp\n",
       "0       195201     -1.400966    01 -5.350916\n",
       "1       195301     -5.396825    01 -5.350916\n",
       "2       195401     -7.072650    01 -5.350916\n",
       "3       195501     -5.473251    01 -5.350916\n",
       "4       195601     -8.133333    01 -5.350916\n",
       "..         ...           ...   ...       ...\n",
       "785     201212     -6.630824    12 -3.211359\n",
       "786     201312      1.362007    12 -3.211359\n",
       "787     201412     -1.146953    12 -3.211359\n",
       "788     201512      2.204301    12 -3.211359\n",
       "789     201612     -0.788530    12 -3.211359\n",
       "\n",
       "[790 rows x 4 columns]"
      ]
     },
     "execution_count": 64,
     "metadata": {},
     "output_type": "execute_result"
    }
   ],
   "source": [
    "join1 = monthly_data.merge(reference_temps, on='month')"
   ]
  },
  {
   "cell_type": "code",
   "execution_count": 65,
   "id": "7bebfd91-1506-42e1-8661-8a4dd870cd7f",
   "metadata": {},
   "outputs": [
    {
     "data": {
      "text/html": [
       "<div>\n",
       "<style scoped>\n",
       "    .dataframe tbody tr th:only-of-type {\n",
       "        vertical-align: middle;\n",
       "    }\n",
       "\n",
       "    .dataframe tbody tr th {\n",
       "        vertical-align: top;\n",
       "    }\n",
       "\n",
       "    .dataframe thead th {\n",
       "        text-align: right;\n",
       "    }\n",
       "</style>\n",
       "<table border=\"1\" class=\"dataframe\">\n",
       "  <thead>\n",
       "    <tr style=\"text-align: right;\">\n",
       "      <th></th>\n",
       "      <th>YEAR_MONTH</th>\n",
       "      <th>temp_celsius</th>\n",
       "      <th>month</th>\n",
       "      <th>ref_temp</th>\n",
       "    </tr>\n",
       "  </thead>\n",
       "  <tbody>\n",
       "    <tr>\n",
       "      <th>0</th>\n",
       "      <td>195201</td>\n",
       "      <td>-1.400966</td>\n",
       "      <td>01</td>\n",
       "      <td>-5.350916</td>\n",
       "    </tr>\n",
       "    <tr>\n",
       "      <th>1</th>\n",
       "      <td>195301</td>\n",
       "      <td>-5.396825</td>\n",
       "      <td>01</td>\n",
       "      <td>-5.350916</td>\n",
       "    </tr>\n",
       "    <tr>\n",
       "      <th>2</th>\n",
       "      <td>195401</td>\n",
       "      <td>-7.072650</td>\n",
       "      <td>01</td>\n",
       "      <td>-5.350916</td>\n",
       "    </tr>\n",
       "    <tr>\n",
       "      <th>3</th>\n",
       "      <td>195501</td>\n",
       "      <td>-5.473251</td>\n",
       "      <td>01</td>\n",
       "      <td>-5.350916</td>\n",
       "    </tr>\n",
       "    <tr>\n",
       "      <th>4</th>\n",
       "      <td>195601</td>\n",
       "      <td>-8.133333</td>\n",
       "      <td>01</td>\n",
       "      <td>-5.350916</td>\n",
       "    </tr>\n",
       "    <tr>\n",
       "      <th>...</th>\n",
       "      <td>...</td>\n",
       "      <td>...</td>\n",
       "      <td>...</td>\n",
       "      <td>...</td>\n",
       "    </tr>\n",
       "    <tr>\n",
       "      <th>785</th>\n",
       "      <td>201212</td>\n",
       "      <td>-6.630824</td>\n",
       "      <td>12</td>\n",
       "      <td>-3.211359</td>\n",
       "    </tr>\n",
       "    <tr>\n",
       "      <th>786</th>\n",
       "      <td>201312</td>\n",
       "      <td>1.362007</td>\n",
       "      <td>12</td>\n",
       "      <td>-3.211359</td>\n",
       "    </tr>\n",
       "    <tr>\n",
       "      <th>787</th>\n",
       "      <td>201412</td>\n",
       "      <td>-1.146953</td>\n",
       "      <td>12</td>\n",
       "      <td>-3.211359</td>\n",
       "    </tr>\n",
       "    <tr>\n",
       "      <th>788</th>\n",
       "      <td>201512</td>\n",
       "      <td>2.204301</td>\n",
       "      <td>12</td>\n",
       "      <td>-3.211359</td>\n",
       "    </tr>\n",
       "    <tr>\n",
       "      <th>789</th>\n",
       "      <td>201612</td>\n",
       "      <td>-0.788530</td>\n",
       "      <td>12</td>\n",
       "      <td>-3.211359</td>\n",
       "    </tr>\n",
       "  </tbody>\n",
       "</table>\n",
       "<p>790 rows × 4 columns</p>\n",
       "</div>"
      ],
      "text/plain": [
       "    YEAR_MONTH  temp_celsius month  ref_temp\n",
       "0       195201     -1.400966    01 -5.350916\n",
       "1       195301     -5.396825    01 -5.350916\n",
       "2       195401     -7.072650    01 -5.350916\n",
       "3       195501     -5.473251    01 -5.350916\n",
       "4       195601     -8.133333    01 -5.350916\n",
       "..         ...           ...   ...       ...\n",
       "785     201212     -6.630824    12 -3.211359\n",
       "786     201312      1.362007    12 -3.211359\n",
       "787     201412     -1.146953    12 -3.211359\n",
       "788     201512      2.204301    12 -3.211359\n",
       "789     201612     -0.788530    12 -3.211359\n",
       "\n",
       "[790 rows x 4 columns]"
      ]
     },
     "execution_count": 65,
     "metadata": {},
     "output_type": "execute_result"
    }
   ],
   "source": [
    "monthly_diff = join1.copy()"
   ]
  },
  {
   "cell_type": "code",
   "execution_count": 66,
   "id": "6a3232d6-7cf9-4a9f-ba7d-1dc54909426a",
   "metadata": {},
   "outputs": [],
   "source": [
    "monthly_diff['diff'] = monthly_diff['temp_celsius'] - monthly_diff['ref_temp']"
   ]
  },
  {
   "cell_type": "code",
   "execution_count": 67,
   "id": "1a59d7e2-08f8-46b1-826a-ce08a3e09495",
   "metadata": {},
   "outputs": [
    {
     "data": {
      "text/html": [
       "<div>\n",
       "<style scoped>\n",
       "    .dataframe tbody tr th:only-of-type {\n",
       "        vertical-align: middle;\n",
       "    }\n",
       "\n",
       "    .dataframe tbody tr th {\n",
       "        vertical-align: top;\n",
       "    }\n",
       "\n",
       "    .dataframe thead th {\n",
       "        text-align: right;\n",
       "    }\n",
       "</style>\n",
       "<table border=\"1\" class=\"dataframe\">\n",
       "  <thead>\n",
       "    <tr style=\"text-align: right;\">\n",
       "      <th></th>\n",
       "      <th>YEAR_MONTH</th>\n",
       "      <th>temp_celsius</th>\n",
       "      <th>month</th>\n",
       "      <th>ref_temp</th>\n",
       "      <th>diff</th>\n",
       "    </tr>\n",
       "  </thead>\n",
       "  <tbody>\n",
       "    <tr>\n",
       "      <th>0</th>\n",
       "      <td>195201</td>\n",
       "      <td>-1.400966</td>\n",
       "      <td>01</td>\n",
       "      <td>-5.350916</td>\n",
       "      <td>3.949950</td>\n",
       "    </tr>\n",
       "    <tr>\n",
       "      <th>1</th>\n",
       "      <td>195301</td>\n",
       "      <td>-5.396825</td>\n",
       "      <td>01</td>\n",
       "      <td>-5.350916</td>\n",
       "      <td>-0.045909</td>\n",
       "    </tr>\n",
       "    <tr>\n",
       "      <th>2</th>\n",
       "      <td>195401</td>\n",
       "      <td>-7.072650</td>\n",
       "      <td>01</td>\n",
       "      <td>-5.350916</td>\n",
       "      <td>-1.721733</td>\n",
       "    </tr>\n",
       "    <tr>\n",
       "      <th>3</th>\n",
       "      <td>195501</td>\n",
       "      <td>-5.473251</td>\n",
       "      <td>01</td>\n",
       "      <td>-5.350916</td>\n",
       "      <td>-0.122335</td>\n",
       "    </tr>\n",
       "    <tr>\n",
       "      <th>4</th>\n",
       "      <td>195601</td>\n",
       "      <td>-8.133333</td>\n",
       "      <td>01</td>\n",
       "      <td>-5.350916</td>\n",
       "      <td>-2.782417</td>\n",
       "    </tr>\n",
       "  </tbody>\n",
       "</table>\n",
       "</div>"
      ],
      "text/plain": [
       "  YEAR_MONTH  temp_celsius month  ref_temp      diff\n",
       "0     195201     -1.400966    01 -5.350916  3.949950\n",
       "1     195301     -5.396825    01 -5.350916 -0.045909\n",
       "2     195401     -7.072650    01 -5.350916 -1.721733\n",
       "3     195501     -5.473251    01 -5.350916 -0.122335\n",
       "4     195601     -8.133333    01 -5.350916 -2.782417"
      ]
     },
     "execution_count": 67,
     "metadata": {},
     "output_type": "execute_result"
    }
   ],
   "source": [
    "monthly_diff.head()"
   ]
  },
  {
   "cell_type": "code",
   "execution_count": 68,
   "id": "ec4f1d5e-2b87-4e3a-9a92-632bc7fe0279",
   "metadata": {},
   "outputs": [
    {
     "data": {
      "text/html": [
       "<div>\n",
       "<style scoped>\n",
       "    .dataframe tbody tr th:only-of-type {\n",
       "        vertical-align: middle;\n",
       "    }\n",
       "\n",
       "    .dataframe tbody tr th {\n",
       "        vertical-align: top;\n",
       "    }\n",
       "\n",
       "    .dataframe thead th {\n",
       "        text-align: right;\n",
       "    }\n",
       "</style>\n",
       "<table border=\"1\" class=\"dataframe\">\n",
       "  <thead>\n",
       "    <tr style=\"text-align: right;\">\n",
       "      <th></th>\n",
       "      <th>YEAR_MONTH</th>\n",
       "      <th>temp_celsius</th>\n",
       "      <th>month</th>\n",
       "      <th>ref_temp</th>\n",
       "      <th>diff</th>\n",
       "    </tr>\n",
       "  </thead>\n",
       "  <tbody>\n",
       "    <tr>\n",
       "      <th>35</th>\n",
       "      <td>198701</td>\n",
       "      <td>-17.97491</td>\n",
       "      <td>01</td>\n",
       "      <td>-5.350916</td>\n",
       "      <td>-12.623994</td>\n",
       "    </tr>\n",
       "  </tbody>\n",
       "</table>\n",
       "</div>"
      ],
      "text/plain": [
       "   YEAR_MONTH  temp_celsius month  ref_temp       diff\n",
       "35     198701     -17.97491    01 -5.350916 -12.623994"
      ]
     },
     "execution_count": 68,
     "metadata": {},
     "output_type": "execute_result"
    }
   ],
   "source": [
    "filt = monthly_diff['diff'] == monthly_diff['diff'].min()\n",
    "min_diff = monthly_diff[filt]"
   ]
  },
  {
   "cell_type": "code",
   "execution_count": 69,
   "id": "d0b94d45-b37e-4805-ae7d-7ba1c08018ba",
   "metadata": {},
   "outputs": [
    {
     "data": {
      "text/html": [
       "<div>\n",
       "<style scoped>\n",
       "    .dataframe tbody tr th:only-of-type {\n",
       "        vertical-align: middle;\n",
       "    }\n",
       "\n",
       "    .dataframe tbody tr th {\n",
       "        vertical-align: top;\n",
       "    }\n",
       "\n",
       "    .dataframe thead th {\n",
       "        text-align: right;\n",
       "    }\n",
       "</style>\n",
       "<table border=\"1\" class=\"dataframe\">\n",
       "  <thead>\n",
       "    <tr style=\"text-align: right;\">\n",
       "      <th></th>\n",
       "      <th>YEAR_MONTH</th>\n",
       "      <th>temp_celsius</th>\n",
       "      <th>month</th>\n",
       "      <th>ref_temp</th>\n",
       "      <th>diff</th>\n",
       "    </tr>\n",
       "  </thead>\n",
       "  <tbody>\n",
       "    <tr>\n",
       "      <th>104</th>\n",
       "      <td>199002</td>\n",
       "      <td>1.170635</td>\n",
       "      <td>02</td>\n",
       "      <td>-5.941307</td>\n",
       "      <td>7.111942</td>\n",
       "    </tr>\n",
       "  </tbody>\n",
       "</table>\n",
       "</div>"
      ],
      "text/plain": [
       "    YEAR_MONTH  temp_celsius month  ref_temp      diff\n",
       "104     199002      1.170635    02 -5.941307  7.111942"
      ]
     },
     "execution_count": 69,
     "metadata": {},
     "output_type": "execute_result"
    }
   ],
   "source": [
    "filt = monthly_diff['diff'] == monthly_diff['diff'].max()\n",
    "max_diff = monthly_diff[filt]"
   ]
  },
  {
   "cell_type": "code",
   "execution_count": 70,
   "id": "557ae35b-ef79-4d60-9a2f-04ce76ab1249",
   "metadata": {},
   "outputs": [
    {
     "data": {
      "text/html": [
       "<div>\n",
       "<style scoped>\n",
       "    .dataframe tbody tr th:only-of-type {\n",
       "        vertical-align: middle;\n",
       "    }\n",
       "\n",
       "    .dataframe tbody tr th {\n",
       "        vertical-align: top;\n",
       "    }\n",
       "\n",
       "    .dataframe thead th {\n",
       "        text-align: right;\n",
       "    }\n",
       "</style>\n",
       "<table border=\"1\" class=\"dataframe\">\n",
       "  <thead>\n",
       "    <tr style=\"text-align: right;\">\n",
       "      <th></th>\n",
       "      <th>temp_celsius</th>\n",
       "      <th>ref_temp</th>\n",
       "      <th>diff</th>\n",
       "    </tr>\n",
       "  </thead>\n",
       "  <tbody>\n",
       "    <tr>\n",
       "      <th>count</th>\n",
       "      <td>682.000000</td>\n",
       "      <td>790.000000</td>\n",
       "      <td>6.820000e+02</td>\n",
       "    </tr>\n",
       "    <tr>\n",
       "      <th>mean</th>\n",
       "      <td>5.097114</td>\n",
       "      <td>5.094564</td>\n",
       "      <td>-1.588824e-16</td>\n",
       "    </tr>\n",
       "    <tr>\n",
       "      <th>std</th>\n",
       "      <td>8.483949</td>\n",
       "      <td>8.102228</td>\n",
       "      <td>2.511899e+00</td>\n",
       "    </tr>\n",
       "    <tr>\n",
       "      <th>min</th>\n",
       "      <td>-17.974910</td>\n",
       "      <td>-5.941307</td>\n",
       "      <td>-1.262399e+01</td>\n",
       "    </tr>\n",
       "    <tr>\n",
       "      <th>25%</th>\n",
       "      <td>-1.685185</td>\n",
       "      <td>-2.440364</td>\n",
       "      <td>-1.520885e+00</td>\n",
       "    </tr>\n",
       "    <tr>\n",
       "      <th>50%</th>\n",
       "      <td>4.726105</td>\n",
       "      <td>5.487785</td>\n",
       "      <td>1.173686e-01</td>\n",
       "    </tr>\n",
       "    <tr>\n",
       "      <th>75%</th>\n",
       "      <td>12.870370</td>\n",
       "      <td>13.649932</td>\n",
       "      <td>1.667551e+00</td>\n",
       "    </tr>\n",
       "    <tr>\n",
       "      <th>max</th>\n",
       "      <td>22.329749</td>\n",
       "      <td>17.280519</td>\n",
       "      <td>7.111942e+00</td>\n",
       "    </tr>\n",
       "  </tbody>\n",
       "</table>\n",
       "</div>"
      ],
      "text/plain": [
       "       temp_celsius    ref_temp          diff\n",
       "count    682.000000  790.000000  6.820000e+02\n",
       "mean       5.097114    5.094564 -1.588824e-16\n",
       "std        8.483949    8.102228  2.511899e+00\n",
       "min      -17.974910   -5.941307 -1.262399e+01\n",
       "25%       -1.685185   -2.440364 -1.520885e+00\n",
       "50%        4.726105    5.487785  1.173686e-01\n",
       "75%       12.870370   13.649932  1.667551e+00\n",
       "max       22.329749   17.280519  7.111942e+00"
      ]
     },
     "execution_count": 70,
     "metadata": {},
     "output_type": "execute_result"
    }
   ],
   "source": [
    "monthly_diff[[\"temp_celsius\", \"ref_temp\", \"diff\"]].describe()"
   ]
  },
  {
   "cell_type": "markdown",
   "id": "300bdc9d-7878-441d-9487-8b1fef7db1d6",
   "metadata": {},
   "source": [
    "### Prob 4"
   ]
  },
  {
   "cell_type": "code",
   "execution_count": null,
   "id": "057fb3d6-2ddb-4b3f-bc7d-bedc6e650639",
   "metadata": {},
   "outputs": [],
   "source": []
  }
 ],
 "metadata": {
  "interpreter": {
   "hash": "a242e183465bb9023de0138d2b64ba329c59b510ac4eb42cc190969549979312"
  },
  "kernelspec": {
   "display_name": "Python 3 (ipykernel)",
   "language": "python",
   "name": "python3"
  },
  "language_info": {
   "codemirror_mode": {
    "name": "ipython",
    "version": 3
   },
   "file_extension": ".py",
   "mimetype": "text/x-python",
   "name": "python",
   "nbconvert_exporter": "python",
   "pygments_lexer": "ipython3",
   "version": "3.8.12"
  },
  "toc-autonumbering": false
 },
 "nbformat": 4,
 "nbformat_minor": 5
}
