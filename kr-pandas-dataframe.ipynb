{
 "cells": [
  {
   "cell_type": "markdown",
   "id": "8fb82884",
   "metadata": {
    "tags": []
   },
   "source": [
    "<a id='pd'></a>  \n",
    "# Pandas DataFrames"
   ]
  },
  {
   "cell_type": "markdown",
   "id": "39c3b93f-bfc4-4987-87d5-cb0d4a887569",
   "metadata": {},
   "source": [
    "[Create](#pd-create)  \n",
    "[Import](#pd-import)  \n",
    "[Restructure](#pd-restructure)  \n",
    "[Explore](#pd-explore)  \n",
    "[Missing Data](#pd-missing)  \n",
    "[Transform](#pd-transform)  \n",
    "[Select](#pd-select)  \n",
    "[Filter](#pd-filter)  \n",
    "[Query](#pd-query)  \n",
    "[Aggregate](#pd-aggregate)  \n",
    "[Resample](#pd-resample)  \n",
    "[Visualize](#pd-visualize)   \n",
    "[Export](#pd-export)  "
   ]
  },
  {
   "cell_type": "markdown",
   "id": "8a6db74b-dfcc-42e0-b94a-041d1774cc7b",
   "metadata": {
    "tags": [],
    "toc-hr-collapsed": true
   },
   "source": [
    "## Initialize"
   ]
  },
  {
   "cell_type": "markdown",
   "id": "a543ed3f-1575-4db5-84bc-aefc1f3f03b9",
   "metadata": {},
   "source": [
    "### libraries"
   ]
  },
  {
   "cell_type": "code",
   "execution_count": 1,
   "id": "hungarian-longer",
   "metadata": {
    "tags": []
   },
   "outputs": [],
   "source": [
    "import os\n",
    "import calendar\n",
    "import warnings\n",
    "import pooch\n",
    "\n",
    "import numpy as np\n",
    "\n",
    "import pandas as pd \n",
    "from pandas.api.types import CategoricalDtype\n",
    "#pd.__version__\n",
    "\n",
    "import matplotlib.pyplot as plt\n",
    "from matplotlib import ticker\n",
    "from matplotlib.colors import ListedColormap\n",
    "from matplotlib import colors\n",
    "import seaborn as sns"
   ]
  },
  {
   "cell_type": "markdown",
   "id": "57a732de",
   "metadata": {
    "tags": []
   },
   "source": [
    "### directories"
   ]
  },
  {
   "cell_type": "code",
   "execution_count": 2,
   "id": "c7b2df80-6d08-4601-ae78-7aaf6ecc302a",
   "metadata": {
    "tags": []
   },
   "outputs": [
    {
     "data": {
      "text/plain": [
       "'C:\\\\Users\\\\rick\\\\kr'"
      ]
     },
     "execution_count": 2,
     "metadata": {},
     "output_type": "execute_result"
    }
   ],
   "source": [
    "home_dir = home_dir = os.path.expanduser(\"~\")\n",
    "work_dir = os.path.join(home_dir, 'kr')\n",
    "data_dir = os.path.join(home_dir, 'kr', 'data') \n",
    "save_dir = os.path.join(home_dir, 'kr', 'save') \n",
    "os.chdir(work_dir)\n",
    "os.getcwd()"
   ]
  },
  {
   "cell_type": "markdown",
   "id": "a009f371-7a1d-4379-8854-9125a54847a6",
   "metadata": {
    "tags": []
   },
   "source": [
    "### parameters"
   ]
  },
  {
   "cell_type": "code",
   "execution_count": 3,
   "id": "1738ba8d-96cc-4eea-a5c9-edafdea23846",
   "metadata": {},
   "outputs": [],
   "source": [
    "warnings.filterwarnings('ignore')"
   ]
  },
  {
   "cell_type": "code",
   "execution_count": 4,
   "id": "85bf1671-38fa-4053-82ba-4dc4755d3817",
   "metadata": {},
   "outputs": [],
   "source": [
    "# shows result of cell without needing print\n",
    "from IPython.core.interactiveshell import InteractiveShell\n",
    "InteractiveShell.ast_node_interactivity = \"last_expr_or_assign\""
   ]
  },
  {
   "cell_type": "code",
   "execution_count": 5,
   "id": "d749a3a5-53e3-4724-a179-d4592b4f9144",
   "metadata": {},
   "outputs": [],
   "source": [
    "sns.set(font_scale=1.5, style=\"darkgrid\")"
   ]
  },
  {
   "cell_type": "code",
   "execution_count": 6,
   "id": "b425b33d-8f93-42ad-b0d9-ac752d225bfe",
   "metadata": {},
   "outputs": [],
   "source": [
    "plt.rcParams['figure.figsize'] = (8, 4)\n",
    "plt.rcParams['figure.dpi'] = 144\n",
    "plt.rcParams['axes.linewidth'] = 0.5\n",
    "plt.rcParams['axes.titlesize'] = 12\n",
    "plt.rcParams['axes.labelsize'] = 10\n",
    "plt.rcParams['xtick.labelsize'] = 10\n",
    "plt.rcParams['ytick.labelsize'] = 10"
   ]
  },
  {
   "cell_type": "code",
   "execution_count": 7,
   "id": "d92a3d7a-0c6b-40b0-a95d-bee615657b5b",
   "metadata": {},
   "outputs": [],
   "source": [
    "pd.set_option('display.max_rows',12)\n",
    "#defaults: pd.set_option('display.max_columns',20,'display.max_rows',60,'display.max_colwidth',50)"
   ]
  },
  {
   "cell_type": "markdown",
   "id": "ee844aa1-af24-40bb-899c-c0dc3ea49d9c",
   "metadata": {},
   "source": [
    "### constants"
   ]
  },
  {
   "cell_type": "code",
   "execution_count": 8,
   "id": "db3e73da-a8a5-435d-ba70-c15dff7c4a35",
   "metadata": {},
   "outputs": [
    {
     "data": {
      "text/plain": [
       "CategoricalDtype(categories=['Spring', 'Summer', 'Autumn', 'Winter'], ordered=True)"
      ]
     },
     "execution_count": 8,
     "metadata": {},
     "output_type": "execute_result"
    }
   ],
   "source": [
    "months = [month for month in calendar.month_abbr if month]\n",
    "months_cat = CategoricalDtype(months, ordered=True)\n",
    "\n",
    "seasons = ['Spring', 'Summer', 'Autumn','Winter']\n",
    "seasons_cat = CategoricalDtype(seasons, ordered=True)"
   ]
  },
  {
   "cell_type": "code",
   "execution_count": 9,
   "id": "bfc70a1b-d438-4939-ab39-9e17d7538625",
   "metadata": {},
   "outputs": [],
   "source": [
    "# create dictionary to assign seasons to months\n",
    "months_season_dict = {}\n",
    "for i, month in enumerate(months):\n",
    "    if i in (0, 1, 11):\n",
    "        months_season_dict[month] = 'Winter'\n",
    "    elif i in (2, 3, 4):\n",
    "        months_season_dict[month] = 'Spring'\n",
    "    elif i in (5, 6, 7):\n",
    "        months_season_dict[month] = 'Summer'        \n",
    "    elif i in (8, 9, 10):\n",
    "        months_season_dict[month] = 'Autumn' "
   ]
  },
  {
   "cell_type": "markdown",
   "id": "0a887919-bdcf-4637-bbca-8109769e95d6",
   "metadata": {},
   "source": [
    "### palettes"
   ]
  },
  {
   "cell_type": "code",
   "execution_count": 10,
   "id": "0eb54e69-353a-4e9a-a9a0-1a2a4ae32a4e",
   "metadata": {},
   "outputs": [
    {
     "name": "stdout",
     "output_type": "stream",
     "text": [
      "<matplotlib.colors.ListedColormap object at 0x0000019147C039D0>\n"
     ]
    }
   ],
   "source": [
    "seasons_colors = ['orange','green','darkred','blue']\n",
    "seasons_cmap = ListedColormap(seasons_colors)\n",
    "print(seasons_cmap)"
   ]
  },
  {
   "cell_type": "code",
   "execution_count": 11,
   "id": "c93d5688-8048-4525-bccb-68940a709aee",
   "metadata": {},
   "outputs": [],
   "source": [
    "seaborn_viridis_palette = sns.color_palette(\"viridis_r\",4)\n",
    "seaborn_viridis_palette;"
   ]
  },
  {
   "cell_type": "code",
   "execution_count": 12,
   "id": "a0717f4d-26ee-4118-87b1-0883907dc0a2",
   "metadata": {},
   "outputs": [],
   "source": [
    "reds_color_palette = sns.color_palette(\"Reds\",18);"
   ]
  },
  {
   "cell_type": "code",
   "execution_count": 13,
   "id": "bcfe3ccf-1f4e-449b-a23c-df37734f9877",
   "metadata": {},
   "outputs": [],
   "source": [
    "anomaly_color_palette = reds_color_palette[6:];"
   ]
  },
  {
   "cell_type": "markdown",
   "id": "4a674106-40d2-4482-ba80-d81be3f5e8d8",
   "metadata": {
    "tags": [],
    "toc-hr-collapsed": true
   },
   "source": [
    "<a id='pd-create'></a>\n",
    "## Create"
   ]
  },
  {
   "cell_type": "markdown",
   "id": "d50661cc-a510-49a1-ac18-27c3e24b4ab5",
   "metadata": {},
   "source": [
    "[Return to Start of Notebook](#pd)  "
   ]
  },
  {
   "cell_type": "raw",
   "id": "33b512a8-b61f-4251-abff-44a329eef375",
   "metadata": {},
   "source": [
    "t = [30, 25, 20]\n",
    "p = [1.1, 0.5, 2.3]\n",
    "tnp = np.array(t)\n",
    "pnp = np.array(p);"
   ]
  },
  {
   "cell_type": "markdown",
   "id": "4079baf1-637f-41b9-a484-587f508ce114",
   "metadata": {},
   "source": [
    "### series"
   ]
  },
  {
   "cell_type": "raw",
   "id": "9a932d5f-84b3-4a9a-98ba-ce9bc1e1088f",
   "metadata": {},
   "source": [
    "tsr = pd.Series(t, name = \"tsr\") # series from list\n",
    "psr = pd.Series(pnp, name = \"psr\") # series from np array"
   ]
  },
  {
   "cell_type": "markdown",
   "id": "edb06425-f8ca-404c-93db-963652c8146a",
   "metadata": {},
   "source": [
    "### dataframe"
   ]
  },
  {
   "cell_type": "raw",
   "id": "6f0937e6-ef07-425b-b229-50f88947b723",
   "metadata": {},
   "source": [
    "cols = {'temperature': t,'precipitation': p} # dict of lists\n",
    "cols = {'temperature': tnp,'precipitation': pnp} # dict of np arrays\n",
    "cols = {'temperature': tsr,'precipitation': psr} # dict of pandas series\n",
    "df = pd.DataFrame(data=cols)"
   ]
  },
  {
   "cell_type": "markdown",
   "id": "488b09d8-86ca-4765-a25c-74b6f5666002",
   "metadata": {
    "tags": [],
    "toc-hr-collapsed": true
   },
   "source": [
    "<a id='pd-import'></a>\n",
    "## Import"
   ]
  },
  {
   "cell_type": "markdown",
   "id": "a8898129-0d5a-458e-97f9-1f9e3cfc43f2",
   "metadata": {},
   "source": [
    "[Return to Start of Notebook](#pd)  "
   ]
  },
  {
   "cell_type": "markdown",
   "id": "39744ee0-a239-46f2-bd0b-c74b22185532",
   "metadata": {
    "jp-MarkdownHeadingCollapsed": true,
    "tags": [],
    "toc-hr-collapsed": true
   },
   "source": [
    "- skiprows  \n",
    "- sep  \n",
    "- usecols  \n",
    "- parse_dates  \n",
    "- index_col (can also use integer of column)\n",
    "- na_values  \n",
    "- nrows  "
   ]
  },
  {
   "cell_type": "markdown",
   "id": "16ab7eda-5e28-4368-aa47-b523cf4c89ce",
   "metadata": {},
   "source": [
    "### url"
   ]
  },
  {
   "cell_type": "code",
   "execution_count": 14,
   "id": "8f992495-d344-48fb-9f25-ea9213266a83",
   "metadata": {},
   "outputs": [
    {
     "data": {
      "text/plain": [
       "'https://data.giss.nasa.gov/gistemp/tabledata_v4/'"
      ]
     },
     "execution_count": 14,
     "metadata": {},
     "output_type": "execute_result"
    }
   ],
   "source": [
    "giss_url = \"https://data.giss.nasa.gov/gistemp/tabledata_v4/\""
   ]
  },
  {
   "cell_type": "markdown",
   "id": "f368134b-86df-47a8-a1fd-df9bbdb6d3b4",
   "metadata": {},
   "source": [
    "### global monthly"
   ]
  },
  {
   "cell_type": "code",
   "execution_count": 15,
   "id": "a86baf31-e236-4a70-b7fa-c3f96e42473d",
   "metadata": {},
   "outputs": [],
   "source": [
    "file_id = \"GLB\"\n",
    "file_name = file_id + \".Ts+dSST.csv\"\n",
    "file_url = giss_url + file_name\n",
    "file_hash = '57e8f96856fec8743afb387d749c5d6e7a8ace8366dbdaf2a7aa755ac654819e'\n",
    "file_path = pooch.retrieve(url=file_url,\n",
    "                           known_hash=file_hash);"
   ]
  },
  {
   "cell_type": "code",
   "execution_count": 16,
   "id": "4c53a81a-ce7e-47f3-a70c-e13d8c600a1c",
   "metadata": {},
   "outputs": [
    {
     "data": {
      "text/html": [
       "<div>\n",
       "<style scoped>\n",
       "    .dataframe tbody tr th:only-of-type {\n",
       "        vertical-align: middle;\n",
       "    }\n",
       "\n",
       "    .dataframe tbody tr th {\n",
       "        vertical-align: top;\n",
       "    }\n",
       "\n",
       "    .dataframe thead th {\n",
       "        text-align: right;\n",
       "    }\n",
       "</style>\n",
       "<table border=\"1\" class=\"dataframe\">\n",
       "  <thead>\n",
       "    <tr style=\"text-align: right;\">\n",
       "      <th></th>\n",
       "      <th>Year</th>\n",
       "      <th>Jan</th>\n",
       "      <th>Feb</th>\n",
       "      <th>Mar</th>\n",
       "      <th>Apr</th>\n",
       "      <th>May</th>\n",
       "      <th>Jun</th>\n",
       "      <th>Jul</th>\n",
       "      <th>Aug</th>\n",
       "      <th>Sep</th>\n",
       "      <th>Oct</th>\n",
       "      <th>Nov</th>\n",
       "      <th>Dec</th>\n",
       "      <th>J-D</th>\n",
       "      <th>D-N</th>\n",
       "      <th>DJF</th>\n",
       "      <th>MAM</th>\n",
       "      <th>JJA</th>\n",
       "      <th>SON</th>\n",
       "    </tr>\n",
       "  </thead>\n",
       "  <tbody>\n",
       "    <tr>\n",
       "      <th>0</th>\n",
       "      <td>1880</td>\n",
       "      <td>-0.18</td>\n",
       "      <td>-0.24</td>\n",
       "      <td>-0.08</td>\n",
       "      <td>-.16</td>\n",
       "      <td>-.09</td>\n",
       "      <td>-.20</td>\n",
       "      <td>-.17</td>\n",
       "      <td>-.09</td>\n",
       "      <td>-.14</td>\n",
       "      <td>-.23</td>\n",
       "      <td>-.21</td>\n",
       "      <td>-.17</td>\n",
       "      <td>-.16</td>\n",
       "      <td>***</td>\n",
       "      <td>***</td>\n",
       "      <td>-.11</td>\n",
       "      <td>-.16</td>\n",
       "      <td>-.19</td>\n",
       "    </tr>\n",
       "  </tbody>\n",
       "</table>\n",
       "</div>"
      ],
      "text/plain": [
       "   Year   Jan   Feb   Mar   Apr   May   Jun   Jul   Aug   Sep   Oct   Nov  \\\n",
       "0  1880 -0.18 -0.24 -0.08  -.16  -.09  -.20  -.17  -.09  -.14  -.23  -.21   \n",
       "\n",
       "    Dec   J-D  D-N  DJF   MAM   JJA   SON  \n",
       "0  -.17  -.16  ***  ***  -.11  -.16  -.19  "
      ]
     },
     "execution_count": 16,
     "metadata": {},
     "output_type": "execute_result"
    }
   ],
   "source": [
    "dfg = pd.read_csv(file_path, skiprows=1) # initial read for columns\n",
    "dfg.head(1)"
   ]
  },
  {
   "cell_type": "code",
   "execution_count": 17,
   "id": "574d9c17-a21b-4da6-888c-d15a4edf977c",
   "metadata": {},
   "outputs": [
    {
     "data": {
      "text/html": [
       "<div>\n",
       "<style scoped>\n",
       "    .dataframe tbody tr th:only-of-type {\n",
       "        vertical-align: middle;\n",
       "    }\n",
       "\n",
       "    .dataframe tbody tr th {\n",
       "        vertical-align: top;\n",
       "    }\n",
       "\n",
       "    .dataframe thead th {\n",
       "        text-align: right;\n",
       "    }\n",
       "</style>\n",
       "<table border=\"1\" class=\"dataframe\">\n",
       "  <thead>\n",
       "    <tr style=\"text-align: right;\">\n",
       "      <th></th>\n",
       "      <th>Year</th>\n",
       "      <th>Jan</th>\n",
       "      <th>Feb</th>\n",
       "      <th>Mar</th>\n",
       "      <th>Apr</th>\n",
       "      <th>May</th>\n",
       "      <th>Jun</th>\n",
       "      <th>Jul</th>\n",
       "      <th>Aug</th>\n",
       "      <th>Sep</th>\n",
       "      <th>Oct</th>\n",
       "      <th>Nov</th>\n",
       "      <th>Dec</th>\n",
       "      <th>Id</th>\n",
       "    </tr>\n",
       "  </thead>\n",
       "  <tbody>\n",
       "    <tr>\n",
       "      <th>0</th>\n",
       "      <td>1880-01-01</td>\n",
       "      <td>-0.18</td>\n",
       "      <td>-0.24</td>\n",
       "      <td>-0.08</td>\n",
       "      <td>-0.16</td>\n",
       "      <td>-0.09</td>\n",
       "      <td>-0.2</td>\n",
       "      <td>-0.17</td>\n",
       "      <td>-0.09</td>\n",
       "      <td>-0.14</td>\n",
       "      <td>-0.23</td>\n",
       "      <td>-0.21</td>\n",
       "      <td>-0.17</td>\n",
       "      <td>GLB</td>\n",
       "    </tr>\n",
       "  </tbody>\n",
       "</table>\n",
       "</div>"
      ],
      "text/plain": [
       "        Year   Jan   Feb   Mar   Apr   May  Jun   Jul   Aug   Sep   Oct   Nov  \\\n",
       "0 1880-01-01 -0.18 -0.24 -0.08 -0.16 -0.09 -0.2 -0.17 -0.09 -0.14 -0.23 -0.21   \n",
       "\n",
       "    Dec   Id  \n",
       "0 -0.17  GLB  "
      ]
     },
     "execution_count": 17,
     "metadata": {},
     "output_type": "execute_result"
    }
   ],
   "source": [
    "cols_to_import = dfg.columns[0:13]; # start to end+1\n",
    "dfg = pd.read_csv(file_path,\n",
    "                  skiprows=1,\n",
    "                  sep=',',\n",
    "                  usecols=cols_to_import,\n",
    "                  parse_dates=['Year'],\n",
    "                  #index_col=0, # can use either  = 0, = 'Year'\n",
    "                  na_values=['***'],\n",
    "                  nrows=150)\n",
    "dfg['Id'] = file_id\n",
    "dfg.head(1)"
   ]
  },
  {
   "cell_type": "markdown",
   "id": "fca2ea35-ea08-43d9-afdc-af9b2b188b16",
   "metadata": {},
   "source": [
    "### northern hemisphere monthly"
   ]
  },
  {
   "cell_type": "code",
   "execution_count": 18,
   "id": "e12d95fa-c147-43b5-ab7e-4cafc8ba02e3",
   "metadata": {},
   "outputs": [
    {
     "data": {
      "text/html": [
       "<div>\n",
       "<style scoped>\n",
       "    .dataframe tbody tr th:only-of-type {\n",
       "        vertical-align: middle;\n",
       "    }\n",
       "\n",
       "    .dataframe tbody tr th {\n",
       "        vertical-align: top;\n",
       "    }\n",
       "\n",
       "    .dataframe thead th {\n",
       "        text-align: right;\n",
       "    }\n",
       "</style>\n",
       "<table border=\"1\" class=\"dataframe\">\n",
       "  <thead>\n",
       "    <tr style=\"text-align: right;\">\n",
       "      <th></th>\n",
       "      <th>Year</th>\n",
       "      <th>Jan</th>\n",
       "      <th>Feb</th>\n",
       "      <th>Mar</th>\n",
       "      <th>Apr</th>\n",
       "      <th>May</th>\n",
       "      <th>Jun</th>\n",
       "      <th>Jul</th>\n",
       "      <th>Aug</th>\n",
       "      <th>Sep</th>\n",
       "      <th>Oct</th>\n",
       "      <th>Nov</th>\n",
       "      <th>Dec</th>\n",
       "      <th>Id</th>\n",
       "    </tr>\n",
       "  </thead>\n",
       "  <tbody>\n",
       "    <tr>\n",
       "      <th>0</th>\n",
       "      <td>1880-01-01</td>\n",
       "      <td>-0.36</td>\n",
       "      <td>-0.52</td>\n",
       "      <td>-0.23</td>\n",
       "      <td>-0.3</td>\n",
       "      <td>-0.06</td>\n",
       "      <td>-0.16</td>\n",
       "      <td>-0.18</td>\n",
       "      <td>-0.26</td>\n",
       "      <td>-0.23</td>\n",
       "      <td>-0.32</td>\n",
       "      <td>-0.43</td>\n",
       "      <td>-0.4</td>\n",
       "      <td>NH</td>\n",
       "    </tr>\n",
       "  </tbody>\n",
       "</table>\n",
       "</div>"
      ],
      "text/plain": [
       "        Year   Jan   Feb   Mar  Apr   May   Jun   Jul   Aug   Sep   Oct   Nov  \\\n",
       "0 1880-01-01 -0.36 -0.52 -0.23 -0.3 -0.06 -0.16 -0.18 -0.26 -0.23 -0.32 -0.43   \n",
       "\n",
       "   Dec  Id  \n",
       "0 -0.4  NH  "
      ]
     },
     "execution_count": 18,
     "metadata": {},
     "output_type": "execute_result"
    }
   ],
   "source": [
    "file_id = \"NH\"\n",
    "file_name = file_id + \".Ts+dSST.csv\"\n",
    "file_url = giss_url + file_name\n",
    "file_hash = '78d142ec78fb62b45f6910a63559693d858b356a401af8f9dd4359cc735a14c4'\n",
    "file_path = pooch.retrieve(url=file_url,\n",
    "                           known_hash=file_hash)\n",
    "cols_to_import = dfg.columns[0:13]; # start to end+1\n",
    "dfn = pd.read_csv(file_path,\n",
    "                  skiprows=1,\n",
    "                  sep=',',\n",
    "                  usecols=cols_to_import,\n",
    "                  parse_dates=['Year'],\n",
    "                  #index_col=0, # can use either  = 0, = 'Year'\n",
    "                  na_values=['***'],\n",
    "                  nrows=150)\n",
    "dfn['Id'] = file_id\n",
    "dfn.head(1)"
   ]
  },
  {
   "cell_type": "markdown",
   "id": "04adf785-1da1-48ed-881a-c989d43b3a3b",
   "metadata": {},
   "source": [
    "### southern hemisphere monthly"
   ]
  },
  {
   "cell_type": "code",
   "execution_count": 19,
   "id": "ffcd5c86-329c-420c-8663-aaa20389637b",
   "metadata": {},
   "outputs": [
    {
     "data": {
      "text/html": [
       "<div>\n",
       "<style scoped>\n",
       "    .dataframe tbody tr th:only-of-type {\n",
       "        vertical-align: middle;\n",
       "    }\n",
       "\n",
       "    .dataframe tbody tr th {\n",
       "        vertical-align: top;\n",
       "    }\n",
       "\n",
       "    .dataframe thead th {\n",
       "        text-align: right;\n",
       "    }\n",
       "</style>\n",
       "<table border=\"1\" class=\"dataframe\">\n",
       "  <thead>\n",
       "    <tr style=\"text-align: right;\">\n",
       "      <th></th>\n",
       "      <th>Year</th>\n",
       "      <th>Jan</th>\n",
       "      <th>Feb</th>\n",
       "      <th>Mar</th>\n",
       "      <th>Apr</th>\n",
       "      <th>May</th>\n",
       "      <th>Jun</th>\n",
       "      <th>Jul</th>\n",
       "      <th>Aug</th>\n",
       "      <th>Sep</th>\n",
       "      <th>Oct</th>\n",
       "      <th>Nov</th>\n",
       "      <th>Dec</th>\n",
       "      <th>Id</th>\n",
       "    </tr>\n",
       "  </thead>\n",
       "  <tbody>\n",
       "    <tr>\n",
       "      <th>0</th>\n",
       "      <td>1880-01-01</td>\n",
       "      <td>0.01</td>\n",
       "      <td>0.04</td>\n",
       "      <td>0.07</td>\n",
       "      <td>-0.01</td>\n",
       "      <td>-0.12</td>\n",
       "      <td>-0.24</td>\n",
       "      <td>-0.16</td>\n",
       "      <td>0.07</td>\n",
       "      <td>-0.04</td>\n",
       "      <td>-0.14</td>\n",
       "      <td>0.01</td>\n",
       "      <td>0.06</td>\n",
       "      <td>SH</td>\n",
       "    </tr>\n",
       "  </tbody>\n",
       "</table>\n",
       "</div>"
      ],
      "text/plain": [
       "        Year   Jan   Feb   Mar   Apr   May   Jun   Jul   Aug   Sep   Oct  \\\n",
       "0 1880-01-01  0.01  0.04  0.07 -0.01 -0.12 -0.24 -0.16  0.07 -0.04 -0.14   \n",
       "\n",
       "    Nov   Dec  Id  \n",
       "0  0.01  0.06  SH  "
      ]
     },
     "execution_count": 19,
     "metadata": {},
     "output_type": "execute_result"
    }
   ],
   "source": [
    "file_id = \"SH\"\n",
    "file_name = file_id + \".Ts+dSST.csv\"\n",
    "file_url = giss_url + file_name\n",
    "file_hash = '0e66e7a3bb70adf9cad26eb60492f3a21787921ffc1cc19c64071dd6c242aa2d'\n",
    "file_path = pooch.retrieve(url=file_url,\n",
    "                           known_hash=file_hash)\n",
    "cols_to_import = dfg.columns[0:13]; # start to end+1\n",
    "dfs = pd.read_csv(file_path,\n",
    "                  skiprows=1,\n",
    "                  sep=',',\n",
    "                  usecols=cols_to_import,\n",
    "                  parse_dates=['Year'],\n",
    "                  #index_col=0, # can use either  = 0, = 'Year'\n",
    "                  na_values=['***'],\n",
    "                  nrows=150)\n",
    "dfs['Id'] = file_id\n",
    "dfs.head(1)"
   ]
  },
  {
   "cell_type": "markdown",
   "id": "d0780e4e-bc2e-40fd-9d78-57b6b9f4f920",
   "metadata": {},
   "source": [
    "### zonal annual"
   ]
  },
  {
   "cell_type": "raw",
   "id": "bde206ac-96ee-4cc2-b3c5-94f9de030fea",
   "metadata": {},
   "source": [
    "file_name = 'ZonAnn.Ts+dSST.csv'\n",
    "file_url = giss_url + file_name\n",
    "file_hash = '4b8e3f44daf4c72d3da3338ec30cbf6e101db5320c70502084a2140eb8958dff'\n",
    "file_path = pooch.retrieve(url=file_url,\n",
    "                           known_hash=file_hash);"
   ]
  },
  {
   "cell_type": "raw",
   "id": "1abaf28d-fd11-4392-ad6e-e13ed0344fef",
   "metadata": {},
   "source": [
    "dfz = pd.read_csv(file_path, skiprows=0) # initial read for columns\n",
    "dfz.head(1)"
   ]
  },
  {
   "cell_type": "raw",
   "id": "15486150-3b16-4698-99a9-da660c3fbb6b",
   "metadata": {},
   "source": [
    "cols_to_import=['Year',\n",
    "                'EQU-24N','24N-44N','44N-64N','64N-90N',\n",
    "                '24S-EQU','44S-24S','64S-44S','90S-64S']\n",
    "dfz = pd.read_csv(file_path, usecols=cols_to_import)\n",
    "dfz.head(1)"
   ]
  },
  {
   "cell_type": "markdown",
   "id": "a71765c0-7fd8-4339-bcd2-ce5bf80328ec",
   "metadata": {
    "toc-hr-collapsed": true
   },
   "source": [
    "<a id='pd-restructure'></a>\n",
    "## Restructure"
   ]
  },
  {
   "cell_type": "markdown",
   "id": "e66798a3-7ddf-4f8a-a23c-9e6ee6c4d0cb",
   "metadata": {},
   "source": [
    "[Return to Start of Notebook](#pd)  "
   ]
  },
  {
   "cell_type": "markdown",
   "id": "50662e76-7f0c-4157-97df-1f4888006ec9",
   "metadata": {},
   "source": [
    "### .melt"
   ]
  },
  {
   "cell_type": "code",
   "execution_count": 20,
   "id": "57cb07a5-e100-410d-ba07-abc5f377b3a0",
   "metadata": {},
   "outputs": [
    {
     "data": {
      "text/html": [
       "<div>\n",
       "<style scoped>\n",
       "    .dataframe tbody tr th:only-of-type {\n",
       "        vertical-align: middle;\n",
       "    }\n",
       "\n",
       "    .dataframe tbody tr th {\n",
       "        vertical-align: top;\n",
       "    }\n",
       "\n",
       "    .dataframe thead th {\n",
       "        text-align: right;\n",
       "    }\n",
       "</style>\n",
       "<table border=\"1\" class=\"dataframe\">\n",
       "  <thead>\n",
       "    <tr style=\"text-align: right;\">\n",
       "      <th></th>\n",
       "      <th>Id</th>\n",
       "      <th>Year</th>\n",
       "      <th>Month</th>\n",
       "      <th>Anomaly</th>\n",
       "    </tr>\n",
       "  </thead>\n",
       "  <tbody>\n",
       "    <tr>\n",
       "      <th>0</th>\n",
       "      <td>GLB</td>\n",
       "      <td>1880-01-01</td>\n",
       "      <td>Jan</td>\n",
       "      <td>-0.18</td>\n",
       "    </tr>\n",
       "  </tbody>\n",
       "</table>\n",
       "</div>"
      ],
      "text/plain": [
       "    Id       Year Month  Anomaly\n",
       "0  GLB 1880-01-01   Jan    -0.18"
      ]
     },
     "execution_count": 20,
     "metadata": {},
     "output_type": "execute_result"
    }
   ],
   "source": [
    "dfgt = pd.melt(dfg,\n",
    "               id_vars=['Id','Year'],\n",
    "               var_name=['Month'],\n",
    "               value_name='Anomaly')\n",
    "dfgt.head(1)"
   ]
  },
  {
   "cell_type": "code",
   "execution_count": 21,
   "id": "409c17d3-7296-4bcb-99a2-77b70ec3e543",
   "metadata": {},
   "outputs": [
    {
     "data": {
      "text/html": [
       "<div>\n",
       "<style scoped>\n",
       "    .dataframe tbody tr th:only-of-type {\n",
       "        vertical-align: middle;\n",
       "    }\n",
       "\n",
       "    .dataframe tbody tr th {\n",
       "        vertical-align: top;\n",
       "    }\n",
       "\n",
       "    .dataframe thead th {\n",
       "        text-align: right;\n",
       "    }\n",
       "</style>\n",
       "<table border=\"1\" class=\"dataframe\">\n",
       "  <thead>\n",
       "    <tr style=\"text-align: right;\">\n",
       "      <th></th>\n",
       "      <th>Id</th>\n",
       "      <th>Year</th>\n",
       "      <th>Month</th>\n",
       "      <th>Anomaly</th>\n",
       "    </tr>\n",
       "  </thead>\n",
       "  <tbody>\n",
       "    <tr>\n",
       "      <th>0</th>\n",
       "      <td>NH</td>\n",
       "      <td>1880-01-01</td>\n",
       "      <td>Jan</td>\n",
       "      <td>-0.36</td>\n",
       "    </tr>\n",
       "  </tbody>\n",
       "</table>\n",
       "</div>"
      ],
      "text/plain": [
       "   Id       Year Month  Anomaly\n",
       "0  NH 1880-01-01   Jan    -0.36"
      ]
     },
     "execution_count": 21,
     "metadata": {},
     "output_type": "execute_result"
    }
   ],
   "source": [
    "dfnt = pd.melt(dfn,\n",
    "               id_vars=['Id','Year'],\n",
    "               var_name=['Month'],\n",
    "               value_name='Anomaly')\n",
    "dfnt.head(1)"
   ]
  },
  {
   "cell_type": "code",
   "execution_count": 22,
   "id": "12bfd2fc-32b6-4206-8445-7e6d6efbaa0f",
   "metadata": {},
   "outputs": [
    {
     "data": {
      "text/html": [
       "<div>\n",
       "<style scoped>\n",
       "    .dataframe tbody tr th:only-of-type {\n",
       "        vertical-align: middle;\n",
       "    }\n",
       "\n",
       "    .dataframe tbody tr th {\n",
       "        vertical-align: top;\n",
       "    }\n",
       "\n",
       "    .dataframe thead th {\n",
       "        text-align: right;\n",
       "    }\n",
       "</style>\n",
       "<table border=\"1\" class=\"dataframe\">\n",
       "  <thead>\n",
       "    <tr style=\"text-align: right;\">\n",
       "      <th></th>\n",
       "      <th>Id</th>\n",
       "      <th>Year</th>\n",
       "      <th>Month</th>\n",
       "      <th>Anomaly</th>\n",
       "    </tr>\n",
       "  </thead>\n",
       "  <tbody>\n",
       "    <tr>\n",
       "      <th>0</th>\n",
       "      <td>SH</td>\n",
       "      <td>1880-01-01</td>\n",
       "      <td>Jan</td>\n",
       "      <td>0.01</td>\n",
       "    </tr>\n",
       "  </tbody>\n",
       "</table>\n",
       "</div>"
      ],
      "text/plain": [
       "   Id       Year Month  Anomaly\n",
       "0  SH 1880-01-01   Jan     0.01"
      ]
     },
     "execution_count": 22,
     "metadata": {},
     "output_type": "execute_result"
    }
   ],
   "source": [
    "dfst = pd.melt(dfs,\n",
    "               id_vars=['Id','Year'],\n",
    "               var_name=['Month'],\n",
    "               value_name='Anomaly')\n",
    "dfst.head(1)"
   ]
  },
  {
   "cell_type": "raw",
   "id": "96d2850c-6db1-4328-b413-0c3d8372e7fe",
   "metadata": {},
   "source": [
    "dfzt = pd.melt(dfz,\n",
    "             id_vars=['Year'],\n",
    "             var_name=['Zone'],\n",
    "             value_name='Anomaly')\n",
    "dfzt.head(1)"
   ]
  },
  {
   "cell_type": "markdown",
   "id": "71a8bf8c-ee0b-4780-a0e2-daf9dd1cd9c6",
   "metadata": {},
   "source": [
    "### .pivot"
   ]
  },
  {
   "cell_type": "code",
   "execution_count": 23,
   "id": "54fd88a3-1c5d-4127-9a13-e73626a3043a",
   "metadata": {},
   "outputs": [
    {
     "data": {
      "text/html": [
       "<div>\n",
       "<style scoped>\n",
       "    .dataframe tbody tr th:only-of-type {\n",
       "        vertical-align: middle;\n",
       "    }\n",
       "\n",
       "    .dataframe tbody tr th {\n",
       "        vertical-align: top;\n",
       "    }\n",
       "\n",
       "    .dataframe thead th {\n",
       "        text-align: right;\n",
       "    }\n",
       "</style>\n",
       "<table border=\"1\" class=\"dataframe\">\n",
       "  <thead>\n",
       "    <tr style=\"text-align: right;\">\n",
       "      <th>Month</th>\n",
       "      <th>Apr</th>\n",
       "      <th>Aug</th>\n",
       "      <th>Dec</th>\n",
       "      <th>Feb</th>\n",
       "      <th>Jan</th>\n",
       "      <th>Jul</th>\n",
       "      <th>Jun</th>\n",
       "      <th>Mar</th>\n",
       "      <th>May</th>\n",
       "      <th>Nov</th>\n",
       "      <th>Oct</th>\n",
       "      <th>Sep</th>\n",
       "    </tr>\n",
       "    <tr>\n",
       "      <th>Year</th>\n",
       "      <th></th>\n",
       "      <th></th>\n",
       "      <th></th>\n",
       "      <th></th>\n",
       "      <th></th>\n",
       "      <th></th>\n",
       "      <th></th>\n",
       "      <th></th>\n",
       "      <th></th>\n",
       "      <th></th>\n",
       "      <th></th>\n",
       "      <th></th>\n",
       "    </tr>\n",
       "  </thead>\n",
       "  <tbody>\n",
       "    <tr>\n",
       "      <th>1880-01-01</th>\n",
       "      <td>-0.16</td>\n",
       "      <td>-0.09</td>\n",
       "      <td>-0.17</td>\n",
       "      <td>-0.24</td>\n",
       "      <td>-0.18</td>\n",
       "      <td>-0.17</td>\n",
       "      <td>-0.2</td>\n",
       "      <td>-0.08</td>\n",
       "      <td>-0.09</td>\n",
       "      <td>-0.21</td>\n",
       "      <td>-0.23</td>\n",
       "      <td>-0.14</td>\n",
       "    </tr>\n",
       "  </tbody>\n",
       "</table>\n",
       "</div>"
      ],
      "text/plain": [
       "Month        Apr   Aug   Dec   Feb   Jan   Jul  Jun   Mar   May   Nov   Oct  \\\n",
       "Year                                                                          \n",
       "1880-01-01 -0.16 -0.09 -0.17 -0.24 -0.18 -0.17 -0.2 -0.08 -0.09 -0.21 -0.23   \n",
       "\n",
       "Month        Sep  \n",
       "Year              \n",
       "1880-01-01 -0.14  "
      ]
     },
     "execution_count": 23,
     "metadata": {},
     "output_type": "execute_result"
    }
   ],
   "source": [
    "dfgp = dfgt.pivot(index='Year',\n",
    "                  columns='Month',\n",
    "                  values='Anomaly')\n",
    "dfgp.head(1)"
   ]
  },
  {
   "cell_type": "markdown",
   "id": "7255647d-5514-46e3-ae45-4a4355457bbb",
   "metadata": {
    "toc-hr-collapsed": true
   },
   "source": [
    "### .concat"
   ]
  },
  {
   "cell_type": "markdown",
   "id": "a47df79a-3983-42c8-869d-d960e81e11d8",
   "metadata": {},
   "source": [
    "#### stack vertically"
   ]
  },
  {
   "cell_type": "code",
   "execution_count": 24,
   "id": "db6d8001-ceb0-437e-9b88-d784f6784c1b",
   "metadata": {},
   "outputs": [
    {
     "data": {
      "text/plain": [
       "(1716, 4)"
      ]
     },
     "execution_count": 24,
     "metadata": {},
     "output_type": "execute_result"
    }
   ],
   "source": [
    "dfgt.shape"
   ]
  },
  {
   "cell_type": "code",
   "execution_count": 25,
   "id": "a7248910-5a3d-4829-a2d2-d82fb149d92e",
   "metadata": {},
   "outputs": [
    {
     "data": {
      "text/plain": [
       "(5148, 4)"
      ]
     },
     "execution_count": 25,
     "metadata": {},
     "output_type": "execute_result"
    }
   ],
   "source": [
    "dfm = pd.concat([dfgt,dfnt,dfst])\n",
    "dfm.shape"
   ]
  },
  {
   "cell_type": "markdown",
   "id": "f3fdbb42-1c56-452d-903b-3c58fbe4359c",
   "metadata": {},
   "source": [
    "#### stack horizontally"
   ]
  },
  {
   "cell_type": "code",
   "execution_count": 26,
   "id": "d41ab537-0221-4182-91c5-76c1aafd691b",
   "metadata": {},
   "outputs": [
    {
     "data": {
      "text/html": [
       "<div>\n",
       "<style scoped>\n",
       "    .dataframe tbody tr th:only-of-type {\n",
       "        vertical-align: middle;\n",
       "    }\n",
       "\n",
       "    .dataframe tbody tr th {\n",
       "        vertical-align: top;\n",
       "    }\n",
       "\n",
       "    .dataframe thead th {\n",
       "        text-align: right;\n",
       "    }\n",
       "</style>\n",
       "<table border=\"1\" class=\"dataframe\">\n",
       "  <thead>\n",
       "    <tr style=\"text-align: right;\">\n",
       "      <th></th>\n",
       "      <th>Year</th>\n",
       "      <th>N_Anomaly</th>\n",
       "      <th>S_Anomaly</th>\n",
       "    </tr>\n",
       "  </thead>\n",
       "  <tbody>\n",
       "    <tr>\n",
       "      <th>0</th>\n",
       "      <td>1880-01-01</td>\n",
       "      <td>-0.36</td>\n",
       "      <td>0.01</td>\n",
       "    </tr>\n",
       "  </tbody>\n",
       "</table>\n",
       "</div>"
      ],
      "text/plain": [
       "        Year  N_Anomaly  S_Anomaly\n",
       "0 1880-01-01      -0.36       0.01"
      ]
     },
     "execution_count": 26,
     "metadata": {},
     "output_type": "execute_result"
    }
   ],
   "source": [
    "df1 = dfnt.loc[:,['Year','Anomaly']]\n",
    "df1.rename(columns={'Anomaly':'N_Anomaly'},inplace=True)\n",
    "df2 = dfst.loc[:,['Anomaly']]\n",
    "df2.rename(columns={'Anomaly':'S_Anomaly'},inplace=True)\n",
    "\n",
    "pd.concat([df1,df2],axis=1).head(1) # stack horizontally"
   ]
  },
  {
   "cell_type": "markdown",
   "id": "c63e358e-5b46-4a32-bdcf-0f4a87f7ccc1",
   "metadata": {},
   "source": [
    "### .merge"
   ]
  },
  {
   "cell_type": "markdown",
   "id": "ffacd208-bc46-45b4-91b8-89d3f27bc5db",
   "metadata": {},
   "source": [
    "- only joins dfs horizontally\n",
    "- only exactly two dfs\n",
    "- has options for inner, left, right, outer, cross\n",
    "- can use any columns to match the dfs"
   ]
  },
  {
   "cell_type": "code",
   "execution_count": 27,
   "id": "8a457a2c-884d-4f51-949a-e3584d7a48ee",
   "metadata": {},
   "outputs": [
    {
     "data": {
      "text/html": [
       "<div>\n",
       "<style scoped>\n",
       "    .dataframe tbody tr th:only-of-type {\n",
       "        vertical-align: middle;\n",
       "    }\n",
       "\n",
       "    .dataframe tbody tr th {\n",
       "        vertical-align: top;\n",
       "    }\n",
       "\n",
       "    .dataframe thead th {\n",
       "        text-align: right;\n",
       "    }\n",
       "</style>\n",
       "<table border=\"1\" class=\"dataframe\">\n",
       "  <thead>\n",
       "    <tr style=\"text-align: right;\">\n",
       "      <th></th>\n",
       "      <th>Id_x</th>\n",
       "      <th>Year</th>\n",
       "      <th>Month</th>\n",
       "      <th>Anomaly_x</th>\n",
       "      <th>Id_y</th>\n",
       "      <th>Anomaly_y</th>\n",
       "    </tr>\n",
       "  </thead>\n",
       "  <tbody>\n",
       "    <tr>\n",
       "      <th>0</th>\n",
       "      <td>NH</td>\n",
       "      <td>1880-01-01</td>\n",
       "      <td>Jan</td>\n",
       "      <td>-0.36</td>\n",
       "      <td>SH</td>\n",
       "      <td>0.01</td>\n",
       "    </tr>\n",
       "    <tr>\n",
       "      <th>1</th>\n",
       "      <td>NH</td>\n",
       "      <td>1881-01-01</td>\n",
       "      <td>Jan</td>\n",
       "      <td>-0.31</td>\n",
       "      <td>SH</td>\n",
       "      <td>-0.07</td>\n",
       "    </tr>\n",
       "    <tr>\n",
       "      <th>2</th>\n",
       "      <td>NH</td>\n",
       "      <td>1882-01-01</td>\n",
       "      <td>Jan</td>\n",
       "      <td>0.26</td>\n",
       "      <td>SH</td>\n",
       "      <td>0.08</td>\n",
       "    </tr>\n",
       "  </tbody>\n",
       "</table>\n",
       "</div>"
      ],
      "text/plain": [
       "  Id_x       Year Month  Anomaly_x Id_y  Anomaly_y\n",
       "0   NH 1880-01-01   Jan      -0.36   SH       0.01\n",
       "1   NH 1881-01-01   Jan      -0.31   SH      -0.07\n",
       "2   NH 1882-01-01   Jan       0.26   SH       0.08"
      ]
     },
     "execution_count": 27,
     "metadata": {},
     "output_type": "execute_result"
    }
   ],
   "source": [
    "dfj = dfnt.merge(dfst,\n",
    "                 how='inner',\n",
    "                 on = ['Year','Month'])\n",
    "dfj.head(3)"
   ]
  },
  {
   "cell_type": "code",
   "execution_count": 28,
   "id": "e2317c36-f973-470d-9b01-192728c9d118",
   "metadata": {},
   "outputs": [
    {
     "data": {
      "text/plain": [
       "(1716, 6)"
      ]
     },
     "execution_count": 28,
     "metadata": {},
     "output_type": "execute_result"
    }
   ],
   "source": [
    "dfj.shape"
   ]
  },
  {
   "cell_type": "code",
   "execution_count": 29,
   "id": "cf81b209-6ce7-41ab-b3ad-fd512194321b",
   "metadata": {},
   "outputs": [
    {
     "data": {
      "text/html": [
       "<div>\n",
       "<style scoped>\n",
       "    .dataframe tbody tr th:only-of-type {\n",
       "        vertical-align: middle;\n",
       "    }\n",
       "\n",
       "    .dataframe tbody tr th {\n",
       "        vertical-align: top;\n",
       "    }\n",
       "\n",
       "    .dataframe thead th {\n",
       "        text-align: right;\n",
       "    }\n",
       "</style>\n",
       "<table border=\"1\" class=\"dataframe\">\n",
       "  <thead>\n",
       "    <tr style=\"text-align: right;\">\n",
       "      <th></th>\n",
       "      <th>Id_x</th>\n",
       "      <th>Year</th>\n",
       "      <th>Month</th>\n",
       "      <th>Anomaly_x</th>\n",
       "      <th>Id_y</th>\n",
       "      <th>Anomaly_y</th>\n",
       "      <th>_merge</th>\n",
       "    </tr>\n",
       "  </thead>\n",
       "  <tbody>\n",
       "    <tr>\n",
       "      <th>0</th>\n",
       "      <td>NH</td>\n",
       "      <td>1880-01-01</td>\n",
       "      <td>Jan</td>\n",
       "      <td>-0.36</td>\n",
       "      <td>SH</td>\n",
       "      <td>0.01</td>\n",
       "      <td>both</td>\n",
       "    </tr>\n",
       "    <tr>\n",
       "      <th>1</th>\n",
       "      <td>NH</td>\n",
       "      <td>1881-01-01</td>\n",
       "      <td>Jan</td>\n",
       "      <td>-0.31</td>\n",
       "      <td>SH</td>\n",
       "      <td>-0.07</td>\n",
       "      <td>both</td>\n",
       "    </tr>\n",
       "    <tr>\n",
       "      <th>2</th>\n",
       "      <td>NH</td>\n",
       "      <td>1882-01-01</td>\n",
       "      <td>Jan</td>\n",
       "      <td>0.26</td>\n",
       "      <td>SH</td>\n",
       "      <td>0.08</td>\n",
       "      <td>both</td>\n",
       "    </tr>\n",
       "  </tbody>\n",
       "</table>\n",
       "</div>"
      ],
      "text/plain": [
       "  Id_x       Year Month  Anomaly_x Id_y  Anomaly_y _merge\n",
       "0   NH 1880-01-01   Jan      -0.36   SH       0.01   both\n",
       "1   NH 1881-01-01   Jan      -0.31   SH      -0.07   both\n",
       "2   NH 1882-01-01   Jan       0.26   SH       0.08   both"
      ]
     },
     "execution_count": 29,
     "metadata": {},
     "output_type": "execute_result"
    }
   ],
   "source": [
    "dfj = dfnt.merge(dfst,\n",
    "                 how='left',\n",
    "                 on = ['Year','Month'],\n",
    "                 indicator=True)\n",
    "dfj.head(3)"
   ]
  },
  {
   "cell_type": "code",
   "execution_count": 30,
   "id": "dbe5453b-e1e8-46aa-aa83-c57d7bf1d089",
   "metadata": {},
   "outputs": [
    {
     "data": {
      "text/html": [
       "<div>\n",
       "<style scoped>\n",
       "    .dataframe tbody tr th:only-of-type {\n",
       "        vertical-align: middle;\n",
       "    }\n",
       "\n",
       "    .dataframe tbody tr th {\n",
       "        vertical-align: top;\n",
       "    }\n",
       "\n",
       "    .dataframe thead th {\n",
       "        text-align: right;\n",
       "    }\n",
       "</style>\n",
       "<table border=\"1\" class=\"dataframe\">\n",
       "  <thead>\n",
       "    <tr style=\"text-align: right;\">\n",
       "      <th></th>\n",
       "      <th>Id_x</th>\n",
       "      <th>Month_x</th>\n",
       "      <th>Anomaly_x</th>\n",
       "      <th>Id_y</th>\n",
       "      <th>Month_y</th>\n",
       "      <th>Anomaly_y</th>\n",
       "    </tr>\n",
       "    <tr>\n",
       "      <th>Year</th>\n",
       "      <th></th>\n",
       "      <th></th>\n",
       "      <th></th>\n",
       "      <th></th>\n",
       "      <th></th>\n",
       "      <th></th>\n",
       "    </tr>\n",
       "  </thead>\n",
       "  <tbody>\n",
       "    <tr>\n",
       "      <th>1880-01-01</th>\n",
       "      <td>NH</td>\n",
       "      <td>Jan</td>\n",
       "      <td>-0.36</td>\n",
       "      <td>SH</td>\n",
       "      <td>Jan</td>\n",
       "      <td>0.01</td>\n",
       "    </tr>\n",
       "    <tr>\n",
       "      <th>1880-01-01</th>\n",
       "      <td>NH</td>\n",
       "      <td>Jan</td>\n",
       "      <td>-0.36</td>\n",
       "      <td>SH</td>\n",
       "      <td>Feb</td>\n",
       "      <td>0.04</td>\n",
       "    </tr>\n",
       "    <tr>\n",
       "      <th>1880-01-01</th>\n",
       "      <td>NH</td>\n",
       "      <td>Jan</td>\n",
       "      <td>-0.36</td>\n",
       "      <td>SH</td>\n",
       "      <td>Mar</td>\n",
       "      <td>0.07</td>\n",
       "    </tr>\n",
       "  </tbody>\n",
       "</table>\n",
       "</div>"
      ],
      "text/plain": [
       "           Id_x Month_x  Anomaly_x Id_y Month_y  Anomaly_y\n",
       "Year                                                      \n",
       "1880-01-01   NH     Jan      -0.36   SH     Jan       0.01\n",
       "1880-01-01   NH     Jan      -0.36   SH     Feb       0.04\n",
       "1880-01-01   NH     Jan      -0.36   SH     Mar       0.07"
      ]
     },
     "execution_count": 30,
     "metadata": {},
     "output_type": "execute_result"
    }
   ],
   "source": [
    "# using common index\n",
    "df1 = dfnt.set_index('Year')\n",
    "df2 = dfst.set_index('Year')\n",
    "j = df1.merge(df2, how='inner', left_index=True, right_index=True)\n",
    "j.head(3)"
   ]
  },
  {
   "cell_type": "markdown",
   "id": "4b2231bf-4354-489e-988f-2bf48e66b330",
   "metadata": {
    "tags": [],
    "toc-hr-collapsed": true
   },
   "source": [
    "<a id='pd-explore'></a>\n",
    "## Explore"
   ]
  },
  {
   "cell_type": "markdown",
   "id": "9125fa20-fe53-494f-9520-d3dc3613c24d",
   "metadata": {},
   "source": [
    "[Return to Start of Notebook](#pd)   "
   ]
  },
  {
   "cell_type": "markdown",
   "id": "e3aff83a-0a9f-419a-9444-9ba3d976f370",
   "metadata": {},
   "source": [
    "Minimally sufficient pandas:  \n",
    "- attributes  \n",
    "  - shape, dtypes, columns, index, values  \n",
    "- methods\n",
    "  - isna, notna, idxmax, idxmin, nunique, value_counts\n",
    "- other \n",
    "  - info, len, unique"
   ]
  },
  {
   "cell_type": "markdown",
   "id": "6df5d445-68ed-475e-abc2-c06935b52d3e",
   "metadata": {},
   "source": [
    "### .info\n",
    "df.info(memory_usage='deep')"
   ]
  },
  {
   "cell_type": "code",
   "execution_count": 31,
   "id": "c6611b2c-94a9-45d7-b561-abd4ffa611ed",
   "metadata": {},
   "outputs": [
    {
     "name": "stdout",
     "output_type": "stream",
     "text": [
      "<class 'pandas.core.frame.DataFrame'>\n",
      "RangeIndex: 1716 entries, 0 to 1715\n",
      "Data columns (total 4 columns):\n",
      " #   Column   Non-Null Count  Dtype         \n",
      "---  ------   --------------  -----         \n",
      " 0   Id       1716 non-null   object        \n",
      " 1   Year     1716 non-null   datetime64[ns]\n",
      " 2   Month    1716 non-null   object        \n",
      " 3   Anomaly  1707 non-null   float64       \n",
      "dtypes: datetime64[ns](1), float64(1), object(2)\n",
      "memory usage: 53.8+ KB\n"
     ]
    }
   ],
   "source": [
    "dfgt.info()"
   ]
  },
  {
   "cell_type": "markdown",
   "id": "7fbf6d31-71ce-49ee-a832-c6dcc0ef9623",
   "metadata": {},
   "source": [
    "### .shape"
   ]
  },
  {
   "cell_type": "code",
   "execution_count": 32,
   "id": "cb3d279b-d655-4ccf-b1f0-5d8dbbcb9856",
   "metadata": {},
   "outputs": [
    {
     "data": {
      "text/plain": [
       "(1716, 4)"
      ]
     },
     "execution_count": 32,
     "metadata": {},
     "output_type": "execute_result"
    }
   ],
   "source": [
    "dfgt.shape"
   ]
  },
  {
   "cell_type": "code",
   "execution_count": 33,
   "id": "5d7f20fb-66b4-446a-be42-26f489561d50",
   "metadata": {},
   "outputs": [
    {
     "name": "stdout",
     "output_type": "stream",
     "text": [
      "1716\n",
      "4\n"
     ]
    }
   ],
   "source": [
    "nrows = dfgt.shape[0]\n",
    "ncols = dfgt.shape[1]\n",
    "print(nrows)\n",
    "print(ncols)"
   ]
  },
  {
   "cell_type": "markdown",
   "id": "070b6e03-b6eb-474f-8169-4c5a1ff39273",
   "metadata": {},
   "source": [
    "### len()"
   ]
  },
  {
   "cell_type": "code",
   "execution_count": 34,
   "id": "2f113afd-d148-4ee0-85cc-40843c1272bd",
   "metadata": {},
   "outputs": [
    {
     "data": {
      "text/plain": [
       "1716"
      ]
     },
     "execution_count": 34,
     "metadata": {},
     "output_type": "execute_result"
    }
   ],
   "source": [
    "nrows = len(dfgt)"
   ]
  },
  {
   "cell_type": "markdown",
   "id": "f3952bbb-6f80-4006-a4e1-4555dc85eb66",
   "metadata": {},
   "source": [
    "### .dtypes\n",
    "returns series"
   ]
  },
  {
   "cell_type": "code",
   "execution_count": 35,
   "id": "cb92e545-96ac-495e-88a3-6bf35fddaa10",
   "metadata": {},
   "outputs": [
    {
     "data": {
      "text/plain": [
       "Id                 object\n",
       "Year       datetime64[ns]\n",
       "Month              object\n",
       "Anomaly           float64\n",
       "dtype: object"
      ]
     },
     "execution_count": 35,
     "metadata": {},
     "output_type": "execute_result"
    }
   ],
   "source": [
    "dfgt.dtypes"
   ]
  },
  {
   "cell_type": "raw",
   "id": "899073ea-db5e-4c5c-8388-d5b0b0ce6066",
   "metadata": {},
   "source": [
    "dfgt.dtypes.value_counts()"
   ]
  },
  {
   "cell_type": "markdown",
   "id": "20381a9b-1d80-4c4e-9f21-6014018e7cd5",
   "metadata": {
    "tags": []
   },
   "source": [
    "### .columns"
   ]
  },
  {
   "cell_type": "code",
   "execution_count": 36,
   "id": "4ba82ab5-c4db-43d8-9a59-a3b22d958c8f",
   "metadata": {},
   "outputs": [
    {
     "data": {
      "text/plain": [
       "Index(['Id', 'Year', 'Month', 'Anomaly'], dtype='object')"
      ]
     },
     "execution_count": 36,
     "metadata": {},
     "output_type": "execute_result"
    }
   ],
   "source": [
    "cols = dfgt.columns"
   ]
  },
  {
   "cell_type": "raw",
   "id": "90df2a29-2350-4e53-89ad-b358e6108787",
   "metadata": {},
   "source": [
    "cols = list(dfgt.columns)\n",
    "print(cols)"
   ]
  },
  {
   "cell_type": "markdown",
   "id": "67e60cd4-72c9-4882-adbd-d8fd05dd9c54",
   "metadata": {
    "tags": []
   },
   "source": [
    "### .index "
   ]
  },
  {
   "cell_type": "markdown",
   "id": "c97ea58e-c85f-42f4-9425-e4ff15377de8",
   "metadata": {},
   "source": [
    "#### index type"
   ]
  },
  {
   "cell_type": "code",
   "execution_count": 37,
   "id": "8e4d6bf8-cefa-465f-854e-8ad7028a7bbf",
   "metadata": {},
   "outputs": [
    {
     "data": {
      "text/plain": [
       "pandas.core.indexes.range.RangeIndex"
      ]
     },
     "execution_count": 37,
     "metadata": {},
     "output_type": "execute_result"
    }
   ],
   "source": [
    "type(dfgt.index)"
   ]
  },
  {
   "cell_type": "markdown",
   "id": "1aa7b0b6-75c2-47c0-990a-b077b6e53ec6",
   "metadata": {},
   "source": [
    "#### index name"
   ]
  },
  {
   "cell_type": "code",
   "execution_count": 38,
   "id": "499e549d-0988-4a26-8dbf-6dfb81c2da09",
   "metadata": {},
   "outputs": [],
   "source": [
    "dfgt.index.name"
   ]
  },
  {
   "cell_type": "markdown",
   "id": "db877fa2-1f9a-4703-a207-cbe8edae8424",
   "metadata": {},
   "source": [
    "#### index min, max"
   ]
  },
  {
   "cell_type": "code",
   "execution_count": 39,
   "id": "73de9f3c-e970-4d42-9da6-2b8545d5c662",
   "metadata": {},
   "outputs": [
    {
     "name": "stdout",
     "output_type": "stream",
     "text": [
      "0 1715\n"
     ]
    }
   ],
   "source": [
    "x = dfgt.index.min()\n",
    "y = dfgt.index.max()\n",
    "print(x,y)"
   ]
  },
  {
   "cell_type": "markdown",
   "id": "ce694e7b-e8c3-417f-98df-d99019bb99b5",
   "metadata": {
    "tags": []
   },
   "source": [
    "### .values"
   ]
  },
  {
   "cell_type": "markdown",
   "id": "75893864-c5fa-42bf-a34b-83d47d334ccd",
   "metadata": {},
   "source": [
    "- pandas has separate numpy arrays for each data type in the df  \n",
    "- when you access the values attribute, it concatenates them into a single array"
   ]
  },
  {
   "cell_type": "markdown",
   "id": "07e350b6-c032-4e65-90fa-57783d8a9a68",
   "metadata": {},
   "source": [
    "#### values type"
   ]
  },
  {
   "cell_type": "markdown",
   "id": "1f003937-7fc9-4116-a90b-76ea14ef92ca",
   "metadata": {},
   "source": [
    "values returns a numpy array which can be used to improve performance when selecting single values"
   ]
  },
  {
   "cell_type": "code",
   "execution_count": 40,
   "id": "a6c3b5f4-c4fa-45c4-b39b-53ea5b29378a",
   "metadata": {},
   "outputs": [
    {
     "data": {
      "text/plain": [
       "numpy.ndarray"
      ]
     },
     "execution_count": 40,
     "metadata": {},
     "output_type": "execute_result"
    }
   ],
   "source": [
    "type(dfgt.values)"
   ]
  },
  {
   "cell_type": "markdown",
   "id": "350bf564-8735-4a63-b37d-c5429152aeff",
   "metadata": {},
   "source": [
    "#### values array"
   ]
  },
  {
   "cell_type": "code",
   "execution_count": 41,
   "id": "07810651-3c77-44b1-9e3e-232d7601424b",
   "metadata": {},
   "outputs": [
    {
     "data": {
      "text/plain": [
       "array([['GLB', Timestamp('1880-01-01 00:00:00'), 'Jan', -0.18],\n",
       "       ['GLB', Timestamp('1881-01-01 00:00:00'), 'Jan', -0.19],\n",
       "       ['GLB', Timestamp('1882-01-01 00:00:00'), 'Jan', 0.17],\n",
       "       ...,\n",
       "       ['GLB', Timestamp('2020-01-01 00:00:00'), 'Dec', 0.81],\n",
       "       ['GLB', Timestamp('2021-01-01 00:00:00'), 'Dec', 0.86],\n",
       "       ['GLB', Timestamp('2022-01-01 00:00:00'), 'Dec', nan]],\n",
       "      dtype=object)"
      ]
     },
     "execution_count": 41,
     "metadata": {},
     "output_type": "execute_result"
    }
   ],
   "source": [
    "dfgt.values"
   ]
  },
  {
   "cell_type": "raw",
   "id": "8add035c-2f9c-4989-835b-befdede4a5f6",
   "metadata": {},
   "source": [
    "val_list = dfgt.values.tolist()\n",
    "print(val_list[0:2])"
   ]
  },
  {
   "cell_type": "markdown",
   "id": "fc9cb168-d0b3-4ca6-8261-7a94c74e5e02",
   "metadata": {},
   "source": [
    "### .nunique\n",
    "(dropna=False) to include Nan in total"
   ]
  },
  {
   "cell_type": "code",
   "execution_count": 42,
   "id": "46ebb8cd-cd3e-40d0-8fb7-19d3aba93cce",
   "metadata": {},
   "outputs": [
    {
     "data": {
      "text/plain": [
       "Id           1\n",
       "Year       143\n",
       "Month       12\n",
       "Anomaly    179\n",
       "dtype: int64"
      ]
     },
     "execution_count": 42,
     "metadata": {},
     "output_type": "execute_result"
    }
   ],
   "source": [
    "dfgt.nunique()"
   ]
  },
  {
   "cell_type": "markdown",
   "id": "8aa0a8d6-4444-4f78-8c21-3cb2c937dcf2",
   "metadata": {},
   "source": [
    "### .unique  \n",
    "only available to series, not df"
   ]
  },
  {
   "cell_type": "code",
   "execution_count": 43,
   "id": "f304a94e-749c-41b8-ba45-b499ae276a36",
   "metadata": {},
   "outputs": [
    {
     "data": {
      "text/plain": [
       "array(['Jan', 'Feb', 'Mar', 'Apr', 'May', 'Jun', 'Jul', 'Aug', 'Sep',\n",
       "       'Oct', 'Nov', 'Dec'], dtype=object)"
      ]
     },
     "execution_count": 43,
     "metadata": {},
     "output_type": "execute_result"
    }
   ],
   "source": [
    "unique_months = dfgt['Month'].unique()"
   ]
  },
  {
   "cell_type": "markdown",
   "id": "7b75d697-6919-4352-ba29-6a388dcf6901",
   "metadata": {
    "tags": []
   },
   "source": [
    "### .value_counts  \n",
    "The value_counts method is one of the most valuable methods for string columns.  \n",
    "`df.value_counts(['col1','col2'],ascending=False,normalize=True).round(n)`"
   ]
  },
  {
   "cell_type": "code",
   "execution_count": 44,
   "id": "ec7cb843-2fce-4a6b-9d23-cfb0440e4b67",
   "metadata": {},
   "outputs": [
    {
     "data": {
      "text/plain": [
       "Month\n",
       "Apr    143\n",
       "Aug    143\n",
       "Dec    143\n",
       "Feb    143\n",
       "Jan    143\n",
       "Jul    143\n",
       "Jun    143\n",
       "Mar    143\n",
       "May    143\n",
       "Nov    143\n",
       "Oct    143\n",
       "Sep    143\n",
       "dtype: int64"
      ]
     },
     "execution_count": 44,
     "metadata": {},
     "output_type": "execute_result"
    }
   ],
   "source": [
    "vc = dfgt.value_counts('Month', ascending=True)\n",
    "#vc = dfgt['Month'].value_counts(sort=True,normalize=True).round(3) # normalize\n",
    "#vc = dfgt['Month'].value_counts().index[0]; # most frequent value"
   ]
  },
  {
   "cell_type": "markdown",
   "id": "1db91dc3-b64e-4f0c-8cc9-9954a529e7b8",
   "metadata": {
    "tags": []
   },
   "source": [
    "### .describe"
   ]
  },
  {
   "cell_type": "code",
   "execution_count": 45,
   "id": "1e242c4e-7343-4193-9dcc-42cba3e74358",
   "metadata": {
    "tags": []
   },
   "outputs": [
    {
     "data": {
      "text/html": [
       "<div>\n",
       "<style scoped>\n",
       "    .dataframe tbody tr th:only-of-type {\n",
       "        vertical-align: middle;\n",
       "    }\n",
       "\n",
       "    .dataframe tbody tr th {\n",
       "        vertical-align: top;\n",
       "    }\n",
       "\n",
       "    .dataframe thead th {\n",
       "        text-align: right;\n",
       "    }\n",
       "</style>\n",
       "<table border=\"1\" class=\"dataframe\">\n",
       "  <thead>\n",
       "    <tr style=\"text-align: right;\">\n",
       "      <th></th>\n",
       "      <th>Anomaly</th>\n",
       "    </tr>\n",
       "  </thead>\n",
       "  <tbody>\n",
       "    <tr>\n",
       "      <th>count</th>\n",
       "      <td>1707.000000</td>\n",
       "    </tr>\n",
       "    <tr>\n",
       "      <th>mean</th>\n",
       "      <td>0.055647</td>\n",
       "    </tr>\n",
       "    <tr>\n",
       "      <th>std</th>\n",
       "      <td>0.379280</td>\n",
       "    </tr>\n",
       "    <tr>\n",
       "      <th>min</th>\n",
       "      <td>-0.810000</td>\n",
       "    </tr>\n",
       "    <tr>\n",
       "      <th>25%</th>\n",
       "      <td>-0.220000</td>\n",
       "    </tr>\n",
       "    <tr>\n",
       "      <th>50%</th>\n",
       "      <td>-0.040000</td>\n",
       "    </tr>\n",
       "    <tr>\n",
       "      <th>75%</th>\n",
       "      <td>0.270000</td>\n",
       "    </tr>\n",
       "    <tr>\n",
       "      <th>max</th>\n",
       "      <td>1.370000</td>\n",
       "    </tr>\n",
       "  </tbody>\n",
       "</table>\n",
       "</div>"
      ],
      "text/plain": [
       "           Anomaly\n",
       "count  1707.000000\n",
       "mean      0.055647\n",
       "std       0.379280\n",
       "min      -0.810000\n",
       "25%      -0.220000\n",
       "50%      -0.040000\n",
       "75%       0.270000\n",
       "max       1.370000"
      ]
     },
     "execution_count": 45,
     "metadata": {},
     "output_type": "execute_result"
    }
   ],
   "source": [
    "dfgt.describe()\n",
    "#dfgt.describe().T # transpose with .T\n",
    "#dfgt.describe(percentiles=[.1, .2, .5, .8, .9, .99]).T\n",
    "#dfgt.describe(include='object')"
   ]
  },
  {
   "cell_type": "markdown",
   "id": "fa867270-1bb4-4249-9cd1-3a0f084dba7e",
   "metadata": {},
   "source": [
    "### .corr"
   ]
  },
  {
   "cell_type": "raw",
   "id": "11e165a4-602e-4e1d-9dae-367cde0a3dfa",
   "metadata": {},
   "source": [
    "dfgp.corr().round(2).head(1)"
   ]
  },
  {
   "cell_type": "markdown",
   "id": "ba9b1ec6-2fb5-4fcd-8940-863fab2cb4f8",
   "metadata": {
    "tags": []
   },
   "source": [
    "### .highlight\n",
    "requires dataframe, not series: use [[ ]] "
   ]
  },
  {
   "cell_type": "code",
   "execution_count": 46,
   "id": "94551bd6-67dc-44b5-befc-e5ae8151d0e1",
   "metadata": {},
   "outputs": [
    {
     "data": {
      "text/html": [
       "<style type=\"text/css\">\n",
       "#T_8e01b_row2_col0 {\n",
       "  background-color: yellow;\n",
       "}\n",
       "#T_8e01b_row3_col0 {\n",
       "  background-color: lightblue;\n",
       "}\n",
       "</style>\n",
       "<table id=\"T_8e01b\">\n",
       "  <thead>\n",
       "    <tr>\n",
       "      <th class=\"blank level0\" >&nbsp;</th>\n",
       "      <th id=\"T_8e01b_level0_col0\" class=\"col_heading level0 col0\" >Anomaly</th>\n",
       "    </tr>\n",
       "  </thead>\n",
       "  <tbody>\n",
       "    <tr>\n",
       "      <th id=\"T_8e01b_level0_row0\" class=\"row_heading level0 row0\" >0</th>\n",
       "      <td id=\"T_8e01b_row0_col0\" class=\"data row0 col0\" >-0.180000</td>\n",
       "    </tr>\n",
       "    <tr>\n",
       "      <th id=\"T_8e01b_level0_row1\" class=\"row_heading level0 row1\" >1</th>\n",
       "      <td id=\"T_8e01b_row1_col0\" class=\"data row1 col0\" >-0.190000</td>\n",
       "    </tr>\n",
       "    <tr>\n",
       "      <th id=\"T_8e01b_level0_row2\" class=\"row_heading level0 row2\" >2</th>\n",
       "      <td id=\"T_8e01b_row2_col0\" class=\"data row2 col0\" >0.170000</td>\n",
       "    </tr>\n",
       "    <tr>\n",
       "      <th id=\"T_8e01b_level0_row3\" class=\"row_heading level0 row3\" >3</th>\n",
       "      <td id=\"T_8e01b_row3_col0\" class=\"data row3 col0\" >-0.280000</td>\n",
       "    </tr>\n",
       "    <tr>\n",
       "      <th id=\"T_8e01b_level0_row4\" class=\"row_heading level0 row4\" >4</th>\n",
       "      <td id=\"T_8e01b_row4_col0\" class=\"data row4 col0\" >-0.120000</td>\n",
       "    </tr>\n",
       "  </tbody>\n",
       "</table>\n"
      ],
      "text/plain": [
       "<pandas.io.formats.style.Styler at 0x19147d6a380>"
      ]
     },
     "execution_count": 46,
     "metadata": {},
     "output_type": "execute_result"
    }
   ],
   "source": [
    "dfgt[['Anomaly']].head(5).style.format() \\\n",
    "    .highlight_max(color='yellow') \\\n",
    "    .highlight_min(color='lightblue')"
   ]
  },
  {
   "cell_type": "raw",
   "id": "6ee88f92-bb6d-42a2-a1c3-45c82c46a781",
   "metadata": {},
   "source": [
    "dfgt[['Anomaly']].head(5).style.background_gradient(cmap='Blues')"
   ]
  },
  {
   "cell_type": "markdown",
   "id": "459e4b9c-8195-4150-9338-40515ccc5167",
   "metadata": {
    "tags": [],
    "toc-hr-collapsed": true
   },
   "source": [
    "<a id='pd-missing'></a>\n",
    "## Missing data"
   ]
  },
  {
   "cell_type": "markdown",
   "id": "8ef94ded-2728-4516-b614-81363a1173b1",
   "metadata": {},
   "source": [
    "[Return to Start of Notebook](#pd)  "
   ]
  },
  {
   "cell_type": "markdown",
   "id": "a5f07ae0-35ae-4977-88f9-d31b3fbdffc3",
   "metadata": {
    "tags": []
   },
   "source": [
    "### .isna.sum()"
   ]
  },
  {
   "cell_type": "code",
   "execution_count": 47,
   "id": "5a3158b2-c2be-4b8f-8bdd-edca398ae7b2",
   "metadata": {},
   "outputs": [
    {
     "data": {
      "text/plain": [
       "Id         0\n",
       "Year       0\n",
       "Month      0\n",
       "Anomaly    9\n",
       "dtype: int64"
      ]
     },
     "execution_count": 47,
     "metadata": {},
     "output_type": "execute_result"
    }
   ],
   "source": [
    "dfgc = dfgt.copy()\n",
    "dfgt.isna().sum().head(5) # count by column\n",
    "\n",
    "#dfgt.isna().sum().sum() # total in df\n",
    "#dfgt.isna().sum(axis=1) # count by row (sort first)"
   ]
  },
  {
   "cell_type": "markdown",
   "id": "81a77af9-0963-46c0-abad-e3d38b7187b5",
   "metadata": {},
   "source": [
    "### .isna.any()"
   ]
  },
  {
   "cell_type": "code",
   "execution_count": 48,
   "id": "22f7be8f-9118-467d-b9cf-69edc878b300",
   "metadata": {},
   "outputs": [
    {
     "data": {
      "text/html": [
       "<div>\n",
       "<style scoped>\n",
       "    .dataframe tbody tr th:only-of-type {\n",
       "        vertical-align: middle;\n",
       "    }\n",
       "\n",
       "    .dataframe tbody tr th {\n",
       "        vertical-align: top;\n",
       "    }\n",
       "\n",
       "    .dataframe thead th {\n",
       "        text-align: right;\n",
       "    }\n",
       "</style>\n",
       "<table border=\"1\" class=\"dataframe\">\n",
       "  <thead>\n",
       "    <tr style=\"text-align: right;\">\n",
       "      <th></th>\n",
       "      <th>Id</th>\n",
       "      <th>Year</th>\n",
       "      <th>Month</th>\n",
       "      <th>Anomaly</th>\n",
       "    </tr>\n",
       "  </thead>\n",
       "  <tbody>\n",
       "    <tr>\n",
       "      <th>571</th>\n",
       "      <td>GLB</td>\n",
       "      <td>2022-01-01</td>\n",
       "      <td>Apr</td>\n",
       "      <td>NaN</td>\n",
       "    </tr>\n",
       "    <tr>\n",
       "      <th>714</th>\n",
       "      <td>GLB</td>\n",
       "      <td>2022-01-01</td>\n",
       "      <td>May</td>\n",
       "      <td>NaN</td>\n",
       "    </tr>\n",
       "    <tr>\n",
       "      <th>857</th>\n",
       "      <td>GLB</td>\n",
       "      <td>2022-01-01</td>\n",
       "      <td>Jun</td>\n",
       "      <td>NaN</td>\n",
       "    </tr>\n",
       "  </tbody>\n",
       "</table>\n",
       "</div>"
      ],
      "text/plain": [
       "      Id       Year Month  Anomaly\n",
       "571  GLB 2022-01-01   Apr      NaN\n",
       "714  GLB 2022-01-01   May      NaN\n",
       "857  GLB 2022-01-01   Jun      NaN"
      ]
     },
     "execution_count": 48,
     "metadata": {},
     "output_type": "execute_result"
    }
   ],
   "source": [
    "filt = dfgt.isna().any(axis=1)\n",
    "na_recs = dfgt.loc[filt]\n",
    "na_recs.head(3)"
   ]
  },
  {
   "cell_type": "raw",
   "id": "b6e3a09b-2126-4fd8-8bb7-f8847468d0cb",
   "metadata": {},
   "source": [
    "dfgt.isna().any(axis=1).sum() # number of rows\n",
    "dfgt.isna().any().sum() # number of columns\n",
    "dfgt.isna().any().head() # which columns\n",
    "dfgt.isna().any(axis=1) # which rows\n",
    "dfgt.isna().mean().round(3) * 100 # percentage that are nan"
   ]
  },
  {
   "cell_type": "markdown",
   "id": "ec5d7870-41c5-4cda-bccd-ec94ebbfa515",
   "metadata": {},
   "source": [
    "### .notna"
   ]
  },
  {
   "cell_type": "code",
   "execution_count": 49,
   "id": "67b53367-2eb3-43fb-a799-83748e345412",
   "metadata": {},
   "outputs": [
    {
     "data": {
      "text/html": [
       "<div>\n",
       "<style scoped>\n",
       "    .dataframe tbody tr th:only-of-type {\n",
       "        vertical-align: middle;\n",
       "    }\n",
       "\n",
       "    .dataframe tbody tr th {\n",
       "        vertical-align: top;\n",
       "    }\n",
       "\n",
       "    .dataframe thead th {\n",
       "        text-align: right;\n",
       "    }\n",
       "</style>\n",
       "<table border=\"1\" class=\"dataframe\">\n",
       "  <thead>\n",
       "    <tr style=\"text-align: right;\">\n",
       "      <th></th>\n",
       "      <th>Id</th>\n",
       "      <th>Year</th>\n",
       "      <th>Month</th>\n",
       "      <th>Anomaly</th>\n",
       "    </tr>\n",
       "  </thead>\n",
       "  <tbody>\n",
       "    <tr>\n",
       "      <th>1713</th>\n",
       "      <td>GLB</td>\n",
       "      <td>2020-01-01</td>\n",
       "      <td>Dec</td>\n",
       "      <td>0.81</td>\n",
       "    </tr>\n",
       "    <tr>\n",
       "      <th>1714</th>\n",
       "      <td>GLB</td>\n",
       "      <td>2021-01-01</td>\n",
       "      <td>Dec</td>\n",
       "      <td>0.86</td>\n",
       "    </tr>\n",
       "    <tr>\n",
       "      <th>1715</th>\n",
       "      <td>GLB</td>\n",
       "      <td>2022-01-01</td>\n",
       "      <td>Dec</td>\n",
       "      <td>NaN</td>\n",
       "    </tr>\n",
       "  </tbody>\n",
       "</table>\n",
       "</div>"
      ],
      "text/plain": [
       "       Id       Year Month  Anomaly\n",
       "1713  GLB 2020-01-01   Dec     0.81\n",
       "1714  GLB 2021-01-01   Dec     0.86\n",
       "1715  GLB 2022-01-01   Dec      NaN"
      ]
     },
     "execution_count": 49,
     "metadata": {},
     "output_type": "execute_result"
    }
   ],
   "source": [
    "filt = dfgt.notna()\n",
    "sel = dfgt[filt]\n",
    "sel.tail(3)"
   ]
  },
  {
   "cell_type": "markdown",
   "id": "c2b68780-63a1-43b6-bdba-f010f7365712",
   "metadata": {},
   "source": [
    "### .dropna"
   ]
  },
  {
   "cell_type": "code",
   "execution_count": 50,
   "id": "5ccc7d35-8deb-410c-b5ad-eabd63b3a30b",
   "metadata": {},
   "outputs": [],
   "source": [
    "dfgt.dropna(inplace=True) # use axis=1 to drop columns\n",
    "dfgp.dropna(thresh=3); # row must have at least 4 not null values"
   ]
  },
  {
   "cell_type": "markdown",
   "id": "e6026502-e4f2-4754-b7ab-ceb0e40164b5",
   "metadata": {},
   "source": [
    "### .fillna"
   ]
  },
  {
   "cell_type": "markdown",
   "id": "5f8c0d38-77a9-4e91-bb5f-4d1ae1877a00",
   "metadata": {},
   "source": [
    "#### specify fill value"
   ]
  },
  {
   "cell_type": "code",
   "execution_count": 51,
   "id": "f31bfe5d-b62d-436c-8df8-10f3a41dec27",
   "metadata": {},
   "outputs": [
    {
     "data": {
      "text/plain": [
       "Id                         GLB\n",
       "Year       2022-01-01 00:00:00\n",
       "Month                      Dec\n",
       "Anomaly                    0.0\n",
       "Name: 1715, dtype: object"
      ]
     },
     "execution_count": 51,
     "metadata": {},
     "output_type": "execute_result"
    }
   ],
   "source": [
    "fill_value = round(dfgc.median(numeric_only=True),2) # median\n",
    "fill_value = round(dfgc.mean(numeric_only=True),2) # mean\n",
    "fill_value = 0 # constant\n",
    "df_filled = dfgc.fillna(fill_value) \n",
    "df_filled .iloc[-1]"
   ]
  },
  {
   "cell_type": "markdown",
   "id": "b0bb7fe6-d7e1-4145-8055-9f82c9a8c1d0",
   "metadata": {},
   "source": [
    "#### use dictionary"
   ]
  },
  {
   "cell_type": "code",
   "execution_count": 52,
   "id": "529a1e81-7104-4f02-965e-16f455bdcf46",
   "metadata": {},
   "outputs": [
    {
     "data": {
      "text/plain": [
       "Id                         GLB\n",
       "Year       2022-01-01 00:00:00\n",
       "Month                      Dec\n",
       "Anomaly                    0.0\n",
       "Name: 1715, dtype: object"
      ]
     },
     "execution_count": 52,
     "metadata": {},
     "output_type": "execute_result"
    }
   ],
   "source": [
    "df_filled = dfgc.fillna({'Anomaly': fill_value}) # use for multiple columns and values\n",
    "df_filled .iloc[-1]"
   ]
  },
  {
   "cell_type": "markdown",
   "id": "7ab1908a-7f56-4e41-bb20-43488c4129cc",
   "metadata": {},
   "source": [
    "#### ffill and bfill methods"
   ]
  },
  {
   "cell_type": "code",
   "execution_count": 53,
   "id": "6947bb5d-d030-413d-9253-848baaa37f43",
   "metadata": {},
   "outputs": [
    {
     "data": {
      "text/html": [
       "<div>\n",
       "<style scoped>\n",
       "    .dataframe tbody tr th:only-of-type {\n",
       "        vertical-align: middle;\n",
       "    }\n",
       "\n",
       "    .dataframe tbody tr th {\n",
       "        vertical-align: top;\n",
       "    }\n",
       "\n",
       "    .dataframe thead th {\n",
       "        text-align: right;\n",
       "    }\n",
       "</style>\n",
       "<table border=\"1\" class=\"dataframe\">\n",
       "  <thead>\n",
       "    <tr style=\"text-align: right;\">\n",
       "      <th></th>\n",
       "      <th>Id</th>\n",
       "      <th>Year</th>\n",
       "      <th>Month</th>\n",
       "      <th>Anomaly</th>\n",
       "    </tr>\n",
       "  </thead>\n",
       "  <tbody>\n",
       "    <tr>\n",
       "      <th>1714</th>\n",
       "      <td>GLB</td>\n",
       "      <td>2021-01-01</td>\n",
       "      <td>Dec</td>\n",
       "      <td>0.86</td>\n",
       "    </tr>\n",
       "    <tr>\n",
       "      <th>1715</th>\n",
       "      <td>GLB</td>\n",
       "      <td>2022-01-01</td>\n",
       "      <td>Dec</td>\n",
       "      <td>0.86</td>\n",
       "    </tr>\n",
       "  </tbody>\n",
       "</table>\n",
       "</div>"
      ],
      "text/plain": [
       "       Id       Year Month  Anomaly\n",
       "1714  GLB 2021-01-01   Dec     0.86\n",
       "1715  GLB 2022-01-01   Dec     0.86"
      ]
     },
     "execution_count": 53,
     "metadata": {},
     "output_type": "execute_result"
    }
   ],
   "source": [
    "df_filled = dfgc.fillna(method='ffill') # use previous value\n",
    "#df_filled = dfgc.fillna(method='bfill') # use following value\n",
    "df_filled.tail(2)"
   ]
  },
  {
   "cell_type": "markdown",
   "id": "c40c0733-c731-458d-908d-ef4226655b0b",
   "metadata": {},
   "source": [
    "#### interpolate"
   ]
  },
  {
   "cell_type": "code",
   "execution_count": 54,
   "id": "f76926f2-58a1-411b-8a86-7864ae957b8e",
   "metadata": {},
   "outputs": [
    {
     "data": {
      "text/plain": [
       "9"
      ]
     },
     "execution_count": 54,
     "metadata": {},
     "output_type": "execute_result"
    }
   ],
   "source": [
    "count_na = dfgc.isna().sum().sum()"
   ]
  },
  {
   "cell_type": "code",
   "execution_count": 55,
   "id": "7ef520e2-65db-4293-bc7a-27b98d8f630a",
   "metadata": {},
   "outputs": [
    {
     "data": {
      "text/html": [
       "<div>\n",
       "<style scoped>\n",
       "    .dataframe tbody tr th:only-of-type {\n",
       "        vertical-align: middle;\n",
       "    }\n",
       "\n",
       "    .dataframe tbody tr th {\n",
       "        vertical-align: top;\n",
       "    }\n",
       "\n",
       "    .dataframe thead th {\n",
       "        text-align: right;\n",
       "    }\n",
       "</style>\n",
       "<table border=\"1\" class=\"dataframe\">\n",
       "  <thead>\n",
       "    <tr style=\"text-align: right;\">\n",
       "      <th></th>\n",
       "      <th>Id</th>\n",
       "      <th>Year</th>\n",
       "      <th>Month</th>\n",
       "      <th>Anomaly</th>\n",
       "    </tr>\n",
       "  </thead>\n",
       "  <tbody>\n",
       "    <tr>\n",
       "      <th>1710</th>\n",
       "      <td>GLB</td>\n",
       "      <td>2017-01-01</td>\n",
       "      <td>Dec</td>\n",
       "      <td>0.94</td>\n",
       "    </tr>\n",
       "    <tr>\n",
       "      <th>1711</th>\n",
       "      <td>GLB</td>\n",
       "      <td>2018-01-01</td>\n",
       "      <td>Dec</td>\n",
       "      <td>0.92</td>\n",
       "    </tr>\n",
       "    <tr>\n",
       "      <th>1712</th>\n",
       "      <td>GLB</td>\n",
       "      <td>2019-01-01</td>\n",
       "      <td>Dec</td>\n",
       "      <td>1.09</td>\n",
       "    </tr>\n",
       "    <tr>\n",
       "      <th>1713</th>\n",
       "      <td>GLB</td>\n",
       "      <td>2020-01-01</td>\n",
       "      <td>Dec</td>\n",
       "      <td>0.81</td>\n",
       "    </tr>\n",
       "    <tr>\n",
       "      <th>1714</th>\n",
       "      <td>GLB</td>\n",
       "      <td>2021-01-01</td>\n",
       "      <td>Dec</td>\n",
       "      <td>0.86</td>\n",
       "    </tr>\n",
       "  </tbody>\n",
       "</table>\n",
       "</div>"
      ],
      "text/plain": [
       "       Id       Year Month  Anomaly\n",
       "1710  GLB 2017-01-01   Dec     0.94\n",
       "1711  GLB 2018-01-01   Dec     0.92\n",
       "1712  GLB 2019-01-01   Dec     1.09\n",
       "1713  GLB 2020-01-01   Dec     0.81\n",
       "1714  GLB 2021-01-01   Dec     0.86"
      ]
     },
     "execution_count": 55,
     "metadata": {},
     "output_type": "execute_result"
    }
   ],
   "source": [
    "dfgt.tail()"
   ]
  },
  {
   "cell_type": "code",
   "execution_count": 56,
   "id": "5d1ca456-a8e0-48c8-b582-16671826c0a3",
   "metadata": {},
   "outputs": [
    {
     "data": {
      "text/html": [
       "<div>\n",
       "<style scoped>\n",
       "    .dataframe tbody tr th:only-of-type {\n",
       "        vertical-align: middle;\n",
       "    }\n",
       "\n",
       "    .dataframe tbody tr th {\n",
       "        vertical-align: top;\n",
       "    }\n",
       "\n",
       "    .dataframe thead th {\n",
       "        text-align: right;\n",
       "    }\n",
       "</style>\n",
       "<table border=\"1\" class=\"dataframe\">\n",
       "  <thead>\n",
       "    <tr style=\"text-align: right;\">\n",
       "      <th></th>\n",
       "      <th>Id</th>\n",
       "      <th>Year</th>\n",
       "      <th>Month</th>\n",
       "      <th>Anomaly</th>\n",
       "    </tr>\n",
       "  </thead>\n",
       "  <tbody>\n",
       "    <tr>\n",
       "      <th>1711</th>\n",
       "      <td>GLB</td>\n",
       "      <td>2018-01-01</td>\n",
       "      <td>Dec</td>\n",
       "      <td>0.92</td>\n",
       "    </tr>\n",
       "    <tr>\n",
       "      <th>1712</th>\n",
       "      <td>GLB</td>\n",
       "      <td>2019-01-01</td>\n",
       "      <td>Dec</td>\n",
       "      <td>1.09</td>\n",
       "    </tr>\n",
       "    <tr>\n",
       "      <th>1713</th>\n",
       "      <td>GLB</td>\n",
       "      <td>2020-01-01</td>\n",
       "      <td>Dec</td>\n",
       "      <td>0.81</td>\n",
       "    </tr>\n",
       "    <tr>\n",
       "      <th>1714</th>\n",
       "      <td>GLB</td>\n",
       "      <td>2021-01-01</td>\n",
       "      <td>Dec</td>\n",
       "      <td>0.86</td>\n",
       "    </tr>\n",
       "    <tr>\n",
       "      <th>1715</th>\n",
       "      <td>GLB</td>\n",
       "      <td>2022-01-01</td>\n",
       "      <td>Dec</td>\n",
       "      <td>0.86</td>\n",
       "    </tr>\n",
       "  </tbody>\n",
       "</table>\n",
       "</div>"
      ],
      "text/plain": [
       "       Id       Year Month  Anomaly\n",
       "1711  GLB 2018-01-01   Dec     0.92\n",
       "1712  GLB 2019-01-01   Dec     1.09\n",
       "1713  GLB 2020-01-01   Dec     0.81\n",
       "1714  GLB 2021-01-01   Dec     0.86\n",
       "1715  GLB 2022-01-01   Dec     0.86"
      ]
     },
     "execution_count": 56,
     "metadata": {},
     "output_type": "execute_result"
    }
   ],
   "source": [
    "dfgc['Anomaly']= dfgc['Anomaly'].interpolate('linear')\n",
    "dfgc.tail()"
   ]
  },
  {
   "cell_type": "markdown",
   "id": "91368981-207d-4eb6-8f00-cab02846e2ea",
   "metadata": {
    "tags": [],
    "toc-hr-collapsed": true
   },
   "source": [
    "<a id='pd-transform'></a>\n",
    "## Transform"
   ]
  },
  {
   "cell_type": "markdown",
   "id": "0ffa8567-2f96-473a-87f4-57a7c8d45701",
   "metadata": {},
   "source": [
    "[Return to Start of Notebook](#pd)  "
   ]
  },
  {
   "cell_type": "markdown",
   "id": "ee2cf010-0a0a-4064-854b-d5420b0cf3eb",
   "metadata": {},
   "source": [
    "### .rename"
   ]
  },
  {
   "cell_type": "raw",
   "id": "bc5883d4-1d1d-4463-aa4f-dffd0c850adb",
   "metadata": {},
   "source": [
    "col_names = {'EQU-24N': 'N24', '24N-44N': 'N44', '44N-64N': 'N64', '64N-90N': 'N90',\n",
    "             '24S-EQU': 'S24', '44S-24S': 'S44', '64S-44S': 'S64', '90S-64S': 'S90'}\n",
    "dfz.rename(columns=col_names,inplace=True)\n",
    "dfz.head(1)"
   ]
  },
  {
   "cell_type": "raw",
   "id": "eadcaa72-f1a5-45bf-8d71-c3226bf12209",
   "metadata": {},
   "source": [
    "row_name = 1880\n",
    "dfgp.rename(index={0:row_name}).head(1)\n",
    "dfgp.head(1)"
   ]
  },
  {
   "cell_type": "markdown",
   "id": "208adfc5-d04f-49ab-8315-5c0261156993",
   "metadata": {},
   "source": [
    "### .map"
   ]
  },
  {
   "cell_type": "code",
   "execution_count": 57,
   "id": "d5814be5-48bf-42c1-ba3c-93aa31315e3e",
   "metadata": {},
   "outputs": [
    {
     "data": {
      "text/html": [
       "<div>\n",
       "<style scoped>\n",
       "    .dataframe tbody tr th:only-of-type {\n",
       "        vertical-align: middle;\n",
       "    }\n",
       "\n",
       "    .dataframe tbody tr th {\n",
       "        vertical-align: top;\n",
       "    }\n",
       "\n",
       "    .dataframe thead th {\n",
       "        text-align: right;\n",
       "    }\n",
       "</style>\n",
       "<table border=\"1\" class=\"dataframe\">\n",
       "  <thead>\n",
       "    <tr style=\"text-align: right;\">\n",
       "      <th></th>\n",
       "      <th>Id</th>\n",
       "      <th>Year</th>\n",
       "      <th>Month</th>\n",
       "      <th>Anomaly</th>\n",
       "      <th>Season</th>\n",
       "    </tr>\n",
       "  </thead>\n",
       "  <tbody>\n",
       "    <tr>\n",
       "      <th>0</th>\n",
       "      <td>GLB</td>\n",
       "      <td>1880-01-01</td>\n",
       "      <td>Jan</td>\n",
       "      <td>-0.18</td>\n",
       "      <td>Winter</td>\n",
       "    </tr>\n",
       "    <tr>\n",
       "      <th>1</th>\n",
       "      <td>GLB</td>\n",
       "      <td>1881-01-01</td>\n",
       "      <td>Jan</td>\n",
       "      <td>-0.19</td>\n",
       "      <td>Winter</td>\n",
       "    </tr>\n",
       "    <tr>\n",
       "      <th>2</th>\n",
       "      <td>GLB</td>\n",
       "      <td>1882-01-01</td>\n",
       "      <td>Jan</td>\n",
       "      <td>0.17</td>\n",
       "      <td>Winter</td>\n",
       "    </tr>\n",
       "  </tbody>\n",
       "</table>\n",
       "</div>"
      ],
      "text/plain": [
       "    Id       Year Month  Anomaly  Season\n",
       "0  GLB 1880-01-01   Jan    -0.18  Winter\n",
       "1  GLB 1881-01-01   Jan    -0.19  Winter\n",
       "2  GLB 1882-01-01   Jan     0.17  Winter"
      ]
     },
     "execution_count": 57,
     "metadata": {},
     "output_type": "execute_result"
    }
   ],
   "source": [
    "dfgt['Season'] = dfgt['Month'].map(months_season_dict)  \n",
    "dfgt.head(3)"
   ]
  },
  {
   "cell_type": "markdown",
   "id": "ab617e2f-f57b-4441-a0fa-3f1933c4700c",
   "metadata": {},
   "source": [
    "### .astype \n",
    "- .astype('float64')\n",
    "- .astype('int64') # cannot hold nulls\n",
    "- .astype('bool') # cannot hold nulls\n",
    "- .astype('str')\n",
    "- .astype(categorical)"
   ]
  },
  {
   "cell_type": "code",
   "execution_count": 58,
   "id": "798f18fe-aa2e-41d4-9aed-517785843444",
   "metadata": {},
   "outputs": [
    {
     "data": {
      "text/html": [
       "<div>\n",
       "<style scoped>\n",
       "    .dataframe tbody tr th:only-of-type {\n",
       "        vertical-align: middle;\n",
       "    }\n",
       "\n",
       "    .dataframe tbody tr th {\n",
       "        vertical-align: top;\n",
       "    }\n",
       "\n",
       "    .dataframe thead th {\n",
       "        text-align: right;\n",
       "    }\n",
       "</style>\n",
       "<table border=\"1\" class=\"dataframe\">\n",
       "  <thead>\n",
       "    <tr style=\"text-align: right;\">\n",
       "      <th></th>\n",
       "      <th>Id</th>\n",
       "      <th>Year</th>\n",
       "      <th>Month</th>\n",
       "      <th>Anomaly</th>\n",
       "      <th>Season</th>\n",
       "    </tr>\n",
       "  </thead>\n",
       "  <tbody>\n",
       "    <tr>\n",
       "      <th>0</th>\n",
       "      <td>GLB</td>\n",
       "      <td>1880-01-01</td>\n",
       "      <td>Jan</td>\n",
       "      <td>-0.18</td>\n",
       "      <td>Winter</td>\n",
       "    </tr>\n",
       "    <tr>\n",
       "      <th>1</th>\n",
       "      <td>GLB</td>\n",
       "      <td>1881-01-01</td>\n",
       "      <td>Jan</td>\n",
       "      <td>-0.19</td>\n",
       "      <td>Winter</td>\n",
       "    </tr>\n",
       "    <tr>\n",
       "      <th>2</th>\n",
       "      <td>GLB</td>\n",
       "      <td>1882-01-01</td>\n",
       "      <td>Jan</td>\n",
       "      <td>0.17</td>\n",
       "      <td>Winter</td>\n",
       "    </tr>\n",
       "  </tbody>\n",
       "</table>\n",
       "</div>"
      ],
      "text/plain": [
       "    Id       Year Month  Anomaly  Season\n",
       "0  GLB 1880-01-01   Jan    -0.18  Winter\n",
       "1  GLB 1881-01-01   Jan    -0.19  Winter\n",
       "2  GLB 1882-01-01   Jan     0.17  Winter"
      ]
     },
     "execution_count": 58,
     "metadata": {},
     "output_type": "execute_result"
    }
   ],
   "source": [
    "# convert month and season columns to categorical types\n",
    "dfgt['Month'] = dfgt['Month'].astype(months_cat)\n",
    "dfgt['Season'] = dfgt['Season'].astype(seasons_cat)\n",
    "dfgt.head(3)"
   ]
  },
  {
   "cell_type": "markdown",
   "id": "f80bf381-75c7-4f22-9258-eb596e81e5cd",
   "metadata": {},
   "source": [
    "### .sort_values"
   ]
  },
  {
   "cell_type": "raw",
   "id": "e0da6ec4-2da8-4a17-bf1d-eeb19a8917fc",
   "metadata": {},
   "source": [
    "`df.sort_values(by=[\"col1\", \"col2\"],\n",
    "                ascending=[True,False],\n",
    "                inplace=True,\n",
    "                na_position='first')` "
   ]
  },
  {
   "cell_type": "code",
   "execution_count": 59,
   "id": "91cd1b10-ead6-41f4-a5e5-26036d20fcea",
   "metadata": {},
   "outputs": [
    {
     "data": {
      "text/html": [
       "<div>\n",
       "<style scoped>\n",
       "    .dataframe tbody tr th:only-of-type {\n",
       "        vertical-align: middle;\n",
       "    }\n",
       "\n",
       "    .dataframe tbody tr th {\n",
       "        vertical-align: top;\n",
       "    }\n",
       "\n",
       "    .dataframe thead th {\n",
       "        text-align: right;\n",
       "    }\n",
       "</style>\n",
       "<table border=\"1\" class=\"dataframe\">\n",
       "  <thead>\n",
       "    <tr style=\"text-align: right;\">\n",
       "      <th></th>\n",
       "      <th>Id</th>\n",
       "      <th>Year</th>\n",
       "      <th>Month</th>\n",
       "      <th>Anomaly</th>\n",
       "      <th>Season</th>\n",
       "    </tr>\n",
       "  </thead>\n",
       "  <tbody>\n",
       "    <tr>\n",
       "      <th>0</th>\n",
       "      <td>GLB</td>\n",
       "      <td>1880-01-01</td>\n",
       "      <td>Jan</td>\n",
       "      <td>-0.18</td>\n",
       "      <td>Winter</td>\n",
       "    </tr>\n",
       "    <tr>\n",
       "      <th>143</th>\n",
       "      <td>GLB</td>\n",
       "      <td>1880-01-01</td>\n",
       "      <td>Feb</td>\n",
       "      <td>-0.24</td>\n",
       "      <td>Winter</td>\n",
       "    </tr>\n",
       "    <tr>\n",
       "      <th>286</th>\n",
       "      <td>GLB</td>\n",
       "      <td>1880-01-01</td>\n",
       "      <td>Mar</td>\n",
       "      <td>-0.08</td>\n",
       "      <td>Spring</td>\n",
       "    </tr>\n",
       "  </tbody>\n",
       "</table>\n",
       "</div>"
      ],
      "text/plain": [
       "      Id       Year Month  Anomaly  Season\n",
       "0    GLB 1880-01-01   Jan    -0.18  Winter\n",
       "143  GLB 1880-01-01   Feb    -0.24  Winter\n",
       "286  GLB 1880-01-01   Mar    -0.08  Spring"
      ]
     },
     "execution_count": 59,
     "metadata": {},
     "output_type": "execute_result"
    }
   ],
   "source": [
    "dfgt.sort_values(by=['Year','Month'],inplace=True)\n",
    "dfgt.head(3)"
   ]
  },
  {
   "cell_type": "markdown",
   "id": "1607e81e-ce11-4216-af43-603380dc4ce8",
   "metadata": {},
   "source": [
    "### .diff"
   ]
  },
  {
   "cell_type": "code",
   "execution_count": 60,
   "id": "c5bf29bf-4964-4bfa-b329-cbddfb8dd52e",
   "metadata": {},
   "outputs": [
    {
     "data": {
      "text/plain": [
       "198     0.47\n",
       "41      0.41\n",
       "311     0.38\n",
       "1632    0.37\n",
       "396     0.36\n",
       "Name: Anomaly, dtype: float64"
      ]
     },
     "execution_count": 60,
     "metadata": {},
     "output_type": "execute_result"
    }
   ],
   "source": [
    "dfgt['Anomaly'] \\\n",
    "    .diff() \\\n",
    "    .nlargest()"
   ]
  },
  {
   "cell_type": "markdown",
   "id": "7793874b-e266-4dab-bc6c-040790414cce",
   "metadata": {},
   "source": [
    "### .pct_change"
   ]
  },
  {
   "cell_type": "raw",
   "id": "d9a6a8df-9c4a-4589-96bb-a94be4f32405",
   "metadata": {},
   "source": [
    "dfgt['Anomaly'] \\\n",
    "    .pct_change() \\\n",
    "    .nlargest()"
   ]
  },
  {
   "cell_type": "markdown",
   "id": "388cf07a-e53c-4ea7-bf76-8e9bb9a4d0ef",
   "metadata": {},
   "source": [
    "### .cum max,min,sum"
   ]
  },
  {
   "cell_type": "raw",
   "id": "7e11491f-b382-4b20-8b64-c6ab7e7d91be",
   "metadata": {},
   "source": [
    "dfgt['CumMin'] = dfgt['Anomaly'].cummin()\n",
    "dfgt['CumMax'] = dfgt['Anomaly'].cummax()\n",
    "dfgt['CumSum'] = dfgt['Anomaly'].cumsum()\n",
    "dfgt.head(3)"
   ]
  },
  {
   "cell_type": "markdown",
   "id": "b2f38489-f450-4cd5-b493-ae1bdbc93821",
   "metadata": {},
   "source": [
    "### .str accessor\n",
    "- .str.lower(), .upper(), .capitalize()\n",
    "- .str.len()\n",
    "- .str.count('a')\n",
    "- .str.replace('x','y')\n",
    "- .str.split(',')\n",
    "- .str[0] first char\n",
    "- .str.contains('x') > 0 (filter)\n",
    "- .str.startswith('x'), .endswith('x') (filter)"
   ]
  },
  {
   "cell_type": "markdown",
   "id": "4cca0e07-eabf-48bc-b4b2-b43e33f6bf21",
   "metadata": {
    "tags": [],
    "toc-hr-collapsed": true
   },
   "source": [
    "### .dt"
   ]
  },
  {
   "cell_type": "code",
   "execution_count": 61,
   "id": "11d13a76-2684-4a44-8d9a-b367b835e527",
   "metadata": {},
   "outputs": [
    {
     "data": {
      "text/html": [
       "<div>\n",
       "<style scoped>\n",
       "    .dataframe tbody tr th:only-of-type {\n",
       "        vertical-align: middle;\n",
       "    }\n",
       "\n",
       "    .dataframe tbody tr th {\n",
       "        vertical-align: top;\n",
       "    }\n",
       "\n",
       "    .dataframe thead th {\n",
       "        text-align: right;\n",
       "    }\n",
       "</style>\n",
       "<table border=\"1\" class=\"dataframe\">\n",
       "  <thead>\n",
       "    <tr style=\"text-align: right;\">\n",
       "      <th></th>\n",
       "      <th>Id</th>\n",
       "      <th>Year</th>\n",
       "      <th>Month</th>\n",
       "      <th>Anomaly</th>\n",
       "      <th>Season</th>\n",
       "      <th>lower</th>\n",
       "      <th>upper</th>\n",
       "      <th>capitalize</th>\n",
       "      <th>len</th>\n",
       "      <th>s3</th>\n",
       "      <th>m1</th>\n",
       "    </tr>\n",
       "  </thead>\n",
       "  <tbody>\n",
       "    <tr>\n",
       "      <th>0</th>\n",
       "      <td>GLB</td>\n",
       "      <td>1880-01-01</td>\n",
       "      <td>Jan</td>\n",
       "      <td>-0.18</td>\n",
       "      <td>Winter</td>\n",
       "      <td>winter</td>\n",
       "      <td>WINTER</td>\n",
       "      <td>Winter</td>\n",
       "      <td>6</td>\n",
       "      <td>Win</td>\n",
       "      <td>J</td>\n",
       "    </tr>\n",
       "  </tbody>\n",
       "</table>\n",
       "</div>"
      ],
      "text/plain": [
       "    Id       Year Month  Anomaly  Season   lower   upper capitalize  len   s3  \\\n",
       "0  GLB 1880-01-01   Jan    -0.18  Winter  winter  WINTER     Winter    6  Win   \n",
       "\n",
       "  m1  \n",
       "0  J  "
      ]
     },
     "execution_count": 61,
     "metadata": {},
     "output_type": "execute_result"
    }
   ],
   "source": [
    "dfcp = dfgt.copy()\n",
    "dfcp['lower'] = dfcp['Season'].str.lower()\n",
    "dfcp['upper'] = dfcp['Season'].str.upper()\n",
    "dfcp['capitalize'] = dfcp['Season'].str.capitalize()\n",
    "dfcp['len'] = dfcp['Season'].str.len()\n",
    "dfcp['s3'] = dfgt['Season'].str[0:3]\n",
    "dfcp['m1'] = dfgt['Month'].str[0]\n",
    "dfcp.head(1)"
   ]
  },
  {
   "cell_type": "markdown",
   "id": "836abc79-92f9-483c-82c9-1b28dacc7343",
   "metadata": {},
   "source": [
    "#### .dt accessor"
   ]
  },
  {
   "cell_type": "code",
   "execution_count": 62,
   "id": "7bd33782-6506-4b41-a0cb-33252b7630e4",
   "metadata": {},
   "outputs": [
    {
     "data": {
      "text/html": [
       "<div>\n",
       "<style scoped>\n",
       "    .dataframe tbody tr th:only-of-type {\n",
       "        vertical-align: middle;\n",
       "    }\n",
       "\n",
       "    .dataframe tbody tr th {\n",
       "        vertical-align: top;\n",
       "    }\n",
       "\n",
       "    .dataframe thead th {\n",
       "        text-align: right;\n",
       "    }\n",
       "</style>\n",
       "<table border=\"1\" class=\"dataframe\">\n",
       "  <thead>\n",
       "    <tr style=\"text-align: right;\">\n",
       "      <th></th>\n",
       "      <th>index</th>\n",
       "      <th>Id</th>\n",
       "      <th>Year</th>\n",
       "      <th>Month</th>\n",
       "      <th>Anomaly</th>\n",
       "      <th>Season</th>\n",
       "      <th>year</th>\n",
       "      <th>month</th>\n",
       "      <th>day</th>\n",
       "      <th>month_name</th>\n",
       "    </tr>\n",
       "  </thead>\n",
       "  <tbody>\n",
       "    <tr>\n",
       "      <th>0</th>\n",
       "      <td>0</td>\n",
       "      <td>GLB</td>\n",
       "      <td>1880-01-01</td>\n",
       "      <td>Jan</td>\n",
       "      <td>-0.18</td>\n",
       "      <td>Winter</td>\n",
       "      <td>1880</td>\n",
       "      <td>1</td>\n",
       "      <td>1</td>\n",
       "      <td>January</td>\n",
       "    </tr>\n",
       "  </tbody>\n",
       "</table>\n",
       "</div>"
      ],
      "text/plain": [
       "   index   Id       Year Month  Anomaly  Season  year  month  day month_name\n",
       "0      0  GLB 1880-01-01   Jan    -0.18  Winter  1880      1    1    January"
      ]
     },
     "execution_count": 62,
     "metadata": {},
     "output_type": "execute_result"
    }
   ],
   "source": [
    "dfcp = dfgt.copy().reset_index()\n",
    "dfcp['year'] = dfcp['Year'].dt.year\n",
    "dfcp['month'] = dfcp['Year'].dt.month\n",
    "dfcp['day'] = dfcp['Year'].dt.day\n",
    "dfcp['month_name'] = dfcp['Year'].dt.month_name()\n",
    "dfcp.head(1)"
   ]
  },
  {
   "cell_type": "markdown",
   "id": "6e7f2a52-1b7f-45d4-8539-52da965a0f14",
   "metadata": {},
   "source": [
    "#### .dt.strftime"
   ]
  },
  {
   "cell_type": "code",
   "execution_count": 63,
   "id": "ed30100e-0c14-46ac-8a87-c287e06aaff7",
   "metadata": {},
   "outputs": [],
   "source": [
    "dfgt['year_str'] = dfgt['Year'].dt.strftime('%Y') # create year string"
   ]
  },
  {
   "cell_type": "code",
   "execution_count": 64,
   "id": "d8b19377-a446-4073-8e29-9d0802ab8cfa",
   "metadata": {},
   "outputs": [
    {
     "data": {
      "text/html": [
       "<div>\n",
       "<style scoped>\n",
       "    .dataframe tbody tr th:only-of-type {\n",
       "        vertical-align: middle;\n",
       "    }\n",
       "\n",
       "    .dataframe tbody tr th {\n",
       "        vertical-align: top;\n",
       "    }\n",
       "\n",
       "    .dataframe thead th {\n",
       "        text-align: right;\n",
       "    }\n",
       "</style>\n",
       "<table border=\"1\" class=\"dataframe\">\n",
       "  <thead>\n",
       "    <tr style=\"text-align: right;\">\n",
       "      <th></th>\n",
       "      <th>index</th>\n",
       "      <th>Id</th>\n",
       "      <th>Year</th>\n",
       "      <th>Month</th>\n",
       "      <th>Anomaly</th>\n",
       "      <th>Season</th>\n",
       "      <th>year_str</th>\n",
       "      <th>%b</th>\n",
       "      <th>%Y</th>\n",
       "      <th>%y</th>\n",
       "      <th>%m</th>\n",
       "      <th>%d</th>\n",
       "    </tr>\n",
       "  </thead>\n",
       "  <tbody>\n",
       "    <tr>\n",
       "      <th>0</th>\n",
       "      <td>0</td>\n",
       "      <td>GLB</td>\n",
       "      <td>1880-01-01</td>\n",
       "      <td>Jan</td>\n",
       "      <td>-0.18</td>\n",
       "      <td>Winter</td>\n",
       "      <td>1880</td>\n",
       "      <td>Jan</td>\n",
       "      <td>1880</td>\n",
       "      <td>1880-01-01 00:00:00</td>\n",
       "      <td>01</td>\n",
       "      <td>01</td>\n",
       "    </tr>\n",
       "  </tbody>\n",
       "</table>\n",
       "</div>"
      ],
      "text/plain": [
       "   index   Id       Year Month  Anomaly  Season year_str   %b    %Y  \\\n",
       "0      0  GLB 1880-01-01   Jan    -0.18  Winter     1880  Jan  1880   \n",
       "\n",
       "                    %y  %m  %d  \n",
       "0  1880-01-01 00:00:00  01  01  "
      ]
     },
     "execution_count": 64,
     "metadata": {},
     "output_type": "execute_result"
    }
   ],
   "source": [
    "dfcp = dfgt.copy().reset_index()\n",
    "dfcp['%b'] = dfcp['Year'].dt.strftime('%b')\n",
    "dfcp['%Y'] = dfcp['Year'].dt.strftime('%Y')\n",
    "dfcp['%y'] = dfcp['Year'].dt.strftime('%y')\n",
    "dfcp['%m'] = dfcp['Year'].dt.strftime('%m')\n",
    "dfcp['%d'] = dfcp['Year'].dt.strftime('%d')\n",
    "dfcp.head(1)"
   ]
  },
  {
   "cell_type": "markdown",
   "id": "b4b5558d-864b-462e-8320-4d2a91643f01",
   "metadata": {
    "tags": []
   },
   "source": [
    "#### .dt.to_period\n",
    "- A period is a special data type unique to pandas (it don't exist in numpy) \n",
    "- it represents an entire period of time such as the entire month  \n",
    "- this contrasts with datetimes which represent a single moment in time"
   ]
  },
  {
   "cell_type": "code",
   "execution_count": 65,
   "id": "c0ae80ff-c3d2-4fca-bdc6-977f6e71f018",
   "metadata": {},
   "outputs": [
    {
     "data": {
      "text/html": [
       "<div>\n",
       "<style scoped>\n",
       "    .dataframe tbody tr th:only-of-type {\n",
       "        vertical-align: middle;\n",
       "    }\n",
       "\n",
       "    .dataframe tbody tr th {\n",
       "        vertical-align: top;\n",
       "    }\n",
       "\n",
       "    .dataframe thead th {\n",
       "        text-align: right;\n",
       "    }\n",
       "</style>\n",
       "<table border=\"1\" class=\"dataframe\">\n",
       "  <thead>\n",
       "    <tr style=\"text-align: right;\">\n",
       "      <th></th>\n",
       "      <th>index</th>\n",
       "      <th>Id</th>\n",
       "      <th>Year</th>\n",
       "      <th>Month</th>\n",
       "      <th>Anomaly</th>\n",
       "      <th>Season</th>\n",
       "      <th>year_str</th>\n",
       "      <th>month-period</th>\n",
       "      <th>year-period</th>\n",
       "      <th>year-period-start</th>\n",
       "      <th>year-period-end</th>\n",
       "    </tr>\n",
       "  </thead>\n",
       "  <tbody>\n",
       "    <tr>\n",
       "      <th>0</th>\n",
       "      <td>0</td>\n",
       "      <td>GLB</td>\n",
       "      <td>1880-01-01</td>\n",
       "      <td>Jan</td>\n",
       "      <td>-0.18</td>\n",
       "      <td>Winter</td>\n",
       "      <td>1880</td>\n",
       "      <td>1880-01</td>\n",
       "      <td>1880</td>\n",
       "      <td>1880-01-01</td>\n",
       "      <td>1880-12-31 23:59:59.999999999</td>\n",
       "    </tr>\n",
       "  </tbody>\n",
       "</table>\n",
       "</div>"
      ],
      "text/plain": [
       "   index   Id       Year Month  Anomaly  Season year_str month-period  \\\n",
       "0      0  GLB 1880-01-01   Jan    -0.18  Winter     1880      1880-01   \n",
       "\n",
       "  year-period year-period-start               year-period-end  \n",
       "0        1880        1880-01-01 1880-12-31 23:59:59.999999999  "
      ]
     },
     "execution_count": 65,
     "metadata": {},
     "output_type": "execute_result"
    }
   ],
   "source": [
    "dfcp = dfgt.copy().reset_index()\n",
    "dfcp['month-period'] = dfcp['Year'].dt.to_period('M')\n",
    "dfcp['year-period'] = dfcp['Year'].dt.to_period('Y')\n",
    "dfcp['year-period-start'] = dfcp['year-period'].dt.start_time\n",
    "dfcp['year-period-end'] = dfcp['year-period'].dt.end_time\n",
    "dfcp.dtypes\n",
    "dfcp.head(1)"
   ]
  },
  {
   "cell_type": "markdown",
   "id": "c75d5200-6fb9-4ee0-87a6-60f91063c229",
   "metadata": {},
   "source": [
    "### .to_datetime"
   ]
  },
  {
   "cell_type": "code",
   "execution_count": 66,
   "id": "7d845cda-6e61-48a1-a810-f6d876c539c1",
   "metadata": {},
   "outputs": [],
   "source": [
    "dfgt['month_str'] = pd.to_datetime(dfgt['Month'], format='%b').dt.strftime('%m') # create month string"
   ]
  },
  {
   "cell_type": "code",
   "execution_count": 67,
   "id": "259a672a-f7fe-44b2-8c82-1ce7249490af",
   "metadata": {},
   "outputs": [
    {
     "data": {
      "text/html": [
       "<div>\n",
       "<style scoped>\n",
       "    .dataframe tbody tr th:only-of-type {\n",
       "        vertical-align: middle;\n",
       "    }\n",
       "\n",
       "    .dataframe tbody tr th {\n",
       "        vertical-align: top;\n",
       "    }\n",
       "\n",
       "    .dataframe thead th {\n",
       "        text-align: right;\n",
       "    }\n",
       "</style>\n",
       "<table border=\"1\" class=\"dataframe\">\n",
       "  <thead>\n",
       "    <tr style=\"text-align: right;\">\n",
       "      <th></th>\n",
       "      <th>Id</th>\n",
       "      <th>Year</th>\n",
       "      <th>Month</th>\n",
       "      <th>Anomaly</th>\n",
       "      <th>Season</th>\n",
       "      <th>year_str</th>\n",
       "      <th>month_str</th>\n",
       "      <th>date</th>\n",
       "    </tr>\n",
       "  </thead>\n",
       "  <tbody>\n",
       "    <tr>\n",
       "      <th>0</th>\n",
       "      <td>GLB</td>\n",
       "      <td>1880-01-01</td>\n",
       "      <td>Jan</td>\n",
       "      <td>-0.18</td>\n",
       "      <td>Winter</td>\n",
       "      <td>1880</td>\n",
       "      <td>01</td>\n",
       "      <td>1880-01-01</td>\n",
       "    </tr>\n",
       "  </tbody>\n",
       "</table>\n",
       "</div>"
      ],
      "text/plain": [
       "    Id       Year Month  Anomaly  Season year_str month_str       date\n",
       "0  GLB 1880-01-01   Jan    -0.18  Winter     1880        01 1880-01-01"
      ]
     },
     "execution_count": 67,
     "metadata": {},
     "output_type": "execute_result"
    }
   ],
   "source": [
    "dfgt['date'] = pd.to_datetime(dfgt['year_str'] + dfgt['month_str'], format='%Y%m') # combine strings and convert to date\n",
    "dfgt.head(1)"
   ]
  },
  {
   "cell_type": "markdown",
   "id": "a43ed429-74af-4bdc-a80c-da83ccab2fb4",
   "metadata": {},
   "source": [
    "### .date_range"
   ]
  },
  {
   "cell_type": "raw",
   "id": "ed8d0183-7c0c-4f05-bcfa-1305287504e4",
   "metadata": {},
   "source": [
    "dr_2021 = pd.date_range('2021-01', '2022-01', freq='M')\n",
    "dr_2021 = pd.date_range('2021-01', '2021-12', freq='MS')\n",
    "dr_1900_2000 = pd.date_range('1900', '2000', freq='10YS')\n",
    "dr_10y = pd.date_range('2010', freq='1YS', periods=10)"
   ]
  },
  {
   "cell_type": "markdown",
   "id": "6f555f72-6cc6-4fde-a30e-767c316c6a2f",
   "metadata": {
    "tags": [],
    "toc-hr-collapsed": true
   },
   "source": [
    "### .index"
   ]
  },
  {
   "cell_type": "markdown",
   "id": "2f9a1553-752f-4e4c-bd03-6fc5e11e9694",
   "metadata": {},
   "source": [
    "#### .set_index"
   ]
  },
  {
   "cell_type": "code",
   "execution_count": 68,
   "id": "0e15bbb8-5c36-4e12-86d8-8c128697cff3",
   "metadata": {},
   "outputs": [
    {
     "data": {
      "text/html": [
       "<div>\n",
       "<style scoped>\n",
       "    .dataframe tbody tr th:only-of-type {\n",
       "        vertical-align: middle;\n",
       "    }\n",
       "\n",
       "    .dataframe tbody tr th {\n",
       "        vertical-align: top;\n",
       "    }\n",
       "\n",
       "    .dataframe thead th {\n",
       "        text-align: right;\n",
       "    }\n",
       "</style>\n",
       "<table border=\"1\" class=\"dataframe\">\n",
       "  <thead>\n",
       "    <tr style=\"text-align: right;\">\n",
       "      <th></th>\n",
       "      <th>Id</th>\n",
       "      <th>Year</th>\n",
       "      <th>Month</th>\n",
       "      <th>Anomaly</th>\n",
       "      <th>Season</th>\n",
       "      <th>year_str</th>\n",
       "      <th>month_str</th>\n",
       "    </tr>\n",
       "    <tr>\n",
       "      <th>date</th>\n",
       "      <th></th>\n",
       "      <th></th>\n",
       "      <th></th>\n",
       "      <th></th>\n",
       "      <th></th>\n",
       "      <th></th>\n",
       "      <th></th>\n",
       "    </tr>\n",
       "  </thead>\n",
       "  <tbody>\n",
       "    <tr>\n",
       "      <th>1880-01-01</th>\n",
       "      <td>GLB</td>\n",
       "      <td>1880-01-01</td>\n",
       "      <td>Jan</td>\n",
       "      <td>-0.18</td>\n",
       "      <td>Winter</td>\n",
       "      <td>1880</td>\n",
       "      <td>01</td>\n",
       "    </tr>\n",
       "  </tbody>\n",
       "</table>\n",
       "</div>"
      ],
      "text/plain": [
       "             Id       Year Month  Anomaly  Season year_str month_str\n",
       "date                                                                \n",
       "1880-01-01  GLB 1880-01-01   Jan    -0.18  Winter     1880        01"
      ]
     },
     "execution_count": 68,
     "metadata": {},
     "output_type": "execute_result"
    }
   ],
   "source": [
    "dfgt.set_index('date',inplace=True, verify_integrity=True, drop=True)\n",
    "dfgt.head(1)"
   ]
  },
  {
   "cell_type": "markdown",
   "id": "ba9884bb-bafd-4cbc-be3a-f3e917ef150c",
   "metadata": {},
   "source": [
    "#### .index.names="
   ]
  },
  {
   "cell_type": "code",
   "execution_count": 69,
   "id": "167c71d5-fe6a-4a32-8f4b-ac811f977909",
   "metadata": {},
   "outputs": [
    {
     "data": {
      "text/html": [
       "<div>\n",
       "<style scoped>\n",
       "    .dataframe tbody tr th:only-of-type {\n",
       "        vertical-align: middle;\n",
       "    }\n",
       "\n",
       "    .dataframe tbody tr th {\n",
       "        vertical-align: top;\n",
       "    }\n",
       "\n",
       "    .dataframe thead th {\n",
       "        text-align: right;\n",
       "    }\n",
       "</style>\n",
       "<table border=\"1\" class=\"dataframe\">\n",
       "  <thead>\n",
       "    <tr style=\"text-align: right;\">\n",
       "      <th></th>\n",
       "      <th>Id</th>\n",
       "      <th>Year</th>\n",
       "      <th>Month</th>\n",
       "      <th>Anomaly</th>\n",
       "      <th>Season</th>\n",
       "      <th>year_str</th>\n",
       "      <th>month_str</th>\n",
       "    </tr>\n",
       "    <tr>\n",
       "      <th>Date</th>\n",
       "      <th></th>\n",
       "      <th></th>\n",
       "      <th></th>\n",
       "      <th></th>\n",
       "      <th></th>\n",
       "      <th></th>\n",
       "      <th></th>\n",
       "    </tr>\n",
       "  </thead>\n",
       "  <tbody>\n",
       "    <tr>\n",
       "      <th>1880-01-01</th>\n",
       "      <td>GLB</td>\n",
       "      <td>1880-01-01</td>\n",
       "      <td>Jan</td>\n",
       "      <td>-0.18</td>\n",
       "      <td>Winter</td>\n",
       "      <td>1880</td>\n",
       "      <td>01</td>\n",
       "    </tr>\n",
       "  </tbody>\n",
       "</table>\n",
       "</div>"
      ],
      "text/plain": [
       "             Id       Year Month  Anomaly  Season year_str month_str\n",
       "Date                                                                \n",
       "1880-01-01  GLB 1880-01-01   Jan    -0.18  Winter     1880        01"
      ]
     },
     "execution_count": 69,
     "metadata": {},
     "output_type": "execute_result"
    }
   ],
   "source": [
    "dfgt.index.names = ['Date']\n",
    "dfgt.head(1)"
   ]
  },
  {
   "cell_type": "markdown",
   "id": "8b2c2bed-f75a-48a1-aad8-5a9af04db226",
   "metadata": {},
   "source": [
    "#### .reset_index"
   ]
  },
  {
   "cell_type": "code",
   "execution_count": 70,
   "id": "376f1503-38ae-4031-8187-f95ceedf119e",
   "metadata": {},
   "outputs": [
    {
     "data": {
      "text/html": [
       "<div>\n",
       "<style scoped>\n",
       "    .dataframe tbody tr th:only-of-type {\n",
       "        vertical-align: middle;\n",
       "    }\n",
       "\n",
       "    .dataframe tbody tr th {\n",
       "        vertical-align: top;\n",
       "    }\n",
       "\n",
       "    .dataframe thead th {\n",
       "        text-align: right;\n",
       "    }\n",
       "</style>\n",
       "<table border=\"1\" class=\"dataframe\">\n",
       "  <thead>\n",
       "    <tr style=\"text-align: right;\">\n",
       "      <th>Month</th>\n",
       "      <th>Year</th>\n",
       "      <th>Apr</th>\n",
       "      <th>Aug</th>\n",
       "      <th>Dec</th>\n",
       "      <th>Feb</th>\n",
       "      <th>Jan</th>\n",
       "      <th>Jul</th>\n",
       "      <th>Jun</th>\n",
       "      <th>Mar</th>\n",
       "      <th>May</th>\n",
       "      <th>Nov</th>\n",
       "      <th>Oct</th>\n",
       "      <th>Sep</th>\n",
       "    </tr>\n",
       "  </thead>\n",
       "  <tbody>\n",
       "    <tr>\n",
       "      <th>0</th>\n",
       "      <td>1880-01-01</td>\n",
       "      <td>-0.16</td>\n",
       "      <td>-0.09</td>\n",
       "      <td>-0.17</td>\n",
       "      <td>-0.24</td>\n",
       "      <td>-0.18</td>\n",
       "      <td>-0.17</td>\n",
       "      <td>-0.2</td>\n",
       "      <td>-0.08</td>\n",
       "      <td>-0.09</td>\n",
       "      <td>-0.21</td>\n",
       "      <td>-0.23</td>\n",
       "      <td>-0.14</td>\n",
       "    </tr>\n",
       "  </tbody>\n",
       "</table>\n",
       "</div>"
      ],
      "text/plain": [
       "Month       Year   Apr   Aug   Dec   Feb   Jan   Jul  Jun   Mar   May   Nov  \\\n",
       "0     1880-01-01 -0.16 -0.09 -0.17 -0.24 -0.18 -0.17 -0.2 -0.08 -0.09 -0.21   \n",
       "\n",
       "Month   Oct   Sep  \n",
       "0     -0.23 -0.14  "
      ]
     },
     "execution_count": 70,
     "metadata": {},
     "output_type": "execute_result"
    }
   ],
   "source": [
    "dfgp.reset_index(inplace=True)\n",
    "dfgp.head(1)"
   ]
  },
  {
   "cell_type": "code",
   "execution_count": 71,
   "id": "f6fb99f9-4fb5-40ab-a703-971902ec4536",
   "metadata": {},
   "outputs": [
    {
     "data": {
      "text/html": [
       "<div>\n",
       "<style scoped>\n",
       "    .dataframe tbody tr th:only-of-type {\n",
       "        vertical-align: middle;\n",
       "    }\n",
       "\n",
       "    .dataframe tbody tr th {\n",
       "        vertical-align: top;\n",
       "    }\n",
       "\n",
       "    .dataframe thead th {\n",
       "        text-align: right;\n",
       "    }\n",
       "</style>\n",
       "<table border=\"1\" class=\"dataframe\">\n",
       "  <thead>\n",
       "    <tr style=\"text-align: right;\">\n",
       "      <th>Month</th>\n",
       "      <th>Apr</th>\n",
       "      <th>Aug</th>\n",
       "      <th>Dec</th>\n",
       "      <th>Feb</th>\n",
       "      <th>Jan</th>\n",
       "      <th>Jul</th>\n",
       "      <th>Jun</th>\n",
       "      <th>Mar</th>\n",
       "      <th>May</th>\n",
       "      <th>Nov</th>\n",
       "      <th>Oct</th>\n",
       "      <th>Sep</th>\n",
       "    </tr>\n",
       "    <tr>\n",
       "      <th>Year</th>\n",
       "      <th></th>\n",
       "      <th></th>\n",
       "      <th></th>\n",
       "      <th></th>\n",
       "      <th></th>\n",
       "      <th></th>\n",
       "      <th></th>\n",
       "      <th></th>\n",
       "      <th></th>\n",
       "      <th></th>\n",
       "      <th></th>\n",
       "      <th></th>\n",
       "    </tr>\n",
       "  </thead>\n",
       "  <tbody>\n",
       "    <tr>\n",
       "      <th>1880-01-01</th>\n",
       "      <td>-0.16</td>\n",
       "      <td>-0.09</td>\n",
       "      <td>-0.17</td>\n",
       "      <td>-0.24</td>\n",
       "      <td>-0.18</td>\n",
       "      <td>-0.17</td>\n",
       "      <td>-0.2</td>\n",
       "      <td>-0.08</td>\n",
       "      <td>-0.09</td>\n",
       "      <td>-0.21</td>\n",
       "      <td>-0.23</td>\n",
       "      <td>-0.14</td>\n",
       "    </tr>\n",
       "  </tbody>\n",
       "</table>\n",
       "</div>"
      ],
      "text/plain": [
       "Month        Apr   Aug   Dec   Feb   Jan   Jul  Jun   Mar   May   Nov   Oct  \\\n",
       "Year                                                                          \n",
       "1880-01-01 -0.16 -0.09 -0.17 -0.24 -0.18 -0.17 -0.2 -0.08 -0.09 -0.21 -0.23   \n",
       "\n",
       "Month        Sep  \n",
       "Year              \n",
       "1880-01-01 -0.14  "
      ]
     },
     "execution_count": 71,
     "metadata": {},
     "output_type": "execute_result"
    }
   ],
   "source": [
    "dfgp.set_index('Year',inplace=True,drop=True)\n",
    "dfgp.head(1)"
   ]
  },
  {
   "cell_type": "markdown",
   "id": "fe3c9076-b573-4d90-98c0-501fcef73ecc",
   "metadata": {},
   "source": [
    "#### .index. date accessor\n",
    "(cannot use .dt)"
   ]
  },
  {
   "cell_type": "code",
   "execution_count": 72,
   "id": "a3b27577-86d1-4970-b5eb-d73463fad55a",
   "metadata": {},
   "outputs": [
    {
     "data": {
      "text/html": [
       "<div>\n",
       "<style scoped>\n",
       "    .dataframe tbody tr th:only-of-type {\n",
       "        vertical-align: middle;\n",
       "    }\n",
       "\n",
       "    .dataframe tbody tr th {\n",
       "        vertical-align: top;\n",
       "    }\n",
       "\n",
       "    .dataframe thead th {\n",
       "        text-align: right;\n",
       "    }\n",
       "</style>\n",
       "<table border=\"1\" class=\"dataframe\">\n",
       "  <thead>\n",
       "    <tr style=\"text-align: right;\">\n",
       "      <th></th>\n",
       "      <th>Id</th>\n",
       "      <th>Year</th>\n",
       "      <th>Month</th>\n",
       "      <th>Anomaly</th>\n",
       "      <th>Season</th>\n",
       "      <th>year_str</th>\n",
       "      <th>month_str</th>\n",
       "    </tr>\n",
       "    <tr>\n",
       "      <th>Date</th>\n",
       "      <th></th>\n",
       "      <th></th>\n",
       "      <th></th>\n",
       "      <th></th>\n",
       "      <th></th>\n",
       "      <th></th>\n",
       "      <th></th>\n",
       "    </tr>\n",
       "  </thead>\n",
       "  <tbody>\n",
       "    <tr>\n",
       "      <th>1880-01-01</th>\n",
       "      <td>GLB</td>\n",
       "      <td>1880</td>\n",
       "      <td>Jan</td>\n",
       "      <td>-0.18</td>\n",
       "      <td>Winter</td>\n",
       "      <td>1880</td>\n",
       "      <td>01</td>\n",
       "    </tr>\n",
       "  </tbody>\n",
       "</table>\n",
       "</div>"
      ],
      "text/plain": [
       "             Id  Year Month  Anomaly  Season year_str month_str\n",
       "Date                                                           \n",
       "1880-01-01  GLB  1880   Jan    -0.18  Winter     1880        01"
      ]
     },
     "execution_count": 72,
     "metadata": {},
     "output_type": "execute_result"
    }
   ],
   "source": [
    "dfgt['Year'] = dfgt.index.year # add Year column\n",
    "dfgt.head(1)"
   ]
  },
  {
   "cell_type": "markdown",
   "id": "9c3f5994-68f9-407f-97c3-f0eba9334428",
   "metadata": {},
   "source": [
    "#### .sort_index"
   ]
  },
  {
   "cell_type": "code",
   "execution_count": 73,
   "id": "d7581ee4-710b-4531-8e51-7cc35bbf538b",
   "metadata": {},
   "outputs": [
    {
     "data": {
      "text/html": [
       "<div>\n",
       "<style scoped>\n",
       "    .dataframe tbody tr th:only-of-type {\n",
       "        vertical-align: middle;\n",
       "    }\n",
       "\n",
       "    .dataframe tbody tr th {\n",
       "        vertical-align: top;\n",
       "    }\n",
       "\n",
       "    .dataframe thead th {\n",
       "        text-align: right;\n",
       "    }\n",
       "</style>\n",
       "<table border=\"1\" class=\"dataframe\">\n",
       "  <thead>\n",
       "    <tr style=\"text-align: right;\">\n",
       "      <th></th>\n",
       "      <th>Id</th>\n",
       "      <th>Year</th>\n",
       "      <th>Month</th>\n",
       "      <th>Anomaly</th>\n",
       "      <th>Season</th>\n",
       "      <th>year_str</th>\n",
       "      <th>month_str</th>\n",
       "    </tr>\n",
       "    <tr>\n",
       "      <th>Date</th>\n",
       "      <th></th>\n",
       "      <th></th>\n",
       "      <th></th>\n",
       "      <th></th>\n",
       "      <th></th>\n",
       "      <th></th>\n",
       "      <th></th>\n",
       "    </tr>\n",
       "  </thead>\n",
       "  <tbody>\n",
       "    <tr>\n",
       "      <th>1880-01-01</th>\n",
       "      <td>GLB</td>\n",
       "      <td>1880</td>\n",
       "      <td>Jan</td>\n",
       "      <td>-0.18</td>\n",
       "      <td>Winter</td>\n",
       "      <td>1880</td>\n",
       "      <td>01</td>\n",
       "    </tr>\n",
       "    <tr>\n",
       "      <th>1880-02-01</th>\n",
       "      <td>GLB</td>\n",
       "      <td>1880</td>\n",
       "      <td>Feb</td>\n",
       "      <td>-0.24</td>\n",
       "      <td>Winter</td>\n",
       "      <td>1880</td>\n",
       "      <td>02</td>\n",
       "    </tr>\n",
       "    <tr>\n",
       "      <th>1880-03-01</th>\n",
       "      <td>GLB</td>\n",
       "      <td>1880</td>\n",
       "      <td>Mar</td>\n",
       "      <td>-0.08</td>\n",
       "      <td>Spring</td>\n",
       "      <td>1880</td>\n",
       "      <td>03</td>\n",
       "    </tr>\n",
       "  </tbody>\n",
       "</table>\n",
       "</div>"
      ],
      "text/plain": [
       "             Id  Year Month  Anomaly  Season year_str month_str\n",
       "Date                                                           \n",
       "1880-01-01  GLB  1880   Jan    -0.18  Winter     1880        01\n",
       "1880-02-01  GLB  1880   Feb    -0.24  Winter     1880        02\n",
       "1880-03-01  GLB  1880   Mar    -0.08  Spring     1880        03"
      ]
     },
     "execution_count": 73,
     "metadata": {},
     "output_type": "execute_result"
    }
   ],
   "source": [
    "#dfgt.sort_index(ascending=False,inplace=True)\n",
    "dfgt.sort_index(inplace=True)\n",
    "dfgt.head(3)"
   ]
  },
  {
   "cell_type": "markdown",
   "id": "b4665bec-243e-42f3-bb7d-8e237faab8a6",
   "metadata": {},
   "source": [
    "### .rank\n",
    "- returns the ranking of each column, does not sort\n",
    "- methods to handle ties:\n",
    "  - average - default, ranks are average of ties\n",
    "  - dense - ties given same rank, no numbers skipped\n",
    "  - min - give each tie the minimum rank integer\n",
    "  - max - give each tie the maximum rank number\n",
    "  - first - arbitrarily give the tie that comes first in the dataset the lower/higher number."
   ]
  },
  {
   "cell_type": "code",
   "execution_count": 74,
   "id": "01194469-821b-4db9-afeb-bb2f9a94a07f",
   "metadata": {},
   "outputs": [
    {
     "data": {
      "text/html": [
       "<div>\n",
       "<style scoped>\n",
       "    .dataframe tbody tr th:only-of-type {\n",
       "        vertical-align: middle;\n",
       "    }\n",
       "\n",
       "    .dataframe tbody tr th {\n",
       "        vertical-align: top;\n",
       "    }\n",
       "\n",
       "    .dataframe thead th {\n",
       "        text-align: right;\n",
       "    }\n",
       "</style>\n",
       "<table border=\"1\" class=\"dataframe\">\n",
       "  <thead>\n",
       "    <tr style=\"text-align: right;\">\n",
       "      <th></th>\n",
       "      <th>Anomaly</th>\n",
       "    </tr>\n",
       "    <tr>\n",
       "      <th>Date</th>\n",
       "      <th></th>\n",
       "    </tr>\n",
       "  </thead>\n",
       "  <tbody>\n",
       "    <tr>\n",
       "      <th>2022-01-01</th>\n",
       "      <td>21.0</td>\n",
       "    </tr>\n",
       "    <tr>\n",
       "      <th>2022-02-01</th>\n",
       "      <td>23.0</td>\n",
       "    </tr>\n",
       "    <tr>\n",
       "      <th>2022-03-01</th>\n",
       "      <td>12.0</td>\n",
       "    </tr>\n",
       "  </tbody>\n",
       "</table>\n",
       "</div>"
      ],
      "text/plain": [
       "            Anomaly\n",
       "Date               \n",
       "2022-01-01     21.0\n",
       "2022-02-01     23.0\n",
       "2022-03-01     12.0"
      ]
     },
     "execution_count": 74,
     "metadata": {},
     "output_type": "execute_result"
    }
   ],
   "source": [
    "dfcp = dfgt.copy()\n",
    "dfcp[['Anomaly']].rank().tail(3)\n",
    "dfcp[['Anomaly']].rank(ascending=False).tail(3)\n",
    "dfcp[['Anomaly']].rank(ascending=False, method='dense').tail(3)"
   ]
  },
  {
   "cell_type": "markdown",
   "id": "7fc902ca-b6e4-42cc-a3af-a67024914d01",
   "metadata": {},
   "source": [
    "### .drop_duplicates\n",
    "- returns unique values "
   ]
  },
  {
   "cell_type": "code",
   "execution_count": 75,
   "id": "35482932-08c9-471f-a86c-9357027bcca2",
   "metadata": {},
   "outputs": [
    {
     "data": {
      "text/html": [
       "<div>\n",
       "<style scoped>\n",
       "    .dataframe tbody tr th:only-of-type {\n",
       "        vertical-align: middle;\n",
       "    }\n",
       "\n",
       "    .dataframe tbody tr th {\n",
       "        vertical-align: top;\n",
       "    }\n",
       "\n",
       "    .dataframe thead th {\n",
       "        text-align: right;\n",
       "    }\n",
       "</style>\n",
       "<table border=\"1\" class=\"dataframe\">\n",
       "  <thead>\n",
       "    <tr style=\"text-align: right;\">\n",
       "      <th></th>\n",
       "      <th>Season</th>\n",
       "      <th>Month</th>\n",
       "    </tr>\n",
       "    <tr>\n",
       "      <th>Date</th>\n",
       "      <th></th>\n",
       "      <th></th>\n",
       "    </tr>\n",
       "  </thead>\n",
       "  <tbody>\n",
       "    <tr>\n",
       "      <th>2021-04-01</th>\n",
       "      <td>Spring</td>\n",
       "      <td>Apr</td>\n",
       "    </tr>\n",
       "    <tr>\n",
       "      <th>2021-05-01</th>\n",
       "      <td>Spring</td>\n",
       "      <td>May</td>\n",
       "    </tr>\n",
       "    <tr>\n",
       "      <th>2021-06-01</th>\n",
       "      <td>Summer</td>\n",
       "      <td>Jun</td>\n",
       "    </tr>\n",
       "  </tbody>\n",
       "</table>\n",
       "</div>"
      ],
      "text/plain": [
       "            Season Month\n",
       "Date                    \n",
       "2021-04-01  Spring   Apr\n",
       "2021-05-01  Spring   May\n",
       "2021-06-01  Summer   Jun"
      ]
     },
     "execution_count": 75,
     "metadata": {},
     "output_type": "execute_result"
    }
   ],
   "source": [
    "dfgc = dfgt.copy()\n",
    "dfgc = dfgc[['Season','Month']].drop_duplicates(keep='last') # keep = first, last, False\n",
    "dfgc.head(3)"
   ]
  },
  {
   "cell_type": "markdown",
   "id": "3a6dca17-46f5-499b-8eff-327d6fc2c401",
   "metadata": {},
   "source": [
    "### .apply"
   ]
  },
  {
   "cell_type": "code",
   "execution_count": 76,
   "id": "a280deca-4fa4-466d-b6de-51029433d2f6",
   "metadata": {},
   "outputs": [
    {
     "data": {
      "text/html": [
       "<div>\n",
       "<style scoped>\n",
       "    .dataframe tbody tr th:only-of-type {\n",
       "        vertical-align: middle;\n",
       "    }\n",
       "\n",
       "    .dataframe tbody tr th {\n",
       "        vertical-align: top;\n",
       "    }\n",
       "\n",
       "    .dataframe thead th {\n",
       "        text-align: right;\n",
       "    }\n",
       "</style>\n",
       "<table border=\"1\" class=\"dataframe\">\n",
       "  <thead>\n",
       "    <tr style=\"text-align: right;\">\n",
       "      <th></th>\n",
       "      <th>Id</th>\n",
       "      <th>Year</th>\n",
       "      <th>Month</th>\n",
       "      <th>Anomaly</th>\n",
       "      <th>Season</th>\n",
       "      <th>year_str</th>\n",
       "      <th>month_str</th>\n",
       "      <th>anomaly_f</th>\n",
       "    </tr>\n",
       "    <tr>\n",
       "      <th>Date</th>\n",
       "      <th></th>\n",
       "      <th></th>\n",
       "      <th></th>\n",
       "      <th></th>\n",
       "      <th></th>\n",
       "      <th></th>\n",
       "      <th></th>\n",
       "      <th></th>\n",
       "    </tr>\n",
       "  </thead>\n",
       "  <tbody>\n",
       "    <tr>\n",
       "      <th>1880-01-01</th>\n",
       "      <td>GLB</td>\n",
       "      <td>1880</td>\n",
       "      <td>Jan</td>\n",
       "      <td>-0.18</td>\n",
       "      <td>Winter</td>\n",
       "      <td>1880</td>\n",
       "      <td>01</td>\n",
       "      <td>-0.324</td>\n",
       "    </tr>\n",
       "  </tbody>\n",
       "</table>\n",
       "</div>"
      ],
      "text/plain": [
       "             Id  Year Month  Anomaly  Season year_str month_str  anomaly_f\n",
       "Date                                                                      \n",
       "1880-01-01  GLB  1880   Jan    -0.18  Winter     1880        01     -0.324"
      ]
     },
     "execution_count": 76,
     "metadata": {},
     "output_type": "execute_result"
    }
   ],
   "source": [
    "dfcp = dfgt.copy()\n",
    "dfcp['anomaly_f'] =  dfcp['Anomaly'].apply(lambda x: x * 1.8) # by column\n",
    "dfcp.head(1)"
   ]
  },
  {
   "cell_type": "code",
   "execution_count": 77,
   "id": "ee4d958e-1c74-42e4-bf09-6f6058278dfc",
   "metadata": {},
   "outputs": [
    {
     "data": {
      "text/html": [
       "<div>\n",
       "<style scoped>\n",
       "    .dataframe tbody tr th:only-of-type {\n",
       "        vertical-align: middle;\n",
       "    }\n",
       "\n",
       "    .dataframe tbody tr th {\n",
       "        vertical-align: top;\n",
       "    }\n",
       "\n",
       "    .dataframe thead th {\n",
       "        text-align: right;\n",
       "    }\n",
       "</style>\n",
       "<table border=\"1\" class=\"dataframe\">\n",
       "  <thead>\n",
       "    <tr style=\"text-align: right;\">\n",
       "      <th>Month</th>\n",
       "      <th>Apr</th>\n",
       "      <th>Aug</th>\n",
       "      <th>Dec</th>\n",
       "      <th>Feb</th>\n",
       "      <th>Jan</th>\n",
       "      <th>Jul</th>\n",
       "      <th>Jun</th>\n",
       "      <th>Mar</th>\n",
       "      <th>May</th>\n",
       "      <th>Nov</th>\n",
       "      <th>Oct</th>\n",
       "      <th>Sep</th>\n",
       "      <th>any_gt_1</th>\n",
       "    </tr>\n",
       "    <tr>\n",
       "      <th>Year</th>\n",
       "      <th></th>\n",
       "      <th></th>\n",
       "      <th></th>\n",
       "      <th></th>\n",
       "      <th></th>\n",
       "      <th></th>\n",
       "      <th></th>\n",
       "      <th></th>\n",
       "      <th></th>\n",
       "      <th></th>\n",
       "      <th></th>\n",
       "      <th></th>\n",
       "      <th></th>\n",
       "    </tr>\n",
       "  </thead>\n",
       "  <tbody>\n",
       "    <tr>\n",
       "      <th>1880-01-01</th>\n",
       "      <td>-0.16</td>\n",
       "      <td>-0.09</td>\n",
       "      <td>-0.17</td>\n",
       "      <td>-0.24</td>\n",
       "      <td>-0.18</td>\n",
       "      <td>-0.17</td>\n",
       "      <td>-0.20</td>\n",
       "      <td>-0.08</td>\n",
       "      <td>-0.09</td>\n",
       "      <td>-0.21</td>\n",
       "      <td>-0.23</td>\n",
       "      <td>-0.14</td>\n",
       "      <td>False</td>\n",
       "    </tr>\n",
       "    <tr>\n",
       "      <th>1881-01-01</th>\n",
       "      <td>0.06</td>\n",
       "      <td>-0.03</td>\n",
       "      <td>-0.06</td>\n",
       "      <td>-0.13</td>\n",
       "      <td>-0.19</td>\n",
       "      <td>0.01</td>\n",
       "      <td>-0.18</td>\n",
       "      <td>0.04</td>\n",
       "      <td>0.07</td>\n",
       "      <td>-0.18</td>\n",
       "      <td>-0.21</td>\n",
       "      <td>-0.15</td>\n",
       "      <td>True</td>\n",
       "    </tr>\n",
       "  </tbody>\n",
       "</table>\n",
       "</div>"
      ],
      "text/plain": [
       "Month        Apr   Aug   Dec   Feb   Jan   Jul   Jun   Mar   May   Nov   Oct  \\\n",
       "Year                                                                           \n",
       "1880-01-01 -0.16 -0.09 -0.17 -0.24 -0.18 -0.17 -0.20 -0.08 -0.09 -0.21 -0.23   \n",
       "1881-01-01  0.06 -0.03 -0.06 -0.13 -0.19  0.01 -0.18  0.04  0.07 -0.18 -0.21   \n",
       "\n",
       "Month        Sep  any_gt_1  \n",
       "Year                        \n",
       "1880-01-01 -0.14     False  \n",
       "1881-01-01 -0.15      True  "
      ]
     },
     "execution_count": 77,
     "metadata": {},
     "output_type": "execute_result"
    }
   ],
   "source": [
    "dfcp = dfgp.copy()\n",
    "dfcp['any_gt_1'] =  dfgp.apply(lambda x: any(x > 0), axis = 1) # by row\n",
    "dfcp.head(2)"
   ]
  },
  {
   "cell_type": "markdown",
   "id": "8efcdf62-7537-4322-ad4f-7011bef29c22",
   "metadata": {
    "toc-hr-collapsed": true
   },
   "source": [
    "### .drop"
   ]
  },
  {
   "cell_type": "markdown",
   "id": "cfe7263c-bf3a-49bf-82ec-901c9a3019fd",
   "metadata": {},
   "source": [
    "#### rows"
   ]
  },
  {
   "cell_type": "code",
   "execution_count": 78,
   "id": "4ec96f2e-532e-48bf-a88a-225459ca49a1",
   "metadata": {},
   "outputs": [
    {
     "data": {
      "text/html": [
       "<div>\n",
       "<style scoped>\n",
       "    .dataframe tbody tr th:only-of-type {\n",
       "        vertical-align: middle;\n",
       "    }\n",
       "\n",
       "    .dataframe tbody tr th {\n",
       "        vertical-align: top;\n",
       "    }\n",
       "\n",
       "    .dataframe thead th {\n",
       "        text-align: right;\n",
       "    }\n",
       "</style>\n",
       "<table border=\"1\" class=\"dataframe\">\n",
       "  <thead>\n",
       "    <tr style=\"text-align: right;\">\n",
       "      <th>Month</th>\n",
       "      <th>Apr</th>\n",
       "      <th>Aug</th>\n",
       "      <th>Dec</th>\n",
       "      <th>Feb</th>\n",
       "      <th>Jan</th>\n",
       "      <th>Jul</th>\n",
       "      <th>Jun</th>\n",
       "      <th>Mar</th>\n",
       "      <th>May</th>\n",
       "      <th>Nov</th>\n",
       "      <th>Oct</th>\n",
       "      <th>Sep</th>\n",
       "    </tr>\n",
       "    <tr>\n",
       "      <th>Year</th>\n",
       "      <th></th>\n",
       "      <th></th>\n",
       "      <th></th>\n",
       "      <th></th>\n",
       "      <th></th>\n",
       "      <th></th>\n",
       "      <th></th>\n",
       "      <th></th>\n",
       "      <th></th>\n",
       "      <th></th>\n",
       "      <th></th>\n",
       "      <th></th>\n",
       "    </tr>\n",
       "  </thead>\n",
       "  <tbody>\n",
       "    <tr>\n",
       "      <th>2021-01-01</th>\n",
       "      <td>0.76</td>\n",
       "      <td>0.81</td>\n",
       "      <td>0.86</td>\n",
       "      <td>0.64</td>\n",
       "      <td>0.81</td>\n",
       "      <td>0.92</td>\n",
       "      <td>0.85</td>\n",
       "      <td>0.88</td>\n",
       "      <td>0.79</td>\n",
       "      <td>0.93</td>\n",
       "      <td>0.99</td>\n",
       "      <td>0.92</td>\n",
       "    </tr>\n",
       "  </tbody>\n",
       "</table>\n",
       "</div>"
      ],
      "text/plain": [
       "Month        Apr   Aug   Dec   Feb   Jan   Jul   Jun   Mar   May   Nov   Oct  \\\n",
       "Year                                                                           \n",
       "2021-01-01  0.76  0.81  0.86  0.64  0.81  0.92  0.85  0.88  0.79  0.93  0.99   \n",
       "\n",
       "Month        Sep  \n",
       "Year              \n",
       "2021-01-01  0.92  "
      ]
     },
     "execution_count": 78,
     "metadata": {},
     "output_type": "execute_result"
    }
   ],
   "source": [
    "dropindex = dfgp.index[-1]\n",
    "dfgp.drop(index=dropindex, inplace=True);\n",
    "dfgp.tail(1)"
   ]
  },
  {
   "cell_type": "markdown",
   "id": "67283f17-874a-4a0d-8795-053af96811d0",
   "metadata": {},
   "source": [
    "#### columns"
   ]
  },
  {
   "cell_type": "code",
   "execution_count": 79,
   "id": "5b716135-15c1-4da1-ab1c-35c92c116b4c",
   "metadata": {},
   "outputs": [
    {
     "data": {
      "text/html": [
       "<div>\n",
       "<style scoped>\n",
       "    .dataframe tbody tr th:only-of-type {\n",
       "        vertical-align: middle;\n",
       "    }\n",
       "\n",
       "    .dataframe tbody tr th {\n",
       "        vertical-align: top;\n",
       "    }\n",
       "\n",
       "    .dataframe thead th {\n",
       "        text-align: right;\n",
       "    }\n",
       "</style>\n",
       "<table border=\"1\" class=\"dataframe\">\n",
       "  <thead>\n",
       "    <tr style=\"text-align: right;\">\n",
       "      <th></th>\n",
       "      <th>Id</th>\n",
       "      <th>Year</th>\n",
       "      <th>Month</th>\n",
       "      <th>Anomaly</th>\n",
       "      <th>Season</th>\n",
       "    </tr>\n",
       "    <tr>\n",
       "      <th>Date</th>\n",
       "      <th></th>\n",
       "      <th></th>\n",
       "      <th></th>\n",
       "      <th></th>\n",
       "      <th></th>\n",
       "    </tr>\n",
       "  </thead>\n",
       "  <tbody>\n",
       "    <tr>\n",
       "      <th>1880-01-01</th>\n",
       "      <td>GLB</td>\n",
       "      <td>1880</td>\n",
       "      <td>Jan</td>\n",
       "      <td>-0.18</td>\n",
       "      <td>Winter</td>\n",
       "    </tr>\n",
       "    <tr>\n",
       "      <th>1880-02-01</th>\n",
       "      <td>GLB</td>\n",
       "      <td>1880</td>\n",
       "      <td>Feb</td>\n",
       "      <td>-0.24</td>\n",
       "      <td>Winter</td>\n",
       "    </tr>\n",
       "    <tr>\n",
       "      <th>1880-03-01</th>\n",
       "      <td>GLB</td>\n",
       "      <td>1880</td>\n",
       "      <td>Mar</td>\n",
       "      <td>-0.08</td>\n",
       "      <td>Spring</td>\n",
       "    </tr>\n",
       "  </tbody>\n",
       "</table>\n",
       "</div>"
      ],
      "text/plain": [
       "             Id  Year Month  Anomaly  Season\n",
       "Date                                        \n",
       "1880-01-01  GLB  1880   Jan    -0.18  Winter\n",
       "1880-02-01  GLB  1880   Feb    -0.24  Winter\n",
       "1880-03-01  GLB  1880   Mar    -0.08  Spring"
      ]
     },
     "execution_count": 79,
     "metadata": {},
     "output_type": "execute_result"
    }
   ],
   "source": [
    "cols = ['year_str', 'month_str']\n",
    "dfgt.drop(columns=cols,inplace=True) # drop unneeded columns\n",
    "dfgt.head(3)"
   ]
  },
  {
   "cell_type": "markdown",
   "id": "f4c5f3e2-067c-49ee-9322-84502ef60932",
   "metadata": {
    "tags": [],
    "toc-hr-collapsed": true
   },
   "source": [
    "### columns"
   ]
  },
  {
   "cell_type": "markdown",
   "id": "44350f61-a2f5-411a-8c77-96729c06ad1a",
   "metadata": {},
   "source": [
    "#### add column"
   ]
  },
  {
   "cell_type": "code",
   "execution_count": 80,
   "id": "d885f011-5e06-4762-8570-f1b9a01733b6",
   "metadata": {},
   "outputs": [
    {
     "data": {
      "text/html": [
       "<div>\n",
       "<style scoped>\n",
       "    .dataframe tbody tr th:only-of-type {\n",
       "        vertical-align: middle;\n",
       "    }\n",
       "\n",
       "    .dataframe tbody tr th {\n",
       "        vertical-align: top;\n",
       "    }\n",
       "\n",
       "    .dataframe thead th {\n",
       "        text-align: right;\n",
       "    }\n",
       "</style>\n",
       "<table border=\"1\" class=\"dataframe\">\n",
       "  <thead>\n",
       "    <tr style=\"text-align: right;\">\n",
       "      <th></th>\n",
       "      <th>Id</th>\n",
       "      <th>Year</th>\n",
       "      <th>Month</th>\n",
       "      <th>Anomaly</th>\n",
       "      <th>Season</th>\n",
       "    </tr>\n",
       "    <tr>\n",
       "      <th>Date</th>\n",
       "      <th></th>\n",
       "      <th></th>\n",
       "      <th></th>\n",
       "      <th></th>\n",
       "      <th></th>\n",
       "    </tr>\n",
       "  </thead>\n",
       "  <tbody>\n",
       "    <tr>\n",
       "      <th>1880-01-01</th>\n",
       "      <td>GLB</td>\n",
       "      <td>1880</td>\n",
       "      <td>Jan</td>\n",
       "      <td>-0.18</td>\n",
       "      <td>Winter</td>\n",
       "    </tr>\n",
       "  </tbody>\n",
       "</table>\n",
       "</div>"
      ],
      "text/plain": [
       "             Id  Year Month  Anomaly  Season\n",
       "Date                                        \n",
       "1880-01-01  GLB  1880   Jan    -0.18  Winter"
      ]
     },
     "execution_count": 80,
     "metadata": {},
     "output_type": "execute_result"
    }
   ],
   "source": [
    "dfgt['Id'] = 'GLB'\n",
    "dfgt.head(1)"
   ]
  },
  {
   "cell_type": "markdown",
   "id": "a323f8f6-b43b-4c45-863d-51c2dc804724",
   "metadata": {},
   "source": [
    "#### reorder columns"
   ]
  },
  {
   "cell_type": "code",
   "execution_count": 81,
   "id": "d6bfd3fb-36d8-4d8c-8f26-3af0f2091ef4",
   "metadata": {},
   "outputs": [
    {
     "data": {
      "text/html": [
       "<div>\n",
       "<style scoped>\n",
       "    .dataframe tbody tr th:only-of-type {\n",
       "        vertical-align: middle;\n",
       "    }\n",
       "\n",
       "    .dataframe tbody tr th {\n",
       "        vertical-align: top;\n",
       "    }\n",
       "\n",
       "    .dataframe thead th {\n",
       "        text-align: right;\n",
       "    }\n",
       "</style>\n",
       "<table border=\"1\" class=\"dataframe\">\n",
       "  <thead>\n",
       "    <tr style=\"text-align: right;\">\n",
       "      <th></th>\n",
       "      <th>Id</th>\n",
       "      <th>Year</th>\n",
       "      <th>Season</th>\n",
       "      <th>Month</th>\n",
       "      <th>Anomaly</th>\n",
       "    </tr>\n",
       "    <tr>\n",
       "      <th>Date</th>\n",
       "      <th></th>\n",
       "      <th></th>\n",
       "      <th></th>\n",
       "      <th></th>\n",
       "      <th></th>\n",
       "    </tr>\n",
       "  </thead>\n",
       "  <tbody>\n",
       "    <tr>\n",
       "      <th>1880-01-01</th>\n",
       "      <td>GLB</td>\n",
       "      <td>1880</td>\n",
       "      <td>Winter</td>\n",
       "      <td>Jan</td>\n",
       "      <td>-0.18</td>\n",
       "    </tr>\n",
       "    <tr>\n",
       "      <th>1880-02-01</th>\n",
       "      <td>GLB</td>\n",
       "      <td>1880</td>\n",
       "      <td>Winter</td>\n",
       "      <td>Feb</td>\n",
       "      <td>-0.24</td>\n",
       "    </tr>\n",
       "    <tr>\n",
       "      <th>1880-03-01</th>\n",
       "      <td>GLB</td>\n",
       "      <td>1880</td>\n",
       "      <td>Spring</td>\n",
       "      <td>Mar</td>\n",
       "      <td>-0.08</td>\n",
       "    </tr>\n",
       "  </tbody>\n",
       "</table>\n",
       "</div>"
      ],
      "text/plain": [
       "             Id  Year  Season Month  Anomaly\n",
       "Date                                        \n",
       "1880-01-01  GLB  1880  Winter   Jan    -0.18\n",
       "1880-02-01  GLB  1880  Winter   Feb    -0.24\n",
       "1880-03-01  GLB  1880  Spring   Mar    -0.08"
      ]
     },
     "execution_count": 81,
     "metadata": {},
     "output_type": "execute_result"
    }
   ],
   "source": [
    "dfgt = dfgt[['Id','Year','Season','Month','Anomaly']];  # reorder columns\n",
    "dfgt.head(3)"
   ]
  },
  {
   "cell_type": "markdown",
   "id": "0685ac05-c18d-47d1-86f4-a494d1331fd4",
   "metadata": {
    "tags": [],
    "toc-hr-collapsed": true
   },
   "source": [
    "<a id='pd-select'></a>\n",
    "## Select"
   ]
  },
  {
   "cell_type": "markdown",
   "id": "70b408c8-08b3-40a8-8050-527c027f8a43",
   "metadata": {},
   "source": [
    "[Return to Start of Notebook](#pd)  "
   ]
  },
  {
   "cell_type": "markdown",
   "id": "d26d4f48-6172-4a8e-87c4-412561f0d6a8",
   "metadata": {},
   "source": [
    "- columns with brackets []\n",
    "- by label  .loc\n",
    "- by integer location  .iloc\n",
    "- using slice notation :"
   ]
  },
  {
   "cell_type": "markdown",
   "id": "f2fbcee3-b94c-47da-bdbd-9d0633fb1eeb",
   "metadata": {
    "tags": []
   },
   "source": [
    "### columns"
   ]
  },
  {
   "cell_type": "code",
   "execution_count": 82,
   "id": "8d2f6376-5ec4-4f03-9e3d-c26bda891b52",
   "metadata": {},
   "outputs": [],
   "source": [
    "scol= 'Anomaly'\n",
    "scol1= ['Anomaly']\n",
    "scols = ['Month','Anomaly']\n",
    "\n",
    "icol = 4\n",
    "icol1 = [4]\n",
    "icols = [3,4];"
   ]
  },
  {
   "cell_type": "code",
   "execution_count": 83,
   "id": "9ce2cbbf-a69d-4cb0-911a-20bdde59057a",
   "metadata": {},
   "outputs": [],
   "source": [
    "selection = dfgt[scol] # single column as series (brackets)\n",
    "selection = dfgt.iloc[:,icol] # single column as series (iloc)\n",
    "selection = dfgt[scol1] # single column as df (brackets)\n",
    "selection = dfgt.iloc[:,icol1] # single column as df (iloc)\n",
    "\n",
    "selection = dfgt[scols] # multiple columns (brackets)\n",
    "selection = dfgt.iloc[:,icols] # multiple columns (iloc)\n",
    "selection = dfgt.iloc[:,3:5] # multiple columns (slice notation)\n",
    "\n",
    "selection = dfgt.select_dtypes('float64') # by date type\n",
    "selection = dfgt.select_dtypes('int64') # by date type\n",
    "selection = dfgt.select_dtypes('number') # by date type\n",
    "selection = dfgt.select_dtypes('object') # by date type\n",
    "selection = dfgt.select_dtypes('category') # by date type\n",
    "\n",
    "selection = dfgp.sample(2, axis='columns'); # random sammple"
   ]
  },
  {
   "cell_type": "markdown",
   "id": "e616f360-3240-421c-ab0d-71bdb4b98410",
   "metadata": {},
   "source": [
    "### rows"
   ]
  },
  {
   "cell_type": "code",
   "execution_count": 84,
   "id": "43385ba0-1dee-4ceb-be6c-c12dd23e380e",
   "metadata": {},
   "outputs": [],
   "source": [
    "srow = '1900-01-01'\n",
    "srow1 = ['1900-01-01']\n",
    "srows = ['1900-01-01','1910-01-01']\n",
    "\n",
    "irow = 0\n",
    "irow1 = [0]\n",
    "irows = [0,1];"
   ]
  },
  {
   "cell_type": "code",
   "execution_count": 85,
   "id": "ab2e09a0-c68f-43de-b882-29ac65ce1d6c",
   "metadata": {},
   "outputs": [],
   "source": [
    "selection = dfgt.head(10)\n",
    "selection = dfgt.tail(10)\n",
    "\n",
    "selection = dfgt.loc[srow] # single row as series (loc)\n",
    "selection = dfgt.iloc[irow] # single row as series (iloc)\n",
    "selection = dfgt.loc[srow1] # single row as df (loc)\n",
    "selection = dfgt.iloc[icol1] # single row as df (iloc)\n",
    "selection = dfgt.loc['1880'] # single row as df partial date specification\n",
    "\n",
    "selection = dfgt.loc[srows] # multiple rows (loc)\n",
    "selection = dfgt.iloc[irows] # multiple rows (iloc)\n",
    "selection = dfgt.loc['2000':'2020'] # multiple rows (slice notation)\n",
    "selection = dfgt.iloc[0:3] # multiple rows (slice notation)\n",
    "\n",
    "selection = dfgt.sample(2) # random sample\n",
    "selection = dfgt.sample(frac=.10); # random sample fraction of rows\n",
    "selection = dfgt.sample(2, random_state = 12345) # random sample defined id\n",
    "selection = dfgt.sample(2, replace=True); # random sample with replacement"
   ]
  },
  {
   "cell_type": "markdown",
   "id": "f30193c4-c6f6-478d-9f38-bd895305cde7",
   "metadata": {
    "tags": []
   },
   "source": [
    "### rows and columns"
   ]
  },
  {
   "cell_type": "code",
   "execution_count": 86,
   "id": "63aee516-99d7-411c-a43c-8ed0b69b3697",
   "metadata": {},
   "outputs": [],
   "source": [
    "selection = dfgt.loc[srows,scols] # loc\n",
    "selection = dfgt.iloc[irows,icols] # iloc\n",
    "\n",
    "selection = dfgp.loc[srows, 'Jan':'Mar'] # loc slice notation\n",
    "selection = dfgt.loc['1900':'1902', scols] # loc slice notation\n",
    "selection = dfgp.loc['1900':'1902', 'Jan':'Mar'] # loc slice notation\n",
    "\n",
    "selection = dfgt.iloc[irows, 1:3]\n",
    "selection = dfgt.iloc[0:3, icols]\n",
    "selection = dfgt.iloc[0:3, 1:3]\n",
    "\n",
    "selection = dfgt.iloc[:, icols]; # all rows with slice notation"
   ]
  },
  {
   "cell_type": "markdown",
   "id": "56f1790e-66e3-483a-aa1d-6aa38c252781",
   "metadata": {
    "toc-hr-collapsed": true
   },
   "source": [
    "### single value"
   ]
  },
  {
   "cell_type": "code",
   "execution_count": 87,
   "id": "865706ab-8993-44d5-9a60-436db3d0068a",
   "metadata": {},
   "outputs": [
    {
     "data": {
      "text/plain": [
       "1880"
      ]
     },
     "execution_count": 87,
     "metadata": {},
     "output_type": "execute_result"
    }
   ],
   "source": [
    "selection = dfgp.loc['1900','Jan'] # as series\n",
    "selection = dfgt.iloc[-3,0] # as value\n",
    "selection = dfgt.loc[srow1,scol1] # as df\n",
    "selection = float(dfgp.loc['1900','Jan']) # as float\n",
    "selection = dfgt.values[5,1] # numpy values for improved performance"
   ]
  },
  {
   "cell_type": "markdown",
   "id": "54bc0cbe-96ad-43c1-a0d8-b58964f2df89",
   "metadata": {},
   "source": [
    "### using date index"
   ]
  },
  {
   "cell_type": "code",
   "execution_count": 88,
   "id": "04ea92fd-cd35-4ae3-961c-6a9a22cac609",
   "metadata": {},
   "outputs": [
    {
     "data": {
      "text/html": [
       "<div>\n",
       "<style scoped>\n",
       "    .dataframe tbody tr th:only-of-type {\n",
       "        vertical-align: middle;\n",
       "    }\n",
       "\n",
       "    .dataframe tbody tr th {\n",
       "        vertical-align: top;\n",
       "    }\n",
       "\n",
       "    .dataframe thead th {\n",
       "        text-align: right;\n",
       "    }\n",
       "</style>\n",
       "<table border=\"1\" class=\"dataframe\">\n",
       "  <thead>\n",
       "    <tr style=\"text-align: right;\">\n",
       "      <th></th>\n",
       "      <th>Id</th>\n",
       "      <th>Year</th>\n",
       "      <th>Season</th>\n",
       "      <th>Month</th>\n",
       "      <th>Anomaly</th>\n",
       "    </tr>\n",
       "    <tr>\n",
       "      <th>Date</th>\n",
       "      <th></th>\n",
       "      <th></th>\n",
       "      <th></th>\n",
       "      <th></th>\n",
       "      <th></th>\n",
       "    </tr>\n",
       "  </thead>\n",
       "  <tbody>\n",
       "    <tr>\n",
       "      <th>2018-01-01</th>\n",
       "      <td>GLB</td>\n",
       "      <td>2018</td>\n",
       "      <td>Winter</td>\n",
       "      <td>Jan</td>\n",
       "      <td>0.81</td>\n",
       "    </tr>\n",
       "    <tr>\n",
       "      <th>2018-02-01</th>\n",
       "      <td>GLB</td>\n",
       "      <td>2018</td>\n",
       "      <td>Winter</td>\n",
       "      <td>Feb</td>\n",
       "      <td>0.84</td>\n",
       "    </tr>\n",
       "    <tr>\n",
       "      <th>2018-03-01</th>\n",
       "      <td>GLB</td>\n",
       "      <td>2018</td>\n",
       "      <td>Spring</td>\n",
       "      <td>Mar</td>\n",
       "      <td>0.88</td>\n",
       "    </tr>\n",
       "  </tbody>\n",
       "</table>\n",
       "</div>"
      ],
      "text/plain": [
       "             Id  Year  Season Month  Anomaly\n",
       "Date                                        \n",
       "2018-01-01  GLB  2018  Winter   Jan     0.81\n",
       "2018-02-01  GLB  2018  Winter   Feb     0.84\n",
       "2018-03-01  GLB  2018  Spring   Mar     0.88"
      ]
     },
     "execution_count": 88,
     "metadata": {},
     "output_type": "execute_result"
    }
   ],
   "source": [
    "#selection = dfgt['2018-01-01':'2019-01-01']\n",
    "selection = dfgt['2018':'2019']\n",
    "selection.head(3)"
   ]
  },
  {
   "cell_type": "markdown",
   "id": "a49b68f2-ed29-4362-9469-13f622b6c298",
   "metadata": {
    "tags": [],
    "toc-hr-collapsed": true
   },
   "source": [
    "<a id='pd-filter'></a>\n",
    "## Filter"
   ]
  },
  {
   "cell_type": "markdown",
   "id": "09dba18d-8fed-438d-9acb-6aecdb32b6b3",
   "metadata": {},
   "source": [
    "[Return to Start of Notebook](#pd)  "
   ]
  },
  {
   "cell_type": "markdown",
   "id": "87a44396-80ba-41d8-b0ed-5a023b294d57",
   "metadata": {},
   "source": [
    "* Process of selecting rows based on values, not labels or integer locations.\n",
    "* also known as boolean selection and boolean indexing  \n",
    "* pandas defaults to boolean selection if contents of brackets is list of booleans\n",
    "* operators  >, <, ==, !=, >=, <=  \n",
    "* if also selecting specific columns, must use .loc\n",
    "* boolean selection does not work with .iloc"
   ]
  },
  {
   "cell_type": "markdown",
   "id": "0ec338f9-0799-4d34-b0fa-6c34d8bc845a",
   "metadata": {
    "tags": []
   },
   "source": [
    "### using date index"
   ]
  },
  {
   "cell_type": "code",
   "execution_count": 89,
   "id": "6625408d-5299-41bd-942d-4f01d9081e59",
   "metadata": {},
   "outputs": [
    {
     "data": {
      "text/html": [
       "<div>\n",
       "<style scoped>\n",
       "    .dataframe tbody tr th:only-of-type {\n",
       "        vertical-align: middle;\n",
       "    }\n",
       "\n",
       "    .dataframe tbody tr th {\n",
       "        vertical-align: top;\n",
       "    }\n",
       "\n",
       "    .dataframe thead th {\n",
       "        text-align: right;\n",
       "    }\n",
       "</style>\n",
       "<table border=\"1\" class=\"dataframe\">\n",
       "  <thead>\n",
       "    <tr style=\"text-align: right;\">\n",
       "      <th></th>\n",
       "      <th>Id</th>\n",
       "      <th>Year</th>\n",
       "      <th>Season</th>\n",
       "      <th>Month</th>\n",
       "      <th>Anomaly</th>\n",
       "    </tr>\n",
       "    <tr>\n",
       "      <th>Date</th>\n",
       "      <th></th>\n",
       "      <th></th>\n",
       "      <th></th>\n",
       "      <th></th>\n",
       "      <th></th>\n",
       "    </tr>\n",
       "  </thead>\n",
       "  <tbody>\n",
       "    <tr>\n",
       "      <th>1990-01-01</th>\n",
       "      <td>GLB</td>\n",
       "      <td>1990</td>\n",
       "      <td>Winter</td>\n",
       "      <td>Jan</td>\n",
       "      <td>0.41</td>\n",
       "    </tr>\n",
       "    <tr>\n",
       "      <th>1990-02-01</th>\n",
       "      <td>GLB</td>\n",
       "      <td>1990</td>\n",
       "      <td>Winter</td>\n",
       "      <td>Feb</td>\n",
       "      <td>0.44</td>\n",
       "    </tr>\n",
       "    <tr>\n",
       "      <th>1990-03-01</th>\n",
       "      <td>GLB</td>\n",
       "      <td>1990</td>\n",
       "      <td>Spring</td>\n",
       "      <td>Mar</td>\n",
       "      <td>0.80</td>\n",
       "    </tr>\n",
       "  </tbody>\n",
       "</table>\n",
       "</div>"
      ],
      "text/plain": [
       "             Id  Year  Season Month  Anomaly\n",
       "Date                                        \n",
       "1990-01-01  GLB  1990  Winter   Jan     0.41\n",
       "1990-02-01  GLB  1990  Winter   Feb     0.44\n",
       "1990-03-01  GLB  1990  Spring   Mar     0.80"
      ]
     },
     "execution_count": 89,
     "metadata": {},
     "output_type": "execute_result"
    }
   ],
   "source": [
    "filt = dfgt.index == '2018-01-01'\n",
    "filt = dfgt.index > '2018-01-01'\n",
    "filt = dfgt.index.year == 1990\n",
    "dfgt[filt].head(3)"
   ]
  },
  {
   "cell_type": "markdown",
   "id": "e9b68f45-36b7-4b72-a41f-149a96d993ab",
   "metadata": {},
   "source": [
    "### using column values"
   ]
  },
  {
   "cell_type": "code",
   "execution_count": 90,
   "id": "05d93cda-ae60-4cc8-8d8c-eee95807fadf",
   "metadata": {},
   "outputs": [
    {
     "data": {
      "text/html": [
       "<div>\n",
       "<style scoped>\n",
       "    .dataframe tbody tr th:only-of-type {\n",
       "        vertical-align: middle;\n",
       "    }\n",
       "\n",
       "    .dataframe tbody tr th {\n",
       "        vertical-align: top;\n",
       "    }\n",
       "\n",
       "    .dataframe thead th {\n",
       "        text-align: right;\n",
       "    }\n",
       "</style>\n",
       "<table border=\"1\" class=\"dataframe\">\n",
       "  <thead>\n",
       "    <tr style=\"text-align: right;\">\n",
       "      <th></th>\n",
       "      <th>Id</th>\n",
       "      <th>Year</th>\n",
       "      <th>Season</th>\n",
       "      <th>Month</th>\n",
       "      <th>Anomaly</th>\n",
       "    </tr>\n",
       "    <tr>\n",
       "      <th>Date</th>\n",
       "      <th></th>\n",
       "      <th></th>\n",
       "      <th></th>\n",
       "      <th></th>\n",
       "      <th></th>\n",
       "    </tr>\n",
       "  </thead>\n",
       "  <tbody>\n",
       "    <tr>\n",
       "      <th>2007-01-01</th>\n",
       "      <td>GLB</td>\n",
       "      <td>2007</td>\n",
       "      <td>Winter</td>\n",
       "      <td>Jan</td>\n",
       "      <td>1.02</td>\n",
       "    </tr>\n",
       "    <tr>\n",
       "      <th>2015-10-01</th>\n",
       "      <td>GLB</td>\n",
       "      <td>2015</td>\n",
       "      <td>Autumn</td>\n",
       "      <td>Oct</td>\n",
       "      <td>1.10</td>\n",
       "    </tr>\n",
       "    <tr>\n",
       "      <th>2015-11-01</th>\n",
       "      <td>GLB</td>\n",
       "      <td>2015</td>\n",
       "      <td>Autumn</td>\n",
       "      <td>Nov</td>\n",
       "      <td>1.06</td>\n",
       "    </tr>\n",
       "  </tbody>\n",
       "</table>\n",
       "</div>"
      ],
      "text/plain": [
       "             Id  Year  Season Month  Anomaly\n",
       "Date                                        \n",
       "2007-01-01  GLB  2007  Winter   Jan     1.02\n",
       "2015-10-01  GLB  2015  Autumn   Oct     1.10\n",
       "2015-11-01  GLB  2015  Autumn   Nov     1.06"
      ]
     },
     "execution_count": 90,
     "metadata": {},
     "output_type": "execute_result"
    }
   ],
   "source": [
    "filt = dfgt[\"Anomaly\"] >= 1.0\n",
    "selection = dfgt.loc[filt].head(3)"
   ]
  },
  {
   "cell_type": "code",
   "execution_count": 91,
   "id": "5c35ca4f-f4fd-45d8-b8f7-b95c28fdba25",
   "metadata": {},
   "outputs": [
    {
     "data": {
      "text/html": [
       "<div>\n",
       "<style scoped>\n",
       "    .dataframe tbody tr th:only-of-type {\n",
       "        vertical-align: middle;\n",
       "    }\n",
       "\n",
       "    .dataframe tbody tr th {\n",
       "        vertical-align: top;\n",
       "    }\n",
       "\n",
       "    .dataframe thead th {\n",
       "        text-align: right;\n",
       "    }\n",
       "</style>\n",
       "<table border=\"1\" class=\"dataframe\">\n",
       "  <thead>\n",
       "    <tr style=\"text-align: right;\">\n",
       "      <th></th>\n",
       "      <th>Month</th>\n",
       "      <th>Anomaly</th>\n",
       "    </tr>\n",
       "    <tr>\n",
       "      <th>Date</th>\n",
       "      <th></th>\n",
       "      <th></th>\n",
       "    </tr>\n",
       "  </thead>\n",
       "  <tbody>\n",
       "    <tr>\n",
       "      <th>1880-01-01</th>\n",
       "      <td>Jan</td>\n",
       "      <td>-0.18</td>\n",
       "    </tr>\n",
       "    <tr>\n",
       "      <th>1880-02-01</th>\n",
       "      <td>Feb</td>\n",
       "      <td>-0.24</td>\n",
       "    </tr>\n",
       "    <tr>\n",
       "      <th>1880-12-01</th>\n",
       "      <td>Dec</td>\n",
       "      <td>-0.17</td>\n",
       "    </tr>\n",
       "  </tbody>\n",
       "</table>\n",
       "</div>"
      ],
      "text/plain": [
       "           Month  Anomaly\n",
       "Date                     \n",
       "1880-01-01   Jan    -0.18\n",
       "1880-02-01   Feb    -0.24\n",
       "1880-12-01   Dec    -0.17"
      ]
     },
     "execution_count": 91,
     "metadata": {},
     "output_type": "execute_result"
    }
   ],
   "source": [
    "filt = dfgt[\"Season\"]==\"Winter\"\n",
    "winter_temps = dfgt[['Month','Anomaly']].loc[filt]\n",
    "winter_temps.head(3)"
   ]
  },
  {
   "cell_type": "code",
   "execution_count": 92,
   "id": "01ec17de-edf6-4d97-b9a8-7b98ff639fec",
   "metadata": {},
   "outputs": [
    {
     "data": {
      "text/html": [
       "<div>\n",
       "<style scoped>\n",
       "    .dataframe tbody tr th:only-of-type {\n",
       "        vertical-align: middle;\n",
       "    }\n",
       "\n",
       "    .dataframe tbody tr th {\n",
       "        vertical-align: top;\n",
       "    }\n",
       "\n",
       "    .dataframe thead th {\n",
       "        text-align: right;\n",
       "    }\n",
       "</style>\n",
       "<table border=\"1\" class=\"dataframe\">\n",
       "  <thead>\n",
       "    <tr style=\"text-align: right;\">\n",
       "      <th>Month</th>\n",
       "      <th>Jan</th>\n",
       "      <th>Mar</th>\n",
       "    </tr>\n",
       "    <tr>\n",
       "      <th>Year</th>\n",
       "      <th></th>\n",
       "      <th></th>\n",
       "    </tr>\n",
       "  </thead>\n",
       "  <tbody>\n",
       "    <tr>\n",
       "      <th>1882-01-01</th>\n",
       "      <td>0.17</td>\n",
       "      <td>0.05</td>\n",
       "    </tr>\n",
       "    <tr>\n",
       "      <th>1884-01-01</th>\n",
       "      <td>-0.12</td>\n",
       "      <td>-0.36</td>\n",
       "    </tr>\n",
       "    <tr>\n",
       "      <th>1888-01-01</th>\n",
       "      <td>-0.34</td>\n",
       "      <td>-0.41</td>\n",
       "    </tr>\n",
       "  </tbody>\n",
       "</table>\n",
       "</div>"
      ],
      "text/plain": [
       "Month        Jan   Mar\n",
       "Year                  \n",
       "1882-01-01  0.17  0.05\n",
       "1884-01-01 -0.12 -0.36\n",
       "1888-01-01 -0.34 -0.41"
      ]
     },
     "execution_count": 92,
     "metadata": {},
     "output_type": "execute_result"
    }
   ],
   "source": [
    "filt = dfgp['Jan'] > dfgp['Mar']\n",
    "dfgp[['Jan','Mar']][filt].head(3)"
   ]
  },
  {
   "cell_type": "markdown",
   "id": "b8a72433-240a-40d2-ad9c-504aa88d4647",
   "metadata": {
    "tags": []
   },
   "source": [
    "### multiple conditions"
   ]
  },
  {
   "cell_type": "code",
   "execution_count": 93,
   "id": "a502287d-e020-4c24-89fa-22cff5a8266c",
   "metadata": {},
   "outputs": [
    {
     "data": {
      "text/html": [
       "<div>\n",
       "<style scoped>\n",
       "    .dataframe tbody tr th:only-of-type {\n",
       "        vertical-align: middle;\n",
       "    }\n",
       "\n",
       "    .dataframe tbody tr th {\n",
       "        vertical-align: top;\n",
       "    }\n",
       "\n",
       "    .dataframe thead th {\n",
       "        text-align: right;\n",
       "    }\n",
       "</style>\n",
       "<table border=\"1\" class=\"dataframe\">\n",
       "  <thead>\n",
       "    <tr style=\"text-align: right;\">\n",
       "      <th></th>\n",
       "      <th>Id</th>\n",
       "      <th>Year</th>\n",
       "      <th>Season</th>\n",
       "      <th>Month</th>\n",
       "      <th>Anomaly</th>\n",
       "    </tr>\n",
       "    <tr>\n",
       "      <th>Date</th>\n",
       "      <th></th>\n",
       "      <th></th>\n",
       "      <th></th>\n",
       "      <th></th>\n",
       "      <th></th>\n",
       "    </tr>\n",
       "  </thead>\n",
       "  <tbody>\n",
       "    <tr>\n",
       "      <th>2015-12-01</th>\n",
       "      <td>GLB</td>\n",
       "      <td>2015</td>\n",
       "      <td>Winter</td>\n",
       "      <td>Dec</td>\n",
       "      <td>1.16</td>\n",
       "    </tr>\n",
       "    <tr>\n",
       "      <th>2016-01-01</th>\n",
       "      <td>GLB</td>\n",
       "      <td>2016</td>\n",
       "      <td>Winter</td>\n",
       "      <td>Jan</td>\n",
       "      <td>1.17</td>\n",
       "    </tr>\n",
       "    <tr>\n",
       "      <th>2016-04-01</th>\n",
       "      <td>GLB</td>\n",
       "      <td>2016</td>\n",
       "      <td>Spring</td>\n",
       "      <td>Apr</td>\n",
       "      <td>1.11</td>\n",
       "    </tr>\n",
       "  </tbody>\n",
       "</table>\n",
       "</div>"
      ],
      "text/plain": [
       "             Id  Year  Season Month  Anomaly\n",
       "Date                                        \n",
       "2015-12-01  GLB  2015  Winter   Dec     1.16\n",
       "2016-01-01  GLB  2016  Winter   Jan     1.17\n",
       "2016-04-01  GLB  2016  Spring   Apr     1.11"
      ]
     },
     "execution_count": 93,
     "metadata": {},
     "output_type": "execute_result"
    }
   ],
   "source": [
    "filt1 = dfgt[\"Anomaly\"] > 1.1\n",
    "filt2 = dfgt[\"Anomaly\"] < 1.2\n",
    "selection = dfgt.loc[filt1 & filt2].head(3) # and\n",
    "#selection = dfgp.loc[filt1 | filt2] # or\n",
    "#selection = dfgp.loc[~filt1]; # not"
   ]
  },
  {
   "cell_type": "markdown",
   "id": "08f53378-a94e-47fb-87aa-f5f2ae7dae5f",
   "metadata": {},
   "source": [
    "### between"
   ]
  },
  {
   "cell_type": "code",
   "execution_count": 94,
   "id": "68813b03-b4d2-474f-bb56-4ce206ea971e",
   "metadata": {},
   "outputs": [],
   "source": [
    "filt3 = dfgp[\"Jan\"].between(1.02,1.2)\n",
    "filt3 = dfgp[\"Jan\"].between(1.02,2,inclusive='both')\n",
    "filt3 = dfgp[\"Jan\"].between(1.02,2,inclusive='neither')\n",
    "selection = dfgp.loc[filt3]; # between"
   ]
  },
  {
   "cell_type": "markdown",
   "id": "97caa023-238f-4872-844f-1b59aea42f3a",
   "metadata": {},
   "source": [
    "### isin"
   ]
  },
  {
   "cell_type": "code",
   "execution_count": 95,
   "id": "ad466669-abd4-41d6-9062-893074e154d2",
   "metadata": {},
   "outputs": [],
   "source": [
    "filt = dfgt.index.year.isin([2020,2020])\n",
    "selection = dfgt.loc[filt].head(2);"
   ]
  },
  {
   "cell_type": "markdown",
   "id": "577d0ef1-fdbd-452a-9593-c2e27361ce5b",
   "metadata": {},
   "source": [
    "### count boolean values"
   ]
  },
  {
   "cell_type": "code",
   "execution_count": 96,
   "id": "313560d4-2f30-4803-bb35-5f7f8870c7c0",
   "metadata": {},
   "outputs": [
    {
     "data": {
      "text/plain": [
       "4"
      ]
     },
     "execution_count": 96,
     "metadata": {},
     "output_type": "execute_result"
    }
   ],
   "source": [
    "filt = dfgp['Jan'] > 1.0\n",
    "count_true = sum(filt) # count"
   ]
  },
  {
   "cell_type": "markdown",
   "id": "4e118259-2551-449b-bdad-8d00b1de2701",
   "metadata": {},
   "source": [
    "### average boolean values"
   ]
  },
  {
   "cell_type": "code",
   "execution_count": 97,
   "id": "06e4bcc0-3c91-467b-9db9-db0952eca0d6",
   "metadata": {},
   "outputs": [
    {
     "data": {
      "text/plain": [
       "2.8169014084507045"
      ]
     },
     "execution_count": 97,
     "metadata": {},
     "output_type": "execute_result"
    }
   ],
   "source": [
    "filt.mean() * 100 # as percent"
   ]
  },
  {
   "cell_type": "markdown",
   "id": "9e471778-7dd5-418a-b926-b5f60f71bd45",
   "metadata": {},
   "source": [
    "### .idxmax, .idxmin"
   ]
  },
  {
   "cell_type": "code",
   "execution_count": 98,
   "id": "4ac720a7-dc38-440b-a5ec-2e68d4fa07c2",
   "metadata": {},
   "outputs": [
    {
     "data": {
      "text/html": [
       "<div>\n",
       "<style scoped>\n",
       "    .dataframe tbody tr th:only-of-type {\n",
       "        vertical-align: middle;\n",
       "    }\n",
       "\n",
       "    .dataframe tbody tr th {\n",
       "        vertical-align: top;\n",
       "    }\n",
       "\n",
       "    .dataframe thead th {\n",
       "        text-align: right;\n",
       "    }\n",
       "</style>\n",
       "<table border=\"1\" class=\"dataframe\">\n",
       "  <thead>\n",
       "    <tr style=\"text-align: right;\">\n",
       "      <th></th>\n",
       "      <th>Id</th>\n",
       "      <th>Year</th>\n",
       "      <th>Season</th>\n",
       "      <th>Month</th>\n",
       "      <th>Anomaly</th>\n",
       "    </tr>\n",
       "    <tr>\n",
       "      <th>Date</th>\n",
       "      <th></th>\n",
       "      <th></th>\n",
       "      <th></th>\n",
       "      <th></th>\n",
       "      <th></th>\n",
       "    </tr>\n",
       "  </thead>\n",
       "  <tbody>\n",
       "    <tr>\n",
       "      <th>2016-02-01</th>\n",
       "      <td>GLB</td>\n",
       "      <td>2016</td>\n",
       "      <td>Winter</td>\n",
       "      <td>Feb</td>\n",
       "      <td>1.37</td>\n",
       "    </tr>\n",
       "  </tbody>\n",
       "</table>\n",
       "</div>"
      ],
      "text/plain": [
       "             Id  Year  Season Month  Anomaly\n",
       "Date                                        \n",
       "2016-02-01  GLB  2016  Winter   Feb     1.37"
      ]
     },
     "execution_count": 98,
     "metadata": {},
     "output_type": "execute_result"
    }
   ],
   "source": [
    "imax = dfgt['Anomaly'].idxmax()\n",
    "dfgt.loc[[imax],:]"
   ]
  },
  {
   "cell_type": "code",
   "execution_count": 99,
   "id": "d429ee54-a6c9-437b-8e4a-b5d3f06c5131",
   "metadata": {},
   "outputs": [
    {
     "data": {
      "text/html": [
       "<div>\n",
       "<style scoped>\n",
       "    .dataframe tbody tr th:only-of-type {\n",
       "        vertical-align: middle;\n",
       "    }\n",
       "\n",
       "    .dataframe tbody tr th {\n",
       "        vertical-align: top;\n",
       "    }\n",
       "\n",
       "    .dataframe thead th {\n",
       "        text-align: right;\n",
       "    }\n",
       "</style>\n",
       "<table border=\"1\" class=\"dataframe\">\n",
       "  <thead>\n",
       "    <tr style=\"text-align: right;\">\n",
       "      <th></th>\n",
       "      <th>Id</th>\n",
       "      <th>Year</th>\n",
       "      <th>Season</th>\n",
       "      <th>Month</th>\n",
       "      <th>Anomaly</th>\n",
       "    </tr>\n",
       "    <tr>\n",
       "      <th>Date</th>\n",
       "      <th></th>\n",
       "      <th></th>\n",
       "      <th></th>\n",
       "      <th></th>\n",
       "      <th></th>\n",
       "    </tr>\n",
       "  </thead>\n",
       "  <tbody>\n",
       "    <tr>\n",
       "      <th>2016-02-01</th>\n",
       "      <td>GLB</td>\n",
       "      <td>2016</td>\n",
       "      <td>Winter</td>\n",
       "      <td>Feb</td>\n",
       "      <td>1.37</td>\n",
       "    </tr>\n",
       "    <tr>\n",
       "      <th>1893-01-01</th>\n",
       "      <td>GLB</td>\n",
       "      <td>1893</td>\n",
       "      <td>Winter</td>\n",
       "      <td>Jan</td>\n",
       "      <td>-0.81</td>\n",
       "    </tr>\n",
       "  </tbody>\n",
       "</table>\n",
       "</div>"
      ],
      "text/plain": [
       "             Id  Year  Season Month  Anomaly\n",
       "Date                                        \n",
       "2016-02-01  GLB  2016  Winter   Feb     1.37\n",
       "1893-01-01  GLB  1893  Winter   Jan    -0.81"
      ]
     },
     "execution_count": 99,
     "metadata": {},
     "output_type": "execute_result"
    }
   ],
   "source": [
    "imax = dfgt['Anomaly'].idxmax()\n",
    "imin = dfgt['Anomaly'].idxmin()\n",
    "max_min_idx = [imax, imin]\n",
    "dfgt.loc[max_min_idx,:]"
   ]
  },
  {
   "cell_type": "markdown",
   "id": "64dfc446-f21c-4ba2-8e31-050602a53454",
   "metadata": {},
   "source": [
    "### .nlargest, .nsmallest  \n",
    "- keep = 'first' is default  \n",
    "- keep = 'last' will instead keep last  \n",
    "- keep = 'all' wiil keep all tied values"
   ]
  },
  {
   "cell_type": "code",
   "execution_count": 100,
   "id": "0d106edf-3d00-430d-bf2a-8b026a301553",
   "metadata": {},
   "outputs": [
    {
     "data": {
      "text/plain": [
       "Date\n",
       "2016-02-01    1.37\n",
       "2016-03-01    1.36\n",
       "2020-02-01    1.24\n",
       "Name: Anomaly, dtype: float64"
      ]
     },
     "execution_count": 100,
     "metadata": {},
     "output_type": "execute_result"
    }
   ],
   "source": [
    "selection = dfgt['Anomaly'].nlargest(n=3) # as series\n",
    "#selection = dfgt['Anomaly'].nsmallest(n=3) # as series\n",
    "#selection = dfgt.nlargest(3, 'Anomaly') # as df\n",
    "#selection = dfgt['Anomaly'].nlargest(n = 3, keep = 'all') # keep ties"
   ]
  },
  {
   "cell_type": "markdown",
   "id": "6e97eb03-1d82-40e9-8f0a-bab16b95430d",
   "metadata": {},
   "source": [
    "### chaining"
   ]
  },
  {
   "cell_type": "code",
   "execution_count": 101,
   "id": "1464a365-2a17-4609-9815-629336264ca6",
   "metadata": {},
   "outputs": [
    {
     "data": {
      "text/html": [
       "<div>\n",
       "<style scoped>\n",
       "    .dataframe tbody tr th:only-of-type {\n",
       "        vertical-align: middle;\n",
       "    }\n",
       "\n",
       "    .dataframe tbody tr th {\n",
       "        vertical-align: top;\n",
       "    }\n",
       "\n",
       "    .dataframe thead th {\n",
       "        text-align: right;\n",
       "    }\n",
       "</style>\n",
       "<table border=\"1\" class=\"dataframe\">\n",
       "  <thead>\n",
       "    <tr style=\"text-align: right;\">\n",
       "      <th></th>\n",
       "      <th>Season</th>\n",
       "      <th>Anomaly</th>\n",
       "    </tr>\n",
       "    <tr>\n",
       "      <th>Date</th>\n",
       "      <th></th>\n",
       "      <th></th>\n",
       "    </tr>\n",
       "  </thead>\n",
       "  <tbody>\n",
       "    <tr>\n",
       "      <th>2016-02-01</th>\n",
       "      <td>Winter</td>\n",
       "      <td>1.37</td>\n",
       "    </tr>\n",
       "    <tr>\n",
       "      <th>2016-03-01</th>\n",
       "      <td>Spring</td>\n",
       "      <td>1.36</td>\n",
       "    </tr>\n",
       "    <tr>\n",
       "      <th>2020-11-01</th>\n",
       "      <td>Autumn</td>\n",
       "      <td>1.11</td>\n",
       "    </tr>\n",
       "    <tr>\n",
       "      <th>2016-08-01</th>\n",
       "      <td>Summer</td>\n",
       "      <td>1.02</td>\n",
       "    </tr>\n",
       "  </tbody>\n",
       "</table>\n",
       "</div>"
      ],
      "text/plain": [
       "            Season  Anomaly\n",
       "Date                       \n",
       "2016-02-01  Winter     1.37\n",
       "2016-03-01  Spring     1.36\n",
       "2020-11-01  Autumn     1.11\n",
       "2016-08-01  Summer     1.02"
      ]
     },
     "execution_count": 101,
     "metadata": {},
     "output_type": "execute_result"
    }
   ],
   "source": [
    "# max for each season\n",
    "months_sorted = dfgt[['Season','Anomaly']] \\\n",
    "    .sort_values('Anomaly',ascending=False) \\\n",
    "    .drop_duplicates(subset=['Season'])"
   ]
  },
  {
   "cell_type": "code",
   "execution_count": 102,
   "id": "39719056-fa08-44eb-a855-081cfae3ff2e",
   "metadata": {},
   "outputs": [
    {
     "data": {
      "text/plain": [
       "Date\n",
       "1935-02-01    0.47\n",
       "1921-01-01    0.41\n",
       "1905-03-01    0.38\n",
       "1939-12-01    0.37\n",
       "1990-03-01    0.36\n",
       "Name: Anomaly, dtype: float64"
      ]
     },
     "execution_count": 102,
     "metadata": {},
     "output_type": "execute_result"
    }
   ],
   "source": [
    "dfgt['Anomaly'].diff().nlargest()"
   ]
  },
  {
   "cell_type": "markdown",
   "id": "110770e8-4585-44f4-8299-efe43ffdaad8",
   "metadata": {
    "tags": [],
    "toc-hr-collapsed": true
   },
   "source": [
    "<a id='pd-query'></a>\n",
    "## Query"
   ]
  },
  {
   "cell_type": "markdown",
   "id": "059367ad-7860-4a3d-a11b-4190e6ace2ac",
   "metadata": {},
   "source": [
    "[Return to Start of Notebook](#pd)  "
   ]
  },
  {
   "cell_type": "markdown",
   "id": "5eef1fc7-b271-4f2e-927d-385b037b4f3a",
   "metadata": {},
   "source": [
    "- recommended over boolean selection\n",
    "- however, does not cover all options that boolean selection has"
   ]
  },
  {
   "cell_type": "code",
   "execution_count": 103,
   "id": "650ec7ad-de34-4c7f-a171-89b5e634b66f",
   "metadata": {},
   "outputs": [
    {
     "data": {
      "text/html": [
       "<div>\n",
       "<style scoped>\n",
       "    .dataframe tbody tr th:only-of-type {\n",
       "        vertical-align: middle;\n",
       "    }\n",
       "\n",
       "    .dataframe tbody tr th {\n",
       "        vertical-align: top;\n",
       "    }\n",
       "\n",
       "    .dataframe thead th {\n",
       "        text-align: right;\n",
       "    }\n",
       "</style>\n",
       "<table border=\"1\" class=\"dataframe\">\n",
       "  <thead>\n",
       "    <tr style=\"text-align: right;\">\n",
       "      <th>Month</th>\n",
       "      <th>Apr</th>\n",
       "      <th>Aug</th>\n",
       "      <th>Dec</th>\n",
       "      <th>Feb</th>\n",
       "      <th>Jan</th>\n",
       "      <th>Jul</th>\n",
       "      <th>Jun</th>\n",
       "      <th>Mar</th>\n",
       "      <th>May</th>\n",
       "      <th>Nov</th>\n",
       "      <th>Oct</th>\n",
       "      <th>Sep</th>\n",
       "    </tr>\n",
       "    <tr>\n",
       "      <th>Year</th>\n",
       "      <th></th>\n",
       "      <th></th>\n",
       "      <th></th>\n",
       "      <th></th>\n",
       "      <th></th>\n",
       "      <th></th>\n",
       "      <th></th>\n",
       "      <th></th>\n",
       "      <th></th>\n",
       "      <th></th>\n",
       "      <th></th>\n",
       "      <th></th>\n",
       "    </tr>\n",
       "  </thead>\n",
       "  <tbody>\n",
       "    <tr>\n",
       "      <th>1880-01-01</th>\n",
       "      <td>-0.16</td>\n",
       "      <td>-0.09</td>\n",
       "      <td>-0.17</td>\n",
       "      <td>-0.24</td>\n",
       "      <td>-0.18</td>\n",
       "      <td>-0.17</td>\n",
       "      <td>-0.20</td>\n",
       "      <td>-0.08</td>\n",
       "      <td>-0.09</td>\n",
       "      <td>-0.21</td>\n",
       "      <td>-0.23</td>\n",
       "      <td>-0.14</td>\n",
       "    </tr>\n",
       "    <tr>\n",
       "      <th>1980-01-01</th>\n",
       "      <td>0.30</td>\n",
       "      <td>0.19</td>\n",
       "      <td>0.22</td>\n",
       "      <td>0.40</td>\n",
       "      <td>0.30</td>\n",
       "      <td>0.22</td>\n",
       "      <td>0.21</td>\n",
       "      <td>0.30</td>\n",
       "      <td>0.35</td>\n",
       "      <td>0.30</td>\n",
       "      <td>0.13</td>\n",
       "      <td>0.20</td>\n",
       "    </tr>\n",
       "  </tbody>\n",
       "</table>\n",
       "</div>"
      ],
      "text/plain": [
       "Month        Apr   Aug   Dec   Feb   Jan   Jul   Jun   Mar   May   Nov   Oct  \\\n",
       "Year                                                                           \n",
       "1880-01-01 -0.16 -0.09 -0.17 -0.24 -0.18 -0.17 -0.20 -0.08 -0.09 -0.21 -0.23   \n",
       "1980-01-01  0.30  0.19  0.22  0.40  0.30  0.22  0.21  0.30  0.35  0.30  0.13   \n",
       "\n",
       "Month        Sep  \n",
       "Year              \n",
       "1880-01-01 -0.14  \n",
       "1980-01-01  0.20  "
      ]
     },
     "execution_count": 103,
     "metadata": {},
     "output_type": "execute_result"
    }
   ],
   "source": [
    "sel = dfgp.query('Jan > 1')\n",
    "sel = dfgp.query('Jan > 1 and Feb < 1')\n",
    "sel = dfgp.query('Jan > 1.2 or Feb > 1.2')\n",
    "sel = dfgp.query('1 < Jan < 1.1')\n",
    "sel = dfgp.query('Jan > Mar').head(3) # compare columns\n",
    "sel = dfgp.query('Year == 2000') # uses year from Datetime index\n",
    "sel = dfgp.query('Year in [\"1880-01-01\", \"1980-01-01\"]')"
   ]
  },
  {
   "cell_type": "markdown",
   "id": "c6bd9fec-fe6d-4bf2-8be7-1cad60feaf35",
   "metadata": {},
   "source": [
    "### @variable"
   ]
  },
  {
   "cell_type": "code",
   "execution_count": 104,
   "id": "944b4d4d-3769-479d-86ad-8fe90c4d5dfa",
   "metadata": {},
   "outputs": [
    {
     "data": {
      "text/html": [
       "<div>\n",
       "<style scoped>\n",
       "    .dataframe tbody tr th:only-of-type {\n",
       "        vertical-align: middle;\n",
       "    }\n",
       "\n",
       "    .dataframe tbody tr th {\n",
       "        vertical-align: top;\n",
       "    }\n",
       "\n",
       "    .dataframe thead th {\n",
       "        text-align: right;\n",
       "    }\n",
       "</style>\n",
       "<table border=\"1\" class=\"dataframe\">\n",
       "  <thead>\n",
       "    <tr style=\"text-align: right;\">\n",
       "      <th>Month</th>\n",
       "      <th>Apr</th>\n",
       "      <th>Aug</th>\n",
       "      <th>Dec</th>\n",
       "      <th>Feb</th>\n",
       "      <th>Jan</th>\n",
       "      <th>Jul</th>\n",
       "      <th>Jun</th>\n",
       "      <th>Mar</th>\n",
       "      <th>May</th>\n",
       "      <th>Nov</th>\n",
       "      <th>Oct</th>\n",
       "      <th>Sep</th>\n",
       "    </tr>\n",
       "    <tr>\n",
       "      <th>Year</th>\n",
       "      <th></th>\n",
       "      <th></th>\n",
       "      <th></th>\n",
       "      <th></th>\n",
       "      <th></th>\n",
       "      <th></th>\n",
       "      <th></th>\n",
       "      <th></th>\n",
       "      <th></th>\n",
       "      <th></th>\n",
       "      <th></th>\n",
       "      <th></th>\n",
       "    </tr>\n",
       "  </thead>\n",
       "  <tbody>\n",
       "    <tr>\n",
       "      <th>2007-01-01</th>\n",
       "      <td>0.76</td>\n",
       "      <td>0.60</td>\n",
       "      <td>0.49</td>\n",
       "      <td>0.70</td>\n",
       "      <td>1.02</td>\n",
       "      <td>0.60</td>\n",
       "      <td>0.61</td>\n",
       "      <td>0.73</td>\n",
       "      <td>0.69</td>\n",
       "      <td>0.58</td>\n",
       "      <td>0.58</td>\n",
       "      <td>0.60</td>\n",
       "    </tr>\n",
       "    <tr>\n",
       "      <th>2016-01-01</th>\n",
       "      <td>1.11</td>\n",
       "      <td>1.02</td>\n",
       "      <td>0.87</td>\n",
       "      <td>1.37</td>\n",
       "      <td>1.17</td>\n",
       "      <td>0.85</td>\n",
       "      <td>0.80</td>\n",
       "      <td>1.36</td>\n",
       "      <td>0.95</td>\n",
       "      <td>0.91</td>\n",
       "      <td>0.89</td>\n",
       "      <td>0.90</td>\n",
       "    </tr>\n",
       "    <tr>\n",
       "      <th>2017-01-01</th>\n",
       "      <td>0.94</td>\n",
       "      <td>0.87</td>\n",
       "      <td>0.94</td>\n",
       "      <td>1.14</td>\n",
       "      <td>1.02</td>\n",
       "      <td>0.82</td>\n",
       "      <td>0.72</td>\n",
       "      <td>1.16</td>\n",
       "      <td>0.91</td>\n",
       "      <td>0.88</td>\n",
       "      <td>0.90</td>\n",
       "      <td>0.77</td>\n",
       "    </tr>\n",
       "    <tr>\n",
       "      <th>2020-01-01</th>\n",
       "      <td>1.13</td>\n",
       "      <td>0.87</td>\n",
       "      <td>0.81</td>\n",
       "      <td>1.24</td>\n",
       "      <td>1.16</td>\n",
       "      <td>0.90</td>\n",
       "      <td>0.92</td>\n",
       "      <td>1.17</td>\n",
       "      <td>1.02</td>\n",
       "      <td>1.11</td>\n",
       "      <td>0.89</td>\n",
       "      <td>0.99</td>\n",
       "    </tr>\n",
       "  </tbody>\n",
       "</table>\n",
       "</div>"
      ],
      "text/plain": [
       "Month        Apr   Aug   Dec   Feb   Jan   Jul   Jun   Mar   May   Nov   Oct  \\\n",
       "Year                                                                           \n",
       "2007-01-01  0.76  0.60  0.49  0.70  1.02  0.60  0.61  0.73  0.69  0.58  0.58   \n",
       "2016-01-01  1.11  1.02  0.87  1.37  1.17  0.85  0.80  1.36  0.95  0.91  0.89   \n",
       "2017-01-01  0.94  0.87  0.94  1.14  1.02  0.82  0.72  1.16  0.91  0.88  0.90   \n",
       "2020-01-01  1.13  0.87  0.81  1.24  1.16  0.90  0.92  1.17  1.02  1.11  0.89   \n",
       "\n",
       "Month        Sep  \n",
       "Year              \n",
       "2007-01-01  0.60  \n",
       "2016-01-01  0.90  \n",
       "2017-01-01  0.77  \n",
       "2020-01-01  0.99  "
      ]
     },
     "execution_count": 104,
     "metadata": {},
     "output_type": "execute_result"
    }
   ],
   "source": [
    "max_val = 1.0\n",
    "sel = dfgp.query('Jan > @max_val')"
   ]
  },
  {
   "cell_type": "markdown",
   "id": "c085c426-5ce7-4e63-898b-15d442832ef0",
   "metadata": {},
   "source": [
    "### specify columns"
   ]
  },
  {
   "cell_type": "code",
   "execution_count": 105,
   "id": "b6ac9f16-9441-45e5-9077-ebe74ef3a267",
   "metadata": {},
   "outputs": [
    {
     "data": {
      "text/html": [
       "<div>\n",
       "<style scoped>\n",
       "    .dataframe tbody tr th:only-of-type {\n",
       "        vertical-align: middle;\n",
       "    }\n",
       "\n",
       "    .dataframe tbody tr th {\n",
       "        vertical-align: top;\n",
       "    }\n",
       "\n",
       "    .dataframe thead th {\n",
       "        text-align: right;\n",
       "    }\n",
       "</style>\n",
       "<table border=\"1\" class=\"dataframe\">\n",
       "  <thead>\n",
       "    <tr style=\"text-align: right;\">\n",
       "      <th>Month</th>\n",
       "      <th>Apr</th>\n",
       "      <th>Jun</th>\n",
       "    </tr>\n",
       "    <tr>\n",
       "      <th>Year</th>\n",
       "      <th></th>\n",
       "      <th></th>\n",
       "    </tr>\n",
       "  </thead>\n",
       "  <tbody>\n",
       "    <tr>\n",
       "      <th>2007-01-01</th>\n",
       "      <td>0.76</td>\n",
       "      <td>0.61</td>\n",
       "    </tr>\n",
       "    <tr>\n",
       "      <th>2016-01-01</th>\n",
       "      <td>1.11</td>\n",
       "      <td>0.80</td>\n",
       "    </tr>\n",
       "    <tr>\n",
       "      <th>2017-01-01</th>\n",
       "      <td>0.94</td>\n",
       "      <td>0.72</td>\n",
       "    </tr>\n",
       "  </tbody>\n",
       "</table>\n",
       "</div>"
      ],
      "text/plain": [
       "Month        Apr   Jun\n",
       "Year                  \n",
       "2007-01-01  0.76  0.61\n",
       "2016-01-01  1.11  0.80\n",
       "2017-01-01  0.94  0.72"
      ]
     },
     "execution_count": 105,
     "metadata": {},
     "output_type": "execute_result"
    }
   ],
   "source": [
    "cols = ['Apr','Jun']\n",
    "sel = dfgp.query('Jan > 1')[cols].head(3)"
   ]
  },
  {
   "cell_type": "markdown",
   "id": "d605139c-73a1-4b5e-859e-c3938950683c",
   "metadata": {
    "tags": [],
    "toc-hr-collapsed": true
   },
   "source": [
    "<a id='pd-aggregate'></a>\n",
    "## Aggregate"
   ]
  },
  {
   "cell_type": "markdown",
   "id": "9fbdf79a-47de-41ed-9e00-4c4a32dd73d6",
   "metadata": {},
   "source": [
    "[Return to Start of Notebook](#pd)  "
   ]
  },
  {
   "cell_type": "markdown",
   "id": "50355688-8457-42ea-988c-63f4dc01ce28",
   "metadata": {
    "toc-hr-collapsed": true
   },
   "source": [
    "### .stat\n",
    "- sum, mean, median, min, max, count, std, var, describe, quantile"
   ]
  },
  {
   "cell_type": "code",
   "execution_count": 106,
   "id": "6e577e5c-41c6-4e0d-9ccf-556f70b6f1c3",
   "metadata": {},
   "outputs": [
    {
     "data": {
      "text/plain": [
       "Year       1950.625659\n",
       "Anomaly       0.055647\n",
       "dtype: float64"
      ]
     },
     "execution_count": 106,
     "metadata": {},
     "output_type": "execute_result"
    }
   ],
   "source": [
    "dfgt['Anomaly'].mean()\n",
    "dfgt.mean(numeric_only=True)"
   ]
  },
  {
   "cell_type": "markdown",
   "id": "c3f5f46b-7e43-44b0-8fda-5f3f189ebcea",
   "metadata": {},
   "source": [
    "#### .agg"
   ]
  },
  {
   "cell_type": "code",
   "execution_count": 107,
   "id": "9755f9ef-f200-4dc6-afbc-2d070f1339cf",
   "metadata": {},
   "outputs": [
    {
     "data": {
      "text/html": [
       "<div>\n",
       "<style scoped>\n",
       "    .dataframe tbody tr th:only-of-type {\n",
       "        vertical-align: middle;\n",
       "    }\n",
       "\n",
       "    .dataframe tbody tr th {\n",
       "        vertical-align: top;\n",
       "    }\n",
       "\n",
       "    .dataframe thead th {\n",
       "        text-align: right;\n",
       "    }\n",
       "</style>\n",
       "<table border=\"1\" class=\"dataframe\">\n",
       "  <thead>\n",
       "    <tr style=\"text-align: right;\">\n",
       "      <th></th>\n",
       "      <th>Anomaly</th>\n",
       "    </tr>\n",
       "  </thead>\n",
       "  <tbody>\n",
       "    <tr>\n",
       "      <th>sum</th>\n",
       "      <td>94.990000</td>\n",
       "    </tr>\n",
       "    <tr>\n",
       "      <th>mean</th>\n",
       "      <td>0.055647</td>\n",
       "    </tr>\n",
       "    <tr>\n",
       "      <th>max</th>\n",
       "      <td>1.370000</td>\n",
       "    </tr>\n",
       "    <tr>\n",
       "      <th>min</th>\n",
       "      <td>-0.810000</td>\n",
       "    </tr>\n",
       "    <tr>\n",
       "      <th>median</th>\n",
       "      <td>-0.040000</td>\n",
       "    </tr>\n",
       "    <tr>\n",
       "      <th>count</th>\n",
       "      <td>1707.000000</td>\n",
       "    </tr>\n",
       "  </tbody>\n",
       "</table>\n",
       "</div>"
      ],
      "text/plain": [
       "            Anomaly\n",
       "sum       94.990000\n",
       "mean       0.055647\n",
       "max        1.370000\n",
       "min       -0.810000\n",
       "median    -0.040000\n",
       "count   1707.000000"
      ]
     },
     "execution_count": 107,
     "metadata": {},
     "output_type": "execute_result"
    }
   ],
   "source": [
    "month_stats = dfgt[['Anomaly']].agg(['sum','mean','max','min','median','count'],axis=0)\n",
    "month_stats"
   ]
  },
  {
   "cell_type": "markdown",
   "id": "d761a7db-561c-48c5-b7b6-b6be932c96bc",
   "metadata": {},
   "source": [
    "#### axis"
   ]
  },
  {
   "cell_type": "code",
   "execution_count": 108,
   "id": "feb5f2fe-4451-4d9a-a320-97d27e399471",
   "metadata": {},
   "outputs": [
    {
     "data": {
      "text/html": [
       "<div>\n",
       "<style scoped>\n",
       "    .dataframe tbody tr th:only-of-type {\n",
       "        vertical-align: middle;\n",
       "    }\n",
       "\n",
       "    .dataframe tbody tr th {\n",
       "        vertical-align: top;\n",
       "    }\n",
       "\n",
       "    .dataframe thead th {\n",
       "        text-align: right;\n",
       "    }\n",
       "</style>\n",
       "<table border=\"1\" class=\"dataframe\">\n",
       "  <thead>\n",
       "    <tr style=\"text-align: right;\">\n",
       "      <th></th>\n",
       "      <th>sum</th>\n",
       "      <th>mean</th>\n",
       "      <th>max</th>\n",
       "      <th>min</th>\n",
       "      <th>median</th>\n",
       "      <th>count</th>\n",
       "    </tr>\n",
       "    <tr>\n",
       "      <th>Year</th>\n",
       "      <th></th>\n",
       "      <th></th>\n",
       "      <th></th>\n",
       "      <th></th>\n",
       "      <th></th>\n",
       "      <th></th>\n",
       "    </tr>\n",
       "  </thead>\n",
       "  <tbody>\n",
       "    <tr>\n",
       "      <th>1880-01-01</th>\n",
       "      <td>-1.96</td>\n",
       "      <td>-0.163333</td>\n",
       "      <td>-0.08</td>\n",
       "      <td>-0.24</td>\n",
       "      <td>-0.170</td>\n",
       "      <td>12.0</td>\n",
       "    </tr>\n",
       "    <tr>\n",
       "      <th>1881-01-01</th>\n",
       "      <td>-0.95</td>\n",
       "      <td>-0.079167</td>\n",
       "      <td>0.07</td>\n",
       "      <td>-0.21</td>\n",
       "      <td>-0.095</td>\n",
       "      <td>12.0</td>\n",
       "    </tr>\n",
       "    <tr>\n",
       "      <th>1882-01-01</th>\n",
       "      <td>-1.26</td>\n",
       "      <td>-0.105000</td>\n",
       "      <td>0.17</td>\n",
       "      <td>-0.36</td>\n",
       "      <td>-0.145</td>\n",
       "      <td>12.0</td>\n",
       "    </tr>\n",
       "  </tbody>\n",
       "</table>\n",
       "</div>"
      ],
      "text/plain": [
       "             sum      mean   max   min  median  count\n",
       "Year                                                 \n",
       "1880-01-01 -1.96 -0.163333 -0.08 -0.24  -0.170   12.0\n",
       "1881-01-01 -0.95 -0.079167  0.07 -0.21  -0.095   12.0\n",
       "1882-01-01 -1.26 -0.105000  0.17 -0.36  -0.145   12.0"
      ]
     },
     "execution_count": 108,
     "metadata": {},
     "output_type": "execute_result"
    }
   ],
   "source": [
    "annual_stats = dfgp.agg(['sum','mean','max','min','median','count'],axis=1,numeric_only=True)\n",
    "annual_stats.head(3)"
   ]
  },
  {
   "cell_type": "markdown",
   "id": "acb690d3-1a30-46b7-88f3-cb1c706a6dd0",
   "metadata": {
    "toc-hr-collapsed": true
   },
   "source": [
    "### .groupby()"
   ]
  },
  {
   "cell_type": "markdown",
   "id": "ac7f0937-3372-4387-90ed-eee9a58c35f7",
   "metadata": {},
   "source": [
    "#### split using .groupby()"
   ]
  },
  {
   "cell_type": "code",
   "execution_count": 109,
   "id": "cf0106b8-8d6f-4685-a97b-8caf81be090b",
   "metadata": {},
   "outputs": [
    {
     "data": {
      "text/plain": [
       "pandas.core.groupby.generic.DataFrameGroupBy"
      ]
     },
     "execution_count": 109,
     "metadata": {},
     "output_type": "execute_result"
    }
   ],
   "source": [
    "grouped_by_season = dfgt.groupby('Season')\n",
    "type(grouped_by_season)"
   ]
  },
  {
   "cell_type": "code",
   "execution_count": 110,
   "id": "3b53ace6-5671-4d61-bc27-cba18a323847",
   "metadata": {},
   "outputs": [
    {
     "name": "stdout",
     "output_type": "stream",
     "text": [
      "Spring 427 0.05770491803278692\n",
      "Summer 426 0.04136150234741785\n",
      "Autumn 426 0.06730046948356808\n",
      "Winter 428 0.05621495327102801\n"
     ]
    }
   ],
   "source": [
    "for idx, grp in grouped_by_season:\n",
    "    print(idx,len(grp),grp['Anomaly'].mean())"
   ]
  },
  {
   "cell_type": "markdown",
   "id": "09cfa138-ee72-47c4-ae02-967abf6cef0e",
   "metadata": {},
   "source": [
    "#### apply aggregation to groups\n",
    "(results combined into new df)"
   ]
  },
  {
   "cell_type": "code",
   "execution_count": 111,
   "id": "cb0d68c4-164f-421a-94d2-a6bbee30c035",
   "metadata": {},
   "outputs": [
    {
     "name": "stdout",
     "output_type": "stream",
     "text": [
      "<class 'pandas.core.frame.DataFrame'>\n"
     ]
    }
   ],
   "source": [
    "season_avg = grouped_by_season[['Anomaly']].mean()\n",
    "print(type(season_avg))"
   ]
  },
  {
   "cell_type": "markdown",
   "id": "0f97ab17-3725-4df7-8dcc-dc3a3af015ab",
   "metadata": {},
   "source": [
    "#### chain as single step"
   ]
  },
  {
   "cell_type": "code",
   "execution_count": 112,
   "id": "8114f324-699e-45d4-b876-cf6d874b4ab2",
   "metadata": {},
   "outputs": [
    {
     "data": {
      "text/html": [
       "<div>\n",
       "<style scoped>\n",
       "    .dataframe tbody tr th:only-of-type {\n",
       "        vertical-align: middle;\n",
       "    }\n",
       "\n",
       "    .dataframe tbody tr th {\n",
       "        vertical-align: top;\n",
       "    }\n",
       "\n",
       "    .dataframe thead th {\n",
       "        text-align: right;\n",
       "    }\n",
       "</style>\n",
       "<table border=\"1\" class=\"dataframe\">\n",
       "  <thead>\n",
       "    <tr style=\"text-align: right;\">\n",
       "      <th></th>\n",
       "      <th>Anomaly</th>\n",
       "    </tr>\n",
       "    <tr>\n",
       "      <th>Season</th>\n",
       "      <th></th>\n",
       "    </tr>\n",
       "  </thead>\n",
       "  <tbody>\n",
       "    <tr>\n",
       "      <th>Spring</th>\n",
       "      <td>0.057705</td>\n",
       "    </tr>\n",
       "    <tr>\n",
       "      <th>Summer</th>\n",
       "      <td>0.041362</td>\n",
       "    </tr>\n",
       "    <tr>\n",
       "      <th>Autumn</th>\n",
       "      <td>0.067300</td>\n",
       "    </tr>\n",
       "    <tr>\n",
       "      <th>Winter</th>\n",
       "      <td>0.056215</td>\n",
       "    </tr>\n",
       "  </tbody>\n",
       "</table>\n",
       "</div>"
      ],
      "text/plain": [
       "         Anomaly\n",
       "Season          \n",
       "Spring  0.057705\n",
       "Summer  0.041362\n",
       "Autumn  0.067300\n",
       "Winter  0.056215"
      ]
     },
     "execution_count": 112,
     "metadata": {},
     "output_type": "execute_result"
    }
   ],
   "source": [
    "season_avg = dfgt.groupby('Season')[['Anomaly']].mean()\n",
    "season_avg"
   ]
  },
  {
   "cell_type": "markdown",
   "id": "a8ba6762-3a98-4308-bf4a-306f956607e9",
   "metadata": {
    "tags": [],
    "toc-hr-collapsed": true
   },
   "source": [
    "### .groupby().agg()"
   ]
  },
  {
   "cell_type": "markdown",
   "id": "75a0614e-6cac-417b-8f65-462c4191437d",
   "metadata": {},
   "source": [
    "#### tuple syntax"
   ]
  },
  {
   "cell_type": "code",
   "execution_count": 113,
   "id": "5b9ec442-7f5b-442a-9c2f-b51e27823f1a",
   "metadata": {},
   "outputs": [
    {
     "data": {
      "text/html": [
       "<div>\n",
       "<style scoped>\n",
       "    .dataframe tbody tr th:only-of-type {\n",
       "        vertical-align: middle;\n",
       "    }\n",
       "\n",
       "    .dataframe tbody tr th {\n",
       "        vertical-align: top;\n",
       "    }\n",
       "\n",
       "    .dataframe thead th {\n",
       "        text-align: right;\n",
       "    }\n",
       "</style>\n",
       "<table border=\"1\" class=\"dataframe\">\n",
       "  <thead>\n",
       "    <tr style=\"text-align: right;\">\n",
       "      <th></th>\n",
       "      <th>avg_anomaly</th>\n",
       "      <th>max_anomaly</th>\n",
       "      <th>min_anomaly</th>\n",
       "    </tr>\n",
       "    <tr>\n",
       "      <th>Season</th>\n",
       "      <th></th>\n",
       "      <th></th>\n",
       "      <th></th>\n",
       "    </tr>\n",
       "  </thead>\n",
       "  <tbody>\n",
       "    <tr>\n",
       "      <th>Spring</th>\n",
       "      <td>0.057705</td>\n",
       "      <td>1.36</td>\n",
       "      <td>-0.64</td>\n",
       "    </tr>\n",
       "    <tr>\n",
       "      <th>Summer</th>\n",
       "      <td>0.041362</td>\n",
       "      <td>1.02</td>\n",
       "      <td>-0.54</td>\n",
       "    </tr>\n",
       "    <tr>\n",
       "      <th>Autumn</th>\n",
       "      <td>0.067300</td>\n",
       "      <td>1.11</td>\n",
       "      <td>-0.59</td>\n",
       "    </tr>\n",
       "    <tr>\n",
       "      <th>Winter</th>\n",
       "      <td>0.056215</td>\n",
       "      <td>1.37</td>\n",
       "      <td>-0.81</td>\n",
       "    </tr>\n",
       "  </tbody>\n",
       "</table>\n",
       "</div>"
      ],
      "text/plain": [
       "        avg_anomaly  max_anomaly  min_anomaly\n",
       "Season                                       \n",
       "Spring     0.057705         1.36        -0.64\n",
       "Summer     0.041362         1.02        -0.54\n",
       "Autumn     0.067300         1.11        -0.59\n",
       "Winter     0.056215         1.37        -0.81"
      ]
     },
     "execution_count": 113,
     "metadata": {},
     "output_type": "execute_result"
    }
   ],
   "source": [
    "grouped_by_season = dfgt.groupby('Season').agg(\n",
    "    avg_anomaly=('Anomaly', 'mean'),\n",
    "    max_anomaly=('Anomaly', 'max'),\n",
    "    min_anomaly=('Anomaly', 'min'))\n",
    "grouped_by_season"
   ]
  },
  {
   "cell_type": "markdown",
   "id": "50e3c5ff-b6d3-4123-b712-f3731145595a",
   "metadata": {
    "toc-hr-collapsed": true
   },
   "source": [
    "#### dictionary syntax"
   ]
  },
  {
   "cell_type": "code",
   "execution_count": 114,
   "id": "4d351ced-3a2d-4872-aa88-37ee7d12f054",
   "metadata": {},
   "outputs": [
    {
     "data": {
      "text/html": [
       "<div>\n",
       "<style scoped>\n",
       "    .dataframe tbody tr th:only-of-type {\n",
       "        vertical-align: middle;\n",
       "    }\n",
       "\n",
       "    .dataframe tbody tr th {\n",
       "        vertical-align: top;\n",
       "    }\n",
       "\n",
       "    .dataframe thead tr th {\n",
       "        text-align: left;\n",
       "    }\n",
       "\n",
       "    .dataframe thead tr:last-of-type th {\n",
       "        text-align: right;\n",
       "    }\n",
       "</style>\n",
       "<table border=\"1\" class=\"dataframe\">\n",
       "  <thead>\n",
       "    <tr>\n",
       "      <th></th>\n",
       "      <th colspan=\"4\" halign=\"left\">Anomaly</th>\n",
       "    </tr>\n",
       "    <tr>\n",
       "      <th></th>\n",
       "      <th>mean</th>\n",
       "      <th>max</th>\n",
       "      <th>min</th>\n",
       "      <th>count</th>\n",
       "    </tr>\n",
       "    <tr>\n",
       "      <th>Season</th>\n",
       "      <th></th>\n",
       "      <th></th>\n",
       "      <th></th>\n",
       "      <th></th>\n",
       "    </tr>\n",
       "  </thead>\n",
       "  <tbody>\n",
       "    <tr>\n",
       "      <th>Spring</th>\n",
       "      <td>0.057705</td>\n",
       "      <td>1.36</td>\n",
       "      <td>-0.64</td>\n",
       "      <td>427</td>\n",
       "    </tr>\n",
       "    <tr>\n",
       "      <th>Summer</th>\n",
       "      <td>0.041362</td>\n",
       "      <td>1.02</td>\n",
       "      <td>-0.54</td>\n",
       "      <td>426</td>\n",
       "    </tr>\n",
       "    <tr>\n",
       "      <th>Autumn</th>\n",
       "      <td>0.067300</td>\n",
       "      <td>1.11</td>\n",
       "      <td>-0.59</td>\n",
       "      <td>426</td>\n",
       "    </tr>\n",
       "    <tr>\n",
       "      <th>Winter</th>\n",
       "      <td>0.056215</td>\n",
       "      <td>1.37</td>\n",
       "      <td>-0.81</td>\n",
       "      <td>428</td>\n",
       "    </tr>\n",
       "  </tbody>\n",
       "</table>\n",
       "</div>"
      ],
      "text/plain": [
       "         Anomaly                  \n",
       "            mean   max   min count\n",
       "Season                            \n",
       "Spring  0.057705  1.36 -0.64   427\n",
       "Summer  0.041362  1.02 -0.54   426\n",
       "Autumn  0.067300  1.11 -0.59   426\n",
       "Winter  0.056215  1.37 -0.81   428"
      ]
     },
     "execution_count": 114,
     "metadata": {},
     "output_type": "execute_result"
    }
   ],
   "source": [
    "grouped_by_season = dfgt.groupby('Season').agg(\n",
    "    {'Anomaly': ['mean', 'max', 'min', 'count']})\n",
    "grouped_by_season"
   ]
  },
  {
   "cell_type": "markdown",
   "id": "618203a6-ccd2-4c62-a3d6-c8a8e5c344b9",
   "metadata": {},
   "source": [
    "##### .droplevel()"
   ]
  },
  {
   "cell_type": "code",
   "execution_count": 115,
   "id": "aa8e624f-661c-4571-a47e-0d69bbe6bc53",
   "metadata": {},
   "outputs": [
    {
     "data": {
      "text/html": [
       "<div>\n",
       "<style scoped>\n",
       "    .dataframe tbody tr th:only-of-type {\n",
       "        vertical-align: middle;\n",
       "    }\n",
       "\n",
       "    .dataframe tbody tr th {\n",
       "        vertical-align: top;\n",
       "    }\n",
       "\n",
       "    .dataframe thead th {\n",
       "        text-align: right;\n",
       "    }\n",
       "</style>\n",
       "<table border=\"1\" class=\"dataframe\">\n",
       "  <thead>\n",
       "    <tr style=\"text-align: right;\">\n",
       "      <th></th>\n",
       "      <th>mean</th>\n",
       "      <th>max</th>\n",
       "      <th>min</th>\n",
       "      <th>count</th>\n",
       "    </tr>\n",
       "    <tr>\n",
       "      <th>Season</th>\n",
       "      <th></th>\n",
       "      <th></th>\n",
       "      <th></th>\n",
       "      <th></th>\n",
       "    </tr>\n",
       "  </thead>\n",
       "  <tbody>\n",
       "    <tr>\n",
       "      <th>Spring</th>\n",
       "      <td>0.057705</td>\n",
       "      <td>1.36</td>\n",
       "      <td>-0.64</td>\n",
       "      <td>427</td>\n",
       "    </tr>\n",
       "    <tr>\n",
       "      <th>Summer</th>\n",
       "      <td>0.041362</td>\n",
       "      <td>1.02</td>\n",
       "      <td>-0.54</td>\n",
       "      <td>426</td>\n",
       "    </tr>\n",
       "    <tr>\n",
       "      <th>Autumn</th>\n",
       "      <td>0.067300</td>\n",
       "      <td>1.11</td>\n",
       "      <td>-0.59</td>\n",
       "      <td>426</td>\n",
       "    </tr>\n",
       "    <tr>\n",
       "      <th>Winter</th>\n",
       "      <td>0.056215</td>\n",
       "      <td>1.37</td>\n",
       "      <td>-0.81</td>\n",
       "      <td>428</td>\n",
       "    </tr>\n",
       "  </tbody>\n",
       "</table>\n",
       "</div>"
      ],
      "text/plain": [
       "            mean   max   min  count\n",
       "Season                             \n",
       "Spring  0.057705  1.36 -0.64    427\n",
       "Summer  0.041362  1.02 -0.54    426\n",
       "Autumn  0.067300  1.11 -0.59    426\n",
       "Winter  0.056215  1.37 -0.81    428"
      ]
     },
     "execution_count": 115,
     "metadata": {},
     "output_type": "execute_result"
    }
   ],
   "source": [
    "grouped_by_season.columns = grouped_by_season.columns.droplevel(0)\n",
    "grouped_by_season"
   ]
  },
  {
   "cell_type": "markdown",
   "id": "7e08e4e7-4106-4a68-8130-4baee4400f16",
   "metadata": {},
   "source": [
    "#### brackets syntax"
   ]
  },
  {
   "cell_type": "raw",
   "id": "f42a8048-77ea-4489-ae68-f1a64b62d5de",
   "metadata": {},
   "source": [
    "grouped_by_season = dfgt.groupby('Season')['Anomaly'].agg(\n",
    "    ['mean', 'max', 'min', 'count'])\n",
    "grouped_by_season"
   ]
  },
  {
   "cell_type": "raw",
   "id": "236234a9-4e9e-4442-9ad0-e3db2f0998bb",
   "metadata": {},
   "source": [
    "grouped_by_season = dfgt.groupby(['Season','Month']).agg(\n",
    "    {'Anomaly': ['mean', 'max', 'min', 'count']})\n",
    "grouped_by_season"
   ]
  },
  {
   "cell_type": "markdown",
   "id": "8fc49581-5b79-4872-a388-611bf34c3e9d",
   "metadata": {},
   "source": [
    "#### group with multiple columns\n",
    "observed = True"
   ]
  },
  {
   "cell_type": "code",
   "execution_count": 116,
   "id": "c4bcc211-8240-479c-a0b4-5ae957fab197",
   "metadata": {},
   "outputs": [
    {
     "data": {
      "text/html": [
       "<div>\n",
       "<style scoped>\n",
       "    .dataframe tbody tr th:only-of-type {\n",
       "        vertical-align: middle;\n",
       "    }\n",
       "\n",
       "    .dataframe tbody tr th {\n",
       "        vertical-align: top;\n",
       "    }\n",
       "\n",
       "    .dataframe thead th {\n",
       "        text-align: right;\n",
       "    }\n",
       "</style>\n",
       "<table border=\"1\" class=\"dataframe\">\n",
       "  <thead>\n",
       "    <tr style=\"text-align: right;\">\n",
       "      <th></th>\n",
       "      <th>Season</th>\n",
       "      <th>Month</th>\n",
       "      <th>avg_anomaly</th>\n",
       "      <th>max_anomaly</th>\n",
       "      <th>count_anomaly</th>\n",
       "    </tr>\n",
       "  </thead>\n",
       "  <tbody>\n",
       "    <tr>\n",
       "      <th>0</th>\n",
       "      <td>Spring</td>\n",
       "      <td>Mar</td>\n",
       "      <td>0.081</td>\n",
       "      <td>1.36</td>\n",
       "      <td>143</td>\n",
       "    </tr>\n",
       "    <tr>\n",
       "      <th>1</th>\n",
       "      <td>Autumn</td>\n",
       "      <td>Oct</td>\n",
       "      <td>0.078</td>\n",
       "      <td>1.10</td>\n",
       "      <td>142</td>\n",
       "    </tr>\n",
       "    <tr>\n",
       "      <th>2</th>\n",
       "      <td>Autumn</td>\n",
       "      <td>Nov</td>\n",
       "      <td>0.073</td>\n",
       "      <td>1.11</td>\n",
       "      <td>142</td>\n",
       "    </tr>\n",
       "    <tr>\n",
       "      <th>3</th>\n",
       "      <td>Winter</td>\n",
       "      <td>Feb</td>\n",
       "      <td>0.064</td>\n",
       "      <td>1.37</td>\n",
       "      <td>143</td>\n",
       "    </tr>\n",
       "    <tr>\n",
       "      <th>4</th>\n",
       "      <td>Winter</td>\n",
       "      <td>Jan</td>\n",
       "      <td>0.058</td>\n",
       "      <td>1.17</td>\n",
       "      <td>143</td>\n",
       "    </tr>\n",
       "    <tr>\n",
       "      <th>5</th>\n",
       "      <td>Autumn</td>\n",
       "      <td>Sep</td>\n",
       "      <td>0.052</td>\n",
       "      <td>0.99</td>\n",
       "      <td>142</td>\n",
       "    </tr>\n",
       "    <tr>\n",
       "      <th>6</th>\n",
       "      <td>Spring</td>\n",
       "      <td>Apr</td>\n",
       "      <td>0.051</td>\n",
       "      <td>1.13</td>\n",
       "      <td>142</td>\n",
       "    </tr>\n",
       "    <tr>\n",
       "      <th>7</th>\n",
       "      <td>Summer</td>\n",
       "      <td>Jul</td>\n",
       "      <td>0.050</td>\n",
       "      <td>0.94</td>\n",
       "      <td>142</td>\n",
       "    </tr>\n",
       "    <tr>\n",
       "      <th>8</th>\n",
       "      <td>Summer</td>\n",
       "      <td>Aug</td>\n",
       "      <td>0.048</td>\n",
       "      <td>1.02</td>\n",
       "      <td>142</td>\n",
       "    </tr>\n",
       "    <tr>\n",
       "      <th>9</th>\n",
       "      <td>Winter</td>\n",
       "      <td>Dec</td>\n",
       "      <td>0.046</td>\n",
       "      <td>1.16</td>\n",
       "      <td>142</td>\n",
       "    </tr>\n",
       "    <tr>\n",
       "      <th>10</th>\n",
       "      <td>Spring</td>\n",
       "      <td>May</td>\n",
       "      <td>0.041</td>\n",
       "      <td>1.02</td>\n",
       "      <td>142</td>\n",
       "    </tr>\n",
       "    <tr>\n",
       "      <th>11</th>\n",
       "      <td>Summer</td>\n",
       "      <td>Jun</td>\n",
       "      <td>0.026</td>\n",
       "      <td>0.92</td>\n",
       "      <td>142</td>\n",
       "    </tr>\n",
       "  </tbody>\n",
       "</table>\n",
       "</div>"
      ],
      "text/plain": [
       "    Season Month  avg_anomaly  max_anomaly  count_anomaly\n",
       "0   Spring   Mar        0.081         1.36            143\n",
       "1   Autumn   Oct        0.078         1.10            142\n",
       "2   Autumn   Nov        0.073         1.11            142\n",
       "3   Winter   Feb        0.064         1.37            143\n",
       "4   Winter   Jan        0.058         1.17            143\n",
       "5   Autumn   Sep        0.052         0.99            142\n",
       "6   Spring   Apr        0.051         1.13            142\n",
       "7   Summer   Jul        0.050         0.94            142\n",
       "8   Summer   Aug        0.048         1.02            142\n",
       "9   Winter   Dec        0.046         1.16            142\n",
       "10  Spring   May        0.041         1.02            142\n",
       "11  Summer   Jun        0.026         0.92            142"
      ]
     },
     "execution_count": 116,
     "metadata": {},
     "output_type": "execute_result"
    }
   ],
   "source": [
    "grouped_by_season = dfgt.groupby(['Season','Month'], observed=True)\\\n",
    "    .agg(avg_anomaly=('Anomaly', 'mean'),\n",
    "         max_anomaly=('Anomaly', 'max'),\n",
    "         count_anomaly=('Anomaly', 'count'))\\\n",
    "    .round(3)\\\n",
    "    .sort_values(by='avg_anomaly',ascending=False)\\\n",
    "    .reset_index()\n",
    "grouped_by_season"
   ]
  },
  {
   "cell_type": "markdown",
   "id": "623b0a07-c611-43c5-bffc-7a8a4d753c21",
   "metadata": {},
   "source": [
    "#### apply function to group"
   ]
  },
  {
   "cell_type": "code",
   "execution_count": 117,
   "id": "772ede67-d514-4656-8df8-7e42c5cc064c",
   "metadata": {},
   "outputs": [
    {
     "data": {
      "text/html": [
       "<div>\n",
       "<style scoped>\n",
       "    .dataframe tbody tr th:only-of-type {\n",
       "        vertical-align: middle;\n",
       "    }\n",
       "\n",
       "    .dataframe tbody tr th {\n",
       "        vertical-align: top;\n",
       "    }\n",
       "\n",
       "    .dataframe thead th {\n",
       "        text-align: right;\n",
       "    }\n",
       "</style>\n",
       "<table border=\"1\" class=\"dataframe\">\n",
       "  <thead>\n",
       "    <tr style=\"text-align: right;\">\n",
       "      <th></th>\n",
       "      <th>season_diff</th>\n",
       "      <th>season_max</th>\n",
       "      <th>season_min</th>\n",
       "    </tr>\n",
       "    <tr>\n",
       "      <th>Season</th>\n",
       "      <th></th>\n",
       "      <th></th>\n",
       "      <th></th>\n",
       "    </tr>\n",
       "  </thead>\n",
       "  <tbody>\n",
       "    <tr>\n",
       "      <th>Spring</th>\n",
       "      <td>2.00</td>\n",
       "      <td>1.36</td>\n",
       "      <td>-0.64</td>\n",
       "    </tr>\n",
       "    <tr>\n",
       "      <th>Summer</th>\n",
       "      <td>1.56</td>\n",
       "      <td>1.02</td>\n",
       "      <td>-0.54</td>\n",
       "    </tr>\n",
       "    <tr>\n",
       "      <th>Autumn</th>\n",
       "      <td>1.70</td>\n",
       "      <td>1.11</td>\n",
       "      <td>-0.59</td>\n",
       "    </tr>\n",
       "    <tr>\n",
       "      <th>Winter</th>\n",
       "      <td>2.18</td>\n",
       "      <td>1.37</td>\n",
       "      <td>-0.81</td>\n",
       "    </tr>\n",
       "  </tbody>\n",
       "</table>\n",
       "</div>"
      ],
      "text/plain": [
       "        season_diff  season_max  season_min\n",
       "Season                                     \n",
       "Spring         2.00        1.36       -0.64\n",
       "Summer         1.56        1.02       -0.54\n",
       "Autumn         1.70        1.11       -0.59\n",
       "Winter         2.18        1.37       -0.81"
      ]
     },
     "execution_count": 117,
     "metadata": {},
     "output_type": "execute_result"
    }
   ],
   "source": [
    "dfgt.groupby('Season')\\\n",
    "    .agg(season_diff=('Anomaly', lambda x: x.max() - x.min()),\n",
    "         season_max=('Anomaly','max'),\n",
    "         season_min=('Anomaly','min'))"
   ]
  },
  {
   "cell_type": "code",
   "execution_count": 118,
   "id": "bf1d6163-4f9b-4e1b-9279-4212922081dd",
   "metadata": {},
   "outputs": [
    {
     "data": {
      "text/html": [
       "<div>\n",
       "<style scoped>\n",
       "    .dataframe tbody tr th:only-of-type {\n",
       "        vertical-align: middle;\n",
       "    }\n",
       "\n",
       "    .dataframe tbody tr th {\n",
       "        vertical-align: top;\n",
       "    }\n",
       "\n",
       "    .dataframe thead th {\n",
       "        text-align: right;\n",
       "    }\n",
       "</style>\n",
       "<table border=\"1\" class=\"dataframe\">\n",
       "  <thead>\n",
       "    <tr style=\"text-align: right;\">\n",
       "      <th></th>\n",
       "      <th>avg_largest_5</th>\n",
       "      <th>anomaly_max</th>\n",
       "    </tr>\n",
       "    <tr>\n",
       "      <th>Season</th>\n",
       "      <th></th>\n",
       "      <th></th>\n",
       "    </tr>\n",
       "  </thead>\n",
       "  <tbody>\n",
       "    <tr>\n",
       "      <th>Spring</th>\n",
       "      <td>1.198</td>\n",
       "      <td>1.36</td>\n",
       "    </tr>\n",
       "    <tr>\n",
       "      <th>Summer</th>\n",
       "      <td>0.948</td>\n",
       "      <td>1.02</td>\n",
       "    </tr>\n",
       "    <tr>\n",
       "      <th>Autumn</th>\n",
       "      <td>1.060</td>\n",
       "      <td>1.11</td>\n",
       "    </tr>\n",
       "    <tr>\n",
       "      <th>Winter</th>\n",
       "      <td>1.220</td>\n",
       "      <td>1.37</td>\n",
       "    </tr>\n",
       "  </tbody>\n",
       "</table>\n",
       "</div>"
      ],
      "text/plain": [
       "        avg_largest_5  anomaly_max\n",
       "Season                            \n",
       "Spring          1.198         1.36\n",
       "Summer          0.948         1.02\n",
       "Autumn          1.060         1.11\n",
       "Winter          1.220         1.37"
      ]
     },
     "execution_count": 118,
     "metadata": {},
     "output_type": "execute_result"
    }
   ],
   "source": [
    "dfgt.groupby('Season')\\\n",
    "    .agg(avg_largest_5=('Anomaly', lambda x: x.nlargest(5).mean()),\n",
    "         anomaly_max=('Anomaly','max'))"
   ]
  },
  {
   "cell_type": "code",
   "execution_count": 119,
   "id": "2c4b526f-0dea-4a2e-b3ec-7b62b16b442f",
   "metadata": {},
   "outputs": [
    {
     "data": {
      "text/html": [
       "<div>\n",
       "<style scoped>\n",
       "    .dataframe tbody tr th:only-of-type {\n",
       "        vertical-align: middle;\n",
       "    }\n",
       "\n",
       "    .dataframe tbody tr th {\n",
       "        vertical-align: top;\n",
       "    }\n",
       "\n",
       "    .dataframe thead th {\n",
       "        text-align: right;\n",
       "    }\n",
       "</style>\n",
       "<table border=\"1\" class=\"dataframe\">\n",
       "  <thead>\n",
       "    <tr style=\"text-align: right;\">\n",
       "      <th></th>\n",
       "      <th>pct_gt_1</th>\n",
       "    </tr>\n",
       "    <tr>\n",
       "      <th>Month</th>\n",
       "      <th></th>\n",
       "    </tr>\n",
       "  </thead>\n",
       "  <tbody>\n",
       "    <tr>\n",
       "      <th>Mar</th>\n",
       "      <td>3.50</td>\n",
       "    </tr>\n",
       "    <tr>\n",
       "      <th>Jan</th>\n",
       "      <td>2.80</td>\n",
       "    </tr>\n",
       "    <tr>\n",
       "      <th>Apr</th>\n",
       "      <td>2.11</td>\n",
       "    </tr>\n",
       "  </tbody>\n",
       "</table>\n",
       "</div>"
      ],
      "text/plain": [
       "       pct_gt_1\n",
       "Month          \n",
       "Mar        3.50\n",
       "Jan        2.80\n",
       "Apr        2.11"
      ]
     },
     "execution_count": 119,
     "metadata": {},
     "output_type": "execute_result"
    }
   ],
   "source": [
    "grp = dfgt.groupby('Month')\\\n",
    "    .agg(pct_gt_1=('Anomaly', lambda x: (x>1).mean()*100))\\\n",
    "    .round(2)\\\n",
    "    .sort_values(by='pct_gt_1',ascending=False)    \n",
    "grp.head(3)"
   ]
  },
  {
   "cell_type": "markdown",
   "id": "3af30e03-ee4e-41a3-b330-450097022dbe",
   "metadata": {
    "tags": [],
    "toc-hr-collapsed": true
   },
   "source": [
    "### .groupby().filter()\n",
    "- requires writing a custom function or using lambda\n",
    "- function must return a single boolean value\n",
    "- filters passes each group as a df\n",
    "- each group kept or dropped based on returned boolean value\n",
    "- end result is rows in original df that meet criteria"
   ]
  },
  {
   "cell_type": "code",
   "execution_count": 120,
   "id": "e6185b15-b8d8-48b9-b3e3-7f075f12c332",
   "metadata": {},
   "outputs": [
    {
     "data": {
      "text/html": [
       "<div>\n",
       "<style scoped>\n",
       "    .dataframe tbody tr th:only-of-type {\n",
       "        vertical-align: middle;\n",
       "    }\n",
       "\n",
       "    .dataframe tbody tr th {\n",
       "        vertical-align: top;\n",
       "    }\n",
       "\n",
       "    .dataframe thead th {\n",
       "        text-align: right;\n",
       "    }\n",
       "</style>\n",
       "<table border=\"1\" class=\"dataframe\">\n",
       "  <thead>\n",
       "    <tr style=\"text-align: right;\">\n",
       "      <th></th>\n",
       "      <th>Month</th>\n",
       "      <th>max_anomaly</th>\n",
       "    </tr>\n",
       "  </thead>\n",
       "  <tbody>\n",
       "    <tr>\n",
       "      <th>1</th>\n",
       "      <td>Feb</td>\n",
       "      <td>1.37</td>\n",
       "    </tr>\n",
       "    <tr>\n",
       "      <th>2</th>\n",
       "      <td>Mar</td>\n",
       "      <td>1.36</td>\n",
       "    </tr>\n",
       "    <tr>\n",
       "      <th>0</th>\n",
       "      <td>Jan</td>\n",
       "      <td>1.17</td>\n",
       "    </tr>\n",
       "  </tbody>\n",
       "</table>\n",
       "</div>"
      ],
      "text/plain": [
       "  Month  max_anomaly\n",
       "1   Feb         1.37\n",
       "2   Mar         1.36\n",
       "0   Jan         1.17"
      ]
     },
     "execution_count": 120,
     "metadata": {},
     "output_type": "execute_result"
    }
   ],
   "source": [
    "# task: returns all rows in group where max anomaly of group > 1.35\n",
    "# use this for checking results of groupby filter\n",
    "grp = dfgt.groupby('Month')\\\n",
    "    .agg(max_anomaly=('Anomaly', 'max'))\\\n",
    "    .reset_index()\\\n",
    "    .sort_values(by='max_anomaly',ascending=False)\n",
    "grp.head(3)"
   ]
  },
  {
   "cell_type": "markdown",
   "id": "bb3a4013-2abe-451b-aadf-4b2d66bf2b3e",
   "metadata": {},
   "source": [
    "#### single step using .groupby().filter()"
   ]
  },
  {
   "cell_type": "code",
   "execution_count": 121,
   "id": "139be408-b220-4487-990a-47ff223d3dd5",
   "metadata": {},
   "outputs": [
    {
     "data": {
      "text/html": [
       "<div>\n",
       "<style scoped>\n",
       "    .dataframe tbody tr th:only-of-type {\n",
       "        vertical-align: middle;\n",
       "    }\n",
       "\n",
       "    .dataframe tbody tr th {\n",
       "        vertical-align: top;\n",
       "    }\n",
       "\n",
       "    .dataframe thead th {\n",
       "        text-align: right;\n",
       "    }\n",
       "</style>\n",
       "<table border=\"1\" class=\"dataframe\">\n",
       "  <thead>\n",
       "    <tr style=\"text-align: right;\">\n",
       "      <th></th>\n",
       "      <th>Id</th>\n",
       "      <th>Year</th>\n",
       "      <th>Season</th>\n",
       "      <th>Month</th>\n",
       "      <th>Anomaly</th>\n",
       "    </tr>\n",
       "    <tr>\n",
       "      <th>Date</th>\n",
       "      <th></th>\n",
       "      <th></th>\n",
       "      <th></th>\n",
       "      <th></th>\n",
       "      <th></th>\n",
       "    </tr>\n",
       "  </thead>\n",
       "  <tbody>\n",
       "    <tr>\n",
       "      <th>1880-02-01</th>\n",
       "      <td>GLB</td>\n",
       "      <td>1880</td>\n",
       "      <td>Winter</td>\n",
       "      <td>Feb</td>\n",
       "      <td>-0.24</td>\n",
       "    </tr>\n",
       "    <tr>\n",
       "      <th>1880-03-01</th>\n",
       "      <td>GLB</td>\n",
       "      <td>1880</td>\n",
       "      <td>Spring</td>\n",
       "      <td>Mar</td>\n",
       "      <td>-0.08</td>\n",
       "    </tr>\n",
       "    <tr>\n",
       "      <th>1881-02-01</th>\n",
       "      <td>GLB</td>\n",
       "      <td>1881</td>\n",
       "      <td>Winter</td>\n",
       "      <td>Feb</td>\n",
       "      <td>-0.13</td>\n",
       "    </tr>\n",
       "  </tbody>\n",
       "</table>\n",
       "</div>"
      ],
      "text/plain": [
       "             Id  Year  Season Month  Anomaly\n",
       "Date                                        \n",
       "1880-02-01  GLB  1880  Winter   Feb    -0.24\n",
       "1880-03-01  GLB  1880  Spring   Mar    -0.08\n",
       "1881-02-01  GLB  1881  Winter   Feb    -0.13"
      ]
     },
     "execution_count": 121,
     "metadata": {},
     "output_type": "execute_result"
    }
   ],
   "source": [
    "grp = dfgt.groupby('Month')\\\n",
    "    .filter(lambda x: x['Anomaly'].max() > 1.35)\\\n",
    "    .round(2)\n",
    "grp.head(3)"
   ]
  },
  {
   "cell_type": "markdown",
   "id": "fcf85f75-0b02-4691-ad98-83a24bb12f70",
   "metadata": {},
   "source": [
    "#### comparable steps without group filter"
   ]
  },
  {
   "cell_type": "raw",
   "id": "50d55f4c-e5ce-482e-981e-9a7ec7120735",
   "metadata": {},
   "source": [
    "grp_max = dfgt.groupby('Month')\\\n",
    "              .agg(max_anomaly=('Anomaly', 'max'))\n",
    "filt = grp_max['max_anomaly'] > 1.35\n",
    "grp_max = grp_max[filt].reset_index()\n",
    "grp_months = list(grp_max['Month'])\n",
    "filt2 = dfgt['Month'].isin(grp_months)\n",
    "grp_months = dfgt.loc[filt2]\n",
    "grp_months.head(3)"
   ]
  },
  {
   "cell_type": "markdown",
   "id": "60c16ac2-fdad-4274-b167-30a14199e9fe",
   "metadata": {
    "toc-hr-collapsed": true
   },
   "source": [
    "### .groupby().transform()\n",
    "- similar to .agg()\n",
    "- returns same number of rows as orginal df as a series\n",
    "- syntax: df.groupby('grouping col')['transformed col'].transform(func)\n",
    "- can use string name of pandas function or custom function or lambda"
   ]
  },
  {
   "cell_type": "markdown",
   "id": "95de95f5-578d-4435-8320-bdcb549a6e9d",
   "metadata": {},
   "source": [
    "#### add group max to each row"
   ]
  },
  {
   "cell_type": "code",
   "execution_count": 122,
   "id": "32c5679b-8822-43f6-9ed4-576adcc4a826",
   "metadata": {},
   "outputs": [
    {
     "data": {
      "text/html": [
       "<div>\n",
       "<style scoped>\n",
       "    .dataframe tbody tr th:only-of-type {\n",
       "        vertical-align: middle;\n",
       "    }\n",
       "\n",
       "    .dataframe tbody tr th {\n",
       "        vertical-align: top;\n",
       "    }\n",
       "\n",
       "    .dataframe thead th {\n",
       "        text-align: right;\n",
       "    }\n",
       "</style>\n",
       "<table border=\"1\" class=\"dataframe\">\n",
       "  <thead>\n",
       "    <tr style=\"text-align: right;\">\n",
       "      <th></th>\n",
       "      <th>Id</th>\n",
       "      <th>Year</th>\n",
       "      <th>Season</th>\n",
       "      <th>Month</th>\n",
       "      <th>Anomaly</th>\n",
       "      <th>month max</th>\n",
       "    </tr>\n",
       "    <tr>\n",
       "      <th>Date</th>\n",
       "      <th></th>\n",
       "      <th></th>\n",
       "      <th></th>\n",
       "      <th></th>\n",
       "      <th></th>\n",
       "      <th></th>\n",
       "    </tr>\n",
       "  </thead>\n",
       "  <tbody>\n",
       "    <tr>\n",
       "      <th>1880-01-01</th>\n",
       "      <td>GLB</td>\n",
       "      <td>1880</td>\n",
       "      <td>Winter</td>\n",
       "      <td>Jan</td>\n",
       "      <td>-0.18</td>\n",
       "      <td>8.30</td>\n",
       "    </tr>\n",
       "    <tr>\n",
       "      <th>1880-02-01</th>\n",
       "      <td>GLB</td>\n",
       "      <td>1880</td>\n",
       "      <td>Winter</td>\n",
       "      <td>Feb</td>\n",
       "      <td>-0.24</td>\n",
       "      <td>9.18</td>\n",
       "    </tr>\n",
       "    <tr>\n",
       "      <th>1880-03-01</th>\n",
       "      <td>GLB</td>\n",
       "      <td>1880</td>\n",
       "      <td>Spring</td>\n",
       "      <td>Mar</td>\n",
       "      <td>-0.08</td>\n",
       "      <td>11.55</td>\n",
       "    </tr>\n",
       "  </tbody>\n",
       "</table>\n",
       "</div>"
      ],
      "text/plain": [
       "             Id  Year  Season Month  Anomaly  month max\n",
       "Date                                                   \n",
       "1880-01-01  GLB  1880  Winter   Jan    -0.18       8.30\n",
       "1880-02-01  GLB  1880  Winter   Feb    -0.24       9.18\n",
       "1880-03-01  GLB  1880  Spring   Mar    -0.08      11.55"
      ]
     },
     "execution_count": 122,
     "metadata": {},
     "output_type": "execute_result"
    }
   ],
   "source": [
    "dfgtc = dfgt.copy()\n",
    "dfgtc['month max'] = dfgtc.groupby('Month')['Anomaly'].transform('sum')\n",
    "dfgtc.head(3)"
   ]
  },
  {
   "cell_type": "markdown",
   "id": "cf7ed01d-d6e3-4bc8-8732-459501e30333",
   "metadata": {},
   "source": [
    "#### add difference from group mean to each row"
   ]
  },
  {
   "cell_type": "code",
   "execution_count": 123,
   "id": "94e8f5b7-d6ff-4a73-a627-ca8c08106bc6",
   "metadata": {},
   "outputs": [
    {
     "data": {
      "text/html": [
       "<div>\n",
       "<style scoped>\n",
       "    .dataframe tbody tr th:only-of-type {\n",
       "        vertical-align: middle;\n",
       "    }\n",
       "\n",
       "    .dataframe tbody tr th {\n",
       "        vertical-align: top;\n",
       "    }\n",
       "\n",
       "    .dataframe thead th {\n",
       "        text-align: right;\n",
       "    }\n",
       "</style>\n",
       "<table border=\"1\" class=\"dataframe\">\n",
       "  <thead>\n",
       "    <tr style=\"text-align: right;\">\n",
       "      <th></th>\n",
       "      <th>Id</th>\n",
       "      <th>Year</th>\n",
       "      <th>Season</th>\n",
       "      <th>Month</th>\n",
       "      <th>Anomaly</th>\n",
       "      <th>month mean</th>\n",
       "      <th>diff_mean</th>\n",
       "    </tr>\n",
       "    <tr>\n",
       "      <th>Date</th>\n",
       "      <th></th>\n",
       "      <th></th>\n",
       "      <th></th>\n",
       "      <th></th>\n",
       "      <th></th>\n",
       "      <th></th>\n",
       "      <th></th>\n",
       "    </tr>\n",
       "  </thead>\n",
       "  <tbody>\n",
       "    <tr>\n",
       "      <th>1880-01-01</th>\n",
       "      <td>GLB</td>\n",
       "      <td>1880</td>\n",
       "      <td>Winter</td>\n",
       "      <td>Jan</td>\n",
       "      <td>-0.18</td>\n",
       "      <td>0.06</td>\n",
       "      <td>-0.24</td>\n",
       "    </tr>\n",
       "    <tr>\n",
       "      <th>1880-02-01</th>\n",
       "      <td>GLB</td>\n",
       "      <td>1880</td>\n",
       "      <td>Winter</td>\n",
       "      <td>Feb</td>\n",
       "      <td>-0.24</td>\n",
       "      <td>0.06</td>\n",
       "      <td>-0.30</td>\n",
       "    </tr>\n",
       "    <tr>\n",
       "      <th>1880-03-01</th>\n",
       "      <td>GLB</td>\n",
       "      <td>1880</td>\n",
       "      <td>Spring</td>\n",
       "      <td>Mar</td>\n",
       "      <td>-0.08</td>\n",
       "      <td>0.08</td>\n",
       "      <td>-0.16</td>\n",
       "    </tr>\n",
       "  </tbody>\n",
       "</table>\n",
       "</div>"
      ],
      "text/plain": [
       "             Id  Year  Season Month  Anomaly  month mean  diff_mean\n",
       "Date                                                               \n",
       "1880-01-01  GLB  1880  Winter   Jan    -0.18        0.06      -0.24\n",
       "1880-02-01  GLB  1880  Winter   Feb    -0.24        0.06      -0.30\n",
       "1880-03-01  GLB  1880  Spring   Mar    -0.08        0.08      -0.16"
      ]
     },
     "execution_count": 123,
     "metadata": {},
     "output_type": "execute_result"
    }
   ],
   "source": [
    "dfgtc = dfgt.copy()\n",
    "dfgtc['month mean'] = dfgtc.groupby('Month')['Anomaly'].transform('mean').round(2)\n",
    "dfgtc['diff_mean'] = dfgtc.groupby('Month')['Anomaly'].transform(lambda x: x - x.mean()).round(2)\n",
    "dfgtc.head(3)"
   ]
  },
  {
   "cell_type": "markdown",
   "id": "3d428ad8-505f-477d-b734-f62a76711648",
   "metadata": {
    "toc-hr-collapsed": true
   },
   "source": [
    "### pivot table"
   ]
  },
  {
   "cell_type": "code",
   "execution_count": 124,
   "id": "7aca3eb3-ca8e-4071-b8b6-cf5e22b96458",
   "metadata": {},
   "outputs": [
    {
     "data": {
      "text/html": [
       "<div>\n",
       "<style scoped>\n",
       "    .dataframe tbody tr th:only-of-type {\n",
       "        vertical-align: middle;\n",
       "    }\n",
       "\n",
       "    .dataframe tbody tr th {\n",
       "        vertical-align: top;\n",
       "    }\n",
       "\n",
       "    .dataframe thead tr th {\n",
       "        text-align: left;\n",
       "    }\n",
       "\n",
       "    .dataframe thead tr:last-of-type th {\n",
       "        text-align: right;\n",
       "    }\n",
       "</style>\n",
       "<table border=\"1\" class=\"dataframe\">\n",
       "  <thead>\n",
       "    <tr>\n",
       "      <th></th>\n",
       "      <th colspan=\"13\" halign=\"left\">mean</th>\n",
       "    </tr>\n",
       "    <tr>\n",
       "      <th>Month</th>\n",
       "      <th>Jan</th>\n",
       "      <th>Feb</th>\n",
       "      <th>Mar</th>\n",
       "      <th>Apr</th>\n",
       "      <th>May</th>\n",
       "      <th>Jun</th>\n",
       "      <th>Jul</th>\n",
       "      <th>Aug</th>\n",
       "      <th>Sep</th>\n",
       "      <th>Oct</th>\n",
       "      <th>Nov</th>\n",
       "      <th>Dec</th>\n",
       "      <th>All</th>\n",
       "    </tr>\n",
       "    <tr>\n",
       "      <th>Season</th>\n",
       "      <th></th>\n",
       "      <th></th>\n",
       "      <th></th>\n",
       "      <th></th>\n",
       "      <th></th>\n",
       "      <th></th>\n",
       "      <th></th>\n",
       "      <th></th>\n",
       "      <th></th>\n",
       "      <th></th>\n",
       "      <th></th>\n",
       "      <th></th>\n",
       "      <th></th>\n",
       "    </tr>\n",
       "  </thead>\n",
       "  <tbody>\n",
       "    <tr>\n",
       "      <th>Spring</th>\n",
       "      <td>0.000</td>\n",
       "      <td>0.000</td>\n",
       "      <td>0.081</td>\n",
       "      <td>0.051</td>\n",
       "      <td>0.041</td>\n",
       "      <td>0.000</td>\n",
       "      <td>0.00</td>\n",
       "      <td>0.000</td>\n",
       "      <td>0.000</td>\n",
       "      <td>0.000</td>\n",
       "      <td>0.000</td>\n",
       "      <td>0.000</td>\n",
       "      <td>0.058</td>\n",
       "    </tr>\n",
       "    <tr>\n",
       "      <th>Summer</th>\n",
       "      <td>0.000</td>\n",
       "      <td>0.000</td>\n",
       "      <td>0.000</td>\n",
       "      <td>0.000</td>\n",
       "      <td>0.000</td>\n",
       "      <td>0.026</td>\n",
       "      <td>0.05</td>\n",
       "      <td>0.048</td>\n",
       "      <td>0.000</td>\n",
       "      <td>0.000</td>\n",
       "      <td>0.000</td>\n",
       "      <td>0.000</td>\n",
       "      <td>0.041</td>\n",
       "    </tr>\n",
       "    <tr>\n",
       "      <th>Autumn</th>\n",
       "      <td>0.000</td>\n",
       "      <td>0.000</td>\n",
       "      <td>0.000</td>\n",
       "      <td>0.000</td>\n",
       "      <td>0.000</td>\n",
       "      <td>0.000</td>\n",
       "      <td>0.00</td>\n",
       "      <td>0.000</td>\n",
       "      <td>0.052</td>\n",
       "      <td>0.078</td>\n",
       "      <td>0.073</td>\n",
       "      <td>0.000</td>\n",
       "      <td>0.067</td>\n",
       "    </tr>\n",
       "    <tr>\n",
       "      <th>Winter</th>\n",
       "      <td>0.058</td>\n",
       "      <td>0.064</td>\n",
       "      <td>0.000</td>\n",
       "      <td>0.000</td>\n",
       "      <td>0.000</td>\n",
       "      <td>0.000</td>\n",
       "      <td>0.00</td>\n",
       "      <td>0.000</td>\n",
       "      <td>0.000</td>\n",
       "      <td>0.000</td>\n",
       "      <td>0.000</td>\n",
       "      <td>0.046</td>\n",
       "      <td>0.056</td>\n",
       "    </tr>\n",
       "    <tr>\n",
       "      <th>All</th>\n",
       "      <td>0.058</td>\n",
       "      <td>0.064</td>\n",
       "      <td>0.081</td>\n",
       "      <td>0.051</td>\n",
       "      <td>0.041</td>\n",
       "      <td>0.026</td>\n",
       "      <td>0.05</td>\n",
       "      <td>0.048</td>\n",
       "      <td>0.052</td>\n",
       "      <td>0.078</td>\n",
       "      <td>0.073</td>\n",
       "      <td>0.046</td>\n",
       "      <td>0.056</td>\n",
       "    </tr>\n",
       "  </tbody>\n",
       "</table>\n",
       "</div>"
      ],
      "text/plain": [
       "         mean                                                                \\\n",
       "Month     Jan    Feb    Mar    Apr    May    Jun   Jul    Aug    Sep    Oct   \n",
       "Season                                                                        \n",
       "Spring  0.000  0.000  0.081  0.051  0.041  0.000  0.00  0.000  0.000  0.000   \n",
       "Summer  0.000  0.000  0.000  0.000  0.000  0.026  0.05  0.048  0.000  0.000   \n",
       "Autumn  0.000  0.000  0.000  0.000  0.000  0.000  0.00  0.000  0.052  0.078   \n",
       "Winter  0.058  0.064  0.000  0.000  0.000  0.000  0.00  0.000  0.000  0.000   \n",
       "All     0.058  0.064  0.081  0.051  0.041  0.026  0.05  0.048  0.052  0.078   \n",
       "\n",
       "                             \n",
       "Month     Nov    Dec    All  \n",
       "Season                       \n",
       "Spring  0.000  0.000  0.058  \n",
       "Summer  0.000  0.000  0.041  \n",
       "Autumn  0.073  0.000  0.067  \n",
       "Winter  0.000  0.046  0.056  \n",
       "All     0.073  0.046  0.056  "
      ]
     },
     "execution_count": 124,
     "metadata": {},
     "output_type": "execute_result"
    }
   ],
   "source": [
    "pt = dfgt.pivot_table(\n",
    "    index='Season',\n",
    "    columns='Month', \n",
    "    values='Anomaly',\n",
    "    aggfunc=['mean'],\n",
    "    fill_value=0,\n",
    "    margins=True).round(3)\n",
    "pt"
   ]
  },
  {
   "cell_type": "markdown",
   "id": "9bd5c14a-e30c-45dc-adc8-07f9fdea56cb",
   "metadata": {},
   "source": [
    "### crosstab\n",
    "adds ability to normalize (normalize options: index, columns, all)"
   ]
  },
  {
   "cell_type": "code",
   "execution_count": 125,
   "id": "4f94e4dd-0b21-4f9d-9548-0523d8f32513",
   "metadata": {},
   "outputs": [
    {
     "data": {
      "text/html": [
       "<div>\n",
       "<style scoped>\n",
       "    .dataframe tbody tr th:only-of-type {\n",
       "        vertical-align: middle;\n",
       "    }\n",
       "\n",
       "    .dataframe tbody tr th {\n",
       "        vertical-align: top;\n",
       "    }\n",
       "\n",
       "    .dataframe thead th {\n",
       "        text-align: right;\n",
       "    }\n",
       "</style>\n",
       "<table border=\"1\" class=\"dataframe\">\n",
       "  <thead>\n",
       "    <tr style=\"text-align: right;\">\n",
       "      <th>Month</th>\n",
       "      <th>Jan</th>\n",
       "      <th>Feb</th>\n",
       "      <th>Mar</th>\n",
       "      <th>Apr</th>\n",
       "      <th>May</th>\n",
       "      <th>Jun</th>\n",
       "      <th>Jul</th>\n",
       "      <th>Aug</th>\n",
       "      <th>Sep</th>\n",
       "      <th>Oct</th>\n",
       "      <th>Nov</th>\n",
       "      <th>Dec</th>\n",
       "    </tr>\n",
       "    <tr>\n",
       "      <th>Season</th>\n",
       "      <th></th>\n",
       "      <th></th>\n",
       "      <th></th>\n",
       "      <th></th>\n",
       "      <th></th>\n",
       "      <th></th>\n",
       "      <th></th>\n",
       "      <th></th>\n",
       "      <th></th>\n",
       "      <th></th>\n",
       "      <th></th>\n",
       "      <th></th>\n",
       "    </tr>\n",
       "  </thead>\n",
       "  <tbody>\n",
       "    <tr>\n",
       "      <th>Spring</th>\n",
       "      <td>0.0</td>\n",
       "      <td>0.0</td>\n",
       "      <td>8.4</td>\n",
       "      <td>8.3</td>\n",
       "      <td>8.3</td>\n",
       "      <td>0.0</td>\n",
       "      <td>0.0</td>\n",
       "      <td>0.0</td>\n",
       "      <td>0.0</td>\n",
       "      <td>0.0</td>\n",
       "      <td>0.0</td>\n",
       "      <td>0.0</td>\n",
       "    </tr>\n",
       "    <tr>\n",
       "      <th>Summer</th>\n",
       "      <td>0.0</td>\n",
       "      <td>0.0</td>\n",
       "      <td>0.0</td>\n",
       "      <td>0.0</td>\n",
       "      <td>0.0</td>\n",
       "      <td>8.3</td>\n",
       "      <td>8.3</td>\n",
       "      <td>8.3</td>\n",
       "      <td>0.0</td>\n",
       "      <td>0.0</td>\n",
       "      <td>0.0</td>\n",
       "      <td>0.0</td>\n",
       "    </tr>\n",
       "    <tr>\n",
       "      <th>Autumn</th>\n",
       "      <td>0.0</td>\n",
       "      <td>0.0</td>\n",
       "      <td>0.0</td>\n",
       "      <td>0.0</td>\n",
       "      <td>0.0</td>\n",
       "      <td>0.0</td>\n",
       "      <td>0.0</td>\n",
       "      <td>0.0</td>\n",
       "      <td>8.3</td>\n",
       "      <td>8.3</td>\n",
       "      <td>8.3</td>\n",
       "      <td>0.0</td>\n",
       "    </tr>\n",
       "    <tr>\n",
       "      <th>Winter</th>\n",
       "      <td>8.4</td>\n",
       "      <td>8.4</td>\n",
       "      <td>0.0</td>\n",
       "      <td>0.0</td>\n",
       "      <td>0.0</td>\n",
       "      <td>0.0</td>\n",
       "      <td>0.0</td>\n",
       "      <td>0.0</td>\n",
       "      <td>0.0</td>\n",
       "      <td>0.0</td>\n",
       "      <td>0.0</td>\n",
       "      <td>8.3</td>\n",
       "    </tr>\n",
       "  </tbody>\n",
       "</table>\n",
       "</div>"
      ],
      "text/plain": [
       "Month   Jan  Feb  Mar  Apr  May  Jun  Jul  Aug  Sep  Oct  Nov  Dec\n",
       "Season                                                            \n",
       "Spring  0.0  0.0  8.4  8.3  8.3  0.0  0.0  0.0  0.0  0.0  0.0  0.0\n",
       "Summer  0.0  0.0  0.0  0.0  0.0  8.3  8.3  8.3  0.0  0.0  0.0  0.0\n",
       "Autumn  0.0  0.0  0.0  0.0  0.0  0.0  0.0  0.0  8.3  8.3  8.3  0.0\n",
       "Winter  8.4  8.4  0.0  0.0  0.0  0.0  0.0  0.0  0.0  0.0  0.0  8.3"
      ]
     },
     "execution_count": 125,
     "metadata": {},
     "output_type": "execute_result"
    }
   ],
   "source": [
    "pd.crosstab(index=dfgt['Season'], \n",
    "            columns=dfgt['Month'], \n",
    "            normalize='all').round(3) * 100"
   ]
  },
  {
   "cell_type": "markdown",
   "id": "87d92d33-9ff5-47fe-829a-dda1c4668f97",
   "metadata": {
    "toc-hr-collapsed": true
   },
   "source": [
    "### bins"
   ]
  },
  {
   "cell_type": "code",
   "execution_count": 126,
   "id": "bcd1520d-fb00-445d-94c5-098a024a7a4f",
   "metadata": {},
   "outputs": [
    {
     "name": "stdout",
     "output_type": "stream",
     "text": [
      "1880 2022\n"
     ]
    }
   ],
   "source": [
    "col_min, col_max = dfgt['Year'].agg(['min','max'])\n",
    "print(col_min, col_max)"
   ]
  },
  {
   "cell_type": "code",
   "execution_count": 127,
   "id": "31f5843f-bb57-4585-8311-365f31689867",
   "metadata": {},
   "outputs": [
    {
     "data": {
      "text/html": [
       "<div>\n",
       "<style scoped>\n",
       "    .dataframe tbody tr th:only-of-type {\n",
       "        vertical-align: middle;\n",
       "    }\n",
       "\n",
       "    .dataframe tbody tr th {\n",
       "        vertical-align: top;\n",
       "    }\n",
       "\n",
       "    .dataframe thead th {\n",
       "        text-align: right;\n",
       "    }\n",
       "</style>\n",
       "<table border=\"1\" class=\"dataframe\">\n",
       "  <thead>\n",
       "    <tr style=\"text-align: right;\">\n",
       "      <th></th>\n",
       "      <th>Date</th>\n",
       "      <th>Id</th>\n",
       "      <th>Year</th>\n",
       "      <th>Season</th>\n",
       "      <th>Month</th>\n",
       "      <th>Anomaly</th>\n",
       "      <th>bins</th>\n",
       "    </tr>\n",
       "  </thead>\n",
       "  <tbody>\n",
       "    <tr>\n",
       "      <th>0</th>\n",
       "      <td>1880-01-01</td>\n",
       "      <td>GLB</td>\n",
       "      <td>1880</td>\n",
       "      <td>Winter</td>\n",
       "      <td>Jan</td>\n",
       "      <td>-0.18</td>\n",
       "      <td>(1879, 1880]</td>\n",
       "    </tr>\n",
       "    <tr>\n",
       "      <th>1</th>\n",
       "      <td>1880-02-01</td>\n",
       "      <td>GLB</td>\n",
       "      <td>1880</td>\n",
       "      <td>Winter</td>\n",
       "      <td>Feb</td>\n",
       "      <td>-0.24</td>\n",
       "      <td>(1879, 1880]</td>\n",
       "    </tr>\n",
       "    <tr>\n",
       "      <th>2</th>\n",
       "      <td>1880-03-01</td>\n",
       "      <td>GLB</td>\n",
       "      <td>1880</td>\n",
       "      <td>Spring</td>\n",
       "      <td>Mar</td>\n",
       "      <td>-0.08</td>\n",
       "      <td>(1879, 1880]</td>\n",
       "    </tr>\n",
       "  </tbody>\n",
       "</table>\n",
       "</div>"
      ],
      "text/plain": [
       "        Date   Id  Year  Season Month  Anomaly          bins\n",
       "0 1880-01-01  GLB  1880  Winter   Jan    -0.18  (1879, 1880]\n",
       "1 1880-02-01  GLB  1880  Winter   Feb    -0.24  (1879, 1880]\n",
       "2 1880-03-01  GLB  1880  Spring   Mar    -0.08  (1879, 1880]"
      ]
     },
     "execution_count": 127,
     "metadata": {},
     "output_type": "execute_result"
    }
   ],
   "source": [
    "dfc = dfgt.copy().reset_index()\n",
    "bins_20yr = [col_min-1,1880,1900,1920,1940,1960,1980,2000,2020,col_max]\n",
    "dfc['bins'] = pd.cut(dfc['Year'], bins = bins_20yr)\n",
    "dfc.head(3)"
   ]
  },
  {
   "cell_type": "code",
   "execution_count": 128,
   "id": "39a837f3-32ae-4b7f-9c95-2f289ea60c98",
   "metadata": {},
   "outputs": [
    {
     "data": {
      "text/html": [
       "<div>\n",
       "<style scoped>\n",
       "    .dataframe tbody tr th:only-of-type {\n",
       "        vertical-align: middle;\n",
       "    }\n",
       "\n",
       "    .dataframe tbody tr th {\n",
       "        vertical-align: top;\n",
       "    }\n",
       "\n",
       "    .dataframe thead th {\n",
       "        text-align: right;\n",
       "    }\n",
       "</style>\n",
       "<table border=\"1\" class=\"dataframe\">\n",
       "  <thead>\n",
       "    <tr style=\"text-align: right;\">\n",
       "      <th></th>\n",
       "      <th>mean</th>\n",
       "      <th>count</th>\n",
       "    </tr>\n",
       "    <tr>\n",
       "      <th>bins</th>\n",
       "      <th></th>\n",
       "      <th></th>\n",
       "    </tr>\n",
       "  </thead>\n",
       "  <tbody>\n",
       "    <tr>\n",
       "      <th>(1879, 1880]</th>\n",
       "      <td>-0.163333</td>\n",
       "      <td>12</td>\n",
       "    </tr>\n",
       "    <tr>\n",
       "      <th>(1880, 1900]</th>\n",
       "      <td>-0.218500</td>\n",
       "      <td>240</td>\n",
       "    </tr>\n",
       "    <tr>\n",
       "      <th>(1900, 1920]</th>\n",
       "      <td>-0.330042</td>\n",
       "      <td>240</td>\n",
       "    </tr>\n",
       "    <tr>\n",
       "      <th>(1920, 1940]</th>\n",
       "      <td>-0.160375</td>\n",
       "      <td>240</td>\n",
       "    </tr>\n",
       "    <tr>\n",
       "      <th>(1940, 1960]</th>\n",
       "      <td>-0.009583</td>\n",
       "      <td>240</td>\n",
       "    </tr>\n",
       "    <tr>\n",
       "      <th>(1960, 1980]</th>\n",
       "      <td>0.016500</td>\n",
       "      <td>240</td>\n",
       "    </tr>\n",
       "    <tr>\n",
       "      <th>(1980, 2000]</th>\n",
       "      <td>0.323458</td>\n",
       "      <td>240</td>\n",
       "    </tr>\n",
       "    <tr>\n",
       "      <th>(2000, 2020]</th>\n",
       "      <td>0.728292</td>\n",
       "      <td>240</td>\n",
       "    </tr>\n",
       "    <tr>\n",
       "      <th>(2020, 2022]</th>\n",
       "      <td>0.867333</td>\n",
       "      <td>15</td>\n",
       "    </tr>\n",
       "  </tbody>\n",
       "</table>\n",
       "</div>"
      ],
      "text/plain": [
       "                  mean  count\n",
       "bins                         \n",
       "(1879, 1880] -0.163333     12\n",
       "(1880, 1900] -0.218500    240\n",
       "(1900, 1920] -0.330042    240\n",
       "(1920, 1940] -0.160375    240\n",
       "(1940, 1960] -0.009583    240\n",
       "(1960, 1980]  0.016500    240\n",
       "(1980, 2000]  0.323458    240\n",
       "(2000, 2020]  0.728292    240\n",
       "(2020, 2022]  0.867333     15"
      ]
     },
     "execution_count": 128,
     "metadata": {},
     "output_type": "execute_result"
    }
   ],
   "source": [
    "dfc.groupby('bins')['Anomaly'].agg(['mean','count'])"
   ]
  },
  {
   "cell_type": "markdown",
   "id": "2f47bea9-f597-457c-92d8-c5461dba9f65",
   "metadata": {},
   "source": [
    "#### quantile binning .qcut()"
   ]
  },
  {
   "cell_type": "code",
   "execution_count": 129,
   "id": "7bae9e5a-7eca-47fd-a7eb-a59bf790b062",
   "metadata": {},
   "outputs": [
    {
     "data": {
      "text/html": [
       "<div>\n",
       "<style scoped>\n",
       "    .dataframe tbody tr th:only-of-type {\n",
       "        vertical-align: middle;\n",
       "    }\n",
       "\n",
       "    .dataframe tbody tr th {\n",
       "        vertical-align: top;\n",
       "    }\n",
       "\n",
       "    .dataframe thead th {\n",
       "        text-align: right;\n",
       "    }\n",
       "</style>\n",
       "<table border=\"1\" class=\"dataframe\">\n",
       "  <thead>\n",
       "    <tr style=\"text-align: right;\">\n",
       "      <th></th>\n",
       "      <th>mean</th>\n",
       "      <th>count</th>\n",
       "    </tr>\n",
       "    <tr>\n",
       "      <th>qbins</th>\n",
       "      <th></th>\n",
       "      <th></th>\n",
       "    </tr>\n",
       "  </thead>\n",
       "  <tbody>\n",
       "    <tr>\n",
       "      <th>(1879.999, 1908.0]</th>\n",
       "      <td>-0.245287</td>\n",
       "      <td>348</td>\n",
       "    </tr>\n",
       "    <tr>\n",
       "      <th>(1908.0, 1936.0]</th>\n",
       "      <td>-0.261101</td>\n",
       "      <td>336</td>\n",
       "    </tr>\n",
       "    <tr>\n",
       "      <th>(1936.0, 1965.0]</th>\n",
       "      <td>-0.009368</td>\n",
       "      <td>348</td>\n",
       "    </tr>\n",
       "    <tr>\n",
       "      <th>(1965.0, 1993.0]</th>\n",
       "      <td>0.143780</td>\n",
       "      <td>336</td>\n",
       "    </tr>\n",
       "    <tr>\n",
       "      <th>(1993.0, 2022.0]</th>\n",
       "      <td>0.657906</td>\n",
       "      <td>339</td>\n",
       "    </tr>\n",
       "  </tbody>\n",
       "</table>\n",
       "</div>"
      ],
      "text/plain": [
       "                        mean  count\n",
       "qbins                              \n",
       "(1879.999, 1908.0] -0.245287    348\n",
       "(1908.0, 1936.0]   -0.261101    336\n",
       "(1936.0, 1965.0]   -0.009368    348\n",
       "(1965.0, 1993.0]    0.143780    336\n",
       "(1993.0, 2022.0]    0.657906    339"
      ]
     },
     "execution_count": 129,
     "metadata": {},
     "output_type": "execute_result"
    }
   ],
   "source": [
    "dfc = dfgt.copy().reset_index()\n",
    "dfc['qbins'] =  pd.qcut(dfc['Year'], 5)\n",
    "dfc.groupby('qbins')['Anomaly'].agg(['mean','count'])"
   ]
  },
  {
   "cell_type": "markdown",
   "id": "7358252e-b2a8-48aa-9763-df4d56a52f2b",
   "metadata": {},
   "source": [
    "### rolling"
   ]
  },
  {
   "cell_type": "code",
   "execution_count": 130,
   "id": "3fbf454d-bcfb-4f6a-a362-73fd27c81497",
   "metadata": {},
   "outputs": [
    {
     "data": {
      "text/html": [
       "<div>\n",
       "<style scoped>\n",
       "    .dataframe tbody tr th:only-of-type {\n",
       "        vertical-align: middle;\n",
       "    }\n",
       "\n",
       "    .dataframe tbody tr th {\n",
       "        vertical-align: top;\n",
       "    }\n",
       "\n",
       "    .dataframe thead th {\n",
       "        text-align: right;\n",
       "    }\n",
       "</style>\n",
       "<table border=\"1\" class=\"dataframe\">\n",
       "  <thead>\n",
       "    <tr style=\"text-align: right;\">\n",
       "      <th></th>\n",
       "      <th>min</th>\n",
       "      <th>max</th>\n",
       "      <th>mean</th>\n",
       "      <th>count</th>\n",
       "    </tr>\n",
       "    <tr>\n",
       "      <th>Date</th>\n",
       "      <th></th>\n",
       "      <th></th>\n",
       "      <th></th>\n",
       "      <th></th>\n",
       "    </tr>\n",
       "  </thead>\n",
       "  <tbody>\n",
       "    <tr>\n",
       "      <th>1880-01-01</th>\n",
       "      <td>-0.18</td>\n",
       "      <td>-0.18</td>\n",
       "      <td>-0.180000</td>\n",
       "      <td>1.0</td>\n",
       "    </tr>\n",
       "    <tr>\n",
       "      <th>1880-02-01</th>\n",
       "      <td>-0.24</td>\n",
       "      <td>-0.18</td>\n",
       "      <td>-0.210000</td>\n",
       "      <td>2.0</td>\n",
       "    </tr>\n",
       "    <tr>\n",
       "      <th>1880-03-01</th>\n",
       "      <td>-0.24</td>\n",
       "      <td>-0.08</td>\n",
       "      <td>-0.166667</td>\n",
       "      <td>3.0</td>\n",
       "    </tr>\n",
       "    <tr>\n",
       "      <th>1880-04-01</th>\n",
       "      <td>-0.24</td>\n",
       "      <td>-0.08</td>\n",
       "      <td>-0.165000</td>\n",
       "      <td>4.0</td>\n",
       "    </tr>\n",
       "    <tr>\n",
       "      <th>1880-05-01</th>\n",
       "      <td>-0.24</td>\n",
       "      <td>-0.08</td>\n",
       "      <td>-0.150000</td>\n",
       "      <td>5.0</td>\n",
       "    </tr>\n",
       "  </tbody>\n",
       "</table>\n",
       "</div>"
      ],
      "text/plain": [
       "             min   max      mean  count\n",
       "Date                                   \n",
       "1880-01-01 -0.18 -0.18 -0.180000    1.0\n",
       "1880-02-01 -0.24 -0.18 -0.210000    2.0\n",
       "1880-03-01 -0.24 -0.08 -0.166667    3.0\n",
       "1880-04-01 -0.24 -0.08 -0.165000    4.0\n",
       "1880-05-01 -0.24 -0.08 -0.150000    5.0"
      ]
     },
     "execution_count": 130,
     "metadata": {},
     "output_type": "execute_result"
    }
   ],
   "source": [
    "dfgt['Anomaly'].rolling(5,min_periods=1).agg(['min', 'max', 'mean','count']).head()\n",
    "#dfgt['Anomaly'].rolling(5,min_periods=1,center=True).agg(['min', 'max', 'mean','count']).head()"
   ]
  },
  {
   "cell_type": "markdown",
   "id": "cdeba849-c1b1-4cc6-95b4-1f3981669a7a",
   "metadata": {
    "tags": [],
    "toc-hr-collapsed": true
   },
   "source": [
    "<a id='pd-resample'></a>\n",
    "## Resample"
   ]
  },
  {
   "cell_type": "markdown",
   "id": "00b61cae-237b-499b-9eda-73f9953659fe",
   "metadata": {},
   "source": [
    "[Return to Start of Notebook](#pd)  "
   ]
  },
  {
   "cell_type": "markdown",
   "id": "e23df763-5745-4210-8569-434ec33c7e84",
   "metadata": {},
   "source": [
    "- nnAS year start frequency\n",
    "- nnYS year start frequency\n",
    "- nnY year end frequency\n",
    "- nnA year end frequency\n",
    "- 10Y = decade"
   ]
  },
  {
   "cell_type": "markdown",
   "id": "7279be9f-b2ba-4e4d-8d29-5ef2d7d1fbe9",
   "metadata": {},
   "source": [
    "### .resample().agg()"
   ]
  },
  {
   "cell_type": "code",
   "execution_count": 131,
   "id": "92d62df9-ce2d-4e4e-815b-d8842c50c3f3",
   "metadata": {},
   "outputs": [
    {
     "data": {
      "text/html": [
       "<div>\n",
       "<style scoped>\n",
       "    .dataframe tbody tr th:only-of-type {\n",
       "        vertical-align: middle;\n",
       "    }\n",
       "\n",
       "    .dataframe tbody tr th {\n",
       "        vertical-align: top;\n",
       "    }\n",
       "\n",
       "    .dataframe thead th {\n",
       "        text-align: right;\n",
       "    }\n",
       "</style>\n",
       "<table border=\"1\" class=\"dataframe\">\n",
       "  <thead>\n",
       "    <tr style=\"text-align: right;\">\n",
       "      <th></th>\n",
       "      <th>avg_anomaly</th>\n",
       "      <th>max_anomaly</th>\n",
       "      <th>min_anomaly</th>\n",
       "      <th>count_anomaly</th>\n",
       "    </tr>\n",
       "    <tr>\n",
       "      <th>Date</th>\n",
       "      <th></th>\n",
       "      <th></th>\n",
       "      <th></th>\n",
       "      <th></th>\n",
       "    </tr>\n",
       "  </thead>\n",
       "  <tbody>\n",
       "    <tr>\n",
       "      <th>1880-01-01</th>\n",
       "      <td>-0.16</td>\n",
       "      <td>-0.08</td>\n",
       "      <td>-0.24</td>\n",
       "      <td>12</td>\n",
       "    </tr>\n",
       "    <tr>\n",
       "      <th>1881-01-01</th>\n",
       "      <td>-0.08</td>\n",
       "      <td>0.07</td>\n",
       "      <td>-0.21</td>\n",
       "      <td>12</td>\n",
       "    </tr>\n",
       "    <tr>\n",
       "      <th>1882-01-01</th>\n",
       "      <td>-0.10</td>\n",
       "      <td>0.17</td>\n",
       "      <td>-0.36</td>\n",
       "      <td>12</td>\n",
       "    </tr>\n",
       "  </tbody>\n",
       "</table>\n",
       "</div>"
      ],
      "text/plain": [
       "            avg_anomaly  max_anomaly  min_anomaly  count_anomaly\n",
       "Date                                                            \n",
       "1880-01-01        -0.16        -0.08        -0.24             12\n",
       "1881-01-01        -0.08         0.07        -0.21             12\n",
       "1882-01-01        -0.10         0.17        -0.36             12"
      ]
     },
     "execution_count": 131,
     "metadata": {},
     "output_type": "execute_result"
    }
   ],
   "source": [
    "dfgty = dfgt[['Anomaly']]\\\n",
    "            .resample('YS')\\\n",
    "            .agg(avg_anomaly=('Anomaly', 'mean'),\n",
    "                max_anomaly=('Anomaly', 'max'),\n",
    "                min_anomaly=('Anomaly', 'min'),\n",
    "                count_anomaly= ('Anomaly', 'count'))\\\n",
    "            .round(2)\\\n",
    "            .reset_index()\\\n",
    "            .set_index('Date')\n",
    "dfgty.head(3)"
   ]
  },
  {
   "cell_type": "markdown",
   "id": "6c9c8ec0-9660-4ace-abcd-ff3ba931f726",
   "metadata": {},
   "source": [
    "### .groupby().resample().agg()"
   ]
  },
  {
   "cell_type": "code",
   "execution_count": 132,
   "id": "0f22a79d-b78a-46ca-b07d-77e4714c7d0f",
   "metadata": {},
   "outputs": [
    {
     "data": {
      "text/html": [
       "<div>\n",
       "<style scoped>\n",
       "    .dataframe tbody tr th:only-of-type {\n",
       "        vertical-align: middle;\n",
       "    }\n",
       "\n",
       "    .dataframe tbody tr th {\n",
       "        vertical-align: top;\n",
       "    }\n",
       "\n",
       "    .dataframe thead th {\n",
       "        text-align: right;\n",
       "    }\n",
       "</style>\n",
       "<table border=\"1\" class=\"dataframe\">\n",
       "  <thead>\n",
       "    <tr style=\"text-align: right;\">\n",
       "      <th></th>\n",
       "      <th>Id</th>\n",
       "      <th>Month</th>\n",
       "      <th>Season</th>\n",
       "      <th>avg_anomaly</th>\n",
       "      <th>count_values</th>\n",
       "    </tr>\n",
       "    <tr>\n",
       "      <th>Date</th>\n",
       "      <th></th>\n",
       "      <th></th>\n",
       "      <th></th>\n",
       "      <th></th>\n",
       "      <th></th>\n",
       "    </tr>\n",
       "  </thead>\n",
       "  <tbody>\n",
       "    <tr>\n",
       "      <th>2000-01-01</th>\n",
       "      <td>GLB</td>\n",
       "      <td>Dec</td>\n",
       "      <td>Winter</td>\n",
       "      <td>0.572</td>\n",
       "      <td>10</td>\n",
       "    </tr>\n",
       "    <tr>\n",
       "      <th>2010-01-01</th>\n",
       "      <td>GLB</td>\n",
       "      <td>Dec</td>\n",
       "      <td>Winter</td>\n",
       "      <td>0.805</td>\n",
       "      <td>10</td>\n",
       "    </tr>\n",
       "    <tr>\n",
       "      <th>2020-01-01</th>\n",
       "      <td>GLB</td>\n",
       "      <td>Dec</td>\n",
       "      <td>Winter</td>\n",
       "      <td>0.835</td>\n",
       "      <td>2</td>\n",
       "    </tr>\n",
       "  </tbody>\n",
       "</table>\n",
       "</div>"
      ],
      "text/plain": [
       "             Id Month  Season  avg_anomaly  count_values\n",
       "Date                                                    \n",
       "2000-01-01  GLB   Dec  Winter        0.572            10\n",
       "2010-01-01  GLB   Dec  Winter        0.805            10\n",
       "2020-01-01  GLB   Dec  Winter        0.835             2"
      ]
     },
     "execution_count": 132,
     "metadata": {},
     "output_type": "execute_result"
    }
   ],
   "source": [
    "dfgt10y = dfgt[['Id','Month','Season','Anomaly']]\\\n",
    "            .groupby(['Id','Month','Season'])\\\n",
    "            .resample('10YS')\\\n",
    "            .agg(avg_anomaly = ('Anomaly','mean'),\\\n",
    "                 count_values = ('Anomaly','count'))\\\n",
    "            .round(3)\\\n",
    "            .reset_index()\\\n",
    "            .set_index('Date')\n",
    "dfgt10y.tail(3)"
   ]
  },
  {
   "cell_type": "markdown",
   "id": "af47c56e-04d6-45fa-b8a0-12684b66a37e",
   "metadata": {},
   "source": [
    "#### filter for complete decades"
   ]
  },
  {
   "cell_type": "code",
   "execution_count": 133,
   "id": "be119b5a-6027-4990-b4cc-bc67b9fecf5e",
   "metadata": {},
   "outputs": [
    {
     "data": {
      "text/html": [
       "<div>\n",
       "<style scoped>\n",
       "    .dataframe tbody tr th:only-of-type {\n",
       "        vertical-align: middle;\n",
       "    }\n",
       "\n",
       "    .dataframe tbody tr th {\n",
       "        vertical-align: top;\n",
       "    }\n",
       "\n",
       "    .dataframe thead th {\n",
       "        text-align: right;\n",
       "    }\n",
       "</style>\n",
       "<table border=\"1\" class=\"dataframe\">\n",
       "  <thead>\n",
       "    <tr style=\"text-align: right;\">\n",
       "      <th></th>\n",
       "      <th>Id</th>\n",
       "      <th>Month</th>\n",
       "      <th>Season</th>\n",
       "      <th>avg_anomaly</th>\n",
       "      <th>count_values</th>\n",
       "    </tr>\n",
       "    <tr>\n",
       "      <th>Date</th>\n",
       "      <th></th>\n",
       "      <th></th>\n",
       "      <th></th>\n",
       "      <th></th>\n",
       "      <th></th>\n",
       "    </tr>\n",
       "  </thead>\n",
       "  <tbody>\n",
       "    <tr>\n",
       "      <th>1990-01-01</th>\n",
       "      <td>GLB</td>\n",
       "      <td>Dec</td>\n",
       "      <td>Winter</td>\n",
       "      <td>0.368</td>\n",
       "      <td>10</td>\n",
       "    </tr>\n",
       "    <tr>\n",
       "      <th>2000-01-01</th>\n",
       "      <td>GLB</td>\n",
       "      <td>Dec</td>\n",
       "      <td>Winter</td>\n",
       "      <td>0.572</td>\n",
       "      <td>10</td>\n",
       "    </tr>\n",
       "    <tr>\n",
       "      <th>2010-01-01</th>\n",
       "      <td>GLB</td>\n",
       "      <td>Dec</td>\n",
       "      <td>Winter</td>\n",
       "      <td>0.805</td>\n",
       "      <td>10</td>\n",
       "    </tr>\n",
       "  </tbody>\n",
       "</table>\n",
       "</div>"
      ],
      "text/plain": [
       "             Id Month  Season  avg_anomaly  count_values\n",
       "Date                                                    \n",
       "1990-01-01  GLB   Dec  Winter        0.368            10\n",
       "2000-01-01  GLB   Dec  Winter        0.572            10\n",
       "2010-01-01  GLB   Dec  Winter        0.805            10"
      ]
     },
     "execution_count": 133,
     "metadata": {},
     "output_type": "execute_result"
    }
   ],
   "source": [
    "filt = dfgt10y[\"count_values\"]>=10\n",
    "dfgt10y = dfgt10y.loc[filt]\n",
    "dfgt10y.tail(3)"
   ]
  },
  {
   "cell_type": "code",
   "execution_count": 134,
   "id": "b2baddb7-1357-444a-b78a-04244e048295",
   "metadata": {},
   "outputs": [
    {
     "data": {
      "text/html": [
       "<div>\n",
       "<style scoped>\n",
       "    .dataframe tbody tr th:only-of-type {\n",
       "        vertical-align: middle;\n",
       "    }\n",
       "\n",
       "    .dataframe tbody tr th {\n",
       "        vertical-align: top;\n",
       "    }\n",
       "\n",
       "    .dataframe thead th {\n",
       "        text-align: right;\n",
       "    }\n",
       "</style>\n",
       "<table border=\"1\" class=\"dataframe\">\n",
       "  <thead>\n",
       "    <tr style=\"text-align: right;\">\n",
       "      <th></th>\n",
       "      <th>Id</th>\n",
       "      <th>Decade</th>\n",
       "      <th>Season</th>\n",
       "      <th>Month</th>\n",
       "      <th>avg_anomaly</th>\n",
       "    </tr>\n",
       "    <tr>\n",
       "      <th>Date</th>\n",
       "      <th></th>\n",
       "      <th></th>\n",
       "      <th></th>\n",
       "      <th></th>\n",
       "      <th></th>\n",
       "    </tr>\n",
       "  </thead>\n",
       "  <tbody>\n",
       "    <tr>\n",
       "      <th>1990-01-01</th>\n",
       "      <td>GLB</td>\n",
       "      <td>1990</td>\n",
       "      <td>Winter</td>\n",
       "      <td>Dec</td>\n",
       "      <td>0.368</td>\n",
       "    </tr>\n",
       "    <tr>\n",
       "      <th>2000-01-01</th>\n",
       "      <td>GLB</td>\n",
       "      <td>2000</td>\n",
       "      <td>Winter</td>\n",
       "      <td>Dec</td>\n",
       "      <td>0.572</td>\n",
       "    </tr>\n",
       "    <tr>\n",
       "      <th>2010-01-01</th>\n",
       "      <td>GLB</td>\n",
       "      <td>2010</td>\n",
       "      <td>Winter</td>\n",
       "      <td>Dec</td>\n",
       "      <td>0.805</td>\n",
       "    </tr>\n",
       "  </tbody>\n",
       "</table>\n",
       "</div>"
      ],
      "text/plain": [
       "             Id  Decade  Season Month  avg_anomaly\n",
       "Date                                              \n",
       "1990-01-01  GLB    1990  Winter   Dec        0.368\n",
       "2000-01-01  GLB    2000  Winter   Dec        0.572\n",
       "2010-01-01  GLB    2010  Winter   Dec        0.805"
      ]
     },
     "execution_count": 134,
     "metadata": {},
     "output_type": "execute_result"
    }
   ],
   "source": [
    "dfgt10y['Decade'] = dfgt10y.index.year # add Decade column to decades df\n",
    "dfgt10y = dfgt10y[['Id','Decade','Season','Month','avg_anomaly']] # reorder columns\n",
    "dfgt10y.tail(3)"
   ]
  },
  {
   "cell_type": "markdown",
   "id": "9c6b898c-b4c9-473e-b097-5187cb49a035",
   "metadata": {
    "toc-hr-collapsed": true
   },
   "source": [
    "<a id='pd-visualize'></a>\n",
    "## Visualize"
   ]
  },
  {
   "cell_type": "markdown",
   "id": "3d9285a6-e154-41ea-b81b-e8675b6d36a3",
   "metadata": {},
   "source": [
    "[Return to Start of Notebook](#pd)  "
   ]
  },
  {
   "cell_type": "markdown",
   "id": "1641934e-495d-4d06-9351-db7f29f01e2c",
   "metadata": {
    "tags": []
   },
   "source": [
    "### scatter plot"
   ]
  },
  {
   "cell_type": "code",
   "execution_count": 135,
   "id": "fd4f8db4-ee59-4b04-81f4-241c3d71e543",
   "metadata": {},
   "outputs": [
    {
     "data": {
      "image/png": "[encoded data removed]",
      "text/plain": [
       "<Figure size 1152x576 with 2 Axes>"
      ]
     },
     "metadata": {},
     "output_type": "display_data"
    }
   ],
   "source": [
    "divnorm = colors.TwoSlopeNorm(vmin=dfgt['Anomaly'].max()*-1,\n",
    "                              vcenter=0.,\n",
    "                              vmax=dfgt['Anomaly'].max())\n",
    "g = sns.relplot(\n",
    "    kind=\"scatter\", height=4, aspect=2,\n",
    "    data=dfgt, x='Year', y='Anomaly',hue='Anomaly', legend=False, palette=\"coolwarm\", hue_norm=divnorm)\n",
    "g.set(title=\"Global Temperature Anomalies\", xlabel=\"\", ylabel=\"Degrees (C)\")\n",
    "\n",
    "sm = plt.cm.ScalarMappable(cmap='coolwarm', norm=divnorm)\n",
    "for ax in g.axes.flat:\n",
    "    ax.figure.colorbar(sm)"
   ]
  },
  {
   "cell_type": "markdown",
   "id": "3dd8250a-f0bf-41f8-b4a6-66ab9626f44f",
   "metadata": {},
   "source": [
    "### line plot"
   ]
  },
  {
   "cell_type": "code",
   "execution_count": 136,
   "id": "52424c11-9846-49d5-892b-05f50d34f703",
   "metadata": {},
   "outputs": [
    {
     "data": {
      "image/png": "[encoded data removed]",
      "text/plain": [
       "<Figure size 1152x576 with 4 Axes>"
      ]
     },
     "metadata": {},
     "output_type": "display_data"
    }
   ],
   "source": [
    "g = sns.relplot(\n",
    "    kind=\"line\", height=2, aspect=2,\n",
    "    data=dfgt, x='Date', y='Anomaly',\n",
    "    hue='Season', hue_order=seasons,\n",
    "    palette=seaborn_viridis_palette,\n",
    "    col='Season', col_wrap=2, legend=False)\n",
    "g.set(xlabel='', ylabel = \"Degrees (C)\");\n",
    "g.fig.suptitle('Global Temperature Anomalies', y=1.03);\n",
    "for col_key, ax in g.axes_dict.items():\n",
    "    ax.set_title(col_key)"
   ]
  },
  {
   "cell_type": "markdown",
   "id": "83273ea6-313d-4456-9ce7-ccedd393279f",
   "metadata": {
    "tags": []
   },
   "source": [
    "### bar plot"
   ]
  },
  {
   "cell_type": "code",
   "execution_count": 137,
   "id": "69143859-42b7-446a-8738-058d0a5feb8c",
   "metadata": {},
   "outputs": [
    {
     "data": {
      "text/plain": [
       "<seaborn.axisgrid.FacetGrid at 0x191482d7b50>"
      ]
     },
     "execution_count": 137,
     "metadata": {},
     "output_type": "execute_result"
    },
    {
     "data": {
      "image/png": "[encoded data removed]",
      "text/plain": [
       "<Figure size 864x576 with 1 Axes>"
      ]
     },
     "metadata": {},
     "output_type": "display_data"
    }
   ],
   "source": [
    "g = sns.catplot(\n",
    "    kind=\"bar\", height=4, aspect=1.5,\n",
    "    data=dfgt, x='Season', y='Anomaly',\n",
    "    ci=None, edgecolor = 'black', saturation=1.0, lw=0.5,\n",
    "    order=seasons, palette=seaborn_viridis_palette, legend=False)\n",
    "g.set(title = \"Global Temperature Anomalies\", xlabel=\"\", ylabel = \"Degrees (C)\")"
   ]
  },
  {
   "cell_type": "markdown",
   "id": "05bd6d57-5c9f-4bc9-80f4-219407fe650e",
   "metadata": {
    "tags": []
   },
   "source": [
    "### boxplots"
   ]
  },
  {
   "cell_type": "code",
   "execution_count": 138,
   "id": "2f35d967-14ab-4c5d-a5f9-d706b950aa0b",
   "metadata": {},
   "outputs": [
    {
     "data": {
      "text/html": [
       "<div>\n",
       "<style scoped>\n",
       "    .dataframe tbody tr th:only-of-type {\n",
       "        vertical-align: middle;\n",
       "    }\n",
       "\n",
       "    .dataframe tbody tr th {\n",
       "        vertical-align: top;\n",
       "    }\n",
       "\n",
       "    .dataframe thead th {\n",
       "        text-align: right;\n",
       "    }\n",
       "</style>\n",
       "<table border=\"1\" class=\"dataframe\">\n",
       "  <thead>\n",
       "    <tr style=\"text-align: right;\">\n",
       "      <th></th>\n",
       "      <th>Id</th>\n",
       "      <th>Year</th>\n",
       "      <th>Season</th>\n",
       "      <th>Month</th>\n",
       "      <th>Anomaly</th>\n",
       "    </tr>\n",
       "    <tr>\n",
       "      <th>Date</th>\n",
       "      <th></th>\n",
       "      <th></th>\n",
       "      <th></th>\n",
       "      <th></th>\n",
       "      <th></th>\n",
       "    </tr>\n",
       "  </thead>\n",
       "  <tbody>\n",
       "    <tr>\n",
       "      <th>1880-01-01</th>\n",
       "      <td>GLB</td>\n",
       "      <td>1880</td>\n",
       "      <td>Winter</td>\n",
       "      <td>Jan</td>\n",
       "      <td>-0.18</td>\n",
       "    </tr>\n",
       "    <tr>\n",
       "      <th>1880-02-01</th>\n",
       "      <td>GLB</td>\n",
       "      <td>1880</td>\n",
       "      <td>Winter</td>\n",
       "      <td>Feb</td>\n",
       "      <td>-0.24</td>\n",
       "    </tr>\n",
       "    <tr>\n",
       "      <th>1880-03-01</th>\n",
       "      <td>GLB</td>\n",
       "      <td>1880</td>\n",
       "      <td>Spring</td>\n",
       "      <td>Mar</td>\n",
       "      <td>-0.08</td>\n",
       "    </tr>\n",
       "    <tr>\n",
       "      <th>1880-04-01</th>\n",
       "      <td>GLB</td>\n",
       "      <td>1880</td>\n",
       "      <td>Spring</td>\n",
       "      <td>Apr</td>\n",
       "      <td>-0.16</td>\n",
       "    </tr>\n",
       "    <tr>\n",
       "      <th>1880-05-01</th>\n",
       "      <td>GLB</td>\n",
       "      <td>1880</td>\n",
       "      <td>Spring</td>\n",
       "      <td>May</td>\n",
       "      <td>-0.09</td>\n",
       "    </tr>\n",
       "  </tbody>\n",
       "</table>\n",
       "</div>"
      ],
      "text/plain": [
       "             Id  Year  Season Month  Anomaly\n",
       "Date                                        \n",
       "1880-01-01  GLB  1880  Winter   Jan    -0.18\n",
       "1880-02-01  GLB  1880  Winter   Feb    -0.24\n",
       "1880-03-01  GLB  1880  Spring   Mar    -0.08\n",
       "1880-04-01  GLB  1880  Spring   Apr    -0.16\n",
       "1880-05-01  GLB  1880  Spring   May    -0.09"
      ]
     },
     "execution_count": 138,
     "metadata": {},
     "output_type": "execute_result"
    }
   ],
   "source": [
    "dfgt.head()"
   ]
  },
  {
   "cell_type": "code",
   "execution_count": 139,
   "id": "c36e1948-189f-41f6-b788-1e235d41ee4a",
   "metadata": {},
   "outputs": [
    {
     "data": {
      "text/plain": [
       "<seaborn.axisgrid.FacetGrid at 0x19149043730>"
      ]
     },
     "execution_count": 139,
     "metadata": {},
     "output_type": "execute_result"
    },
    {
     "data": {
      "image/png": "[encoded data removed]",
      "text/plain": [
       "<Figure size 864x432 with 1 Axes>"
      ]
     },
     "metadata": {},
     "output_type": "display_data"
    }
   ],
   "source": [
    "sns.set_style('darkgrid')\n",
    "\n",
    "g = sns.catplot(\n",
    "    kind=\"box\", height=3, aspect=2,\n",
    "    data=dfgt, y='Season', x='Anomaly',\n",
    "    palette=seaborn_viridis_palette, saturation=1.0,\n",
    "    )\n",
    "g.set(title = \"Global Temperature Anomalies\", ylabel=\"\", xlabel = \"Degrees (C)\")   "
   ]
  },
  {
   "cell_type": "markdown",
   "id": "0ef01119-f702-41b9-8991-c7e02f878c17",
   "metadata": {
    "tags": []
   },
   "source": [
    "### histograms"
   ]
  },
  {
   "cell_type": "code",
   "execution_count": 140,
   "id": "4b44060a-8275-4325-93a2-80ddab32e0d0",
   "metadata": {},
   "outputs": [
    {
     "data": {
      "text/plain": [
       "<seaborn.axisgrid.FacetGrid at 0x19148f75d50>"
      ]
     },
     "execution_count": 140,
     "metadata": {},
     "output_type": "execute_result"
    },
    {
     "data": {
      "image/png": "[encoded data removed]",
      "text/plain": [
       "<Figure size 864x432 with 1 Axes>"
      ]
     },
     "metadata": {},
     "output_type": "display_data"
    }
   ],
   "source": [
    "g = sns.displot(\n",
    "    kind=\"hist\", height=3, aspect=2,\n",
    "    data=dfgt, x='Anomaly')\n",
    "g.set(title = \"Global Temperature Anomalies\",  xlabel = \"Degrees (C)\")  "
   ]
  },
  {
   "cell_type": "markdown",
   "id": "e552169a-296f-44df-b20f-7a7655bd0c9e",
   "metadata": {
    "tags": []
   },
   "source": [
    "<a id='pd-export'></a>\n",
    "## Export"
   ]
  },
  {
   "cell_type": "markdown",
   "id": "08eb3aea-ad37-4d70-9502-e63df7fda74f",
   "metadata": {},
   "source": [
    "[Return to Start of Notebook](#pd)  "
   ]
  },
  {
   "cell_type": "code",
   "execution_count": 141,
   "id": "b018b997-c8ec-41bd-ab56-999d7370a871",
   "metadata": {},
   "outputs": [],
   "source": [
    "save_path = os.path.join(save_dir, 'global_temp_anomalies_10yr.csv')\n",
    "dfgt10y.to_csv(save_path, header=True, index=True, sep=',')"
   ]
  },
  {
   "cell_type": "code",
   "execution_count": null,
   "id": "db738b68-a5c0-4879-b411-6e40ae70cd2d",
   "metadata": {},
   "outputs": [],
   "source": []
  },
  {
   "cell_type": "code",
   "execution_count": null,
   "id": "7a9e6a3d-722d-4bbe-8813-71d2be0797f7",
   "metadata": {},
   "outputs": [],
   "source": []
  }
 ],
 "metadata": {
  "interpreter": {
   "hash": "a242e183465bb9023de0138d2b64ba329c59b510ac4eb42cc190969549979312"
  },
  "kernelspec": {
   "display_name": "Python 3 (ipykernel)",
   "language": "python",
   "name": "python3"
  },
  "language_info": {
   "codemirror_mode": {
    "name": "ipython",
    "version": 3
   },
   "file_extension": ".py",
   "mimetype": "text/x-python",
   "name": "python",
   "nbconvert_exporter": "python",
   "pygments_lexer": "ipython3",
   "version": "3.10.4"
  },
  "toc-autonumbering": false
 },
 "nbformat": 4,
 "nbformat_minor": 5
}
