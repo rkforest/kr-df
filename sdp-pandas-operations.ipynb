{
 "cells": [
  {
   "cell_type": "markdown",
   "id": "8fb82884",
   "metadata": {
    "tags": []
   },
   "source": [
    "<a id='pd-ops'></a>  \n",
    "# Pandas Operations  \n",
    "- concatenate  \n",
    "- summarize  \n",
    "- apply  \n",
    "- join  \n",
    "- aggregate"
   ]
  },
  {
   "cell_type": "markdown",
   "id": "39c3b93f-bfc4-4987-87d5-cb0d4a887569",
   "metadata": {},
   "source": [
    "[Create](#pd-ops-create)  \n",
    "[Import](#pd-ops-import)  \n",
    "\n",
    "[Concatenate](#pd-ops-concatenate)  \n",
    "[Summarize](#pd-ops-summarize)  \n",
    "[Apply](#pd-ops-apply)  \n",
    "[Join](#pd-ops-join)   \n",
    "[Aggregate](#pd-ops-aggregate)    \n",
    "\n",
    "[Exercise](#pd-ops-exercise) "
   ]
  },
  {
   "cell_type": "markdown",
   "id": "8a6db74b-dfcc-42e0-b94a-041d1774cc7b",
   "metadata": {},
   "source": [
    "## Libraries"
   ]
  },
  {
   "cell_type": "code",
   "execution_count": 1,
   "id": "hungarian-longer",
   "metadata": {
    "tags": []
   },
   "outputs": [],
   "source": [
    "import os\n",
    "import numpy as np\n",
    "import pandas as pd\n",
    "import matplotlib.pyplot as plt"
   ]
  },
  {
   "cell_type": "raw",
   "id": "a8bce812-ddd7-4384-94ce-f7e2e5429456",
   "metadata": {},
   "source": [
    "pd.__version__"
   ]
  },
  {
   "cell_type": "markdown",
   "id": "a009f371-7a1d-4379-8854-9125a54847a6",
   "metadata": {
    "tags": []
   },
   "source": [
    "## Parameters"
   ]
  },
  {
   "cell_type": "raw",
   "id": "f3c8ba2e-444f-41de-a9b5-18b102983b91",
   "metadata": {},
   "source": [
    "# shows result of cell without needing print\n",
    "from IPython.core.interactiveshell import InteractiveShell\n",
    "InteractiveShell.ast_node_interactivity = \"last_expr_or_assign\""
   ]
  },
  {
   "cell_type": "code",
   "execution_count": 2,
   "id": "8000dfbb-350e-4859-8311-abebe0a7dfdb",
   "metadata": {},
   "outputs": [],
   "source": [
    "pd.set_option('display.max_rows',10)\n",
    "#defaults: pd.set_option('display.max_columns',20,'display.max_rows',60,'display.max_colwidth',50)"
   ]
  },
  {
   "cell_type": "markdown",
   "id": "57a732de",
   "metadata": {
    "tags": []
   },
   "source": [
    "## Directories"
   ]
  },
  {
   "cell_type": "code",
   "execution_count": 3,
   "id": "c7b2df80-6d08-4601-ae78-7aaf6ecc302a",
   "metadata": {
    "tags": []
   },
   "outputs": [
    {
     "data": {
      "text/plain": [
       "'C:\\\\Users\\\\rick\\\\eda\\\\spdp'"
      ]
     },
     "execution_count": 3,
     "metadata": {},
     "output_type": "execute_result"
    }
   ],
   "source": [
    "home_dir = home_dir = os.path.expanduser(\"~\")\n",
    "work_dir = os.path.join(home_dir, 'eda', 'spdp')\n",
    "data_dir = os.path.join(work_dir,'data') \n",
    "os.chdir(work_dir)\n",
    "os.getcwd()"
   ]
  },
  {
   "cell_type": "markdown",
   "id": "f346623c-4961-45f3-8eb2-e686969c9c75",
   "metadata": {},
   "source": [
    "<a id='pd-ops-create'></a>\n",
    "## Create"
   ]
  },
  {
   "cell_type": "markdown",
   "id": "6d13e8d0-d752-46e0-a288-e4f2cf05c41f",
   "metadata": {},
   "source": [
    "[Return to Start of Notebook](#pd-ops)  "
   ]
  },
  {
   "cell_type": "code",
   "execution_count": 4,
   "id": "5bb1dfba-c0f0-460d-b9cb-0796cd61359b",
   "metadata": {},
   "outputs": [
    {
     "data": {
      "text/html": [
       "<div>\n",
       "<style scoped>\n",
       "    .dataframe tbody tr th:only-of-type {\n",
       "        vertical-align: middle;\n",
       "    }\n",
       "\n",
       "    .dataframe tbody tr th {\n",
       "        vertical-align: top;\n",
       "    }\n",
       "\n",
       "    .dataframe thead th {\n",
       "        text-align: right;\n",
       "    }\n",
       "</style>\n",
       "<table border=\"1\" class=\"dataframe\">\n",
       "  <thead>\n",
       "    <tr style=\"text-align: right;\">\n",
       "      <th></th>\n",
       "      <th>name</th>\n",
       "      <th>city</th>\n",
       "      <th>lines</th>\n",
       "      <th>piano</th>\n",
       "      <th>lon</th>\n",
       "      <th>lat</th>\n",
       "    </tr>\n",
       "  </thead>\n",
       "  <tbody>\n",
       "    <tr>\n",
       "      <th>0</th>\n",
       "      <td>Beer-Sheva Center</td>\n",
       "      <td>Beer-Sheva</td>\n",
       "      <td>4</td>\n",
       "      <td>False</td>\n",
       "      <td>34.798443</td>\n",
       "      <td>31.243288</td>\n",
       "    </tr>\n",
       "    <tr>\n",
       "      <th>1</th>\n",
       "      <td>Beer-Sheva University</td>\n",
       "      <td>Beer-Sheva</td>\n",
       "      <td>5</td>\n",
       "      <td>True</td>\n",
       "      <td>34.812831</td>\n",
       "      <td>31.260284</td>\n",
       "    </tr>\n",
       "    <tr>\n",
       "      <th>2</th>\n",
       "      <td>Dimona</td>\n",
       "      <td>Dimona</td>\n",
       "      <td>1</td>\n",
       "      <td>False</td>\n",
       "      <td>35.011635</td>\n",
       "      <td>31.068616</td>\n",
       "    </tr>\n",
       "  </tbody>\n",
       "</table>\n",
       "</div>"
      ],
      "text/plain": [
       "                    name        city  lines  piano        lon        lat\n",
       "0      Beer-Sheva Center  Beer-Sheva      4  False  34.798443  31.243288\n",
       "1  Beer-Sheva University  Beer-Sheva      5   True  34.812831  31.260284\n",
       "2                 Dimona      Dimona      1  False  35.011635  31.068616"
      ]
     },
     "execution_count": 4,
     "metadata": {},
     "output_type": "execute_result"
    }
   ],
   "source": [
    "name = pd.Series([\"Beer-Sheva Center\", \"Beer-Sheva University\", \"Dimona\"], name = \"name\")\n",
    "city = pd.Series([\"Beer-Sheva\", \"Beer-Sheva\", \"Dimona\"])\n",
    "lines = np.array([4, 5, 1])\n",
    "piano = pd.Series([False, True, False])\n",
    "lon = pd.Series([34.798443, 34.812831, 35.011635])\n",
    "lat = pd.Series([31.243288, 31.260284, 31.068616])\n",
    "d = dict(name = name, city = city, lines = lines, piano = piano, lon = lon, lat = lat)\n",
    "stations = pd.DataFrame(d)\n",
    "stations"
   ]
  },
  {
   "cell_type": "code",
   "execution_count": 5,
   "id": "569ae275-818a-4ffc-a44c-fbfbbf3aae41",
   "metadata": {},
   "outputs": [
    {
     "data": {
      "text/html": [
       "<div>\n",
       "<style scoped>\n",
       "    .dataframe tbody tr th:only-of-type {\n",
       "        vertical-align: middle;\n",
       "    }\n",
       "\n",
       "    .dataframe tbody tr th {\n",
       "        vertical-align: top;\n",
       "    }\n",
       "\n",
       "    .dataframe thead th {\n",
       "        text-align: right;\n",
       "    }\n",
       "</style>\n",
       "<table border=\"1\" class=\"dataframe\">\n",
       "  <thead>\n",
       "    <tr style=\"text-align: right;\">\n",
       "      <th></th>\n",
       "      <th>name</th>\n",
       "      <th>status</th>\n",
       "    </tr>\n",
       "  </thead>\n",
       "  <tbody>\n",
       "    <tr>\n",
       "      <th>0</th>\n",
       "      <td>Beer-Sheva Center</td>\n",
       "      <td>Closed</td>\n",
       "    </tr>\n",
       "    <tr>\n",
       "      <th>1</th>\n",
       "      <td>Beer-Sheva University</td>\n",
       "      <td>Open</td>\n",
       "    </tr>\n",
       "    <tr>\n",
       "      <th>2</th>\n",
       "      <td>Tel-Aviv University</td>\n",
       "      <td>Open</td>\n",
       "    </tr>\n",
       "  </tbody>\n",
       "</table>\n",
       "</div>"
      ],
      "text/plain": [
       "                    name  status\n",
       "0      Beer-Sheva Center  Closed\n",
       "1  Beer-Sheva University    Open\n",
       "2    Tel-Aviv University    Open"
      ]
     },
     "execution_count": 5,
     "metadata": {},
     "output_type": "execute_result"
    }
   ],
   "source": [
    "name = pd.Series([\"Beer-Sheva Center\", \"Beer-Sheva University\", \"Tel-Aviv University\"], name = \"name\")\n",
    "status = pd.Series([\"Closed\", \"Open\", \"Open\"])\n",
    "d = dict(name = name, status = status)\n",
    "station_status = pd.DataFrame(d)\n",
    "station_status"
   ]
  },
  {
   "cell_type": "markdown",
   "id": "e91860f1-d0f9-4ba5-bd63-6ce2d19c26bd",
   "metadata": {},
   "source": [
    "<a id='pd-ops-import'></a>\n",
    "## Import"
   ]
  },
  {
   "cell_type": "markdown",
   "id": "408395c0-21d5-4798-8fea-84183cbc5056",
   "metadata": {},
   "source": [
    "[Return to Start of Notebook](#pd-ops)  "
   ]
  },
  {
   "cell_type": "code",
   "execution_count": 6,
   "id": "7ab58ad1-1158-4da7-8d80-7604adbe3b1b",
   "metadata": {},
   "outputs": [
    {
     "data": {
      "text/html": [
       "<div>\n",
       "<style scoped>\n",
       "    .dataframe tbody tr th:only-of-type {\n",
       "        vertical-align: middle;\n",
       "    }\n",
       "\n",
       "    .dataframe tbody tr th {\n",
       "        vertical-align: top;\n",
       "    }\n",
       "\n",
       "    .dataframe thead th {\n",
       "        text-align: right;\n",
       "    }\n",
       "</style>\n",
       "<table border=\"1\" class=\"dataframe\">\n",
       "  <thead>\n",
       "    <tr style=\"text-align: right;\">\n",
       "      <th></th>\n",
       "      <th>Year</th>\n",
       "      <th>Glob</th>\n",
       "      <th>NHem</th>\n",
       "      <th>SHem</th>\n",
       "      <th>24N-90N</th>\n",
       "      <th>24S-24N</th>\n",
       "      <th>90S-24S</th>\n",
       "      <th>64N-90N</th>\n",
       "      <th>44N-64N</th>\n",
       "      <th>24N-44N</th>\n",
       "      <th>EQU-24N</th>\n",
       "      <th>24S-EQU</th>\n",
       "      <th>44S-24S</th>\n",
       "      <th>64S-44S</th>\n",
       "      <th>90S-64S</th>\n",
       "    </tr>\n",
       "  </thead>\n",
       "  <tbody>\n",
       "    <tr>\n",
       "      <th>0</th>\n",
       "      <td>1880</td>\n",
       "      <td>-0.16</td>\n",
       "      <td>-0.27</td>\n",
       "      <td>-0.04</td>\n",
       "      <td>-0.34</td>\n",
       "      <td>-0.13</td>\n",
       "      <td>-0.01</td>\n",
       "      <td>-0.81</td>\n",
       "      <td>-0.42</td>\n",
       "      <td>-0.26</td>\n",
       "      <td>-0.16</td>\n",
       "      <td>-0.10</td>\n",
       "      <td>-0.02</td>\n",
       "      <td>0.05</td>\n",
       "      <td>0.65</td>\n",
       "    </tr>\n",
       "    <tr>\n",
       "      <th>1</th>\n",
       "      <td>1881</td>\n",
       "      <td>-0.07</td>\n",
       "      <td>-0.16</td>\n",
       "      <td>0.01</td>\n",
       "      <td>-0.32</td>\n",
       "      <td>0.10</td>\n",
       "      <td>-0.06</td>\n",
       "      <td>-0.91</td>\n",
       "      <td>-0.39</td>\n",
       "      <td>-0.18</td>\n",
       "      <td>0.09</td>\n",
       "      <td>0.11</td>\n",
       "      <td>-0.04</td>\n",
       "      <td>-0.07</td>\n",
       "      <td>0.58</td>\n",
       "    </tr>\n",
       "    <tr>\n",
       "      <th>2</th>\n",
       "      <td>1882</td>\n",
       "      <td>-0.10</td>\n",
       "      <td>-0.20</td>\n",
       "      <td>0.00</td>\n",
       "      <td>-0.28</td>\n",
       "      <td>-0.05</td>\n",
       "      <td>0.02</td>\n",
       "      <td>-1.40</td>\n",
       "      <td>-0.22</td>\n",
       "      <td>-0.13</td>\n",
       "      <td>-0.05</td>\n",
       "      <td>-0.04</td>\n",
       "      <td>0.03</td>\n",
       "      <td>0.04</td>\n",
       "      <td>0.61</td>\n",
       "    </tr>\n",
       "    <tr>\n",
       "      <th>3</th>\n",
       "      <td>1883</td>\n",
       "      <td>-0.16</td>\n",
       "      <td>-0.26</td>\n",
       "      <td>-0.06</td>\n",
       "      <td>-0.31</td>\n",
       "      <td>-0.16</td>\n",
       "      <td>0.00</td>\n",
       "      <td>-0.19</td>\n",
       "      <td>-0.51</td>\n",
       "      <td>-0.23</td>\n",
       "      <td>-0.18</td>\n",
       "      <td>-0.15</td>\n",
       "      <td>-0.03</td>\n",
       "      <td>0.07</td>\n",
       "      <td>0.48</td>\n",
       "    </tr>\n",
       "    <tr>\n",
       "      <th>4</th>\n",
       "      <td>1884</td>\n",
       "      <td>-0.28</td>\n",
       "      <td>-0.42</td>\n",
       "      <td>-0.14</td>\n",
       "      <td>-0.59</td>\n",
       "      <td>-0.15</td>\n",
       "      <td>-0.13</td>\n",
       "      <td>-1.31</td>\n",
       "      <td>-0.60</td>\n",
       "      <td>-0.46</td>\n",
       "      <td>-0.13</td>\n",
       "      <td>-0.16</td>\n",
       "      <td>-0.18</td>\n",
       "      <td>-0.02</td>\n",
       "      <td>0.63</td>\n",
       "    </tr>\n",
       "    <tr>\n",
       "      <th>...</th>\n",
       "      <td>...</td>\n",
       "      <td>...</td>\n",
       "      <td>...</td>\n",
       "      <td>...</td>\n",
       "      <td>...</td>\n",
       "      <td>...</td>\n",
       "      <td>...</td>\n",
       "      <td>...</td>\n",
       "      <td>...</td>\n",
       "      <td>...</td>\n",
       "      <td>...</td>\n",
       "      <td>...</td>\n",
       "      <td>...</td>\n",
       "      <td>...</td>\n",
       "      <td>...</td>\n",
       "    </tr>\n",
       "    <tr>\n",
       "      <th>136</th>\n",
       "      <td>2016</td>\n",
       "      <td>1.02</td>\n",
       "      <td>1.31</td>\n",
       "      <td>0.73</td>\n",
       "      <td>1.55</td>\n",
       "      <td>1.02</td>\n",
       "      <td>0.49</td>\n",
       "      <td>3.26</td>\n",
       "      <td>1.44</td>\n",
       "      <td>1.08</td>\n",
       "      <td>0.96</td>\n",
       "      <td>1.07</td>\n",
       "      <td>0.67</td>\n",
       "      <td>0.25</td>\n",
       "      <td>0.37</td>\n",
       "    </tr>\n",
       "    <tr>\n",
       "      <th>137</th>\n",
       "      <td>2017</td>\n",
       "      <td>0.93</td>\n",
       "      <td>1.18</td>\n",
       "      <td>0.67</td>\n",
       "      <td>1.40</td>\n",
       "      <td>0.82</td>\n",
       "      <td>0.59</td>\n",
       "      <td>2.54</td>\n",
       "      <td>1.38</td>\n",
       "      <td>1.05</td>\n",
       "      <td>0.87</td>\n",
       "      <td>0.78</td>\n",
       "      <td>0.76</td>\n",
       "      <td>0.34</td>\n",
       "      <td>0.52</td>\n",
       "    </tr>\n",
       "    <tr>\n",
       "      <th>138</th>\n",
       "      <td>2018</td>\n",
       "      <td>0.85</td>\n",
       "      <td>1.05</td>\n",
       "      <td>0.66</td>\n",
       "      <td>1.26</td>\n",
       "      <td>0.68</td>\n",
       "      <td>0.68</td>\n",
       "      <td>2.17</td>\n",
       "      <td>1.10</td>\n",
       "      <td>1.06</td>\n",
       "      <td>0.73</td>\n",
       "      <td>0.63</td>\n",
       "      <td>0.80</td>\n",
       "      <td>0.37</td>\n",
       "      <td>0.93</td>\n",
       "    </tr>\n",
       "    <tr>\n",
       "      <th>139</th>\n",
       "      <td>2019</td>\n",
       "      <td>0.99</td>\n",
       "      <td>1.22</td>\n",
       "      <td>0.75</td>\n",
       "      <td>1.43</td>\n",
       "      <td>0.91</td>\n",
       "      <td>0.65</td>\n",
       "      <td>2.72</td>\n",
       "      <td>1.44</td>\n",
       "      <td>1.01</td>\n",
       "      <td>0.91</td>\n",
       "      <td>0.90</td>\n",
       "      <td>0.75</td>\n",
       "      <td>0.39</td>\n",
       "      <td>0.85</td>\n",
       "    </tr>\n",
       "    <tr>\n",
       "      <th>140</th>\n",
       "      <td>2020</td>\n",
       "      <td>1.02</td>\n",
       "      <td>1.36</td>\n",
       "      <td>0.69</td>\n",
       "      <td>1.68</td>\n",
       "      <td>0.87</td>\n",
       "      <td>0.57</td>\n",
       "      <td>2.91</td>\n",
       "      <td>1.82</td>\n",
       "      <td>1.20</td>\n",
       "      <td>0.89</td>\n",
       "      <td>0.85</td>\n",
       "      <td>0.58</td>\n",
       "      <td>0.39</td>\n",
       "      <td>0.91</td>\n",
       "    </tr>\n",
       "  </tbody>\n",
       "</table>\n",
       "<p>141 rows × 15 columns</p>\n",
       "</div>"
      ],
      "text/plain": [
       "     Year  Glob  NHem  SHem  24N-90N  24S-24N  90S-24S  64N-90N  44N-64N  \\\n",
       "0    1880 -0.16 -0.27 -0.04    -0.34    -0.13    -0.01    -0.81    -0.42   \n",
       "1    1881 -0.07 -0.16  0.01    -0.32     0.10    -0.06    -0.91    -0.39   \n",
       "2    1882 -0.10 -0.20  0.00    -0.28    -0.05     0.02    -1.40    -0.22   \n",
       "3    1883 -0.16 -0.26 -0.06    -0.31    -0.16     0.00    -0.19    -0.51   \n",
       "4    1884 -0.28 -0.42 -0.14    -0.59    -0.15    -0.13    -1.31    -0.60   \n",
       "..    ...   ...   ...   ...      ...      ...      ...      ...      ...   \n",
       "136  2016  1.02  1.31  0.73     1.55     1.02     0.49     3.26     1.44   \n",
       "137  2017  0.93  1.18  0.67     1.40     0.82     0.59     2.54     1.38   \n",
       "138  2018  0.85  1.05  0.66     1.26     0.68     0.68     2.17     1.10   \n",
       "139  2019  0.99  1.22  0.75     1.43     0.91     0.65     2.72     1.44   \n",
       "140  2020  1.02  1.36  0.69     1.68     0.87     0.57     2.91     1.82   \n",
       "\n",
       "     24N-44N  EQU-24N  24S-EQU  44S-24S  64S-44S  90S-64S  \n",
       "0      -0.26    -0.16    -0.10    -0.02     0.05     0.65  \n",
       "1      -0.18     0.09     0.11    -0.04    -0.07     0.58  \n",
       "2      -0.13    -0.05    -0.04     0.03     0.04     0.61  \n",
       "3      -0.23    -0.18    -0.15    -0.03     0.07     0.48  \n",
       "4      -0.46    -0.13    -0.16    -0.18    -0.02     0.63  \n",
       "..       ...      ...      ...      ...      ...      ...  \n",
       "136     1.08     0.96     1.07     0.67     0.25     0.37  \n",
       "137     1.05     0.87     0.78     0.76     0.34     0.52  \n",
       "138     1.06     0.73     0.63     0.80     0.37     0.93  \n",
       "139     1.01     0.91     0.90     0.75     0.39     0.85  \n",
       "140     1.20     0.89     0.85     0.58     0.39     0.91  \n",
       "\n",
       "[141 rows x 15 columns]"
      ]
     },
     "execution_count": 6,
     "metadata": {},
     "output_type": "execute_result"
    }
   ],
   "source": [
    "dat = pd.read_csv(\"data/ZonAnn.Ts+dSST.csv\")\n",
    "dat"
   ]
  },
  {
   "cell_type": "code",
   "execution_count": 7,
   "id": "f6cce744-7595-4ac3-a92b-b46f69a16d8b",
   "metadata": {},
   "outputs": [
    {
     "data": {
      "text/html": [
       "<div>\n",
       "<style scoped>\n",
       "    .dataframe tbody tr th:only-of-type {\n",
       "        vertical-align: middle;\n",
       "    }\n",
       "\n",
       "    .dataframe tbody tr th {\n",
       "        vertical-align: top;\n",
       "    }\n",
       "\n",
       "    .dataframe thead th {\n",
       "        text-align: right;\n",
       "    }\n",
       "</style>\n",
       "<table border=\"1\" class=\"dataframe\">\n",
       "  <thead>\n",
       "    <tr style=\"text-align: right;\">\n",
       "      <th></th>\n",
       "      <th>city</th>\n",
       "      <th>country</th>\n",
       "      <th>pop</th>\n",
       "      <th>lat</th>\n",
       "      <th>lon</th>\n",
       "      <th>capital</th>\n",
       "    </tr>\n",
       "  </thead>\n",
       "  <tbody>\n",
       "    <tr>\n",
       "      <th>0</th>\n",
       "      <td>'Abasan al-Jadidah</td>\n",
       "      <td>Palestine</td>\n",
       "      <td>5629</td>\n",
       "      <td>31.31</td>\n",
       "      <td>34.34</td>\n",
       "      <td>0</td>\n",
       "    </tr>\n",
       "    <tr>\n",
       "      <th>1</th>\n",
       "      <td>'Abasan al-Kabirah</td>\n",
       "      <td>Palestine</td>\n",
       "      <td>18999</td>\n",
       "      <td>31.32</td>\n",
       "      <td>34.35</td>\n",
       "      <td>0</td>\n",
       "    </tr>\n",
       "    <tr>\n",
       "      <th>2</th>\n",
       "      <td>'Abdul Hakim</td>\n",
       "      <td>Pakistan</td>\n",
       "      <td>47788</td>\n",
       "      <td>30.55</td>\n",
       "      <td>72.11</td>\n",
       "      <td>0</td>\n",
       "    </tr>\n",
       "    <tr>\n",
       "      <th>3</th>\n",
       "      <td>'Abdullah-as-Salam</td>\n",
       "      <td>Kuwait</td>\n",
       "      <td>21817</td>\n",
       "      <td>29.36</td>\n",
       "      <td>47.98</td>\n",
       "      <td>0</td>\n",
       "    </tr>\n",
       "    <tr>\n",
       "      <th>4</th>\n",
       "      <td>'Abud</td>\n",
       "      <td>Palestine</td>\n",
       "      <td>2456</td>\n",
       "      <td>32.03</td>\n",
       "      <td>35.07</td>\n",
       "      <td>0</td>\n",
       "    </tr>\n",
       "    <tr>\n",
       "      <th>...</th>\n",
       "      <td>...</td>\n",
       "      <td>...</td>\n",
       "      <td>...</td>\n",
       "      <td>...</td>\n",
       "      <td>...</td>\n",
       "      <td>...</td>\n",
       "    </tr>\n",
       "    <tr>\n",
       "      <th>43640</th>\n",
       "      <td>az-Zubayr</td>\n",
       "      <td>Iraq</td>\n",
       "      <td>124611</td>\n",
       "      <td>30.39</td>\n",
       "      <td>47.71</td>\n",
       "      <td>0</td>\n",
       "    </tr>\n",
       "    <tr>\n",
       "      <th>43641</th>\n",
       "      <td>az-Zulfi</td>\n",
       "      <td>Saudi Arabia</td>\n",
       "      <td>54070</td>\n",
       "      <td>26.30</td>\n",
       "      <td>44.80</td>\n",
       "      <td>0</td>\n",
       "    </tr>\n",
       "    <tr>\n",
       "      <th>43642</th>\n",
       "      <td>az-Zuwaytinah</td>\n",
       "      <td>Libya</td>\n",
       "      <td>21984</td>\n",
       "      <td>30.95</td>\n",
       "      <td>20.12</td>\n",
       "      <td>0</td>\n",
       "    </tr>\n",
       "    <tr>\n",
       "      <th>43643</th>\n",
       "      <td>s-Gravenhage</td>\n",
       "      <td>Netherlands</td>\n",
       "      <td>479525</td>\n",
       "      <td>52.07</td>\n",
       "      <td>4.30</td>\n",
       "      <td>0</td>\n",
       "    </tr>\n",
       "    <tr>\n",
       "      <th>43644</th>\n",
       "      <td>s-Hertogenbosch</td>\n",
       "      <td>Netherlands</td>\n",
       "      <td>135529</td>\n",
       "      <td>51.68</td>\n",
       "      <td>5.30</td>\n",
       "      <td>0</td>\n",
       "    </tr>\n",
       "  </tbody>\n",
       "</table>\n",
       "<p>43645 rows × 6 columns</p>\n",
       "</div>"
      ],
      "text/plain": [
       "                     city       country     pop    lat    lon  capital\n",
       "0      'Abasan al-Jadidah     Palestine    5629  31.31  34.34        0\n",
       "1      'Abasan al-Kabirah     Palestine   18999  31.32  34.35        0\n",
       "2            'Abdul Hakim      Pakistan   47788  30.55  72.11        0\n",
       "3      'Abdullah-as-Salam        Kuwait   21817  29.36  47.98        0\n",
       "4                   'Abud     Palestine    2456  32.03  35.07        0\n",
       "...                   ...           ...     ...    ...    ...      ...\n",
       "43640           az-Zubayr          Iraq  124611  30.39  47.71        0\n",
       "43641            az-Zulfi  Saudi Arabia   54070  26.30  44.80        0\n",
       "43642       az-Zuwaytinah         Libya   21984  30.95  20.12        0\n",
       "43643        s-Gravenhage   Netherlands  479525  52.07   4.30        0\n",
       "43644     s-Hertogenbosch   Netherlands  135529  51.68   5.30        0\n",
       "\n",
       "[43645 rows x 6 columns]"
      ]
     },
     "execution_count": 7,
     "metadata": {},
     "output_type": "execute_result"
    }
   ],
   "source": [
    "cities = pd.read_csv(\"data/world_cities.csv\")\n",
    "cities"
   ]
  },
  {
   "cell_type": "code",
   "execution_count": 8,
   "id": "8bf76754-9df1-493a-bb80-f304bec45caa",
   "metadata": {},
   "outputs": [
    {
     "data": {
      "text/html": [
       "<div>\n",
       "<style scoped>\n",
       "    .dataframe tbody tr th:only-of-type {\n",
       "        vertical-align: middle;\n",
       "    }\n",
       "\n",
       "    .dataframe tbody tr th {\n",
       "        vertical-align: top;\n",
       "    }\n",
       "\n",
       "    .dataframe thead th {\n",
       "        text-align: right;\n",
       "    }\n",
       "</style>\n",
       "<table border=\"1\" class=\"dataframe\">\n",
       "  <thead>\n",
       "    <tr style=\"text-align: right;\">\n",
       "      <th></th>\n",
       "      <th>agency_id</th>\n",
       "      <th>agency_name</th>\n",
       "    </tr>\n",
       "  </thead>\n",
       "  <tbody>\n",
       "    <tr>\n",
       "      <th>0</th>\n",
       "      <td>2</td>\n",
       "      <td>רכבת ישראל</td>\n",
       "    </tr>\n",
       "    <tr>\n",
       "      <th>1</th>\n",
       "      <td>3</td>\n",
       "      <td>אגד</td>\n",
       "    </tr>\n",
       "    <tr>\n",
       "      <th>2</th>\n",
       "      <td>4</td>\n",
       "      <td>אגד תעבורה</td>\n",
       "    </tr>\n",
       "  </tbody>\n",
       "</table>\n",
       "</div>"
      ],
      "text/plain": [
       "   agency_id agency_name\n",
       "0          2  רכבת ישראל\n",
       "1          3         אגד\n",
       "2          4  אגד תעבורה"
      ]
     },
     "execution_count": 8,
     "metadata": {},
     "output_type": "execute_result"
    }
   ],
   "source": [
    "agency = pd.read_csv(\"data/gtfs/agency.txt\")\n",
    "agency = agency[[\"agency_id\", \"agency_name\"]]\n",
    "agency.head(3)"
   ]
  },
  {
   "cell_type": "code",
   "execution_count": 9,
   "id": "6130b58f-7194-420e-824d-b4e21eee9be6",
   "metadata": {},
   "outputs": [
    {
     "data": {
      "text/html": [
       "<div>\n",
       "<style scoped>\n",
       "    .dataframe tbody tr th:only-of-type {\n",
       "        vertical-align: middle;\n",
       "    }\n",
       "\n",
       "    .dataframe tbody tr th {\n",
       "        vertical-align: top;\n",
       "    }\n",
       "\n",
       "    .dataframe thead th {\n",
       "        text-align: right;\n",
       "    }\n",
       "</style>\n",
       "<table border=\"1\" class=\"dataframe\">\n",
       "  <thead>\n",
       "    <tr style=\"text-align: right;\">\n",
       "      <th></th>\n",
       "      <th>route_id</th>\n",
       "      <th>agency_id</th>\n",
       "      <th>route_short_name</th>\n",
       "      <th>route_long_name</th>\n",
       "    </tr>\n",
       "  </thead>\n",
       "  <tbody>\n",
       "    <tr>\n",
       "      <th>0</th>\n",
       "      <td>1</td>\n",
       "      <td>25</td>\n",
       "      <td>1</td>\n",
       "      <td>ת. רכבת יבנה מערב-יבנה&lt;-&gt;ת. רכבת יבנה מזרח-יבנ...</td>\n",
       "    </tr>\n",
       "    <tr>\n",
       "      <th>1</th>\n",
       "      <td>2</td>\n",
       "      <td>25</td>\n",
       "      <td>1</td>\n",
       "      <td>ת. רכבת יבנה מזרח-יבנה&lt;-&gt;ת. רכבת יבנה מערב-יבנ...</td>\n",
       "    </tr>\n",
       "    <tr>\n",
       "      <th>2</th>\n",
       "      <td>3</td>\n",
       "      <td>25</td>\n",
       "      <td>2</td>\n",
       "      <td>ת. רכבת יבנה מערב-יבנה&lt;-&gt;ת. רכבת יבנה מזרח-יבנ...</td>\n",
       "    </tr>\n",
       "  </tbody>\n",
       "</table>\n",
       "</div>"
      ],
      "text/plain": [
       "   route_id  agency_id route_short_name  \\\n",
       "0         1         25                1   \n",
       "1         2         25                1   \n",
       "2         3         25                2   \n",
       "\n",
       "                                     route_long_name  \n",
       "0  ת. רכבת יבנה מערב-יבנה<->ת. רכבת יבנה מזרח-יבנ...  \n",
       "1  ת. רכבת יבנה מזרח-יבנה<->ת. רכבת יבנה מערב-יבנ...  \n",
       "2  ת. רכבת יבנה מערב-יבנה<->ת. רכבת יבנה מזרח-יבנ...  "
      ]
     },
     "execution_count": 9,
     "metadata": {},
     "output_type": "execute_result"
    }
   ],
   "source": [
    "routes = pd.read_csv(\"data/gtfs/routes.txt\")\n",
    "routes = routes[[\"route_id\", \"agency_id\", \"route_short_name\", \"route_long_name\"]]\n",
    "routes.head(3)"
   ]
  },
  {
   "cell_type": "markdown",
   "id": "4ee70b68-9814-4606-a1e7-0e6893409c2e",
   "metadata": {
    "tags": []
   },
   "source": [
    "<a id='pd-ops-concatenate'></a>\n",
    "## Concatenate"
   ]
  },
  {
   "cell_type": "markdown",
   "id": "6a5b8212-258c-440d-ae8d-3c4abc8f0c82",
   "metadata": {},
   "source": [
    "[Return to Start of Notebook](#pd-ops)  "
   ]
  },
  {
   "cell_type": "markdown",
   "id": "66e39439-7579-4376-a568-eccebd9e4c41",
   "metadata": {},
   "source": [
    "The pd.concat function accepts a list of tables which it combines:  \n",
    "- by row when using axis=0 (this is the default)  \n",
    "- by column when using axis=1"
   ]
  },
  {
   "cell_type": "markdown",
   "id": "511f3e71-1485-4c7e-955c-2015c8342148",
   "metadata": {},
   "source": [
    "### by row  \n",
    "tables share same columns"
   ]
  },
  {
   "cell_type": "code",
   "execution_count": 10,
   "id": "043b5b41-db02-4860-a749-fbac7c1042b1",
   "metadata": {},
   "outputs": [
    {
     "data": {
      "text/html": [
       "<div>\n",
       "<style scoped>\n",
       "    .dataframe tbody tr th:only-of-type {\n",
       "        vertical-align: middle;\n",
       "    }\n",
       "\n",
       "    .dataframe tbody tr th {\n",
       "        vertical-align: top;\n",
       "    }\n",
       "\n",
       "    .dataframe thead th {\n",
       "        text-align: right;\n",
       "    }\n",
       "</style>\n",
       "<table border=\"1\" class=\"dataframe\">\n",
       "  <thead>\n",
       "    <tr style=\"text-align: right;\">\n",
       "      <th></th>\n",
       "      <th>name</th>\n",
       "      <th>city</th>\n",
       "      <th>lines</th>\n",
       "      <th>piano</th>\n",
       "      <th>lon</th>\n",
       "      <th>lat</th>\n",
       "    </tr>\n",
       "  </thead>\n",
       "  <tbody>\n",
       "    <tr>\n",
       "      <th>0</th>\n",
       "      <td>Beer-Sheva Center</td>\n",
       "      <td>Beer-Sheva</td>\n",
       "      <td>4</td>\n",
       "      <td>False</td>\n",
       "      <td>34.798443</td>\n",
       "      <td>31.243288</td>\n",
       "    </tr>\n",
       "  </tbody>\n",
       "</table>\n",
       "</div>"
      ],
      "text/plain": [
       "                name        city  lines  piano        lon        lat\n",
       "0  Beer-Sheva Center  Beer-Sheva      4  False  34.798443  31.243288"
      ]
     },
     "execution_count": 10,
     "metadata": {},
     "output_type": "execute_result"
    }
   ],
   "source": [
    "x = stations.iloc[[0], :]\n",
    "x"
   ]
  },
  {
   "cell_type": "code",
   "execution_count": 11,
   "id": "0a97aa5e-8628-4f8e-a8ec-265c33efd51c",
   "metadata": {},
   "outputs": [
    {
     "data": {
      "text/html": [
       "<div>\n",
       "<style scoped>\n",
       "    .dataframe tbody tr th:only-of-type {\n",
       "        vertical-align: middle;\n",
       "    }\n",
       "\n",
       "    .dataframe tbody tr th {\n",
       "        vertical-align: top;\n",
       "    }\n",
       "\n",
       "    .dataframe thead th {\n",
       "        text-align: right;\n",
       "    }\n",
       "</style>\n",
       "<table border=\"1\" class=\"dataframe\">\n",
       "  <thead>\n",
       "    <tr style=\"text-align: right;\">\n",
       "      <th></th>\n",
       "      <th>name</th>\n",
       "      <th>city</th>\n",
       "      <th>lines</th>\n",
       "      <th>piano</th>\n",
       "      <th>lon</th>\n",
       "      <th>lat</th>\n",
       "    </tr>\n",
       "  </thead>\n",
       "  <tbody>\n",
       "    <tr>\n",
       "      <th>1</th>\n",
       "      <td>Beer-Sheva University</td>\n",
       "      <td>Beer-Sheva</td>\n",
       "      <td>5</td>\n",
       "      <td>True</td>\n",
       "      <td>34.812831</td>\n",
       "      <td>31.260284</td>\n",
       "    </tr>\n",
       "    <tr>\n",
       "      <th>2</th>\n",
       "      <td>Dimona</td>\n",
       "      <td>Dimona</td>\n",
       "      <td>1</td>\n",
       "      <td>False</td>\n",
       "      <td>35.011635</td>\n",
       "      <td>31.068616</td>\n",
       "    </tr>\n",
       "  </tbody>\n",
       "</table>\n",
       "</div>"
      ],
      "text/plain": [
       "                    name        city  lines  piano        lon        lat\n",
       "1  Beer-Sheva University  Beer-Sheva      5   True  34.812831  31.260284\n",
       "2                 Dimona      Dimona      1  False  35.011635  31.068616"
      ]
     },
     "execution_count": 11,
     "metadata": {},
     "output_type": "execute_result"
    }
   ],
   "source": [
    "y = stations.iloc[[1, 2], :]\n",
    "y"
   ]
  },
  {
   "cell_type": "code",
   "execution_count": 12,
   "id": "de217fca-c86b-4fbd-a069-5f7cba4845f5",
   "metadata": {},
   "outputs": [
    {
     "data": {
      "text/html": [
       "<div>\n",
       "<style scoped>\n",
       "    .dataframe tbody tr th:only-of-type {\n",
       "        vertical-align: middle;\n",
       "    }\n",
       "\n",
       "    .dataframe tbody tr th {\n",
       "        vertical-align: top;\n",
       "    }\n",
       "\n",
       "    .dataframe thead th {\n",
       "        text-align: right;\n",
       "    }\n",
       "</style>\n",
       "<table border=\"1\" class=\"dataframe\">\n",
       "  <thead>\n",
       "    <tr style=\"text-align: right;\">\n",
       "      <th></th>\n",
       "      <th>name</th>\n",
       "      <th>city</th>\n",
       "      <th>lines</th>\n",
       "      <th>piano</th>\n",
       "      <th>lon</th>\n",
       "      <th>lat</th>\n",
       "    </tr>\n",
       "  </thead>\n",
       "  <tbody>\n",
       "    <tr>\n",
       "      <th>0</th>\n",
       "      <td>Beer-Sheva Center</td>\n",
       "      <td>Beer-Sheva</td>\n",
       "      <td>4</td>\n",
       "      <td>False</td>\n",
       "      <td>34.798443</td>\n",
       "      <td>31.243288</td>\n",
       "    </tr>\n",
       "    <tr>\n",
       "      <th>1</th>\n",
       "      <td>Beer-Sheva University</td>\n",
       "      <td>Beer-Sheva</td>\n",
       "      <td>5</td>\n",
       "      <td>True</td>\n",
       "      <td>34.812831</td>\n",
       "      <td>31.260284</td>\n",
       "    </tr>\n",
       "    <tr>\n",
       "      <th>2</th>\n",
       "      <td>Dimona</td>\n",
       "      <td>Dimona</td>\n",
       "      <td>1</td>\n",
       "      <td>False</td>\n",
       "      <td>35.011635</td>\n",
       "      <td>31.068616</td>\n",
       "    </tr>\n",
       "  </tbody>\n",
       "</table>\n",
       "</div>"
      ],
      "text/plain": [
       "                    name        city  lines  piano        lon        lat\n",
       "0      Beer-Sheva Center  Beer-Sheva      4  False  34.798443  31.243288\n",
       "1  Beer-Sheva University  Beer-Sheva      5   True  34.812831  31.260284\n",
       "2                 Dimona      Dimona      1  False  35.011635  31.068616"
      ]
     },
     "execution_count": 12,
     "metadata": {},
     "output_type": "execute_result"
    }
   ],
   "source": [
    "pd.concat([x, y])"
   ]
  },
  {
   "cell_type": "markdown",
   "id": "471f7b6c-7bdf-4b84-86d3-c02cd670dca8",
   "metadata": {},
   "source": [
    "#### append alternate method"
   ]
  },
  {
   "cell_type": "code",
   "execution_count": 13,
   "id": "2f5a3e7f-0d79-48a8-95a6-e21e2171fed0",
   "metadata": {},
   "outputs": [
    {
     "data": {
      "text/html": [
       "<div>\n",
       "<style scoped>\n",
       "    .dataframe tbody tr th:only-of-type {\n",
       "        vertical-align: middle;\n",
       "    }\n",
       "\n",
       "    .dataframe tbody tr th {\n",
       "        vertical-align: top;\n",
       "    }\n",
       "\n",
       "    .dataframe thead th {\n",
       "        text-align: right;\n",
       "    }\n",
       "</style>\n",
       "<table border=\"1\" class=\"dataframe\">\n",
       "  <thead>\n",
       "    <tr style=\"text-align: right;\">\n",
       "      <th></th>\n",
       "      <th>name</th>\n",
       "      <th>city</th>\n",
       "      <th>lines</th>\n",
       "      <th>piano</th>\n",
       "      <th>lon</th>\n",
       "      <th>lat</th>\n",
       "    </tr>\n",
       "  </thead>\n",
       "  <tbody>\n",
       "    <tr>\n",
       "      <th>0</th>\n",
       "      <td>Beer-Sheva Center</td>\n",
       "      <td>Beer-Sheva</td>\n",
       "      <td>4</td>\n",
       "      <td>False</td>\n",
       "      <td>34.798443</td>\n",
       "      <td>31.243288</td>\n",
       "    </tr>\n",
       "    <tr>\n",
       "      <th>1</th>\n",
       "      <td>Beer-Sheva University</td>\n",
       "      <td>Beer-Sheva</td>\n",
       "      <td>5</td>\n",
       "      <td>True</td>\n",
       "      <td>34.812831</td>\n",
       "      <td>31.260284</td>\n",
       "    </tr>\n",
       "    <tr>\n",
       "      <th>2</th>\n",
       "      <td>Dimona</td>\n",
       "      <td>Dimona</td>\n",
       "      <td>1</td>\n",
       "      <td>False</td>\n",
       "      <td>35.011635</td>\n",
       "      <td>31.068616</td>\n",
       "    </tr>\n",
       "  </tbody>\n",
       "</table>\n",
       "</div>"
      ],
      "text/plain": [
       "                    name        city  lines  piano        lon        lat\n",
       "0      Beer-Sheva Center  Beer-Sheva      4  False  34.798443  31.243288\n",
       "1  Beer-Sheva University  Beer-Sheva      5   True  34.812831  31.260284\n",
       "2                 Dimona      Dimona      1  False  35.011635  31.068616"
      ]
     },
     "execution_count": 13,
     "metadata": {},
     "output_type": "execute_result"
    }
   ],
   "source": [
    "x.append(y)"
   ]
  },
  {
   "cell_type": "markdown",
   "id": "0594fdd0-0eb4-4455-a3e6-472865fe4d6c",
   "metadata": {},
   "source": [
    "### by column  \n",
    "- concatenates based on the index value \n",
    "- to concatenate based on position  \n",
    "  - may need to reset index first with .reset_index(drop=True)"
   ]
  },
  {
   "cell_type": "code",
   "execution_count": 14,
   "id": "29a39da0-eea7-488e-913b-abdd55b6ba8c",
   "metadata": {},
   "outputs": [
    {
     "data": {
      "text/html": [
       "<div>\n",
       "<style scoped>\n",
       "    .dataframe tbody tr th:only-of-type {\n",
       "        vertical-align: middle;\n",
       "    }\n",
       "\n",
       "    .dataframe tbody tr th {\n",
       "        vertical-align: top;\n",
       "    }\n",
       "\n",
       "    .dataframe thead th {\n",
       "        text-align: right;\n",
       "    }\n",
       "</style>\n",
       "<table border=\"1\" class=\"dataframe\">\n",
       "  <thead>\n",
       "    <tr style=\"text-align: right;\">\n",
       "      <th></th>\n",
       "      <th>name</th>\n",
       "    </tr>\n",
       "  </thead>\n",
       "  <tbody>\n",
       "    <tr>\n",
       "      <th>0</th>\n",
       "      <td>Beer-Sheva Center</td>\n",
       "    </tr>\n",
       "    <tr>\n",
       "      <th>1</th>\n",
       "      <td>Beer-Sheva University</td>\n",
       "    </tr>\n",
       "    <tr>\n",
       "      <th>2</th>\n",
       "      <td>Dimona</td>\n",
       "    </tr>\n",
       "  </tbody>\n",
       "</table>\n",
       "</div>"
      ],
      "text/plain": [
       "                    name\n",
       "0      Beer-Sheva Center\n",
       "1  Beer-Sheva University\n",
       "2                 Dimona"
      ]
     },
     "execution_count": 14,
     "metadata": {},
     "output_type": "execute_result"
    }
   ],
   "source": [
    "x = stations[[\"name\"]]\n",
    "x"
   ]
  },
  {
   "cell_type": "code",
   "execution_count": 15,
   "id": "0ef6760b-7c3c-4471-a104-650149f59562",
   "metadata": {},
   "outputs": [
    {
     "data": {
      "text/html": [
       "<div>\n",
       "<style scoped>\n",
       "    .dataframe tbody tr th:only-of-type {\n",
       "        vertical-align: middle;\n",
       "    }\n",
       "\n",
       "    .dataframe tbody tr th {\n",
       "        vertical-align: top;\n",
       "    }\n",
       "\n",
       "    .dataframe thead th {\n",
       "        text-align: right;\n",
       "    }\n",
       "</style>\n",
       "<table border=\"1\" class=\"dataframe\">\n",
       "  <thead>\n",
       "    <tr style=\"text-align: right;\">\n",
       "      <th></th>\n",
       "      <th>lon</th>\n",
       "      <th>lat</th>\n",
       "    </tr>\n",
       "  </thead>\n",
       "  <tbody>\n",
       "    <tr>\n",
       "      <th>0</th>\n",
       "      <td>34.798443</td>\n",
       "      <td>31.243288</td>\n",
       "    </tr>\n",
       "    <tr>\n",
       "      <th>1</th>\n",
       "      <td>34.812831</td>\n",
       "      <td>31.260284</td>\n",
       "    </tr>\n",
       "    <tr>\n",
       "      <th>2</th>\n",
       "      <td>35.011635</td>\n",
       "      <td>31.068616</td>\n",
       "    </tr>\n",
       "  </tbody>\n",
       "</table>\n",
       "</div>"
      ],
      "text/plain": [
       "         lon        lat\n",
       "0  34.798443  31.243288\n",
       "1  34.812831  31.260284\n",
       "2  35.011635  31.068616"
      ]
     },
     "execution_count": 15,
     "metadata": {},
     "output_type": "execute_result"
    }
   ],
   "source": [
    "y = stations[[\"lon\", \"lat\"]]\n",
    "y"
   ]
  },
  {
   "cell_type": "code",
   "execution_count": 16,
   "id": "b0bab457-2be1-4af5-aebd-ff8492c8ff60",
   "metadata": {},
   "outputs": [
    {
     "data": {
      "text/html": [
       "<div>\n",
       "<style scoped>\n",
       "    .dataframe tbody tr th:only-of-type {\n",
       "        vertical-align: middle;\n",
       "    }\n",
       "\n",
       "    .dataframe tbody tr th {\n",
       "        vertical-align: top;\n",
       "    }\n",
       "\n",
       "    .dataframe thead th {\n",
       "        text-align: right;\n",
       "    }\n",
       "</style>\n",
       "<table border=\"1\" class=\"dataframe\">\n",
       "  <thead>\n",
       "    <tr style=\"text-align: right;\">\n",
       "      <th></th>\n",
       "      <th>name</th>\n",
       "      <th>lon</th>\n",
       "      <th>lat</th>\n",
       "    </tr>\n",
       "  </thead>\n",
       "  <tbody>\n",
       "    <tr>\n",
       "      <th>0</th>\n",
       "      <td>Beer-Sheva Center</td>\n",
       "      <td>34.798443</td>\n",
       "      <td>31.243288</td>\n",
       "    </tr>\n",
       "    <tr>\n",
       "      <th>1</th>\n",
       "      <td>Beer-Sheva University</td>\n",
       "      <td>34.812831</td>\n",
       "      <td>31.260284</td>\n",
       "    </tr>\n",
       "    <tr>\n",
       "      <th>2</th>\n",
       "      <td>Dimona</td>\n",
       "      <td>35.011635</td>\n",
       "      <td>31.068616</td>\n",
       "    </tr>\n",
       "  </tbody>\n",
       "</table>\n",
       "</div>"
      ],
      "text/plain": [
       "                    name        lon        lat\n",
       "0      Beer-Sheva Center  34.798443  31.243288\n",
       "1  Beer-Sheva University  34.812831  31.260284\n",
       "2                 Dimona  35.011635  31.068616"
      ]
     },
     "execution_count": 16,
     "metadata": {},
     "output_type": "execute_result"
    }
   ],
   "source": [
    "pd.concat([x, y], axis = 1)"
   ]
  },
  {
   "cell_type": "code",
   "execution_count": 17,
   "id": "55f52c74-dd1b-4835-ac5a-e007941b3311",
   "metadata": {},
   "outputs": [],
   "source": [
    "z = stations.loc[1:2,[\"lon\",\"lat\"]]"
   ]
  },
  {
   "cell_type": "code",
   "execution_count": 18,
   "id": "f9c8ed66-f027-4b28-9116-6b292ada4241",
   "metadata": {},
   "outputs": [
    {
     "data": {
      "text/html": [
       "<div>\n",
       "<style scoped>\n",
       "    .dataframe tbody tr th:only-of-type {\n",
       "        vertical-align: middle;\n",
       "    }\n",
       "\n",
       "    .dataframe tbody tr th {\n",
       "        vertical-align: top;\n",
       "    }\n",
       "\n",
       "    .dataframe thead th {\n",
       "        text-align: right;\n",
       "    }\n",
       "</style>\n",
       "<table border=\"1\" class=\"dataframe\">\n",
       "  <thead>\n",
       "    <tr style=\"text-align: right;\">\n",
       "      <th></th>\n",
       "      <th>name</th>\n",
       "      <th>lon</th>\n",
       "      <th>lat</th>\n",
       "    </tr>\n",
       "  </thead>\n",
       "  <tbody>\n",
       "    <tr>\n",
       "      <th>0</th>\n",
       "      <td>Beer-Sheva Center</td>\n",
       "      <td>NaN</td>\n",
       "      <td>NaN</td>\n",
       "    </tr>\n",
       "    <tr>\n",
       "      <th>1</th>\n",
       "      <td>Beer-Sheva University</td>\n",
       "      <td>34.812831</td>\n",
       "      <td>31.260284</td>\n",
       "    </tr>\n",
       "    <tr>\n",
       "      <th>2</th>\n",
       "      <td>Dimona</td>\n",
       "      <td>35.011635</td>\n",
       "      <td>31.068616</td>\n",
       "    </tr>\n",
       "  </tbody>\n",
       "</table>\n",
       "</div>"
      ],
      "text/plain": [
       "                    name        lon        lat\n",
       "0      Beer-Sheva Center        NaN        NaN\n",
       "1  Beer-Sheva University  34.812831  31.260284\n",
       "2                 Dimona  35.011635  31.068616"
      ]
     },
     "execution_count": 18,
     "metadata": {},
     "output_type": "execute_result"
    }
   ],
   "source": [
    "pd.concat([x, z], axis = 1)"
   ]
  },
  {
   "cell_type": "markdown",
   "id": "197fa388-9f4a-46f2-ab4f-2b21ba0a6e7f",
   "metadata": {},
   "source": [
    "<a id='pd-ops-summarize'></a>\n",
    "## Summarize"
   ]
  },
  {
   "cell_type": "markdown",
   "id": "0e27fc7d-c56a-47c6-b562-bf82ca85ef58",
   "metadata": {},
   "source": [
    "[Return to Start of Notebook](#pd-ops)  "
   ]
  },
  {
   "cell_type": "markdown",
   "id": "5d34ab77-84aa-4f0d-ab73-c6a793c177ec",
   "metadata": {},
   "source": [
    "Methods: sum, min, max, mean, median, count, any, all, nunique"
   ]
  },
  {
   "cell_type": "markdown",
   "id": "a5ad9c2a-5acf-4b0f-ae36-ceee263fc36d",
   "metadata": {},
   "source": [
    "### by column"
   ]
  },
  {
   "cell_type": "code",
   "execution_count": 19,
   "id": "69224679-0523-4861-80ae-c5533b71bb42",
   "metadata": {},
   "outputs": [
    {
     "data": {
      "text/plain": [
       "Year       1950.000000\n",
       "Glob          0.051135\n",
       "NHem          0.077943\n",
       "SHem          0.026454\n",
       "24N-90N       0.099645\n",
       "              ...     \n",
       "EQU-24N       0.048582\n",
       "24S-EQU       0.074681\n",
       "44S-24S       0.034326\n",
       "64S-44S      -0.063759\n",
       "90S-64S      -0.083972\n",
       "Length: 15, dtype: float64"
      ]
     },
     "execution_count": 19,
     "metadata": {},
     "output_type": "execute_result"
    }
   ],
   "source": [
    "dat.mean()"
   ]
  },
  {
   "cell_type": "code",
   "execution_count": 20,
   "id": "0890ae13-b0aa-4597-9b50-d9409e546dca",
   "metadata": {},
   "outputs": [
    {
     "data": {
      "text/plain": [
       "0.05113475177304965"
      ]
     },
     "execution_count": 20,
     "metadata": {},
     "output_type": "execute_result"
    }
   ],
   "source": [
    "dat['Glob'].mean()"
   ]
  },
  {
   "cell_type": "code",
   "execution_count": 21,
   "id": "dfe0c93d-d8d6-4d62-906e-1afb2c4759db",
   "metadata": {},
   "outputs": [
    {
     "data": {
      "text/plain": [
       "1.02"
      ]
     },
     "execution_count": 21,
     "metadata": {},
     "output_type": "execute_result"
    }
   ],
   "source": [
    "dat['Glob'].max()"
   ]
  },
  {
   "cell_type": "code",
   "execution_count": 22,
   "id": "ff24ac92-b614-4dc2-9b4c-c94c2c27e7c2",
   "metadata": {},
   "outputs": [
    {
     "data": {
      "text/plain": [
       "-0.48"
      ]
     },
     "execution_count": 22,
     "metadata": {},
     "output_type": "execute_result"
    }
   ],
   "source": [
    "dat['Glob'].min()"
   ]
  },
  {
   "cell_type": "code",
   "execution_count": 23,
   "id": "41348220-d746-49a7-8d56-1e3cb5998adc",
   "metadata": {},
   "outputs": [
    {
     "data": {
      "text/plain": [
       "141"
      ]
     },
     "execution_count": 23,
     "metadata": {},
     "output_type": "execute_result"
    }
   ],
   "source": [
    "dat['Glob'].count()"
   ]
  },
  {
   "cell_type": "code",
   "execution_count": 24,
   "id": "19189880-cd69-4ec2-b934-1209a4a2ad56",
   "metadata": {},
   "outputs": [
    {
     "data": {
      "text/plain": [
       "79"
      ]
     },
     "execution_count": 24,
     "metadata": {},
     "output_type": "execute_result"
    }
   ],
   "source": [
    "dat['Glob'].nunique()"
   ]
  },
  {
   "cell_type": "markdown",
   "id": "575da035-fac5-40c9-801e-7973b25f409a",
   "metadata": {},
   "source": [
    "### by row"
   ]
  },
  {
   "cell_type": "code",
   "execution_count": 25,
   "id": "124b3bbb-397e-4a9b-9bb5-832a054035b3",
   "metadata": {},
   "outputs": [
    {
     "data": {
      "text/html": [
       "<div>\n",
       "<style scoped>\n",
       "    .dataframe tbody tr th:only-of-type {\n",
       "        vertical-align: middle;\n",
       "    }\n",
       "\n",
       "    .dataframe tbody tr th {\n",
       "        vertical-align: top;\n",
       "    }\n",
       "\n",
       "    .dataframe thead th {\n",
       "        text-align: right;\n",
       "    }\n",
       "</style>\n",
       "<table border=\"1\" class=\"dataframe\">\n",
       "  <thead>\n",
       "    <tr style=\"text-align: right;\">\n",
       "      <th></th>\n",
       "      <th>90S-64S</th>\n",
       "      <th>64S-44S</th>\n",
       "      <th>44S-24S</th>\n",
       "      <th>24S-EQU</th>\n",
       "      <th>EQU-24N</th>\n",
       "      <th>24N-44N</th>\n",
       "      <th>44N-64N</th>\n",
       "      <th>64N-90N</th>\n",
       "    </tr>\n",
       "  </thead>\n",
       "  <tbody>\n",
       "    <tr>\n",
       "      <th>0</th>\n",
       "      <td>0.65</td>\n",
       "      <td>0.05</td>\n",
       "      <td>-0.02</td>\n",
       "      <td>-0.10</td>\n",
       "      <td>-0.16</td>\n",
       "      <td>-0.26</td>\n",
       "      <td>-0.42</td>\n",
       "      <td>-0.81</td>\n",
       "    </tr>\n",
       "    <tr>\n",
       "      <th>1</th>\n",
       "      <td>0.58</td>\n",
       "      <td>-0.07</td>\n",
       "      <td>-0.04</td>\n",
       "      <td>0.11</td>\n",
       "      <td>0.09</td>\n",
       "      <td>-0.18</td>\n",
       "      <td>-0.39</td>\n",
       "      <td>-0.91</td>\n",
       "    </tr>\n",
       "    <tr>\n",
       "      <th>2</th>\n",
       "      <td>0.61</td>\n",
       "      <td>0.04</td>\n",
       "      <td>0.03</td>\n",
       "      <td>-0.04</td>\n",
       "      <td>-0.05</td>\n",
       "      <td>-0.13</td>\n",
       "      <td>-0.22</td>\n",
       "      <td>-1.40</td>\n",
       "    </tr>\n",
       "  </tbody>\n",
       "</table>\n",
       "</div>"
      ],
      "text/plain": [
       "   90S-64S  64S-44S  44S-24S  24S-EQU  EQU-24N  24N-44N  44N-64N  64N-90N\n",
       "0     0.65     0.05    -0.02    -0.10    -0.16    -0.26    -0.42    -0.81\n",
       "1     0.58    -0.07    -0.04     0.11     0.09    -0.18    -0.39    -0.91\n",
       "2     0.61     0.04     0.03    -0.04    -0.05    -0.13    -0.22    -1.40"
      ]
     },
     "execution_count": 25,
     "metadata": {},
     "output_type": "execute_result"
    }
   ],
   "source": [
    "x = dat[[\"90S-64S\", \"64S-44S\", \"44S-24S\", \"24S-EQU\", \"EQU-24N\", \"24N-44N\", \"44N-64N\", \"64N-90N\"]]\n",
    "x.head(3)"
   ]
  },
  {
   "cell_type": "code",
   "execution_count": 26,
   "id": "b7a40f8f-2e38-4162-9cca-a493a8d4b838",
   "metadata": {},
   "outputs": [
    {
     "data": {
      "text/html": [
       "<div>\n",
       "<style scoped>\n",
       "    .dataframe tbody tr th:only-of-type {\n",
       "        vertical-align: middle;\n",
       "    }\n",
       "\n",
       "    .dataframe tbody tr th {\n",
       "        vertical-align: top;\n",
       "    }\n",
       "\n",
       "    .dataframe thead th {\n",
       "        text-align: right;\n",
       "    }\n",
       "</style>\n",
       "<table border=\"1\" class=\"dataframe\">\n",
       "  <thead>\n",
       "    <tr style=\"text-align: right;\">\n",
       "      <th></th>\n",
       "      <th>Year</th>\n",
       "      <th>Glob</th>\n",
       "      <th>NHem</th>\n",
       "      <th>SHem</th>\n",
       "      <th>24N-90N</th>\n",
       "      <th>24S-24N</th>\n",
       "      <th>90S-24S</th>\n",
       "      <th>64N-90N</th>\n",
       "      <th>44N-64N</th>\n",
       "      <th>24N-44N</th>\n",
       "      <th>EQU-24N</th>\n",
       "      <th>24S-EQU</th>\n",
       "      <th>44S-24S</th>\n",
       "      <th>64S-44S</th>\n",
       "      <th>90S-64S</th>\n",
       "      <th>mean</th>\n",
       "    </tr>\n",
       "  </thead>\n",
       "  <tbody>\n",
       "    <tr>\n",
       "      <th>0</th>\n",
       "      <td>1880</td>\n",
       "      <td>-0.16</td>\n",
       "      <td>-0.27</td>\n",
       "      <td>-0.04</td>\n",
       "      <td>-0.34</td>\n",
       "      <td>-0.13</td>\n",
       "      <td>-0.01</td>\n",
       "      <td>-0.81</td>\n",
       "      <td>-0.42</td>\n",
       "      <td>-0.26</td>\n",
       "      <td>-0.16</td>\n",
       "      <td>-0.10</td>\n",
       "      <td>-0.02</td>\n",
       "      <td>0.05</td>\n",
       "      <td>0.65</td>\n",
       "      <td>-0.13375</td>\n",
       "    </tr>\n",
       "    <tr>\n",
       "      <th>1</th>\n",
       "      <td>1881</td>\n",
       "      <td>-0.07</td>\n",
       "      <td>-0.16</td>\n",
       "      <td>0.01</td>\n",
       "      <td>-0.32</td>\n",
       "      <td>0.10</td>\n",
       "      <td>-0.06</td>\n",
       "      <td>-0.91</td>\n",
       "      <td>-0.39</td>\n",
       "      <td>-0.18</td>\n",
       "      <td>0.09</td>\n",
       "      <td>0.11</td>\n",
       "      <td>-0.04</td>\n",
       "      <td>-0.07</td>\n",
       "      <td>0.58</td>\n",
       "      <td>-0.10125</td>\n",
       "    </tr>\n",
       "    <tr>\n",
       "      <th>2</th>\n",
       "      <td>1882</td>\n",
       "      <td>-0.10</td>\n",
       "      <td>-0.20</td>\n",
       "      <td>0.00</td>\n",
       "      <td>-0.28</td>\n",
       "      <td>-0.05</td>\n",
       "      <td>0.02</td>\n",
       "      <td>-1.40</td>\n",
       "      <td>-0.22</td>\n",
       "      <td>-0.13</td>\n",
       "      <td>-0.05</td>\n",
       "      <td>-0.04</td>\n",
       "      <td>0.03</td>\n",
       "      <td>0.04</td>\n",
       "      <td>0.61</td>\n",
       "      <td>-0.14500</td>\n",
       "    </tr>\n",
       "  </tbody>\n",
       "</table>\n",
       "</div>"
      ],
      "text/plain": [
       "   Year  Glob  NHem  SHem  24N-90N  24S-24N  90S-24S  64N-90N  44N-64N  \\\n",
       "0  1880 -0.16 -0.27 -0.04    -0.34    -0.13    -0.01    -0.81    -0.42   \n",
       "1  1881 -0.07 -0.16  0.01    -0.32     0.10    -0.06    -0.91    -0.39   \n",
       "2  1882 -0.10 -0.20  0.00    -0.28    -0.05     0.02    -1.40    -0.22   \n",
       "\n",
       "   24N-44N  EQU-24N  24S-EQU  44S-24S  64S-44S  90S-64S     mean  \n",
       "0    -0.26    -0.16    -0.10    -0.02     0.05     0.65 -0.13375  \n",
       "1    -0.18     0.09     0.11    -0.04    -0.07     0.58 -0.10125  \n",
       "2    -0.13    -0.05    -0.04     0.03     0.04     0.61 -0.14500  "
      ]
     },
     "execution_count": 26,
     "metadata": {},
     "output_type": "execute_result"
    }
   ],
   "source": [
    "dat[\"mean\"] = x.mean(axis = 1)\n",
    "dat.head(3)"
   ]
  },
  {
   "cell_type": "code",
   "execution_count": 27,
   "id": "726a6cc7-2705-4d54-a987-8ac096a5332e",
   "metadata": {},
   "outputs": [
    {
     "data": {
      "text/plain": [
       "<AxesSubplot:xlabel='Year'>"
      ]
     },
     "execution_count": 27,
     "metadata": {},
     "output_type": "execute_result"
    },
    {
     "data": {
      "image/png": "[encoded data removed]",
      "text/plain": [
       "<Figure size 432x288 with 1 Axes>"
      ]
     },
     "metadata": {
      "needs_background": "light"
     },
     "output_type": "display_data"
    }
   ],
   "source": [
    "dat.set_index(\"Year\")[\"mean\"].plot()"
   ]
  },
  {
   "cell_type": "markdown",
   "id": "edb85103-6a03-4321-affc-bbd9f0460aca",
   "metadata": {
    "tags": []
   },
   "source": [
    "<a id='pd-ops-apply'></a>\n",
    "## Apply"
   ]
  },
  {
   "cell_type": "markdown",
   "id": "95726e1a-b21b-4a71-85ee-557dd94c4d88",
   "metadata": {
    "tags": []
   },
   "source": [
    "[Return to Start of Notebook](#pd-ops)  "
   ]
  },
  {
   "cell_type": "markdown",
   "id": "8ead8f30-4291-40f0-9e0d-3d596c076a40",
   "metadata": {},
   "source": [
    "### lambda"
   ]
  },
  {
   "cell_type": "code",
   "execution_count": 28,
   "id": "c6afff06-8dc8-471d-aed4-8a96275a7e4e",
   "metadata": {},
   "outputs": [
    {
     "data": {
      "text/plain": [
       "90S-64S   -0.083972\n",
       "64S-44S   -0.063759\n",
       "44S-24S    0.034326\n",
       "24S-EQU    0.074681\n",
       "EQU-24N    0.048582\n",
       "24N-44N    0.029220\n",
       "44N-64N    0.124255\n",
       "64N-90N    0.227234\n",
       "dtype: float64"
      ]
     },
     "execution_count": 28,
     "metadata": {},
     "output_type": "execute_result"
    }
   ],
   "source": [
    "x.apply(lambda x: x.mean())"
   ]
  },
  {
   "cell_type": "markdown",
   "id": "47f9ebbc-18fc-4363-b09c-33862a502e64",
   "metadata": {},
   "source": [
    "### filter"
   ]
  },
  {
   "cell_type": "code",
   "execution_count": 29,
   "id": "f0b454a4-b232-4b5e-ac88-0c47f9704e35",
   "metadata": {},
   "outputs": [
    {
     "data": {
      "text/html": [
       "<div>\n",
       "<style scoped>\n",
       "    .dataframe tbody tr th:only-of-type {\n",
       "        vertical-align: middle;\n",
       "    }\n",
       "\n",
       "    .dataframe tbody tr th {\n",
       "        vertical-align: top;\n",
       "    }\n",
       "\n",
       "    .dataframe thead th {\n",
       "        text-align: right;\n",
       "    }\n",
       "</style>\n",
       "<table border=\"1\" class=\"dataframe\">\n",
       "  <thead>\n",
       "    <tr style=\"text-align: right;\">\n",
       "      <th></th>\n",
       "      <th>90S-64S</th>\n",
       "      <th>64S-44S</th>\n",
       "      <th>44S-24S</th>\n",
       "      <th>24S-EQU</th>\n",
       "      <th>EQU-24N</th>\n",
       "      <th>24N-44N</th>\n",
       "      <th>44N-64N</th>\n",
       "      <th>64N-90N</th>\n",
       "    </tr>\n",
       "  </thead>\n",
       "  <tbody>\n",
       "    <tr>\n",
       "      <th>57</th>\n",
       "      <td>0.38</td>\n",
       "      <td>-0.26</td>\n",
       "      <td>-0.19</td>\n",
       "      <td>-0.10</td>\n",
       "      <td>0.00</td>\n",
       "      <td>-0.02</td>\n",
       "      <td>0.03</td>\n",
       "      <td>1.24</td>\n",
       "    </tr>\n",
       "    <tr>\n",
       "      <th>58</th>\n",
       "      <td>-0.85</td>\n",
       "      <td>-0.11</td>\n",
       "      <td>-0.06</td>\n",
       "      <td>-0.27</td>\n",
       "      <td>-0.18</td>\n",
       "      <td>0.03</td>\n",
       "      <td>0.39</td>\n",
       "      <td>1.51</td>\n",
       "    </tr>\n",
       "    <tr>\n",
       "      <th>63</th>\n",
       "      <td>1.15</td>\n",
       "      <td>0.00</td>\n",
       "      <td>0.07</td>\n",
       "      <td>-0.07</td>\n",
       "      <td>-0.11</td>\n",
       "      <td>0.11</td>\n",
       "      <td>0.28</td>\n",
       "      <td>1.42</td>\n",
       "    </tr>\n",
       "  </tbody>\n",
       "</table>\n",
       "</div>"
      ],
      "text/plain": [
       "    90S-64S  64S-44S  44S-24S  24S-EQU  EQU-24N  24N-44N  44N-64N  64N-90N\n",
       "57     0.38    -0.26    -0.19    -0.10     0.00    -0.02     0.03     1.24\n",
       "58    -0.85    -0.11    -0.06    -0.27    -0.18     0.03     0.39     1.51\n",
       "63     1.15     0.00     0.07    -0.07    -0.11     0.11     0.28     1.42"
      ]
     },
     "execution_count": 29,
     "metadata": {},
     "output_type": "execute_result"
    }
   ],
   "source": [
    "filt = x.apply(lambda x: any(x > 1), axis = 1)\n",
    "x[filt].head(3)"
   ]
  },
  {
   "cell_type": "code",
   "execution_count": 30,
   "id": "41162f34-81da-449c-b9b3-ae34ee54412f",
   "metadata": {},
   "outputs": [
    {
     "data": {
      "text/html": [
       "<div>\n",
       "<style scoped>\n",
       "    .dataframe tbody tr th:only-of-type {\n",
       "        vertical-align: middle;\n",
       "    }\n",
       "\n",
       "    .dataframe tbody tr th {\n",
       "        vertical-align: top;\n",
       "    }\n",
       "\n",
       "    .dataframe thead th {\n",
       "        text-align: right;\n",
       "    }\n",
       "</style>\n",
       "<table border=\"1\" class=\"dataframe\">\n",
       "  <thead>\n",
       "    <tr style=\"text-align: right;\">\n",
       "      <th></th>\n",
       "      <th>90S-64S</th>\n",
       "      <th>64S-44S</th>\n",
       "      <th>44S-24S</th>\n",
       "      <th>24S-EQU</th>\n",
       "      <th>EQU-24N</th>\n",
       "      <th>24N-44N</th>\n",
       "      <th>44N-64N</th>\n",
       "      <th>64N-90N</th>\n",
       "    </tr>\n",
       "  </thead>\n",
       "  <tbody>\n",
       "    <tr>\n",
       "      <th>93</th>\n",
       "      <td>0.34</td>\n",
       "      <td>0.07</td>\n",
       "      <td>0.21</td>\n",
       "      <td>0.30</td>\n",
       "      <td>0.08</td>\n",
       "      <td>0.02</td>\n",
       "      <td>0.27</td>\n",
       "      <td>0.07</td>\n",
       "    </tr>\n",
       "    <tr>\n",
       "      <th>97</th>\n",
       "      <td>0.28</td>\n",
       "      <td>0.31</td>\n",
       "      <td>0.21</td>\n",
       "      <td>0.22</td>\n",
       "      <td>0.10</td>\n",
       "      <td>0.07</td>\n",
       "      <td>0.24</td>\n",
       "      <td>0.16</td>\n",
       "    </tr>\n",
       "    <tr>\n",
       "      <th>100</th>\n",
       "      <td>0.58</td>\n",
       "      <td>0.37</td>\n",
       "      <td>0.35</td>\n",
       "      <td>0.29</td>\n",
       "      <td>0.33</td>\n",
       "      <td>0.02</td>\n",
       "      <td>0.02</td>\n",
       "      <td>0.25</td>\n",
       "    </tr>\n",
       "  </tbody>\n",
       "</table>\n",
       "</div>"
      ],
      "text/plain": [
       "     90S-64S  64S-44S  44S-24S  24S-EQU  EQU-24N  24N-44N  44N-64N  64N-90N\n",
       "93      0.34     0.07     0.21     0.30     0.08     0.02     0.27     0.07\n",
       "97      0.28     0.31     0.21     0.22     0.10     0.07     0.24     0.16\n",
       "100     0.58     0.37     0.35     0.29     0.33     0.02     0.02     0.25"
      ]
     },
     "execution_count": 30,
     "metadata": {},
     "output_type": "execute_result"
    }
   ],
   "source": [
    "filt = x.apply(lambda x: all(x > 0), axis = 1)\n",
    "x[filt].head(3)"
   ]
  },
  {
   "cell_type": "code",
   "execution_count": 31,
   "id": "8c35a6be-8bae-4276-9a30-729f1163b833",
   "metadata": {},
   "outputs": [
    {
     "data": {
      "text/html": [
       "<div>\n",
       "<style scoped>\n",
       "    .dataframe tbody tr th:only-of-type {\n",
       "        vertical-align: middle;\n",
       "    }\n",
       "\n",
       "    .dataframe tbody tr th {\n",
       "        vertical-align: top;\n",
       "    }\n",
       "\n",
       "    .dataframe thead th {\n",
       "        text-align: right;\n",
       "    }\n",
       "</style>\n",
       "<table border=\"1\" class=\"dataframe\">\n",
       "  <thead>\n",
       "    <tr style=\"text-align: right;\">\n",
       "      <th></th>\n",
       "      <th>90S-64S</th>\n",
       "      <th>64S-44S</th>\n",
       "      <th>44S-24S</th>\n",
       "      <th>24S-EQU</th>\n",
       "      <th>EQU-24N</th>\n",
       "      <th>24N-44N</th>\n",
       "      <th>44N-64N</th>\n",
       "      <th>64N-90N</th>\n",
       "    </tr>\n",
       "  </thead>\n",
       "  <tbody>\n",
       "    <tr>\n",
       "      <th>2</th>\n",
       "      <td>0.61</td>\n",
       "      <td>0.04</td>\n",
       "      <td>0.03</td>\n",
       "      <td>-0.04</td>\n",
       "      <td>-0.05</td>\n",
       "      <td>-0.13</td>\n",
       "      <td>-0.22</td>\n",
       "      <td>-1.40</td>\n",
       "    </tr>\n",
       "    <tr>\n",
       "      <th>4</th>\n",
       "      <td>0.63</td>\n",
       "      <td>-0.02</td>\n",
       "      <td>-0.18</td>\n",
       "      <td>-0.16</td>\n",
       "      <td>-0.13</td>\n",
       "      <td>-0.46</td>\n",
       "      <td>-0.60</td>\n",
       "      <td>-1.31</td>\n",
       "    </tr>\n",
       "    <tr>\n",
       "      <th>5</th>\n",
       "      <td>0.80</td>\n",
       "      <td>-0.15</td>\n",
       "      <td>-0.33</td>\n",
       "      <td>-0.20</td>\n",
       "      <td>-0.07</td>\n",
       "      <td>-0.45</td>\n",
       "      <td>-0.64</td>\n",
       "      <td>-1.52</td>\n",
       "    </tr>\n",
       "  </tbody>\n",
       "</table>\n",
       "</div>"
      ],
      "text/plain": [
       "   90S-64S  64S-44S  44S-24S  24S-EQU  EQU-24N  24N-44N  44N-64N  64N-90N\n",
       "2     0.61     0.04     0.03    -0.04    -0.05    -0.13    -0.22    -1.40\n",
       "4     0.63    -0.02    -0.18    -0.16    -0.13    -0.46    -0.60    -1.31\n",
       "5     0.80    -0.15    -0.33    -0.20    -0.07    -0.45    -0.64    -1.52"
      ]
     },
     "execution_count": 31,
     "metadata": {},
     "output_type": "execute_result"
    }
   ],
   "source": [
    "filt = x.apply(lambda x: x.min() < -1, axis = 1)\n",
    "x[filt].head(3)"
   ]
  },
  {
   "cell_type": "markdown",
   "id": "15e41ca0-6b3b-4073-9f7a-c01e1d053867",
   "metadata": {},
   "source": [
    "<a id='pd-ops-join'></a>\n",
    "## Join"
   ]
  },
  {
   "cell_type": "markdown",
   "id": "202a5b6c-0f2c-4185-9dab-c4e55a9bf76a",
   "metadata": {
    "tags": []
   },
   "source": [
    "[Return to Start of Notebook](#pd-ops)  "
   ]
  },
  {
   "cell_type": "markdown",
   "id": "1a058bd5-ff17-42a8-994b-98954e7029e2",
   "metadata": {},
   "source": [
    "### pd.merge"
   ]
  },
  {
   "cell_type": "markdown",
   "id": "63680482-9587-4b98-9a4e-252fd740037e",
   "metadata": {},
   "source": [
    "The pd.merge function accepts the following arguments:  \n",
    "- left—The first (“left”) layer  \n",
    "- right—The second (“right”) layer  \n",
    "- how—The type of join, one of: \"left\", \"right\", \"outer\", \"inner\", \"cross\" (default is \"inner\")  \n",
    "- on—The name of the common column where identical values are considered a “match”  "
   ]
  },
  {
   "cell_type": "code",
   "execution_count": 32,
   "id": "abca52ae-5880-407e-843b-be01da4102fe",
   "metadata": {},
   "outputs": [
    {
     "data": {
      "text/html": [
       "<div>\n",
       "<style scoped>\n",
       "    .dataframe tbody tr th:only-of-type {\n",
       "        vertical-align: middle;\n",
       "    }\n",
       "\n",
       "    .dataframe tbody tr th {\n",
       "        vertical-align: top;\n",
       "    }\n",
       "\n",
       "    .dataframe thead th {\n",
       "        text-align: right;\n",
       "    }\n",
       "</style>\n",
       "<table border=\"1\" class=\"dataframe\">\n",
       "  <thead>\n",
       "    <tr style=\"text-align: right;\">\n",
       "      <th></th>\n",
       "      <th>name</th>\n",
       "      <th>city</th>\n",
       "      <th>lines</th>\n",
       "      <th>piano</th>\n",
       "      <th>lon</th>\n",
       "      <th>lat</th>\n",
       "    </tr>\n",
       "  </thead>\n",
       "  <tbody>\n",
       "    <tr>\n",
       "      <th>0</th>\n",
       "      <td>Beer-Sheva Center</td>\n",
       "      <td>Beer-Sheva</td>\n",
       "      <td>4</td>\n",
       "      <td>False</td>\n",
       "      <td>34.798443</td>\n",
       "      <td>31.243288</td>\n",
       "    </tr>\n",
       "    <tr>\n",
       "      <th>1</th>\n",
       "      <td>Beer-Sheva University</td>\n",
       "      <td>Beer-Sheva</td>\n",
       "      <td>5</td>\n",
       "      <td>True</td>\n",
       "      <td>34.812831</td>\n",
       "      <td>31.260284</td>\n",
       "    </tr>\n",
       "    <tr>\n",
       "      <th>2</th>\n",
       "      <td>Dimona</td>\n",
       "      <td>Dimona</td>\n",
       "      <td>1</td>\n",
       "      <td>False</td>\n",
       "      <td>35.011635</td>\n",
       "      <td>31.068616</td>\n",
       "    </tr>\n",
       "  </tbody>\n",
       "</table>\n",
       "</div>"
      ],
      "text/plain": [
       "                    name        city  lines  piano        lon        lat\n",
       "0      Beer-Sheva Center  Beer-Sheva      4  False  34.798443  31.243288\n",
       "1  Beer-Sheva University  Beer-Sheva      5   True  34.812831  31.260284\n",
       "2                 Dimona      Dimona      1  False  35.011635  31.068616"
      ]
     },
     "execution_count": 32,
     "metadata": {},
     "output_type": "execute_result"
    }
   ],
   "source": [
    "stations"
   ]
  },
  {
   "cell_type": "code",
   "execution_count": 33,
   "id": "5c093742-4e0e-423b-a3d6-18fb62cb6d80",
   "metadata": {},
   "outputs": [
    {
     "data": {
      "text/html": [
       "<div>\n",
       "<style scoped>\n",
       "    .dataframe tbody tr th:only-of-type {\n",
       "        vertical-align: middle;\n",
       "    }\n",
       "\n",
       "    .dataframe tbody tr th {\n",
       "        vertical-align: top;\n",
       "    }\n",
       "\n",
       "    .dataframe thead th {\n",
       "        text-align: right;\n",
       "    }\n",
       "</style>\n",
       "<table border=\"1\" class=\"dataframe\">\n",
       "  <thead>\n",
       "    <tr style=\"text-align: right;\">\n",
       "      <th></th>\n",
       "      <th>name</th>\n",
       "      <th>status</th>\n",
       "    </tr>\n",
       "  </thead>\n",
       "  <tbody>\n",
       "    <tr>\n",
       "      <th>0</th>\n",
       "      <td>Beer-Sheva Center</td>\n",
       "      <td>Closed</td>\n",
       "    </tr>\n",
       "    <tr>\n",
       "      <th>1</th>\n",
       "      <td>Beer-Sheva University</td>\n",
       "      <td>Open</td>\n",
       "    </tr>\n",
       "    <tr>\n",
       "      <th>2</th>\n",
       "      <td>Tel-Aviv University</td>\n",
       "      <td>Open</td>\n",
       "    </tr>\n",
       "  </tbody>\n",
       "</table>\n",
       "</div>"
      ],
      "text/plain": [
       "                    name  status\n",
       "0      Beer-Sheva Center  Closed\n",
       "1  Beer-Sheva University    Open\n",
       "2    Tel-Aviv University    Open"
      ]
     },
     "execution_count": 33,
     "metadata": {},
     "output_type": "execute_result"
    }
   ],
   "source": [
    "station_status"
   ]
  },
  {
   "cell_type": "code",
   "execution_count": 34,
   "id": "bee76fb7-56fc-4482-9aea-e9c807b49bb6",
   "metadata": {},
   "outputs": [
    {
     "data": {
      "text/html": [
       "<div>\n",
       "<style scoped>\n",
       "    .dataframe tbody tr th:only-of-type {\n",
       "        vertical-align: middle;\n",
       "    }\n",
       "\n",
       "    .dataframe tbody tr th {\n",
       "        vertical-align: top;\n",
       "    }\n",
       "\n",
       "    .dataframe thead th {\n",
       "        text-align: right;\n",
       "    }\n",
       "</style>\n",
       "<table border=\"1\" class=\"dataframe\">\n",
       "  <thead>\n",
       "    <tr style=\"text-align: right;\">\n",
       "      <th></th>\n",
       "      <th>name</th>\n",
       "      <th>city</th>\n",
       "      <th>lines</th>\n",
       "      <th>piano</th>\n",
       "      <th>lon</th>\n",
       "      <th>lat</th>\n",
       "      <th>status</th>\n",
       "    </tr>\n",
       "  </thead>\n",
       "  <tbody>\n",
       "    <tr>\n",
       "      <th>0</th>\n",
       "      <td>Beer-Sheva Center</td>\n",
       "      <td>Beer-Sheva</td>\n",
       "      <td>4</td>\n",
       "      <td>False</td>\n",
       "      <td>34.798443</td>\n",
       "      <td>31.243288</td>\n",
       "      <td>Closed</td>\n",
       "    </tr>\n",
       "    <tr>\n",
       "      <th>1</th>\n",
       "      <td>Beer-Sheva University</td>\n",
       "      <td>Beer-Sheva</td>\n",
       "      <td>5</td>\n",
       "      <td>True</td>\n",
       "      <td>34.812831</td>\n",
       "      <td>31.260284</td>\n",
       "      <td>Open</td>\n",
       "    </tr>\n",
       "  </tbody>\n",
       "</table>\n",
       "</div>"
      ],
      "text/plain": [
       "                    name        city  lines  piano        lon        lat  \\\n",
       "0      Beer-Sheva Center  Beer-Sheva      4  False  34.798443  31.243288   \n",
       "1  Beer-Sheva University  Beer-Sheva      5   True  34.812831  31.260284   \n",
       "\n",
       "   status  \n",
       "0  Closed  \n",
       "1    Open  "
      ]
     },
     "execution_count": 34,
     "metadata": {},
     "output_type": "execute_result"
    }
   ],
   "source": [
    "pd.merge(stations,\n",
    "         station_status,\n",
    "         on = \"name\",\n",
    "         how = \"inner\")"
   ]
  },
  {
   "cell_type": "code",
   "execution_count": 35,
   "id": "3ec6a366-e057-4f94-9348-099ec16bff2d",
   "metadata": {},
   "outputs": [
    {
     "data": {
      "text/html": [
       "<div>\n",
       "<style scoped>\n",
       "    .dataframe tbody tr th:only-of-type {\n",
       "        vertical-align: middle;\n",
       "    }\n",
       "\n",
       "    .dataframe tbody tr th {\n",
       "        vertical-align: top;\n",
       "    }\n",
       "\n",
       "    .dataframe thead th {\n",
       "        text-align: right;\n",
       "    }\n",
       "</style>\n",
       "<table border=\"1\" class=\"dataframe\">\n",
       "  <thead>\n",
       "    <tr style=\"text-align: right;\">\n",
       "      <th></th>\n",
       "      <th>name</th>\n",
       "      <th>city</th>\n",
       "      <th>lines</th>\n",
       "      <th>piano</th>\n",
       "      <th>lon</th>\n",
       "      <th>lat</th>\n",
       "      <th>status</th>\n",
       "    </tr>\n",
       "  </thead>\n",
       "  <tbody>\n",
       "    <tr>\n",
       "      <th>0</th>\n",
       "      <td>Beer-Sheva Center</td>\n",
       "      <td>Beer-Sheva</td>\n",
       "      <td>4</td>\n",
       "      <td>False</td>\n",
       "      <td>34.798443</td>\n",
       "      <td>31.243288</td>\n",
       "      <td>Closed</td>\n",
       "    </tr>\n",
       "    <tr>\n",
       "      <th>1</th>\n",
       "      <td>Beer-Sheva University</td>\n",
       "      <td>Beer-Sheva</td>\n",
       "      <td>5</td>\n",
       "      <td>True</td>\n",
       "      <td>34.812831</td>\n",
       "      <td>31.260284</td>\n",
       "      <td>Open</td>\n",
       "    </tr>\n",
       "    <tr>\n",
       "      <th>2</th>\n",
       "      <td>Dimona</td>\n",
       "      <td>Dimona</td>\n",
       "      <td>1</td>\n",
       "      <td>False</td>\n",
       "      <td>35.011635</td>\n",
       "      <td>31.068616</td>\n",
       "      <td>NaN</td>\n",
       "    </tr>\n",
       "  </tbody>\n",
       "</table>\n",
       "</div>"
      ],
      "text/plain": [
       "                    name        city  lines  piano        lon        lat  \\\n",
       "0      Beer-Sheva Center  Beer-Sheva      4  False  34.798443  31.243288   \n",
       "1  Beer-Sheva University  Beer-Sheva      5   True  34.812831  31.260284   \n",
       "2                 Dimona      Dimona      1  False  35.011635  31.068616   \n",
       "\n",
       "   status  \n",
       "0  Closed  \n",
       "1    Open  \n",
       "2     NaN  "
      ]
     },
     "execution_count": 35,
     "metadata": {},
     "output_type": "execute_result"
    }
   ],
   "source": [
    "pd.merge(stations, station_status, how = \"left\")"
   ]
  },
  {
   "cell_type": "code",
   "execution_count": 36,
   "id": "d207120c-74da-4a0c-8736-8141144adccc",
   "metadata": {},
   "outputs": [
    {
     "data": {
      "text/html": [
       "<div>\n",
       "<style scoped>\n",
       "    .dataframe tbody tr th:only-of-type {\n",
       "        vertical-align: middle;\n",
       "    }\n",
       "\n",
       "    .dataframe tbody tr th {\n",
       "        vertical-align: top;\n",
       "    }\n",
       "\n",
       "    .dataframe thead th {\n",
       "        text-align: right;\n",
       "    }\n",
       "</style>\n",
       "<table border=\"1\" class=\"dataframe\">\n",
       "  <thead>\n",
       "    <tr style=\"text-align: right;\">\n",
       "      <th></th>\n",
       "      <th>name</th>\n",
       "      <th>city</th>\n",
       "      <th>lines</th>\n",
       "      <th>piano</th>\n",
       "      <th>lon</th>\n",
       "      <th>lat</th>\n",
       "      <th>status</th>\n",
       "    </tr>\n",
       "  </thead>\n",
       "  <tbody>\n",
       "    <tr>\n",
       "      <th>0</th>\n",
       "      <td>Beer-Sheva Center</td>\n",
       "      <td>Beer-Sheva</td>\n",
       "      <td>4.0</td>\n",
       "      <td>False</td>\n",
       "      <td>34.798443</td>\n",
       "      <td>31.243288</td>\n",
       "      <td>Closed</td>\n",
       "    </tr>\n",
       "    <tr>\n",
       "      <th>1</th>\n",
       "      <td>Beer-Sheva University</td>\n",
       "      <td>Beer-Sheva</td>\n",
       "      <td>5.0</td>\n",
       "      <td>True</td>\n",
       "      <td>34.812831</td>\n",
       "      <td>31.260284</td>\n",
       "      <td>Open</td>\n",
       "    </tr>\n",
       "    <tr>\n",
       "      <th>2</th>\n",
       "      <td>Tel-Aviv University</td>\n",
       "      <td>NaN</td>\n",
       "      <td>NaN</td>\n",
       "      <td>NaN</td>\n",
       "      <td>NaN</td>\n",
       "      <td>NaN</td>\n",
       "      <td>Open</td>\n",
       "    </tr>\n",
       "  </tbody>\n",
       "</table>\n",
       "</div>"
      ],
      "text/plain": [
       "                    name        city  lines  piano        lon        lat  \\\n",
       "0      Beer-Sheva Center  Beer-Sheva    4.0  False  34.798443  31.243288   \n",
       "1  Beer-Sheva University  Beer-Sheva    5.0   True  34.812831  31.260284   \n",
       "2    Tel-Aviv University         NaN    NaN    NaN        NaN        NaN   \n",
       "\n",
       "   status  \n",
       "0  Closed  \n",
       "1    Open  \n",
       "2    Open  "
      ]
     },
     "execution_count": 36,
     "metadata": {},
     "output_type": "execute_result"
    }
   ],
   "source": [
    "pd.merge(stations, station_status, how = \"right\")"
   ]
  },
  {
   "cell_type": "code",
   "execution_count": 37,
   "id": "aa4efee1-7370-4f0e-8e91-1d0f64c0b085",
   "metadata": {},
   "outputs": [
    {
     "data": {
      "text/html": [
       "<div>\n",
       "<style scoped>\n",
       "    .dataframe tbody tr th:only-of-type {\n",
       "        vertical-align: middle;\n",
       "    }\n",
       "\n",
       "    .dataframe tbody tr th {\n",
       "        vertical-align: top;\n",
       "    }\n",
       "\n",
       "    .dataframe thead th {\n",
       "        text-align: right;\n",
       "    }\n",
       "</style>\n",
       "<table border=\"1\" class=\"dataframe\">\n",
       "  <thead>\n",
       "    <tr style=\"text-align: right;\">\n",
       "      <th></th>\n",
       "      <th>name</th>\n",
       "      <th>city</th>\n",
       "      <th>lines</th>\n",
       "      <th>piano</th>\n",
       "      <th>lon</th>\n",
       "      <th>lat</th>\n",
       "      <th>status</th>\n",
       "    </tr>\n",
       "  </thead>\n",
       "  <tbody>\n",
       "    <tr>\n",
       "      <th>0</th>\n",
       "      <td>Beer-Sheva Center</td>\n",
       "      <td>Beer-Sheva</td>\n",
       "      <td>4.0</td>\n",
       "      <td>False</td>\n",
       "      <td>34.798443</td>\n",
       "      <td>31.243288</td>\n",
       "      <td>Closed</td>\n",
       "    </tr>\n",
       "    <tr>\n",
       "      <th>1</th>\n",
       "      <td>Beer-Sheva University</td>\n",
       "      <td>Beer-Sheva</td>\n",
       "      <td>5.0</td>\n",
       "      <td>True</td>\n",
       "      <td>34.812831</td>\n",
       "      <td>31.260284</td>\n",
       "      <td>Open</td>\n",
       "    </tr>\n",
       "    <tr>\n",
       "      <th>2</th>\n",
       "      <td>Dimona</td>\n",
       "      <td>Dimona</td>\n",
       "      <td>1.0</td>\n",
       "      <td>False</td>\n",
       "      <td>35.011635</td>\n",
       "      <td>31.068616</td>\n",
       "      <td>NaN</td>\n",
       "    </tr>\n",
       "    <tr>\n",
       "      <th>3</th>\n",
       "      <td>Tel-Aviv University</td>\n",
       "      <td>NaN</td>\n",
       "      <td>NaN</td>\n",
       "      <td>NaN</td>\n",
       "      <td>NaN</td>\n",
       "      <td>NaN</td>\n",
       "      <td>Open</td>\n",
       "    </tr>\n",
       "  </tbody>\n",
       "</table>\n",
       "</div>"
      ],
      "text/plain": [
       "                    name        city  lines  piano        lon        lat  \\\n",
       "0      Beer-Sheva Center  Beer-Sheva    4.0  False  34.798443  31.243288   \n",
       "1  Beer-Sheva University  Beer-Sheva    5.0   True  34.812831  31.260284   \n",
       "2                 Dimona      Dimona    1.0  False  35.011635  31.068616   \n",
       "3    Tel-Aviv University         NaN    NaN    NaN        NaN        NaN   \n",
       "\n",
       "   status  \n",
       "0  Closed  \n",
       "1    Open  \n",
       "2     NaN  \n",
       "3    Open  "
      ]
     },
     "execution_count": 37,
     "metadata": {},
     "output_type": "execute_result"
    }
   ],
   "source": [
    "pd.merge(stations, station_status, how = \"outer\")"
   ]
  },
  {
   "cell_type": "code",
   "execution_count": 38,
   "id": "d363d809-5046-437b-ad82-8e8fee1d6b78",
   "metadata": {},
   "outputs": [
    {
     "data": {
      "text/html": [
       "<div>\n",
       "<style scoped>\n",
       "    .dataframe tbody tr th:only-of-type {\n",
       "        vertical-align: middle;\n",
       "    }\n",
       "\n",
       "    .dataframe tbody tr th {\n",
       "        vertical-align: top;\n",
       "    }\n",
       "\n",
       "    .dataframe thead th {\n",
       "        text-align: right;\n",
       "    }\n",
       "</style>\n",
       "<table border=\"1\" class=\"dataframe\">\n",
       "  <thead>\n",
       "    <tr style=\"text-align: right;\">\n",
       "      <th></th>\n",
       "      <th>route_id</th>\n",
       "      <th>agency_id</th>\n",
       "      <th>route_short_name</th>\n",
       "      <th>route_long_name</th>\n",
       "      <th>agency_name</th>\n",
       "    </tr>\n",
       "  </thead>\n",
       "  <tbody>\n",
       "    <tr>\n",
       "      <th>0</th>\n",
       "      <td>1</td>\n",
       "      <td>25</td>\n",
       "      <td>1</td>\n",
       "      <td>ת. רכבת יבנה מערב-יבנה&lt;-&gt;ת. רכבת יבנה מזרח-יבנ...</td>\n",
       "      <td>אפיקים</td>\n",
       "    </tr>\n",
       "    <tr>\n",
       "      <th>1</th>\n",
       "      <td>2</td>\n",
       "      <td>25</td>\n",
       "      <td>1</td>\n",
       "      <td>ת. רכבת יבנה מזרח-יבנה&lt;-&gt;ת. רכבת יבנה מערב-יבנ...</td>\n",
       "      <td>אפיקים</td>\n",
       "    </tr>\n",
       "    <tr>\n",
       "      <th>2</th>\n",
       "      <td>3</td>\n",
       "      <td>25</td>\n",
       "      <td>2</td>\n",
       "      <td>ת. רכבת יבנה מערב-יבנה&lt;-&gt;ת. רכבת יבנה מזרח-יבנ...</td>\n",
       "      <td>אפיקים</td>\n",
       "    </tr>\n",
       "    <tr>\n",
       "      <th>3</th>\n",
       "      <td>5</td>\n",
       "      <td>25</td>\n",
       "      <td>2</td>\n",
       "      <td>ת. רכבת יבנה מזרח-יבנה&lt;-&gt;ת. רכבת יבנה מערב-יבנ...</td>\n",
       "      <td>אפיקים</td>\n",
       "    </tr>\n",
       "    <tr>\n",
       "      <th>4</th>\n",
       "      <td>7</td>\n",
       "      <td>25</td>\n",
       "      <td>3</td>\n",
       "      <td>ת. רכבת יבנה מערב-יבנה&lt;-&gt;ת. רכבת יבנה מזרח-יבנ...</td>\n",
       "      <td>אפיקים</td>\n",
       "    </tr>\n",
       "    <tr>\n",
       "      <th>...</th>\n",
       "      <td>...</td>\n",
       "      <td>...</td>\n",
       "      <td>...</td>\n",
       "      <td>...</td>\n",
       "      <td>...</td>\n",
       "    </tr>\n",
       "    <tr>\n",
       "      <th>7246</th>\n",
       "      <td>29363</td>\n",
       "      <td>18</td>\n",
       "      <td>450</td>\n",
       "      <td>מסוף האוניברסיטה-תל אביב יפו&lt;-&gt;ת. מרכזית רמלה/...</td>\n",
       "      <td>קווים</td>\n",
       "    </tr>\n",
       "    <tr>\n",
       "      <th>7247</th>\n",
       "      <td>29364</td>\n",
       "      <td>2</td>\n",
       "      <td>125</td>\n",
       "      <td>תל אביב ההגנה-תל אביב יפו&lt;-&gt;הרצליה-הרצליה</td>\n",
       "      <td>רכבת ישראל</td>\n",
       "    </tr>\n",
       "    <tr>\n",
       "      <th>7248</th>\n",
       "      <td>29365</td>\n",
       "      <td>2</td>\n",
       "      <td>69</td>\n",
       "      <td>רחובות-רחובות&lt;-&gt;תל אביב מרכז-תל אביב יפו</td>\n",
       "      <td>רכבת ישראל</td>\n",
       "    </tr>\n",
       "    <tr>\n",
       "      <th>7249</th>\n",
       "      <td>29366</td>\n",
       "      <td>2</td>\n",
       "      <td>60</td>\n",
       "      <td>נתניה-נתניה&lt;-&gt;אשקלון-אשקלון</td>\n",
       "      <td>רכבת ישראל</td>\n",
       "    </tr>\n",
       "    <tr>\n",
       "      <th>7250</th>\n",
       "      <td>29368</td>\n",
       "      <td>2</td>\n",
       "      <td>21</td>\n",
       "      <td>נהריה-נהריה&lt;-&gt;תל אביב ההגנה-תל אביב יפו</td>\n",
       "      <td>רכבת ישראל</td>\n",
       "    </tr>\n",
       "  </tbody>\n",
       "</table>\n",
       "<p>7251 rows × 5 columns</p>\n",
       "</div>"
      ],
      "text/plain": [
       "      route_id  agency_id route_short_name  \\\n",
       "0            1         25                1   \n",
       "1            2         25                1   \n",
       "2            3         25                2   \n",
       "3            5         25                2   \n",
       "4            7         25                3   \n",
       "...        ...        ...              ...   \n",
       "7246     29363         18              450   \n",
       "7247     29364          2              125   \n",
       "7248     29365          2               69   \n",
       "7249     29366          2               60   \n",
       "7250     29368          2               21   \n",
       "\n",
       "                                        route_long_name agency_name  \n",
       "0     ת. רכבת יבנה מערב-יבנה<->ת. רכבת יבנה מזרח-יבנ...      אפיקים  \n",
       "1     ת. רכבת יבנה מזרח-יבנה<->ת. רכבת יבנה מערב-יבנ...      אפיקים  \n",
       "2     ת. רכבת יבנה מערב-יבנה<->ת. רכבת יבנה מזרח-יבנ...      אפיקים  \n",
       "3     ת. רכבת יבנה מזרח-יבנה<->ת. רכבת יבנה מערב-יבנ...      אפיקים  \n",
       "4     ת. רכבת יבנה מערב-יבנה<->ת. רכבת יבנה מזרח-יבנ...      אפיקים  \n",
       "...                                                 ...         ...  \n",
       "7246  מסוף האוניברסיטה-תל אביב יפו<->ת. מרכזית רמלה/...       קווים  \n",
       "7247          תל אביב ההגנה-תל אביב יפו<->הרצליה-הרצליה  רכבת ישראל  \n",
       "7248           רחובות-רחובות<->תל אביב מרכז-תל אביב יפו  רכבת ישראל  \n",
       "7249                        נתניה-נתניה<->אשקלון-אשקלון  רכבת ישראל  \n",
       "7250            נהריה-נהריה<->תל אביב ההגנה-תל אביב יפו  רכבת ישראל  \n",
       "\n",
       "[7251 rows x 5 columns]"
      ]
     },
     "execution_count": 38,
     "metadata": {},
     "output_type": "execute_result"
    }
   ],
   "source": [
    "routes = pd.merge(routes,\n",
    "                  agency,\n",
    "                  on = \"agency_id\",\n",
    "                  how = \"left\")\n",
    "routes"
   ]
  },
  {
   "cell_type": "markdown",
   "id": "35da962e-e809-4070-b62b-fceb279d2ce4",
   "metadata": {},
   "source": [
    "<a id='pd-ops-aggregate'></a>\n",
    "## Aggregate"
   ]
  },
  {
   "cell_type": "markdown",
   "id": "04108b4c-b495-4d24-89bc-3650349a5f19",
   "metadata": {
    "tags": []
   },
   "source": [
    "[Return to Start of Notebook](#pd-ops)  "
   ]
  },
  {
   "cell_type": "markdown",
   "id": "f13e728a-082b-4b25-b3a3-8e4fa58ba190",
   "metadata": {},
   "source": [
    "### .groupby"
   ]
  },
  {
   "cell_type": "code",
   "execution_count": 39,
   "id": "8f270d91-a5fa-49ce-899c-009911f5d2b5",
   "metadata": {},
   "outputs": [
    {
     "data": {
      "text/html": [
       "<div>\n",
       "<style scoped>\n",
       "    .dataframe tbody tr th:only-of-type {\n",
       "        vertical-align: middle;\n",
       "    }\n",
       "\n",
       "    .dataframe tbody tr th {\n",
       "        vertical-align: top;\n",
       "    }\n",
       "\n",
       "    .dataframe thead th {\n",
       "        text-align: right;\n",
       "    }\n",
       "</style>\n",
       "<table border=\"1\" class=\"dataframe\">\n",
       "  <thead>\n",
       "    <tr style=\"text-align: right;\">\n",
       "      <th></th>\n",
       "      <th>name</th>\n",
       "      <th>city</th>\n",
       "      <th>lines</th>\n",
       "      <th>piano</th>\n",
       "      <th>lon</th>\n",
       "      <th>lat</th>\n",
       "    </tr>\n",
       "  </thead>\n",
       "  <tbody>\n",
       "    <tr>\n",
       "      <th>0</th>\n",
       "      <td>Beer-Sheva Center</td>\n",
       "      <td>Beer-Sheva</td>\n",
       "      <td>4</td>\n",
       "      <td>False</td>\n",
       "      <td>34.798443</td>\n",
       "      <td>31.243288</td>\n",
       "    </tr>\n",
       "    <tr>\n",
       "      <th>1</th>\n",
       "      <td>Beer-Sheva University</td>\n",
       "      <td>Beer-Sheva</td>\n",
       "      <td>5</td>\n",
       "      <td>True</td>\n",
       "      <td>34.812831</td>\n",
       "      <td>31.260284</td>\n",
       "    </tr>\n",
       "    <tr>\n",
       "      <th>2</th>\n",
       "      <td>Dimona</td>\n",
       "      <td>Dimona</td>\n",
       "      <td>1</td>\n",
       "      <td>False</td>\n",
       "      <td>35.011635</td>\n",
       "      <td>31.068616</td>\n",
       "    </tr>\n",
       "  </tbody>\n",
       "</table>\n",
       "</div>"
      ],
      "text/plain": [
       "                    name        city  lines  piano        lon        lat\n",
       "0      Beer-Sheva Center  Beer-Sheva      4  False  34.798443  31.243288\n",
       "1  Beer-Sheva University  Beer-Sheva      5   True  34.812831  31.260284\n",
       "2                 Dimona      Dimona      1  False  35.011635  31.068616"
      ]
     },
     "execution_count": 39,
     "metadata": {},
     "output_type": "execute_result"
    }
   ],
   "source": [
    "stations"
   ]
  },
  {
   "cell_type": "code",
   "execution_count": 40,
   "id": "cd646a4e-ba2f-46f1-861b-486f12b8c523",
   "metadata": {},
   "outputs": [
    {
     "data": {
      "text/html": [
       "<div>\n",
       "<style scoped>\n",
       "    .dataframe tbody tr th:only-of-type {\n",
       "        vertical-align: middle;\n",
       "    }\n",
       "\n",
       "    .dataframe tbody tr th {\n",
       "        vertical-align: top;\n",
       "    }\n",
       "\n",
       "    .dataframe thead th {\n",
       "        text-align: right;\n",
       "    }\n",
       "</style>\n",
       "<table border=\"1\" class=\"dataframe\">\n",
       "  <thead>\n",
       "    <tr style=\"text-align: right;\">\n",
       "      <th></th>\n",
       "      <th>lines</th>\n",
       "      <th>piano</th>\n",
       "    </tr>\n",
       "    <tr>\n",
       "      <th>city</th>\n",
       "      <th></th>\n",
       "      <th></th>\n",
       "    </tr>\n",
       "  </thead>\n",
       "  <tbody>\n",
       "    <tr>\n",
       "      <th>Beer-Sheva</th>\n",
       "      <td>9</td>\n",
       "      <td>1</td>\n",
       "    </tr>\n",
       "    <tr>\n",
       "      <th>Dimona</th>\n",
       "      <td>1</td>\n",
       "      <td>0</td>\n",
       "    </tr>\n",
       "  </tbody>\n",
       "</table>\n",
       "</div>"
      ],
      "text/plain": [
       "            lines  piano\n",
       "city                    \n",
       "Beer-Sheva      9      1\n",
       "Dimona          1      0"
      ]
     },
     "execution_count": 40,
     "metadata": {},
     "output_type": "execute_result"
    }
   ],
   "source": [
    "cols = [\"city\", \"lines\", \"piano\"]\n",
    "stations[cols].groupby(\"city\").sum()"
   ]
  },
  {
   "cell_type": "markdown",
   "id": "8063347b-a9f6-4a5d-ac19-00f548871f25",
   "metadata": {},
   "source": [
    "#### .reset_index()"
   ]
  },
  {
   "cell_type": "code",
   "execution_count": 41,
   "id": "026a7c68-ce15-4eac-903a-1a02bc86debe",
   "metadata": {},
   "outputs": [
    {
     "data": {
      "text/html": [
       "<div>\n",
       "<style scoped>\n",
       "    .dataframe tbody tr th:only-of-type {\n",
       "        vertical-align: middle;\n",
       "    }\n",
       "\n",
       "    .dataframe tbody tr th {\n",
       "        vertical-align: top;\n",
       "    }\n",
       "\n",
       "    .dataframe thead th {\n",
       "        text-align: right;\n",
       "    }\n",
       "</style>\n",
       "<table border=\"1\" class=\"dataframe\">\n",
       "  <thead>\n",
       "    <tr style=\"text-align: right;\">\n",
       "      <th></th>\n",
       "      <th>city</th>\n",
       "      <th>lines</th>\n",
       "      <th>piano</th>\n",
       "    </tr>\n",
       "  </thead>\n",
       "  <tbody>\n",
       "    <tr>\n",
       "      <th>0</th>\n",
       "      <td>Beer-Sheva</td>\n",
       "      <td>9</td>\n",
       "      <td>1</td>\n",
       "    </tr>\n",
       "    <tr>\n",
       "      <th>1</th>\n",
       "      <td>Dimona</td>\n",
       "      <td>1</td>\n",
       "      <td>0</td>\n",
       "    </tr>\n",
       "  </tbody>\n",
       "</table>\n",
       "</div>"
      ],
      "text/plain": [
       "         city  lines  piano\n",
       "0  Beer-Sheva      9      1\n",
       "1      Dimona      1      0"
      ]
     },
     "execution_count": 41,
     "metadata": {},
     "output_type": "execute_result"
    }
   ],
   "source": [
    "stations[cols].groupby(\"city\").sum().reset_index()"
   ]
  },
  {
   "cell_type": "markdown",
   "id": "43439c88-4fd2-47f1-86cf-c0868ac7420b",
   "metadata": {},
   "source": [
    "#### .first()"
   ]
  },
  {
   "cell_type": "code",
   "execution_count": 42,
   "id": "050d6a54-bd26-4700-82e8-4da419319106",
   "metadata": {},
   "outputs": [
    {
     "data": {
      "text/html": [
       "<div>\n",
       "<style scoped>\n",
       "    .dataframe tbody tr th:only-of-type {\n",
       "        vertical-align: middle;\n",
       "    }\n",
       "\n",
       "    .dataframe tbody tr th {\n",
       "        vertical-align: top;\n",
       "    }\n",
       "\n",
       "    .dataframe thead th {\n",
       "        text-align: right;\n",
       "    }\n",
       "</style>\n",
       "<table border=\"1\" class=\"dataframe\">\n",
       "  <thead>\n",
       "    <tr style=\"text-align: right;\">\n",
       "      <th></th>\n",
       "      <th>name</th>\n",
       "      <th>lines</th>\n",
       "      <th>piano</th>\n",
       "      <th>lon</th>\n",
       "      <th>lat</th>\n",
       "    </tr>\n",
       "    <tr>\n",
       "      <th>city</th>\n",
       "      <th></th>\n",
       "      <th></th>\n",
       "      <th></th>\n",
       "      <th></th>\n",
       "      <th></th>\n",
       "    </tr>\n",
       "  </thead>\n",
       "  <tbody>\n",
       "    <tr>\n",
       "      <th>Beer-Sheva</th>\n",
       "      <td>Beer-Sheva Center</td>\n",
       "      <td>4</td>\n",
       "      <td>False</td>\n",
       "      <td>34.798443</td>\n",
       "      <td>31.243288</td>\n",
       "    </tr>\n",
       "    <tr>\n",
       "      <th>Dimona</th>\n",
       "      <td>Dimona</td>\n",
       "      <td>1</td>\n",
       "      <td>False</td>\n",
       "      <td>35.011635</td>\n",
       "      <td>31.068616</td>\n",
       "    </tr>\n",
       "  </tbody>\n",
       "</table>\n",
       "</div>"
      ],
      "text/plain": [
       "                         name  lines  piano        lon        lat\n",
       "city                                                             \n",
       "Beer-Sheva  Beer-Sheva Center      4  False  34.798443  31.243288\n",
       "Dimona                 Dimona      1  False  35.011635  31.068616"
      ]
     },
     "execution_count": 42,
     "metadata": {},
     "output_type": "execute_result"
    }
   ],
   "source": [
    "stations.groupby(\"city\").first()"
   ]
  },
  {
   "cell_type": "markdown",
   "id": "52936f0f-0c36-4991-b3e9-b12a6656f790",
   "metadata": {},
   "source": [
    "#### .nunique()"
   ]
  },
  {
   "cell_type": "code",
   "execution_count": 43,
   "id": "023adf10-6a49-4d06-b439-1bb5f0f0a0f4",
   "metadata": {},
   "outputs": [
    {
     "data": {
      "text/html": [
       "<div>\n",
       "<style scoped>\n",
       "    .dataframe tbody tr th:only-of-type {\n",
       "        vertical-align: middle;\n",
       "    }\n",
       "\n",
       "    .dataframe tbody tr th {\n",
       "        vertical-align: top;\n",
       "    }\n",
       "\n",
       "    .dataframe thead th {\n",
       "        text-align: right;\n",
       "    }\n",
       "</style>\n",
       "<table border=\"1\" class=\"dataframe\">\n",
       "  <thead>\n",
       "    <tr style=\"text-align: right;\">\n",
       "      <th></th>\n",
       "      <th>name</th>\n",
       "    </tr>\n",
       "    <tr>\n",
       "      <th>city</th>\n",
       "      <th></th>\n",
       "    </tr>\n",
       "  </thead>\n",
       "  <tbody>\n",
       "    <tr>\n",
       "      <th>Beer-Sheva</th>\n",
       "      <td>2</td>\n",
       "    </tr>\n",
       "    <tr>\n",
       "      <th>Dimona</th>\n",
       "      <td>1</td>\n",
       "    </tr>\n",
       "  </tbody>\n",
       "</table>\n",
       "</div>"
      ],
      "text/plain": [
       "            name\n",
       "city            \n",
       "Beer-Sheva     2\n",
       "Dimona         1"
      ]
     },
     "execution_count": 43,
     "metadata": {},
     "output_type": "execute_result"
    }
   ],
   "source": [
    "tmp = stations[[\"city\", \"name\"]].groupby(\"city\").nunique()\n",
    "tmp.head(3)"
   ]
  },
  {
   "cell_type": "markdown",
   "id": "367f2f84-b3e7-42c7-8384-d77720c6088b",
   "metadata": {},
   "source": [
    "### groupby decade"
   ]
  },
  {
   "cell_type": "code",
   "execution_count": null,
   "id": "98d7cdfe-f060-4676-b6eb-f8c0434906ad",
   "metadata": {},
   "outputs": [],
   "source": []
  },
  {
   "cell_type": "code",
   "execution_count": null,
   "id": "126b99d5-2a44-432a-869b-7a74e455d533",
   "metadata": {},
   "outputs": [],
   "source": []
  },
  {
   "cell_type": "markdown",
   "id": "69006ba0-0f21-462d-9ed8-210082f6f64e",
   "metadata": {},
   "source": [
    "### groupby .agg"
   ]
  },
  {
   "cell_type": "code",
   "execution_count": 44,
   "id": "4c15c7db-33d0-45ee-a19f-a2c4d253f55c",
   "metadata": {},
   "outputs": [
    {
     "data": {
      "text/html": [
       "<div>\n",
       "<style scoped>\n",
       "    .dataframe tbody tr th:only-of-type {\n",
       "        vertical-align: middle;\n",
       "    }\n",
       "\n",
       "    .dataframe tbody tr th {\n",
       "        vertical-align: top;\n",
       "    }\n",
       "\n",
       "    .dataframe thead th {\n",
       "        text-align: right;\n",
       "    }\n",
       "</style>\n",
       "<table border=\"1\" class=\"dataframe\">\n",
       "  <thead>\n",
       "    <tr style=\"text-align: right;\">\n",
       "      <th></th>\n",
       "      <th>city</th>\n",
       "      <th>country</th>\n",
       "      <th>pop</th>\n",
       "      <th>lat</th>\n",
       "      <th>lon</th>\n",
       "      <th>capital</th>\n",
       "    </tr>\n",
       "  </thead>\n",
       "  <tbody>\n",
       "    <tr>\n",
       "      <th>0</th>\n",
       "      <td>'Abasan al-Jadidah</td>\n",
       "      <td>Palestine</td>\n",
       "      <td>5629</td>\n",
       "      <td>31.31</td>\n",
       "      <td>34.34</td>\n",
       "      <td>0</td>\n",
       "    </tr>\n",
       "    <tr>\n",
       "      <th>1</th>\n",
       "      <td>'Abasan al-Kabirah</td>\n",
       "      <td>Palestine</td>\n",
       "      <td>18999</td>\n",
       "      <td>31.32</td>\n",
       "      <td>34.35</td>\n",
       "      <td>0</td>\n",
       "    </tr>\n",
       "    <tr>\n",
       "      <th>2</th>\n",
       "      <td>'Abdul Hakim</td>\n",
       "      <td>Pakistan</td>\n",
       "      <td>47788</td>\n",
       "      <td>30.55</td>\n",
       "      <td>72.11</td>\n",
       "      <td>0</td>\n",
       "    </tr>\n",
       "  </tbody>\n",
       "</table>\n",
       "</div>"
      ],
      "text/plain": [
       "                 city    country    pop    lat    lon  capital\n",
       "0  'Abasan al-Jadidah  Palestine   5629  31.31  34.34        0\n",
       "1  'Abasan al-Kabirah  Palestine  18999  31.32  34.35        0\n",
       "2        'Abdul Hakim   Pakistan  47788  30.55  72.11        0"
      ]
     },
     "execution_count": 44,
     "metadata": {},
     "output_type": "execute_result"
    }
   ],
   "source": [
    "cities.head(3)"
   ]
  },
  {
   "cell_type": "code",
   "execution_count": 45,
   "id": "9760be61-bad1-4677-8a5c-2871b7466114",
   "metadata": {},
   "outputs": [
    {
     "data": {
      "text/html": [
       "<div>\n",
       "<style scoped>\n",
       "    .dataframe tbody tr th:only-of-type {\n",
       "        vertical-align: middle;\n",
       "    }\n",
       "\n",
       "    .dataframe tbody tr th {\n",
       "        vertical-align: top;\n",
       "    }\n",
       "\n",
       "    .dataframe thead th {\n",
       "        text-align: right;\n",
       "    }\n",
       "</style>\n",
       "<table border=\"1\" class=\"dataframe\">\n",
       "  <thead>\n",
       "    <tr style=\"text-align: right;\">\n",
       "      <th></th>\n",
       "      <th>country</th>\n",
       "      <th>city</th>\n",
       "      <th>pop</th>\n",
       "      <th>lon</th>\n",
       "      <th>lat</th>\n",
       "    </tr>\n",
       "  </thead>\n",
       "  <tbody>\n",
       "    <tr>\n",
       "      <th>0</th>\n",
       "      <td>Afghanistan</td>\n",
       "      <td>115</td>\n",
       "      <td>7543856</td>\n",
       "      <td>66.920342</td>\n",
       "      <td>34.807692</td>\n",
       "    </tr>\n",
       "    <tr>\n",
       "      <th>1</th>\n",
       "      <td>Albania</td>\n",
       "      <td>67</td>\n",
       "      <td>1536232</td>\n",
       "      <td>19.975522</td>\n",
       "      <td>41.087463</td>\n",
       "    </tr>\n",
       "    <tr>\n",
       "      <th>2</th>\n",
       "      <td>Algeria</td>\n",
       "      <td>315</td>\n",
       "      <td>20508642</td>\n",
       "      <td>3.535443</td>\n",
       "      <td>35.467025</td>\n",
       "    </tr>\n",
       "    <tr>\n",
       "      <th>3</th>\n",
       "      <td>American Samoa</td>\n",
       "      <td>35</td>\n",
       "      <td>58021</td>\n",
       "      <td>-170.663714</td>\n",
       "      <td>-14.299143</td>\n",
       "    </tr>\n",
       "    <tr>\n",
       "      <th>4</th>\n",
       "      <td>Andorra</td>\n",
       "      <td>7</td>\n",
       "      <td>69031</td>\n",
       "      <td>1.538571</td>\n",
       "      <td>42.534286</td>\n",
       "    </tr>\n",
       "    <tr>\n",
       "      <th>...</th>\n",
       "      <td>...</td>\n",
       "      <td>...</td>\n",
       "      <td>...</td>\n",
       "      <td>...</td>\n",
       "      <td>...</td>\n",
       "    </tr>\n",
       "    <tr>\n",
       "      <th>234</th>\n",
       "      <td>Wallis and Futuna</td>\n",
       "      <td>23</td>\n",
       "      <td>11380</td>\n",
       "      <td>-176.585652</td>\n",
       "      <td>-13.512609</td>\n",
       "    </tr>\n",
       "    <tr>\n",
       "      <th>235</th>\n",
       "      <td>Western Sahara</td>\n",
       "      <td>4</td>\n",
       "      <td>338786</td>\n",
       "      <td>-13.820000</td>\n",
       "      <td>25.935000</td>\n",
       "    </tr>\n",
       "    <tr>\n",
       "      <th>236</th>\n",
       "      <td>Yemen</td>\n",
       "      <td>30</td>\n",
       "      <td>5492077</td>\n",
       "      <td>45.088667</td>\n",
       "      <td>14.481000</td>\n",
       "    </tr>\n",
       "    <tr>\n",
       "      <th>237</th>\n",
       "      <td>Zambia</td>\n",
       "      <td>73</td>\n",
       "      <td>4032170</td>\n",
       "      <td>28.179315</td>\n",
       "      <td>-13.404247</td>\n",
       "    </tr>\n",
       "    <tr>\n",
       "      <th>238</th>\n",
       "      <td>Zimbabwe</td>\n",
       "      <td>76</td>\n",
       "      <td>4231859</td>\n",
       "      <td>30.442500</td>\n",
       "      <td>-18.629211</td>\n",
       "    </tr>\n",
       "  </tbody>\n",
       "</table>\n",
       "<p>239 rows × 5 columns</p>\n",
       "</div>"
      ],
      "text/plain": [
       "               country  city       pop         lon        lat\n",
       "0          Afghanistan   115   7543856   66.920342  34.807692\n",
       "1              Albania    67   1536232   19.975522  41.087463\n",
       "2              Algeria   315  20508642    3.535443  35.467025\n",
       "3       American Samoa    35     58021 -170.663714 -14.299143\n",
       "4              Andorra     7     69031    1.538571  42.534286\n",
       "..                 ...   ...       ...         ...        ...\n",
       "234  Wallis and Futuna    23     11380 -176.585652 -13.512609\n",
       "235     Western Sahara     4    338786  -13.820000  25.935000\n",
       "236              Yemen    30   5492077   45.088667  14.481000\n",
       "237             Zambia    73   4032170   28.179315 -13.404247\n",
       "238           Zimbabwe    76   4231859   30.442500 -18.629211\n",
       "\n",
       "[239 rows x 5 columns]"
      ]
     },
     "execution_count": 45,
     "metadata": {},
     "output_type": "execute_result"
    }
   ],
   "source": [
    "# \"nunique\" is pandas functions\n",
    "\n",
    "cities.groupby(\"country\").agg({\n",
    "    \"city\": \"nunique\", \n",
    "    \"pop\": np.sum, \n",
    "    \"lon\": np.mean, \n",
    "    \"lat\": np.mean\n",
    "}).reset_index()"
   ]
  },
  {
   "cell_type": "markdown",
   "id": "75994b6d-a101-44cd-80d3-a946f869f449",
   "metadata": {},
   "source": [
    "#### .groupby().agg() with custom function"
   ]
  },
  {
   "cell_type": "code",
   "execution_count": 46,
   "id": "b816b876-145d-48b1-9eea-bfcdfb83513c",
   "metadata": {},
   "outputs": [],
   "source": [
    "def max_min_diff(x):\n",
    "    return x.max() - x.min()"
   ]
  },
  {
   "cell_type": "code",
   "execution_count": 47,
   "id": "fc45937d-0d9d-4c2c-82c4-5e99ca915b55",
   "metadata": {},
   "outputs": [
    {
     "data": {
      "text/plain": [
       "21      12834\n",
       "333     15423\n",
       "1389    10228\n",
       "Name: pop, dtype: int64"
      ]
     },
     "execution_count": 47,
     "metadata": {},
     "output_type": "execute_result"
    }
   ],
   "source": [
    "filt = cities[\"country\"] == \"Afghanistan\"\n",
    "x = cities[filt][\"pop\"]\n",
    "x.head(3)"
   ]
  },
  {
   "cell_type": "code",
   "execution_count": 48,
   "id": "abfc71a2-5c88-4028-a5fb-e86fc5a5164a",
   "metadata": {},
   "outputs": [
    {
     "data": {
      "text/plain": [
       "pandas.core.series.Series"
      ]
     },
     "execution_count": 48,
     "metadata": {},
     "output_type": "execute_result"
    }
   ],
   "source": [
    "type(x)"
   ]
  },
  {
   "cell_type": "code",
   "execution_count": 49,
   "id": "0d854d1f-5a5e-438e-a034-07b6ab9129d4",
   "metadata": {},
   "outputs": [
    {
     "data": {
      "text/plain": [
       "3117579"
      ]
     },
     "execution_count": 49,
     "metadata": {},
     "output_type": "execute_result"
    }
   ],
   "source": [
    "max_min_diff(x)"
   ]
  },
  {
   "cell_type": "code",
   "execution_count": 50,
   "id": "6eafa82b-1965-4c53-bab4-c8c838d7e432",
   "metadata": {},
   "outputs": [
    {
     "data": {
      "text/html": [
       "<div>\n",
       "<style scoped>\n",
       "    .dataframe tbody tr th:only-of-type {\n",
       "        vertical-align: middle;\n",
       "    }\n",
       "\n",
       "    .dataframe tbody tr th {\n",
       "        vertical-align: top;\n",
       "    }\n",
       "\n",
       "    .dataframe thead th {\n",
       "        text-align: right;\n",
       "    }\n",
       "</style>\n",
       "<table border=\"1\" class=\"dataframe\">\n",
       "  <thead>\n",
       "    <tr style=\"text-align: right;\">\n",
       "      <th></th>\n",
       "      <th>country</th>\n",
       "      <th>city</th>\n",
       "      <th>pop</th>\n",
       "    </tr>\n",
       "  </thead>\n",
       "  <tbody>\n",
       "    <tr>\n",
       "      <th>0</th>\n",
       "      <td>Afghanistan</td>\n",
       "      <td>115</td>\n",
       "      <td>3117579</td>\n",
       "    </tr>\n",
       "    <tr>\n",
       "      <th>1</th>\n",
       "      <td>Albania</td>\n",
       "      <td>67</td>\n",
       "      <td>379803</td>\n",
       "    </tr>\n",
       "    <tr>\n",
       "      <th>2</th>\n",
       "      <td>Algeria</td>\n",
       "      <td>315</td>\n",
       "      <td>2024344</td>\n",
       "    </tr>\n",
       "    <tr>\n",
       "      <th>3</th>\n",
       "      <td>American Samoa</td>\n",
       "      <td>35</td>\n",
       "      <td>11341</td>\n",
       "    </tr>\n",
       "    <tr>\n",
       "      <th>4</th>\n",
       "      <td>Andorra</td>\n",
       "      <td>7</td>\n",
       "      <td>17740</td>\n",
       "    </tr>\n",
       "    <tr>\n",
       "      <th>...</th>\n",
       "      <td>...</td>\n",
       "      <td>...</td>\n",
       "      <td>...</td>\n",
       "    </tr>\n",
       "    <tr>\n",
       "      <th>234</th>\n",
       "      <td>Wallis and Futuna</td>\n",
       "      <td>23</td>\n",
       "      <td>1142</td>\n",
       "    </tr>\n",
       "    <tr>\n",
       "      <th>235</th>\n",
       "      <td>Western Sahara</td>\n",
       "      <td>4</td>\n",
       "      <td>146906</td>\n",
       "    </tr>\n",
       "    <tr>\n",
       "      <th>236</th>\n",
       "      <td>Yemen</td>\n",
       "      <td>30</td>\n",
       "      <td>1918607</td>\n",
       "    </tr>\n",
       "    <tr>\n",
       "      <th>237</th>\n",
       "      <td>Zambia</td>\n",
       "      <td>73</td>\n",
       "      <td>1305210</td>\n",
       "    </tr>\n",
       "    <tr>\n",
       "      <th>238</th>\n",
       "      <td>Zimbabwe</td>\n",
       "      <td>76</td>\n",
       "      <td>1574930</td>\n",
       "    </tr>\n",
       "  </tbody>\n",
       "</table>\n",
       "<p>239 rows × 3 columns</p>\n",
       "</div>"
      ],
      "text/plain": [
       "               country  city      pop\n",
       "0          Afghanistan   115  3117579\n",
       "1              Albania    67   379803\n",
       "2              Algeria   315  2024344\n",
       "3       American Samoa    35    11341\n",
       "4              Andorra     7    17740\n",
       "..                 ...   ...      ...\n",
       "234  Wallis and Futuna    23     1142\n",
       "235     Western Sahara     4   146906\n",
       "236              Yemen    30  1918607\n",
       "237             Zambia    73  1305210\n",
       "238           Zimbabwe    76  1574930\n",
       "\n",
       "[239 rows x 3 columns]"
      ]
     },
     "execution_count": 50,
     "metadata": {},
     "output_type": "execute_result"
    }
   ],
   "source": [
    "cities .groupby(\"country\").agg({\n",
    "    \"city\": \"nunique\", \n",
    "    \"pop\": max_min_diff\n",
    "}).reset_index()"
   ]
  },
  {
   "cell_type": "markdown",
   "id": "cd66c0b6-9819-4da1-ba37-79d80244d407",
   "metadata": {},
   "source": [
    "#### .groupby().agg() with lambda"
   ]
  },
  {
   "cell_type": "code",
   "execution_count": 51,
   "id": "af0072ed-50f2-4eb3-9fde-7fc29d47a2d1",
   "metadata": {},
   "outputs": [
    {
     "data": {
      "text/html": [
       "<div>\n",
       "<style scoped>\n",
       "    .dataframe tbody tr th:only-of-type {\n",
       "        vertical-align: middle;\n",
       "    }\n",
       "\n",
       "    .dataframe tbody tr th {\n",
       "        vertical-align: top;\n",
       "    }\n",
       "\n",
       "    .dataframe thead th {\n",
       "        text-align: right;\n",
       "    }\n",
       "</style>\n",
       "<table border=\"1\" class=\"dataframe\">\n",
       "  <thead>\n",
       "    <tr style=\"text-align: right;\">\n",
       "      <th></th>\n",
       "      <th>country</th>\n",
       "      <th>city</th>\n",
       "      <th>pop</th>\n",
       "    </tr>\n",
       "  </thead>\n",
       "  <tbody>\n",
       "    <tr>\n",
       "      <th>0</th>\n",
       "      <td>Afghanistan</td>\n",
       "      <td>115</td>\n",
       "      <td>3117579</td>\n",
       "    </tr>\n",
       "    <tr>\n",
       "      <th>1</th>\n",
       "      <td>Albania</td>\n",
       "      <td>67</td>\n",
       "      <td>379803</td>\n",
       "    </tr>\n",
       "    <tr>\n",
       "      <th>2</th>\n",
       "      <td>Algeria</td>\n",
       "      <td>315</td>\n",
       "      <td>2024344</td>\n",
       "    </tr>\n",
       "    <tr>\n",
       "      <th>3</th>\n",
       "      <td>American Samoa</td>\n",
       "      <td>35</td>\n",
       "      <td>11341</td>\n",
       "    </tr>\n",
       "    <tr>\n",
       "      <th>4</th>\n",
       "      <td>Andorra</td>\n",
       "      <td>7</td>\n",
       "      <td>17740</td>\n",
       "    </tr>\n",
       "    <tr>\n",
       "      <th>...</th>\n",
       "      <td>...</td>\n",
       "      <td>...</td>\n",
       "      <td>...</td>\n",
       "    </tr>\n",
       "    <tr>\n",
       "      <th>234</th>\n",
       "      <td>Wallis and Futuna</td>\n",
       "      <td>23</td>\n",
       "      <td>1142</td>\n",
       "    </tr>\n",
       "    <tr>\n",
       "      <th>235</th>\n",
       "      <td>Western Sahara</td>\n",
       "      <td>4</td>\n",
       "      <td>146906</td>\n",
       "    </tr>\n",
       "    <tr>\n",
       "      <th>236</th>\n",
       "      <td>Yemen</td>\n",
       "      <td>30</td>\n",
       "      <td>1918607</td>\n",
       "    </tr>\n",
       "    <tr>\n",
       "      <th>237</th>\n",
       "      <td>Zambia</td>\n",
       "      <td>73</td>\n",
       "      <td>1305210</td>\n",
       "    </tr>\n",
       "    <tr>\n",
       "      <th>238</th>\n",
       "      <td>Zimbabwe</td>\n",
       "      <td>76</td>\n",
       "      <td>1574930</td>\n",
       "    </tr>\n",
       "  </tbody>\n",
       "</table>\n",
       "<p>239 rows × 3 columns</p>\n",
       "</div>"
      ],
      "text/plain": [
       "               country  city      pop\n",
       "0          Afghanistan   115  3117579\n",
       "1              Albania    67   379803\n",
       "2              Algeria   315  2024344\n",
       "3       American Samoa    35    11341\n",
       "4              Andorra     7    17740\n",
       "..                 ...   ...      ...\n",
       "234  Wallis and Futuna    23     1142\n",
       "235     Western Sahara     4   146906\n",
       "236              Yemen    30  1918607\n",
       "237             Zambia    73  1305210\n",
       "238           Zimbabwe    76  1574930\n",
       "\n",
       "[239 rows x 3 columns]"
      ]
     },
     "execution_count": 51,
     "metadata": {},
     "output_type": "execute_result"
    }
   ],
   "source": [
    "cities.groupby(\"country\").agg({\n",
    "    \"city\": \"nunique\", \n",
    "    \"pop\": lambda x: x.max() - x.min()\n",
    "}).reset_index()"
   ]
  },
  {
   "cell_type": "markdown",
   "id": "978a94a0-1a9a-4ce6-bf03-b644d1c3ce1b",
   "metadata": {},
   "source": [
    "### value counts"
   ]
  },
  {
   "cell_type": "code",
   "execution_count": 52,
   "id": "c949f5bf-9298-4950-bd25-2cce85ed0130",
   "metadata": {},
   "outputs": [
    {
     "data": {
      "text/plain": [
       "France            1000\n",
       "Greece            1000\n",
       "Romania            999\n",
       "Japan              999\n",
       "Germany            998\n",
       "                  ... \n",
       "Saint-Martin         1\n",
       "Norfolk Island       1\n",
       "Gibraltar            1\n",
       "Easter Island        1\n",
       "Nauru                1\n",
       "Name: country, Length: 239, dtype: int64"
      ]
     },
     "execution_count": 52,
     "metadata": {},
     "output_type": "execute_result"
    }
   ],
   "source": [
    "cities[\"country\"].value_counts()"
   ]
  },
  {
   "cell_type": "markdown",
   "id": "6bf8eb67-849b-49b1-b243-b11773aee0c4",
   "metadata": {},
   "source": [
    "#### .sort_index()"
   ]
  },
  {
   "cell_type": "code",
   "execution_count": 53,
   "id": "70edc467-cca1-42b4-bcc0-64d7cc6afe16",
   "metadata": {},
   "outputs": [
    {
     "data": {
      "text/plain": [
       "Afghanistan          117\n",
       "Albania               67\n",
       "Algeria              316\n",
       "American Samoa        35\n",
       "Andorra                7\n",
       "                    ... \n",
       "Wallis and Futuna     23\n",
       "Western Sahara         4\n",
       "Yemen                 30\n",
       "Zambia                73\n",
       "Zimbabwe              76\n",
       "Name: country, Length: 239, dtype: int64"
      ]
     },
     "execution_count": 53,
     "metadata": {},
     "output_type": "execute_result"
    }
   ],
   "source": [
    "cities[\"country\"].value_counts().sort_index()"
   ]
  },
  {
   "cell_type": "markdown",
   "id": "b27f48b3-27c5-471e-9154-768a03c57ed9",
   "metadata": {
    "tags": []
   },
   "source": [
    "<a id='pd-ops-exercise'></a>\n",
    "## Exercise"
   ]
  },
  {
   "cell_type": "markdown",
   "id": "749534a9-ef27-46e0-ab18-6099d3f9f659",
   "metadata": {
    "tags": []
   },
   "source": [
    "[Return to Start of Notebook](#pd)  "
   ]
  },
  {
   "cell_type": "markdown",
   "id": "8678cc12-395d-4dd9-9edc-825935fea2e4",
   "metadata": {},
   "source": [
    "### Part 1"
   ]
  },
  {
   "cell_type": "markdown",
   "id": "20b14d7b-7f5e-4d5d-bc72-9abf0c462228",
   "metadata": {},
   "source": [
    "#### import"
   ]
  },
  {
   "cell_type": "code",
   "execution_count": 54,
   "id": "77d6b868-eca7-4ebb-839d-5d4dbb5595db",
   "metadata": {},
   "outputs": [
    {
     "data": {
      "text/html": [
       "<div>\n",
       "<style scoped>\n",
       "    .dataframe tbody tr th:only-of-type {\n",
       "        vertical-align: middle;\n",
       "    }\n",
       "\n",
       "    .dataframe tbody tr th {\n",
       "        vertical-align: top;\n",
       "    }\n",
       "\n",
       "    .dataframe thead th {\n",
       "        text-align: right;\n",
       "    }\n",
       "</style>\n",
       "<table border=\"1\" class=\"dataframe\">\n",
       "  <thead>\n",
       "    <tr style=\"text-align: right;\">\n",
       "      <th></th>\n",
       "      <th>trip_id</th>\n",
       "      <th>shape_dist_traveled</th>\n",
       "    </tr>\n",
       "  </thead>\n",
       "  <tbody>\n",
       "    <tr>\n",
       "      <th>0</th>\n",
       "      <td>10021427_240421</td>\n",
       "      <td>0</td>\n",
       "    </tr>\n",
       "    <tr>\n",
       "      <th>1</th>\n",
       "      <td>10021427_240421</td>\n",
       "      <td>499</td>\n",
       "    </tr>\n",
       "    <tr>\n",
       "      <th>2</th>\n",
       "      <td>10021427_240421</td>\n",
       "      <td>1838</td>\n",
       "    </tr>\n",
       "  </tbody>\n",
       "</table>\n",
       "</div>"
      ],
      "text/plain": [
       "           trip_id  shape_dist_traveled\n",
       "0  10021427_240421                    0\n",
       "1  10021427_240421                  499\n",
       "2  10021427_240421                 1838"
      ]
     },
     "execution_count": 54,
     "metadata": {},
     "output_type": "execute_result"
    }
   ],
   "source": [
    "times = pd.read_csv(\"data/gtfs/stop_times.txt\")\n",
    "times = times[[\"trip_id\", \"shape_dist_traveled\"]]\n",
    "times.head(3)"
   ]
  },
  {
   "cell_type": "code",
   "execution_count": 55,
   "id": "acb02a54-be3c-4d9d-adad-f4061cb4ded2",
   "metadata": {
    "tags": []
   },
   "outputs": [
    {
     "data": {
      "text/html": [
       "<div>\n",
       "<style scoped>\n",
       "    .dataframe tbody tr th:only-of-type {\n",
       "        vertical-align: middle;\n",
       "    }\n",
       "\n",
       "    .dataframe tbody tr th {\n",
       "        vertical-align: top;\n",
       "    }\n",
       "\n",
       "    .dataframe thead th {\n",
       "        text-align: right;\n",
       "    }\n",
       "</style>\n",
       "<table border=\"1\" class=\"dataframe\">\n",
       "  <thead>\n",
       "    <tr style=\"text-align: right;\">\n",
       "      <th></th>\n",
       "      <th>trip_id</th>\n",
       "      <th>route_id</th>\n",
       "    </tr>\n",
       "  </thead>\n",
       "  <tbody>\n",
       "    <tr>\n",
       "      <th>0</th>\n",
       "      <td>28876224_180421</td>\n",
       "      <td>1</td>\n",
       "    </tr>\n",
       "    <tr>\n",
       "      <th>1</th>\n",
       "      <td>28876225_180421</td>\n",
       "      <td>1</td>\n",
       "    </tr>\n",
       "    <tr>\n",
       "      <th>2</th>\n",
       "      <td>28876226_180421</td>\n",
       "      <td>1</td>\n",
       "    </tr>\n",
       "  </tbody>\n",
       "</table>\n",
       "</div>"
      ],
      "text/plain": [
       "           trip_id  route_id\n",
       "0  28876224_180421         1\n",
       "1  28876225_180421         1\n",
       "2  28876226_180421         1"
      ]
     },
     "execution_count": 55,
     "metadata": {},
     "output_type": "execute_result"
    }
   ],
   "source": [
    "trips = pd.read_csv(\"data/gtfs/trips.txt\")\n",
    "trips = trips[[\"trip_id\", \"route_id\"]]\n",
    "trips.head(3)"
   ]
  },
  {
   "cell_type": "code",
   "execution_count": 56,
   "id": "e22b0934-7fce-4ac8-851c-cb50190815e6",
   "metadata": {},
   "outputs": [
    {
     "data": {
      "text/html": [
       "<div>\n",
       "<style scoped>\n",
       "    .dataframe tbody tr th:only-of-type {\n",
       "        vertical-align: middle;\n",
       "    }\n",
       "\n",
       "    .dataframe tbody tr th {\n",
       "        vertical-align: top;\n",
       "    }\n",
       "\n",
       "    .dataframe thead th {\n",
       "        text-align: right;\n",
       "    }\n",
       "</style>\n",
       "<table border=\"1\" class=\"dataframe\">\n",
       "  <thead>\n",
       "    <tr style=\"text-align: right;\">\n",
       "      <th></th>\n",
       "      <th>route_id</th>\n",
       "      <th>route_short_name</th>\n",
       "      <th>route_long_name</th>\n",
       "    </tr>\n",
       "  </thead>\n",
       "  <tbody>\n",
       "    <tr>\n",
       "      <th>0</th>\n",
       "      <td>1</td>\n",
       "      <td>1</td>\n",
       "      <td>ת. רכבת יבנה מערב-יבנה&lt;-&gt;ת. רכבת יבנה מזרח-יבנ...</td>\n",
       "    </tr>\n",
       "    <tr>\n",
       "      <th>1</th>\n",
       "      <td>2</td>\n",
       "      <td>1</td>\n",
       "      <td>ת. רכבת יבנה מזרח-יבנה&lt;-&gt;ת. רכבת יבנה מערב-יבנ...</td>\n",
       "    </tr>\n",
       "    <tr>\n",
       "      <th>2</th>\n",
       "      <td>3</td>\n",
       "      <td>2</td>\n",
       "      <td>ת. רכבת יבנה מערב-יבנה&lt;-&gt;ת. רכבת יבנה מזרח-יבנ...</td>\n",
       "    </tr>\n",
       "  </tbody>\n",
       "</table>\n",
       "</div>"
      ],
      "text/plain": [
       "   route_id route_short_name  \\\n",
       "0         1                1   \n",
       "1         2                1   \n",
       "2         3                2   \n",
       "\n",
       "                                     route_long_name  \n",
       "0  ת. רכבת יבנה מערב-יבנה<->ת. רכבת יבנה מזרח-יבנ...  \n",
       "1  ת. רכבת יבנה מזרח-יבנה<->ת. רכבת יבנה מערב-יבנ...  \n",
       "2  ת. רכבת יבנה מערב-יבנה<->ת. רכבת יבנה מזרח-יבנ...  "
      ]
     },
     "execution_count": 56,
     "metadata": {},
     "output_type": "execute_result"
    }
   ],
   "source": [
    "routes = pd.read_csv(\"data/gtfs/routes.txt\")\n",
    "routes = routes[[\"route_id\", \"route_short_name\", \"route_long_name\"]]\n",
    "routes.head(3)"
   ]
  },
  {
   "cell_type": "markdown",
   "id": "d5cdab55-afb4-4b75-8afa-bbcd8aa1e3cf",
   "metadata": {},
   "source": [
    "#### max distance .groupby().agg()"
   ]
  },
  {
   "cell_type": "code",
   "execution_count": 57,
   "id": "c93eaa33-dec5-4a61-9604-76b61ecda9f8",
   "metadata": {},
   "outputs": [
    {
     "data": {
      "text/html": [
       "<div>\n",
       "<style scoped>\n",
       "    .dataframe tbody tr th:only-of-type {\n",
       "        vertical-align: middle;\n",
       "    }\n",
       "\n",
       "    .dataframe tbody tr th {\n",
       "        vertical-align: top;\n",
       "    }\n",
       "\n",
       "    .dataframe thead th {\n",
       "        text-align: right;\n",
       "    }\n",
       "</style>\n",
       "<table border=\"1\" class=\"dataframe\">\n",
       "  <thead>\n",
       "    <tr style=\"text-align: right;\">\n",
       "      <th></th>\n",
       "      <th>shape_dist_traveled</th>\n",
       "    </tr>\n",
       "    <tr>\n",
       "      <th>trip_id</th>\n",
       "      <th></th>\n",
       "    </tr>\n",
       "  </thead>\n",
       "  <tbody>\n",
       "    <tr>\n",
       "      <th>10021427_240421</th>\n",
       "      <td>49074</td>\n",
       "    </tr>\n",
       "    <tr>\n",
       "      <th>10021428_240421</th>\n",
       "      <td>49074</td>\n",
       "    </tr>\n",
       "    <tr>\n",
       "      <th>10021429_240421</th>\n",
       "      <td>49074</td>\n",
       "    </tr>\n",
       "    <tr>\n",
       "      <th>10021430_240421</th>\n",
       "      <td>49074</td>\n",
       "    </tr>\n",
       "    <tr>\n",
       "      <th>10033656_180421</th>\n",
       "      <td>2874</td>\n",
       "    </tr>\n",
       "  </tbody>\n",
       "</table>\n",
       "</div>"
      ],
      "text/plain": [
       "                 shape_dist_traveled\n",
       "trip_id                             \n",
       "10021427_240421                49074\n",
       "10021428_240421                49074\n",
       "10021429_240421                49074\n",
       "10021430_240421                49074\n",
       "10033656_180421                 2874"
      ]
     },
     "execution_count": 57,
     "metadata": {},
     "output_type": "execute_result"
    }
   ],
   "source": [
    "trip_id_max = times.groupby(\"trip_id\").agg({\n",
    "    \"shape_dist_traveled\":  np.max\n",
    "})\n",
    "trip_id_max.head()"
   ]
  },
  {
   "cell_type": "markdown",
   "id": "16c07e24-daa2-41f5-a67c-9aca69ce95c0",
   "metadata": {},
   "source": [
    "#### .merge"
   ]
  },
  {
   "cell_type": "code",
   "execution_count": 58,
   "id": "c4f22433-4642-4ae3-a577-ecfa6909ea18",
   "metadata": {},
   "outputs": [
    {
     "data": {
      "text/html": [
       "<div>\n",
       "<style scoped>\n",
       "    .dataframe tbody tr th:only-of-type {\n",
       "        vertical-align: middle;\n",
       "    }\n",
       "\n",
       "    .dataframe tbody tr th {\n",
       "        vertical-align: top;\n",
       "    }\n",
       "\n",
       "    .dataframe thead th {\n",
       "        text-align: right;\n",
       "    }\n",
       "</style>\n",
       "<table border=\"1\" class=\"dataframe\">\n",
       "  <thead>\n",
       "    <tr style=\"text-align: right;\">\n",
       "      <th></th>\n",
       "      <th>trip_id</th>\n",
       "      <th>route_id</th>\n",
       "      <th>shape_dist_traveled</th>\n",
       "    </tr>\n",
       "  </thead>\n",
       "  <tbody>\n",
       "    <tr>\n",
       "      <th>0</th>\n",
       "      <td>28876224_180421</td>\n",
       "      <td>1</td>\n",
       "      <td>7072</td>\n",
       "    </tr>\n",
       "    <tr>\n",
       "      <th>1</th>\n",
       "      <td>28876225_180421</td>\n",
       "      <td>1</td>\n",
       "      <td>7072</td>\n",
       "    </tr>\n",
       "    <tr>\n",
       "      <th>2</th>\n",
       "      <td>28876226_180421</td>\n",
       "      <td>1</td>\n",
       "      <td>7072</td>\n",
       "    </tr>\n",
       "  </tbody>\n",
       "</table>\n",
       "</div>"
      ],
      "text/plain": [
       "           trip_id  route_id  shape_dist_traveled\n",
       "0  28876224_180421         1                 7072\n",
       "1  28876225_180421         1                 7072\n",
       "2  28876226_180421         1                 7072"
      ]
     },
     "execution_count": 58,
     "metadata": {},
     "output_type": "execute_result"
    }
   ],
   "source": [
    "trips_times_merge = pd.merge(trips,\n",
    "         trip_id_max,\n",
    "         on = \"trip_id\",\n",
    "         how = \"inner\");\n",
    "trips_times_merge.head(3)"
   ]
  },
  {
   "cell_type": "markdown",
   "id": "929eb208-6af9-4c0e-9975-152dbd5d3116",
   "metadata": {},
   "source": [
    "#### .groupby().agg()  \"first\""
   ]
  },
  {
   "cell_type": "code",
   "execution_count": 59,
   "id": "366f0343-9d7d-4d1c-af09-d6eed3cc72fa",
   "metadata": {},
   "outputs": [],
   "source": [
    "first_routes = trips_times_merge.groupby([\"route_id\"]).agg({\n",
    "    \"trip_id\":  \"first\",\n",
    "    \"shape_dist_traveled\":  \"first\"\n",
    "}).reset_index()"
   ]
  },
  {
   "cell_type": "code",
   "execution_count": 60,
   "id": "64e6b595-8b7e-4614-9019-6fa6b8da8e0b",
   "metadata": {},
   "outputs": [
    {
     "data": {
      "text/html": [
       "<div>\n",
       "<style scoped>\n",
       "    .dataframe tbody tr th:only-of-type {\n",
       "        vertical-align: middle;\n",
       "    }\n",
       "\n",
       "    .dataframe tbody tr th {\n",
       "        vertical-align: top;\n",
       "    }\n",
       "\n",
       "    .dataframe thead th {\n",
       "        text-align: right;\n",
       "    }\n",
       "</style>\n",
       "<table border=\"1\" class=\"dataframe\">\n",
       "  <thead>\n",
       "    <tr style=\"text-align: right;\">\n",
       "      <th></th>\n",
       "      <th>route_id</th>\n",
       "      <th>route_short_name</th>\n",
       "      <th>route_long_name</th>\n",
       "      <th>trip_id</th>\n",
       "      <th>shape_dist_traveled</th>\n",
       "    </tr>\n",
       "  </thead>\n",
       "  <tbody>\n",
       "    <tr>\n",
       "      <th>0</th>\n",
       "      <td>1</td>\n",
       "      <td>1</td>\n",
       "      <td>ת. רכבת יבנה מערב-יבנה&lt;-&gt;ת. רכבת יבנה מזרח-יבנ...</td>\n",
       "      <td>28876224_180421</td>\n",
       "      <td>7072</td>\n",
       "    </tr>\n",
       "    <tr>\n",
       "      <th>1</th>\n",
       "      <td>2</td>\n",
       "      <td>1</td>\n",
       "      <td>ת. רכבת יבנה מזרח-יבנה&lt;-&gt;ת. רכבת יבנה מערב-יבנ...</td>\n",
       "      <td>25448344_180421</td>\n",
       "      <td>6870</td>\n",
       "    </tr>\n",
       "    <tr>\n",
       "      <th>2</th>\n",
       "      <td>3</td>\n",
       "      <td>2</td>\n",
       "      <td>ת. רכבת יבנה מערב-יבנה&lt;-&gt;ת. רכבת יבנה מזרח-יבנ...</td>\n",
       "      <td>56334623_180421</td>\n",
       "      <td>9855</td>\n",
       "    </tr>\n",
       "  </tbody>\n",
       "</table>\n",
       "</div>"
      ],
      "text/plain": [
       "   route_id route_short_name  \\\n",
       "0         1                1   \n",
       "1         2                1   \n",
       "2         3                2   \n",
       "\n",
       "                                     route_long_name          trip_id  \\\n",
       "0  ת. רכבת יבנה מערב-יבנה<->ת. רכבת יבנה מזרח-יבנ...  28876224_180421   \n",
       "1  ת. רכבת יבנה מזרח-יבנה<->ת. רכבת יבנה מערב-יבנ...  25448344_180421   \n",
       "2  ת. רכבת יבנה מערב-יבנה<->ת. רכבת יבנה מזרח-יבנ...  56334623_180421   \n",
       "\n",
       "   shape_dist_traveled  \n",
       "0                 7072  \n",
       "1                 6870  \n",
       "2                 9855  "
      ]
     },
     "execution_count": 60,
     "metadata": {},
     "output_type": "execute_result"
    }
   ],
   "source": [
    "routes_first_merge = pd.merge(routes,\n",
    "         first_routes,\n",
    "         on = \"route_id\",\n",
    "         how = \"inner\");\n",
    "routes_first_merge.head(3)"
   ]
  },
  {
   "cell_type": "code",
   "execution_count": 61,
   "id": "132ba01b-1978-4ec7-813f-42d77e834b6d",
   "metadata": {},
   "outputs": [
    {
     "data": {
      "text/html": [
       "<div>\n",
       "<style scoped>\n",
       "    .dataframe tbody tr th:only-of-type {\n",
       "        vertical-align: middle;\n",
       "    }\n",
       "\n",
       "    .dataframe tbody tr th {\n",
       "        vertical-align: top;\n",
       "    }\n",
       "\n",
       "    .dataframe thead th {\n",
       "        text-align: right;\n",
       "    }\n",
       "</style>\n",
       "<table border=\"1\" class=\"dataframe\">\n",
       "  <thead>\n",
       "    <tr style=\"text-align: right;\">\n",
       "      <th></th>\n",
       "      <th>route_id</th>\n",
       "      <th>route_short_name</th>\n",
       "      <th>route_long_name</th>\n",
       "      <th>trip_id</th>\n",
       "      <th>shape_dist_traveled</th>\n",
       "    </tr>\n",
       "  </thead>\n",
       "  <tbody>\n",
       "    <tr>\n",
       "      <th>5856</th>\n",
       "      <td>19964</td>\n",
       "      <td>991</td>\n",
       "      <td>ת. מרכזית חוף הכרמל/רציפים בינעירוני-חיפה&lt;-&gt;ת....</td>\n",
       "      <td>30526419_230421</td>\n",
       "      <td>446174</td>\n",
       "    </tr>\n",
       "    <tr>\n",
       "      <th>1668</th>\n",
       "      <td>7295</td>\n",
       "      <td>990</td>\n",
       "      <td>ת. מרכזית אילת/רציפים-אילת&lt;-&gt;ת. מרכזית חוף הכר...</td>\n",
       "      <td>56505849_180421</td>\n",
       "      <td>445508</td>\n",
       "    </tr>\n",
       "    <tr>\n",
       "      <th>6199</th>\n",
       "      <td>21726</td>\n",
       "      <td>991</td>\n",
       "      <td>ת. מרכזית אילת/רציפים-אילת&lt;-&gt;ת. מרכזית חוף הכר...</td>\n",
       "      <td>56505908_180421</td>\n",
       "      <td>445472</td>\n",
       "    </tr>\n",
       "    <tr>\n",
       "      <th>1669</th>\n",
       "      <td>7297</td>\n",
       "      <td>990</td>\n",
       "      <td>ת. מרכזית חוף הכרמל/רציפים בינעירוני-חיפה&lt;-&gt;ת....</td>\n",
       "      <td>30526431_230421</td>\n",
       "      <td>443968</td>\n",
       "    </tr>\n",
       "    <tr>\n",
       "      <th>1671</th>\n",
       "      <td>7307</td>\n",
       "      <td>993</td>\n",
       "      <td>ת. מרכזית המפרץ/רציפים בינעירוני-חיפה&lt;-&gt;ת. מרכ...</td>\n",
       "      <td>56505854_180421</td>\n",
       "      <td>432200</td>\n",
       "    </tr>\n",
       "  </tbody>\n",
       "</table>\n",
       "</div>"
      ],
      "text/plain": [
       "      route_id route_short_name  \\\n",
       "5856     19964              991   \n",
       "1668      7295              990   \n",
       "6199     21726              991   \n",
       "1669      7297              990   \n",
       "1671      7307              993   \n",
       "\n",
       "                                        route_long_name          trip_id  \\\n",
       "5856  ת. מרכזית חוף הכרמל/רציפים בינעירוני-חיפה<->ת....  30526419_230421   \n",
       "1668  ת. מרכזית אילת/רציפים-אילת<->ת. מרכזית חוף הכר...  56505849_180421   \n",
       "6199  ת. מרכזית אילת/רציפים-אילת<->ת. מרכזית חוף הכר...  56505908_180421   \n",
       "1669  ת. מרכזית חוף הכרמל/רציפים בינעירוני-חיפה<->ת....  30526431_230421   \n",
       "1671  ת. מרכזית המפרץ/רציפים בינעירוני-חיפה<->ת. מרכ...  56505854_180421   \n",
       "\n",
       "      shape_dist_traveled  \n",
       "5856               446174  \n",
       "1668               445508  \n",
       "6199               445472  \n",
       "1669               443968  \n",
       "1671               432200  "
      ]
     },
     "execution_count": 61,
     "metadata": {},
     "output_type": "execute_result"
    }
   ],
   "source": [
    "routes_first_merge.sort_values(\"shape_dist_traveled\", ascending=False,inplace=True)\n",
    "routes_first_merge.head()"
   ]
  },
  {
   "cell_type": "code",
   "execution_count": 62,
   "id": "b8345f0f-454d-45d3-94f6-c638c0849b0f",
   "metadata": {},
   "outputs": [],
   "source": [
    "first_five = routes_first_merge[\"route_long_name\"].iloc[0:5].to_list()"
   ]
  },
  {
   "cell_type": "markdown",
   "id": "cf1c86ed-1f70-43bf-94b3-2ac0513a92d3",
   "metadata": {},
   "source": [
    "### Part 2"
   ]
  },
  {
   "cell_type": "markdown",
   "id": "e41812c9-7b6b-48df-a934-1549d912051d",
   "metadata": {},
   "source": [
    "#### import"
   ]
  },
  {
   "cell_type": "code",
   "execution_count": 63,
   "id": "cba9773f-3e30-4ef3-80ab-e817ace12ec4",
   "metadata": {},
   "outputs": [
    {
     "data": {
      "text/html": [
       "<div>\n",
       "<style scoped>\n",
       "    .dataframe tbody tr th:only-of-type {\n",
       "        vertical-align: middle;\n",
       "    }\n",
       "\n",
       "    .dataframe tbody tr th {\n",
       "        vertical-align: top;\n",
       "    }\n",
       "\n",
       "    .dataframe thead th {\n",
       "        text-align: right;\n",
       "    }\n",
       "</style>\n",
       "<table border=\"1\" class=\"dataframe\">\n",
       "  <thead>\n",
       "    <tr style=\"text-align: right;\">\n",
       "      <th></th>\n",
       "      <th>stop_id</th>\n",
       "      <th>stop_name</th>\n",
       "      <th>stop_lon</th>\n",
       "      <th>stop_lat</th>\n",
       "    </tr>\n",
       "  </thead>\n",
       "  <tbody>\n",
       "    <tr>\n",
       "      <th>0</th>\n",
       "      <td>1</td>\n",
       "      <td>בי''ס בר לב/בן יהודה</td>\n",
       "      <td>34.917554</td>\n",
       "      <td>32.183985</td>\n",
       "    </tr>\n",
       "    <tr>\n",
       "      <th>1</th>\n",
       "      <td>2</td>\n",
       "      <td>הרצל/צומת בילו</td>\n",
       "      <td>34.819541</td>\n",
       "      <td>31.870034</td>\n",
       "    </tr>\n",
       "    <tr>\n",
       "      <th>2</th>\n",
       "      <td>3</td>\n",
       "      <td>הנחשול/הדייגים</td>\n",
       "      <td>34.782828</td>\n",
       "      <td>31.984553</td>\n",
       "    </tr>\n",
       "  </tbody>\n",
       "</table>\n",
       "</div>"
      ],
      "text/plain": [
       "   stop_id             stop_name   stop_lon   stop_lat\n",
       "0        1  בי''ס בר לב/בן יהודה  34.917554  32.183985\n",
       "1        2        הרצל/צומת בילו  34.819541  31.870034\n",
       "2        3        הנחשול/הדייגים  34.782828  31.984553"
      ]
     },
     "execution_count": 63,
     "metadata": {},
     "output_type": "execute_result"
    }
   ],
   "source": [
    "stops = pd.read_csv(\"data/gtfs/stops.txt\")\n",
    "stops = stops[[\"stop_id\", \"stop_name\", \"stop_lon\",\"stop_lat\"]]\n",
    "stops.head(3)"
   ]
  },
  {
   "cell_type": "code",
   "execution_count": 64,
   "id": "d141151b-c7e2-4905-b3a8-98bb7af26598",
   "metadata": {},
   "outputs": [
    {
     "data": {
      "text/html": [
       "<div>\n",
       "<style scoped>\n",
       "    .dataframe tbody tr th:only-of-type {\n",
       "        vertical-align: middle;\n",
       "    }\n",
       "\n",
       "    .dataframe tbody tr th {\n",
       "        vertical-align: top;\n",
       "    }\n",
       "\n",
       "    .dataframe thead th {\n",
       "        text-align: right;\n",
       "    }\n",
       "</style>\n",
       "<table border=\"1\" class=\"dataframe\">\n",
       "  <thead>\n",
       "    <tr style=\"text-align: right;\">\n",
       "      <th></th>\n",
       "      <th>trip_id</th>\n",
       "      <th>arrival_time</th>\n",
       "      <th>stop_id</th>\n",
       "      <th>stop_sequence</th>\n",
       "      <th>shape_dist_traveled</th>\n",
       "    </tr>\n",
       "  </thead>\n",
       "  <tbody>\n",
       "    <tr>\n",
       "      <th>0</th>\n",
       "      <td>10021427_240421</td>\n",
       "      <td>00:00:00</td>\n",
       "      <td>36133</td>\n",
       "      <td>1</td>\n",
       "      <td>0</td>\n",
       "    </tr>\n",
       "    <tr>\n",
       "      <th>1</th>\n",
       "      <td>10021427_240421</td>\n",
       "      <td>00:01:43</td>\n",
       "      <td>2356</td>\n",
       "      <td>2</td>\n",
       "      <td>499</td>\n",
       "    </tr>\n",
       "    <tr>\n",
       "      <th>2</th>\n",
       "      <td>10021427_240421</td>\n",
       "      <td>00:03:36</td>\n",
       "      <td>3869</td>\n",
       "      <td>3</td>\n",
       "      <td>1838</td>\n",
       "    </tr>\n",
       "  </tbody>\n",
       "</table>\n",
       "</div>"
      ],
      "text/plain": [
       "           trip_id arrival_time  stop_id  stop_sequence  shape_dist_traveled\n",
       "0  10021427_240421     00:00:00    36133              1                    0\n",
       "1  10021427_240421     00:01:43     2356              2                  499\n",
       "2  10021427_240421     00:03:36     3869              3                 1838"
      ]
     },
     "execution_count": 64,
     "metadata": {},
     "output_type": "execute_result"
    }
   ],
   "source": [
    "times = pd.read_csv(\"data/gtfs/stop_times.txt\")\n",
    "times = times[[\"trip_id\", \"arrival_time\", \"stop_id\", \"stop_sequence\", \"shape_dist_traveled\"]]\n",
    "times.head(3)"
   ]
  },
  {
   "cell_type": "markdown",
   "id": "0b533a71-4a06-4d4d-bed4-94a060cdf410",
   "metadata": {},
   "source": [
    "#### [filt] "
   ]
  },
  {
   "cell_type": "code",
   "execution_count": 65,
   "id": "d023659a-e6d7-49d0-85b4-a1793bf9ff54",
   "metadata": {},
   "outputs": [],
   "source": [
    "filt = times[\"trip_id\"] == \"55745843_180421\"\n",
    "trip421 = times[filt]"
   ]
  },
  {
   "cell_type": "markdown",
   "id": "c8db13cf-e9e0-45b8-90a0-075457261c5c",
   "metadata": {},
   "source": [
    "#### .count()"
   ]
  },
  {
   "cell_type": "code",
   "execution_count": 66,
   "id": "5660dbed-c3d0-4675-9685-f7103d8f3f00",
   "metadata": {},
   "outputs": [
    {
     "data": {
      "text/plain": [
       "32"
      ]
     },
     "execution_count": 66,
     "metadata": {},
     "output_type": "execute_result"
    }
   ],
   "source": [
    "trip421['arrival_time'].count()"
   ]
  },
  {
   "cell_type": "markdown",
   "id": "683cfadd-c23f-411e-a782-363ad9c315eb",
   "metadata": {},
   "source": [
    "#### pd.merge"
   ]
  },
  {
   "cell_type": "code",
   "execution_count": 67,
   "id": "6bdad9f7-eac4-4292-a503-6c0891fb4479",
   "metadata": {},
   "outputs": [
    {
     "data": {
      "text/html": [
       "<div>\n",
       "<style scoped>\n",
       "    .dataframe tbody tr th:only-of-type {\n",
       "        vertical-align: middle;\n",
       "    }\n",
       "\n",
       "    .dataframe tbody tr th {\n",
       "        vertical-align: top;\n",
       "    }\n",
       "\n",
       "    .dataframe thead th {\n",
       "        text-align: right;\n",
       "    }\n",
       "</style>\n",
       "<table border=\"1\" class=\"dataframe\">\n",
       "  <thead>\n",
       "    <tr style=\"text-align: right;\">\n",
       "      <th></th>\n",
       "      <th>trip_id</th>\n",
       "      <th>arrival_time</th>\n",
       "      <th>stop_id</th>\n",
       "      <th>stop_sequence</th>\n",
       "      <th>shape_dist_traveled</th>\n",
       "      <th>stop_name</th>\n",
       "      <th>stop_lon</th>\n",
       "      <th>stop_lat</th>\n",
       "    </tr>\n",
       "  </thead>\n",
       "  <tbody>\n",
       "    <tr>\n",
       "      <th>0</th>\n",
       "      <td>55745843_180421</td>\n",
       "      <td>08:15:00</td>\n",
       "      <td>41425</td>\n",
       "      <td>1</td>\n",
       "      <td>0</td>\n",
       "      <td>מסוף רמות</td>\n",
       "      <td>34.821859</td>\n",
       "      <td>31.280279</td>\n",
       "    </tr>\n",
       "    <tr>\n",
       "      <th>1</th>\n",
       "      <td>55745843_180421</td>\n",
       "      <td>08:19:41</td>\n",
       "      <td>41964</td>\n",
       "      <td>2</td>\n",
       "      <td>1858</td>\n",
       "      <td>בי''ס יפה נוף/נחום שריג</td>\n",
       "      <td>34.807002</td>\n",
       "      <td>31.286828</td>\n",
       "    </tr>\n",
       "    <tr>\n",
       "      <th>2</th>\n",
       "      <td>55745843_180421</td>\n",
       "      <td>08:20:58</td>\n",
       "      <td>26396</td>\n",
       "      <td>3</td>\n",
       "      <td>2164</td>\n",
       "      <td>בה''ס רכסים/נחום שריג</td>\n",
       "      <td>34.805877</td>\n",
       "      <td>31.284738</td>\n",
       "    </tr>\n",
       "  </tbody>\n",
       "</table>\n",
       "</div>"
      ],
      "text/plain": [
       "           trip_id arrival_time  stop_id  stop_sequence  shape_dist_traveled  \\\n",
       "0  55745843_180421     08:15:00    41425              1                    0   \n",
       "1  55745843_180421     08:19:41    41964              2                 1858   \n",
       "2  55745843_180421     08:20:58    26396              3                 2164   \n",
       "\n",
       "                 stop_name   stop_lon   stop_lat  \n",
       "0                מסוף רמות  34.821859  31.280279  \n",
       "1  בי''ס יפה נוף/נחום שריג  34.807002  31.286828  \n",
       "2    בה''ס רכסים/נחום שריג  34.805877  31.284738  "
      ]
     },
     "execution_count": 67,
     "metadata": {},
     "output_type": "execute_result"
    }
   ],
   "source": [
    "trip421_stops_merge = pd.merge(trip421,\n",
    "         stops,\n",
    "         on = \"stop_id\",\n",
    "         how = \"inner\");\n",
    "trip421_stops_merge.head(3)"
   ]
  },
  {
   "cell_type": "markdown",
   "id": "3e4a8aa8-0475-49e9-b3ff-3866edeee56e",
   "metadata": {},
   "source": [
    "#### [filt] .to_list"
   ]
  },
  {
   "cell_type": "code",
   "execution_count": 68,
   "id": "79fd9cb9-125d-4f1a-8d22-559c90165d40",
   "metadata": {},
   "outputs": [
    {
     "data": {
      "text/plain": [
       "'08:37:21'"
      ]
     },
     "execution_count": 68,
     "metadata": {},
     "output_type": "execute_result"
    }
   ],
   "source": [
    "filt = trip421_stops_merge[\"stop_name\"] == \"מרכז הספורט אוניברסיטת בן גוריון\"\n",
    "arrival_time = trip421_stops_merge[\"arrival_time\"][filt].to_list()[0]\n",
    "arrival_time"
   ]
  },
  {
   "cell_type": "markdown",
   "id": "76ed6009-499d-48c8-b267-171e77cca71b",
   "metadata": {},
   "source": [
    "#### .diff"
   ]
  },
  {
   "cell_type": "code",
   "execution_count": 69,
   "id": "80914d5f-7af0-4093-a0ef-3d4e7a57fdd8",
   "metadata": {},
   "outputs": [
    {
     "data": {
      "text/plain": [
       "12767"
      ]
     },
     "execution_count": 69,
     "metadata": {},
     "output_type": "execute_result"
    }
   ],
   "source": [
    "trip421_stops_merge['shape_dist_traveled'].iloc[-1]"
   ]
  },
  {
   "cell_type": "code",
   "execution_count": 70,
   "id": "012043e9-6d95-4e67-8bfd-a34e42f045ca",
   "metadata": {},
   "outputs": [
    {
     "data": {
      "text/html": [
       "<div>\n",
       "<style scoped>\n",
       "    .dataframe tbody tr th:only-of-type {\n",
       "        vertical-align: middle;\n",
       "    }\n",
       "\n",
       "    .dataframe tbody tr th {\n",
       "        vertical-align: top;\n",
       "    }\n",
       "\n",
       "    .dataframe thead th {\n",
       "        text-align: right;\n",
       "    }\n",
       "</style>\n",
       "<table border=\"1\" class=\"dataframe\">\n",
       "  <thead>\n",
       "    <tr style=\"text-align: right;\">\n",
       "      <th></th>\n",
       "      <th>trip_id</th>\n",
       "      <th>arrival_time</th>\n",
       "      <th>stop_id</th>\n",
       "      <th>stop_sequence</th>\n",
       "      <th>shape_dist_traveled</th>\n",
       "      <th>stop_name</th>\n",
       "      <th>stop_lon</th>\n",
       "      <th>stop_lat</th>\n",
       "      <th>diff</th>\n",
       "    </tr>\n",
       "  </thead>\n",
       "  <tbody>\n",
       "    <tr>\n",
       "      <th>0</th>\n",
       "      <td>55745843_180421</td>\n",
       "      <td>08:15:00</td>\n",
       "      <td>41425</td>\n",
       "      <td>1</td>\n",
       "      <td>0</td>\n",
       "      <td>מסוף רמות</td>\n",
       "      <td>34.821859</td>\n",
       "      <td>31.280279</td>\n",
       "      <td>NaN</td>\n",
       "    </tr>\n",
       "    <tr>\n",
       "      <th>1</th>\n",
       "      <td>55745843_180421</td>\n",
       "      <td>08:19:41</td>\n",
       "      <td>41964</td>\n",
       "      <td>2</td>\n",
       "      <td>1858</td>\n",
       "      <td>בי''ס יפה נוף/נחום שריג</td>\n",
       "      <td>34.807002</td>\n",
       "      <td>31.286828</td>\n",
       "      <td>1858.0</td>\n",
       "    </tr>\n",
       "    <tr>\n",
       "      <th>2</th>\n",
       "      <td>55745843_180421</td>\n",
       "      <td>08:20:58</td>\n",
       "      <td>26396</td>\n",
       "      <td>3</td>\n",
       "      <td>2164</td>\n",
       "      <td>בה''ס רכסים/נחום שריג</td>\n",
       "      <td>34.805877</td>\n",
       "      <td>31.284738</td>\n",
       "      <td>306.0</td>\n",
       "    </tr>\n",
       "  </tbody>\n",
       "</table>\n",
       "</div>"
      ],
      "text/plain": [
       "           trip_id arrival_time  stop_id  stop_sequence  shape_dist_traveled  \\\n",
       "0  55745843_180421     08:15:00    41425              1                    0   \n",
       "1  55745843_180421     08:19:41    41964              2                 1858   \n",
       "2  55745843_180421     08:20:58    26396              3                 2164   \n",
       "\n",
       "                 stop_name   stop_lon   stop_lat    diff  \n",
       "0                מסוף רמות  34.821859  31.280279     NaN  \n",
       "1  בי''ס יפה נוף/נחום שריג  34.807002  31.286828  1858.0  \n",
       "2    בה''ס רכסים/נחום שריג  34.805877  31.284738   306.0  "
      ]
     },
     "execution_count": 70,
     "metadata": {},
     "output_type": "execute_result"
    }
   ],
   "source": [
    "trip421_stops_merge['diff'] = trip421_stops_merge['shape_dist_traveled'].diff()\n",
    "trip421_stops_merge.head(3)"
   ]
  },
  {
   "cell_type": "code",
   "execution_count": 71,
   "id": "08d5679d-0331-44c3-8077-d5dc1127ba44",
   "metadata": {},
   "outputs": [],
   "source": [
    "min_idx = trip421_stops_merge['diff'].idxmin()"
   ]
  },
  {
   "cell_type": "code",
   "execution_count": 72,
   "id": "f09f4917-9224-4ad8-86c7-ab94aed27c0d",
   "metadata": {},
   "outputs": [
    {
     "data": {
      "text/html": [
       "<div>\n",
       "<style scoped>\n",
       "    .dataframe tbody tr th:only-of-type {\n",
       "        vertical-align: middle;\n",
       "    }\n",
       "\n",
       "    .dataframe tbody tr th {\n",
       "        vertical-align: top;\n",
       "    }\n",
       "\n",
       "    .dataframe thead th {\n",
       "        text-align: right;\n",
       "    }\n",
       "</style>\n",
       "<table border=\"1\" class=\"dataframe\">\n",
       "  <thead>\n",
       "    <tr style=\"text-align: right;\">\n",
       "      <th></th>\n",
       "      <th>trip_id</th>\n",
       "      <th>arrival_time</th>\n",
       "      <th>stop_id</th>\n",
       "      <th>stop_sequence</th>\n",
       "      <th>shape_dist_traveled</th>\n",
       "      <th>stop_name</th>\n",
       "      <th>stop_lon</th>\n",
       "      <th>stop_lat</th>\n",
       "      <th>diff</th>\n",
       "    </tr>\n",
       "  </thead>\n",
       "  <tbody>\n",
       "    <tr>\n",
       "      <th>21</th>\n",
       "      <td>55745843_180421</td>\n",
       "      <td>08:39:56</td>\n",
       "      <td>27622</td>\n",
       "      <td>22</td>\n",
       "      <td>9103</td>\n",
       "      <td>מרכז רפואי סורוקה/אוניברסיטת בן גוריון</td>\n",
       "      <td>34.798126</td>\n",
       "      <td>31.259141</td>\n",
       "      <td>426.0</td>\n",
       "    </tr>\n",
       "    <tr>\n",
       "      <th>22</th>\n",
       "      <td>55745843_180421</td>\n",
       "      <td>08:40:36</td>\n",
       "      <td>28915</td>\n",
       "      <td>23</td>\n",
       "      <td>9252</td>\n",
       "      <td>מרכז רפואי סורוקה/יצחק רגר</td>\n",
       "      <td>34.798151</td>\n",
       "      <td>31.257796</td>\n",
       "      <td>149.0</td>\n",
       "    </tr>\n",
       "  </tbody>\n",
       "</table>\n",
       "</div>"
      ],
      "text/plain": [
       "            trip_id arrival_time  stop_id  stop_sequence  shape_dist_traveled  \\\n",
       "21  55745843_180421     08:39:56    27622             22                 9103   \n",
       "22  55745843_180421     08:40:36    28915             23                 9252   \n",
       "\n",
       "                                 stop_name   stop_lon   stop_lat   diff  \n",
       "21  מרכז רפואי סורוקה/אוניברסיטת בן גוריון  34.798126  31.259141  426.0  \n",
       "22              מרכז רפואי סורוקה/יצחק רגר  34.798151  31.257796  149.0  "
      ]
     },
     "execution_count": 72,
     "metadata": {},
     "output_type": "execute_result"
    }
   ],
   "source": [
    "trip421_stops_merge.iloc[min_idx-1:min_idx+1]"
   ]
  },
  {
   "cell_type": "code",
   "execution_count": 73,
   "id": "6e53a05f-58a4-4313-8760-d0e5723a6cbe",
   "metadata": {},
   "outputs": [],
   "source": [
    "max_idx = trip421_stops_merge['diff'].idxmax()"
   ]
  },
  {
   "cell_type": "code",
   "execution_count": 74,
   "id": "964d80f4-cfa6-4398-a853-91e11349fff5",
   "metadata": {},
   "outputs": [
    {
     "data": {
      "text/html": [
       "<div>\n",
       "<style scoped>\n",
       "    .dataframe tbody tr th:only-of-type {\n",
       "        vertical-align: middle;\n",
       "    }\n",
       "\n",
       "    .dataframe tbody tr th {\n",
       "        vertical-align: top;\n",
       "    }\n",
       "\n",
       "    .dataframe thead th {\n",
       "        text-align: right;\n",
       "    }\n",
       "</style>\n",
       "<table border=\"1\" class=\"dataframe\">\n",
       "  <thead>\n",
       "    <tr style=\"text-align: right;\">\n",
       "      <th></th>\n",
       "      <th>trip_id</th>\n",
       "      <th>arrival_time</th>\n",
       "      <th>stop_id</th>\n",
       "      <th>stop_sequence</th>\n",
       "      <th>shape_dist_traveled</th>\n",
       "      <th>stop_name</th>\n",
       "      <th>stop_lon</th>\n",
       "      <th>stop_lat</th>\n",
       "      <th>diff</th>\n",
       "    </tr>\n",
       "  </thead>\n",
       "  <tbody>\n",
       "    <tr>\n",
       "      <th>0</th>\n",
       "      <td>55745843_180421</td>\n",
       "      <td>08:15:00</td>\n",
       "      <td>41425</td>\n",
       "      <td>1</td>\n",
       "      <td>0</td>\n",
       "      <td>מסוף רמות</td>\n",
       "      <td>34.821859</td>\n",
       "      <td>31.280279</td>\n",
       "      <td>NaN</td>\n",
       "    </tr>\n",
       "    <tr>\n",
       "      <th>1</th>\n",
       "      <td>55745843_180421</td>\n",
       "      <td>08:19:41</td>\n",
       "      <td>41964</td>\n",
       "      <td>2</td>\n",
       "      <td>1858</td>\n",
       "      <td>בי''ס יפה נוף/נחום שריג</td>\n",
       "      <td>34.807002</td>\n",
       "      <td>31.286828</td>\n",
       "      <td>1858.0</td>\n",
       "    </tr>\n",
       "  </tbody>\n",
       "</table>\n",
       "</div>"
      ],
      "text/plain": [
       "           trip_id arrival_time  stop_id  stop_sequence  shape_dist_traveled  \\\n",
       "0  55745843_180421     08:15:00    41425              1                    0   \n",
       "1  55745843_180421     08:19:41    41964              2                 1858   \n",
       "\n",
       "                 stop_name   stop_lon   stop_lat    diff  \n",
       "0                מסוף רמות  34.821859  31.280279     NaN  \n",
       "1  בי''ס יפה נוף/נחום שריג  34.807002  31.286828  1858.0  "
      ]
     },
     "execution_count": 74,
     "metadata": {},
     "output_type": "execute_result"
    }
   ],
   "source": [
    "trip421_stops_merge.iloc[max_idx-1:max_idx+1]"
   ]
  },
  {
   "cell_type": "code",
   "execution_count": null,
   "id": "16c56c41-68eb-4fb5-b1fc-159d3ac7bd01",
   "metadata": {},
   "outputs": [],
   "source": []
  }
 ],
 "metadata": {
  "interpreter": {
   "hash": "a242e183465bb9023de0138d2b64ba329c59b510ac4eb42cc190969549979312"
  },
  "kernelspec": {
   "display_name": "Python 3 (ipykernel)",
   "language": "python",
   "name": "python3"
  },
  "language_info": {
   "codemirror_mode": {
    "name": "ipython",
    "version": 3
   },
   "file_extension": ".py",
   "mimetype": "text/x-python",
   "name": "python",
   "nbconvert_exporter": "python",
   "pygments_lexer": "ipython3",
   "version": "3.8.12"
  },
  "toc-autonumbering": false
 },
 "nbformat": 4,
 "nbformat_minor": 5
}
