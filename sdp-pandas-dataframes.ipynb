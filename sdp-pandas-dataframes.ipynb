{
 "cells": [
  {
   "cell_type": "markdown",
   "id": "8fb82884",
   "metadata": {
    "tags": []
   },
   "source": [
    "<a id='pd'></a>  \n",
    "# Pandas DataFrames\n",
    "- pandas provides two standardized data structures for tabular data  \n",
    "  - Series — A one-dimensional structure, used to represent a vector, i.e., a table column\n",
    "  - DataFrame — A two-dimensional structure, used to represent a table \n",
    "    - each column in a DataFrame is a Series\n",
    "- pandas is an extension of numpy  \n",
    "  - series are labelled numpy arrays that represent table columns"
   ]
  },
  {
   "cell_type": "markdown",
   "id": "39c3b93f-bfc4-4987-87d5-cb0d4a887569",
   "metadata": {},
   "source": [
    "[Create](#pd-create)    \n",
    "[Structure](#pd-structure)  \n",
    "[Import](#pd-import)  \n",
    "[Explore](#pd-explore)  \n",
    "[Missing Values](#pd-missing)  \n",
    "[Plot](#pd-plot)  \n",
    "[Transform](#pd-transform)  \n",
    "[Select](#pd-select)  \n",
    "[Filter](#pd-filter)  \n",
    "[Summarize](#pd-summarize)    \n",
    "[Export](#pd-export)  \n",
    "[Exercise](#pd-exercise) "
   ]
  },
  {
   "cell_type": "markdown",
   "id": "8a6db74b-dfcc-42e0-b94a-041d1774cc7b",
   "metadata": {},
   "source": [
    "## Libraries"
   ]
  },
  {
   "cell_type": "code",
   "execution_count": 1,
   "id": "hungarian-longer",
   "metadata": {
    "tags": []
   },
   "outputs": [],
   "source": [
    "import os\n",
    "import numpy as np\n",
    "import pandas as pd\n",
    "import matplotlib.pyplot as plt"
   ]
  },
  {
   "cell_type": "raw",
   "id": "a8bce812-ddd7-4384-94ce-f7e2e5429456",
   "metadata": {},
   "source": [
    "pd.__version__"
   ]
  },
  {
   "cell_type": "raw",
   "id": "c31cc5ec-889b-491a-aa7b-48a370ce7812",
   "metadata": {},
   "source": [
    "np.__version__"
   ]
  },
  {
   "cell_type": "markdown",
   "id": "a009f371-7a1d-4379-8854-9125a54847a6",
   "metadata": {
    "tags": [],
    "toc-hr-collapsed": true
   },
   "source": [
    "## Parameters"
   ]
  },
  {
   "cell_type": "raw",
   "id": "f3c8ba2e-444f-41de-a9b5-18b102983b91",
   "metadata": {},
   "source": [
    "# shows result of cell without needing print\n",
    "from IPython.core.interactiveshell import InteractiveShell\n",
    "InteractiveShell.ast_node_interactivity = \"last_expr_or_assign\""
   ]
  },
  {
   "cell_type": "code",
   "execution_count": 2,
   "id": "8000dfbb-350e-4859-8311-abebe0a7dfdb",
   "metadata": {},
   "outputs": [],
   "source": [
    "pd.set_option('display.max_rows',10)\n",
    "#defaults: pd.set_option('display.max_columns',20,'display.max_rows',60,'display.max_colwidth',50)"
   ]
  },
  {
   "cell_type": "markdown",
   "id": "57a732de",
   "metadata": {
    "tags": [],
    "toc-hr-collapsed": true
   },
   "source": [
    "## Directories"
   ]
  },
  {
   "cell_type": "code",
   "execution_count": 3,
   "id": "c7b2df80-6d08-4601-ae78-7aaf6ecc302a",
   "metadata": {
    "tags": []
   },
   "outputs": [
    {
     "data": {
      "text/plain": [
       "'C:\\\\Users\\\\rick\\\\eda\\\\spdp'"
      ]
     },
     "execution_count": 3,
     "metadata": {},
     "output_type": "execute_result"
    }
   ],
   "source": [
    "home_dir = home_dir = os.path.expanduser(\"~\")\n",
    "work_dir = os.path.join(home_dir, 'eda', 'spdp')\n",
    "data_dir = os.path.join(work_dir,'data') \n",
    "os.chdir(work_dir)\n",
    "os.getcwd()"
   ]
  },
  {
   "cell_type": "markdown",
   "id": "f70d3b16-f39c-4b1f-8109-0d58fca67399",
   "metadata": {
    "tags": [],
    "toc-hr-collapsed": true
   },
   "source": [
    "<a id='pd-create'></a>\n",
    "## Create"
   ]
  },
  {
   "cell_type": "markdown",
   "id": "fd91792e-b239-4805-98a8-70527d9c6905",
   "metadata": {},
   "source": [
    "[Return to Start of Notebook](#pd)  "
   ]
  },
  {
   "cell_type": "markdown",
   "id": "d5897f11-3b3f-4038-8a34-1a821b386082",
   "metadata": {},
   "source": [
    "### pd.Series"
   ]
  },
  {
   "cell_type": "markdown",
   "id": "8407bf6b-7903-43cc-9fbf-1217e94f41d1",
   "metadata": {},
   "source": [
    "#### from list"
   ]
  },
  {
   "cell_type": "code",
   "execution_count": 4,
   "id": "818607d8-18d2-4a09-b3c7-0afe6d5020c1",
   "metadata": {},
   "outputs": [],
   "source": [
    "val = [1,2,3,4,5]\n",
    "series_a = pd.Series(val, name = \"A\")"
   ]
  },
  {
   "cell_type": "markdown",
   "id": "f873fc96-ef11-46c3-b482-99d215aaf526",
   "metadata": {},
   "source": [
    "#### specify index"
   ]
  },
  {
   "cell_type": "code",
   "execution_count": 5,
   "id": "31125d4c-3a22-4bab-ac5d-00182f736fb5",
   "metadata": {},
   "outputs": [],
   "source": [
    "val = [1,2,3,4,5]\n",
    "idx = [\"A\", \"B\", \"C\", \"D\", \"E\"]\n",
    "series_b = pd.Series(val, index = idx, name = \"B\")"
   ]
  },
  {
   "cell_type": "markdown",
   "id": "2e050726-3e5b-4515-94f8-213e1787210f",
   "metadata": {},
   "source": [
    "#### from numpy array"
   ]
  },
  {
   "cell_type": "code",
   "execution_count": 6,
   "id": "121c1cea-6c0f-4193-a7cd-317c8a57feb4",
   "metadata": {},
   "outputs": [
    {
     "data": {
      "text/plain": [
       "0    1\n",
       "1    2\n",
       "2    3\n",
       "3    4\n",
       "4    5\n",
       "Name: C, dtype: int32"
      ]
     },
     "execution_count": 6,
     "metadata": {},
     "output_type": "execute_result"
    }
   ],
   "source": [
    "val = np.array([1, 2, 3, 4, 5])\n",
    "series_c = pd.Series(val, name = \"C\")\n",
    "series_c"
   ]
  },
  {
   "cell_type": "markdown",
   "id": "666f76c1-71c2-4dcb-8c1e-7409cd48d691",
   "metadata": {},
   "source": [
    "### pd.DataFrame"
   ]
  },
  {
   "cell_type": "code",
   "execution_count": 7,
   "id": "cfd4fc28-f4c5-4791-a99b-92f95e237fdc",
   "metadata": {},
   "outputs": [],
   "source": [
    "ids = [\"A\", \"B\", \"C\"]\n",
    "ids_sr = pd.Series(ids, name = \"ids\")"
   ]
  },
  {
   "cell_type": "code",
   "execution_count": 8,
   "id": "318a498a-ca76-4439-8981-ebf4c62043d3",
   "metadata": {},
   "outputs": [],
   "source": [
    "names = [\"X\", \"Y\", \"Z\"]\n",
    "names_sr = pd.Series(names, name = \"names\")"
   ]
  },
  {
   "cell_type": "code",
   "execution_count": 9,
   "id": "1a5bfb90-60c7-4bed-b6a4-448cd0ecd576",
   "metadata": {},
   "outputs": [],
   "source": [
    "coords = [140, 150, 160]\n",
    "lon_sr = pd.Series(coords)"
   ]
  },
  {
   "cell_type": "code",
   "execution_count": 10,
   "id": "5467d42b-d36b-496a-91c5-65b7c985229d",
   "metadata": {},
   "outputs": [],
   "source": [
    "coords = [0, 10, 20]\n",
    "lat_sr = pd.Series(coords)"
   ]
  },
  {
   "cell_type": "markdown",
   "id": "ebbaef25-1d89-4763-9a53-b59af0cb406a",
   "metadata": {},
   "source": [
    "#### from dictionary"
   ]
  },
  {
   "cell_type": "code",
   "execution_count": 11,
   "id": "fdd97ed8-0e8d-4690-a682-adfa7a943eb6",
   "metadata": {},
   "outputs": [
    {
     "data": {
      "text/html": [
       "<div>\n",
       "<style scoped>\n",
       "    .dataframe tbody tr th:only-of-type {\n",
       "        vertical-align: middle;\n",
       "    }\n",
       "\n",
       "    .dataframe tbody tr th {\n",
       "        vertical-align: top;\n",
       "    }\n",
       "\n",
       "    .dataframe thead th {\n",
       "        text-align: right;\n",
       "    }\n",
       "</style>\n",
       "<table border=\"1\" class=\"dataframe\">\n",
       "  <thead>\n",
       "    <tr style=\"text-align: right;\">\n",
       "      <th></th>\n",
       "      <th>name</th>\n",
       "      <th>lon</th>\n",
       "      <th>lat</th>\n",
       "    </tr>\n",
       "  </thead>\n",
       "  <tbody>\n",
       "    <tr>\n",
       "      <th>0</th>\n",
       "      <td>X</td>\n",
       "      <td>140</td>\n",
       "      <td>0</td>\n",
       "    </tr>\n",
       "    <tr>\n",
       "      <th>1</th>\n",
       "      <td>Y</td>\n",
       "      <td>150</td>\n",
       "      <td>10</td>\n",
       "    </tr>\n",
       "    <tr>\n",
       "      <th>2</th>\n",
       "      <td>Z</td>\n",
       "      <td>160</td>\n",
       "      <td>20</td>\n",
       "    </tr>\n",
       "  </tbody>\n",
       "</table>\n",
       "</div>"
      ],
      "text/plain": [
       "  name  lon  lat\n",
       "0    X  140    0\n",
       "1    Y  150   10\n",
       "2    Z  160   20"
      ]
     },
     "execution_count": 11,
     "metadata": {},
     "output_type": "execute_result"
    }
   ],
   "source": [
    "d = {\"name\": names_sr, \n",
    "     \"lon\": lon_sr, \n",
    "     \"lat\": lat_sr}\n",
    "city_df = pd.DataFrame(d)\n",
    "city_df"
   ]
  },
  {
   "cell_type": "markdown",
   "id": "4ee70b68-9814-4606-a1e7-0e6893409c2e",
   "metadata": {
    "toc-hr-collapsed": true
   },
   "source": [
    "<a id='pd-structure'></a>\n",
    "## Structure"
   ]
  },
  {
   "cell_type": "markdown",
   "id": "6a5b8212-258c-440d-ae8d-3c4abc8f0c82",
   "metadata": {},
   "source": [
    "[Return to Start of Notebook](#pd)  "
   ]
  },
  {
   "cell_type": "code",
   "execution_count": 12,
   "id": "3d78b65c-e8d0-4348-899c-75369d6bda38",
   "metadata": {},
   "outputs": [
    {
     "name": "stdout",
     "output_type": "stream",
     "text": [
      "<class 'pandas.core.frame.DataFrame'>\n",
      "RangeIndex: 3 entries, 0 to 2\n",
      "Data columns (total 3 columns):\n",
      " #   Column  Non-Null Count  Dtype \n",
      "---  ------  --------------  ----- \n",
      " 0   name    3 non-null      object\n",
      " 1   lon     3 non-null      int64 \n",
      " 2   lat     3 non-null      int64 \n",
      "dtypes: int64(2), object(1)\n",
      "memory usage: 200.0+ bytes\n"
     ]
    }
   ],
   "source": [
    "city_df.info()"
   ]
  },
  {
   "cell_type": "markdown",
   "id": "511f3e71-1485-4c7e-955c-2015c8342148",
   "metadata": {},
   "source": [
    "### index"
   ]
  },
  {
   "cell_type": "code",
   "execution_count": 13,
   "id": "043b5b41-db02-4860-a749-fbac7c1042b1",
   "metadata": {},
   "outputs": [
    {
     "data": {
      "text/plain": [
       "pandas.core.indexes.range.RangeIndex"
      ]
     },
     "execution_count": 13,
     "metadata": {},
     "output_type": "execute_result"
    }
   ],
   "source": [
    "type(city_df.index)"
   ]
  },
  {
   "cell_type": "code",
   "execution_count": 14,
   "id": "0a97aa5e-8628-4f8e-a8ec-265c33efd51c",
   "metadata": {},
   "outputs": [
    {
     "data": {
      "text/plain": [
       "RangeIndex(start=0, stop=3, step=1)"
      ]
     },
     "execution_count": 14,
     "metadata": {},
     "output_type": "execute_result"
    }
   ],
   "source": [
    "city_df.index"
   ]
  },
  {
   "cell_type": "code",
   "execution_count": 15,
   "id": "de217fca-c86b-4fbd-a069-5f7cba4845f5",
   "metadata": {},
   "outputs": [
    {
     "data": {
      "text/plain": [
       "(3,)"
      ]
     },
     "execution_count": 15,
     "metadata": {},
     "output_type": "execute_result"
    }
   ],
   "source": [
    "city_df.index.shape"
   ]
  },
  {
   "cell_type": "code",
   "execution_count": 16,
   "id": "6e9102e4-9c9d-418e-a082-db69519fb896",
   "metadata": {},
   "outputs": [
    {
     "data": {
      "text/plain": [
       "dtype('int64')"
      ]
     },
     "execution_count": 16,
     "metadata": {},
     "output_type": "execute_result"
    }
   ],
   "source": [
    "city_df.index.dtype"
   ]
  },
  {
   "cell_type": "markdown",
   "id": "0594fdd0-0eb4-4455-a3e6-472865fe4d6c",
   "metadata": {},
   "source": [
    "### columns"
   ]
  },
  {
   "cell_type": "code",
   "execution_count": 17,
   "id": "29a39da0-eea7-488e-913b-abdd55b6ba8c",
   "metadata": {},
   "outputs": [
    {
     "data": {
      "text/plain": [
       "Index(['name', 'lon', 'lat'], dtype='object')"
      ]
     },
     "execution_count": 17,
     "metadata": {},
     "output_type": "execute_result"
    }
   ],
   "source": [
    "city_df.columns"
   ]
  },
  {
   "cell_type": "markdown",
   "id": "69f4a153-4ba1-459e-8bbb-a787e5bca40c",
   "metadata": {},
   "source": [
    "### values"
   ]
  },
  {
   "cell_type": "code",
   "execution_count": 18,
   "id": "0ef6760b-7c3c-4471-a104-650149f59562",
   "metadata": {},
   "outputs": [
    {
     "data": {
      "text/plain": [
       "array([140, 150, 160], dtype=int64)"
      ]
     },
     "execution_count": 18,
     "metadata": {},
     "output_type": "execute_result"
    }
   ],
   "source": [
    "city_df['lon'].values"
   ]
  },
  {
   "cell_type": "code",
   "execution_count": 19,
   "id": "b0bab457-2be1-4af5-aebd-ff8492c8ff60",
   "metadata": {},
   "outputs": [
    {
     "data": {
      "text/plain": [
       "numpy.ndarray"
      ]
     },
     "execution_count": 19,
     "metadata": {},
     "output_type": "execute_result"
    }
   ],
   "source": [
    "type(city_df['lon'].values)"
   ]
  },
  {
   "cell_type": "markdown",
   "id": "312c0ebd-f0cc-4ac8-9128-e8a05f98e86a",
   "metadata": {
    "toc-hr-collapsed": true
   },
   "source": [
    "<a id='pd-import'></a>\n",
    "## Import"
   ]
  },
  {
   "cell_type": "markdown",
   "id": "a44c6ad9-4930-4f15-a657-d7fa3f50d7b8",
   "metadata": {},
   "source": [
    "[Return to Start of Notebook](#pd)  "
   ]
  },
  {
   "cell_type": "markdown",
   "id": "49cbfdb3-2cd1-4b84-9200-be01ec7c4a3e",
   "metadata": {},
   "source": [
    "### pd. read_csv"
   ]
  },
  {
   "cell_type": "markdown",
   "id": "fb938aa2-27e0-4898-8049-6901bba3cbfc",
   "metadata": {},
   "source": [
    "#### import all data"
   ]
  },
  {
   "cell_type": "code",
   "execution_count": 20,
   "id": "26cd6d6c-9bf0-4bba-b82f-87e9cd1eec7b",
   "metadata": {},
   "outputs": [
    {
     "data": {
      "text/html": [
       "<div>\n",
       "<style scoped>\n",
       "    .dataframe tbody tr th:only-of-type {\n",
       "        vertical-align: middle;\n",
       "    }\n",
       "\n",
       "    .dataframe tbody tr th {\n",
       "        vertical-align: top;\n",
       "    }\n",
       "\n",
       "    .dataframe thead th {\n",
       "        text-align: right;\n",
       "    }\n",
       "</style>\n",
       "<table border=\"1\" class=\"dataframe\">\n",
       "  <thead>\n",
       "    <tr style=\"text-align: right;\">\n",
       "      <th></th>\n",
       "      <th>Year</th>\n",
       "      <th>Glob</th>\n",
       "      <th>NHem</th>\n",
       "      <th>SHem</th>\n",
       "      <th>24N-90N</th>\n",
       "      <th>24S-24N</th>\n",
       "      <th>90S-24S</th>\n",
       "      <th>64N-90N</th>\n",
       "      <th>44N-64N</th>\n",
       "      <th>24N-44N</th>\n",
       "      <th>EQU-24N</th>\n",
       "      <th>24S-EQU</th>\n",
       "      <th>44S-24S</th>\n",
       "      <th>64S-44S</th>\n",
       "      <th>90S-64S</th>\n",
       "    </tr>\n",
       "  </thead>\n",
       "  <tbody>\n",
       "    <tr>\n",
       "      <th>0</th>\n",
       "      <td>1880</td>\n",
       "      <td>-0.16</td>\n",
       "      <td>-0.27</td>\n",
       "      <td>-0.04</td>\n",
       "      <td>-0.34</td>\n",
       "      <td>-0.13</td>\n",
       "      <td>-0.01</td>\n",
       "      <td>-0.81</td>\n",
       "      <td>-0.42</td>\n",
       "      <td>-0.26</td>\n",
       "      <td>-0.16</td>\n",
       "      <td>-0.10</td>\n",
       "      <td>-0.02</td>\n",
       "      <td>0.05</td>\n",
       "      <td>0.65</td>\n",
       "    </tr>\n",
       "    <tr>\n",
       "      <th>1</th>\n",
       "      <td>1881</td>\n",
       "      <td>-0.07</td>\n",
       "      <td>-0.16</td>\n",
       "      <td>0.01</td>\n",
       "      <td>-0.32</td>\n",
       "      <td>0.10</td>\n",
       "      <td>-0.06</td>\n",
       "      <td>-0.91</td>\n",
       "      <td>-0.39</td>\n",
       "      <td>-0.18</td>\n",
       "      <td>0.09</td>\n",
       "      <td>0.11</td>\n",
       "      <td>-0.04</td>\n",
       "      <td>-0.07</td>\n",
       "      <td>0.58</td>\n",
       "    </tr>\n",
       "    <tr>\n",
       "      <th>2</th>\n",
       "      <td>1882</td>\n",
       "      <td>-0.10</td>\n",
       "      <td>-0.20</td>\n",
       "      <td>0.00</td>\n",
       "      <td>-0.28</td>\n",
       "      <td>-0.05</td>\n",
       "      <td>0.02</td>\n",
       "      <td>-1.40</td>\n",
       "      <td>-0.22</td>\n",
       "      <td>-0.13</td>\n",
       "      <td>-0.05</td>\n",
       "      <td>-0.04</td>\n",
       "      <td>0.03</td>\n",
       "      <td>0.04</td>\n",
       "      <td>0.61</td>\n",
       "    </tr>\n",
       "    <tr>\n",
       "      <th>3</th>\n",
       "      <td>1883</td>\n",
       "      <td>-0.16</td>\n",
       "      <td>-0.26</td>\n",
       "      <td>-0.06</td>\n",
       "      <td>-0.31</td>\n",
       "      <td>-0.16</td>\n",
       "      <td>0.00</td>\n",
       "      <td>-0.19</td>\n",
       "      <td>-0.51</td>\n",
       "      <td>-0.23</td>\n",
       "      <td>-0.18</td>\n",
       "      <td>-0.15</td>\n",
       "      <td>-0.03</td>\n",
       "      <td>0.07</td>\n",
       "      <td>0.48</td>\n",
       "    </tr>\n",
       "    <tr>\n",
       "      <th>4</th>\n",
       "      <td>1884</td>\n",
       "      <td>-0.28</td>\n",
       "      <td>-0.42</td>\n",
       "      <td>-0.14</td>\n",
       "      <td>-0.59</td>\n",
       "      <td>-0.15</td>\n",
       "      <td>-0.13</td>\n",
       "      <td>-1.31</td>\n",
       "      <td>-0.60</td>\n",
       "      <td>-0.46</td>\n",
       "      <td>-0.13</td>\n",
       "      <td>-0.16</td>\n",
       "      <td>-0.18</td>\n",
       "      <td>-0.02</td>\n",
       "      <td>0.63</td>\n",
       "    </tr>\n",
       "    <tr>\n",
       "      <th>...</th>\n",
       "      <td>...</td>\n",
       "      <td>...</td>\n",
       "      <td>...</td>\n",
       "      <td>...</td>\n",
       "      <td>...</td>\n",
       "      <td>...</td>\n",
       "      <td>...</td>\n",
       "      <td>...</td>\n",
       "      <td>...</td>\n",
       "      <td>...</td>\n",
       "      <td>...</td>\n",
       "      <td>...</td>\n",
       "      <td>...</td>\n",
       "      <td>...</td>\n",
       "      <td>...</td>\n",
       "    </tr>\n",
       "    <tr>\n",
       "      <th>136</th>\n",
       "      <td>2016</td>\n",
       "      <td>1.02</td>\n",
       "      <td>1.31</td>\n",
       "      <td>0.73</td>\n",
       "      <td>1.55</td>\n",
       "      <td>1.02</td>\n",
       "      <td>0.49</td>\n",
       "      <td>3.26</td>\n",
       "      <td>1.44</td>\n",
       "      <td>1.08</td>\n",
       "      <td>0.96</td>\n",
       "      <td>1.07</td>\n",
       "      <td>0.67</td>\n",
       "      <td>0.25</td>\n",
       "      <td>0.37</td>\n",
       "    </tr>\n",
       "    <tr>\n",
       "      <th>137</th>\n",
       "      <td>2017</td>\n",
       "      <td>0.93</td>\n",
       "      <td>1.18</td>\n",
       "      <td>0.67</td>\n",
       "      <td>1.40</td>\n",
       "      <td>0.82</td>\n",
       "      <td>0.59</td>\n",
       "      <td>2.54</td>\n",
       "      <td>1.38</td>\n",
       "      <td>1.05</td>\n",
       "      <td>0.87</td>\n",
       "      <td>0.78</td>\n",
       "      <td>0.76</td>\n",
       "      <td>0.34</td>\n",
       "      <td>0.52</td>\n",
       "    </tr>\n",
       "    <tr>\n",
       "      <th>138</th>\n",
       "      <td>2018</td>\n",
       "      <td>0.85</td>\n",
       "      <td>1.05</td>\n",
       "      <td>0.66</td>\n",
       "      <td>1.26</td>\n",
       "      <td>0.68</td>\n",
       "      <td>0.68</td>\n",
       "      <td>2.17</td>\n",
       "      <td>1.10</td>\n",
       "      <td>1.06</td>\n",
       "      <td>0.73</td>\n",
       "      <td>0.63</td>\n",
       "      <td>0.80</td>\n",
       "      <td>0.37</td>\n",
       "      <td>0.93</td>\n",
       "    </tr>\n",
       "    <tr>\n",
       "      <th>139</th>\n",
       "      <td>2019</td>\n",
       "      <td>0.99</td>\n",
       "      <td>1.22</td>\n",
       "      <td>0.75</td>\n",
       "      <td>1.43</td>\n",
       "      <td>0.91</td>\n",
       "      <td>0.65</td>\n",
       "      <td>2.72</td>\n",
       "      <td>1.44</td>\n",
       "      <td>1.01</td>\n",
       "      <td>0.91</td>\n",
       "      <td>0.90</td>\n",
       "      <td>0.75</td>\n",
       "      <td>0.39</td>\n",
       "      <td>0.85</td>\n",
       "    </tr>\n",
       "    <tr>\n",
       "      <th>140</th>\n",
       "      <td>2020</td>\n",
       "      <td>1.02</td>\n",
       "      <td>1.36</td>\n",
       "      <td>0.69</td>\n",
       "      <td>1.68</td>\n",
       "      <td>0.87</td>\n",
       "      <td>0.57</td>\n",
       "      <td>2.91</td>\n",
       "      <td>1.82</td>\n",
       "      <td>1.20</td>\n",
       "      <td>0.89</td>\n",
       "      <td>0.85</td>\n",
       "      <td>0.58</td>\n",
       "      <td>0.39</td>\n",
       "      <td>0.91</td>\n",
       "    </tr>\n",
       "  </tbody>\n",
       "</table>\n",
       "<p>141 rows × 15 columns</p>\n",
       "</div>"
      ],
      "text/plain": [
       "     Year  Glob  NHem  SHem  24N-90N  24S-24N  90S-24S  64N-90N  44N-64N  \\\n",
       "0    1880 -0.16 -0.27 -0.04    -0.34    -0.13    -0.01    -0.81    -0.42   \n",
       "1    1881 -0.07 -0.16  0.01    -0.32     0.10    -0.06    -0.91    -0.39   \n",
       "2    1882 -0.10 -0.20  0.00    -0.28    -0.05     0.02    -1.40    -0.22   \n",
       "3    1883 -0.16 -0.26 -0.06    -0.31    -0.16     0.00    -0.19    -0.51   \n",
       "4    1884 -0.28 -0.42 -0.14    -0.59    -0.15    -0.13    -1.31    -0.60   \n",
       "..    ...   ...   ...   ...      ...      ...      ...      ...      ...   \n",
       "136  2016  1.02  1.31  0.73     1.55     1.02     0.49     3.26     1.44   \n",
       "137  2017  0.93  1.18  0.67     1.40     0.82     0.59     2.54     1.38   \n",
       "138  2018  0.85  1.05  0.66     1.26     0.68     0.68     2.17     1.10   \n",
       "139  2019  0.99  1.22  0.75     1.43     0.91     0.65     2.72     1.44   \n",
       "140  2020  1.02  1.36  0.69     1.68     0.87     0.57     2.91     1.82   \n",
       "\n",
       "     24N-44N  EQU-24N  24S-EQU  44S-24S  64S-44S  90S-64S  \n",
       "0      -0.26    -0.16    -0.10    -0.02     0.05     0.65  \n",
       "1      -0.18     0.09     0.11    -0.04    -0.07     0.58  \n",
       "2      -0.13    -0.05    -0.04     0.03     0.04     0.61  \n",
       "3      -0.23    -0.18    -0.15    -0.03     0.07     0.48  \n",
       "4      -0.46    -0.13    -0.16    -0.18    -0.02     0.63  \n",
       "..       ...      ...      ...      ...      ...      ...  \n",
       "136     1.08     0.96     1.07     0.67     0.25     0.37  \n",
       "137     1.05     0.87     0.78     0.76     0.34     0.52  \n",
       "138     1.06     0.73     0.63     0.80     0.37     0.93  \n",
       "139     1.01     0.91     0.90     0.75     0.39     0.85  \n",
       "140     1.20     0.89     0.85     0.58     0.39     0.91  \n",
       "\n",
       "[141 rows x 15 columns]"
      ]
     },
     "execution_count": 20,
     "metadata": {},
     "output_type": "execute_result"
    }
   ],
   "source": [
    "df = pd.read_csv(\"data/ZonAnn.Ts+dSST.csv\")\n",
    "df"
   ]
  },
  {
   "cell_type": "markdown",
   "id": "197fa388-9f4a-46f2-ab4f-2b21ba0a6e7f",
   "metadata": {
    "toc-hr-collapsed": true
   },
   "source": [
    "<a id='pd-explore'></a>\n",
    "## Explore"
   ]
  },
  {
   "cell_type": "markdown",
   "id": "0e27fc7d-c56a-47c6-b562-bf82ca85ef58",
   "metadata": {},
   "source": [
    "[Return to Start of Notebook](#pd)  "
   ]
  },
  {
   "cell_type": "markdown",
   "id": "0e59ffcf-332b-4fca-9743-8abd2c52f55a",
   "metadata": {},
   "source": [
    "### info"
   ]
  },
  {
   "cell_type": "code",
   "execution_count": 21,
   "id": "124b3bbb-397e-4a9b-9bb5-832a054035b3",
   "metadata": {},
   "outputs": [
    {
     "name": "stdout",
     "output_type": "stream",
     "text": [
      "<class 'pandas.core.frame.DataFrame'>\n",
      "RangeIndex: 141 entries, 0 to 140\n",
      "Data columns (total 15 columns):\n",
      " #   Column   Non-Null Count  Dtype  \n",
      "---  ------   --------------  -----  \n",
      " 0   Year     141 non-null    int64  \n",
      " 1   Glob     141 non-null    float64\n",
      " 2   NHem     141 non-null    float64\n",
      " 3   SHem     141 non-null    float64\n",
      " 4   24N-90N  141 non-null    float64\n",
      " 5   24S-24N  141 non-null    float64\n",
      " 6   90S-24S  141 non-null    float64\n",
      " 7   64N-90N  141 non-null    float64\n",
      " 8   44N-64N  141 non-null    float64\n",
      " 9   24N-44N  141 non-null    float64\n",
      " 10  EQU-24N  141 non-null    float64\n",
      " 11  24S-EQU  141 non-null    float64\n",
      " 12  44S-24S  141 non-null    float64\n",
      " 13  64S-44S  141 non-null    float64\n",
      " 14  90S-64S  141 non-null    float64\n",
      "dtypes: float64(14), int64(1)\n",
      "memory usage: 16.6 KB\n"
     ]
    }
   ],
   "source": [
    "df.info()"
   ]
  },
  {
   "cell_type": "markdown",
   "id": "a5ad9c2a-5acf-4b0f-ae36-ceee263fc36d",
   "metadata": {},
   "source": [
    "### shape"
   ]
  },
  {
   "cell_type": "code",
   "execution_count": 22,
   "id": "9f474841-feab-4f12-8777-d8986e70f1fb",
   "metadata": {},
   "outputs": [
    {
     "data": {
      "text/plain": [
       "(141, 15)"
      ]
     },
     "execution_count": 22,
     "metadata": {},
     "output_type": "execute_result"
    }
   ],
   "source": [
    "df.shape"
   ]
  },
  {
   "cell_type": "code",
   "execution_count": 23,
   "id": "f7ada4aa-a39f-44b4-9287-5a208d206738",
   "metadata": {},
   "outputs": [],
   "source": [
    "rows = df.shape[0]"
   ]
  },
  {
   "cell_type": "code",
   "execution_count": 24,
   "id": "707edb22-54a3-4287-baf7-918e9c4ca431",
   "metadata": {},
   "outputs": [],
   "source": [
    "cols = df.shape[1]"
   ]
  },
  {
   "cell_type": "markdown",
   "id": "575da035-fac5-40c9-801e-7973b25f409a",
   "metadata": {},
   "source": [
    "### columns"
   ]
  },
  {
   "cell_type": "code",
   "execution_count": 25,
   "id": "726a6cc7-2705-4d54-a987-8ac096a5332e",
   "metadata": {},
   "outputs": [
    {
     "data": {
      "text/plain": [
       "Index(['Year', 'Glob', 'NHem', 'SHem', '24N-90N', '24S-24N', '90S-24S',\n",
       "       '64N-90N', '44N-64N', '24N-44N', 'EQU-24N', '24S-EQU', '44S-24S',\n",
       "       '64S-44S', '90S-64S'],\n",
       "      dtype='object')"
      ]
     },
     "execution_count": 25,
     "metadata": {},
     "output_type": "execute_result"
    }
   ],
   "source": [
    "df.columns"
   ]
  },
  {
   "cell_type": "code",
   "execution_count": 26,
   "id": "9e1169b2-c2c8-4b17-a62c-585bd8098997",
   "metadata": {},
   "outputs": [
    {
     "name": "stdout",
     "output_type": "stream",
     "text": [
      "['Year', 'Glob', 'NHem', 'SHem', '24N-90N', '24S-24N', '90S-24S', '64N-90N', '44N-64N', '24N-44N', 'EQU-24N', '24S-EQU', '44S-24S', '64S-44S', '90S-64S']\n"
     ]
    }
   ],
   "source": [
    "print(list(df.columns))"
   ]
  },
  {
   "cell_type": "markdown",
   "id": "c2abb82b-d71b-4322-baee-fc3e46848461",
   "metadata": {},
   "source": [
    "### dtypes"
   ]
  },
  {
   "cell_type": "code",
   "execution_count": 27,
   "id": "2a07b4cf-3c13-4217-973c-40759fc68eaa",
   "metadata": {},
   "outputs": [
    {
     "data": {
      "text/plain": [
       "Year         int64\n",
       "Glob       float64\n",
       "NHem       float64\n",
       "SHem       float64\n",
       "24N-90N    float64\n",
       "            ...   \n",
       "EQU-24N    float64\n",
       "24S-EQU    float64\n",
       "44S-24S    float64\n",
       "64S-44S    float64\n",
       "90S-64S    float64\n",
       "Length: 15, dtype: object"
      ]
     },
     "execution_count": 27,
     "metadata": {},
     "output_type": "execute_result"
    }
   ],
   "source": [
    "df.dtypes"
   ]
  },
  {
   "cell_type": "code",
   "execution_count": 28,
   "id": "1aa646eb-e0a1-46c5-b10e-c9185df64ee3",
   "metadata": {},
   "outputs": [
    {
     "data": {
      "text/plain": [
       "dtype('float64')"
      ]
     },
     "execution_count": 28,
     "metadata": {},
     "output_type": "execute_result"
    }
   ],
   "source": [
    "df.dtypes.loc['Glob']"
   ]
  },
  {
   "cell_type": "markdown",
   "id": "edb85103-6a03-4321-affc-bbd9f0460aca",
   "metadata": {
    "toc-hr-collapsed": true
   },
   "source": [
    "<a id='pd-missing'></a>\n",
    "## Missing Values"
   ]
  },
  {
   "cell_type": "markdown",
   "id": "98d8d990-bd97-421e-b682-fb33a360ea17",
   "metadata": {},
   "source": [
    "[Return to Start of Notebook](#pd)  "
   ]
  },
  {
   "cell_type": "code",
   "execution_count": 29,
   "id": "52e9bf21-2259-412d-9beb-d5ffbef4395f",
   "metadata": {},
   "outputs": [
    {
     "data": {
      "text/html": [
       "<div>\n",
       "<style scoped>\n",
       "    .dataframe tbody tr th:only-of-type {\n",
       "        vertical-align: middle;\n",
       "    }\n",
       "\n",
       "    .dataframe tbody tr th {\n",
       "        vertical-align: top;\n",
       "    }\n",
       "\n",
       "    .dataframe thead th {\n",
       "        text-align: right;\n",
       "    }\n",
       "</style>\n",
       "<table border=\"1\" class=\"dataframe\">\n",
       "  <thead>\n",
       "    <tr style=\"text-align: right;\">\n",
       "      <th></th>\n",
       "      <th>year</th>\n",
       "      <th>Ariel University</th>\n",
       "      <th>Weizmann Institute of Science</th>\n",
       "      <th>Ben-Gurion Univ. of the Negev</th>\n",
       "      <th>Haifa University</th>\n",
       "      <th>Bar-Ilan University</th>\n",
       "      <th>Tel-Aviv University</th>\n",
       "      <th>Technion</th>\n",
       "      <th>Hebrew University</th>\n",
       "    </tr>\n",
       "  </thead>\n",
       "  <tbody>\n",
       "    <tr>\n",
       "      <th>0</th>\n",
       "      <td>1969/70</td>\n",
       "      <td>NaN</td>\n",
       "      <td>419.0</td>\n",
       "      <td>1297</td>\n",
       "      <td>2794</td>\n",
       "      <td>4273</td>\n",
       "      <td>7958</td>\n",
       "      <td>6045</td>\n",
       "      <td>12588</td>\n",
       "    </tr>\n",
       "    <tr>\n",
       "      <th>1</th>\n",
       "      <td>1974/75</td>\n",
       "      <td>NaN</td>\n",
       "      <td>580.0</td>\n",
       "      <td>3247</td>\n",
       "      <td>4713</td>\n",
       "      <td>6527</td>\n",
       "      <td>12813</td>\n",
       "      <td>8453</td>\n",
       "      <td>13516</td>\n",
       "    </tr>\n",
       "    <tr>\n",
       "      <th>2</th>\n",
       "      <td>1979/80</td>\n",
       "      <td>NaN</td>\n",
       "      <td>490.0</td>\n",
       "      <td>4250</td>\n",
       "      <td>6140</td>\n",
       "      <td>8070</td>\n",
       "      <td>14380</td>\n",
       "      <td>7580</td>\n",
       "      <td>13570</td>\n",
       "    </tr>\n",
       "  </tbody>\n",
       "</table>\n",
       "</div>"
      ],
      "text/plain": [
       "      year  Ariel University  Weizmann Institute of Science  \\\n",
       "0  1969/70               NaN                          419.0   \n",
       "1  1974/75               NaN                          580.0   \n",
       "2  1979/80               NaN                          490.0   \n",
       "\n",
       "   Ben-Gurion Univ. of the Negev  Haifa University  Bar-Ilan University  \\\n",
       "0                           1297              2794                 4273   \n",
       "1                           3247              4713                 6527   \n",
       "2                           4250              6140                 8070   \n",
       "\n",
       "   Tel-Aviv University  Technion  Hebrew University  \n",
       "0                 7958      6045              12588  \n",
       "1                12813      8453              13516  \n",
       "2                14380      7580              13570  "
      ]
     },
     "execution_count": 29,
     "metadata": {},
     "output_type": "execute_result"
    }
   ],
   "source": [
    "students = pd.read_csv(\"data/students.csv\")\n",
    "students.head(3)"
   ]
  },
  {
   "cell_type": "markdown",
   "id": "43633fc4-4d38-42cf-a37e-f65ab0fe798f",
   "metadata": {
    "tags": [],
    "toc-hr-collapsed": true
   },
   "source": [
    "### .isna()"
   ]
  },
  {
   "cell_type": "markdown",
   "id": "4572e577-cf27-4c83-ba1e-fddf775e33f5",
   "metadata": {},
   "source": [
    "#### DataFrame"
   ]
  },
  {
   "cell_type": "code",
   "execution_count": 30,
   "id": "5425f222-e42d-4b2a-8c76-47042fd05480",
   "metadata": {},
   "outputs": [
    {
     "data": {
      "text/html": [
       "<div>\n",
       "<style scoped>\n",
       "    .dataframe tbody tr th:only-of-type {\n",
       "        vertical-align: middle;\n",
       "    }\n",
       "\n",
       "    .dataframe tbody tr th {\n",
       "        vertical-align: top;\n",
       "    }\n",
       "\n",
       "    .dataframe thead th {\n",
       "        text-align: right;\n",
       "    }\n",
       "</style>\n",
       "<table border=\"1\" class=\"dataframe\">\n",
       "  <thead>\n",
       "    <tr style=\"text-align: right;\">\n",
       "      <th></th>\n",
       "      <th>year</th>\n",
       "      <th>Ariel University</th>\n",
       "      <th>Weizmann Institute of Science</th>\n",
       "      <th>Ben-Gurion Univ. of the Negev</th>\n",
       "      <th>Haifa University</th>\n",
       "      <th>Bar-Ilan University</th>\n",
       "      <th>Tel-Aviv University</th>\n",
       "      <th>Technion</th>\n",
       "      <th>Hebrew University</th>\n",
       "    </tr>\n",
       "  </thead>\n",
       "  <tbody>\n",
       "    <tr>\n",
       "      <th>0</th>\n",
       "      <td>False</td>\n",
       "      <td>True</td>\n",
       "      <td>False</td>\n",
       "      <td>False</td>\n",
       "      <td>False</td>\n",
       "      <td>False</td>\n",
       "      <td>False</td>\n",
       "      <td>False</td>\n",
       "      <td>False</td>\n",
       "    </tr>\n",
       "    <tr>\n",
       "      <th>1</th>\n",
       "      <td>False</td>\n",
       "      <td>True</td>\n",
       "      <td>False</td>\n",
       "      <td>False</td>\n",
       "      <td>False</td>\n",
       "      <td>False</td>\n",
       "      <td>False</td>\n",
       "      <td>False</td>\n",
       "      <td>False</td>\n",
       "    </tr>\n",
       "    <tr>\n",
       "      <th>2</th>\n",
       "      <td>False</td>\n",
       "      <td>True</td>\n",
       "      <td>False</td>\n",
       "      <td>False</td>\n",
       "      <td>False</td>\n",
       "      <td>False</td>\n",
       "      <td>False</td>\n",
       "      <td>False</td>\n",
       "      <td>False</td>\n",
       "    </tr>\n",
       "    <tr>\n",
       "      <th>3</th>\n",
       "      <td>False</td>\n",
       "      <td>True</td>\n",
       "      <td>True</td>\n",
       "      <td>False</td>\n",
       "      <td>False</td>\n",
       "      <td>False</td>\n",
       "      <td>False</td>\n",
       "      <td>False</td>\n",
       "      <td>False</td>\n",
       "    </tr>\n",
       "    <tr>\n",
       "      <th>4</th>\n",
       "      <td>False</td>\n",
       "      <td>True</td>\n",
       "      <td>True</td>\n",
       "      <td>False</td>\n",
       "      <td>False</td>\n",
       "      <td>False</td>\n",
       "      <td>False</td>\n",
       "      <td>False</td>\n",
       "      <td>False</td>\n",
       "    </tr>\n",
       "    <tr>\n",
       "      <th>...</th>\n",
       "      <td>...</td>\n",
       "      <td>...</td>\n",
       "      <td>...</td>\n",
       "      <td>...</td>\n",
       "      <td>...</td>\n",
       "      <td>...</td>\n",
       "      <td>...</td>\n",
       "      <td>...</td>\n",
       "      <td>...</td>\n",
       "    </tr>\n",
       "    <tr>\n",
       "      <th>38</th>\n",
       "      <td>False</td>\n",
       "      <td>False</td>\n",
       "      <td>False</td>\n",
       "      <td>False</td>\n",
       "      <td>False</td>\n",
       "      <td>False</td>\n",
       "      <td>False</td>\n",
       "      <td>False</td>\n",
       "      <td>False</td>\n",
       "    </tr>\n",
       "    <tr>\n",
       "      <th>39</th>\n",
       "      <td>False</td>\n",
       "      <td>True</td>\n",
       "      <td>True</td>\n",
       "      <td>False</td>\n",
       "      <td>False</td>\n",
       "      <td>False</td>\n",
       "      <td>False</td>\n",
       "      <td>False</td>\n",
       "      <td>False</td>\n",
       "    </tr>\n",
       "    <tr>\n",
       "      <th>40</th>\n",
       "      <td>False</td>\n",
       "      <td>False</td>\n",
       "      <td>True</td>\n",
       "      <td>False</td>\n",
       "      <td>False</td>\n",
       "      <td>False</td>\n",
       "      <td>False</td>\n",
       "      <td>False</td>\n",
       "      <td>False</td>\n",
       "    </tr>\n",
       "    <tr>\n",
       "      <th>41</th>\n",
       "      <td>False</td>\n",
       "      <td>False</td>\n",
       "      <td>False</td>\n",
       "      <td>False</td>\n",
       "      <td>False</td>\n",
       "      <td>False</td>\n",
       "      <td>False</td>\n",
       "      <td>False</td>\n",
       "      <td>False</td>\n",
       "    </tr>\n",
       "    <tr>\n",
       "      <th>42</th>\n",
       "      <td>False</td>\n",
       "      <td>False</td>\n",
       "      <td>False</td>\n",
       "      <td>False</td>\n",
       "      <td>False</td>\n",
       "      <td>False</td>\n",
       "      <td>False</td>\n",
       "      <td>False</td>\n",
       "      <td>False</td>\n",
       "    </tr>\n",
       "  </tbody>\n",
       "</table>\n",
       "<p>43 rows × 9 columns</p>\n",
       "</div>"
      ],
      "text/plain": [
       "     year  Ariel University  Weizmann Institute of Science  \\\n",
       "0   False              True                          False   \n",
       "1   False              True                          False   \n",
       "2   False              True                          False   \n",
       "3   False              True                           True   \n",
       "4   False              True                           True   \n",
       "..    ...               ...                            ...   \n",
       "38  False             False                          False   \n",
       "39  False              True                           True   \n",
       "40  False             False                           True   \n",
       "41  False             False                          False   \n",
       "42  False             False                          False   \n",
       "\n",
       "    Ben-Gurion Univ. of the Negev  Haifa University  Bar-Ilan University  \\\n",
       "0                           False             False                False   \n",
       "1                           False             False                False   \n",
       "2                           False             False                False   \n",
       "3                           False             False                False   \n",
       "4                           False             False                False   \n",
       "..                            ...               ...                  ...   \n",
       "38                          False             False                False   \n",
       "39                          False             False                False   \n",
       "40                          False             False                False   \n",
       "41                          False             False                False   \n",
       "42                          False             False                False   \n",
       "\n",
       "    Tel-Aviv University  Technion  Hebrew University  \n",
       "0                 False     False              False  \n",
       "1                 False     False              False  \n",
       "2                 False     False              False  \n",
       "3                 False     False              False  \n",
       "4                 False     False              False  \n",
       "..                  ...       ...                ...  \n",
       "38                False     False              False  \n",
       "39                False     False              False  \n",
       "40                False     False              False  \n",
       "41                False     False              False  \n",
       "42                False     False              False  \n",
       "\n",
       "[43 rows x 9 columns]"
      ]
     },
     "execution_count": 30,
     "metadata": {},
     "output_type": "execute_result"
    }
   ],
   "source": [
    "students.isna()"
   ]
  },
  {
   "cell_type": "markdown",
   "id": "70dcc624-12c6-45bd-a0da-4fcc9703a174",
   "metadata": {},
   "source": [
    "#### Column"
   ]
  },
  {
   "cell_type": "code",
   "execution_count": 31,
   "id": "cda1be40-d5b5-489d-853f-9bb2992471f9",
   "metadata": {},
   "outputs": [],
   "source": [
    "filt = students[\"Ariel University\"].isna()\n",
    "sel = students[filt]"
   ]
  },
  {
   "cell_type": "markdown",
   "id": "94b8db23-93f6-401a-a10d-9f3cf3f1bb26",
   "metadata": {},
   "source": [
    "### .notna()"
   ]
  },
  {
   "cell_type": "code",
   "execution_count": 32,
   "id": "5189e6dc-a6f9-48c7-8e43-3fadfb2e6dce",
   "metadata": {},
   "outputs": [],
   "source": [
    "filt = students[\"Ariel University\"].notna()\n",
    "sel = students[filt]"
   ]
  },
  {
   "cell_type": "markdown",
   "id": "3b4f4747-31df-4c2f-9a9e-fdbb7c6769cd",
   "metadata": {},
   "source": [
    "### .isna().any()"
   ]
  },
  {
   "cell_type": "code",
   "execution_count": 33,
   "id": "132ad7dc-009d-4b81-abaf-30500a4eaee5",
   "metadata": {},
   "outputs": [
    {
     "data": {
      "text/plain": [
       "year                             False\n",
       "Ariel University                  True\n",
       "Weizmann Institute of Science     True\n",
       "Ben-Gurion Univ. of the Negev    False\n",
       "Haifa University                 False\n",
       "Bar-Ilan University              False\n",
       "Tel-Aviv University              False\n",
       "Technion                         False\n",
       "Hebrew University                False\n",
       "dtype: bool"
      ]
     },
     "execution_count": 33,
     "metadata": {},
     "output_type": "execute_result"
    }
   ],
   "source": [
    "students.isna().any()"
   ]
  },
  {
   "cell_type": "markdown",
   "id": "cbb01be8-f626-4bc4-8d9e-f04de6ebd4fc",
   "metadata": {},
   "source": [
    "### .isna().sum()"
   ]
  },
  {
   "cell_type": "code",
   "execution_count": 34,
   "id": "75227f69-5cd4-4582-9cb9-1ca62d2c212e",
   "metadata": {},
   "outputs": [
    {
     "data": {
      "text/plain": [
       "year                              0\n",
       "Ariel University                 39\n",
       "Weizmann Institute of Science     6\n",
       "Ben-Gurion Univ. of the Negev     0\n",
       "Haifa University                  0\n",
       "Bar-Ilan University               0\n",
       "Tel-Aviv University               0\n",
       "Technion                          0\n",
       "Hebrew University                 0\n",
       "dtype: int64"
      ]
     },
     "execution_count": 34,
     "metadata": {},
     "output_type": "execute_result"
    }
   ],
   "source": [
    "students.isna().sum()"
   ]
  },
  {
   "cell_type": "markdown",
   "id": "5856a079-04da-471f-ab32-86c5c40fedb3",
   "metadata": {},
   "source": [
    "### .fillna"
   ]
  },
  {
   "cell_type": "code",
   "execution_count": 35,
   "id": "eaa0bd46-fb03-47d5-ad67-0512b724e172",
   "metadata": {},
   "outputs": [
    {
     "data": {
      "text/plain": [
       "0         0.0\n",
       "1         0.0\n",
       "2         0.0\n",
       "3         0.0\n",
       "4         0.0\n",
       "       ...   \n",
       "38    10977.0\n",
       "39        0.0\n",
       "40    11899.0\n",
       "41    11741.0\n",
       "42    12016.0\n",
       "Name: Ariel University, Length: 43, dtype: float64"
      ]
     },
     "execution_count": 35,
     "metadata": {},
     "output_type": "execute_result"
    }
   ],
   "source": [
    "students[\"Ariel University\"].fillna(0)"
   ]
  },
  {
   "cell_type": "code",
   "execution_count": 36,
   "id": "602d5508-cd5e-4d8a-bd46-9b5835d560d1",
   "metadata": {},
   "outputs": [
    {
     "data": {
      "text/html": [
       "<div>\n",
       "<style scoped>\n",
       "    .dataframe tbody tr th:only-of-type {\n",
       "        vertical-align: middle;\n",
       "    }\n",
       "\n",
       "    .dataframe tbody tr th {\n",
       "        vertical-align: top;\n",
       "    }\n",
       "\n",
       "    .dataframe thead th {\n",
       "        text-align: right;\n",
       "    }\n",
       "</style>\n",
       "<table border=\"1\" class=\"dataframe\">\n",
       "  <thead>\n",
       "    <tr style=\"text-align: right;\">\n",
       "      <th></th>\n",
       "      <th>year</th>\n",
       "      <th>Ariel University</th>\n",
       "      <th>Weizmann Institute of Science</th>\n",
       "      <th>Ben-Gurion Univ. of the Negev</th>\n",
       "      <th>Haifa University</th>\n",
       "      <th>Bar-Ilan University</th>\n",
       "      <th>Tel-Aviv University</th>\n",
       "      <th>Technion</th>\n",
       "      <th>Hebrew University</th>\n",
       "    </tr>\n",
       "  </thead>\n",
       "  <tbody>\n",
       "    <tr>\n",
       "      <th>0</th>\n",
       "      <td>1969/70</td>\n",
       "      <td>0.0</td>\n",
       "      <td>419.0</td>\n",
       "      <td>1297</td>\n",
       "      <td>2794</td>\n",
       "      <td>4273</td>\n",
       "      <td>7958</td>\n",
       "      <td>6045</td>\n",
       "      <td>12588</td>\n",
       "    </tr>\n",
       "    <tr>\n",
       "      <th>1</th>\n",
       "      <td>1974/75</td>\n",
       "      <td>0.0</td>\n",
       "      <td>580.0</td>\n",
       "      <td>3247</td>\n",
       "      <td>4713</td>\n",
       "      <td>6527</td>\n",
       "      <td>12813</td>\n",
       "      <td>8453</td>\n",
       "      <td>13516</td>\n",
       "    </tr>\n",
       "    <tr>\n",
       "      <th>2</th>\n",
       "      <td>1979/80</td>\n",
       "      <td>0.0</td>\n",
       "      <td>490.0</td>\n",
       "      <td>4250</td>\n",
       "      <td>6140</td>\n",
       "      <td>8070</td>\n",
       "      <td>14380</td>\n",
       "      <td>7580</td>\n",
       "      <td>13570</td>\n",
       "    </tr>\n",
       "    <tr>\n",
       "      <th>3</th>\n",
       "      <td>1980/81</td>\n",
       "      <td>0.0</td>\n",
       "      <td>NaN</td>\n",
       "      <td>4430</td>\n",
       "      <td>6040</td>\n",
       "      <td>8670</td>\n",
       "      <td>14860</td>\n",
       "      <td>7620</td>\n",
       "      <td>13770</td>\n",
       "    </tr>\n",
       "    <tr>\n",
       "      <th>4</th>\n",
       "      <td>1981/82</td>\n",
       "      <td>0.0</td>\n",
       "      <td>NaN</td>\n",
       "      <td>4500</td>\n",
       "      <td>6055</td>\n",
       "      <td>8730</td>\n",
       "      <td>15770</td>\n",
       "      <td>7650</td>\n",
       "      <td>14000</td>\n",
       "    </tr>\n",
       "  </tbody>\n",
       "</table>\n",
       "</div>"
      ],
      "text/plain": [
       "      year  Ariel University  Weizmann Institute of Science  \\\n",
       "0  1969/70               0.0                          419.0   \n",
       "1  1974/75               0.0                          580.0   \n",
       "2  1979/80               0.0                          490.0   \n",
       "3  1980/81               0.0                            NaN   \n",
       "4  1981/82               0.0                            NaN   \n",
       "\n",
       "   Ben-Gurion Univ. of the Negev  Haifa University  Bar-Ilan University  \\\n",
       "0                           1297              2794                 4273   \n",
       "1                           3247              4713                 6527   \n",
       "2                           4250              6140                 8070   \n",
       "3                           4430              6040                 8670   \n",
       "4                           4500              6055                 8730   \n",
       "\n",
       "   Tel-Aviv University  Technion  Hebrew University  \n",
       "0                 7958      6045              12588  \n",
       "1                12813      8453              13516  \n",
       "2                14380      7580              13570  \n",
       "3                14860      7620              13770  \n",
       "4                15770      7650              14000  "
      ]
     },
     "execution_count": 36,
     "metadata": {},
     "output_type": "execute_result"
    }
   ],
   "source": [
    "students[\"Ariel University\"] = students[\"Ariel University\"].fillna(0)\n",
    "students.head()"
   ]
  },
  {
   "cell_type": "markdown",
   "id": "0e38b0f3-b7d1-46c6-b936-e9f7e098ea81",
   "metadata": {},
   "source": [
    "### to np.nan"
   ]
  },
  {
   "cell_type": "code",
   "execution_count": 37,
   "id": "3ec227a6-dffe-4bba-8e19-94073d66e8ad",
   "metadata": {},
   "outputs": [
    {
     "data": {
      "text/html": [
       "<div>\n",
       "<style scoped>\n",
       "    .dataframe tbody tr th:only-of-type {\n",
       "        vertical-align: middle;\n",
       "    }\n",
       "\n",
       "    .dataframe tbody tr th {\n",
       "        vertical-align: top;\n",
       "    }\n",
       "\n",
       "    .dataframe thead th {\n",
       "        text-align: right;\n",
       "    }\n",
       "</style>\n",
       "<table border=\"1\" class=\"dataframe\">\n",
       "  <thead>\n",
       "    <tr style=\"text-align: right;\">\n",
       "      <th></th>\n",
       "      <th>year</th>\n",
       "      <th>Ariel University</th>\n",
       "      <th>Weizmann Institute of Science</th>\n",
       "      <th>Ben-Gurion Univ. of the Negev</th>\n",
       "      <th>Haifa University</th>\n",
       "      <th>Bar-Ilan University</th>\n",
       "      <th>Tel-Aviv University</th>\n",
       "      <th>Technion</th>\n",
       "      <th>Hebrew University</th>\n",
       "    </tr>\n",
       "  </thead>\n",
       "  <tbody>\n",
       "    <tr>\n",
       "      <th>0</th>\n",
       "      <td>1969/70</td>\n",
       "      <td>NaN</td>\n",
       "      <td>419.0</td>\n",
       "      <td>1297</td>\n",
       "      <td>2794</td>\n",
       "      <td>4273</td>\n",
       "      <td>7958</td>\n",
       "      <td>6045</td>\n",
       "      <td>12588</td>\n",
       "    </tr>\n",
       "    <tr>\n",
       "      <th>1</th>\n",
       "      <td>1974/75</td>\n",
       "      <td>NaN</td>\n",
       "      <td>580.0</td>\n",
       "      <td>3247</td>\n",
       "      <td>4713</td>\n",
       "      <td>6527</td>\n",
       "      <td>12813</td>\n",
       "      <td>8453</td>\n",
       "      <td>13516</td>\n",
       "    </tr>\n",
       "    <tr>\n",
       "      <th>2</th>\n",
       "      <td>1979/80</td>\n",
       "      <td>NaN</td>\n",
       "      <td>490.0</td>\n",
       "      <td>4250</td>\n",
       "      <td>6140</td>\n",
       "      <td>8070</td>\n",
       "      <td>14380</td>\n",
       "      <td>7580</td>\n",
       "      <td>13570</td>\n",
       "    </tr>\n",
       "    <tr>\n",
       "      <th>3</th>\n",
       "      <td>1980/81</td>\n",
       "      <td>NaN</td>\n",
       "      <td>NaN</td>\n",
       "      <td>4430</td>\n",
       "      <td>6040</td>\n",
       "      <td>8670</td>\n",
       "      <td>14860</td>\n",
       "      <td>7620</td>\n",
       "      <td>13770</td>\n",
       "    </tr>\n",
       "    <tr>\n",
       "      <th>4</th>\n",
       "      <td>1981/82</td>\n",
       "      <td>NaN</td>\n",
       "      <td>NaN</td>\n",
       "      <td>4500</td>\n",
       "      <td>6055</td>\n",
       "      <td>8730</td>\n",
       "      <td>15770</td>\n",
       "      <td>7650</td>\n",
       "      <td>14000</td>\n",
       "    </tr>\n",
       "  </tbody>\n",
       "</table>\n",
       "</div>"
      ],
      "text/plain": [
       "      year  Ariel University  Weizmann Institute of Science  \\\n",
       "0  1969/70               NaN                          419.0   \n",
       "1  1974/75               NaN                          580.0   \n",
       "2  1979/80               NaN                          490.0   \n",
       "3  1980/81               NaN                            NaN   \n",
       "4  1981/82               NaN                            NaN   \n",
       "\n",
       "   Ben-Gurion Univ. of the Negev  Haifa University  Bar-Ilan University  \\\n",
       "0                           1297              2794                 4273   \n",
       "1                           3247              4713                 6527   \n",
       "2                           4250              6140                 8070   \n",
       "3                           4430              6040                 8670   \n",
       "4                           4500              6055                 8730   \n",
       "\n",
       "   Tel-Aviv University  Technion  Hebrew University  \n",
       "0                 7958      6045              12588  \n",
       "1                12813      8453              13516  \n",
       "2                14380      7580              13570  \n",
       "3                14860      7620              13770  \n",
       "4                15770      7650              14000  "
      ]
     },
     "execution_count": 37,
     "metadata": {},
     "output_type": "execute_result"
    }
   ],
   "source": [
    "students.loc[students[\"Ariel University\"] == 0, \"Ariel University\"] = np.nan\n",
    "students.head()"
   ]
  },
  {
   "cell_type": "markdown",
   "id": "755cf8de-4391-4288-82e2-c11d608e79b8",
   "metadata": {},
   "source": [
    "### .dropna"
   ]
  },
  {
   "cell_type": "code",
   "execution_count": 38,
   "id": "f59d2169-bbfd-47fa-b8e2-714f2f7ed306",
   "metadata": {},
   "outputs": [
    {
     "data": {
      "text/html": [
       "<div>\n",
       "<style scoped>\n",
       "    .dataframe tbody tr th:only-of-type {\n",
       "        vertical-align: middle;\n",
       "    }\n",
       "\n",
       "    .dataframe tbody tr th {\n",
       "        vertical-align: top;\n",
       "    }\n",
       "\n",
       "    .dataframe thead th {\n",
       "        text-align: right;\n",
       "    }\n",
       "</style>\n",
       "<table border=\"1\" class=\"dataframe\">\n",
       "  <thead>\n",
       "    <tr style=\"text-align: right;\">\n",
       "      <th></th>\n",
       "      <th>year</th>\n",
       "      <th>Ariel University</th>\n",
       "      <th>Weizmann Institute of Science</th>\n",
       "      <th>Ben-Gurion Univ. of the Negev</th>\n",
       "      <th>Haifa University</th>\n",
       "      <th>Bar-Ilan University</th>\n",
       "      <th>Tel-Aviv University</th>\n",
       "      <th>Technion</th>\n",
       "      <th>Hebrew University</th>\n",
       "    </tr>\n",
       "  </thead>\n",
       "  <tbody>\n",
       "    <tr>\n",
       "      <th>38</th>\n",
       "      <td>2015/16</td>\n",
       "      <td>10977.0</td>\n",
       "      <td>1104.0</td>\n",
       "      <td>17918</td>\n",
       "      <td>18027</td>\n",
       "      <td>20621</td>\n",
       "      <td>26643</td>\n",
       "      <td>14240</td>\n",
       "      <td>20171</td>\n",
       "    </tr>\n",
       "    <tr>\n",
       "      <th>41</th>\n",
       "      <td>2018/19</td>\n",
       "      <td>11741.0</td>\n",
       "      <td>1148.0</td>\n",
       "      <td>17699</td>\n",
       "      <td>17570</td>\n",
       "      <td>17340</td>\n",
       "      <td>26361</td>\n",
       "      <td>13611</td>\n",
       "      <td>19837</td>\n",
       "    </tr>\n",
       "    <tr>\n",
       "      <th>42</th>\n",
       "      <td>2019/20</td>\n",
       "      <td>12016.0</td>\n",
       "      <td>1215.0</td>\n",
       "      <td>17820</td>\n",
       "      <td>17396</td>\n",
       "      <td>17764</td>\n",
       "      <td>26570</td>\n",
       "      <td>13787</td>\n",
       "      <td>20898</td>\n",
       "    </tr>\n",
       "  </tbody>\n",
       "</table>\n",
       "</div>"
      ],
      "text/plain": [
       "       year  Ariel University  Weizmann Institute of Science  \\\n",
       "38  2015/16           10977.0                         1104.0   \n",
       "41  2018/19           11741.0                         1148.0   \n",
       "42  2019/20           12016.0                         1215.0   \n",
       "\n",
       "    Ben-Gurion Univ. of the Negev  Haifa University  Bar-Ilan University  \\\n",
       "38                          17918             18027                20621   \n",
       "41                          17699             17570                17340   \n",
       "42                          17820             17396                17764   \n",
       "\n",
       "    Tel-Aviv University  Technion  Hebrew University  \n",
       "38                26643     14240              20171  \n",
       "41                26361     13611              19837  \n",
       "42                26570     13787              20898  "
      ]
     },
     "execution_count": 38,
     "metadata": {},
     "output_type": "execute_result"
    }
   ],
   "source": [
    "students.dropna()"
   ]
  },
  {
   "cell_type": "markdown",
   "id": "90071b51-9734-4ebb-8510-a90518312f0d",
   "metadata": {
    "tags": [],
    "toc-hr-collapsed": true
   },
   "source": [
    "<a id='pd-plot'></a>\n",
    "## Plot"
   ]
  },
  {
   "cell_type": "markdown",
   "id": "d0d6266a-ade7-4c0d-9e64-b0475024f2e1",
   "metadata": {},
   "source": [
    "[Return to Start of Notebook](#pd)  "
   ]
  },
  {
   "cell_type": "markdown",
   "id": "54241575-af62-482a-b33f-ad9fca693efa",
   "metadata": {},
   "source": [
    "### pandas line plot"
   ]
  },
  {
   "cell_type": "code",
   "execution_count": 39,
   "id": "a0662764-648a-47d1-9bbb-91c76de9bea3",
   "metadata": {},
   "outputs": [
    {
     "data": {
      "text/plain": [
       "<AxesSubplot:>"
      ]
     },
     "execution_count": 39,
     "metadata": {},
     "output_type": "execute_result"
    },
    {
     "data": {
      "image/png": "[encoded data removed]",
      "text/plain": [
       "<Figure size 432x288 with 1 Axes>"
      ]
     },
     "metadata": {
      "needs_background": "light"
     },
     "output_type": "display_data"
    }
   ],
   "source": [
    "df[\"Glob\"].plot()"
   ]
  },
  {
   "cell_type": "markdown",
   "id": "079fa982-7396-456a-90cb-7ee656e76f8c",
   "metadata": {},
   "source": [
    "#### with set_index"
   ]
  },
  {
   "cell_type": "code",
   "execution_count": 40,
   "id": "3d1157d2-e6ed-4a41-a6f4-b0f75fdb0a94",
   "metadata": {},
   "outputs": [
    {
     "data": {
      "text/plain": [
       "<AxesSubplot:xlabel='Year'>"
      ]
     },
     "execution_count": 40,
     "metadata": {},
     "output_type": "execute_result"
    },
    {
     "data": {
      "image/png": "[encoded data removed]",
      "text/plain": [
       "<Figure size 432x288 with 1 Axes>"
      ]
     },
     "metadata": {
      "needs_background": "light"
     },
     "output_type": "display_data"
    }
   ],
   "source": [
    "df.set_index(\"Year\")[\"Glob\"].plot()"
   ]
  },
  {
   "cell_type": "markdown",
   "id": "3050391e-6c76-4a76-992f-cb646840f3e1",
   "metadata": {},
   "source": [
    "#### multiple columns"
   ]
  },
  {
   "cell_type": "code",
   "execution_count": 41,
   "id": "c1bffe59-fd64-4afd-8a24-82875b61ab67",
   "metadata": {},
   "outputs": [
    {
     "data": {
      "text/plain": [
       "<AxesSubplot:xlabel='Year'>"
      ]
     },
     "execution_count": 41,
     "metadata": {},
     "output_type": "execute_result"
    },
    {
     "data": {
      "image/png": "[encoded data removed]",
      "text/plain": [
       "<Figure size 432x288 with 1 Axes>"
      ]
     },
     "metadata": {
      "needs_background": "light"
     },
     "output_type": "display_data"
    }
   ],
   "source": [
    "df.set_index(\"Year\")[[\"Glob\", \"NHem\", \"SHem\"]].plot()"
   ]
  },
  {
   "cell_type": "markdown",
   "id": "849505a0-a499-426a-b04a-005b84c5037f",
   "metadata": {},
   "source": [
    "### pandas scatterplot"
   ]
  },
  {
   "cell_type": "code",
   "execution_count": 42,
   "id": "257af738-054e-4682-8af0-e19b921771c8",
   "metadata": {},
   "outputs": [
    {
     "data": {
      "text/plain": [
       "<AxesSubplot:xlabel='NHem', ylabel='SHem'>"
      ]
     },
     "execution_count": 42,
     "metadata": {},
     "output_type": "execute_result"
    },
    {
     "data": {
      "image/png": "[encoded data removed]",
      "text/plain": [
       "<Figure size 432x288 with 1 Axes>"
      ]
     },
     "metadata": {
      "needs_background": "light"
     },
     "output_type": "display_data"
    }
   ],
   "source": [
    "df.plot.scatter(x = \"NHem\", y = \"SHem\")"
   ]
  },
  {
   "cell_type": "markdown",
   "id": "1ba5e396-9143-490a-9ff0-0779fb1be05d",
   "metadata": {
    "tags": []
   },
   "source": [
    "<a id='pd-transform'></a>\n",
    "## Transform"
   ]
  },
  {
   "cell_type": "markdown",
   "id": "d398ebd7-0390-4c5f-ac0a-116794c6a29a",
   "metadata": {},
   "source": [
    "[Return to Start of Notebook](#pd)  "
   ]
  },
  {
   "cell_type": "markdown",
   "id": "7d4f1dbd-8d86-43f1-ae52-777c43af8aa3",
   "metadata": {},
   "source": [
    "### columns"
   ]
  },
  {
   "cell_type": "markdown",
   "id": "a189d8d5-b68f-450d-ad3a-085c994f4f48",
   "metadata": {},
   "source": [
    "#### rename"
   ]
  },
  {
   "cell_type": "code",
   "execution_count": 43,
   "id": "52a217ce-0f14-4245-91e5-d99947bec744",
   "metadata": {},
   "outputs": [
    {
     "data": {
      "text/html": [
       "<div>\n",
       "<style scoped>\n",
       "    .dataframe tbody tr th:only-of-type {\n",
       "        vertical-align: middle;\n",
       "    }\n",
       "\n",
       "    .dataframe tbody tr th {\n",
       "        vertical-align: top;\n",
       "    }\n",
       "\n",
       "    .dataframe thead th {\n",
       "        text-align: right;\n",
       "    }\n",
       "</style>\n",
       "<table border=\"1\" class=\"dataframe\">\n",
       "  <thead>\n",
       "    <tr style=\"text-align: right;\">\n",
       "      <th></th>\n",
       "      <th>year</th>\n",
       "      <th>Glob</th>\n",
       "      <th>NHem</th>\n",
       "      <th>SHem</th>\n",
       "      <th>24N-90N</th>\n",
       "      <th>24S-24N</th>\n",
       "      <th>90S-24S</th>\n",
       "      <th>64N-90N</th>\n",
       "      <th>44N-64N</th>\n",
       "      <th>24N-44N</th>\n",
       "      <th>EQU-24N</th>\n",
       "      <th>24S-EQU</th>\n",
       "      <th>44S-24S</th>\n",
       "      <th>64S-44S</th>\n",
       "      <th>90S-64S</th>\n",
       "    </tr>\n",
       "  </thead>\n",
       "  <tbody>\n",
       "    <tr>\n",
       "      <th>0</th>\n",
       "      <td>1880</td>\n",
       "      <td>-0.16</td>\n",
       "      <td>-0.27</td>\n",
       "      <td>-0.04</td>\n",
       "      <td>-0.34</td>\n",
       "      <td>-0.13</td>\n",
       "      <td>-0.01</td>\n",
       "      <td>-0.81</td>\n",
       "      <td>-0.42</td>\n",
       "      <td>-0.26</td>\n",
       "      <td>-0.16</td>\n",
       "      <td>-0.10</td>\n",
       "      <td>-0.02</td>\n",
       "      <td>0.05</td>\n",
       "      <td>0.65</td>\n",
       "    </tr>\n",
       "    <tr>\n",
       "      <th>1</th>\n",
       "      <td>1881</td>\n",
       "      <td>-0.07</td>\n",
       "      <td>-0.16</td>\n",
       "      <td>0.01</td>\n",
       "      <td>-0.32</td>\n",
       "      <td>0.10</td>\n",
       "      <td>-0.06</td>\n",
       "      <td>-0.91</td>\n",
       "      <td>-0.39</td>\n",
       "      <td>-0.18</td>\n",
       "      <td>0.09</td>\n",
       "      <td>0.11</td>\n",
       "      <td>-0.04</td>\n",
       "      <td>-0.07</td>\n",
       "      <td>0.58</td>\n",
       "    </tr>\n",
       "    <tr>\n",
       "      <th>2</th>\n",
       "      <td>1882</td>\n",
       "      <td>-0.10</td>\n",
       "      <td>-0.20</td>\n",
       "      <td>0.00</td>\n",
       "      <td>-0.28</td>\n",
       "      <td>-0.05</td>\n",
       "      <td>0.02</td>\n",
       "      <td>-1.40</td>\n",
       "      <td>-0.22</td>\n",
       "      <td>-0.13</td>\n",
       "      <td>-0.05</td>\n",
       "      <td>-0.04</td>\n",
       "      <td>0.03</td>\n",
       "      <td>0.04</td>\n",
       "      <td>0.61</td>\n",
       "    </tr>\n",
       "  </tbody>\n",
       "</table>\n",
       "</div>"
      ],
      "text/plain": [
       "   year  Glob  NHem  SHem  24N-90N  24S-24N  90S-24S  64N-90N  44N-64N  \\\n",
       "0  1880 -0.16 -0.27 -0.04    -0.34    -0.13    -0.01    -0.81    -0.42   \n",
       "1  1881 -0.07 -0.16  0.01    -0.32     0.10    -0.06    -0.91    -0.39   \n",
       "2  1882 -0.10 -0.20  0.00    -0.28    -0.05     0.02    -1.40    -0.22   \n",
       "\n",
       "   24N-44N  EQU-24N  24S-EQU  44S-24S  64S-44S  90S-64S  \n",
       "0    -0.26    -0.16    -0.10    -0.02     0.05     0.65  \n",
       "1    -0.18     0.09     0.11    -0.04    -0.07     0.58  \n",
       "2    -0.13    -0.05    -0.04     0.03     0.04     0.61  "
      ]
     },
     "execution_count": 43,
     "metadata": {},
     "output_type": "execute_result"
    }
   ],
   "source": [
    "df.rename(columns = {\"Year\": \"year\"}, inplace=True)\n",
    "df.head(3)"
   ]
  },
  {
   "cell_type": "code",
   "execution_count": 44,
   "id": "d79629e3-6cd3-41e7-a521-f3302bea1a63",
   "metadata": {},
   "outputs": [
    {
     "data": {
      "text/html": [
       "<div>\n",
       "<style scoped>\n",
       "    .dataframe tbody tr th:only-of-type {\n",
       "        vertical-align: middle;\n",
       "    }\n",
       "\n",
       "    .dataframe tbody tr th {\n",
       "        vertical-align: top;\n",
       "    }\n",
       "\n",
       "    .dataframe thead th {\n",
       "        text-align: right;\n",
       "    }\n",
       "</style>\n",
       "<table border=\"1\" class=\"dataframe\">\n",
       "  <thead>\n",
       "    <tr style=\"text-align: right;\">\n",
       "      <th></th>\n",
       "      <th>Year</th>\n",
       "      <th>Glob</th>\n",
       "      <th>NHem</th>\n",
       "      <th>SHem</th>\n",
       "      <th>24N-90N</th>\n",
       "      <th>24S-24N</th>\n",
       "      <th>90S-24S</th>\n",
       "      <th>64N-90N</th>\n",
       "      <th>44N-64N</th>\n",
       "      <th>24N-44N</th>\n",
       "      <th>EQU-24N</th>\n",
       "      <th>24S-EQU</th>\n",
       "      <th>44S-24S</th>\n",
       "      <th>64S-44S</th>\n",
       "      <th>90S-64S</th>\n",
       "    </tr>\n",
       "  </thead>\n",
       "  <tbody>\n",
       "    <tr>\n",
       "      <th>0</th>\n",
       "      <td>1880</td>\n",
       "      <td>-0.16</td>\n",
       "      <td>-0.27</td>\n",
       "      <td>-0.04</td>\n",
       "      <td>-0.34</td>\n",
       "      <td>-0.13</td>\n",
       "      <td>-0.01</td>\n",
       "      <td>-0.81</td>\n",
       "      <td>-0.42</td>\n",
       "      <td>-0.26</td>\n",
       "      <td>-0.16</td>\n",
       "      <td>-0.10</td>\n",
       "      <td>-0.02</td>\n",
       "      <td>0.05</td>\n",
       "      <td>0.65</td>\n",
       "    </tr>\n",
       "    <tr>\n",
       "      <th>1</th>\n",
       "      <td>1881</td>\n",
       "      <td>-0.07</td>\n",
       "      <td>-0.16</td>\n",
       "      <td>0.01</td>\n",
       "      <td>-0.32</td>\n",
       "      <td>0.10</td>\n",
       "      <td>-0.06</td>\n",
       "      <td>-0.91</td>\n",
       "      <td>-0.39</td>\n",
       "      <td>-0.18</td>\n",
       "      <td>0.09</td>\n",
       "      <td>0.11</td>\n",
       "      <td>-0.04</td>\n",
       "      <td>-0.07</td>\n",
       "      <td>0.58</td>\n",
       "    </tr>\n",
       "    <tr>\n",
       "      <th>2</th>\n",
       "      <td>1882</td>\n",
       "      <td>-0.10</td>\n",
       "      <td>-0.20</td>\n",
       "      <td>0.00</td>\n",
       "      <td>-0.28</td>\n",
       "      <td>-0.05</td>\n",
       "      <td>0.02</td>\n",
       "      <td>-1.40</td>\n",
       "      <td>-0.22</td>\n",
       "      <td>-0.13</td>\n",
       "      <td>-0.05</td>\n",
       "      <td>-0.04</td>\n",
       "      <td>0.03</td>\n",
       "      <td>0.04</td>\n",
       "      <td>0.61</td>\n",
       "    </tr>\n",
       "  </tbody>\n",
       "</table>\n",
       "</div>"
      ],
      "text/plain": [
       "   Year  Glob  NHem  SHem  24N-90N  24S-24N  90S-24S  64N-90N  44N-64N  \\\n",
       "0  1880 -0.16 -0.27 -0.04    -0.34    -0.13    -0.01    -0.81    -0.42   \n",
       "1  1881 -0.07 -0.16  0.01    -0.32     0.10    -0.06    -0.91    -0.39   \n",
       "2  1882 -0.10 -0.20  0.00    -0.28    -0.05     0.02    -1.40    -0.22   \n",
       "\n",
       "   24N-44N  EQU-24N  24S-EQU  44S-24S  64S-44S  90S-64S  \n",
       "0    -0.26    -0.16    -0.10    -0.02     0.05     0.65  \n",
       "1    -0.18     0.09     0.11    -0.04    -0.07     0.58  \n",
       "2    -0.13    -0.05    -0.04     0.03     0.04     0.61  "
      ]
     },
     "execution_count": 44,
     "metadata": {},
     "output_type": "execute_result"
    }
   ],
   "source": [
    "df.rename(columns = {\"year\": \"Year\"}, inplace=True)\n",
    "df.head(3)"
   ]
  },
  {
   "cell_type": "markdown",
   "id": "341a01e3-4172-48d7-93f0-11d3111949eb",
   "metadata": {},
   "source": [
    "#### new column"
   ]
  },
  {
   "cell_type": "code",
   "execution_count": 45,
   "id": "fb8e9b93-fe52-4e44-8213-ccbce045bbfa",
   "metadata": {},
   "outputs": [
    {
     "data": {
      "text/html": [
       "<div>\n",
       "<style scoped>\n",
       "    .dataframe tbody tr th:only-of-type {\n",
       "        vertical-align: middle;\n",
       "    }\n",
       "\n",
       "    .dataframe tbody tr th {\n",
       "        vertical-align: top;\n",
       "    }\n",
       "\n",
       "    .dataframe thead th {\n",
       "        text-align: right;\n",
       "    }\n",
       "</style>\n",
       "<table border=\"1\" class=\"dataframe\">\n",
       "  <thead>\n",
       "    <tr style=\"text-align: right;\">\n",
       "      <th></th>\n",
       "      <th>Year</th>\n",
       "      <th>Glob</th>\n",
       "      <th>NHem</th>\n",
       "      <th>SHem</th>\n",
       "      <th>24N-90N</th>\n",
       "      <th>24S-24N</th>\n",
       "      <th>90S-24S</th>\n",
       "      <th>64N-90N</th>\n",
       "      <th>44N-64N</th>\n",
       "      <th>24N-44N</th>\n",
       "      <th>EQU-24N</th>\n",
       "      <th>24S-EQU</th>\n",
       "      <th>44S-24S</th>\n",
       "      <th>64S-44S</th>\n",
       "      <th>90S-64S</th>\n",
       "      <th>diff</th>\n",
       "    </tr>\n",
       "  </thead>\n",
       "  <tbody>\n",
       "    <tr>\n",
       "      <th>0</th>\n",
       "      <td>1880</td>\n",
       "      <td>-0.16</td>\n",
       "      <td>-0.27</td>\n",
       "      <td>-0.04</td>\n",
       "      <td>-0.34</td>\n",
       "      <td>-0.13</td>\n",
       "      <td>-0.01</td>\n",
       "      <td>-0.81</td>\n",
       "      <td>-0.42</td>\n",
       "      <td>-0.26</td>\n",
       "      <td>-0.16</td>\n",
       "      <td>-0.10</td>\n",
       "      <td>-0.02</td>\n",
       "      <td>0.05</td>\n",
       "      <td>0.65</td>\n",
       "      <td>-0.23</td>\n",
       "    </tr>\n",
       "    <tr>\n",
       "      <th>1</th>\n",
       "      <td>1881</td>\n",
       "      <td>-0.07</td>\n",
       "      <td>-0.16</td>\n",
       "      <td>0.01</td>\n",
       "      <td>-0.32</td>\n",
       "      <td>0.10</td>\n",
       "      <td>-0.06</td>\n",
       "      <td>-0.91</td>\n",
       "      <td>-0.39</td>\n",
       "      <td>-0.18</td>\n",
       "      <td>0.09</td>\n",
       "      <td>0.11</td>\n",
       "      <td>-0.04</td>\n",
       "      <td>-0.07</td>\n",
       "      <td>0.58</td>\n",
       "      <td>-0.17</td>\n",
       "    </tr>\n",
       "    <tr>\n",
       "      <th>2</th>\n",
       "      <td>1882</td>\n",
       "      <td>-0.10</td>\n",
       "      <td>-0.20</td>\n",
       "      <td>0.00</td>\n",
       "      <td>-0.28</td>\n",
       "      <td>-0.05</td>\n",
       "      <td>0.02</td>\n",
       "      <td>-1.40</td>\n",
       "      <td>-0.22</td>\n",
       "      <td>-0.13</td>\n",
       "      <td>-0.05</td>\n",
       "      <td>-0.04</td>\n",
       "      <td>0.03</td>\n",
       "      <td>0.04</td>\n",
       "      <td>0.61</td>\n",
       "      <td>-0.20</td>\n",
       "    </tr>\n",
       "  </tbody>\n",
       "</table>\n",
       "</div>"
      ],
      "text/plain": [
       "   Year  Glob  NHem  SHem  24N-90N  24S-24N  90S-24S  64N-90N  44N-64N  \\\n",
       "0  1880 -0.16 -0.27 -0.04    -0.34    -0.13    -0.01    -0.81    -0.42   \n",
       "1  1881 -0.07 -0.16  0.01    -0.32     0.10    -0.06    -0.91    -0.39   \n",
       "2  1882 -0.10 -0.20  0.00    -0.28    -0.05     0.02    -1.40    -0.22   \n",
       "\n",
       "   24N-44N  EQU-24N  24S-EQU  44S-24S  64S-44S  90S-64S  diff  \n",
       "0    -0.26    -0.16    -0.10    -0.02     0.05     0.65 -0.23  \n",
       "1    -0.18     0.09     0.11    -0.04    -0.07     0.58 -0.17  \n",
       "2    -0.13    -0.05    -0.04     0.03     0.04     0.61 -0.20  "
      ]
     },
     "execution_count": 45,
     "metadata": {},
     "output_type": "execute_result"
    }
   ],
   "source": [
    "df[\"diff\"] = df[\"NHem\"] - df[\"SHem\"]\n",
    "df.head(3)"
   ]
  },
  {
   "cell_type": "markdown",
   "id": "2a60eeb0-0073-4eb0-a83c-8110fa042735",
   "metadata": {},
   "source": [
    "#### drop column"
   ]
  },
  {
   "cell_type": "code",
   "execution_count": 46,
   "id": "53e442a2-ecee-49f8-8b1c-a4ad9746ffdf",
   "metadata": {},
   "outputs": [
    {
     "data": {
      "text/html": [
       "<div>\n",
       "<style scoped>\n",
       "    .dataframe tbody tr th:only-of-type {\n",
       "        vertical-align: middle;\n",
       "    }\n",
       "\n",
       "    .dataframe tbody tr th {\n",
       "        vertical-align: top;\n",
       "    }\n",
       "\n",
       "    .dataframe thead th {\n",
       "        text-align: right;\n",
       "    }\n",
       "</style>\n",
       "<table border=\"1\" class=\"dataframe\">\n",
       "  <thead>\n",
       "    <tr style=\"text-align: right;\">\n",
       "      <th></th>\n",
       "      <th>Year</th>\n",
       "      <th>Glob</th>\n",
       "      <th>NHem</th>\n",
       "      <th>SHem</th>\n",
       "      <th>24N-90N</th>\n",
       "      <th>24S-24N</th>\n",
       "      <th>90S-24S</th>\n",
       "      <th>64N-90N</th>\n",
       "      <th>44N-64N</th>\n",
       "      <th>24N-44N</th>\n",
       "      <th>EQU-24N</th>\n",
       "      <th>24S-EQU</th>\n",
       "      <th>44S-24S</th>\n",
       "      <th>64S-44S</th>\n",
       "      <th>90S-64S</th>\n",
       "    </tr>\n",
       "  </thead>\n",
       "  <tbody>\n",
       "    <tr>\n",
       "      <th>0</th>\n",
       "      <td>1880</td>\n",
       "      <td>-0.16</td>\n",
       "      <td>-0.27</td>\n",
       "      <td>-0.04</td>\n",
       "      <td>-0.34</td>\n",
       "      <td>-0.13</td>\n",
       "      <td>-0.01</td>\n",
       "      <td>-0.81</td>\n",
       "      <td>-0.42</td>\n",
       "      <td>-0.26</td>\n",
       "      <td>-0.16</td>\n",
       "      <td>-0.10</td>\n",
       "      <td>-0.02</td>\n",
       "      <td>0.05</td>\n",
       "      <td>0.65</td>\n",
       "    </tr>\n",
       "    <tr>\n",
       "      <th>1</th>\n",
       "      <td>1881</td>\n",
       "      <td>-0.07</td>\n",
       "      <td>-0.16</td>\n",
       "      <td>0.01</td>\n",
       "      <td>-0.32</td>\n",
       "      <td>0.10</td>\n",
       "      <td>-0.06</td>\n",
       "      <td>-0.91</td>\n",
       "      <td>-0.39</td>\n",
       "      <td>-0.18</td>\n",
       "      <td>0.09</td>\n",
       "      <td>0.11</td>\n",
       "      <td>-0.04</td>\n",
       "      <td>-0.07</td>\n",
       "      <td>0.58</td>\n",
       "    </tr>\n",
       "    <tr>\n",
       "      <th>2</th>\n",
       "      <td>1882</td>\n",
       "      <td>-0.10</td>\n",
       "      <td>-0.20</td>\n",
       "      <td>0.00</td>\n",
       "      <td>-0.28</td>\n",
       "      <td>-0.05</td>\n",
       "      <td>0.02</td>\n",
       "      <td>-1.40</td>\n",
       "      <td>-0.22</td>\n",
       "      <td>-0.13</td>\n",
       "      <td>-0.05</td>\n",
       "      <td>-0.04</td>\n",
       "      <td>0.03</td>\n",
       "      <td>0.04</td>\n",
       "      <td>0.61</td>\n",
       "    </tr>\n",
       "  </tbody>\n",
       "</table>\n",
       "</div>"
      ],
      "text/plain": [
       "   Year  Glob  NHem  SHem  24N-90N  24S-24N  90S-24S  64N-90N  44N-64N  \\\n",
       "0  1880 -0.16 -0.27 -0.04    -0.34    -0.13    -0.01    -0.81    -0.42   \n",
       "1  1881 -0.07 -0.16  0.01    -0.32     0.10    -0.06    -0.91    -0.39   \n",
       "2  1882 -0.10 -0.20  0.00    -0.28    -0.05     0.02    -1.40    -0.22   \n",
       "\n",
       "   24N-44N  EQU-24N  24S-EQU  44S-24S  64S-44S  90S-64S  \n",
       "0    -0.26    -0.16    -0.10    -0.02     0.05     0.65  \n",
       "1    -0.18     0.09     0.11    -0.04    -0.07     0.58  \n",
       "2    -0.13    -0.05    -0.04     0.03     0.04     0.61  "
      ]
     },
     "execution_count": 46,
     "metadata": {},
     "output_type": "execute_result"
    }
   ],
   "source": [
    "df = df.drop([\"diff\"], axis = 1)\n",
    "df.head(3)"
   ]
  },
  {
   "cell_type": "markdown",
   "id": "5560a489-1d3e-417b-84b7-76b224af4ef1",
   "metadata": {},
   "source": [
    "### index"
   ]
  },
  {
   "cell_type": "markdown",
   "id": "10fda820-2e92-4a60-8e10-21db47e8e8c0",
   "metadata": {},
   "source": [
    "#### set index"
   ]
  },
  {
   "cell_type": "markdown",
   "id": "5018dbb3-d9bd-4c41-8095-8820dcdea0d7",
   "metadata": {},
   "source": [
    "##### series .index ="
   ]
  },
  {
   "cell_type": "code",
   "execution_count": 47,
   "id": "aa0bb297-904f-4617-a1c9-5de99a43df01",
   "metadata": {},
   "outputs": [
    {
     "data": {
      "text/plain": [
       "0    A\n",
       "1    B\n",
       "2    C\n",
       "Name: ids, dtype: object"
      ]
     },
     "execution_count": 47,
     "metadata": {},
     "output_type": "execute_result"
    }
   ],
   "source": [
    "ids_sr"
   ]
  },
  {
   "cell_type": "code",
   "execution_count": 48,
   "id": "a618746a-d814-475c-b12c-d6be58d8f3a4",
   "metadata": {},
   "outputs": [
    {
     "data": {
      "text/plain": [
       "a    A\n",
       "b    B\n",
       "c    C\n",
       "Name: ids, dtype: object"
      ]
     },
     "execution_count": 48,
     "metadata": {},
     "output_type": "execute_result"
    }
   ],
   "source": [
    "ids_sr.index = [\"a\", \"b\", \"c\"]\n",
    "ids_sr"
   ]
  },
  {
   "cell_type": "markdown",
   "id": "8bebfdd5-4ec5-44b9-a0c5-2d85f925122f",
   "metadata": {},
   "source": [
    "##### dataframe .set_index()"
   ]
  },
  {
   "cell_type": "code",
   "execution_count": 49,
   "id": "364a198f-ec04-42e6-a3b5-8cacf05c5b01",
   "metadata": {},
   "outputs": [
    {
     "data": {
      "text/html": [
       "<div>\n",
       "<style scoped>\n",
       "    .dataframe tbody tr th:only-of-type {\n",
       "        vertical-align: middle;\n",
       "    }\n",
       "\n",
       "    .dataframe tbody tr th {\n",
       "        vertical-align: top;\n",
       "    }\n",
       "\n",
       "    .dataframe thead th {\n",
       "        text-align: right;\n",
       "    }\n",
       "</style>\n",
       "<table border=\"1\" class=\"dataframe\">\n",
       "  <thead>\n",
       "    <tr style=\"text-align: right;\">\n",
       "      <th></th>\n",
       "      <th>name</th>\n",
       "      <th>lon</th>\n",
       "      <th>lat</th>\n",
       "    </tr>\n",
       "  </thead>\n",
       "  <tbody>\n",
       "    <tr>\n",
       "      <th>0</th>\n",
       "      <td>X</td>\n",
       "      <td>140</td>\n",
       "      <td>0</td>\n",
       "    </tr>\n",
       "    <tr>\n",
       "      <th>1</th>\n",
       "      <td>Y</td>\n",
       "      <td>150</td>\n",
       "      <td>10</td>\n",
       "    </tr>\n",
       "    <tr>\n",
       "      <th>2</th>\n",
       "      <td>Z</td>\n",
       "      <td>160</td>\n",
       "      <td>20</td>\n",
       "    </tr>\n",
       "  </tbody>\n",
       "</table>\n",
       "</div>"
      ],
      "text/plain": [
       "  name  lon  lat\n",
       "0    X  140    0\n",
       "1    Y  150   10\n",
       "2    Z  160   20"
      ]
     },
     "execution_count": 49,
     "metadata": {},
     "output_type": "execute_result"
    }
   ],
   "source": [
    "city_df"
   ]
  },
  {
   "cell_type": "code",
   "execution_count": 50,
   "id": "b89c1d7d-cefc-4844-a283-17f9eef78538",
   "metadata": {},
   "outputs": [
    {
     "data": {
      "text/html": [
       "<div>\n",
       "<style scoped>\n",
       "    .dataframe tbody tr th:only-of-type {\n",
       "        vertical-align: middle;\n",
       "    }\n",
       "\n",
       "    .dataframe tbody tr th {\n",
       "        vertical-align: top;\n",
       "    }\n",
       "\n",
       "    .dataframe thead th {\n",
       "        text-align: right;\n",
       "    }\n",
       "</style>\n",
       "<table border=\"1\" class=\"dataframe\">\n",
       "  <thead>\n",
       "    <tr style=\"text-align: right;\">\n",
       "      <th></th>\n",
       "      <th>lon</th>\n",
       "      <th>lat</th>\n",
       "    </tr>\n",
       "    <tr>\n",
       "      <th>name</th>\n",
       "      <th></th>\n",
       "      <th></th>\n",
       "    </tr>\n",
       "  </thead>\n",
       "  <tbody>\n",
       "    <tr>\n",
       "      <th>X</th>\n",
       "      <td>140</td>\n",
       "      <td>0</td>\n",
       "    </tr>\n",
       "    <tr>\n",
       "      <th>Y</th>\n",
       "      <td>150</td>\n",
       "      <td>10</td>\n",
       "    </tr>\n",
       "    <tr>\n",
       "      <th>Z</th>\n",
       "      <td>160</td>\n",
       "      <td>20</td>\n",
       "    </tr>\n",
       "  </tbody>\n",
       "</table>\n",
       "</div>"
      ],
      "text/plain": [
       "      lon  lat\n",
       "name          \n",
       "X     140    0\n",
       "Y     150   10\n",
       "Z     160   20"
      ]
     },
     "execution_count": 50,
     "metadata": {},
     "output_type": "execute_result"
    }
   ],
   "source": [
    "city_df = city_df.set_index(\"name\", drop = True)\n",
    "city_df"
   ]
  },
  {
   "cell_type": "markdown",
   "id": "f0403cfe-7955-4fc4-97d9-0b813b6eeace",
   "metadata": {},
   "source": [
    "#### .reset_index"
   ]
  },
  {
   "cell_type": "code",
   "execution_count": 51,
   "id": "1eed2721-154c-4f7f-8007-7535f51004bc",
   "metadata": {},
   "outputs": [
    {
     "data": {
      "text/plain": [
       "a    A\n",
       "b    B\n",
       "c    C\n",
       "Name: ids, dtype: object"
      ]
     },
     "execution_count": 51,
     "metadata": {},
     "output_type": "execute_result"
    }
   ],
   "source": [
    "ids_sr"
   ]
  },
  {
   "cell_type": "markdown",
   "id": "b02abe1e-1da1-46ee-bb6e-41994079dd00",
   "metadata": {},
   "source": [
    "##### series"
   ]
  },
  {
   "cell_type": "code",
   "execution_count": 52,
   "id": "9a1437b8-d9df-4975-9ce0-f7206466ce8e",
   "metadata": {},
   "outputs": [
    {
     "data": {
      "text/plain": [
       "0    A\n",
       "1    B\n",
       "2    C\n",
       "Name: ids, dtype: object"
      ]
     },
     "execution_count": 52,
     "metadata": {},
     "output_type": "execute_result"
    }
   ],
   "source": [
    "ids_sr.reset_index(drop = True)"
   ]
  },
  {
   "cell_type": "markdown",
   "id": "90b294d1-42d8-4086-b06f-cded791d161d",
   "metadata": {},
   "source": [
    "##### dataframe"
   ]
  },
  {
   "cell_type": "code",
   "execution_count": 53,
   "id": "fa38dc6a-44a9-4a24-b660-7bcd580c8a52",
   "metadata": {},
   "outputs": [
    {
     "data": {
      "text/html": [
       "<div>\n",
       "<style scoped>\n",
       "    .dataframe tbody tr th:only-of-type {\n",
       "        vertical-align: middle;\n",
       "    }\n",
       "\n",
       "    .dataframe tbody tr th {\n",
       "        vertical-align: top;\n",
       "    }\n",
       "\n",
       "    .dataframe thead th {\n",
       "        text-align: right;\n",
       "    }\n",
       "</style>\n",
       "<table border=\"1\" class=\"dataframe\">\n",
       "  <thead>\n",
       "    <tr style=\"text-align: right;\">\n",
       "      <th></th>\n",
       "      <th>name</th>\n",
       "      <th>lon</th>\n",
       "      <th>lat</th>\n",
       "    </tr>\n",
       "  </thead>\n",
       "  <tbody>\n",
       "    <tr>\n",
       "      <th>0</th>\n",
       "      <td>X</td>\n",
       "      <td>140</td>\n",
       "      <td>0</td>\n",
       "    </tr>\n",
       "    <tr>\n",
       "      <th>1</th>\n",
       "      <td>Y</td>\n",
       "      <td>150</td>\n",
       "      <td>10</td>\n",
       "    </tr>\n",
       "    <tr>\n",
       "      <th>2</th>\n",
       "      <td>Z</td>\n",
       "      <td>160</td>\n",
       "      <td>20</td>\n",
       "    </tr>\n",
       "  </tbody>\n",
       "</table>\n",
       "</div>"
      ],
      "text/plain": [
       "  name  lon  lat\n",
       "0    X  140    0\n",
       "1    Y  150   10\n",
       "2    Z  160   20"
      ]
     },
     "execution_count": 53,
     "metadata": {},
     "output_type": "execute_result"
    }
   ],
   "source": [
    "city_df = city_df.reset_index()\n",
    "city_df"
   ]
  },
  {
   "cell_type": "markdown",
   "id": "e24be60c-f13a-4e29-a01a-49991cbd7b7d",
   "metadata": {},
   "source": [
    "### sort"
   ]
  },
  {
   "cell_type": "code",
   "execution_count": 54,
   "id": "c5a7081b-4d6e-4df7-941f-a76c80c3e46d",
   "metadata": {},
   "outputs": [
    {
     "data": {
      "text/html": [
       "<div>\n",
       "<style scoped>\n",
       "    .dataframe tbody tr th:only-of-type {\n",
       "        vertical-align: middle;\n",
       "    }\n",
       "\n",
       "    .dataframe tbody tr th {\n",
       "        vertical-align: top;\n",
       "    }\n",
       "\n",
       "    .dataframe thead th {\n",
       "        text-align: right;\n",
       "    }\n",
       "</style>\n",
       "<table border=\"1\" class=\"dataframe\">\n",
       "  <thead>\n",
       "    <tr style=\"text-align: right;\">\n",
       "      <th></th>\n",
       "      <th>Year</th>\n",
       "      <th>Glob</th>\n",
       "      <th>NHem</th>\n",
       "      <th>SHem</th>\n",
       "      <th>24N-90N</th>\n",
       "      <th>24S-24N</th>\n",
       "      <th>90S-24S</th>\n",
       "      <th>64N-90N</th>\n",
       "      <th>44N-64N</th>\n",
       "      <th>24N-44N</th>\n",
       "      <th>EQU-24N</th>\n",
       "      <th>24S-EQU</th>\n",
       "      <th>44S-24S</th>\n",
       "      <th>64S-44S</th>\n",
       "      <th>90S-64S</th>\n",
       "    </tr>\n",
       "  </thead>\n",
       "  <tbody>\n",
       "    <tr>\n",
       "      <th>29</th>\n",
       "      <td>1909</td>\n",
       "      <td>-0.48</td>\n",
       "      <td>-0.48</td>\n",
       "      <td>-0.47</td>\n",
       "      <td>-0.52</td>\n",
       "      <td>-0.48</td>\n",
       "      <td>-0.44</td>\n",
       "      <td>-0.74</td>\n",
       "      <td>-0.59</td>\n",
       "      <td>-0.42</td>\n",
       "      <td>-0.43</td>\n",
       "      <td>-0.52</td>\n",
       "      <td>-0.37</td>\n",
       "      <td>-0.52</td>\n",
       "      <td>-0.55</td>\n",
       "    </tr>\n",
       "    <tr>\n",
       "      <th>24</th>\n",
       "      <td>1904</td>\n",
       "      <td>-0.46</td>\n",
       "      <td>-0.47</td>\n",
       "      <td>-0.45</td>\n",
       "      <td>-0.49</td>\n",
       "      <td>-0.46</td>\n",
       "      <td>-0.43</td>\n",
       "      <td>-0.14</td>\n",
       "      <td>-0.57</td>\n",
       "      <td>-0.54</td>\n",
       "      <td>-0.43</td>\n",
       "      <td>-0.49</td>\n",
       "      <td>-0.36</td>\n",
       "      <td>-0.49</td>\n",
       "      <td>-1.30</td>\n",
       "    </tr>\n",
       "    <tr>\n",
       "      <th>37</th>\n",
       "      <td>1917</td>\n",
       "      <td>-0.45</td>\n",
       "      <td>-0.57</td>\n",
       "      <td>-0.35</td>\n",
       "      <td>-0.49</td>\n",
       "      <td>-0.63</td>\n",
       "      <td>-0.18</td>\n",
       "      <td>-0.81</td>\n",
       "      <td>-0.48</td>\n",
       "      <td>-0.42</td>\n",
       "      <td>-0.69</td>\n",
       "      <td>-0.57</td>\n",
       "      <td>-0.22</td>\n",
       "      <td>-0.09</td>\n",
       "      <td>0.08</td>\n",
       "    </tr>\n",
       "  </tbody>\n",
       "</table>\n",
       "</div>"
      ],
      "text/plain": [
       "    Year  Glob  NHem  SHem  24N-90N  24S-24N  90S-24S  64N-90N  44N-64N  \\\n",
       "29  1909 -0.48 -0.48 -0.47    -0.52    -0.48    -0.44    -0.74    -0.59   \n",
       "24  1904 -0.46 -0.47 -0.45    -0.49    -0.46    -0.43    -0.14    -0.57   \n",
       "37  1917 -0.45 -0.57 -0.35    -0.49    -0.63    -0.18    -0.81    -0.48   \n",
       "\n",
       "    24N-44N  EQU-24N  24S-EQU  44S-24S  64S-44S  90S-64S  \n",
       "29    -0.42    -0.43    -0.52    -0.37    -0.52    -0.55  \n",
       "24    -0.54    -0.43    -0.49    -0.36    -0.49    -1.30  \n",
       "37    -0.42    -0.69    -0.57    -0.22    -0.09     0.08  "
      ]
     },
     "execution_count": 54,
     "metadata": {},
     "output_type": "execute_result"
    }
   ],
   "source": [
    "df_sort = df.copy()\n",
    "df_sort.sort_values(by = \"Glob\",inplace=True)\n",
    "df_sort.head(3)"
   ]
  },
  {
   "cell_type": "code",
   "execution_count": 55,
   "id": "32e53e0d-42c4-464d-b2a5-b47adc6ee26a",
   "metadata": {},
   "outputs": [
    {
     "data": {
      "text/html": [
       "<div>\n",
       "<style scoped>\n",
       "    .dataframe tbody tr th:only-of-type {\n",
       "        vertical-align: middle;\n",
       "    }\n",
       "\n",
       "    .dataframe tbody tr th {\n",
       "        vertical-align: top;\n",
       "    }\n",
       "\n",
       "    .dataframe thead th {\n",
       "        text-align: right;\n",
       "    }\n",
       "</style>\n",
       "<table border=\"1\" class=\"dataframe\">\n",
       "  <thead>\n",
       "    <tr style=\"text-align: right;\">\n",
       "      <th></th>\n",
       "      <th>Year</th>\n",
       "      <th>Glob</th>\n",
       "      <th>NHem</th>\n",
       "      <th>SHem</th>\n",
       "      <th>24N-90N</th>\n",
       "      <th>24S-24N</th>\n",
       "      <th>90S-24S</th>\n",
       "      <th>64N-90N</th>\n",
       "      <th>44N-64N</th>\n",
       "      <th>24N-44N</th>\n",
       "      <th>EQU-24N</th>\n",
       "      <th>24S-EQU</th>\n",
       "      <th>44S-24S</th>\n",
       "      <th>64S-44S</th>\n",
       "      <th>90S-64S</th>\n",
       "    </tr>\n",
       "  </thead>\n",
       "  <tbody>\n",
       "    <tr>\n",
       "      <th>140</th>\n",
       "      <td>2020</td>\n",
       "      <td>1.02</td>\n",
       "      <td>1.36</td>\n",
       "      <td>0.69</td>\n",
       "      <td>1.68</td>\n",
       "      <td>0.87</td>\n",
       "      <td>0.57</td>\n",
       "      <td>2.91</td>\n",
       "      <td>1.82</td>\n",
       "      <td>1.20</td>\n",
       "      <td>0.89</td>\n",
       "      <td>0.85</td>\n",
       "      <td>0.58</td>\n",
       "      <td>0.39</td>\n",
       "      <td>0.91</td>\n",
       "    </tr>\n",
       "    <tr>\n",
       "      <th>136</th>\n",
       "      <td>2016</td>\n",
       "      <td>1.02</td>\n",
       "      <td>1.31</td>\n",
       "      <td>0.73</td>\n",
       "      <td>1.55</td>\n",
       "      <td>1.02</td>\n",
       "      <td>0.49</td>\n",
       "      <td>3.26</td>\n",
       "      <td>1.44</td>\n",
       "      <td>1.08</td>\n",
       "      <td>0.96</td>\n",
       "      <td>1.07</td>\n",
       "      <td>0.67</td>\n",
       "      <td>0.25</td>\n",
       "      <td>0.37</td>\n",
       "    </tr>\n",
       "    <tr>\n",
       "      <th>139</th>\n",
       "      <td>2019</td>\n",
       "      <td>0.99</td>\n",
       "      <td>1.22</td>\n",
       "      <td>0.75</td>\n",
       "      <td>1.43</td>\n",
       "      <td>0.91</td>\n",
       "      <td>0.65</td>\n",
       "      <td>2.72</td>\n",
       "      <td>1.44</td>\n",
       "      <td>1.01</td>\n",
       "      <td>0.91</td>\n",
       "      <td>0.90</td>\n",
       "      <td>0.75</td>\n",
       "      <td>0.39</td>\n",
       "      <td>0.85</td>\n",
       "    </tr>\n",
       "  </tbody>\n",
       "</table>\n",
       "</div>"
      ],
      "text/plain": [
       "     Year  Glob  NHem  SHem  24N-90N  24S-24N  90S-24S  64N-90N  44N-64N  \\\n",
       "140  2020  1.02  1.36  0.69     1.68     0.87     0.57     2.91     1.82   \n",
       "136  2016  1.02  1.31  0.73     1.55     1.02     0.49     3.26     1.44   \n",
       "139  2019  0.99  1.22  0.75     1.43     0.91     0.65     2.72     1.44   \n",
       "\n",
       "     24N-44N  EQU-24N  24S-EQU  44S-24S  64S-44S  90S-64S  \n",
       "140     1.20     0.89     0.85     0.58     0.39     0.91  \n",
       "136     1.08     0.96     1.07     0.67     0.25     0.37  \n",
       "139     1.01     0.91     0.90     0.75     0.39     0.85  "
      ]
     },
     "execution_count": 55,
     "metadata": {},
     "output_type": "execute_result"
    }
   ],
   "source": [
    "df_sort = df.copy()\n",
    "df_sort.sort_values(by = \"Glob\", inplace=True, ascending=False)\n",
    "df_sort.head(3)"
   ]
  },
  {
   "cell_type": "markdown",
   "id": "7910ea10-3941-4f3f-b3ad-342ae9825b31",
   "metadata": {
    "tags": [],
    "toc-hr-collapsed": true
   },
   "source": [
    "<a id='pd-select'></a>\n",
    "## Select"
   ]
  },
  {
   "cell_type": "markdown",
   "id": "70fb18c3-6985-4b47-917e-006ac145cd4d",
   "metadata": {},
   "source": [
    "[Return to Start of Notebook](#pd)  "
   ]
  },
  {
   "cell_type": "markdown",
   "id": "1d1bd422-4ee5-4747-8905-701f0359563b",
   "metadata": {},
   "source": [
    "### Series"
   ]
  },
  {
   "cell_type": "markdown",
   "id": "d1ca3ead-de60-4bcd-8fc7-4398839c37b8",
   "metadata": {},
   "source": [
    "#### .loc"
   ]
  },
  {
   "cell_type": "code",
   "execution_count": 56,
   "id": "491c2994-7815-4a8a-b298-8c5539c695f1",
   "metadata": {},
   "outputs": [
    {
     "data": {
      "text/plain": [
       "a    11\n",
       "b    12\n",
       "c    13\n",
       "d    14\n",
       "dtype: int64"
      ]
     },
     "execution_count": 56,
     "metadata": {},
     "output_type": "execute_result"
    }
   ],
   "source": [
    "s = pd.Series([11, 12, 13, 14], index = [\"a\", \"b\", \"c\", \"d\"])\n",
    "s"
   ]
  },
  {
   "cell_type": "code",
   "execution_count": 57,
   "id": "c4b84510-71ef-48f0-bac0-b1ecb3895663",
   "metadata": {},
   "outputs": [
    {
     "data": {
      "text/plain": [
       "11"
      ]
     },
     "execution_count": 57,
     "metadata": {},
     "output_type": "execute_result"
    }
   ],
   "source": [
    "s.loc[\"a\"]"
   ]
  },
  {
   "cell_type": "code",
   "execution_count": 58,
   "id": "56f130be-88d6-4c3a-947f-9d15f9014a56",
   "metadata": {},
   "outputs": [
    {
     "data": {
      "text/plain": [
       "b    12\n",
       "c    13\n",
       "dtype: int64"
      ]
     },
     "execution_count": 58,
     "metadata": {},
     "output_type": "execute_result"
    }
   ],
   "source": [
    "s.loc[\"b\":\"c\"]"
   ]
  },
  {
   "cell_type": "code",
   "execution_count": 59,
   "id": "7efe9fc5-843d-4308-a95e-86f2e0d1153b",
   "metadata": {},
   "outputs": [
    {
     "data": {
      "text/plain": [
       "a    11\n",
       "c    13\n",
       "dtype: int64"
      ]
     },
     "execution_count": 59,
     "metadata": {},
     "output_type": "execute_result"
    }
   ],
   "source": [
    "s.loc[[\"a\", \"c\"]]"
   ]
  },
  {
   "cell_type": "markdown",
   "id": "8ba8bc12-3c44-4c41-b870-b9bda3304937",
   "metadata": {},
   "source": [
    "#### .iloc"
   ]
  },
  {
   "cell_type": "code",
   "execution_count": 60,
   "id": "057e2513-e239-4411-8ac0-c3e57c981f3b",
   "metadata": {},
   "outputs": [
    {
     "data": {
      "text/plain": [
       "11"
      ]
     },
     "execution_count": 60,
     "metadata": {},
     "output_type": "execute_result"
    }
   ],
   "source": [
    "s.iloc[0]"
   ]
  },
  {
   "cell_type": "code",
   "execution_count": 61,
   "id": "7457c904-bf5c-4cd4-9183-b7660e6357ca",
   "metadata": {},
   "outputs": [
    {
     "data": {
      "text/plain": [
       "b    12\n",
       "c    13\n",
       "dtype: int64"
      ]
     },
     "execution_count": 61,
     "metadata": {},
     "output_type": "execute_result"
    }
   ],
   "source": [
    "s.iloc[1:3]"
   ]
  },
  {
   "cell_type": "code",
   "execution_count": 62,
   "id": "fd17d747-0ba9-4e51-8f0e-487e6630b261",
   "metadata": {},
   "outputs": [
    {
     "data": {
      "text/plain": [
       "a    11\n",
       "c    13\n",
       "dtype: int64"
      ]
     },
     "execution_count": 62,
     "metadata": {},
     "output_type": "execute_result"
    }
   ],
   "source": [
    "s.iloc[[0, 2]]"
   ]
  },
  {
   "cell_type": "markdown",
   "id": "6bd20d30-2e4d-409e-905f-7d9d392df5b0",
   "metadata": {},
   "source": [
    "##### single value as series"
   ]
  },
  {
   "cell_type": "code",
   "execution_count": 63,
   "id": "e21d5989-df24-4445-aedd-b4ceac35c08d",
   "metadata": {},
   "outputs": [
    {
     "data": {
      "text/plain": [
       "a    11\n",
       "dtype: int64"
      ]
     },
     "execution_count": 63,
     "metadata": {},
     "output_type": "execute_result"
    }
   ],
   "source": [
    "s.iloc[[0]]"
   ]
  },
  {
   "cell_type": "code",
   "execution_count": 64,
   "id": "0623e61d-1683-4882-8bae-c044c90f2684",
   "metadata": {},
   "outputs": [
    {
     "data": {
      "text/plain": [
       "0    11\n",
       "1    12\n",
       "2    13\n",
       "3    14\n",
       "dtype: int64"
      ]
     },
     "execution_count": 64,
     "metadata": {},
     "output_type": "execute_result"
    }
   ],
   "source": [
    "s = s.reset_index(drop = True)\n",
    "s"
   ]
  },
  {
   "cell_type": "markdown",
   "id": "8419d25e-6ac3-4be0-ad55-a2df4002ae53",
   "metadata": {},
   "source": [
    "### DataFrames"
   ]
  },
  {
   "cell_type": "markdown",
   "id": "f09b5c2b-d8cf-4f2b-a5e8-5b180f5160f8",
   "metadata": {},
   "source": [
    "A DataFrame is a two-dimensional object, unlike a Series which is one-dimensional.  \n",
    "Accordingly, the .loc and iloc methods of a DataFrame accept two indices, separated by a comma:\n",
    "- The first index refers to rows\n",
    "- The second index refers to columns"
   ]
  },
  {
   "cell_type": "markdown",
   "id": "524a14eb-b698-444f-b1fe-ca3d735e602a",
   "metadata": {},
   "source": [
    "#### single column all rows .loc"
   ]
  },
  {
   "cell_type": "markdown",
   "id": "d8df9bb8-2d5b-4cb4-8712-423860b92710",
   "metadata": {},
   "source": [
    "##### as series"
   ]
  },
  {
   "cell_type": "code",
   "execution_count": 65,
   "id": "c3d6f8ff-3d64-463d-ae5d-38d23162f011",
   "metadata": {},
   "outputs": [],
   "source": [
    "sel = df.loc[:, \"Glob\"]"
   ]
  },
  {
   "cell_type": "code",
   "execution_count": 66,
   "id": "56a144f2-3798-4fb6-b856-3863cfe6b649",
   "metadata": {},
   "outputs": [
    {
     "data": {
      "text/plain": [
       "pandas.core.series.Series"
      ]
     },
     "execution_count": 66,
     "metadata": {},
     "output_type": "execute_result"
    }
   ],
   "source": [
    "type(sel)"
   ]
  },
  {
   "cell_type": "markdown",
   "id": "785bd48b-a4ae-4dc0-9e94-63d669828baf",
   "metadata": {},
   "source": [
    "##### as dataframe"
   ]
  },
  {
   "cell_type": "code",
   "execution_count": 67,
   "id": "3f9eb627-a740-4f4e-a7cf-3a5a8011bf56",
   "metadata": {},
   "outputs": [],
   "source": [
    "sel = df.loc[:, [\"Glob\"]]"
   ]
  },
  {
   "cell_type": "code",
   "execution_count": 68,
   "id": "505b5ced-0fcd-4308-8154-ce26c247c214",
   "metadata": {},
   "outputs": [
    {
     "data": {
      "text/plain": [
       "pandas.core.frame.DataFrame"
      ]
     },
     "execution_count": 68,
     "metadata": {},
     "output_type": "execute_result"
    }
   ],
   "source": [
    "type(sel)"
   ]
  },
  {
   "cell_type": "markdown",
   "id": "8e8f3ba8-8c51-43cb-8107-c49e26115ac9",
   "metadata": {},
   "source": [
    "#### single column with brackets"
   ]
  },
  {
   "cell_type": "markdown",
   "id": "1af11657-117d-49c8-95e3-a43400607d4b",
   "metadata": {},
   "source": [
    "##### as series"
   ]
  },
  {
   "cell_type": "code",
   "execution_count": 69,
   "id": "2177753a-e91f-44ad-a335-4160daf3dfe3",
   "metadata": {},
   "outputs": [],
   "source": [
    "sel = df[\"Glob\"]"
   ]
  },
  {
   "cell_type": "markdown",
   "id": "e2417071-269b-4bee-91fd-9a0fde5138c8",
   "metadata": {},
   "source": [
    "##### as dataframe"
   ]
  },
  {
   "cell_type": "code",
   "execution_count": 70,
   "id": "73812d44-d0c9-4d3d-a681-451c85bf14e7",
   "metadata": {},
   "outputs": [],
   "source": [
    "sel = df[[\"Glob\"]]"
   ]
  },
  {
   "cell_type": "markdown",
   "id": "21a28619-bf56-4ea5-8194-310c59213393",
   "metadata": {},
   "source": [
    "#### multiple columns with brackets"
   ]
  },
  {
   "cell_type": "code",
   "execution_count": 71,
   "id": "1b139a62-fe13-4fb1-979c-55c48f107a1d",
   "metadata": {},
   "outputs": [],
   "source": [
    "sel = df[[\"Year\", \"Glob\", \"NHem\", \"SHem\"]]"
   ]
  },
  {
   "cell_type": "markdown",
   "id": "d7b944af-b83c-490e-9cfa-991f5eb885fe",
   "metadata": {},
   "source": [
    "##### except columns"
   ]
  },
  {
   "cell_type": "code",
   "execution_count": 72,
   "id": "e125ef51-02f9-4510-94ca-eb3367a6a874",
   "metadata": {},
   "outputs": [],
   "source": [
    "sel = df.drop([\"Year\", \"Glob\", \"NHem\", \"SHem\", \"24N-90N\", \"24S-24N\", \"90S-24S\"], axis = 1)"
   ]
  },
  {
   "cell_type": "markdown",
   "id": "2728ef0d-7c9d-4682-9520-1d92ebf53ec1",
   "metadata": {},
   "source": [
    "#### columns .loc with slice notation"
   ]
  },
  {
   "cell_type": "code",
   "execution_count": 73,
   "id": "c24736ad-6503-4411-a8dd-df5ad85fdeef",
   "metadata": {},
   "outputs": [],
   "source": [
    "sel = df.loc[:, \"Year\":\"SHem\"]"
   ]
  },
  {
   "cell_type": "code",
   "execution_count": 74,
   "id": "37f4a788-1924-451c-a64e-da808536a6bf",
   "metadata": {},
   "outputs": [],
   "source": [
    "sel = df.loc[:, :\"SHem\"]"
   ]
  },
  {
   "cell_type": "markdown",
   "id": "dfc92a5f-c91c-430d-9b4a-a94fec65092d",
   "metadata": {},
   "source": [
    "#### rows using .iloc"
   ]
  },
  {
   "cell_type": "code",
   "execution_count": 75,
   "id": "66946e5f-c2fc-4084-85c2-e357af9f8c81",
   "metadata": {},
   "outputs": [
    {
     "data": {
      "text/html": [
       "<div>\n",
       "<style scoped>\n",
       "    .dataframe tbody tr th:only-of-type {\n",
       "        vertical-align: middle;\n",
       "    }\n",
       "\n",
       "    .dataframe tbody tr th {\n",
       "        vertical-align: top;\n",
       "    }\n",
       "\n",
       "    .dataframe thead th {\n",
       "        text-align: right;\n",
       "    }\n",
       "</style>\n",
       "<table border=\"1\" class=\"dataframe\">\n",
       "  <thead>\n",
       "    <tr style=\"text-align: right;\">\n",
       "      <th></th>\n",
       "      <th>Year</th>\n",
       "      <th>Glob</th>\n",
       "      <th>NHem</th>\n",
       "      <th>SHem</th>\n",
       "      <th>24N-90N</th>\n",
       "      <th>24S-24N</th>\n",
       "      <th>90S-24S</th>\n",
       "      <th>64N-90N</th>\n",
       "      <th>44N-64N</th>\n",
       "      <th>24N-44N</th>\n",
       "      <th>EQU-24N</th>\n",
       "      <th>24S-EQU</th>\n",
       "      <th>44S-24S</th>\n",
       "      <th>64S-44S</th>\n",
       "      <th>90S-64S</th>\n",
       "    </tr>\n",
       "  </thead>\n",
       "  <tbody>\n",
       "    <tr>\n",
       "      <th>0</th>\n",
       "      <td>1880</td>\n",
       "      <td>-0.16</td>\n",
       "      <td>-0.27</td>\n",
       "      <td>-0.04</td>\n",
       "      <td>-0.34</td>\n",
       "      <td>-0.13</td>\n",
       "      <td>-0.01</td>\n",
       "      <td>-0.81</td>\n",
       "      <td>-0.42</td>\n",
       "      <td>-0.26</td>\n",
       "      <td>-0.16</td>\n",
       "      <td>-0.1</td>\n",
       "      <td>-0.02</td>\n",
       "      <td>0.05</td>\n",
       "      <td>0.65</td>\n",
       "    </tr>\n",
       "  </tbody>\n",
       "</table>\n",
       "</div>"
      ],
      "text/plain": [
       "   Year  Glob  NHem  SHem  24N-90N  24S-24N  90S-24S  64N-90N  44N-64N  \\\n",
       "0  1880 -0.16 -0.27 -0.04    -0.34    -0.13    -0.01    -0.81    -0.42   \n",
       "\n",
       "   24N-44N  EQU-24N  24S-EQU  44S-24S  64S-44S  90S-64S  \n",
       "0    -0.26    -0.16     -0.1    -0.02     0.05     0.65  "
      ]
     },
     "execution_count": 75,
     "metadata": {},
     "output_type": "execute_result"
    }
   ],
   "source": [
    "df.iloc[[0], :]"
   ]
  },
  {
   "cell_type": "code",
   "execution_count": 76,
   "id": "d74e9c40-8420-4dff-a49a-c65890b401c4",
   "metadata": {},
   "outputs": [
    {
     "data": {
      "text/html": [
       "<div>\n",
       "<style scoped>\n",
       "    .dataframe tbody tr th:only-of-type {\n",
       "        vertical-align: middle;\n",
       "    }\n",
       "\n",
       "    .dataframe tbody tr th {\n",
       "        vertical-align: top;\n",
       "    }\n",
       "\n",
       "    .dataframe thead th {\n",
       "        text-align: right;\n",
       "    }\n",
       "</style>\n",
       "<table border=\"1\" class=\"dataframe\">\n",
       "  <thead>\n",
       "    <tr style=\"text-align: right;\">\n",
       "      <th></th>\n",
       "      <th>Year</th>\n",
       "      <th>Glob</th>\n",
       "      <th>NHem</th>\n",
       "      <th>SHem</th>\n",
       "      <th>24N-90N</th>\n",
       "      <th>24S-24N</th>\n",
       "      <th>90S-24S</th>\n",
       "      <th>64N-90N</th>\n",
       "      <th>44N-64N</th>\n",
       "      <th>24N-44N</th>\n",
       "      <th>EQU-24N</th>\n",
       "      <th>24S-EQU</th>\n",
       "      <th>44S-24S</th>\n",
       "      <th>64S-44S</th>\n",
       "      <th>90S-64S</th>\n",
       "    </tr>\n",
       "  </thead>\n",
       "  <tbody>\n",
       "    <tr>\n",
       "      <th>0</th>\n",
       "      <td>1880</td>\n",
       "      <td>-0.16</td>\n",
       "      <td>-0.27</td>\n",
       "      <td>-0.04</td>\n",
       "      <td>-0.34</td>\n",
       "      <td>-0.13</td>\n",
       "      <td>-0.01</td>\n",
       "      <td>-0.81</td>\n",
       "      <td>-0.42</td>\n",
       "      <td>-0.26</td>\n",
       "      <td>-0.16</td>\n",
       "      <td>-0.10</td>\n",
       "      <td>-0.02</td>\n",
       "      <td>0.05</td>\n",
       "      <td>0.65</td>\n",
       "    </tr>\n",
       "    <tr>\n",
       "      <th>1</th>\n",
       "      <td>1881</td>\n",
       "      <td>-0.07</td>\n",
       "      <td>-0.16</td>\n",
       "      <td>0.01</td>\n",
       "      <td>-0.32</td>\n",
       "      <td>0.10</td>\n",
       "      <td>-0.06</td>\n",
       "      <td>-0.91</td>\n",
       "      <td>-0.39</td>\n",
       "      <td>-0.18</td>\n",
       "      <td>0.09</td>\n",
       "      <td>0.11</td>\n",
       "      <td>-0.04</td>\n",
       "      <td>-0.07</td>\n",
       "      <td>0.58</td>\n",
       "    </tr>\n",
       "  </tbody>\n",
       "</table>\n",
       "</div>"
      ],
      "text/plain": [
       "   Year  Glob  NHem  SHem  24N-90N  24S-24N  90S-24S  64N-90N  44N-64N  \\\n",
       "0  1880 -0.16 -0.27 -0.04    -0.34    -0.13    -0.01    -0.81    -0.42   \n",
       "1  1881 -0.07 -0.16  0.01    -0.32     0.10    -0.06    -0.91    -0.39   \n",
       "\n",
       "   24N-44N  EQU-24N  24S-EQU  44S-24S  64S-44S  90S-64S  \n",
       "0    -0.26    -0.16    -0.10    -0.02     0.05     0.65  \n",
       "1    -0.18     0.09     0.11    -0.04    -0.07     0.58  "
      ]
     },
     "execution_count": 76,
     "metadata": {},
     "output_type": "execute_result"
    }
   ],
   "source": [
    "df.iloc[[0, 1], :]"
   ]
  },
  {
   "cell_type": "code",
   "execution_count": 77,
   "id": "1782bc9d-b5f0-4878-8718-7e81a68364ab",
   "metadata": {},
   "outputs": [
    {
     "data": {
      "text/html": [
       "<div>\n",
       "<style scoped>\n",
       "    .dataframe tbody tr th:only-of-type {\n",
       "        vertical-align: middle;\n",
       "    }\n",
       "\n",
       "    .dataframe tbody tr th {\n",
       "        vertical-align: top;\n",
       "    }\n",
       "\n",
       "    .dataframe thead th {\n",
       "        text-align: right;\n",
       "    }\n",
       "</style>\n",
       "<table border=\"1\" class=\"dataframe\">\n",
       "  <thead>\n",
       "    <tr style=\"text-align: right;\">\n",
       "      <th></th>\n",
       "      <th>Year</th>\n",
       "      <th>Glob</th>\n",
       "      <th>NHem</th>\n",
       "      <th>SHem</th>\n",
       "      <th>24N-90N</th>\n",
       "      <th>24S-24N</th>\n",
       "      <th>90S-24S</th>\n",
       "      <th>64N-90N</th>\n",
       "      <th>44N-64N</th>\n",
       "      <th>24N-44N</th>\n",
       "      <th>EQU-24N</th>\n",
       "      <th>24S-EQU</th>\n",
       "      <th>44S-24S</th>\n",
       "      <th>64S-44S</th>\n",
       "      <th>90S-64S</th>\n",
       "    </tr>\n",
       "  </thead>\n",
       "  <tbody>\n",
       "    <tr>\n",
       "      <th>0</th>\n",
       "      <td>1880</td>\n",
       "      <td>-0.16</td>\n",
       "      <td>-0.27</td>\n",
       "      <td>-0.04</td>\n",
       "      <td>-0.34</td>\n",
       "      <td>-0.13</td>\n",
       "      <td>-0.01</td>\n",
       "      <td>-0.81</td>\n",
       "      <td>-0.42</td>\n",
       "      <td>-0.26</td>\n",
       "      <td>-0.16</td>\n",
       "      <td>-0.10</td>\n",
       "      <td>-0.02</td>\n",
       "      <td>0.05</td>\n",
       "      <td>0.65</td>\n",
       "    </tr>\n",
       "    <tr>\n",
       "      <th>1</th>\n",
       "      <td>1881</td>\n",
       "      <td>-0.07</td>\n",
       "      <td>-0.16</td>\n",
       "      <td>0.01</td>\n",
       "      <td>-0.32</td>\n",
       "      <td>0.10</td>\n",
       "      <td>-0.06</td>\n",
       "      <td>-0.91</td>\n",
       "      <td>-0.39</td>\n",
       "      <td>-0.18</td>\n",
       "      <td>0.09</td>\n",
       "      <td>0.11</td>\n",
       "      <td>-0.04</td>\n",
       "      <td>-0.07</td>\n",
       "      <td>0.58</td>\n",
       "    </tr>\n",
       "    <tr>\n",
       "      <th>2</th>\n",
       "      <td>1882</td>\n",
       "      <td>-0.10</td>\n",
       "      <td>-0.20</td>\n",
       "      <td>0.00</td>\n",
       "      <td>-0.28</td>\n",
       "      <td>-0.05</td>\n",
       "      <td>0.02</td>\n",
       "      <td>-1.40</td>\n",
       "      <td>-0.22</td>\n",
       "      <td>-0.13</td>\n",
       "      <td>-0.05</td>\n",
       "      <td>-0.04</td>\n",
       "      <td>0.03</td>\n",
       "      <td>0.04</td>\n",
       "      <td>0.61</td>\n",
       "    </tr>\n",
       "  </tbody>\n",
       "</table>\n",
       "</div>"
      ],
      "text/plain": [
       "   Year  Glob  NHem  SHem  24N-90N  24S-24N  90S-24S  64N-90N  44N-64N  \\\n",
       "0  1880 -0.16 -0.27 -0.04    -0.34    -0.13    -0.01    -0.81    -0.42   \n",
       "1  1881 -0.07 -0.16  0.01    -0.32     0.10    -0.06    -0.91    -0.39   \n",
       "2  1882 -0.10 -0.20  0.00    -0.28    -0.05     0.02    -1.40    -0.22   \n",
       "\n",
       "   24N-44N  EQU-24N  24S-EQU  44S-24S  64S-44S  90S-64S  \n",
       "0    -0.26    -0.16    -0.10    -0.02     0.05     0.65  \n",
       "1    -0.18     0.09     0.11    -0.04    -0.07     0.58  \n",
       "2    -0.13    -0.05    -0.04     0.03     0.04     0.61  "
      ]
     },
     "execution_count": 77,
     "metadata": {},
     "output_type": "execute_result"
    }
   ],
   "source": [
    "df.iloc[0:3, :]"
   ]
  },
  {
   "cell_type": "markdown",
   "id": "cf82028f-8cc5-4e3a-a171-187b07916b32",
   "metadata": {},
   "source": [
    "#### rows and columns .iloc"
   ]
  },
  {
   "cell_type": "code",
   "execution_count": 78,
   "id": "162ab238-9e8d-4c8d-881c-23e74c7e5111",
   "metadata": {},
   "outputs": [
    {
     "data": {
      "text/html": [
       "<div>\n",
       "<style scoped>\n",
       "    .dataframe tbody tr th:only-of-type {\n",
       "        vertical-align: middle;\n",
       "    }\n",
       "\n",
       "    .dataframe tbody tr th {\n",
       "        vertical-align: top;\n",
       "    }\n",
       "\n",
       "    .dataframe thead th {\n",
       "        text-align: right;\n",
       "    }\n",
       "</style>\n",
       "<table border=\"1\" class=\"dataframe\">\n",
       "  <thead>\n",
       "    <tr style=\"text-align: right;\">\n",
       "      <th></th>\n",
       "      <th>Year</th>\n",
       "      <th>Glob</th>\n",
       "      <th>NHem</th>\n",
       "      <th>SHem</th>\n",
       "    </tr>\n",
       "  </thead>\n",
       "  <tbody>\n",
       "    <tr>\n",
       "      <th>0</th>\n",
       "      <td>1880</td>\n",
       "      <td>-0.16</td>\n",
       "      <td>-0.27</td>\n",
       "      <td>-0.04</td>\n",
       "    </tr>\n",
       "    <tr>\n",
       "      <th>1</th>\n",
       "      <td>1881</td>\n",
       "      <td>-0.07</td>\n",
       "      <td>-0.16</td>\n",
       "      <td>0.01</td>\n",
       "    </tr>\n",
       "    <tr>\n",
       "      <th>2</th>\n",
       "      <td>1882</td>\n",
       "      <td>-0.10</td>\n",
       "      <td>-0.20</td>\n",
       "      <td>0.00</td>\n",
       "    </tr>\n",
       "    <tr>\n",
       "      <th>3</th>\n",
       "      <td>1883</td>\n",
       "      <td>-0.16</td>\n",
       "      <td>-0.26</td>\n",
       "      <td>-0.06</td>\n",
       "    </tr>\n",
       "  </tbody>\n",
       "</table>\n",
       "</div>"
      ],
      "text/plain": [
       "   Year  Glob  NHem  SHem\n",
       "0  1880 -0.16 -0.27 -0.04\n",
       "1  1881 -0.07 -0.16  0.01\n",
       "2  1882 -0.10 -0.20  0.00\n",
       "3  1883 -0.16 -0.26 -0.06"
      ]
     },
     "execution_count": 78,
     "metadata": {},
     "output_type": "execute_result"
    }
   ],
   "source": [
    "df.iloc[0:4, 0:4]"
   ]
  },
  {
   "cell_type": "markdown",
   "id": "b1d022ae-3741-4a6a-a9d3-9f5a908a9379",
   "metadata": {},
   "source": [
    "#### single value .iloc"
   ]
  },
  {
   "cell_type": "code",
   "execution_count": 79,
   "id": "5bb08655-5009-4d06-9cd0-d3262a480cba",
   "metadata": {},
   "outputs": [
    {
     "data": {
      "text/plain": [
       "1880"
      ]
     },
     "execution_count": 79,
     "metadata": {},
     "output_type": "execute_result"
    }
   ],
   "source": [
    "df[\"Year\"].iloc[0]"
   ]
  },
  {
   "cell_type": "code",
   "execution_count": 80,
   "id": "a624abde-30b9-441c-9ae1-1090491c3b89",
   "metadata": {},
   "outputs": [
    {
     "data": {
      "text/plain": [
       "2020"
      ]
     },
     "execution_count": 80,
     "metadata": {},
     "output_type": "execute_result"
    }
   ],
   "source": [
    "df[\"Year\"].iloc[-1]"
   ]
  },
  {
   "cell_type": "markdown",
   "id": "a09f9233-a20a-42e6-94a1-1caaa60fad10",
   "metadata": {},
   "source": [
    "#### series to list"
   ]
  },
  {
   "cell_type": "code",
   "execution_count": 81,
   "id": "f84d5c4a-ca6a-4cb5-ad00-311e5dcf11d2",
   "metadata": {},
   "outputs": [],
   "source": [
    "sel = df[\"Glob\"].iloc[0:5]"
   ]
  },
  {
   "cell_type": "code",
   "execution_count": 82,
   "id": "382a31c7-277c-4486-9ef7-beb385b922eb",
   "metadata": {},
   "outputs": [
    {
     "data": {
      "text/plain": [
       "[-0.16, -0.07, -0.1, -0.16, -0.28]"
      ]
     },
     "execution_count": 82,
     "metadata": {},
     "output_type": "execute_result"
    }
   ],
   "source": [
    "sel.tolist()"
   ]
  },
  {
   "cell_type": "markdown",
   "id": "bbcb1a0b-0929-440f-92ed-64dba36bc1b3",
   "metadata": {},
   "source": [
    "#### dataframe to list"
   ]
  },
  {
   "cell_type": "code",
   "execution_count": 83,
   "id": "e04dd649-e187-426a-bc87-c157cf77a5e2",
   "metadata": {},
   "outputs": [],
   "source": [
    "df1 = df[[\"Glob\", \"NHem\", \"SHem\"]].iloc[0:5, :]"
   ]
  },
  {
   "cell_type": "code",
   "execution_count": 84,
   "id": "68d62854-6c85-4ca2-8e80-0f1b9bddc69b",
   "metadata": {},
   "outputs": [
    {
     "data": {
      "text/plain": [
       "array([[-0.16, -0.27, -0.04],\n",
       "       [-0.07, -0.16,  0.01],\n",
       "       [-0.1 , -0.2 ,  0.  ],\n",
       "       [-0.16, -0.26, -0.06],\n",
       "       [-0.28, -0.42, -0.14]])"
      ]
     },
     "execution_count": 84,
     "metadata": {},
     "output_type": "execute_result"
    }
   ],
   "source": [
    "df1.values"
   ]
  },
  {
   "cell_type": "code",
   "execution_count": 85,
   "id": "544c629d-ee88-4701-bbac-6858c28e812f",
   "metadata": {},
   "outputs": [
    {
     "data": {
      "text/plain": [
       "[[-0.16, -0.27, -0.04],\n",
       " [-0.07, -0.16, 0.01],\n",
       " [-0.1, -0.2, 0.0],\n",
       " [-0.16, -0.26, -0.06],\n",
       " [-0.28, -0.42, -0.14]]"
      ]
     },
     "execution_count": 85,
     "metadata": {},
     "output_type": "execute_result"
    }
   ],
   "source": [
    "df1.values.tolist()"
   ]
  },
  {
   "cell_type": "markdown",
   "id": "94b287e4-4af4-4691-8fc2-776153457b92",
   "metadata": {},
   "source": [
    "<a id='pd-filter'></a>\n",
    "## Filter"
   ]
  },
  {
   "cell_type": "markdown",
   "id": "41612e8f-557c-4aaf-b433-0506dd7c0a00",
   "metadata": {},
   "source": [
    "[Return to Start of Notebook](#pd)  "
   ]
  },
  {
   "cell_type": "markdown",
   "id": "6f0cf1df-51c9-4c5e-b7b9-69dcdd074b87",
   "metadata": {},
   "source": [
    "### using logical test"
   ]
  },
  {
   "cell_type": "code",
   "execution_count": 86,
   "id": "767fa00a-d0e2-4aa8-8a17-acadb76bb2b2",
   "metadata": {},
   "outputs": [],
   "source": [
    "filt = df[\"Year\"] > 2016\n",
    "sel = df[filt]"
   ]
  },
  {
   "cell_type": "markdown",
   "id": "9659ff46-1391-4a9a-9f85-716539091579",
   "metadata": {},
   "source": [
    "### using .isin"
   ]
  },
  {
   "cell_type": "code",
   "execution_count": 87,
   "id": "49f06d19-1552-4995-98e9-c141cd154814",
   "metadata": {},
   "outputs": [
    {
     "data": {
      "text/html": [
       "<div>\n",
       "<style scoped>\n",
       "    .dataframe tbody tr th:only-of-type {\n",
       "        vertical-align: middle;\n",
       "    }\n",
       "\n",
       "    .dataframe tbody tr th {\n",
       "        vertical-align: top;\n",
       "    }\n",
       "\n",
       "    .dataframe thead th {\n",
       "        text-align: right;\n",
       "    }\n",
       "</style>\n",
       "<table border=\"1\" class=\"dataframe\">\n",
       "  <thead>\n",
       "    <tr style=\"text-align: right;\">\n",
       "      <th></th>\n",
       "      <th>Year</th>\n",
       "      <th>Glob</th>\n",
       "      <th>NHem</th>\n",
       "      <th>SHem</th>\n",
       "      <th>24N-90N</th>\n",
       "      <th>24S-24N</th>\n",
       "      <th>90S-24S</th>\n",
       "      <th>64N-90N</th>\n",
       "      <th>44N-64N</th>\n",
       "      <th>24N-44N</th>\n",
       "      <th>EQU-24N</th>\n",
       "      <th>24S-EQU</th>\n",
       "      <th>44S-24S</th>\n",
       "      <th>64S-44S</th>\n",
       "      <th>90S-64S</th>\n",
       "    </tr>\n",
       "  </thead>\n",
       "  <tbody>\n",
       "    <tr>\n",
       "      <th>128</th>\n",
       "      <td>2008</td>\n",
       "      <td>0.55</td>\n",
       "      <td>0.68</td>\n",
       "      <td>0.41</td>\n",
       "      <td>0.92</td>\n",
       "      <td>0.38</td>\n",
       "      <td>0.40</td>\n",
       "      <td>1.55</td>\n",
       "      <td>1.08</td>\n",
       "      <td>0.62</td>\n",
       "      <td>0.33</td>\n",
       "      <td>0.42</td>\n",
       "      <td>0.53</td>\n",
       "      <td>0.08</td>\n",
       "      <td>0.62</td>\n",
       "    </tr>\n",
       "    <tr>\n",
       "      <th>132</th>\n",
       "      <td>2012</td>\n",
       "      <td>0.65</td>\n",
       "      <td>0.82</td>\n",
       "      <td>0.48</td>\n",
       "      <td>1.05</td>\n",
       "      <td>0.53</td>\n",
       "      <td>0.41</td>\n",
       "      <td>2.23</td>\n",
       "      <td>0.93</td>\n",
       "      <td>0.74</td>\n",
       "      <td>0.48</td>\n",
       "      <td>0.57</td>\n",
       "      <td>0.56</td>\n",
       "      <td>0.19</td>\n",
       "      <td>0.33</td>\n",
       "    </tr>\n",
       "    <tr>\n",
       "      <th>136</th>\n",
       "      <td>2016</td>\n",
       "      <td>1.02</td>\n",
       "      <td>1.31</td>\n",
       "      <td>0.73</td>\n",
       "      <td>1.55</td>\n",
       "      <td>1.02</td>\n",
       "      <td>0.49</td>\n",
       "      <td>3.26</td>\n",
       "      <td>1.44</td>\n",
       "      <td>1.08</td>\n",
       "      <td>0.96</td>\n",
       "      <td>1.07</td>\n",
       "      <td>0.67</td>\n",
       "      <td>0.25</td>\n",
       "      <td>0.37</td>\n",
       "    </tr>\n",
       "  </tbody>\n",
       "</table>\n",
       "</div>"
      ],
      "text/plain": [
       "     Year  Glob  NHem  SHem  24N-90N  24S-24N  90S-24S  64N-90N  44N-64N  \\\n",
       "128  2008  0.55  0.68  0.41     0.92     0.38     0.40     1.55     1.08   \n",
       "132  2012  0.65  0.82  0.48     1.05     0.53     0.41     2.23     0.93   \n",
       "136  2016  1.02  1.31  0.73     1.55     1.02     0.49     3.26     1.44   \n",
       "\n",
       "     24N-44N  EQU-24N  24S-EQU  44S-24S  64S-44S  90S-64S  \n",
       "128     0.62     0.33     0.42     0.53     0.08     0.62  \n",
       "132     0.74     0.48     0.57     0.56     0.19     0.33  \n",
       "136     1.08     0.96     1.07     0.67     0.25     0.37  "
      ]
     },
     "execution_count": 87,
     "metadata": {},
     "output_type": "execute_result"
    }
   ],
   "source": [
    "filt = df[\"Year\"].isin([2008, 2012, 2016])\n",
    "df[filt]"
   ]
  },
  {
   "cell_type": "markdown",
   "id": "a154c7e3-b219-4996-85ed-c3b19d90b770",
   "metadata": {},
   "source": [
    "### filter to assign new value"
   ]
  },
  {
   "cell_type": "code",
   "execution_count": 88,
   "id": "95dd638e-f28b-489c-ac32-586d7a27a668",
   "metadata": {},
   "outputs": [
    {
     "data": {
      "text/html": [
       "<div>\n",
       "<style scoped>\n",
       "    .dataframe tbody tr th:only-of-type {\n",
       "        vertical-align: middle;\n",
       "    }\n",
       "\n",
       "    .dataframe tbody tr th {\n",
       "        vertical-align: top;\n",
       "    }\n",
       "\n",
       "    .dataframe thead th {\n",
       "        text-align: right;\n",
       "    }\n",
       "</style>\n",
       "<table border=\"1\" class=\"dataframe\">\n",
       "  <thead>\n",
       "    <tr style=\"text-align: right;\">\n",
       "      <th></th>\n",
       "      <th>Year</th>\n",
       "      <th>Glob</th>\n",
       "      <th>NHem</th>\n",
       "      <th>SHem</th>\n",
       "      <th>24N-90N</th>\n",
       "      <th>24S-24N</th>\n",
       "      <th>90S-24S</th>\n",
       "      <th>64N-90N</th>\n",
       "      <th>44N-64N</th>\n",
       "      <th>24N-44N</th>\n",
       "      <th>EQU-24N</th>\n",
       "      <th>24S-EQU</th>\n",
       "      <th>44S-24S</th>\n",
       "      <th>64S-44S</th>\n",
       "      <th>90S-64S</th>\n",
       "    </tr>\n",
       "  </thead>\n",
       "  <tbody>\n",
       "    <tr>\n",
       "      <th>136</th>\n",
       "      <td>2016</td>\n",
       "      <td>1.02</td>\n",
       "      <td>1.31</td>\n",
       "      <td>0.73</td>\n",
       "      <td>1.55</td>\n",
       "      <td>1.02</td>\n",
       "      <td>0.49</td>\n",
       "      <td>3.26</td>\n",
       "      <td>1.44</td>\n",
       "      <td>1.08</td>\n",
       "      <td>0.96</td>\n",
       "      <td>1.07</td>\n",
       "      <td>0.67</td>\n",
       "      <td>0.25</td>\n",
       "      <td>0.37</td>\n",
       "    </tr>\n",
       "    <tr>\n",
       "      <th>137</th>\n",
       "      <td>2017</td>\n",
       "      <td>0.93</td>\n",
       "      <td>1.18</td>\n",
       "      <td>0.67</td>\n",
       "      <td>1.40</td>\n",
       "      <td>0.82</td>\n",
       "      <td>0.59</td>\n",
       "      <td>2.54</td>\n",
       "      <td>1.38</td>\n",
       "      <td>1.05</td>\n",
       "      <td>0.87</td>\n",
       "      <td>0.78</td>\n",
       "      <td>0.76</td>\n",
       "      <td>0.34</td>\n",
       "      <td>0.52</td>\n",
       "    </tr>\n",
       "    <tr>\n",
       "      <th>138</th>\n",
       "      <td>2018</td>\n",
       "      <td>0.85</td>\n",
       "      <td>12.30</td>\n",
       "      <td>0.66</td>\n",
       "      <td>1.26</td>\n",
       "      <td>0.68</td>\n",
       "      <td>0.68</td>\n",
       "      <td>2.17</td>\n",
       "      <td>1.10</td>\n",
       "      <td>1.06</td>\n",
       "      <td>0.73</td>\n",
       "      <td>0.63</td>\n",
       "      <td>0.80</td>\n",
       "      <td>0.37</td>\n",
       "      <td>0.93</td>\n",
       "    </tr>\n",
       "    <tr>\n",
       "      <th>139</th>\n",
       "      <td>2019</td>\n",
       "      <td>0.99</td>\n",
       "      <td>12.30</td>\n",
       "      <td>0.75</td>\n",
       "      <td>1.43</td>\n",
       "      <td>0.91</td>\n",
       "      <td>0.65</td>\n",
       "      <td>2.72</td>\n",
       "      <td>1.44</td>\n",
       "      <td>1.01</td>\n",
       "      <td>0.91</td>\n",
       "      <td>0.90</td>\n",
       "      <td>0.75</td>\n",
       "      <td>0.39</td>\n",
       "      <td>0.85</td>\n",
       "    </tr>\n",
       "    <tr>\n",
       "      <th>140</th>\n",
       "      <td>2020</td>\n",
       "      <td>1.02</td>\n",
       "      <td>12.30</td>\n",
       "      <td>0.69</td>\n",
       "      <td>1.68</td>\n",
       "      <td>0.87</td>\n",
       "      <td>0.57</td>\n",
       "      <td>2.91</td>\n",
       "      <td>1.82</td>\n",
       "      <td>1.20</td>\n",
       "      <td>0.89</td>\n",
       "      <td>0.85</td>\n",
       "      <td>0.58</td>\n",
       "      <td>0.39</td>\n",
       "      <td>0.91</td>\n",
       "    </tr>\n",
       "  </tbody>\n",
       "</table>\n",
       "</div>"
      ],
      "text/plain": [
       "     Year  Glob   NHem  SHem  24N-90N  24S-24N  90S-24S  64N-90N  44N-64N  \\\n",
       "136  2016  1.02   1.31  0.73     1.55     1.02     0.49     3.26     1.44   \n",
       "137  2017  0.93   1.18  0.67     1.40     0.82     0.59     2.54     1.38   \n",
       "138  2018  0.85  12.30  0.66     1.26     0.68     0.68     2.17     1.10   \n",
       "139  2019  0.99  12.30  0.75     1.43     0.91     0.65     2.72     1.44   \n",
       "140  2020  1.02  12.30  0.69     1.68     0.87     0.57     2.91     1.82   \n",
       "\n",
       "     24N-44N  EQU-24N  24S-EQU  44S-24S  64S-44S  90S-64S  \n",
       "136     1.08     0.96     1.07     0.67     0.25     0.37  \n",
       "137     1.05     0.87     0.78     0.76     0.34     0.52  \n",
       "138     1.06     0.73     0.63     0.80     0.37     0.93  \n",
       "139     1.01     0.91     0.90     0.75     0.39     0.85  \n",
       "140     1.20     0.89     0.85     0.58     0.39     0.91  "
      ]
     },
     "execution_count": 88,
     "metadata": {},
     "output_type": "execute_result"
    }
   ],
   "source": [
    "filt = df[\"Year\"] > 2017\n",
    "df.loc[filt, \"NHem\"] = 12.3\n",
    "df.tail()"
   ]
  },
  {
   "cell_type": "code",
   "execution_count": 89,
   "id": "6cce3f28-a2ed-411c-b982-13532967cbca",
   "metadata": {},
   "outputs": [
    {
     "data": {
      "text/html": [
       "<div>\n",
       "<style scoped>\n",
       "    .dataframe tbody tr th:only-of-type {\n",
       "        vertical-align: middle;\n",
       "    }\n",
       "\n",
       "    .dataframe tbody tr th {\n",
       "        vertical-align: top;\n",
       "    }\n",
       "\n",
       "    .dataframe thead th {\n",
       "        text-align: right;\n",
       "    }\n",
       "</style>\n",
       "<table border=\"1\" class=\"dataframe\">\n",
       "  <thead>\n",
       "    <tr style=\"text-align: right;\">\n",
       "      <th></th>\n",
       "      <th>Year</th>\n",
       "      <th>Glob</th>\n",
       "      <th>NHem</th>\n",
       "      <th>SHem</th>\n",
       "      <th>24N-90N</th>\n",
       "      <th>24S-24N</th>\n",
       "      <th>90S-24S</th>\n",
       "      <th>64N-90N</th>\n",
       "      <th>44N-64N</th>\n",
       "      <th>24N-44N</th>\n",
       "      <th>EQU-24N</th>\n",
       "      <th>24S-EQU</th>\n",
       "      <th>44S-24S</th>\n",
       "      <th>64S-44S</th>\n",
       "      <th>90S-64S</th>\n",
       "    </tr>\n",
       "  </thead>\n",
       "  <tbody>\n",
       "    <tr>\n",
       "      <th>136</th>\n",
       "      <td>2016</td>\n",
       "      <td>1.02</td>\n",
       "      <td>1.31</td>\n",
       "      <td>0.73</td>\n",
       "      <td>1.55</td>\n",
       "      <td>1.02</td>\n",
       "      <td>0.49</td>\n",
       "      <td>3.26</td>\n",
       "      <td>1.44</td>\n",
       "      <td>1.08</td>\n",
       "      <td>0.96</td>\n",
       "      <td>1.07</td>\n",
       "      <td>0.67</td>\n",
       "      <td>0.25</td>\n",
       "      <td>0.37</td>\n",
       "    </tr>\n",
       "    <tr>\n",
       "      <th>137</th>\n",
       "      <td>2017</td>\n",
       "      <td>0.93</td>\n",
       "      <td>1.18</td>\n",
       "      <td>0.67</td>\n",
       "      <td>1.40</td>\n",
       "      <td>0.82</td>\n",
       "      <td>0.59</td>\n",
       "      <td>2.54</td>\n",
       "      <td>1.38</td>\n",
       "      <td>1.05</td>\n",
       "      <td>0.87</td>\n",
       "      <td>0.78</td>\n",
       "      <td>0.76</td>\n",
       "      <td>0.34</td>\n",
       "      <td>0.52</td>\n",
       "    </tr>\n",
       "    <tr>\n",
       "      <th>138</th>\n",
       "      <td>2018</td>\n",
       "      <td>0.85</td>\n",
       "      <td>1.05</td>\n",
       "      <td>0.66</td>\n",
       "      <td>1.26</td>\n",
       "      <td>0.68</td>\n",
       "      <td>0.68</td>\n",
       "      <td>2.17</td>\n",
       "      <td>1.10</td>\n",
       "      <td>1.06</td>\n",
       "      <td>0.73</td>\n",
       "      <td>0.63</td>\n",
       "      <td>0.80</td>\n",
       "      <td>0.37</td>\n",
       "      <td>0.93</td>\n",
       "    </tr>\n",
       "    <tr>\n",
       "      <th>139</th>\n",
       "      <td>2019</td>\n",
       "      <td>0.99</td>\n",
       "      <td>1.22</td>\n",
       "      <td>0.75</td>\n",
       "      <td>1.43</td>\n",
       "      <td>0.91</td>\n",
       "      <td>0.65</td>\n",
       "      <td>2.72</td>\n",
       "      <td>1.44</td>\n",
       "      <td>1.01</td>\n",
       "      <td>0.91</td>\n",
       "      <td>0.90</td>\n",
       "      <td>0.75</td>\n",
       "      <td>0.39</td>\n",
       "      <td>0.85</td>\n",
       "    </tr>\n",
       "    <tr>\n",
       "      <th>140</th>\n",
       "      <td>2020</td>\n",
       "      <td>1.02</td>\n",
       "      <td>1.36</td>\n",
       "      <td>0.69</td>\n",
       "      <td>1.68</td>\n",
       "      <td>0.87</td>\n",
       "      <td>0.57</td>\n",
       "      <td>2.91</td>\n",
       "      <td>1.82</td>\n",
       "      <td>1.20</td>\n",
       "      <td>0.89</td>\n",
       "      <td>0.85</td>\n",
       "      <td>0.58</td>\n",
       "      <td>0.39</td>\n",
       "      <td>0.91</td>\n",
       "    </tr>\n",
       "  </tbody>\n",
       "</table>\n",
       "</div>"
      ],
      "text/plain": [
       "     Year  Glob  NHem  SHem  24N-90N  24S-24N  90S-24S  64N-90N  44N-64N  \\\n",
       "136  2016  1.02  1.31  0.73     1.55     1.02     0.49     3.26     1.44   \n",
       "137  2017  0.93  1.18  0.67     1.40     0.82     0.59     2.54     1.38   \n",
       "138  2018  0.85  1.05  0.66     1.26     0.68     0.68     2.17     1.10   \n",
       "139  2019  0.99  1.22  0.75     1.43     0.91     0.65     2.72     1.44   \n",
       "140  2020  1.02  1.36  0.69     1.68     0.87     0.57     2.91     1.82   \n",
       "\n",
       "     24N-44N  EQU-24N  24S-EQU  44S-24S  64S-44S  90S-64S  \n",
       "136     1.08     0.96     1.07     0.67     0.25     0.37  \n",
       "137     1.05     0.87     0.78     0.76     0.34     0.52  \n",
       "138     1.06     0.73     0.63     0.80     0.37     0.93  \n",
       "139     1.01     0.91     0.90     0.75     0.39     0.85  \n",
       "140     1.20     0.89     0.85     0.58     0.39     0.91  "
      ]
     },
     "execution_count": 89,
     "metadata": {},
     "output_type": "execute_result"
    }
   ],
   "source": [
    "df = pd.read_csv(\"data/ZonAnn.Ts+dSST.csv\")\n",
    "df.tail()"
   ]
  },
  {
   "cell_type": "markdown",
   "id": "1e2591f5-a703-463e-b902-a8d72106246b",
   "metadata": {
    "tags": [],
    "toc-hr-collapsed": true
   },
   "source": [
    "<a id='pd-aggregate'></a>\n",
    "## Aggregate"
   ]
  },
  {
   "cell_type": "markdown",
   "id": "6fe23e8c-6d85-4c92-8d83-8874adfe66e2",
   "metadata": {},
   "source": [
    "[Return to Start of Notebook](#pd)  "
   ]
  },
  {
   "cell_type": "markdown",
   "id": "01a881dd-c7ec-44ed-857d-7acae718f9db",
   "metadata": {},
   "source": [
    "### Series"
   ]
  },
  {
   "cell_type": "code",
   "execution_count": 90,
   "id": "2692df68-805b-4828-bec3-a1745b267630",
   "metadata": {},
   "outputs": [
    {
     "data": {
      "text/plain": [
       "1880"
      ]
     },
     "execution_count": 90,
     "metadata": {},
     "output_type": "execute_result"
    }
   ],
   "source": [
    "df[\"Year\"].min()"
   ]
  },
  {
   "cell_type": "code",
   "execution_count": 91,
   "id": "e5b20bc2-d5f2-4560-8245-fec19a37ac2a",
   "metadata": {},
   "outputs": [
    {
     "data": {
      "text/plain": [
       "2020"
      ]
     },
     "execution_count": 91,
     "metadata": {},
     "output_type": "execute_result"
    }
   ],
   "source": [
    "df[\"Year\"].max()"
   ]
  },
  {
   "cell_type": "code",
   "execution_count": 92,
   "id": "73efa36e-b9ca-418f-ac35-ca5105e65afc",
   "metadata": {},
   "outputs": [
    {
     "data": {
      "text/plain": [
       "0.05113475177304965"
      ]
     },
     "execution_count": 92,
     "metadata": {},
     "output_type": "execute_result"
    }
   ],
   "source": [
    "df[\"Glob\"].mean()"
   ]
  },
  {
   "cell_type": "markdown",
   "id": "6cdfc9f8-7c1f-47b8-a503-0555550680f7",
   "metadata": {},
   "source": [
    "### DataFrame"
   ]
  },
  {
   "cell_type": "code",
   "execution_count": 93,
   "id": "f80ff299-c3bf-413d-b673-6fa66d0ba638",
   "metadata": {},
   "outputs": [
    {
     "data": {
      "text/plain": [
       "Year       1950.000000\n",
       "Glob          0.051135\n",
       "NHem          0.077943\n",
       "SHem          0.026454\n",
       "24N-90N       0.099645\n",
       "              ...     \n",
       "EQU-24N       0.048582\n",
       "24S-EQU       0.074681\n",
       "44S-24S       0.034326\n",
       "64S-44S      -0.063759\n",
       "90S-64S      -0.083972\n",
       "Length: 15, dtype: float64"
      ]
     },
     "execution_count": 93,
     "metadata": {},
     "output_type": "execute_result"
    }
   ],
   "source": [
    "df.mean()"
   ]
  },
  {
   "cell_type": "markdown",
   "id": "27def777-2781-45d8-a2c2-7a9804e9534b",
   "metadata": {
    "tags": []
   },
   "source": [
    "<a id='pd-export'></a>\n",
    "## Export"
   ]
  },
  {
   "cell_type": "markdown",
   "id": "ea42e926-0d16-414e-abb6-d15b02387875",
   "metadata": {
    "tags": []
   },
   "source": [
    "[Return to Start of Notebook](#pd)  "
   ]
  },
  {
   "cell_type": "code",
   "execution_count": 94,
   "id": "62a6de02-5594-40d1-967e-e3f4ca0108c0",
   "metadata": {},
   "outputs": [],
   "source": [
    "df.to_csv(\"save/ZonAnn.Ts+dSST.csv\", index = False)"
   ]
  },
  {
   "cell_type": "markdown",
   "id": "b27f48b3-27c5-471e-9154-768a03c57ed9",
   "metadata": {
    "tags": []
   },
   "source": [
    "<a id='pd-exercise'></a>\n",
    "## Exercise"
   ]
  },
  {
   "cell_type": "markdown",
   "id": "749534a9-ef27-46e0-ab18-6099d3f9f659",
   "metadata": {
    "tags": []
   },
   "source": [
    "[Return to Start of Notebook](#pd)  "
   ]
  },
  {
   "cell_type": "markdown",
   "id": "8678cc12-395d-4dd9-9edc-825935fea2e4",
   "metadata": {},
   "source": [
    "### Part 1"
   ]
  },
  {
   "cell_type": "code",
   "execution_count": 95,
   "id": "5c47fcf7-eb88-4367-ae2b-38a2467150a3",
   "metadata": {},
   "outputs": [
    {
     "data": {
      "text/html": [
       "<div>\n",
       "<style scoped>\n",
       "    .dataframe tbody tr th:only-of-type {\n",
       "        vertical-align: middle;\n",
       "    }\n",
       "\n",
       "    .dataframe tbody tr th {\n",
       "        vertical-align: top;\n",
       "    }\n",
       "\n",
       "    .dataframe thead th {\n",
       "        text-align: right;\n",
       "    }\n",
       "</style>\n",
       "<table border=\"1\" class=\"dataframe\">\n",
       "  <thead>\n",
       "    <tr style=\"text-align: right;\">\n",
       "      <th></th>\n",
       "      <th>year</th>\n",
       "      <th>Ariel University</th>\n",
       "      <th>Weizmann Institute of Science</th>\n",
       "      <th>Ben-Gurion Univ. of the Negev</th>\n",
       "      <th>Haifa University</th>\n",
       "      <th>Bar-Ilan University</th>\n",
       "      <th>Tel-Aviv University</th>\n",
       "      <th>Technion</th>\n",
       "      <th>Hebrew University</th>\n",
       "    </tr>\n",
       "  </thead>\n",
       "  <tbody>\n",
       "    <tr>\n",
       "      <th>0</th>\n",
       "      <td>1969/70</td>\n",
       "      <td>NaN</td>\n",
       "      <td>419.0</td>\n",
       "      <td>1297</td>\n",
       "      <td>2794</td>\n",
       "      <td>4273</td>\n",
       "      <td>7958</td>\n",
       "      <td>6045</td>\n",
       "      <td>12588</td>\n",
       "    </tr>\n",
       "    <tr>\n",
       "      <th>1</th>\n",
       "      <td>1974/75</td>\n",
       "      <td>NaN</td>\n",
       "      <td>580.0</td>\n",
       "      <td>3247</td>\n",
       "      <td>4713</td>\n",
       "      <td>6527</td>\n",
       "      <td>12813</td>\n",
       "      <td>8453</td>\n",
       "      <td>13516</td>\n",
       "    </tr>\n",
       "    <tr>\n",
       "      <th>2</th>\n",
       "      <td>1979/80</td>\n",
       "      <td>NaN</td>\n",
       "      <td>490.0</td>\n",
       "      <td>4250</td>\n",
       "      <td>6140</td>\n",
       "      <td>8070</td>\n",
       "      <td>14380</td>\n",
       "      <td>7580</td>\n",
       "      <td>13570</td>\n",
       "    </tr>\n",
       "  </tbody>\n",
       "</table>\n",
       "</div>"
      ],
      "text/plain": [
       "      year  Ariel University  Weizmann Institute of Science  \\\n",
       "0  1969/70               NaN                          419.0   \n",
       "1  1974/75               NaN                          580.0   \n",
       "2  1979/80               NaN                          490.0   \n",
       "\n",
       "   Ben-Gurion Univ. of the Negev  Haifa University  Bar-Ilan University  \\\n",
       "0                           1297              2794                 4273   \n",
       "1                           3247              4713                 6527   \n",
       "2                           4250              6140                 8070   \n",
       "\n",
       "   Tel-Aviv University  Technion  Hebrew University  \n",
       "0                 7958      6045              12588  \n",
       "1                12813      8453              13516  \n",
       "2                14380      7580              13570  "
      ]
     },
     "execution_count": 95,
     "metadata": {},
     "output_type": "execute_result"
    }
   ],
   "source": [
    "students = pd.read_csv(\"data/students.csv\")\n",
    "students.head(3)"
   ]
  },
  {
   "cell_type": "code",
   "execution_count": 96,
   "id": "77fed14d-75b3-41e1-a965-0fcdfa9a0540",
   "metadata": {},
   "outputs": [
    {
     "data": {
      "text/plain": [
       "543615"
      ]
     },
     "execution_count": 96,
     "metadata": {},
     "output_type": "execute_result"
    }
   ],
   "source": [
    "students[\"Ben-Gurion Univ. of the Negev\"].sum()"
   ]
  },
  {
   "cell_type": "code",
   "execution_count": 97,
   "id": "d83d9f9e-5d63-4820-86c4-0eff4f07ab7b",
   "metadata": {},
   "outputs": [
    {
     "data": {
      "text/plain": [
       "46633.0"
      ]
     },
     "execution_count": 97,
     "metadata": {},
     "output_type": "execute_result"
    }
   ],
   "source": [
    "students[\"Ariel University\"].sum()"
   ]
  },
  {
   "cell_type": "code",
   "execution_count": 98,
   "id": "cae34b1d-e416-4869-bd4b-70813401c696",
   "metadata": {},
   "outputs": [
    {
     "data": {
      "text/html": [
       "<div>\n",
       "<style scoped>\n",
       "    .dataframe tbody tr th:only-of-type {\n",
       "        vertical-align: middle;\n",
       "    }\n",
       "\n",
       "    .dataframe tbody tr th {\n",
       "        vertical-align: top;\n",
       "    }\n",
       "\n",
       "    .dataframe thead th {\n",
       "        text-align: right;\n",
       "    }\n",
       "</style>\n",
       "<table border=\"1\" class=\"dataframe\">\n",
       "  <thead>\n",
       "    <tr style=\"text-align: right;\">\n",
       "      <th></th>\n",
       "      <th>year</th>\n",
       "      <th>Ariel University</th>\n",
       "      <th>Weizmann Institute of Science</th>\n",
       "      <th>Ben-Gurion Univ. of the Negev</th>\n",
       "      <th>Haifa University</th>\n",
       "      <th>Bar-Ilan University</th>\n",
       "      <th>Tel-Aviv University</th>\n",
       "      <th>Technion</th>\n",
       "      <th>Hebrew University</th>\n",
       "    </tr>\n",
       "  </thead>\n",
       "  <tbody>\n",
       "    <tr>\n",
       "      <th>0</th>\n",
       "      <td>1970</td>\n",
       "      <td>NaN</td>\n",
       "      <td>419.0</td>\n",
       "      <td>1297</td>\n",
       "      <td>2794</td>\n",
       "      <td>4273</td>\n",
       "      <td>7958</td>\n",
       "      <td>6045</td>\n",
       "      <td>12588</td>\n",
       "    </tr>\n",
       "    <tr>\n",
       "      <th>1</th>\n",
       "      <td>1975</td>\n",
       "      <td>NaN</td>\n",
       "      <td>580.0</td>\n",
       "      <td>3247</td>\n",
       "      <td>4713</td>\n",
       "      <td>6527</td>\n",
       "      <td>12813</td>\n",
       "      <td>8453</td>\n",
       "      <td>13516</td>\n",
       "    </tr>\n",
       "    <tr>\n",
       "      <th>2</th>\n",
       "      <td>1980</td>\n",
       "      <td>NaN</td>\n",
       "      <td>490.0</td>\n",
       "      <td>4250</td>\n",
       "      <td>6140</td>\n",
       "      <td>8070</td>\n",
       "      <td>14380</td>\n",
       "      <td>7580</td>\n",
       "      <td>13570</td>\n",
       "    </tr>\n",
       "  </tbody>\n",
       "</table>\n",
       "</div>"
      ],
      "text/plain": [
       "   year  Ariel University  Weizmann Institute of Science  \\\n",
       "0  1970               NaN                          419.0   \n",
       "1  1975               NaN                          580.0   \n",
       "2  1980               NaN                          490.0   \n",
       "\n",
       "   Ben-Gurion Univ. of the Negev  Haifa University  Bar-Ilan University  \\\n",
       "0                           1297              2794                 4273   \n",
       "1                           3247              4713                 6527   \n",
       "2                           4250              6140                 8070   \n",
       "\n",
       "   Tel-Aviv University  Technion  Hebrew University  \n",
       "0                 7958      6045              12588  \n",
       "1                12813      8453              13516  \n",
       "2                14380      7580              13570  "
      ]
     },
     "execution_count": 98,
     "metadata": {},
     "output_type": "execute_result"
    }
   ],
   "source": [
    "students[\"year\"] = pd.to_numeric(students[\"year\"].str.split(\"/\").str[0]) + 1\n",
    "students.head(3)"
   ]
  },
  {
   "cell_type": "code",
   "execution_count": 99,
   "id": "cc885dbe-6522-43b3-bdb7-a237c05425b0",
   "metadata": {},
   "outputs": [
    {
     "data": {
      "text/plain": [
       "[1970, 2020]"
      ]
     },
     "execution_count": 99,
     "metadata": {},
     "output_type": "execute_result"
    }
   ],
   "source": [
    "list([students[\"year\"].min(),students[\"year\"].max()])"
   ]
  },
  {
   "cell_type": "code",
   "execution_count": 100,
   "id": "c17017d3-6bdf-48b9-b58a-870d30ae3728",
   "metadata": {},
   "outputs": [
    {
     "data": {
      "text/plain": [
       "2011"
      ]
     },
     "execution_count": 100,
     "metadata": {},
     "output_type": "execute_result"
    }
   ],
   "source": [
    "max_idx = students[\"Ben-Gurion Univ. of the Negev\"].idxmax()\n",
    "students['year'].iloc[max_idx]"
   ]
  },
  {
   "cell_type": "code",
   "execution_count": 101,
   "id": "cfc7764e-f234-4ccb-8253-2f2d274c507c",
   "metadata": {},
   "outputs": [
    {
     "data": {
      "text/plain": [
       "2020"
      ]
     },
     "execution_count": 101,
     "metadata": {},
     "output_type": "execute_result"
    }
   ],
   "source": [
    "max_idx = students[\"Weizmann Institute of Science\"].idxmax()\n",
    "students['year'].iloc[max_idx]"
   ]
  },
  {
   "cell_type": "markdown",
   "id": "cf1c86ed-1f70-43bf-94b3-2ac0513a92d3",
   "metadata": {},
   "source": [
    "### Part 2"
   ]
  },
  {
   "cell_type": "markdown",
   "id": "18be185e-2f22-48a7-bb7e-b2392e42ed63",
   "metadata": {},
   "source": [
    "#### import"
   ]
  },
  {
   "cell_type": "code",
   "execution_count": 102,
   "id": "592910c1-0efd-4b4e-8c20-3d11314c8470",
   "metadata": {},
   "outputs": [
    {
     "data": {
      "text/html": [
       "<div>\n",
       "<style scoped>\n",
       "    .dataframe tbody tr th:only-of-type {\n",
       "        vertical-align: middle;\n",
       "    }\n",
       "\n",
       "    .dataframe tbody tr th {\n",
       "        vertical-align: top;\n",
       "    }\n",
       "\n",
       "    .dataframe thead th {\n",
       "        text-align: right;\n",
       "    }\n",
       "</style>\n",
       "<table border=\"1\" class=\"dataframe\">\n",
       "  <thead>\n",
       "    <tr style=\"text-align: right;\">\n",
       "      <th></th>\n",
       "      <th>Survey_Date</th>\n",
       "      <th>Kinneret_Level</th>\n",
       "    </tr>\n",
       "  </thead>\n",
       "  <tbody>\n",
       "    <tr>\n",
       "      <th>0</th>\n",
       "      <td>17/6/2021</td>\n",
       "      <td>-209.49</td>\n",
       "    </tr>\n",
       "  </tbody>\n",
       "</table>\n",
       "</div>"
      ],
      "text/plain": [
       "  Survey_Date  Kinneret_Level\n",
       "0   17/6/2021         -209.49"
      ]
     },
     "execution_count": 102,
     "metadata": {},
     "output_type": "execute_result"
    }
   ],
   "source": [
    "kinneret = pd.read_csv(\"data/kinneret_level.csv\")\n",
    "kinneret.head(1)"
   ]
  },
  {
   "cell_type": "markdown",
   "id": "168836f1-1b58-4713-a727-5595388ba9be",
   "metadata": {},
   "source": [
    "#### .info"
   ]
  },
  {
   "cell_type": "code",
   "execution_count": 103,
   "id": "dc9c3177-6efc-4e57-8091-9ed30c5225c8",
   "metadata": {},
   "outputs": [
    {
     "name": "stdout",
     "output_type": "stream",
     "text": [
      "<class 'pandas.core.frame.DataFrame'>\n",
      "RangeIndex: 9498 entries, 0 to 9497\n",
      "Data columns (total 2 columns):\n",
      " #   Column          Non-Null Count  Dtype  \n",
      "---  ------          --------------  -----  \n",
      " 0   Survey_Date     9498 non-null   object \n",
      " 1   Kinneret_Level  9498 non-null   float64\n",
      "dtypes: float64(1), object(1)\n",
      "memory usage: 148.5+ KB\n"
     ]
    }
   ],
   "source": [
    "kinneret.info()"
   ]
  },
  {
   "cell_type": "markdown",
   "id": "41477a7b-6726-4ab4-ac8a-c6fc776f7c20",
   "metadata": {},
   "source": [
    "#### rename"
   ]
  },
  {
   "cell_type": "code",
   "execution_count": 104,
   "id": "4d55fc38-7ccf-4ded-a822-b66347ad0b05",
   "metadata": {},
   "outputs": [
    {
     "data": {
      "text/html": [
       "<div>\n",
       "<style scoped>\n",
       "    .dataframe tbody tr th:only-of-type {\n",
       "        vertical-align: middle;\n",
       "    }\n",
       "\n",
       "    .dataframe tbody tr th {\n",
       "        vertical-align: top;\n",
       "    }\n",
       "\n",
       "    .dataframe thead th {\n",
       "        text-align: right;\n",
       "    }\n",
       "</style>\n",
       "<table border=\"1\" class=\"dataframe\">\n",
       "  <thead>\n",
       "    <tr style=\"text-align: right;\">\n",
       "      <th></th>\n",
       "      <th>date</th>\n",
       "      <th>value</th>\n",
       "    </tr>\n",
       "  </thead>\n",
       "  <tbody>\n",
       "    <tr>\n",
       "      <th>0</th>\n",
       "      <td>17/6/2021</td>\n",
       "      <td>-209.49</td>\n",
       "    </tr>\n",
       "  </tbody>\n",
       "</table>\n",
       "</div>"
      ],
      "text/plain": [
       "        date   value\n",
       "0  17/6/2021 -209.49"
      ]
     },
     "execution_count": 104,
     "metadata": {},
     "output_type": "execute_result"
    }
   ],
   "source": [
    "cols = {\"Survey_Date\": \"date\",\n",
    "        \"Kinneret_Level\": \"value\"}\n",
    "kinneret.rename(columns = cols, inplace=True)\n",
    "kinneret.head(1)"
   ]
  },
  {
   "cell_type": "markdown",
   "id": "01e15e6f-e6fe-4aec-a65f-f3a1c684bcb1",
   "metadata": {},
   "source": [
    "#### pd.to_datetime()"
   ]
  },
  {
   "cell_type": "code",
   "execution_count": 105,
   "id": "8aca08e3-91c6-49fa-b50b-0a53956d5521",
   "metadata": {},
   "outputs": [
    {
     "data": {
      "text/html": [
       "<div>\n",
       "<style scoped>\n",
       "    .dataframe tbody tr th:only-of-type {\n",
       "        vertical-align: middle;\n",
       "    }\n",
       "\n",
       "    .dataframe tbody tr th {\n",
       "        vertical-align: top;\n",
       "    }\n",
       "\n",
       "    .dataframe thead th {\n",
       "        text-align: right;\n",
       "    }\n",
       "</style>\n",
       "<table border=\"1\" class=\"dataframe\">\n",
       "  <thead>\n",
       "    <tr style=\"text-align: right;\">\n",
       "      <th></th>\n",
       "      <th>date</th>\n",
       "      <th>value</th>\n",
       "    </tr>\n",
       "  </thead>\n",
       "  <tbody>\n",
       "    <tr>\n",
       "      <th>0</th>\n",
       "      <td>2021-06-17</td>\n",
       "      <td>-209.49</td>\n",
       "    </tr>\n",
       "  </tbody>\n",
       "</table>\n",
       "</div>"
      ],
      "text/plain": [
       "        date   value\n",
       "0 2021-06-17 -209.49"
      ]
     },
     "execution_count": 105,
     "metadata": {},
     "output_type": "execute_result"
    }
   ],
   "source": [
    "kinneret[\"date\"] = pd.to_datetime(kinneret[\"date\"])\n",
    "kinneret.head(1)"
   ]
  },
  {
   "cell_type": "markdown",
   "id": "732da200-5e25-4d0a-b8be-99773b93c73c",
   "metadata": {},
   "source": [
    "#### .set_index()"
   ]
  },
  {
   "cell_type": "code",
   "execution_count": 106,
   "id": "c52ebf80-69a0-465c-8eb3-1da6145537f6",
   "metadata": {},
   "outputs": [
    {
     "data": {
      "text/html": [
       "<div>\n",
       "<style scoped>\n",
       "    .dataframe tbody tr th:only-of-type {\n",
       "        vertical-align: middle;\n",
       "    }\n",
       "\n",
       "    .dataframe tbody tr th {\n",
       "        vertical-align: top;\n",
       "    }\n",
       "\n",
       "    .dataframe thead th {\n",
       "        text-align: right;\n",
       "    }\n",
       "</style>\n",
       "<table border=\"1\" class=\"dataframe\">\n",
       "  <thead>\n",
       "    <tr style=\"text-align: right;\">\n",
       "      <th></th>\n",
       "      <th>value</th>\n",
       "    </tr>\n",
       "    <tr>\n",
       "      <th>date</th>\n",
       "      <th></th>\n",
       "    </tr>\n",
       "  </thead>\n",
       "  <tbody>\n",
       "    <tr>\n",
       "      <th>2021-06-17</th>\n",
       "      <td>-209.49</td>\n",
       "    </tr>\n",
       "  </tbody>\n",
       "</table>\n",
       "</div>"
      ],
      "text/plain": [
       "             value\n",
       "date              \n",
       "2021-06-17 -209.49"
      ]
     },
     "execution_count": 106,
     "metadata": {},
     "output_type": "execute_result"
    }
   ],
   "source": [
    "kinneret = kinneret.set_index(\"date\")\n",
    "kinneret.head(1)"
   ]
  },
  {
   "cell_type": "markdown",
   "id": "59780918-827e-42f1-b7c1-b703a35f2871",
   "metadata": {},
   "source": [
    "#### pd.date_range()  \n",
    "create range of all dates "
   ]
  },
  {
   "cell_type": "code",
   "execution_count": 107,
   "id": "54ff648d-4e0d-416e-bc78-95d67bf6a9cf",
   "metadata": {},
   "outputs": [
    {
     "data": {
      "text/plain": [
       "20421"
      ]
     },
     "execution_count": 107,
     "metadata": {},
     "output_type": "execute_result"
    }
   ],
   "source": [
    "dates = pd.date_range(kinneret.index.min(), kinneret.index.max())\n",
    "len(dates)"
   ]
  },
  {
   "cell_type": "markdown",
   "id": "f9577836-6fb2-42ee-ac72-b19bafc3c852",
   "metadata": {},
   "source": [
    "#### .reindex  \n",
    "add missing dates"
   ]
  },
  {
   "cell_type": "code",
   "execution_count": 108,
   "id": "f9616edc-dbcf-4622-8554-bb822bfc55b5",
   "metadata": {},
   "outputs": [
    {
     "data": {
      "text/html": [
       "<div>\n",
       "<style scoped>\n",
       "    .dataframe tbody tr th:only-of-type {\n",
       "        vertical-align: middle;\n",
       "    }\n",
       "\n",
       "    .dataframe tbody tr th {\n",
       "        vertical-align: top;\n",
       "    }\n",
       "\n",
       "    .dataframe thead th {\n",
       "        text-align: right;\n",
       "    }\n",
       "</style>\n",
       "<table border=\"1\" class=\"dataframe\">\n",
       "  <thead>\n",
       "    <tr style=\"text-align: right;\">\n",
       "      <th></th>\n",
       "      <th>value</th>\n",
       "    </tr>\n",
       "  </thead>\n",
       "  <tbody>\n",
       "    <tr>\n",
       "      <th>1966-01-09</th>\n",
       "      <td>-210.02</td>\n",
       "    </tr>\n",
       "    <tr>\n",
       "      <th>1966-01-10</th>\n",
       "      <td>-210.27</td>\n",
       "    </tr>\n",
       "    <tr>\n",
       "      <th>1966-01-11</th>\n",
       "      <td>-210.39</td>\n",
       "    </tr>\n",
       "    <tr>\n",
       "      <th>1966-01-12</th>\n",
       "      <td>-210.52</td>\n",
       "    </tr>\n",
       "    <tr>\n",
       "      <th>1966-01-13</th>\n",
       "      <td>NaN</td>\n",
       "    </tr>\n",
       "  </tbody>\n",
       "</table>\n",
       "</div>"
      ],
      "text/plain": [
       "             value\n",
       "1966-01-09 -210.02\n",
       "1966-01-10 -210.27\n",
       "1966-01-11 -210.39\n",
       "1966-01-12 -210.52\n",
       "1966-01-13     NaN"
      ]
     },
     "execution_count": 108,
     "metadata": {},
     "output_type": "execute_result"
    }
   ],
   "source": [
    "kinneret = kinneret.reindex(dates, fill_value = np.nan)\n",
    "kinneret.head()"
   ]
  },
  {
   "cell_type": "code",
   "execution_count": 109,
   "id": "1d9f71e9-e984-42a9-85f7-abe5d263b793",
   "metadata": {},
   "outputs": [
    {
     "data": {
      "text/plain": [
       "<AxesSubplot:>"
      ]
     },
     "execution_count": 109,
     "metadata": {},
     "output_type": "execute_result"
    },
    {
     "data": {
      "image/png": "[encoded data removed]",
      "text/plain": [
       "<Figure size 432x288 with 1 Axes>"
      ]
     },
     "metadata": {
      "needs_background": "light"
     },
     "output_type": "display_data"
    }
   ],
   "source": [
    "kinneret.plot()"
   ]
  },
  {
   "cell_type": "code",
   "execution_count": 110,
   "id": "a30623e4-962e-40b1-91e0-810aad9390f0",
   "metadata": {},
   "outputs": [
    {
     "data": {
      "text/plain": [
       "0.5348905538416336"
      ]
     },
     "execution_count": 110,
     "metadata": {},
     "output_type": "execute_result"
    }
   ],
   "source": [
    "kinneret['value'].isna().mean()"
   ]
  },
  {
   "cell_type": "code",
   "execution_count": 111,
   "id": "27d6cdcc-9001-4c86-906d-239f6f43c5eb",
   "metadata": {},
   "outputs": [],
   "source": [
    "min_value = kinneret['value'].min()"
   ]
  },
  {
   "cell_type": "code",
   "execution_count": 112,
   "id": "031f50f1-5cc3-459c-ab46-439cb0dc8817",
   "metadata": {},
   "outputs": [
    {
     "data": {
      "text/html": [
       "<div>\n",
       "<style scoped>\n",
       "    .dataframe tbody tr th:only-of-type {\n",
       "        vertical-align: middle;\n",
       "    }\n",
       "\n",
       "    .dataframe tbody tr th {\n",
       "        vertical-align: top;\n",
       "    }\n",
       "\n",
       "    .dataframe thead th {\n",
       "        text-align: right;\n",
       "    }\n",
       "</style>\n",
       "<table border=\"1\" class=\"dataframe\">\n",
       "  <thead>\n",
       "    <tr style=\"text-align: right;\">\n",
       "      <th></th>\n",
       "      <th>value</th>\n",
       "    </tr>\n",
       "  </thead>\n",
       "  <tbody>\n",
       "    <tr>\n",
       "      <th>2001-11-25</th>\n",
       "      <td>-214.87</td>\n",
       "    </tr>\n",
       "    <tr>\n",
       "      <th>2001-11-26</th>\n",
       "      <td>-214.87</td>\n",
       "    </tr>\n",
       "    <tr>\n",
       "      <th>2001-11-27</th>\n",
       "      <td>-214.87</td>\n",
       "    </tr>\n",
       "    <tr>\n",
       "      <th>2001-11-28</th>\n",
       "      <td>-214.87</td>\n",
       "    </tr>\n",
       "    <tr>\n",
       "      <th>2001-11-29</th>\n",
       "      <td>-214.87</td>\n",
       "    </tr>\n",
       "  </tbody>\n",
       "</table>\n",
       "</div>"
      ],
      "text/plain": [
       "             value\n",
       "2001-11-25 -214.87\n",
       "2001-11-26 -214.87\n",
       "2001-11-27 -214.87\n",
       "2001-11-28 -214.87\n",
       "2001-11-29 -214.87"
      ]
     },
     "execution_count": 112,
     "metadata": {},
     "output_type": "execute_result"
    }
   ],
   "source": [
    "filt = kinneret['value'] == min_value\n",
    "kinneret[filt]"
   ]
  },
  {
   "cell_type": "code",
   "execution_count": 113,
   "id": "3fc67b3f-af2f-485d-8155-0dd0b68dcafe",
   "metadata": {},
   "outputs": [],
   "source": [
    "max_value = kinneret['value'].max()"
   ]
  },
  {
   "cell_type": "code",
   "execution_count": 114,
   "id": "d47f6b62-ca16-4dc9-96a1-b37342eb4a13",
   "metadata": {},
   "outputs": [
    {
     "data": {
      "text/html": [
       "<div>\n",
       "<style scoped>\n",
       "    .dataframe tbody tr th:only-of-type {\n",
       "        vertical-align: middle;\n",
       "    }\n",
       "\n",
       "    .dataframe tbody tr th {\n",
       "        vertical-align: top;\n",
       "    }\n",
       "\n",
       "    .dataframe thead th {\n",
       "        text-align: right;\n",
       "    }\n",
       "</style>\n",
       "<table border=\"1\" class=\"dataframe\">\n",
       "  <thead>\n",
       "    <tr style=\"text-align: right;\">\n",
       "      <th></th>\n",
       "      <th>value</th>\n",
       "    </tr>\n",
       "  </thead>\n",
       "  <tbody>\n",
       "    <tr>\n",
       "      <th>1969-01-27</th>\n",
       "      <td>-208.2</td>\n",
       "    </tr>\n",
       "  </tbody>\n",
       "</table>\n",
       "</div>"
      ],
      "text/plain": [
       "            value\n",
       "1969-01-27 -208.2"
      ]
     },
     "execution_count": 114,
     "metadata": {},
     "output_type": "execute_result"
    }
   ],
   "source": [
    "filt = kinneret['value'] == max_value\n",
    "kinneret[filt]"
   ]
  },
  {
   "cell_type": "code",
   "execution_count": null,
   "id": "3e1984dd-280d-48a4-8a1e-c87513023c9c",
   "metadata": {},
   "outputs": [],
   "source": []
  }
 ],
 "metadata": {
  "interpreter": {
   "hash": "a242e183465bb9023de0138d2b64ba329c59b510ac4eb42cc190969549979312"
  },
  "kernelspec": {
   "display_name": "Python 3 (ipykernel)",
   "language": "python",
   "name": "python3"
  },
  "language_info": {
   "codemirror_mode": {
    "name": "ipython",
    "version": 3
   },
   "file_extension": ".py",
   "mimetype": "text/x-python",
   "name": "python",
   "nbconvert_exporter": "python",
   "pygments_lexer": "ipython3",
   "version": "3.8.12"
  },
  "toc-autonumbering": false
 },
 "nbformat": 4,
 "nbformat_minor": 5
}
