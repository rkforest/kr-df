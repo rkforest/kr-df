{
 "cells": [
  {
   "cell_type": "markdown",
   "id": "8fb82884",
   "metadata": {
    "tags": []
   },
   "source": [
    "<a id='pd'></a>  \n",
    "# Pandas DataFrames"
   ]
  },
  {
   "cell_type": "markdown",
   "id": "215b13d7-ee8d-4f84-a587-6492a30ec027",
   "metadata": {},
   "source": [
    "## Key points  \n",
    "- read_csv:  \n",
    "  - sep=\n",
    "  - skiprows=n  \n",
    "  - skiprows=[n]  \n",
    "  - usecols=  \n",
    "  - index_col=  \n",
    "  - parse_dates=[]  \n",
    "  - na_values=[]  \n",
    "- df[ ].plot()  \n",
    "- .round(x).astype(int)  \n",
    "- .sort_values(by=  \n",
    "- .dropna(subset=[])  \n",
    "- .to_csv(file_path,  \n",
    "  - sep=   \n",
    "  - index=False  \n",
    "  - float_format=\"%.1f\"  \n",
    "- df[col].agg(['mean','min','max']).T  \n",
    "- integer date column to string:  \n",
    "  - df['YEARMMDD']=df['YR--MODAHRMN'].astype(str).str[0:8]  \n",
    "  - stats = df.groupby(['YEARMMDD'])['Celsius'].agg(['count','mean','min','max'])  \n",
    "- .resample  \n",
    "  - df with date index:  \n",
    "    - stats= df['Celsius'].resample('D').agg(['count','mean','min','max'])  "
   ]
  },
  {
   "cell_type": "markdown",
   "id": "39c3b93f-bfc4-4987-87d5-cb0d4a887569",
   "metadata": {},
   "source": [
    "[Create](#pd-create)  \n",
    "[Import](#pd-import)  \n",
    "[Attributes](#pd-attributes)   \n",
    "[Aggregate](#pd-aggregate)    \n",
    "[Select](#pd-select)  \n",
    "[Plot](#pd-plot)  \n",
    "[Transform](#pd-transform)  \n",
    "[Filter](#pd-filter)  \n",
    "[Missing Values](#pd-missing)  \n",
    "[Export](#pd-export)  \n",
    "[Exercise](#pd-exercise) "
   ]
  },
  {
   "cell_type": "markdown",
   "id": "8a6db74b-dfcc-42e0-b94a-041d1774cc7b",
   "metadata": {},
   "source": [
    "## Libraries"
   ]
  },
  {
   "cell_type": "code",
   "execution_count": 1,
   "id": "hungarian-longer",
   "metadata": {
    "tags": []
   },
   "outputs": [],
   "source": [
    "import os\n",
    "import numpy as np\n",
    "import pandas as pd\n",
    "import matplotlib.pyplot as plt"
   ]
  },
  {
   "cell_type": "raw",
   "id": "a8bce812-ddd7-4384-94ce-f7e2e5429456",
   "metadata": {},
   "source": [
    "pd.__version__"
   ]
  },
  {
   "cell_type": "markdown",
   "id": "a009f371-7a1d-4379-8854-9125a54847a6",
   "metadata": {
    "tags": []
   },
   "source": [
    "## Parameters"
   ]
  },
  {
   "cell_type": "code",
   "execution_count": 2,
   "id": "3318484e-1b4b-4049-a9b4-b0f6da94190b",
   "metadata": {},
   "outputs": [],
   "source": [
    "# shows result of cell without needing print\n",
    "from IPython.core.interactiveshell import InteractiveShell\n",
    "InteractiveShell.ast_node_interactivity = \"last_expr_or_assign\""
   ]
  },
  {
   "cell_type": "code",
   "execution_count": 3,
   "id": "8000dfbb-350e-4859-8311-abebe0a7dfdb",
   "metadata": {},
   "outputs": [],
   "source": [
    "pd.set_option('display.max_rows',8)\n",
    "#defaults: pd.set_option('display.max_columns',20,'display.max_rows',60,'display.max_colwidth',50)"
   ]
  },
  {
   "cell_type": "markdown",
   "id": "57a732de",
   "metadata": {
    "tags": []
   },
   "source": [
    "## Directories"
   ]
  },
  {
   "cell_type": "code",
   "execution_count": 4,
   "id": "c7b2df80-6d08-4601-ae78-7aaf6ecc302a",
   "metadata": {
    "tags": []
   },
   "outputs": [
    {
     "data": {
      "text/plain": [
       "'/Users/forest/eda/gpy'"
      ]
     },
     "execution_count": 4,
     "metadata": {},
     "output_type": "execute_result"
    }
   ],
   "source": [
    "home_dir = home_dir = os.path.expanduser(\"~\")\n",
    "work_dir = os.path.join(home_dir, 'eda', 'gpy')\n",
    "data_dir = os.path.join(work_dir,'data') \n",
    "save_dir = os.path.join(work_dir,'save') \n",
    "os.chdir(work_dir)\n",
    "os.getcwd()"
   ]
  },
  {
   "cell_type": "markdown",
   "id": "b6f1f7ba-cf30-4ed0-8d46-a40a43461e55",
   "metadata": {
    "tags": [],
    "toc-hr-collapsed": true
   },
   "source": [
    "<a id='pd-create'></a>\n",
    "## Create"
   ]
  },
  {
   "cell_type": "markdown",
   "id": "786e40c3-a6b9-4b39-9d2f-fdb06e0a93a4",
   "metadata": {},
   "source": [
    "[Return to Start of Notebook](#pd)  "
   ]
  },
  {
   "cell_type": "markdown",
   "id": "bac2219d-a41f-49c4-9f0d-3f1b5b22794c",
   "metadata": {},
   "source": [
    "### series from list"
   ]
  },
  {
   "cell_type": "markdown",
   "id": "e056d76b-5848-471a-bcb7-6ade782181d1",
   "metadata": {},
   "source": [
    "#### pd.Series()"
   ]
  },
  {
   "cell_type": "code",
   "execution_count": 5,
   "id": "b5e06b49-fa6b-4be2-89b7-6e7126f81aab",
   "metadata": {},
   "outputs": [
    {
     "data": {
      "text/plain": [
       "0    4.0\n",
       "1    5.0\n",
       "2    6.0\n",
       "3    7.0\n",
       "dtype: float64"
      ]
     },
     "execution_count": 5,
     "metadata": {},
     "output_type": "execute_result"
    }
   ],
   "source": [
    "a_values = [4, 5, 6, 7.0]\n",
    "a_series = pd.Series(a_values)"
   ]
  },
  {
   "cell_type": "markdown",
   "id": "0c23b952-0381-400b-8e5e-2adba40f133a",
   "metadata": {},
   "source": [
    "#### with index"
   ]
  },
  {
   "cell_type": "code",
   "execution_count": 6,
   "id": "8e995234-ec63-45c7-907e-e29fe6d64082",
   "metadata": {},
   "outputs": [
    {
     "name": "stdout",
     "output_type": "stream",
     "text": [
      "a    4.0\n",
      "b    5.0\n",
      "c    6.0\n",
      "d    7.0\n",
      "dtype: float64\n"
     ]
    }
   ],
   "source": [
    "a_index = [\"a\", \"b\", \"c\", \"d\"]\n",
    "a_series = pd.Series(a_values, index=a_index)\n",
    "print(a_series)"
   ]
  },
  {
   "cell_type": "code",
   "execution_count": 7,
   "id": "82c73b7c-8dd7-479a-a72e-ae8971bd1464",
   "metadata": {},
   "outputs": [
    {
     "data": {
      "text/plain": [
       "pandas.core.series.Series"
      ]
     },
     "execution_count": 7,
     "metadata": {},
     "output_type": "execute_result"
    }
   ],
   "source": [
    "type(a_series)"
   ]
  },
  {
   "cell_type": "markdown",
   "id": "f3eb9a3e-0bee-42b8-9bd1-e65549ef66f3",
   "metadata": {},
   "source": [
    "### dataframe from lists"
   ]
  },
  {
   "cell_type": "code",
   "execution_count": 8,
   "id": "112ac3cd-8dcf-42dc-9405-1935380ba2d6",
   "metadata": {},
   "outputs": [],
   "source": [
    "# Station names\n",
    "stations = [\n",
    "    \"Hanko Russarö\",\n",
    "    \"Heinola Asemantaus\",\n",
    "    \"Helsinki Kaisaniemi\",\n",
    "    \"Helsinki Malmi airfield\",\n",
    "]\n",
    "\n",
    "# Latitude coordinates of Weather stations\n",
    "lats = [59.77, 61.2, 60.18, 60.25]\n",
    "\n",
    "# Longitude coordinates of Weather stations\n",
    "lons = [22.95, 26.05, 24.94, 25.05];"
   ]
  },
  {
   "cell_type": "markdown",
   "id": "61f7f916-46a9-4720-8684-35e995cf0206",
   "metadata": {},
   "source": [
    "#### pd.DataFrame"
   ]
  },
  {
   "cell_type": "code",
   "execution_count": 9,
   "id": "377769df-481a-44d9-81f9-dffaa451b025",
   "metadata": {},
   "outputs": [
    {
     "data": {
      "text/html": [
       "<div>\n",
       "<style scoped>\n",
       "    .dataframe tbody tr th:only-of-type {\n",
       "        vertical-align: middle;\n",
       "    }\n",
       "\n",
       "    .dataframe tbody tr th {\n",
       "        vertical-align: top;\n",
       "    }\n",
       "\n",
       "    .dataframe thead th {\n",
       "        text-align: right;\n",
       "    }\n",
       "</style>\n",
       "<table border=\"1\" class=\"dataframe\">\n",
       "  <thead>\n",
       "    <tr style=\"text-align: right;\">\n",
       "      <th></th>\n",
       "      <th>station_name</th>\n",
       "      <th>lat</th>\n",
       "      <th>lon</th>\n",
       "    </tr>\n",
       "  </thead>\n",
       "  <tbody>\n",
       "    <tr>\n",
       "      <th>0</th>\n",
       "      <td>Hanko Russarö</td>\n",
       "      <td>59.77</td>\n",
       "      <td>22.95</td>\n",
       "    </tr>\n",
       "    <tr>\n",
       "      <th>1</th>\n",
       "      <td>Heinola Asemantaus</td>\n",
       "      <td>61.20</td>\n",
       "      <td>26.05</td>\n",
       "    </tr>\n",
       "    <tr>\n",
       "      <th>2</th>\n",
       "      <td>Helsinki Kaisaniemi</td>\n",
       "      <td>60.18</td>\n",
       "      <td>24.94</td>\n",
       "    </tr>\n",
       "    <tr>\n",
       "      <th>3</th>\n",
       "      <td>Helsinki Malmi airfield</td>\n",
       "      <td>60.25</td>\n",
       "      <td>25.05</td>\n",
       "    </tr>\n",
       "  </tbody>\n",
       "</table>\n",
       "</div>"
      ],
      "text/plain": [
       "              station_name    lat    lon\n",
       "0            Hanko Russarö  59.77  22.95\n",
       "1       Heinola Asemantaus  61.20  26.05\n",
       "2      Helsinki Kaisaniemi  60.18  24.94\n",
       "3  Helsinki Malmi airfield  60.25  25.05"
      ]
     },
     "execution_count": 9,
     "metadata": {},
     "output_type": "execute_result"
    }
   ],
   "source": [
    "new_data = pd.DataFrame(data={\"station_name\": stations,\n",
    "                              \"lat\": lats,\n",
    "                              \"lon\": lons})"
   ]
  },
  {
   "cell_type": "code",
   "execution_count": 10,
   "id": "7b926dbb-560c-4cfa-b533-1907bf46884d",
   "metadata": {},
   "outputs": [
    {
     "data": {
      "text/plain": [
       "pandas.core.frame.DataFrame"
      ]
     },
     "execution_count": 10,
     "metadata": {},
     "output_type": "execute_result"
    }
   ],
   "source": [
    "type(new_data)"
   ]
  },
  {
   "cell_type": "markdown",
   "id": "c2bb0df1-fa61-4c7b-88a8-0b08f1c1c3c3",
   "metadata": {},
   "source": [
    "### empty dataframe"
   ]
  },
  {
   "cell_type": "code",
   "execution_count": 11,
   "id": "bd69a7a0-5f1d-4827-b19f-24e43ce4ce1f",
   "metadata": {},
   "outputs": [
    {
     "name": "stdout",
     "output_type": "stream",
     "text": [
      "Empty DataFrame\n",
      "Columns: []\n",
      "Index: []\n"
     ]
    }
   ],
   "source": [
    "df = pd.DataFrame()\n",
    "print(df)"
   ]
  },
  {
   "cell_type": "markdown",
   "id": "312c0ebd-f0cc-4ac8-9128-e8a05f98e86a",
   "metadata": {
    "tags": []
   },
   "source": [
    "<a id='pd-import'></a>\n",
    "## Import"
   ]
  },
  {
   "cell_type": "markdown",
   "id": "a44c6ad9-4930-4f15-a657-d7fa3f50d7b8",
   "metadata": {},
   "source": [
    "[Return to Start of Notebook](#pd)  "
   ]
  },
  {
   "cell_type": "markdown",
   "id": "8a8bccc3-ec22-4842-b0e1-497c8de6464e",
   "metadata": {},
   "source": [
    "### file path"
   ]
  },
  {
   "cell_type": "code",
   "execution_count": 12,
   "id": "f08590a1-d5a3-422f-8f96-6d2d990d1685",
   "metadata": {},
   "outputs": [
    {
     "data": {
      "text/plain": [
       "'/Users/forest/eda/gpy/data/Kumpula-June-2016-w-metadata.txt'"
      ]
     },
     "execution_count": 12,
     "metadata": {},
     "output_type": "execute_result"
    }
   ],
   "source": [
    "file_path = os.path.join(data_dir,\"Kumpula-June-2016-w-metadata.txt\")"
   ]
  },
  {
   "cell_type": "markdown",
   "id": "49cbfdb3-2cd1-4b84-9200-be01ec7c4a3e",
   "metadata": {},
   "source": [
    "### pd. read_csv"
   ]
  },
  {
   "cell_type": "markdown",
   "id": "f3f125dd-5b84-4f34-a2e5-fda84f9c06bc",
   "metadata": {},
   "source": [
    "#### sep="
   ]
  },
  {
   "cell_type": "code",
   "execution_count": 13,
   "id": "7a79ba60-9ebf-4e1e-b997-3abb389b4f64",
   "metadata": {},
   "outputs": [
    {
     "data": {
      "text/html": [
       "<div>\n",
       "<style scoped>\n",
       "    .dataframe tbody tr th:only-of-type {\n",
       "        vertical-align: middle;\n",
       "    }\n",
       "\n",
       "    .dataframe tbody tr th {\n",
       "        vertical-align: top;\n",
       "    }\n",
       "\n",
       "    .dataframe thead th {\n",
       "        text-align: right;\n",
       "    }\n",
       "</style>\n",
       "<table border=\"1\" class=\"dataframe\">\n",
       "  <thead>\n",
       "    <tr style=\"text-align: right;\">\n",
       "      <th></th>\n",
       "      <th># Data file contents: Daily temperatures (mean</th>\n",
       "      <th>min</th>\n",
       "      <th>max) for Kumpula</th>\n",
       "      <th>Helsinki</th>\n",
       "    </tr>\n",
       "  </thead>\n",
       "  <tbody>\n",
       "    <tr>\n",
       "      <th>0</th>\n",
       "      <td>#                     for June 1-30</td>\n",
       "      <td>2016</td>\n",
       "      <td>NaN</td>\n",
       "      <td>NaN</td>\n",
       "    </tr>\n",
       "  </tbody>\n",
       "</table>\n",
       "</div>"
      ],
      "text/plain": [
       "  # Data file contents: Daily temperatures (mean    min  max) for Kumpula  \\\n",
       "0            #                     for June 1-30   2016               NaN   \n",
       "\n",
       "   Helsinki  \n",
       "0       NaN  "
      ]
     },
     "execution_count": 13,
     "metadata": {},
     "output_type": "execute_result"
    }
   ],
   "source": [
    "df = pd.read_csv(file_path,sep=',')\n",
    "df.head(1)"
   ]
  },
  {
   "cell_type": "markdown",
   "id": "bb03b317-ac17-4d9f-8a48-0736516cab53",
   "metadata": {},
   "source": [
    "#### skiprows="
   ]
  },
  {
   "cell_type": "code",
   "execution_count": 14,
   "id": "26cd6d6c-9bf0-4bba-b82f-87e9cd1eec7b",
   "metadata": {},
   "outputs": [
    {
     "data": {
      "text/html": [
       "<div>\n",
       "<style scoped>\n",
       "    .dataframe tbody tr th:only-of-type {\n",
       "        vertical-align: middle;\n",
       "    }\n",
       "\n",
       "    .dataframe tbody tr th {\n",
       "        vertical-align: top;\n",
       "    }\n",
       "\n",
       "    .dataframe thead th {\n",
       "        text-align: right;\n",
       "    }\n",
       "</style>\n",
       "<table border=\"1\" class=\"dataframe\">\n",
       "  <thead>\n",
       "    <tr style=\"text-align: right;\">\n",
       "      <th></th>\n",
       "      <th>YEARMODA</th>\n",
       "      <th>TEMP</th>\n",
       "      <th>MAX</th>\n",
       "      <th>MIN</th>\n",
       "    </tr>\n",
       "  </thead>\n",
       "  <tbody>\n",
       "    <tr>\n",
       "      <th>0</th>\n",
       "      <td>20160601</td>\n",
       "      <td>65.5</td>\n",
       "      <td>73.6</td>\n",
       "      <td>54.7</td>\n",
       "    </tr>\n",
       "  </tbody>\n",
       "</table>\n",
       "</div>"
      ],
      "text/plain": [
       "   YEARMODA  TEMP   MAX   MIN\n",
       "0  20160601  65.5  73.6  54.7"
      ]
     },
     "execution_count": 14,
     "metadata": {},
     "output_type": "execute_result"
    }
   ],
   "source": [
    "df1 = pd.read_csv(file_path,\n",
    "                 sep=',',\n",
    "                 skiprows=8)\n",
    "df1.head(1)"
   ]
  },
  {
   "cell_type": "markdown",
   "id": "9866db59-bce5-4b9d-953e-8008124cbc9c",
   "metadata": {},
   "source": [
    "#### usecols=[]"
   ]
  },
  {
   "cell_type": "code",
   "execution_count": 15,
   "id": "577ddc35-8dce-441f-9895-eb1d3f1182e9",
   "metadata": {},
   "outputs": [
    {
     "data": {
      "text/html": [
       "<div>\n",
       "<style scoped>\n",
       "    .dataframe tbody tr th:only-of-type {\n",
       "        vertical-align: middle;\n",
       "    }\n",
       "\n",
       "    .dataframe tbody tr th {\n",
       "        vertical-align: top;\n",
       "    }\n",
       "\n",
       "    .dataframe thead th {\n",
       "        text-align: right;\n",
       "    }\n",
       "</style>\n",
       "<table border=\"1\" class=\"dataframe\">\n",
       "  <thead>\n",
       "    <tr style=\"text-align: right;\">\n",
       "      <th></th>\n",
       "      <th>YEARMODA</th>\n",
       "      <th>TEMP</th>\n",
       "    </tr>\n",
       "  </thead>\n",
       "  <tbody>\n",
       "    <tr>\n",
       "      <th>0</th>\n",
       "      <td>20160601</td>\n",
       "      <td>65.5</td>\n",
       "    </tr>\n",
       "  </tbody>\n",
       "</table>\n",
       "</div>"
      ],
      "text/plain": [
       "   YEARMODA  TEMP\n",
       "0  20160601  65.5"
      ]
     },
     "execution_count": 15,
     "metadata": {},
     "output_type": "execute_result"
    }
   ],
   "source": [
    "temp_df = pd.read_csv(file_path,\n",
    "                      sep=',',\n",
    "                      skiprows=8,\n",
    "                      usecols=['YEARMODA','TEMP'])\n",
    "temp_df.head(1)"
   ]
  },
  {
   "cell_type": "markdown",
   "id": "579974a3-13ad-4ea7-9ec1-f7609e94a80d",
   "metadata": {},
   "source": [
    "#### index_col="
   ]
  },
  {
   "cell_type": "code",
   "execution_count": 16,
   "id": "55301e38-aab1-474c-b5dd-0168d2eebfe8",
   "metadata": {},
   "outputs": [
    {
     "data": {
      "text/html": [
       "<div>\n",
       "<style scoped>\n",
       "    .dataframe tbody tr th:only-of-type {\n",
       "        vertical-align: middle;\n",
       "    }\n",
       "\n",
       "    .dataframe tbody tr th {\n",
       "        vertical-align: top;\n",
       "    }\n",
       "\n",
       "    .dataframe thead th {\n",
       "        text-align: right;\n",
       "    }\n",
       "</style>\n",
       "<table border=\"1\" class=\"dataframe\">\n",
       "  <thead>\n",
       "    <tr style=\"text-align: right;\">\n",
       "      <th></th>\n",
       "      <th>TEMP</th>\n",
       "      <th>MAX</th>\n",
       "      <th>MIN</th>\n",
       "    </tr>\n",
       "    <tr>\n",
       "      <th>YEARMODA</th>\n",
       "      <th></th>\n",
       "      <th></th>\n",
       "      <th></th>\n",
       "    </tr>\n",
       "  </thead>\n",
       "  <tbody>\n",
       "    <tr>\n",
       "      <th>20160601</th>\n",
       "      <td>65.5</td>\n",
       "      <td>73.6</td>\n",
       "      <td>54.7</td>\n",
       "    </tr>\n",
       "  </tbody>\n",
       "</table>\n",
       "</div>"
      ],
      "text/plain": [
       "          TEMP   MAX   MIN\n",
       "YEARMODA                  \n",
       "20160601  65.5  73.6  54.7"
      ]
     },
     "execution_count": 16,
     "metadata": {},
     "output_type": "execute_result"
    }
   ],
   "source": [
    "df2 = pd.read_csv(file_path,\n",
    "                      sep=',',\n",
    "                      skiprows=8,\n",
    "                      index_col='YEARMODA')\n",
    "df2.head(1)"
   ]
  },
  {
   "cell_type": "markdown",
   "id": "b3bad1ef-1ba0-480b-a08a-c347e6a8aae9",
   "metadata": {},
   "source": [
    "#### parse_dates=[]"
   ]
  },
  {
   "cell_type": "code",
   "execution_count": 17,
   "id": "7aae8c1d-7f46-4499-8017-999eef567d58",
   "metadata": {},
   "outputs": [
    {
     "data": {
      "text/html": [
       "<div>\n",
       "<style scoped>\n",
       "    .dataframe tbody tr th:only-of-type {\n",
       "        vertical-align: middle;\n",
       "    }\n",
       "\n",
       "    .dataframe tbody tr th {\n",
       "        vertical-align: top;\n",
       "    }\n",
       "\n",
       "    .dataframe thead th {\n",
       "        text-align: right;\n",
       "    }\n",
       "</style>\n",
       "<table border=\"1\" class=\"dataframe\">\n",
       "  <thead>\n",
       "    <tr style=\"text-align: right;\">\n",
       "      <th></th>\n",
       "      <th>TEMP</th>\n",
       "      <th>MAX</th>\n",
       "      <th>MIN</th>\n",
       "    </tr>\n",
       "    <tr>\n",
       "      <th>YEARMODA</th>\n",
       "      <th></th>\n",
       "      <th></th>\n",
       "      <th></th>\n",
       "    </tr>\n",
       "  </thead>\n",
       "  <tbody>\n",
       "    <tr>\n",
       "      <th>2016-06-01</th>\n",
       "      <td>65.5</td>\n",
       "      <td>73.6</td>\n",
       "      <td>54.7</td>\n",
       "    </tr>\n",
       "  </tbody>\n",
       "</table>\n",
       "</div>"
      ],
      "text/plain": [
       "            TEMP   MAX   MIN\n",
       "YEARMODA                    \n",
       "2016-06-01  65.5  73.6  54.7"
      ]
     },
     "execution_count": 17,
     "metadata": {},
     "output_type": "execute_result"
    }
   ],
   "source": [
    "df3 = pd.read_csv(file_path,\n",
    "                  sep=',',\n",
    "                  skiprows=8,\n",
    "                  parse_dates=['YEARMODA'],\n",
    "                  index_col='YEARMODA')\n",
    "df3.head(1)"
   ]
  },
  {
   "cell_type": "markdown",
   "id": "6ba9cb78-6614-4dc4-b0cc-927b549e1f37",
   "metadata": {},
   "source": [
    "#### na_values=[]"
   ]
  },
  {
   "cell_type": "code",
   "execution_count": 18,
   "id": "2243f5e1-4b42-4c8f-a9bc-3161a5ea21fe",
   "metadata": {},
   "outputs": [
    {
     "data": {
      "text/html": [
       "<div>\n",
       "<style scoped>\n",
       "    .dataframe tbody tr th:only-of-type {\n",
       "        vertical-align: middle;\n",
       "    }\n",
       "\n",
       "    .dataframe tbody tr th {\n",
       "        vertical-align: top;\n",
       "    }\n",
       "\n",
       "    .dataframe thead th {\n",
       "        text-align: right;\n",
       "    }\n",
       "</style>\n",
       "<table border=\"1\" class=\"dataframe\">\n",
       "  <thead>\n",
       "    <tr style=\"text-align: right;\">\n",
       "      <th></th>\n",
       "      <th>TEMP</th>\n",
       "      <th>MAX</th>\n",
       "      <th>MIN</th>\n",
       "    </tr>\n",
       "    <tr>\n",
       "      <th>YEARMODA</th>\n",
       "      <th></th>\n",
       "      <th></th>\n",
       "      <th></th>\n",
       "    </tr>\n",
       "  </thead>\n",
       "  <tbody>\n",
       "    <tr>\n",
       "      <th>2016-06-01</th>\n",
       "      <td>65.5</td>\n",
       "      <td>73.6</td>\n",
       "      <td>54.7</td>\n",
       "    </tr>\n",
       "  </tbody>\n",
       "</table>\n",
       "</div>"
      ],
      "text/plain": [
       "            TEMP   MAX   MIN\n",
       "YEARMODA                    \n",
       "2016-06-01  65.5  73.6  54.7"
      ]
     },
     "execution_count": 18,
     "metadata": {},
     "output_type": "execute_result"
    }
   ],
   "source": [
    "df3 = pd.read_csv(file_path,\n",
    "                  sep=',',\n",
    "                  skiprows=8,\n",
    "                  parse_dates=['YEARMODA'],\n",
    "                  index_col='YEARMODA',\n",
    "                  na_values=['*', '**', '***', '****', '*****', '******'])\n",
    "\n",
    "df3.head(1)"
   ]
  },
  {
   "cell_type": "markdown",
   "id": "5e6750f5-b122-4d5d-954f-0abf74dec3b3",
   "metadata": {},
   "source": [
    "### .info()"
   ]
  },
  {
   "cell_type": "code",
   "execution_count": 19,
   "id": "c5146da5-c4e0-4a0d-9853-30c217f2f2fc",
   "metadata": {},
   "outputs": [
    {
     "name": "stdout",
     "output_type": "stream",
     "text": [
      "<class 'pandas.core.frame.DataFrame'>\n",
      "RangeIndex: 30 entries, 0 to 29\n",
      "Data columns (total 4 columns):\n",
      " #   Column    Non-Null Count  Dtype  \n",
      "---  ------    --------------  -----  \n",
      " 0   YEARMODA  30 non-null     int64  \n",
      " 1   TEMP      30 non-null     float64\n",
      " 2   MAX       27 non-null     float64\n",
      " 3   MIN       28 non-null     float64\n",
      "dtypes: float64(3), int64(1)\n",
      "memory usage: 1.1 KB\n"
     ]
    }
   ],
   "source": [
    "df1.info()"
   ]
  },
  {
   "cell_type": "code",
   "execution_count": 20,
   "id": "649c1a96-bfcd-4a0b-bb36-e1f5f4188f44",
   "metadata": {},
   "outputs": [
    {
     "name": "stdout",
     "output_type": "stream",
     "text": [
      "<class 'pandas.core.frame.DataFrame'>\n",
      "Int64Index: 30 entries, 20160601 to 20160630\n",
      "Data columns (total 3 columns):\n",
      " #   Column  Non-Null Count  Dtype  \n",
      "---  ------  --------------  -----  \n",
      " 0   TEMP    30 non-null     float64\n",
      " 1   MAX     27 non-null     float64\n",
      " 2   MIN     28 non-null     float64\n",
      "dtypes: float64(3)\n",
      "memory usage: 960.0 bytes\n"
     ]
    }
   ],
   "source": [
    "df2.info()"
   ]
  },
  {
   "cell_type": "code",
   "execution_count": 21,
   "id": "ae842c2f-9819-4d6e-aa15-95ba9f397b65",
   "metadata": {},
   "outputs": [
    {
     "name": "stdout",
     "output_type": "stream",
     "text": [
      "<class 'pandas.core.frame.DataFrame'>\n",
      "DatetimeIndex: 30 entries, 2016-06-01 to 2016-06-30\n",
      "Data columns (total 3 columns):\n",
      " #   Column  Non-Null Count  Dtype  \n",
      "---  ------  --------------  -----  \n",
      " 0   TEMP    30 non-null     float64\n",
      " 1   MAX     27 non-null     float64\n",
      " 2   MIN     28 non-null     float64\n",
      "dtypes: float64(3)\n",
      "memory usage: 960.0 bytes\n"
     ]
    }
   ],
   "source": [
    "df3.info()"
   ]
  },
  {
   "cell_type": "markdown",
   "id": "3b9f4a3d-db96-449b-ba03-8631c8402737",
   "metadata": {
    "tags": []
   },
   "source": [
    "<a id='pd-attributes'></a>\n",
    "## Attributes"
   ]
  },
  {
   "cell_type": "markdown",
   "id": "45f0ac22-89ec-4c12-91b8-6585b9d405c0",
   "metadata": {},
   "source": [
    "[Return to Start of Notebook](#pd)  "
   ]
  },
  {
   "cell_type": "markdown",
   "id": "5b3c4d0f-e7f6-4010-aaee-37231ec5fd38",
   "metadata": {},
   "source": [
    "Attributes  (minimally sufficient pandas)\n",
    "- shape  \n",
    "- columns  \n",
    "- dtypes  \n",
    "- index  "
   ]
  },
  {
   "cell_type": "markdown",
   "id": "89a8ae4b-a9c2-4f59-af5c-b440eeb4edd4",
   "metadata": {
    "toc-hr-collapsed": true
   },
   "source": [
    "### .shape"
   ]
  },
  {
   "cell_type": "code",
   "execution_count": 22,
   "id": "9f474841-feab-4f12-8777-d8986e70f1fb",
   "metadata": {},
   "outputs": [
    {
     "data": {
      "text/plain": [
       "(30, 4)"
      ]
     },
     "execution_count": 22,
     "metadata": {},
     "output_type": "execute_result"
    }
   ],
   "source": [
    "df1.shape"
   ]
  },
  {
   "cell_type": "code",
   "execution_count": 23,
   "id": "f694709a-abe0-4480-b4ba-2680f56a5c93",
   "metadata": {},
   "outputs": [
    {
     "data": {
      "text/plain": [
       "(30, 3)"
      ]
     },
     "execution_count": 23,
     "metadata": {},
     "output_type": "execute_result"
    }
   ],
   "source": [
    "df3.shape"
   ]
  },
  {
   "cell_type": "markdown",
   "id": "81183cba-85b9-483b-b479-3462080c9ee7",
   "metadata": {},
   "source": [
    "#### .shape[0]"
   ]
  },
  {
   "cell_type": "code",
   "execution_count": 24,
   "id": "f7ada4aa-a39f-44b4-9287-5a208d206738",
   "metadata": {},
   "outputs": [
    {
     "data": {
      "text/plain": [
       "30"
      ]
     },
     "execution_count": 24,
     "metadata": {},
     "output_type": "execute_result"
    }
   ],
   "source": [
    "rows = df1.shape[0]"
   ]
  },
  {
   "cell_type": "code",
   "execution_count": 25,
   "id": "4451d56f-0a07-4a04-bb6d-5e3e3a763825",
   "metadata": {},
   "outputs": [
    {
     "data": {
      "text/plain": [
       "30"
      ]
     },
     "execution_count": 25,
     "metadata": {},
     "output_type": "execute_result"
    }
   ],
   "source": [
    "len(df1)"
   ]
  },
  {
   "cell_type": "markdown",
   "id": "6732922f-72ca-4602-9a1b-e2b23b731c14",
   "metadata": {},
   "source": [
    "#### .shape[1]"
   ]
  },
  {
   "cell_type": "code",
   "execution_count": 26,
   "id": "707edb22-54a3-4287-baf7-918e9c4ca431",
   "metadata": {},
   "outputs": [
    {
     "data": {
      "text/plain": [
       "4"
      ]
     },
     "execution_count": 26,
     "metadata": {},
     "output_type": "execute_result"
    }
   ],
   "source": [
    "cols = df1.shape[1]"
   ]
  },
  {
   "cell_type": "code",
   "execution_count": 27,
   "id": "32e836b0-16ad-4b7a-a89e-965c1f299c52",
   "metadata": {},
   "outputs": [
    {
     "data": {
      "text/plain": [
       "3"
      ]
     },
     "execution_count": 27,
     "metadata": {},
     "output_type": "execute_result"
    }
   ],
   "source": [
    "cols = df3.shape[1]"
   ]
  },
  {
   "cell_type": "code",
   "execution_count": 28,
   "id": "9ac8ca7d-2f20-4b58-be5b-54a3c5045e89",
   "metadata": {},
   "outputs": [
    {
     "data": {
      "text/plain": [
       "4"
      ]
     },
     "execution_count": 28,
     "metadata": {},
     "output_type": "execute_result"
    }
   ],
   "source": [
    "len(df1.columns)"
   ]
  },
  {
   "cell_type": "markdown",
   "id": "c11a292d-eceb-4b57-9b32-3f91ae76452a",
   "metadata": {
    "tags": [],
    "toc-hr-collapsed": true
   },
   "source": [
    "### .columns"
   ]
  },
  {
   "cell_type": "code",
   "execution_count": 29,
   "id": "726a6cc7-2705-4d54-a987-8ac096a5332e",
   "metadata": {},
   "outputs": [
    {
     "data": {
      "text/plain": [
       "Index(['YEARMODA', 'TEMP', 'MAX', 'MIN'], dtype='object')"
      ]
     },
     "execution_count": 29,
     "metadata": {},
     "output_type": "execute_result"
    }
   ],
   "source": [
    "df1.columns"
   ]
  },
  {
   "cell_type": "code",
   "execution_count": 30,
   "id": "4b819483-4c24-446d-82e8-23b87a658440",
   "metadata": {},
   "outputs": [
    {
     "data": {
      "text/plain": [
       "Index(['TEMP', 'MAX', 'MIN'], dtype='object')"
      ]
     },
     "execution_count": 30,
     "metadata": {},
     "output_type": "execute_result"
    }
   ],
   "source": [
    "df3.columns"
   ]
  },
  {
   "cell_type": "markdown",
   "id": "84586214-02c3-4f1d-a76c-f6ef5b8d3c1a",
   "metadata": {},
   "source": [
    "#### .columns.values"
   ]
  },
  {
   "cell_type": "code",
   "execution_count": 31,
   "id": "6daa93b3-4df4-4a32-8e6c-bddb98da5dde",
   "metadata": {},
   "outputs": [
    {
     "data": {
      "text/plain": [
       "array(['YEARMODA', 'TEMP', 'MAX', 'MIN'], dtype=object)"
      ]
     },
     "execution_count": 31,
     "metadata": {},
     "output_type": "execute_result"
    }
   ],
   "source": [
    "df1.columns.values"
   ]
  },
  {
   "cell_type": "markdown",
   "id": "d06205d5-ffc6-4b32-92b7-3d16cf6f2c54",
   "metadata": {},
   "source": [
    "#### list (  .columns)"
   ]
  },
  {
   "cell_type": "code",
   "execution_count": 32,
   "id": "9e1169b2-c2c8-4b17-a62c-585bd8098997",
   "metadata": {},
   "outputs": [
    {
     "data": {
      "text/plain": [
       "['YEARMODA', 'TEMP', 'MAX', 'MIN']"
      ]
     },
     "execution_count": 32,
     "metadata": {},
     "output_type": "execute_result"
    }
   ],
   "source": [
    "col_names = list(df1.columns)"
   ]
  },
  {
   "cell_type": "markdown",
   "id": "8357699c-7d52-4fbe-bf7b-b0a78a8af035",
   "metadata": {
    "tags": []
   },
   "source": [
    "### .dtypes"
   ]
  },
  {
   "cell_type": "code",
   "execution_count": 33,
   "id": "2a07b4cf-3c13-4217-973c-40759fc68eaa",
   "metadata": {},
   "outputs": [
    {
     "data": {
      "text/plain": [
       "YEARMODA      int64\n",
       "TEMP        float64\n",
       "MAX         float64\n",
       "MIN         float64\n",
       "dtype: object"
      ]
     },
     "execution_count": 33,
     "metadata": {},
     "output_type": "execute_result"
    }
   ],
   "source": [
    "df1.dtypes"
   ]
  },
  {
   "cell_type": "code",
   "execution_count": 34,
   "id": "5e7b9c01-a012-477a-9c97-695cfe3c5b35",
   "metadata": {},
   "outputs": [
    {
     "data": {
      "text/plain": [
       "TEMP    float64\n",
       "MAX     float64\n",
       "MIN     float64\n",
       "dtype: object"
      ]
     },
     "execution_count": 34,
     "metadata": {},
     "output_type": "execute_result"
    }
   ],
   "source": [
    "df3.dtypes"
   ]
  },
  {
   "cell_type": "markdown",
   "id": "d75051b8-c614-4678-95eb-5e6bca0cc2b8",
   "metadata": {},
   "source": [
    "### .index"
   ]
  },
  {
   "cell_type": "markdown",
   "id": "d9bd3bb1-89a1-47e5-bf95-0e87419c4277",
   "metadata": {},
   "source": [
    "#### RangeIndex"
   ]
  },
  {
   "cell_type": "code",
   "execution_count": 35,
   "id": "8f0f32da-3e4c-4160-a79b-a9add31a0605",
   "metadata": {},
   "outputs": [
    {
     "data": {
      "text/plain": [
       "RangeIndex(start=0, stop=30, step=1)"
      ]
     },
     "execution_count": 35,
     "metadata": {},
     "output_type": "execute_result"
    }
   ],
   "source": [
    "df1.index"
   ]
  },
  {
   "cell_type": "markdown",
   "id": "cc02f998-28d3-41ad-8a48-3c83a4d6343e",
   "metadata": {},
   "source": [
    "#### Int64Index"
   ]
  },
  {
   "cell_type": "code",
   "execution_count": 36,
   "id": "9ec9c908-4916-4f4f-ad33-eaf26d155600",
   "metadata": {},
   "outputs": [
    {
     "data": {
      "text/plain": [
       "Int64Index([20160601, 20160602, 20160603, 20160604, 20160605, 20160606,\n",
       "            20160607, 20160608, 20160609, 20160610, 20160611, 20160612,\n",
       "            20160613, 20160614, 20160615, 20160616, 20160617, 20160618,\n",
       "            20160619, 20160620, 20160621, 20160622, 20160623, 20160624,\n",
       "            20160625, 20160626, 20160627, 20160628, 20160629, 20160630],\n",
       "           dtype='int64', name='YEARMODA')"
      ]
     },
     "execution_count": 36,
     "metadata": {},
     "output_type": "execute_result"
    }
   ],
   "source": [
    "df2.index"
   ]
  },
  {
   "cell_type": "markdown",
   "id": "c6fbc087-b03a-4684-afc5-22233c4555c0",
   "metadata": {},
   "source": [
    "#### DatetimeIndex"
   ]
  },
  {
   "cell_type": "code",
   "execution_count": 37,
   "id": "87997ab5-8ef0-4054-ae10-8e4eda0643ec",
   "metadata": {},
   "outputs": [
    {
     "data": {
      "text/plain": [
       "DatetimeIndex(['2016-06-01', '2016-06-02', '2016-06-03', '2016-06-04',\n",
       "               '2016-06-05', '2016-06-06', '2016-06-07', '2016-06-08',\n",
       "               '2016-06-09', '2016-06-10', '2016-06-11', '2016-06-12',\n",
       "               '2016-06-13', '2016-06-14', '2016-06-15', '2016-06-16',\n",
       "               '2016-06-17', '2016-06-18', '2016-06-19', '2016-06-20',\n",
       "               '2016-06-21', '2016-06-22', '2016-06-23', '2016-06-24',\n",
       "               '2016-06-25', '2016-06-26', '2016-06-27', '2016-06-28',\n",
       "               '2016-06-29', '2016-06-30'],\n",
       "              dtype='datetime64[ns]', name='YEARMODA', freq=None)"
      ]
     },
     "execution_count": 37,
     "metadata": {},
     "output_type": "execute_result"
    }
   ],
   "source": [
    "df3.index"
   ]
  },
  {
   "cell_type": "markdown",
   "id": "b9f13f2a-f39c-490f-a5fe-ef73b3036ca9",
   "metadata": {
    "tags": []
   },
   "source": [
    "<a id='pd-aggregate'></a>\n",
    "## Aggregate"
   ]
  },
  {
   "cell_type": "markdown",
   "id": "34f37c6c-924a-4823-9db6-b248da6ee034",
   "metadata": {},
   "source": [
    "[Return to Start of Notebook](#pd)  "
   ]
  },
  {
   "cell_type": "markdown",
   "id": "51210777-53fc-45f5-9ff2-a10d5c77cd27",
   "metadata": {},
   "source": [
    "Aggregation Methods  (minimally sufficient pandas)\n",
    "- describe\n",
    "- count, sum, max, min  \n",
    "- idxmax, idxmin \n",
    "- all, any  \n",
    "- mean, median, mode, std, var      \n",
    "- nunique   "
   ]
  },
  {
   "cell_type": "markdown",
   "id": "22ada25f-75cf-4857-b436-1c3da2cdafd3",
   "metadata": {},
   "source": [
    "### .describe()"
   ]
  },
  {
   "cell_type": "code",
   "execution_count": 38,
   "id": "c40bd931-2ab9-478c-85a8-0a222ccb6535",
   "metadata": {},
   "outputs": [
    {
     "data": {
      "text/html": [
       "<div>\n",
       "<style scoped>\n",
       "    .dataframe tbody tr th:only-of-type {\n",
       "        vertical-align: middle;\n",
       "    }\n",
       "\n",
       "    .dataframe tbody tr th {\n",
       "        vertical-align: top;\n",
       "    }\n",
       "\n",
       "    .dataframe thead th {\n",
       "        text-align: right;\n",
       "    }\n",
       "</style>\n",
       "<table border=\"1\" class=\"dataframe\">\n",
       "  <thead>\n",
       "    <tr style=\"text-align: right;\">\n",
       "      <th></th>\n",
       "      <th>TEMP</th>\n",
       "      <th>MAX</th>\n",
       "      <th>MIN</th>\n",
       "    </tr>\n",
       "  </thead>\n",
       "  <tbody>\n",
       "    <tr>\n",
       "      <th>count</th>\n",
       "      <td>30.000000</td>\n",
       "      <td>27.000000</td>\n",
       "      <td>28.000000</td>\n",
       "    </tr>\n",
       "    <tr>\n",
       "      <th>mean</th>\n",
       "      <td>59.730000</td>\n",
       "      <td>68.040741</td>\n",
       "      <td>51.257143</td>\n",
       "    </tr>\n",
       "    <tr>\n",
       "      <th>std</th>\n",
       "      <td>5.475472</td>\n",
       "      <td>6.505575</td>\n",
       "      <td>5.498985</td>\n",
       "    </tr>\n",
       "    <tr>\n",
       "      <th>min</th>\n",
       "      <td>49.400000</td>\n",
       "      <td>54.100000</td>\n",
       "      <td>41.700000</td>\n",
       "    </tr>\n",
       "    <tr>\n",
       "      <th>25%</th>\n",
       "      <td>56.450000</td>\n",
       "      <td>64.650000</td>\n",
       "      <td>46.975000</td>\n",
       "    </tr>\n",
       "    <tr>\n",
       "      <th>50%</th>\n",
       "      <td>60.050000</td>\n",
       "      <td>69.100000</td>\n",
       "      <td>53.100000</td>\n",
       "    </tr>\n",
       "    <tr>\n",
       "      <th>75%</th>\n",
       "      <td>64.900000</td>\n",
       "      <td>72.050000</td>\n",
       "      <td>55.600000</td>\n",
       "    </tr>\n",
       "    <tr>\n",
       "      <th>max</th>\n",
       "      <td>69.600000</td>\n",
       "      <td>80.800000</td>\n",
       "      <td>60.300000</td>\n",
       "    </tr>\n",
       "  </tbody>\n",
       "</table>\n",
       "</div>"
      ],
      "text/plain": [
       "            TEMP        MAX        MIN\n",
       "count  30.000000  27.000000  28.000000\n",
       "mean   59.730000  68.040741  51.257143\n",
       "std     5.475472   6.505575   5.498985\n",
       "min    49.400000  54.100000  41.700000\n",
       "25%    56.450000  64.650000  46.975000\n",
       "50%    60.050000  69.100000  53.100000\n",
       "75%    64.900000  72.050000  55.600000\n",
       "max    69.600000  80.800000  60.300000"
      ]
     },
     "execution_count": 38,
     "metadata": {},
     "output_type": "execute_result"
    }
   ],
   "source": [
    "df3.describe()"
   ]
  },
  {
   "cell_type": "markdown",
   "id": "b879ae19-2336-4143-ac51-65a3fd0db836",
   "metadata": {},
   "source": [
    "### .count()"
   ]
  },
  {
   "cell_type": "code",
   "execution_count": 39,
   "id": "d3685207-0cd4-4242-b83a-289bc01f9ecf",
   "metadata": {},
   "outputs": [
    {
     "data": {
      "text/plain": [
       "TEMP    30\n",
       "MAX     27\n",
       "MIN     28\n",
       "dtype: int64"
      ]
     },
     "execution_count": 39,
     "metadata": {},
     "output_type": "execute_result"
    }
   ],
   "source": [
    "df3.count()"
   ]
  },
  {
   "cell_type": "markdown",
   "id": "fb7bc148-4211-4e16-a5c9-b9b240877c77",
   "metadata": {},
   "source": [
    "### .idxmax()"
   ]
  },
  {
   "cell_type": "code",
   "execution_count": 40,
   "id": "a48a3087-ba3a-469b-b834-489731905634",
   "metadata": {},
   "outputs": [
    {
     "data": {
      "text/plain": [
       "TEMP   2016-06-26\n",
       "MAX    2016-06-02\n",
       "MIN    2016-06-26\n",
       "dtype: datetime64[ns]"
      ]
     },
     "execution_count": 40,
     "metadata": {},
     "output_type": "execute_result"
    }
   ],
   "source": [
    "df3.idxmax()"
   ]
  },
  {
   "cell_type": "markdown",
   "id": "73eec5d3-8ba1-4bf3-8138-be2709653df9",
   "metadata": {},
   "source": [
    "### .mean()"
   ]
  },
  {
   "cell_type": "code",
   "execution_count": 41,
   "id": "2a25867c-cf36-4415-a2df-37e074083ada",
   "metadata": {},
   "outputs": [
    {
     "data": {
      "text/plain": [
       "TEMP    59.730000\n",
       "MAX     68.040741\n",
       "MIN     51.257143\n",
       "dtype: float64"
      ]
     },
     "execution_count": 41,
     "metadata": {},
     "output_type": "execute_result"
    }
   ],
   "source": [
    "df3.mean()"
   ]
  },
  {
   "cell_type": "markdown",
   "id": "b13dd8cf-485e-441f-ab9a-529a7eb44156",
   "metadata": {},
   "source": [
    "<a id='pd-select'></a>\n",
    "## Select"
   ]
  },
  {
   "cell_type": "markdown",
   "id": "553fba50-b933-4a75-bcec-95f60c8835f0",
   "metadata": {},
   "source": [
    "[Return to Start of Notebook](#pd)  "
   ]
  },
  {
   "cell_type": "markdown",
   "id": "e23c5073-5462-4b50-ab25-7c17b075da68",
   "metadata": {},
   "source": [
    "Subset Selection  (minimally sufficient pandas)  \n",
    "- brackets \n",
    "- loc\n",
    "- iloc"
   ]
  },
  {
   "cell_type": "markdown",
   "id": "5b97f44a-f2c4-4424-afc9-688213580f50",
   "metadata": {},
   "source": [
    "### columns []"
   ]
  },
  {
   "cell_type": "markdown",
   "id": "3dce7a35-033f-4d4a-bb4a-b74f9237073f",
   "metadata": {
    "tags": [],
    "toc-hr-collapsed": true
   },
   "source": [
    "#### single column"
   ]
  },
  {
   "cell_type": "markdown",
   "id": "5e236ca4-6ac6-4f67-827b-e811421d05e1",
   "metadata": {},
   "source": [
    "##### as series"
   ]
  },
  {
   "cell_type": "code",
   "execution_count": 42,
   "id": "2177753a-e91f-44ad-a335-4160daf3dfe3",
   "metadata": {},
   "outputs": [
    {
     "data": {
      "text/plain": [
       "YEARMODA\n",
       "2016-06-01    65.5\n",
       "2016-06-02    65.8\n",
       "2016-06-03    68.4\n",
       "2016-06-04    57.5\n",
       "              ... \n",
       "2016-06-27    60.7\n",
       "2016-06-28    65.4\n",
       "2016-06-29    65.8\n",
       "2016-06-30    65.7\n",
       "Name: TEMP, Length: 30, dtype: float64"
      ]
     },
     "execution_count": 42,
     "metadata": {},
     "output_type": "execute_result"
    }
   ],
   "source": [
    "sel = df3[\"TEMP\"]"
   ]
  },
  {
   "cell_type": "markdown",
   "id": "c4fba44c-51bd-4091-8f96-58654437ee82",
   "metadata": {},
   "source": [
    "##### as dataframe"
   ]
  },
  {
   "cell_type": "code",
   "execution_count": 43,
   "id": "73812d44-d0c9-4d3d-a681-451c85bf14e7",
   "metadata": {},
   "outputs": [
    {
     "data": {
      "text/html": [
       "<div>\n",
       "<style scoped>\n",
       "    .dataframe tbody tr th:only-of-type {\n",
       "        vertical-align: middle;\n",
       "    }\n",
       "\n",
       "    .dataframe tbody tr th {\n",
       "        vertical-align: top;\n",
       "    }\n",
       "\n",
       "    .dataframe thead th {\n",
       "        text-align: right;\n",
       "    }\n",
       "</style>\n",
       "<table border=\"1\" class=\"dataframe\">\n",
       "  <thead>\n",
       "    <tr style=\"text-align: right;\">\n",
       "      <th></th>\n",
       "      <th>TEMP</th>\n",
       "    </tr>\n",
       "    <tr>\n",
       "      <th>YEARMODA</th>\n",
       "      <th></th>\n",
       "    </tr>\n",
       "  </thead>\n",
       "  <tbody>\n",
       "    <tr>\n",
       "      <th>2016-06-01</th>\n",
       "      <td>65.5</td>\n",
       "    </tr>\n",
       "    <tr>\n",
       "      <th>2016-06-02</th>\n",
       "      <td>65.8</td>\n",
       "    </tr>\n",
       "    <tr>\n",
       "      <th>2016-06-03</th>\n",
       "      <td>68.4</td>\n",
       "    </tr>\n",
       "    <tr>\n",
       "      <th>2016-06-04</th>\n",
       "      <td>57.5</td>\n",
       "    </tr>\n",
       "    <tr>\n",
       "      <th>...</th>\n",
       "      <td>...</td>\n",
       "    </tr>\n",
       "    <tr>\n",
       "      <th>2016-06-27</th>\n",
       "      <td>60.7</td>\n",
       "    </tr>\n",
       "    <tr>\n",
       "      <th>2016-06-28</th>\n",
       "      <td>65.4</td>\n",
       "    </tr>\n",
       "    <tr>\n",
       "      <th>2016-06-29</th>\n",
       "      <td>65.8</td>\n",
       "    </tr>\n",
       "    <tr>\n",
       "      <th>2016-06-30</th>\n",
       "      <td>65.7</td>\n",
       "    </tr>\n",
       "  </tbody>\n",
       "</table>\n",
       "<p>30 rows × 1 columns</p>\n",
       "</div>"
      ],
      "text/plain": [
       "            TEMP\n",
       "YEARMODA        \n",
       "2016-06-01  65.5\n",
       "2016-06-02  65.8\n",
       "2016-06-03  68.4\n",
       "2016-06-04  57.5\n",
       "...          ...\n",
       "2016-06-27  60.7\n",
       "2016-06-28  65.4\n",
       "2016-06-29  65.8\n",
       "2016-06-30  65.7\n",
       "\n",
       "[30 rows x 1 columns]"
      ]
     },
     "execution_count": 43,
     "metadata": {},
     "output_type": "execute_result"
    }
   ],
   "source": [
    "sel = df3[[\"TEMP\"]]"
   ]
  },
  {
   "cell_type": "markdown",
   "id": "d41e707b-d0cb-4dc9-957c-69f2d329ee3e",
   "metadata": {},
   "source": [
    "##### statistics"
   ]
  },
  {
   "cell_type": "code",
   "execution_count": 44,
   "id": "5ff9d1b2-9c79-4960-8b60-27a287131efb",
   "metadata": {},
   "outputs": [
    {
     "data": {
      "text/html": [
       "<div>\n",
       "<style scoped>\n",
       "    .dataframe tbody tr th:only-of-type {\n",
       "        vertical-align: middle;\n",
       "    }\n",
       "\n",
       "    .dataframe tbody tr th {\n",
       "        vertical-align: top;\n",
       "    }\n",
       "\n",
       "    .dataframe thead th {\n",
       "        text-align: right;\n",
       "    }\n",
       "</style>\n",
       "<table border=\"1\" class=\"dataframe\">\n",
       "  <thead>\n",
       "    <tr style=\"text-align: right;\">\n",
       "      <th></th>\n",
       "      <th>TEMP</th>\n",
       "    </tr>\n",
       "  </thead>\n",
       "  <tbody>\n",
       "    <tr>\n",
       "      <th>count</th>\n",
       "      <td>30.000000</td>\n",
       "    </tr>\n",
       "    <tr>\n",
       "      <th>mean</th>\n",
       "      <td>59.730000</td>\n",
       "    </tr>\n",
       "    <tr>\n",
       "      <th>std</th>\n",
       "      <td>5.475472</td>\n",
       "    </tr>\n",
       "    <tr>\n",
       "      <th>min</th>\n",
       "      <td>49.400000</td>\n",
       "    </tr>\n",
       "    <tr>\n",
       "      <th>25%</th>\n",
       "      <td>56.450000</td>\n",
       "    </tr>\n",
       "    <tr>\n",
       "      <th>50%</th>\n",
       "      <td>60.050000</td>\n",
       "    </tr>\n",
       "    <tr>\n",
       "      <th>75%</th>\n",
       "      <td>64.900000</td>\n",
       "    </tr>\n",
       "    <tr>\n",
       "      <th>max</th>\n",
       "      <td>69.600000</td>\n",
       "    </tr>\n",
       "  </tbody>\n",
       "</table>\n",
       "</div>"
      ],
      "text/plain": [
       "            TEMP\n",
       "count  30.000000\n",
       "mean   59.730000\n",
       "std     5.475472\n",
       "min    49.400000\n",
       "25%    56.450000\n",
       "50%    60.050000\n",
       "75%    64.900000\n",
       "max    69.600000"
      ]
     },
     "execution_count": 44,
     "metadata": {},
     "output_type": "execute_result"
    }
   ],
   "source": [
    "df3[[\"TEMP\"]].describe()"
   ]
  },
  {
   "cell_type": "code",
   "execution_count": 45,
   "id": "0405ad24-c9b6-48d7-86dd-16952da1138a",
   "metadata": {},
   "outputs": [
    {
     "data": {
      "text/plain": [
       "59.730000000000004"
      ]
     },
     "execution_count": 45,
     "metadata": {},
     "output_type": "execute_result"
    }
   ],
   "source": [
    "avg_temp = df3[\"TEMP\"].mean()"
   ]
  },
  {
   "cell_type": "markdown",
   "id": "bf109acf-5435-4b40-a38a-d528b329b83d",
   "metadata": {
    "toc-hr-collapsed": true
   },
   "source": [
    "#### multiple columns"
   ]
  },
  {
   "cell_type": "code",
   "execution_count": 46,
   "id": "1b139a62-fe13-4fb1-979c-55c48f107a1d",
   "metadata": {},
   "outputs": [
    {
     "data": {
      "text/html": [
       "<div>\n",
       "<style scoped>\n",
       "    .dataframe tbody tr th:only-of-type {\n",
       "        vertical-align: middle;\n",
       "    }\n",
       "\n",
       "    .dataframe tbody tr th {\n",
       "        vertical-align: top;\n",
       "    }\n",
       "\n",
       "    .dataframe thead th {\n",
       "        text-align: right;\n",
       "    }\n",
       "</style>\n",
       "<table border=\"1\" class=\"dataframe\">\n",
       "  <thead>\n",
       "    <tr style=\"text-align: right;\">\n",
       "      <th></th>\n",
       "      <th>MAX</th>\n",
       "      <th>MIN</th>\n",
       "    </tr>\n",
       "    <tr>\n",
       "      <th>YEARMODA</th>\n",
       "      <th></th>\n",
       "      <th></th>\n",
       "    </tr>\n",
       "  </thead>\n",
       "  <tbody>\n",
       "    <tr>\n",
       "      <th>2016-06-01</th>\n",
       "      <td>73.6</td>\n",
       "      <td>54.7</td>\n",
       "    </tr>\n",
       "    <tr>\n",
       "      <th>2016-06-02</th>\n",
       "      <td>80.8</td>\n",
       "      <td>55.0</td>\n",
       "    </tr>\n",
       "    <tr>\n",
       "      <th>2016-06-03</th>\n",
       "      <td>NaN</td>\n",
       "      <td>55.6</td>\n",
       "    </tr>\n",
       "    <tr>\n",
       "      <th>2016-06-04</th>\n",
       "      <td>70.9</td>\n",
       "      <td>47.3</td>\n",
       "    </tr>\n",
       "    <tr>\n",
       "      <th>...</th>\n",
       "      <td>...</td>\n",
       "      <td>...</td>\n",
       "    </tr>\n",
       "    <tr>\n",
       "      <th>2016-06-27</th>\n",
       "      <td>70.0</td>\n",
       "      <td>NaN</td>\n",
       "    </tr>\n",
       "    <tr>\n",
       "      <th>2016-06-28</th>\n",
       "      <td>73.0</td>\n",
       "      <td>55.8</td>\n",
       "    </tr>\n",
       "    <tr>\n",
       "      <th>2016-06-29</th>\n",
       "      <td>73.2</td>\n",
       "      <td>NaN</td>\n",
       "    </tr>\n",
       "    <tr>\n",
       "      <th>2016-06-30</th>\n",
       "      <td>72.7</td>\n",
       "      <td>59.2</td>\n",
       "    </tr>\n",
       "  </tbody>\n",
       "</table>\n",
       "<p>30 rows × 2 columns</p>\n",
       "</div>"
      ],
      "text/plain": [
       "             MAX   MIN\n",
       "YEARMODA              \n",
       "2016-06-01  73.6  54.7\n",
       "2016-06-02  80.8  55.0\n",
       "2016-06-03   NaN  55.6\n",
       "2016-06-04  70.9  47.3\n",
       "...          ...   ...\n",
       "2016-06-27  70.0   NaN\n",
       "2016-06-28  73.0  55.8\n",
       "2016-06-29  73.2   NaN\n",
       "2016-06-30  72.7  59.2\n",
       "\n",
       "[30 rows x 2 columns]"
      ]
     },
     "execution_count": 46,
     "metadata": {},
     "output_type": "execute_result"
    }
   ],
   "source": [
    "sel = df3[[\"MAX\",\"MIN\"]]"
   ]
  },
  {
   "cell_type": "markdown",
   "id": "2530334a-b783-4454-945d-c384a1b628ef",
   "metadata": {},
   "source": [
    "##### statistics"
   ]
  },
  {
   "cell_type": "code",
   "execution_count": 47,
   "id": "c6d81bef-5829-42e3-839d-a706e457b581",
   "metadata": {},
   "outputs": [
    {
     "data": {
      "text/html": [
       "<div>\n",
       "<style scoped>\n",
       "    .dataframe tbody tr th:only-of-type {\n",
       "        vertical-align: middle;\n",
       "    }\n",
       "\n",
       "    .dataframe tbody tr th {\n",
       "        vertical-align: top;\n",
       "    }\n",
       "\n",
       "    .dataframe thead th {\n",
       "        text-align: right;\n",
       "    }\n",
       "</style>\n",
       "<table border=\"1\" class=\"dataframe\">\n",
       "  <thead>\n",
       "    <tr style=\"text-align: right;\">\n",
       "      <th></th>\n",
       "      <th>TEMP</th>\n",
       "      <th>MAX</th>\n",
       "      <th>MIN</th>\n",
       "    </tr>\n",
       "  </thead>\n",
       "  <tbody>\n",
       "    <tr>\n",
       "      <th>count</th>\n",
       "      <td>30.000000</td>\n",
       "      <td>27.000000</td>\n",
       "      <td>28.000000</td>\n",
       "    </tr>\n",
       "    <tr>\n",
       "      <th>mean</th>\n",
       "      <td>59.730000</td>\n",
       "      <td>68.040741</td>\n",
       "      <td>51.257143</td>\n",
       "    </tr>\n",
       "    <tr>\n",
       "      <th>std</th>\n",
       "      <td>5.475472</td>\n",
       "      <td>6.505575</td>\n",
       "      <td>5.498985</td>\n",
       "    </tr>\n",
       "    <tr>\n",
       "      <th>min</th>\n",
       "      <td>49.400000</td>\n",
       "      <td>54.100000</td>\n",
       "      <td>41.700000</td>\n",
       "    </tr>\n",
       "    <tr>\n",
       "      <th>25%</th>\n",
       "      <td>56.450000</td>\n",
       "      <td>64.650000</td>\n",
       "      <td>46.975000</td>\n",
       "    </tr>\n",
       "    <tr>\n",
       "      <th>50%</th>\n",
       "      <td>60.050000</td>\n",
       "      <td>69.100000</td>\n",
       "      <td>53.100000</td>\n",
       "    </tr>\n",
       "    <tr>\n",
       "      <th>75%</th>\n",
       "      <td>64.900000</td>\n",
       "      <td>72.050000</td>\n",
       "      <td>55.600000</td>\n",
       "    </tr>\n",
       "    <tr>\n",
       "      <th>max</th>\n",
       "      <td>69.600000</td>\n",
       "      <td>80.800000</td>\n",
       "      <td>60.300000</td>\n",
       "    </tr>\n",
       "  </tbody>\n",
       "</table>\n",
       "</div>"
      ],
      "text/plain": [
       "            TEMP        MAX        MIN\n",
       "count  30.000000  27.000000  28.000000\n",
       "mean   59.730000  68.040741  51.257143\n",
       "std     5.475472   6.505575   5.498985\n",
       "min    49.400000  54.100000  41.700000\n",
       "25%    56.450000  64.650000  46.975000\n",
       "50%    60.050000  69.100000  53.100000\n",
       "75%    64.900000  72.050000  55.600000\n",
       "max    69.600000  80.800000  60.300000"
      ]
     },
     "execution_count": 47,
     "metadata": {},
     "output_type": "execute_result"
    }
   ],
   "source": [
    "df1[['TEMP','MAX','MIN']].describe()"
   ]
  },
  {
   "cell_type": "code",
   "execution_count": 48,
   "id": "ab345d18-dd46-4fd8-aa50-c33c04f75bd3",
   "metadata": {},
   "outputs": [
    {
     "data": {
      "text/plain": [
       "TEMP    59.730000\n",
       "MAX     68.040741\n",
       "MIN     51.257143\n",
       "dtype: float64"
      ]
     },
     "execution_count": 48,
     "metadata": {},
     "output_type": "execute_result"
    }
   ],
   "source": [
    "df1[['TEMP','MAX','MIN']].mean()"
   ]
  },
  {
   "cell_type": "markdown",
   "id": "5b9e0edf-a02f-4544-b968-77dc3cf16add",
   "metadata": {},
   "source": [
    "### single row "
   ]
  },
  {
   "cell_type": "markdown",
   "id": "1c0faf6a-6d66-41ce-971c-ce92c8b35897",
   "metadata": {},
   "source": [
    "#### .iloc"
   ]
  },
  {
   "cell_type": "code",
   "execution_count": 49,
   "id": "99590cfe-3aaf-4949-b215-d69cba73aed2",
   "metadata": {},
   "outputs": [
    {
     "data": {
      "text/plain": [
       "TEMP    51.4\n",
       "MAX     58.3\n",
       "MIN     43.2\n",
       "Name: 2016-06-05 00:00:00, dtype: float64"
      ]
     },
     "execution_count": 49,
     "metadata": {},
     "output_type": "execute_result"
    }
   ],
   "source": [
    "df3.iloc[4]"
   ]
  },
  {
   "cell_type": "code",
   "execution_count": 50,
   "id": "662db3ec-9ed4-4c87-92be-5e3f01784846",
   "metadata": {},
   "outputs": [
    {
     "data": {
      "text/html": [
       "<div>\n",
       "<style scoped>\n",
       "    .dataframe tbody tr th:only-of-type {\n",
       "        vertical-align: middle;\n",
       "    }\n",
       "\n",
       "    .dataframe tbody tr th {\n",
       "        vertical-align: top;\n",
       "    }\n",
       "\n",
       "    .dataframe thead th {\n",
       "        text-align: right;\n",
       "    }\n",
       "</style>\n",
       "<table border=\"1\" class=\"dataframe\">\n",
       "  <thead>\n",
       "    <tr style=\"text-align: right;\">\n",
       "      <th></th>\n",
       "      <th>TEMP</th>\n",
       "      <th>MAX</th>\n",
       "      <th>MIN</th>\n",
       "    </tr>\n",
       "    <tr>\n",
       "      <th>YEARMODA</th>\n",
       "      <th></th>\n",
       "      <th></th>\n",
       "      <th></th>\n",
       "    </tr>\n",
       "  </thead>\n",
       "  <tbody>\n",
       "    <tr>\n",
       "      <th>2016-06-05</th>\n",
       "      <td>51.4</td>\n",
       "      <td>58.3</td>\n",
       "      <td>43.2</td>\n",
       "    </tr>\n",
       "  </tbody>\n",
       "</table>\n",
       "</div>"
      ],
      "text/plain": [
       "            TEMP   MAX   MIN\n",
       "YEARMODA                    \n",
       "2016-06-05  51.4  58.3  43.2"
      ]
     },
     "execution_count": 50,
     "metadata": {},
     "output_type": "execute_result"
    }
   ],
   "source": [
    "df3.iloc[[4]]"
   ]
  },
  {
   "cell_type": "markdown",
   "id": "7e580881-46e7-439f-947f-1a050961a64a",
   "metadata": {},
   "source": [
    "#### .loc"
   ]
  },
  {
   "cell_type": "code",
   "execution_count": 51,
   "id": "489480fb-ac31-4d83-a12f-332a9369113c",
   "metadata": {},
   "outputs": [
    {
     "data": {
      "text/plain": [
       "TEMP    65.5\n",
       "MAX     73.6\n",
       "MIN     54.7\n",
       "Name: 2016-06-01 00:00:00, dtype: float64"
      ]
     },
     "execution_count": 51,
     "metadata": {},
     "output_type": "execute_result"
    }
   ],
   "source": [
    "row = df3.loc['2016-06-01']"
   ]
  },
  {
   "cell_type": "code",
   "execution_count": 52,
   "id": "e6263625-6868-4ef2-8d80-49bd44949394",
   "metadata": {},
   "outputs": [
    {
     "data": {
      "text/html": [
       "<div>\n",
       "<style scoped>\n",
       "    .dataframe tbody tr th:only-of-type {\n",
       "        vertical-align: middle;\n",
       "    }\n",
       "\n",
       "    .dataframe tbody tr th {\n",
       "        vertical-align: top;\n",
       "    }\n",
       "\n",
       "    .dataframe thead th {\n",
       "        text-align: right;\n",
       "    }\n",
       "</style>\n",
       "<table border=\"1\" class=\"dataframe\">\n",
       "  <thead>\n",
       "    <tr style=\"text-align: right;\">\n",
       "      <th></th>\n",
       "      <th>TEMP</th>\n",
       "      <th>MAX</th>\n",
       "      <th>MIN</th>\n",
       "    </tr>\n",
       "    <tr>\n",
       "      <th>YEARMODA</th>\n",
       "      <th></th>\n",
       "      <th></th>\n",
       "      <th></th>\n",
       "    </tr>\n",
       "  </thead>\n",
       "  <tbody>\n",
       "    <tr>\n",
       "      <th>2016-06-01</th>\n",
       "      <td>65.5</td>\n",
       "      <td>73.6</td>\n",
       "      <td>54.7</td>\n",
       "    </tr>\n",
       "  </tbody>\n",
       "</table>\n",
       "</div>"
      ],
      "text/plain": [
       "            TEMP   MAX   MIN\n",
       "YEARMODA                    \n",
       "2016-06-01  65.5  73.6  54.7"
      ]
     },
     "execution_count": 52,
     "metadata": {},
     "output_type": "execute_result"
    }
   ],
   "source": [
    "row = df3.loc[['2016-06-01']]"
   ]
  },
  {
   "cell_type": "markdown",
   "id": "47c73c95-b2a4-4035-aa3b-50f40d92c3b0",
   "metadata": {
    "tags": []
   },
   "source": [
    "### index slicing  \n",
    "- dataframe[start_index:stop_index]."
   ]
  },
  {
   "cell_type": "markdown",
   "id": "04cad66a-11b8-4d7b-8929-5ceee87d16c2",
   "metadata": {},
   "source": [
    "#### rows [beg,end+1]"
   ]
  },
  {
   "cell_type": "code",
   "execution_count": 53,
   "id": "c8c655a6-e78b-4b08-803f-1d398fd7c057",
   "metadata": {},
   "outputs": [
    {
     "data": {
      "text/html": [
       "<div>\n",
       "<style scoped>\n",
       "    .dataframe tbody tr th:only-of-type {\n",
       "        vertical-align: middle;\n",
       "    }\n",
       "\n",
       "    .dataframe tbody tr th {\n",
       "        vertical-align: top;\n",
       "    }\n",
       "\n",
       "    .dataframe thead th {\n",
       "        text-align: right;\n",
       "    }\n",
       "</style>\n",
       "<table border=\"1\" class=\"dataframe\">\n",
       "  <thead>\n",
       "    <tr style=\"text-align: right;\">\n",
       "      <th></th>\n",
       "      <th>TEMP</th>\n",
       "      <th>MAX</th>\n",
       "      <th>MIN</th>\n",
       "    </tr>\n",
       "    <tr>\n",
       "      <th>YEARMODA</th>\n",
       "      <th></th>\n",
       "      <th></th>\n",
       "      <th></th>\n",
       "    </tr>\n",
       "  </thead>\n",
       "  <tbody>\n",
       "    <tr>\n",
       "      <th>2016-06-01</th>\n",
       "      <td>65.5</td>\n",
       "      <td>73.6</td>\n",
       "      <td>54.7</td>\n",
       "    </tr>\n",
       "    <tr>\n",
       "      <th>2016-06-02</th>\n",
       "      <td>65.8</td>\n",
       "      <td>80.8</td>\n",
       "      <td>55.0</td>\n",
       "    </tr>\n",
       "    <tr>\n",
       "      <th>2016-06-03</th>\n",
       "      <td>68.4</td>\n",
       "      <td>NaN</td>\n",
       "      <td>55.6</td>\n",
       "    </tr>\n",
       "    <tr>\n",
       "      <th>2016-06-04</th>\n",
       "      <td>57.5</td>\n",
       "      <td>70.9</td>\n",
       "      <td>47.3</td>\n",
       "    </tr>\n",
       "    <tr>\n",
       "      <th>2016-06-05</th>\n",
       "      <td>51.4</td>\n",
       "      <td>58.3</td>\n",
       "      <td>43.2</td>\n",
       "    </tr>\n",
       "  </tbody>\n",
       "</table>\n",
       "</div>"
      ],
      "text/plain": [
       "            TEMP   MAX   MIN\n",
       "YEARMODA                    \n",
       "2016-06-01  65.5  73.6  54.7\n",
       "2016-06-02  65.8  80.8  55.0\n",
       "2016-06-03  68.4   NaN  55.6\n",
       "2016-06-04  57.5  70.9  47.3\n",
       "2016-06-05  51.4  58.3  43.2"
      ]
     },
     "execution_count": 53,
     "metadata": {},
     "output_type": "execute_result"
    }
   ],
   "source": [
    "selection = df3[0:5]\n",
    "selection"
   ]
  },
  {
   "cell_type": "markdown",
   "id": "42ad8d25-4e6b-4a5f-b243-004272124d97",
   "metadata": {},
   "source": [
    "#### rows .iloc[beg,end+1]"
   ]
  },
  {
   "cell_type": "code",
   "execution_count": 54,
   "id": "add826cd-dd71-4b96-9918-4c1d8b3c3b68",
   "metadata": {},
   "outputs": [
    {
     "data": {
      "text/html": [
       "<div>\n",
       "<style scoped>\n",
       "    .dataframe tbody tr th:only-of-type {\n",
       "        vertical-align: middle;\n",
       "    }\n",
       "\n",
       "    .dataframe tbody tr th {\n",
       "        vertical-align: top;\n",
       "    }\n",
       "\n",
       "    .dataframe thead th {\n",
       "        text-align: right;\n",
       "    }\n",
       "</style>\n",
       "<table border=\"1\" class=\"dataframe\">\n",
       "  <thead>\n",
       "    <tr style=\"text-align: right;\">\n",
       "      <th></th>\n",
       "      <th>TEMP</th>\n",
       "      <th>MAX</th>\n",
       "      <th>MIN</th>\n",
       "    </tr>\n",
       "    <tr>\n",
       "      <th>YEARMODA</th>\n",
       "      <th></th>\n",
       "      <th></th>\n",
       "      <th></th>\n",
       "    </tr>\n",
       "  </thead>\n",
       "  <tbody>\n",
       "    <tr>\n",
       "      <th>2016-06-01</th>\n",
       "      <td>65.5</td>\n",
       "      <td>73.6</td>\n",
       "      <td>54.7</td>\n",
       "    </tr>\n",
       "    <tr>\n",
       "      <th>2016-06-02</th>\n",
       "      <td>65.8</td>\n",
       "      <td>80.8</td>\n",
       "      <td>55.0</td>\n",
       "    </tr>\n",
       "    <tr>\n",
       "      <th>2016-06-03</th>\n",
       "      <td>68.4</td>\n",
       "      <td>NaN</td>\n",
       "      <td>55.6</td>\n",
       "    </tr>\n",
       "    <tr>\n",
       "      <th>2016-06-04</th>\n",
       "      <td>57.5</td>\n",
       "      <td>70.9</td>\n",
       "      <td>47.3</td>\n",
       "    </tr>\n",
       "    <tr>\n",
       "      <th>2016-06-05</th>\n",
       "      <td>51.4</td>\n",
       "      <td>58.3</td>\n",
       "      <td>43.2</td>\n",
       "    </tr>\n",
       "  </tbody>\n",
       "</table>\n",
       "</div>"
      ],
      "text/plain": [
       "            TEMP   MAX   MIN\n",
       "YEARMODA                    \n",
       "2016-06-01  65.5  73.6  54.7\n",
       "2016-06-02  65.8  80.8  55.0\n",
       "2016-06-03  68.4   NaN  55.6\n",
       "2016-06-04  57.5  70.9  47.3\n",
       "2016-06-05  51.4  58.3  43.2"
      ]
     },
     "execution_count": 54,
     "metadata": {},
     "output_type": "execute_result"
    }
   ],
   "source": [
    "selection = df3.iloc[0:5]\n",
    "selection"
   ]
  },
  {
   "cell_type": "markdown",
   "id": "79f763f1-498f-4837-9bb4-fbb38a925e48",
   "metadata": {},
   "source": [
    "#### rows .loc[beg:end]"
   ]
  },
  {
   "cell_type": "code",
   "execution_count": 55,
   "id": "de4e2c78-faa8-4294-b02b-1dd4e7012b13",
   "metadata": {},
   "outputs": [
    {
     "data": {
      "text/html": [
       "<div>\n",
       "<style scoped>\n",
       "    .dataframe tbody tr th:only-of-type {\n",
       "        vertical-align: middle;\n",
       "    }\n",
       "\n",
       "    .dataframe tbody tr th {\n",
       "        vertical-align: top;\n",
       "    }\n",
       "\n",
       "    .dataframe thead th {\n",
       "        text-align: right;\n",
       "    }\n",
       "</style>\n",
       "<table border=\"1\" class=\"dataframe\">\n",
       "  <thead>\n",
       "    <tr style=\"text-align: right;\">\n",
       "      <th></th>\n",
       "      <th>TEMP</th>\n",
       "      <th>MAX</th>\n",
       "      <th>MIN</th>\n",
       "    </tr>\n",
       "    <tr>\n",
       "      <th>YEARMODA</th>\n",
       "      <th></th>\n",
       "      <th></th>\n",
       "      <th></th>\n",
       "    </tr>\n",
       "  </thead>\n",
       "  <tbody>\n",
       "    <tr>\n",
       "      <th>2016-06-01</th>\n",
       "      <td>65.5</td>\n",
       "      <td>73.6</td>\n",
       "      <td>54.7</td>\n",
       "    </tr>\n",
       "    <tr>\n",
       "      <th>2016-06-05</th>\n",
       "      <td>51.4</td>\n",
       "      <td>58.3</td>\n",
       "      <td>43.2</td>\n",
       "    </tr>\n",
       "  </tbody>\n",
       "</table>\n",
       "</div>"
      ],
      "text/plain": [
       "            TEMP   MAX   MIN\n",
       "YEARMODA                    \n",
       "2016-06-01  65.5  73.6  54.7\n",
       "2016-06-05  51.4  58.3  43.2"
      ]
     },
     "execution_count": 55,
     "metadata": {},
     "output_type": "execute_result"
    }
   ],
   "source": [
    "selection = df3.loc[['2016-06-01','2016-06-05']]\n",
    "selection"
   ]
  },
  {
   "cell_type": "markdown",
   "id": "7b1e97df-a7f6-4298-822a-b581c13f9674",
   "metadata": {},
   "source": [
    "### rows and columns"
   ]
  },
  {
   "cell_type": "markdown",
   "id": "45c7ab9b-4449-44e3-84c9-302af0070c03",
   "metadata": {},
   "source": [
    "#### .iloc[rows, cols]"
   ]
  },
  {
   "cell_type": "code",
   "execution_count": 56,
   "id": "c688f981-25c4-459d-8329-4c70ac0cea5d",
   "metadata": {},
   "outputs": [
    {
     "data": {
      "text/html": [
       "<div>\n",
       "<style scoped>\n",
       "    .dataframe tbody tr th:only-of-type {\n",
       "        vertical-align: middle;\n",
       "    }\n",
       "\n",
       "    .dataframe tbody tr th {\n",
       "        vertical-align: top;\n",
       "    }\n",
       "\n",
       "    .dataframe thead th {\n",
       "        text-align: right;\n",
       "    }\n",
       "</style>\n",
       "<table border=\"1\" class=\"dataframe\">\n",
       "  <thead>\n",
       "    <tr style=\"text-align: right;\">\n",
       "      <th></th>\n",
       "      <th>TEMP</th>\n",
       "      <th>MAX</th>\n",
       "    </tr>\n",
       "    <tr>\n",
       "      <th>YEARMODA</th>\n",
       "      <th></th>\n",
       "      <th></th>\n",
       "    </tr>\n",
       "  </thead>\n",
       "  <tbody>\n",
       "    <tr>\n",
       "      <th>2016-06-01</th>\n",
       "      <td>65.5</td>\n",
       "      <td>73.6</td>\n",
       "    </tr>\n",
       "    <tr>\n",
       "      <th>2016-06-02</th>\n",
       "      <td>65.8</td>\n",
       "      <td>80.8</td>\n",
       "    </tr>\n",
       "    <tr>\n",
       "      <th>2016-06-03</th>\n",
       "      <td>68.4</td>\n",
       "      <td>NaN</td>\n",
       "    </tr>\n",
       "    <tr>\n",
       "      <th>2016-06-04</th>\n",
       "      <td>57.5</td>\n",
       "      <td>70.9</td>\n",
       "    </tr>\n",
       "    <tr>\n",
       "      <th>2016-06-05</th>\n",
       "      <td>51.4</td>\n",
       "      <td>58.3</td>\n",
       "    </tr>\n",
       "  </tbody>\n",
       "</table>\n",
       "</div>"
      ],
      "text/plain": [
       "            TEMP   MAX\n",
       "YEARMODA              \n",
       "2016-06-01  65.5  73.6\n",
       "2016-06-02  65.8  80.8\n",
       "2016-06-03  68.4   NaN\n",
       "2016-06-04  57.5  70.9\n",
       "2016-06-05  51.4  58.3"
      ]
     },
     "execution_count": 56,
     "metadata": {},
     "output_type": "execute_result"
    }
   ],
   "source": [
    "df3.iloc[0:5:, 0:2]"
   ]
  },
  {
   "cell_type": "markdown",
   "id": "4df20629-1f8c-46c4-82f0-591f802c994e",
   "metadata": {},
   "source": [
    "#### .loc[rows, cols]"
   ]
  },
  {
   "cell_type": "code",
   "execution_count": 57,
   "id": "d9598258-46a9-4f3b-8a74-018d1ca7d9ae",
   "metadata": {},
   "outputs": [
    {
     "data": {
      "text/html": [
       "<div>\n",
       "<style scoped>\n",
       "    .dataframe tbody tr th:only-of-type {\n",
       "        vertical-align: middle;\n",
       "    }\n",
       "\n",
       "    .dataframe tbody tr th {\n",
       "        vertical-align: top;\n",
       "    }\n",
       "\n",
       "    .dataframe thead th {\n",
       "        text-align: right;\n",
       "    }\n",
       "</style>\n",
       "<table border=\"1\" class=\"dataframe\">\n",
       "  <thead>\n",
       "    <tr style=\"text-align: right;\">\n",
       "      <th></th>\n",
       "      <th>MAX</th>\n",
       "      <th>MIN</th>\n",
       "    </tr>\n",
       "    <tr>\n",
       "      <th>YEARMODA</th>\n",
       "      <th></th>\n",
       "      <th></th>\n",
       "    </tr>\n",
       "  </thead>\n",
       "  <tbody>\n",
       "    <tr>\n",
       "      <th>2016-06-01</th>\n",
       "      <td>73.6</td>\n",
       "      <td>54.7</td>\n",
       "    </tr>\n",
       "    <tr>\n",
       "      <th>2016-06-05</th>\n",
       "      <td>58.3</td>\n",
       "      <td>43.2</td>\n",
       "    </tr>\n",
       "  </tbody>\n",
       "</table>\n",
       "</div>"
      ],
      "text/plain": [
       "             MAX   MIN\n",
       "YEARMODA              \n",
       "2016-06-01  73.6  54.7\n",
       "2016-06-05  58.3  43.2"
      ]
     },
     "execution_count": 57,
     "metadata": {},
     "output_type": "execute_result"
    }
   ],
   "source": [
    "selection = df3.loc[['2016-06-01','2016-06-05'], [\"MAX\",\"MIN\"]]\n",
    "selection"
   ]
  },
  {
   "cell_type": "markdown",
   "id": "c91e4995-d55f-4689-a097-cc7d8d9c7a3f",
   "metadata": {},
   "source": [
    "#### select and aggregate"
   ]
  },
  {
   "cell_type": "code",
   "execution_count": 58,
   "id": "8389a01e-77f1-426c-a4d7-9f6be241d6d3",
   "metadata": {},
   "outputs": [
    {
     "data": {
      "text/plain": [
       "64.85714285714286"
      ]
     },
     "execution_count": 58,
     "metadata": {},
     "output_type": "execute_result"
    }
   ],
   "source": [
    "avg_temp = df3['TEMP'].iloc[-7:].mean()"
   ]
  },
  {
   "cell_type": "code",
   "execution_count": 59,
   "id": "eabab3e4-dc14-47ff-a525-22670b4512e4",
   "metadata": {},
   "outputs": [
    {
     "data": {
      "text/plain": [
       "64.85714285714286"
      ]
     },
     "execution_count": 59,
     "metadata": {},
     "output_type": "execute_result"
    }
   ],
   "source": [
    "avg_temp = df3['TEMP'].loc['2016-06-24':'2016-06-30'].mean()"
   ]
  },
  {
   "cell_type": "code",
   "execution_count": 60,
   "id": "150af613-3cf2-4c55-a24e-ab2b5c92194f",
   "metadata": {},
   "outputs": [
    {
     "data": {
      "text/plain": [
       "64.85714285714286"
      ]
     },
     "execution_count": 60,
     "metadata": {},
     "output_type": "execute_result"
    }
   ],
   "source": [
    "avg_temp = df3.loc['2016-06-24':'2016-06-30', 'TEMP'].mean()"
   ]
  },
  {
   "cell_type": "markdown",
   "id": "4afd3f83-17a7-4f64-a3d4-b396b79090b8",
   "metadata": {},
   "source": [
    "### single value"
   ]
  },
  {
   "cell_type": "code",
   "execution_count": 61,
   "id": "8cd706d9-05e2-4200-8b0c-2673aa93793c",
   "metadata": {},
   "outputs": [
    {
     "data": {
      "text/plain": [
       "65.5"
      ]
     },
     "execution_count": 61,
     "metadata": {},
     "output_type": "execute_result"
    }
   ],
   "source": [
    "df3.loc[\"2016-06-01\", \"TEMP\"]"
   ]
  },
  {
   "cell_type": "code",
   "execution_count": 62,
   "id": "106483a0-ccf0-4956-8478-abab162be437",
   "metadata": {},
   "outputs": [
    {
     "data": {
      "text/plain": [
       "65.5"
      ]
     },
     "execution_count": 62,
     "metadata": {},
     "output_type": "execute_result"
    }
   ],
   "source": [
    "df3.iloc[0,0]"
   ]
  },
  {
   "cell_type": "markdown",
   "id": "bc0a135c-fc98-4da5-ae30-e76cd1b6db8a",
   "metadata": {},
   "source": [
    "### unique values"
   ]
  },
  {
   "cell_type": "markdown",
   "id": "805487f4-a371-4104-b779-5cba95922896",
   "metadata": {},
   "source": [
    "#### .unique()"
   ]
  },
  {
   "cell_type": "code",
   "execution_count": 63,
   "id": "6e12db4c-9edd-4140-9fb1-8fc977d61bfb",
   "metadata": {},
   "outputs": [
    {
     "data": {
      "text/plain": [
       "array([65.5, 65.8, 68.4, 57.5, 51.4, 52.2, 56.9, 54.2, 49.4, 49.5, 54. ,\n",
       "       55.4, 58.3, 59.7, 63.4, 57.8, 60.4, 57.3, 56.3, 59.3, 62.6, 61.7,\n",
       "       60.9, 61.1, 65.7, 69.6, 60.7, 65.4])"
      ]
     },
     "execution_count": 63,
     "metadata": {},
     "output_type": "execute_result"
    }
   ],
   "source": [
    "unique = df3[\"TEMP\"].unique()\n",
    "unique"
   ]
  },
  {
   "cell_type": "markdown",
   "id": "97c06d35-84d9-49f3-9969-7820f29a7546",
   "metadata": {},
   "source": [
    "#### .nunique()"
   ]
  },
  {
   "cell_type": "code",
   "execution_count": 64,
   "id": "97000501-ddda-4e7d-adf0-942604d35e4a",
   "metadata": {},
   "outputs": [
    {
     "data": {
      "text/plain": [
       "28"
      ]
     },
     "execution_count": 64,
     "metadata": {},
     "output_type": "execute_result"
    }
   ],
   "source": [
    "df3[\"TEMP\"].nunique()"
   ]
  },
  {
   "cell_type": "markdown",
   "id": "4cd8845e-376c-417f-9845-1a7d0052ee11",
   "metadata": {},
   "source": [
    "<a id='pd-plot'></a>\n",
    "## Plot"
   ]
  },
  {
   "cell_type": "markdown",
   "id": "979bd00a-76eb-4d6f-92f5-32666f6d3d27",
   "metadata": {},
   "source": [
    "[Return to Start of Notebook](#pd)  "
   ]
  },
  {
   "cell_type": "markdown",
   "id": "a7292ffd-1f93-4e45-a857-dbf06e106b01",
   "metadata": {},
   "source": [
    "#### df.plot()"
   ]
  },
  {
   "cell_type": "code",
   "execution_count": 65,
   "id": "c7a6e440-e08f-4e47-b78b-2f1ac042d68b",
   "metadata": {},
   "outputs": [
    {
     "data": {
      "text/plain": [
       "<AxesSubplot:>"
      ]
     },
     "execution_count": 65,
     "metadata": {},
     "output_type": "execute_result"
    },
    {
     "data": {
      "image/png": "[encoded data removed]",
      "text/plain": [
       "<Figure size 432x288 with 1 Axes>"
      ]
     },
     "metadata": {
      "needs_background": "light"
     },
     "output_type": "display_data"
    }
   ],
   "source": [
    "df1[[\"TEMP\", \"MAX\", \"MIN\"]].plot()"
   ]
  },
  {
   "cell_type": "code",
   "execution_count": 66,
   "id": "8a179a41-c4d3-4adc-8696-6d5b0ed3e9d4",
   "metadata": {},
   "outputs": [
    {
     "data": {
      "text/plain": [
       "<AxesSubplot:xlabel='YEARMODA'>"
      ]
     },
     "execution_count": 66,
     "metadata": {},
     "output_type": "execute_result"
    },
    {
     "data": {
      "image/png": "[encoded data removed]",
      "text/plain": [
       "<Figure size 432x288 with 1 Axes>"
      ]
     },
     "metadata": {
      "needs_background": "light"
     },
     "output_type": "display_data"
    }
   ],
   "source": [
    "df3.plot()"
   ]
  },
  {
   "cell_type": "markdown",
   "id": "1ba5e396-9143-490a-9ff0-0779fb1be05d",
   "metadata": {
    "tags": []
   },
   "source": [
    "<a id='pd-transform'></a>\n",
    "## Transform"
   ]
  },
  {
   "cell_type": "markdown",
   "id": "d398ebd7-0390-4c5f-ac0a-116794c6a29a",
   "metadata": {},
   "source": [
    "[Return to Start of Notebook](#pd)  "
   ]
  },
  {
   "cell_type": "markdown",
   "id": "650cbb90-5d0d-486e-9a48-6dbdf40f334f",
   "metadata": {},
   "source": [
    "### deep copy"
   ]
  },
  {
   "cell_type": "code",
   "execution_count": 67,
   "id": "d726ae4f-fd2d-44b4-82c3-996bf186a21f",
   "metadata": {},
   "outputs": [],
   "source": [
    "df1c = df1.copy()\n",
    "df2c = df2.copy()\n",
    "df3c = df3.copy();"
   ]
  },
  {
   "cell_type": "markdown",
   "id": "7d4f1dbd-8d86-43f1-ae52-777c43af8aa3",
   "metadata": {
    "tags": [],
    "toc-hr-collapsed": true
   },
   "source": [
    "### columns"
   ]
  },
  {
   "cell_type": "markdown",
   "id": "341a01e3-4172-48d7-93f0-11d3111949eb",
   "metadata": {},
   "source": [
    "#### new column"
   ]
  },
  {
   "cell_type": "code",
   "execution_count": 68,
   "id": "8b0ff930-e1e3-4a9e-b5d5-2cdb3fc541cc",
   "metadata": {},
   "outputs": [
    {
     "data": {
      "text/html": [
       "<div>\n",
       "<style scoped>\n",
       "    .dataframe tbody tr th:only-of-type {\n",
       "        vertical-align: middle;\n",
       "    }\n",
       "\n",
       "    .dataframe tbody tr th {\n",
       "        vertical-align: top;\n",
       "    }\n",
       "\n",
       "    .dataframe thead th {\n",
       "        text-align: right;\n",
       "    }\n",
       "</style>\n",
       "<table border=\"1\" class=\"dataframe\">\n",
       "  <thead>\n",
       "    <tr style=\"text-align: right;\">\n",
       "      <th></th>\n",
       "      <th>YEARMODA</th>\n",
       "      <th>TEMP</th>\n",
       "      <th>MAX</th>\n",
       "      <th>MIN</th>\n",
       "      <th>TEMP_CELSIUS</th>\n",
       "    </tr>\n",
       "  </thead>\n",
       "  <tbody>\n",
       "    <tr>\n",
       "      <th>0</th>\n",
       "      <td>20160601</td>\n",
       "      <td>65.5</td>\n",
       "      <td>73.6</td>\n",
       "      <td>54.7</td>\n",
       "      <td>18.611111</td>\n",
       "    </tr>\n",
       "    <tr>\n",
       "      <th>1</th>\n",
       "      <td>20160602</td>\n",
       "      <td>65.8</td>\n",
       "      <td>80.8</td>\n",
       "      <td>55.0</td>\n",
       "      <td>18.777778</td>\n",
       "    </tr>\n",
       "    <tr>\n",
       "      <th>2</th>\n",
       "      <td>20160603</td>\n",
       "      <td>68.4</td>\n",
       "      <td>NaN</td>\n",
       "      <td>55.6</td>\n",
       "      <td>20.222222</td>\n",
       "    </tr>\n",
       "  </tbody>\n",
       "</table>\n",
       "</div>"
      ],
      "text/plain": [
       "   YEARMODA  TEMP   MAX   MIN  TEMP_CELSIUS\n",
       "0  20160601  65.5  73.6  54.7     18.611111\n",
       "1  20160602  65.8  80.8  55.0     18.777778\n",
       "2  20160603  68.4   NaN  55.6     20.222222"
      ]
     },
     "execution_count": 68,
     "metadata": {},
     "output_type": "execute_result"
    }
   ],
   "source": [
    "df1c[\"TEMP_CELSIUS\"] = (df1c[\"TEMP\"] - 32) / (9 / 5)\n",
    "df1c.head(3)"
   ]
  },
  {
   "cell_type": "code",
   "execution_count": 69,
   "id": "fb8e9b93-fe52-4e44-8213-ccbce045bbfa",
   "metadata": {},
   "outputs": [
    {
     "data": {
      "text/html": [
       "<div>\n",
       "<style scoped>\n",
       "    .dataframe tbody tr th:only-of-type {\n",
       "        vertical-align: middle;\n",
       "    }\n",
       "\n",
       "    .dataframe tbody tr th {\n",
       "        vertical-align: top;\n",
       "    }\n",
       "\n",
       "    .dataframe thead th {\n",
       "        text-align: right;\n",
       "    }\n",
       "</style>\n",
       "<table border=\"1\" class=\"dataframe\">\n",
       "  <thead>\n",
       "    <tr style=\"text-align: right;\">\n",
       "      <th></th>\n",
       "      <th>TEMP</th>\n",
       "      <th>MAX</th>\n",
       "      <th>MIN</th>\n",
       "      <th>DIFF</th>\n",
       "    </tr>\n",
       "    <tr>\n",
       "      <th>YEARMODA</th>\n",
       "      <th></th>\n",
       "      <th></th>\n",
       "      <th></th>\n",
       "      <th></th>\n",
       "    </tr>\n",
       "  </thead>\n",
       "  <tbody>\n",
       "    <tr>\n",
       "      <th>2016-06-01</th>\n",
       "      <td>65.5</td>\n",
       "      <td>73.6</td>\n",
       "      <td>54.7</td>\n",
       "      <td>18.9</td>\n",
       "    </tr>\n",
       "    <tr>\n",
       "      <th>2016-06-02</th>\n",
       "      <td>65.8</td>\n",
       "      <td>80.8</td>\n",
       "      <td>55.0</td>\n",
       "      <td>25.8</td>\n",
       "    </tr>\n",
       "    <tr>\n",
       "      <th>2016-06-03</th>\n",
       "      <td>68.4</td>\n",
       "      <td>NaN</td>\n",
       "      <td>55.6</td>\n",
       "      <td>NaN</td>\n",
       "    </tr>\n",
       "  </tbody>\n",
       "</table>\n",
       "</div>"
      ],
      "text/plain": [
       "            TEMP   MAX   MIN  DIFF\n",
       "YEARMODA                          \n",
       "2016-06-01  65.5  73.6  54.7  18.9\n",
       "2016-06-02  65.8  80.8  55.0  25.8\n",
       "2016-06-03  68.4   NaN  55.6   NaN"
      ]
     },
     "execution_count": 69,
     "metadata": {},
     "output_type": "execute_result"
    }
   ],
   "source": [
    "df3c[\"DIFF\"] = df3c[\"MAX\"] - df3c[\"MIN\"]\n",
    "df3c.head(3)"
   ]
  },
  {
   "cell_type": "code",
   "execution_count": 70,
   "id": "ffa54d93-c853-4c42-bebf-5d8e0ebadedd",
   "metadata": {},
   "outputs": [
    {
     "data": {
      "text/html": [
       "<div>\n",
       "<style scoped>\n",
       "    .dataframe tbody tr th:only-of-type {\n",
       "        vertical-align: middle;\n",
       "    }\n",
       "\n",
       "    .dataframe tbody tr th {\n",
       "        vertical-align: top;\n",
       "    }\n",
       "\n",
       "    .dataframe thead th {\n",
       "        text-align: right;\n",
       "    }\n",
       "</style>\n",
       "<table border=\"1\" class=\"dataframe\">\n",
       "  <thead>\n",
       "    <tr style=\"text-align: right;\">\n",
       "      <th></th>\n",
       "      <th>TEMP</th>\n",
       "      <th>MAX</th>\n",
       "      <th>MIN</th>\n",
       "      <th>DIFF</th>\n",
       "      <th>TEMP_CELSIUS</th>\n",
       "    </tr>\n",
       "    <tr>\n",
       "      <th>YEARMODA</th>\n",
       "      <th></th>\n",
       "      <th></th>\n",
       "      <th></th>\n",
       "      <th></th>\n",
       "      <th></th>\n",
       "    </tr>\n",
       "  </thead>\n",
       "  <tbody>\n",
       "    <tr>\n",
       "      <th>2016-06-01</th>\n",
       "      <td>65.5</td>\n",
       "      <td>73.6</td>\n",
       "      <td>54.7</td>\n",
       "      <td>18.9</td>\n",
       "      <td>18.611111</td>\n",
       "    </tr>\n",
       "    <tr>\n",
       "      <th>2016-06-02</th>\n",
       "      <td>65.8</td>\n",
       "      <td>80.8</td>\n",
       "      <td>55.0</td>\n",
       "      <td>25.8</td>\n",
       "      <td>18.777778</td>\n",
       "    </tr>\n",
       "    <tr>\n",
       "      <th>2016-06-03</th>\n",
       "      <td>68.4</td>\n",
       "      <td>NaN</td>\n",
       "      <td>55.6</td>\n",
       "      <td>NaN</td>\n",
       "      <td>20.222222</td>\n",
       "    </tr>\n",
       "  </tbody>\n",
       "</table>\n",
       "</div>"
      ],
      "text/plain": [
       "            TEMP   MAX   MIN  DIFF  TEMP_CELSIUS\n",
       "YEARMODA                                        \n",
       "2016-06-01  65.5  73.6  54.7  18.9     18.611111\n",
       "2016-06-02  65.8  80.8  55.0  25.8     18.777778\n",
       "2016-06-03  68.4   NaN  55.6   NaN     20.222222"
      ]
     },
     "execution_count": 70,
     "metadata": {},
     "output_type": "execute_result"
    }
   ],
   "source": [
    "df3c[\"TEMP_CELSIUS\"] = (df3c[\"TEMP\"] - 32) / (9 / 5)\n",
    "df3c.head(3)"
   ]
  },
  {
   "cell_type": "code",
   "execution_count": 71,
   "id": "42377282-20b1-4b19-ae6c-23f7bed5daf2",
   "metadata": {},
   "outputs": [
    {
     "data": {
      "text/html": [
       "<div>\n",
       "<style scoped>\n",
       "    .dataframe tbody tr th:only-of-type {\n",
       "        vertical-align: middle;\n",
       "    }\n",
       "\n",
       "    .dataframe tbody tr th {\n",
       "        vertical-align: top;\n",
       "    }\n",
       "\n",
       "    .dataframe thead th {\n",
       "        text-align: right;\n",
       "    }\n",
       "</style>\n",
       "<table border=\"1\" class=\"dataframe\">\n",
       "  <thead>\n",
       "    <tr style=\"text-align: right;\">\n",
       "      <th></th>\n",
       "      <th>TEMP</th>\n",
       "      <th>MAX</th>\n",
       "      <th>MIN</th>\n",
       "      <th>DIFF</th>\n",
       "      <th>TEMP_CELSIUS</th>\n",
       "      <th>TEMP_KELVIN</th>\n",
       "    </tr>\n",
       "    <tr>\n",
       "      <th>YEARMODA</th>\n",
       "      <th></th>\n",
       "      <th></th>\n",
       "      <th></th>\n",
       "      <th></th>\n",
       "      <th></th>\n",
       "      <th></th>\n",
       "    </tr>\n",
       "  </thead>\n",
       "  <tbody>\n",
       "    <tr>\n",
       "      <th>2016-06-01</th>\n",
       "      <td>65.5</td>\n",
       "      <td>73.6</td>\n",
       "      <td>54.7</td>\n",
       "      <td>18.9</td>\n",
       "      <td>18.611111</td>\n",
       "      <td>291.761111</td>\n",
       "    </tr>\n",
       "    <tr>\n",
       "      <th>2016-06-02</th>\n",
       "      <td>65.8</td>\n",
       "      <td>80.8</td>\n",
       "      <td>55.0</td>\n",
       "      <td>25.8</td>\n",
       "      <td>18.777778</td>\n",
       "      <td>291.927778</td>\n",
       "    </tr>\n",
       "    <tr>\n",
       "      <th>2016-06-03</th>\n",
       "      <td>68.4</td>\n",
       "      <td>NaN</td>\n",
       "      <td>55.6</td>\n",
       "      <td>NaN</td>\n",
       "      <td>20.222222</td>\n",
       "      <td>293.372222</td>\n",
       "    </tr>\n",
       "  </tbody>\n",
       "</table>\n",
       "</div>"
      ],
      "text/plain": [
       "            TEMP   MAX   MIN  DIFF  TEMP_CELSIUS  TEMP_KELVIN\n",
       "YEARMODA                                                     \n",
       "2016-06-01  65.5  73.6  54.7  18.9     18.611111   291.761111\n",
       "2016-06-02  65.8  80.8  55.0  25.8     18.777778   291.927778\n",
       "2016-06-03  68.4   NaN  55.6   NaN     20.222222   293.372222"
      ]
     },
     "execution_count": 71,
     "metadata": {},
     "output_type": "execute_result"
    }
   ],
   "source": [
    "df3c[\"TEMP_KELVIN\"] = df3c[\"TEMP_CELSIUS\"] + 273.15\n",
    "df3c.head(3)"
   ]
  },
  {
   "cell_type": "markdown",
   "id": "a189d8d5-b68f-450d-ad3a-085c994f4f48",
   "metadata": {},
   "source": [
    "#### rename"
   ]
  },
  {
   "cell_type": "code",
   "execution_count": 72,
   "id": "52a217ce-0f14-4245-91e5-d99947bec744",
   "metadata": {},
   "outputs": [
    {
     "data": {
      "text/html": [
       "<div>\n",
       "<style scoped>\n",
       "    .dataframe tbody tr th:only-of-type {\n",
       "        vertical-align: middle;\n",
       "    }\n",
       "\n",
       "    .dataframe tbody tr th {\n",
       "        vertical-align: top;\n",
       "    }\n",
       "\n",
       "    .dataframe thead th {\n",
       "        text-align: right;\n",
       "    }\n",
       "</style>\n",
       "<table border=\"1\" class=\"dataframe\">\n",
       "  <thead>\n",
       "    <tr style=\"text-align: right;\">\n",
       "      <th></th>\n",
       "      <th>avg_F</th>\n",
       "      <th>max_F</th>\n",
       "      <th>min_F</th>\n",
       "      <th>DIFF</th>\n",
       "      <th>avg_C</th>\n",
       "      <th>TEMP_KELVIN</th>\n",
       "    </tr>\n",
       "    <tr>\n",
       "      <th>YEARMODA</th>\n",
       "      <th></th>\n",
       "      <th></th>\n",
       "      <th></th>\n",
       "      <th></th>\n",
       "      <th></th>\n",
       "      <th></th>\n",
       "    </tr>\n",
       "  </thead>\n",
       "  <tbody>\n",
       "    <tr>\n",
       "      <th>2016-06-01</th>\n",
       "      <td>65.5</td>\n",
       "      <td>73.6</td>\n",
       "      <td>54.7</td>\n",
       "      <td>18.9</td>\n",
       "      <td>18.611111</td>\n",
       "      <td>291.761111</td>\n",
       "    </tr>\n",
       "    <tr>\n",
       "      <th>2016-06-02</th>\n",
       "      <td>65.8</td>\n",
       "      <td>80.8</td>\n",
       "      <td>55.0</td>\n",
       "      <td>25.8</td>\n",
       "      <td>18.777778</td>\n",
       "      <td>291.927778</td>\n",
       "    </tr>\n",
       "    <tr>\n",
       "      <th>2016-06-03</th>\n",
       "      <td>68.4</td>\n",
       "      <td>NaN</td>\n",
       "      <td>55.6</td>\n",
       "      <td>NaN</td>\n",
       "      <td>20.222222</td>\n",
       "      <td>293.372222</td>\n",
       "    </tr>\n",
       "  </tbody>\n",
       "</table>\n",
       "</div>"
      ],
      "text/plain": [
       "            avg_F  max_F  min_F  DIFF      avg_C  TEMP_KELVIN\n",
       "YEARMODA                                                     \n",
       "2016-06-01   65.5   73.6   54.7  18.9  18.611111   291.761111\n",
       "2016-06-02   65.8   80.8   55.0  25.8  18.777778   291.927778\n",
       "2016-06-03   68.4    NaN   55.6   NaN  20.222222   293.372222"
      ]
     },
     "execution_count": 72,
     "metadata": {},
     "output_type": "execute_result"
    }
   ],
   "source": [
    "df3c.rename(columns = {\"TEMP\": \"avg_F\",\n",
    "                     \"MAX\": \"max_F\",\n",
    "                     \"MIN\": \"min_F\",\n",
    "                     \"TEMP_CELSIUS\": \"avg_C\",}, inplace=True)\n",
    "df3c.head(3)"
   ]
  },
  {
   "cell_type": "markdown",
   "id": "2a60eeb0-0073-4eb0-a83c-8110fa042735",
   "metadata": {},
   "source": [
    "#### drop column"
   ]
  },
  {
   "cell_type": "code",
   "execution_count": 73,
   "id": "53e442a2-ecee-49f8-8b1c-a4ad9746ffdf",
   "metadata": {},
   "outputs": [
    {
     "data": {
      "text/html": [
       "<div>\n",
       "<style scoped>\n",
       "    .dataframe tbody tr th:only-of-type {\n",
       "        vertical-align: middle;\n",
       "    }\n",
       "\n",
       "    .dataframe tbody tr th {\n",
       "        vertical-align: top;\n",
       "    }\n",
       "\n",
       "    .dataframe thead th {\n",
       "        text-align: right;\n",
       "    }\n",
       "</style>\n",
       "<table border=\"1\" class=\"dataframe\">\n",
       "  <thead>\n",
       "    <tr style=\"text-align: right;\">\n",
       "      <th></th>\n",
       "      <th>avg_F</th>\n",
       "      <th>max_F</th>\n",
       "      <th>min_F</th>\n",
       "      <th>avg_C</th>\n",
       "    </tr>\n",
       "    <tr>\n",
       "      <th>YEARMODA</th>\n",
       "      <th></th>\n",
       "      <th></th>\n",
       "      <th></th>\n",
       "      <th></th>\n",
       "    </tr>\n",
       "  </thead>\n",
       "  <tbody>\n",
       "    <tr>\n",
       "      <th>2016-06-01</th>\n",
       "      <td>65.5</td>\n",
       "      <td>73.6</td>\n",
       "      <td>54.7</td>\n",
       "      <td>18.611111</td>\n",
       "    </tr>\n",
       "    <tr>\n",
       "      <th>2016-06-02</th>\n",
       "      <td>65.8</td>\n",
       "      <td>80.8</td>\n",
       "      <td>55.0</td>\n",
       "      <td>18.777778</td>\n",
       "    </tr>\n",
       "    <tr>\n",
       "      <th>2016-06-03</th>\n",
       "      <td>68.4</td>\n",
       "      <td>NaN</td>\n",
       "      <td>55.6</td>\n",
       "      <td>20.222222</td>\n",
       "    </tr>\n",
       "  </tbody>\n",
       "</table>\n",
       "</div>"
      ],
      "text/plain": [
       "            avg_F  max_F  min_F      avg_C\n",
       "YEARMODA                                  \n",
       "2016-06-01   65.5   73.6   54.7  18.611111\n",
       "2016-06-02   65.8   80.8   55.0  18.777778\n",
       "2016-06-03   68.4    NaN   55.6  20.222222"
      ]
     },
     "execution_count": 73,
     "metadata": {},
     "output_type": "execute_result"
    }
   ],
   "source": [
    "df3c = df3c.drop([\"DIFF\",\"TEMP_KELVIN\"], axis = 1)\n",
    "df3c.head(3)"
   ]
  },
  {
   "cell_type": "markdown",
   "id": "dfd79254-5e93-4dff-97f5-a06dfa898369",
   "metadata": {},
   "source": [
    "### .astype()"
   ]
  },
  {
   "cell_type": "code",
   "execution_count": 74,
   "id": "4d57a0cf-5d5f-4be2-b4b7-f477b9f709bd",
   "metadata": {},
   "outputs": [
    {
     "data": {
      "text/plain": [
       "0    65\n",
       "1    65\n",
       "2    68\n",
       "3    57\n",
       "4    51\n",
       "Name: TEMP, dtype: int64"
      ]
     },
     "execution_count": 74,
     "metadata": {},
     "output_type": "execute_result"
    }
   ],
   "source": [
    "df1c[\"TEMP\"].astype(int).head() #truncates"
   ]
  },
  {
   "cell_type": "markdown",
   "id": "b5e0e82b-2248-43e1-a572-dbc7c109e029",
   "metadata": {},
   "source": [
    "#### .round().astype()"
   ]
  },
  {
   "cell_type": "code",
   "execution_count": null,
   "id": "0eda0fec-2269-4357-8412-c1b174d60f65",
   "metadata": {},
   "outputs": [],
   "source": []
  },
  {
   "cell_type": "code",
   "execution_count": 75,
   "id": "6078e542-b99f-49af-a488-2ca22ab936bf",
   "metadata": {},
   "outputs": [
    {
     "data": {
      "text/plain": [
       "0    66\n",
       "1    66\n",
       "2    68\n",
       "3    58\n",
       "4    51\n",
       "Name: TEMP, dtype: int64"
      ]
     },
     "execution_count": 75,
     "metadata": {},
     "output_type": "execute_result"
    }
   ],
   "source": [
    "df1c[\"TEMP\"].round(0).astype(int).head()"
   ]
  },
  {
   "cell_type": "markdown",
   "id": "882043ab-6650-4d45-99bd-e038c41418c6",
   "metadata": {},
   "source": [
    "### sort"
   ]
  },
  {
   "cell_type": "code",
   "execution_count": 76,
   "id": "97b0833b-1af2-4767-b493-b95f2d0c276f",
   "metadata": {},
   "outputs": [
    {
     "data": {
      "text/html": [
       "<div>\n",
       "<style scoped>\n",
       "    .dataframe tbody tr th:only-of-type {\n",
       "        vertical-align: middle;\n",
       "    }\n",
       "\n",
       "    .dataframe tbody tr th {\n",
       "        vertical-align: top;\n",
       "    }\n",
       "\n",
       "    .dataframe thead th {\n",
       "        text-align: right;\n",
       "    }\n",
       "</style>\n",
       "<table border=\"1\" class=\"dataframe\">\n",
       "  <thead>\n",
       "    <tr style=\"text-align: right;\">\n",
       "      <th></th>\n",
       "      <th>avg_F</th>\n",
       "      <th>max_F</th>\n",
       "      <th>min_F</th>\n",
       "      <th>avg_C</th>\n",
       "    </tr>\n",
       "    <tr>\n",
       "      <th>YEARMODA</th>\n",
       "      <th></th>\n",
       "      <th></th>\n",
       "      <th></th>\n",
       "      <th></th>\n",
       "    </tr>\n",
       "  </thead>\n",
       "  <tbody>\n",
       "    <tr>\n",
       "      <th>2016-06-01</th>\n",
       "      <td>65.5</td>\n",
       "      <td>73.6</td>\n",
       "      <td>54.7</td>\n",
       "      <td>18.611111</td>\n",
       "    </tr>\n",
       "    <tr>\n",
       "      <th>2016-06-02</th>\n",
       "      <td>65.8</td>\n",
       "      <td>80.8</td>\n",
       "      <td>55.0</td>\n",
       "      <td>18.777778</td>\n",
       "    </tr>\n",
       "    <tr>\n",
       "      <th>2016-06-03</th>\n",
       "      <td>68.4</td>\n",
       "      <td>NaN</td>\n",
       "      <td>55.6</td>\n",
       "      <td>20.222222</td>\n",
       "    </tr>\n",
       "  </tbody>\n",
       "</table>\n",
       "</div>"
      ],
      "text/plain": [
       "            avg_F  max_F  min_F      avg_C\n",
       "YEARMODA                                  \n",
       "2016-06-01   65.5   73.6   54.7  18.611111\n",
       "2016-06-02   65.8   80.8   55.0  18.777778\n",
       "2016-06-03   68.4    NaN   55.6  20.222222"
      ]
     },
     "execution_count": 76,
     "metadata": {},
     "output_type": "execute_result"
    }
   ],
   "source": [
    "df3c.head(3)"
   ]
  },
  {
   "cell_type": "markdown",
   "id": "69d78e15-3551-4ae0-9b70-032f61ddce32",
   "metadata": {},
   "source": [
    "#### .sort_values(by=)"
   ]
  },
  {
   "cell_type": "code",
   "execution_count": 77,
   "id": "83ab4fb9-843f-4183-b9f7-2f1d1ace5953",
   "metadata": {},
   "outputs": [
    {
     "data": {
      "text/html": [
       "<div>\n",
       "<style scoped>\n",
       "    .dataframe tbody tr th:only-of-type {\n",
       "        vertical-align: middle;\n",
       "    }\n",
       "\n",
       "    .dataframe tbody tr th {\n",
       "        vertical-align: top;\n",
       "    }\n",
       "\n",
       "    .dataframe thead th {\n",
       "        text-align: right;\n",
       "    }\n",
       "</style>\n",
       "<table border=\"1\" class=\"dataframe\">\n",
       "  <thead>\n",
       "    <tr style=\"text-align: right;\">\n",
       "      <th></th>\n",
       "      <th>avg_F</th>\n",
       "      <th>max_F</th>\n",
       "      <th>min_F</th>\n",
       "      <th>avg_C</th>\n",
       "    </tr>\n",
       "    <tr>\n",
       "      <th>YEARMODA</th>\n",
       "      <th></th>\n",
       "      <th></th>\n",
       "      <th></th>\n",
       "      <th></th>\n",
       "    </tr>\n",
       "  </thead>\n",
       "  <tbody>\n",
       "    <tr>\n",
       "      <th>2016-06-09</th>\n",
       "      <td>49.4</td>\n",
       "      <td>54.1</td>\n",
       "      <td>45.7</td>\n",
       "      <td>9.666667</td>\n",
       "    </tr>\n",
       "    <tr>\n",
       "      <th>2016-06-10</th>\n",
       "      <td>49.5</td>\n",
       "      <td>55.9</td>\n",
       "      <td>43.0</td>\n",
       "      <td>9.722222</td>\n",
       "    </tr>\n",
       "    <tr>\n",
       "      <th>2016-06-05</th>\n",
       "      <td>51.4</td>\n",
       "      <td>58.3</td>\n",
       "      <td>43.2</td>\n",
       "      <td>10.777778</td>\n",
       "    </tr>\n",
       "  </tbody>\n",
       "</table>\n",
       "</div>"
      ],
      "text/plain": [
       "            avg_F  max_F  min_F      avg_C\n",
       "YEARMODA                                  \n",
       "2016-06-09   49.4   54.1   45.7   9.666667\n",
       "2016-06-10   49.5   55.9   43.0   9.722222\n",
       "2016-06-05   51.4   58.3   43.2  10.777778"
      ]
     },
     "execution_count": 77,
     "metadata": {},
     "output_type": "execute_result"
    }
   ],
   "source": [
    "sorted_temps = df3c.sort_values(by=\"avg_C\")\n",
    "sorted_temps.head(3)"
   ]
  },
  {
   "cell_type": "markdown",
   "id": "d4939fb6-63f7-4f70-8285-b7c17d15911c",
   "metadata": {},
   "source": [
    "#### ascending=False"
   ]
  },
  {
   "cell_type": "code",
   "execution_count": 78,
   "id": "e8ffb69e-b16c-44df-9142-07f9ccc5c33d",
   "metadata": {},
   "outputs": [
    {
     "data": {
      "text/html": [
       "<div>\n",
       "<style scoped>\n",
       "    .dataframe tbody tr th:only-of-type {\n",
       "        vertical-align: middle;\n",
       "    }\n",
       "\n",
       "    .dataframe tbody tr th {\n",
       "        vertical-align: top;\n",
       "    }\n",
       "\n",
       "    .dataframe thead th {\n",
       "        text-align: right;\n",
       "    }\n",
       "</style>\n",
       "<table border=\"1\" class=\"dataframe\">\n",
       "  <thead>\n",
       "    <tr style=\"text-align: right;\">\n",
       "      <th></th>\n",
       "      <th>avg_F</th>\n",
       "      <th>max_F</th>\n",
       "      <th>min_F</th>\n",
       "      <th>avg_C</th>\n",
       "    </tr>\n",
       "    <tr>\n",
       "      <th>YEARMODA</th>\n",
       "      <th></th>\n",
       "      <th></th>\n",
       "      <th></th>\n",
       "      <th></th>\n",
       "    </tr>\n",
       "  </thead>\n",
       "  <tbody>\n",
       "    <tr>\n",
       "      <th>2016-06-26</th>\n",
       "      <td>69.6</td>\n",
       "      <td>77.7</td>\n",
       "      <td>60.3</td>\n",
       "      <td>20.888889</td>\n",
       "    </tr>\n",
       "    <tr>\n",
       "      <th>2016-06-03</th>\n",
       "      <td>68.4</td>\n",
       "      <td>NaN</td>\n",
       "      <td>55.6</td>\n",
       "      <td>20.222222</td>\n",
       "    </tr>\n",
       "    <tr>\n",
       "      <th>2016-06-02</th>\n",
       "      <td>65.8</td>\n",
       "      <td>80.8</td>\n",
       "      <td>55.0</td>\n",
       "      <td>18.777778</td>\n",
       "    </tr>\n",
       "  </tbody>\n",
       "</table>\n",
       "</div>"
      ],
      "text/plain": [
       "            avg_F  max_F  min_F      avg_C\n",
       "YEARMODA                                  \n",
       "2016-06-26   69.6   77.7   60.3  20.888889\n",
       "2016-06-03   68.4    NaN   55.6  20.222222\n",
       "2016-06-02   65.8   80.8   55.0  18.777778"
      ]
     },
     "execution_count": 78,
     "metadata": {},
     "output_type": "execute_result"
    }
   ],
   "source": [
    "sorted_temps = df3c.sort_values(by=\"avg_C\",ascending=False)\n",
    "sorted_temps.head(3)"
   ]
  },
  {
   "cell_type": "markdown",
   "id": "94b287e4-4af4-4691-8fc2-776153457b92",
   "metadata": {
    "tags": []
   },
   "source": [
    "<a id='pd-filter'></a>\n",
    "## Filter"
   ]
  },
  {
   "cell_type": "markdown",
   "id": "41612e8f-557c-4aaf-b433-0506dd7c0a00",
   "metadata": {},
   "source": [
    "[Return to Start of Notebook](#pd)  "
   ]
  },
  {
   "cell_type": "markdown",
   "id": "6f0cf1df-51c9-4c5e-b7b9-69dcdd074b87",
   "metadata": {},
   "source": [
    "### using logical test"
   ]
  },
  {
   "cell_type": "code",
   "execution_count": 79,
   "id": "767fa00a-d0e2-4aa8-8a17-acadb76bb2b2",
   "metadata": {},
   "outputs": [
    {
     "data": {
      "text/html": [
       "<div>\n",
       "<style scoped>\n",
       "    .dataframe tbody tr th:only-of-type {\n",
       "        vertical-align: middle;\n",
       "    }\n",
       "\n",
       "    .dataframe tbody tr th {\n",
       "        vertical-align: top;\n",
       "    }\n",
       "\n",
       "    .dataframe thead th {\n",
       "        text-align: right;\n",
       "    }\n",
       "</style>\n",
       "<table border=\"1\" class=\"dataframe\">\n",
       "  <thead>\n",
       "    <tr style=\"text-align: right;\">\n",
       "      <th></th>\n",
       "      <th>avg_F</th>\n",
       "      <th>max_F</th>\n",
       "      <th>min_F</th>\n",
       "      <th>avg_C</th>\n",
       "    </tr>\n",
       "    <tr>\n",
       "      <th>YEARMODA</th>\n",
       "      <th></th>\n",
       "      <th></th>\n",
       "      <th></th>\n",
       "      <th></th>\n",
       "    </tr>\n",
       "  </thead>\n",
       "  <tbody>\n",
       "    <tr>\n",
       "      <th>2016-06-01</th>\n",
       "      <td>65.5</td>\n",
       "      <td>73.6</td>\n",
       "      <td>54.7</td>\n",
       "      <td>18.611111</td>\n",
       "    </tr>\n",
       "    <tr>\n",
       "      <th>2016-06-02</th>\n",
       "      <td>65.8</td>\n",
       "      <td>80.8</td>\n",
       "      <td>55.0</td>\n",
       "      <td>18.777778</td>\n",
       "    </tr>\n",
       "    <tr>\n",
       "      <th>2016-06-03</th>\n",
       "      <td>68.4</td>\n",
       "      <td>NaN</td>\n",
       "      <td>55.6</td>\n",
       "      <td>20.222222</td>\n",
       "    </tr>\n",
       "  </tbody>\n",
       "</table>\n",
       "</div>"
      ],
      "text/plain": [
       "            avg_F  max_F  min_F      avg_C\n",
       "YEARMODA                                  \n",
       "2016-06-01   65.5   73.6   54.7  18.611111\n",
       "2016-06-02   65.8   80.8   55.0  18.777778\n",
       "2016-06-03   68.4    NaN   55.6  20.222222"
      ]
     },
     "execution_count": 79,
     "metadata": {},
     "output_type": "execute_result"
    }
   ],
   "source": [
    "filt = df3c[\"avg_C\"] > 15\n",
    "sel = df3c[filt]\n",
    "sel.head(3)"
   ]
  },
  {
   "cell_type": "code",
   "execution_count": 80,
   "id": "b587217b-f455-4599-8499-a6a1ffb4ab20",
   "metadata": {},
   "outputs": [
    {
     "data": {
      "text/html": [
       "<div>\n",
       "<style scoped>\n",
       "    .dataframe tbody tr th:only-of-type {\n",
       "        vertical-align: middle;\n",
       "    }\n",
       "\n",
       "    .dataframe tbody tr th {\n",
       "        vertical-align: top;\n",
       "    }\n",
       "\n",
       "    .dataframe thead th {\n",
       "        text-align: right;\n",
       "    }\n",
       "</style>\n",
       "<table border=\"1\" class=\"dataframe\">\n",
       "  <thead>\n",
       "    <tr style=\"text-align: right;\">\n",
       "      <th></th>\n",
       "      <th>TEMP</th>\n",
       "      <th>MAX</th>\n",
       "      <th>MIN</th>\n",
       "    </tr>\n",
       "    <tr>\n",
       "      <th>YEARMODA</th>\n",
       "      <th></th>\n",
       "      <th></th>\n",
       "      <th></th>\n",
       "    </tr>\n",
       "  </thead>\n",
       "  <tbody>\n",
       "    <tr>\n",
       "      <th>2016-06-01</th>\n",
       "      <td>65.5</td>\n",
       "      <td>73.6</td>\n",
       "      <td>54.7</td>\n",
       "    </tr>\n",
       "    <tr>\n",
       "      <th>2016-06-02</th>\n",
       "      <td>65.8</td>\n",
       "      <td>80.8</td>\n",
       "      <td>55.0</td>\n",
       "    </tr>\n",
       "    <tr>\n",
       "      <th>2016-06-03</th>\n",
       "      <td>68.4</td>\n",
       "      <td>NaN</td>\n",
       "      <td>55.6</td>\n",
       "    </tr>\n",
       "  </tbody>\n",
       "</table>\n",
       "</div>"
      ],
      "text/plain": [
       "            TEMP   MAX   MIN\n",
       "YEARMODA                    \n",
       "2016-06-01  65.5  73.6  54.7\n",
       "2016-06-02  65.8  80.8  55.0\n",
       "2016-06-03  68.4   NaN  55.6"
      ]
     },
     "execution_count": 80,
     "metadata": {},
     "output_type": "execute_result"
    }
   ],
   "source": [
    "filt = df3c[\"avg_C\"] > 15\n",
    "sel = df3.loc[filt]\n",
    "sel.head(3)"
   ]
  },
  {
   "cell_type": "code",
   "execution_count": 81,
   "id": "02876662-a32e-47ee-b4a6-bfc24a9df9fb",
   "metadata": {},
   "outputs": [
    {
     "data": {
      "text/html": [
       "<div>\n",
       "<style scoped>\n",
       "    .dataframe tbody tr th:only-of-type {\n",
       "        vertical-align: middle;\n",
       "    }\n",
       "\n",
       "    .dataframe tbody tr th {\n",
       "        vertical-align: top;\n",
       "    }\n",
       "\n",
       "    .dataframe thead th {\n",
       "        text-align: right;\n",
       "    }\n",
       "</style>\n",
       "<table border=\"1\" class=\"dataframe\">\n",
       "  <thead>\n",
       "    <tr style=\"text-align: right;\">\n",
       "      <th></th>\n",
       "      <th>avg_F</th>\n",
       "      <th>max_F</th>\n",
       "      <th>min_F</th>\n",
       "      <th>avg_C</th>\n",
       "    </tr>\n",
       "    <tr>\n",
       "      <th>YEARMODA</th>\n",
       "      <th></th>\n",
       "      <th></th>\n",
       "      <th></th>\n",
       "      <th></th>\n",
       "    </tr>\n",
       "  </thead>\n",
       "  <tbody>\n",
       "    <tr>\n",
       "      <th>2016-06-15</th>\n",
       "      <td>63.4</td>\n",
       "      <td>70.3</td>\n",
       "      <td>49.3</td>\n",
       "      <td>17.444444</td>\n",
       "    </tr>\n",
       "    <tr>\n",
       "      <th>2016-06-17</th>\n",
       "      <td>60.4</td>\n",
       "      <td>70.7</td>\n",
       "      <td>55.9</td>\n",
       "      <td>15.777778</td>\n",
       "    </tr>\n",
       "    <tr>\n",
       "      <th>2016-06-20</th>\n",
       "      <td>59.3</td>\n",
       "      <td>69.1</td>\n",
       "      <td>52.2</td>\n",
       "      <td>15.166667</td>\n",
       "    </tr>\n",
       "  </tbody>\n",
       "</table>\n",
       "</div>"
      ],
      "text/plain": [
       "            avg_F  max_F  min_F      avg_C\n",
       "YEARMODA                                  \n",
       "2016-06-15   63.4   70.3   49.3  17.444444\n",
       "2016-06-17   60.4   70.7   55.9  15.777778\n",
       "2016-06-20   59.3   69.1   52.2  15.166667"
      ]
     },
     "execution_count": 81,
     "metadata": {},
     "output_type": "execute_result"
    }
   ],
   "source": [
    "filt1 =  df3c[\"avg_C\"] > 15\n",
    "filt2 =  df3c.index >= '2016-06-15'\n",
    "filt = filt1 & filt2\n",
    "warm_temps = df3c.loc[filt]\n",
    "warm_temps.head(3)"
   ]
  },
  {
   "cell_type": "code",
   "execution_count": 82,
   "id": "f90e4bd6-9306-46ae-82e7-8db635260281",
   "metadata": {},
   "outputs": [
    {
     "data": {
      "text/html": [
       "<div>\n",
       "<style scoped>\n",
       "    .dataframe tbody tr th:only-of-type {\n",
       "        vertical-align: middle;\n",
       "    }\n",
       "\n",
       "    .dataframe tbody tr th {\n",
       "        vertical-align: top;\n",
       "    }\n",
       "\n",
       "    .dataframe thead th {\n",
       "        text-align: right;\n",
       "    }\n",
       "</style>\n",
       "<table border=\"1\" class=\"dataframe\">\n",
       "  <thead>\n",
       "    <tr style=\"text-align: right;\">\n",
       "      <th></th>\n",
       "      <th>YEARMODA</th>\n",
       "      <th>TEMP</th>\n",
       "      <th>MAX</th>\n",
       "      <th>MIN</th>\n",
       "      <th>TEMP_CELSIUS</th>\n",
       "    </tr>\n",
       "  </thead>\n",
       "  <tbody>\n",
       "    <tr>\n",
       "      <th>14</th>\n",
       "      <td>20160615</td>\n",
       "      <td>63.4</td>\n",
       "      <td>70.3</td>\n",
       "      <td>49.3</td>\n",
       "      <td>17.444444</td>\n",
       "    </tr>\n",
       "    <tr>\n",
       "      <th>16</th>\n",
       "      <td>20160617</td>\n",
       "      <td>60.4</td>\n",
       "      <td>70.7</td>\n",
       "      <td>55.9</td>\n",
       "      <td>15.777778</td>\n",
       "    </tr>\n",
       "    <tr>\n",
       "      <th>19</th>\n",
       "      <td>20160620</td>\n",
       "      <td>59.3</td>\n",
       "      <td>69.1</td>\n",
       "      <td>52.2</td>\n",
       "      <td>15.166667</td>\n",
       "    </tr>\n",
       "  </tbody>\n",
       "</table>\n",
       "</div>"
      ],
      "text/plain": [
       "    YEARMODA  TEMP   MAX   MIN  TEMP_CELSIUS\n",
       "14  20160615  63.4  70.3  49.3     17.444444\n",
       "16  20160617  60.4  70.7  55.9     15.777778\n",
       "19  20160620  59.3  69.1  52.2     15.166667"
      ]
     },
     "execution_count": 82,
     "metadata": {},
     "output_type": "execute_result"
    }
   ],
   "source": [
    "filt1 =  df1c[\"TEMP_CELSIUS\"] > 15\n",
    "filt2 =  df1c[\"YEARMODA\"] >= 20160615\n",
    "filt = filt1 & filt2\n",
    "warm_temps = df1c.loc[filt]\n",
    "warm_temps.head(3)"
   ]
  },
  {
   "cell_type": "markdown",
   "id": "9ec508bd-4975-45ee-a896-6e15650beac0",
   "metadata": {},
   "source": [
    "#### reset_index()"
   ]
  },
  {
   "cell_type": "code",
   "execution_count": 83,
   "id": "edd9b349-6840-483c-90df-7792f682822f",
   "metadata": {},
   "outputs": [
    {
     "data": {
      "text/html": [
       "<div>\n",
       "<style scoped>\n",
       "    .dataframe tbody tr th:only-of-type {\n",
       "        vertical-align: middle;\n",
       "    }\n",
       "\n",
       "    .dataframe tbody tr th {\n",
       "        vertical-align: top;\n",
       "    }\n",
       "\n",
       "    .dataframe thead th {\n",
       "        text-align: right;\n",
       "    }\n",
       "</style>\n",
       "<table border=\"1\" class=\"dataframe\">\n",
       "  <thead>\n",
       "    <tr style=\"text-align: right;\">\n",
       "      <th></th>\n",
       "      <th>YEARMODA</th>\n",
       "      <th>TEMP</th>\n",
       "      <th>MAX</th>\n",
       "      <th>MIN</th>\n",
       "      <th>TEMP_CELSIUS</th>\n",
       "    </tr>\n",
       "  </thead>\n",
       "  <tbody>\n",
       "    <tr>\n",
       "      <th>0</th>\n",
       "      <td>20160615</td>\n",
       "      <td>63.4</td>\n",
       "      <td>70.3</td>\n",
       "      <td>49.3</td>\n",
       "      <td>17.444444</td>\n",
       "    </tr>\n",
       "    <tr>\n",
       "      <th>1</th>\n",
       "      <td>20160617</td>\n",
       "      <td>60.4</td>\n",
       "      <td>70.7</td>\n",
       "      <td>55.9</td>\n",
       "      <td>15.777778</td>\n",
       "    </tr>\n",
       "    <tr>\n",
       "      <th>2</th>\n",
       "      <td>20160620</td>\n",
       "      <td>59.3</td>\n",
       "      <td>69.1</td>\n",
       "      <td>52.2</td>\n",
       "      <td>15.166667</td>\n",
       "    </tr>\n",
       "  </tbody>\n",
       "</table>\n",
       "</div>"
      ],
      "text/plain": [
       "   YEARMODA  TEMP   MAX   MIN  TEMP_CELSIUS\n",
       "0  20160615  63.4  70.3  49.3     17.444444\n",
       "1  20160617  60.4  70.7  55.9     15.777778\n",
       "2  20160620  59.3  69.1  52.2     15.166667"
      ]
     },
     "execution_count": 83,
     "metadata": {},
     "output_type": "execute_result"
    }
   ],
   "source": [
    "warm_temps = warm_temps.reset_index(drop=True)\n",
    "warm_temps\n",
    "warm_temps.head(3)"
   ]
  },
  {
   "cell_type": "code",
   "execution_count": 84,
   "id": "3c4f365e-630e-4a0b-b5ed-8cb00cde236f",
   "metadata": {},
   "outputs": [
    {
     "data": {
      "text/plain": [
       "18.253968253968257"
      ]
     },
     "execution_count": 84,
     "metadata": {},
     "output_type": "execute_result"
    }
   ],
   "source": [
    "filt = df1c[\"YEARMODA\"] >= 20160624\n",
    "avg_temp = df1c['TEMP_CELSIUS'].loc[filt].mean()"
   ]
  },
  {
   "cell_type": "code",
   "execution_count": 85,
   "id": "e67e0f09-6748-457f-bd61-7f54f9d063e1",
   "metadata": {},
   "outputs": [
    {
     "data": {
      "text/plain": [
       "18.253968253968257"
      ]
     },
     "execution_count": 85,
     "metadata": {},
     "output_type": "execute_result"
    }
   ],
   "source": [
    "filt = df3c.index >= '2016-06-24'\n",
    "avg_temp = df3c['avg_C'].loc[filt].mean()"
   ]
  },
  {
   "cell_type": "markdown",
   "id": "187bfe47-32e1-4e29-81a2-1433f21e4c1d",
   "metadata": {
    "tags": []
   },
   "source": [
    "<a id='pd-missing'></a>\n",
    "## Missing Values"
   ]
  },
  {
   "cell_type": "markdown",
   "id": "822d75cd-f423-48f5-a172-f4d873864a25",
   "metadata": {
    "tags": []
   },
   "source": [
    "[Return to Start of Notebook](#pd)  "
   ]
  },
  {
   "cell_type": "markdown",
   "id": "c6d18104-5396-4a77-9209-debed4ba5a91",
   "metadata": {},
   "source": [
    "### .dropna()"
   ]
  },
  {
   "cell_type": "code",
   "execution_count": 86,
   "id": "2ea5f277-436f-4721-a8cb-503df87e1173",
   "metadata": {},
   "outputs": [
    {
     "data": {
      "text/html": [
       "<div>\n",
       "<style scoped>\n",
       "    .dataframe tbody tr th:only-of-type {\n",
       "        vertical-align: middle;\n",
       "    }\n",
       "\n",
       "    .dataframe tbody tr th {\n",
       "        vertical-align: top;\n",
       "    }\n",
       "\n",
       "    .dataframe thead th {\n",
       "        text-align: right;\n",
       "    }\n",
       "</style>\n",
       "<table border=\"1\" class=\"dataframe\">\n",
       "  <thead>\n",
       "    <tr style=\"text-align: right;\">\n",
       "      <th></th>\n",
       "      <th>YEARMODA</th>\n",
       "      <th>TEMP</th>\n",
       "      <th>MAX</th>\n",
       "      <th>MIN</th>\n",
       "      <th>TEMP_CELSIUS</th>\n",
       "    </tr>\n",
       "  </thead>\n",
       "  <tbody>\n",
       "    <tr>\n",
       "      <th>0</th>\n",
       "      <td>20160615</td>\n",
       "      <td>63.4</td>\n",
       "      <td>70.3</td>\n",
       "      <td>49.3</td>\n",
       "      <td>17.444444</td>\n",
       "    </tr>\n",
       "    <tr>\n",
       "      <th>1</th>\n",
       "      <td>20160617</td>\n",
       "      <td>60.4</td>\n",
       "      <td>70.7</td>\n",
       "      <td>55.9</td>\n",
       "      <td>15.777778</td>\n",
       "    </tr>\n",
       "    <tr>\n",
       "      <th>2</th>\n",
       "      <td>20160620</td>\n",
       "      <td>59.3</td>\n",
       "      <td>69.1</td>\n",
       "      <td>52.2</td>\n",
       "      <td>15.166667</td>\n",
       "    </tr>\n",
       "    <tr>\n",
       "      <th>3</th>\n",
       "      <td>20160621</td>\n",
       "      <td>62.6</td>\n",
       "      <td>71.4</td>\n",
       "      <td>50.4</td>\n",
       "      <td>17.000000</td>\n",
       "    </tr>\n",
       "    <tr>\n",
       "      <th>...</th>\n",
       "      <td>...</td>\n",
       "      <td>...</td>\n",
       "      <td>...</td>\n",
       "      <td>...</td>\n",
       "      <td>...</td>\n",
       "    </tr>\n",
       "    <tr>\n",
       "      <th>7</th>\n",
       "      <td>20160625</td>\n",
       "      <td>65.7</td>\n",
       "      <td>75.4</td>\n",
       "      <td>57.9</td>\n",
       "      <td>18.722222</td>\n",
       "    </tr>\n",
       "    <tr>\n",
       "      <th>8</th>\n",
       "      <td>20160626</td>\n",
       "      <td>69.6</td>\n",
       "      <td>77.7</td>\n",
       "      <td>60.3</td>\n",
       "      <td>20.888889</td>\n",
       "    </tr>\n",
       "    <tr>\n",
       "      <th>10</th>\n",
       "      <td>20160628</td>\n",
       "      <td>65.4</td>\n",
       "      <td>73.0</td>\n",
       "      <td>55.8</td>\n",
       "      <td>18.555556</td>\n",
       "    </tr>\n",
       "    <tr>\n",
       "      <th>12</th>\n",
       "      <td>20160630</td>\n",
       "      <td>65.7</td>\n",
       "      <td>72.7</td>\n",
       "      <td>59.2</td>\n",
       "      <td>18.722222</td>\n",
       "    </tr>\n",
       "  </tbody>\n",
       "</table>\n",
       "<p>11 rows × 5 columns</p>\n",
       "</div>"
      ],
      "text/plain": [
       "    YEARMODA  TEMP   MAX   MIN  TEMP_CELSIUS\n",
       "0   20160615  63.4  70.3  49.3     17.444444\n",
       "1   20160617  60.4  70.7  55.9     15.777778\n",
       "2   20160620  59.3  69.1  52.2     15.166667\n",
       "3   20160621  62.6  71.4  50.4     17.000000\n",
       "..       ...   ...   ...   ...           ...\n",
       "7   20160625  65.7  75.4  57.9     18.722222\n",
       "8   20160626  69.6  77.7  60.3     20.888889\n",
       "10  20160628  65.4  73.0  55.8     18.555556\n",
       "12  20160630  65.7  72.7  59.2     18.722222\n",
       "\n",
       "[11 rows x 5 columns]"
      ]
     },
     "execution_count": 86,
     "metadata": {},
     "output_type": "execute_result"
    }
   ],
   "source": [
    "warm_temps_clean = warm_temps.dropna(subset=[\"MIN\"])\n",
    "warm_temps_clean"
   ]
  },
  {
   "cell_type": "markdown",
   "id": "6631cf46-790b-45f4-844a-139f7cbf9885",
   "metadata": {},
   "source": [
    "### .fillna()"
   ]
  },
  {
   "cell_type": "code",
   "execution_count": 87,
   "id": "08f937cc-2e70-4e4c-b642-3ab7f0d13c11",
   "metadata": {},
   "outputs": [
    {
     "data": {
      "text/html": [
       "<div>\n",
       "<style scoped>\n",
       "    .dataframe tbody tr th:only-of-type {\n",
       "        vertical-align: middle;\n",
       "    }\n",
       "\n",
       "    .dataframe tbody tr th {\n",
       "        vertical-align: top;\n",
       "    }\n",
       "\n",
       "    .dataframe thead th {\n",
       "        text-align: right;\n",
       "    }\n",
       "</style>\n",
       "<table border=\"1\" class=\"dataframe\">\n",
       "  <thead>\n",
       "    <tr style=\"text-align: right;\">\n",
       "      <th></th>\n",
       "      <th>YEARMODA</th>\n",
       "      <th>TEMP</th>\n",
       "      <th>MAX</th>\n",
       "      <th>MIN</th>\n",
       "      <th>TEMP_CELSIUS</th>\n",
       "    </tr>\n",
       "  </thead>\n",
       "  <tbody>\n",
       "    <tr>\n",
       "      <th>0</th>\n",
       "      <td>20160615</td>\n",
       "      <td>63.4</td>\n",
       "      <td>70.3</td>\n",
       "      <td>49.3</td>\n",
       "      <td>17.444444</td>\n",
       "    </tr>\n",
       "    <tr>\n",
       "      <th>1</th>\n",
       "      <td>20160617</td>\n",
       "      <td>60.4</td>\n",
       "      <td>70.7</td>\n",
       "      <td>55.9</td>\n",
       "      <td>15.777778</td>\n",
       "    </tr>\n",
       "    <tr>\n",
       "      <th>2</th>\n",
       "      <td>20160620</td>\n",
       "      <td>59.3</td>\n",
       "      <td>69.1</td>\n",
       "      <td>52.2</td>\n",
       "      <td>15.166667</td>\n",
       "    </tr>\n",
       "    <tr>\n",
       "      <th>3</th>\n",
       "      <td>20160621</td>\n",
       "      <td>62.6</td>\n",
       "      <td>71.4</td>\n",
       "      <td>50.4</td>\n",
       "      <td>17.000000</td>\n",
       "    </tr>\n",
       "    <tr>\n",
       "      <th>...</th>\n",
       "      <td>...</td>\n",
       "      <td>...</td>\n",
       "      <td>...</td>\n",
       "      <td>...</td>\n",
       "      <td>...</td>\n",
       "    </tr>\n",
       "    <tr>\n",
       "      <th>9</th>\n",
       "      <td>20160627</td>\n",
       "      <td>60.7</td>\n",
       "      <td>70.0</td>\n",
       "      <td>-9999.0</td>\n",
       "      <td>15.944444</td>\n",
       "    </tr>\n",
       "    <tr>\n",
       "      <th>10</th>\n",
       "      <td>20160628</td>\n",
       "      <td>65.4</td>\n",
       "      <td>73.0</td>\n",
       "      <td>55.8</td>\n",
       "      <td>18.555556</td>\n",
       "    </tr>\n",
       "    <tr>\n",
       "      <th>11</th>\n",
       "      <td>20160629</td>\n",
       "      <td>65.8</td>\n",
       "      <td>73.2</td>\n",
       "      <td>-9999.0</td>\n",
       "      <td>18.777778</td>\n",
       "    </tr>\n",
       "    <tr>\n",
       "      <th>12</th>\n",
       "      <td>20160630</td>\n",
       "      <td>65.7</td>\n",
       "      <td>72.7</td>\n",
       "      <td>59.2</td>\n",
       "      <td>18.722222</td>\n",
       "    </tr>\n",
       "  </tbody>\n",
       "</table>\n",
       "<p>13 rows × 5 columns</p>\n",
       "</div>"
      ],
      "text/plain": [
       "    YEARMODA  TEMP   MAX     MIN  TEMP_CELSIUS\n",
       "0   20160615  63.4  70.3    49.3     17.444444\n",
       "1   20160617  60.4  70.7    55.9     15.777778\n",
       "2   20160620  59.3  69.1    52.2     15.166667\n",
       "3   20160621  62.6  71.4    50.4     17.000000\n",
       "..       ...   ...   ...     ...           ...\n",
       "9   20160627  60.7  70.0 -9999.0     15.944444\n",
       "10  20160628  65.4  73.0    55.8     18.555556\n",
       "11  20160629  65.8  73.2 -9999.0     18.777778\n",
       "12  20160630  65.7  72.7    59.2     18.722222\n",
       "\n",
       "[13 rows x 5 columns]"
      ]
     },
     "execution_count": 87,
     "metadata": {},
     "output_type": "execute_result"
    }
   ],
   "source": [
    "warm_temps.fillna(-9999)"
   ]
  },
  {
   "cell_type": "code",
   "execution_count": 88,
   "id": "e34b0794-dc61-4b2e-b4e5-4069745f561e",
   "metadata": {},
   "outputs": [
    {
     "data": {
      "text/html": [
       "<div>\n",
       "<style scoped>\n",
       "    .dataframe tbody tr th:only-of-type {\n",
       "        vertical-align: middle;\n",
       "    }\n",
       "\n",
       "    .dataframe tbody tr th {\n",
       "        vertical-align: top;\n",
       "    }\n",
       "\n",
       "    .dataframe thead th {\n",
       "        text-align: right;\n",
       "    }\n",
       "</style>\n",
       "<table border=\"1\" class=\"dataframe\">\n",
       "  <thead>\n",
       "    <tr style=\"text-align: right;\">\n",
       "      <th></th>\n",
       "      <th>YEARMODA</th>\n",
       "      <th>TEMP</th>\n",
       "      <th>MAX</th>\n",
       "      <th>MIN</th>\n",
       "      <th>TEMP_CELSIUS</th>\n",
       "    </tr>\n",
       "  </thead>\n",
       "  <tbody>\n",
       "    <tr>\n",
       "      <th>0</th>\n",
       "      <td>20160615</td>\n",
       "      <td>63.4</td>\n",
       "      <td>70.3</td>\n",
       "      <td>49.3</td>\n",
       "      <td>17.444444</td>\n",
       "    </tr>\n",
       "    <tr>\n",
       "      <th>1</th>\n",
       "      <td>20160617</td>\n",
       "      <td>60.4</td>\n",
       "      <td>70.7</td>\n",
       "      <td>55.9</td>\n",
       "      <td>15.777778</td>\n",
       "    </tr>\n",
       "    <tr>\n",
       "      <th>2</th>\n",
       "      <td>20160620</td>\n",
       "      <td>59.3</td>\n",
       "      <td>69.1</td>\n",
       "      <td>52.2</td>\n",
       "      <td>15.166667</td>\n",
       "    </tr>\n",
       "    <tr>\n",
       "      <th>3</th>\n",
       "      <td>20160621</td>\n",
       "      <td>62.6</td>\n",
       "      <td>71.4</td>\n",
       "      <td>50.4</td>\n",
       "      <td>17.000000</td>\n",
       "    </tr>\n",
       "    <tr>\n",
       "      <th>...</th>\n",
       "      <td>...</td>\n",
       "      <td>...</td>\n",
       "      <td>...</td>\n",
       "      <td>...</td>\n",
       "      <td>...</td>\n",
       "    </tr>\n",
       "    <tr>\n",
       "      <th>9</th>\n",
       "      <td>20160627</td>\n",
       "      <td>60.7</td>\n",
       "      <td>70.0</td>\n",
       "      <td>NaN</td>\n",
       "      <td>15.944444</td>\n",
       "    </tr>\n",
       "    <tr>\n",
       "      <th>10</th>\n",
       "      <td>20160628</td>\n",
       "      <td>65.4</td>\n",
       "      <td>73.0</td>\n",
       "      <td>55.8</td>\n",
       "      <td>18.555556</td>\n",
       "    </tr>\n",
       "    <tr>\n",
       "      <th>11</th>\n",
       "      <td>20160629</td>\n",
       "      <td>65.8</td>\n",
       "      <td>73.2</td>\n",
       "      <td>NaN</td>\n",
       "      <td>18.777778</td>\n",
       "    </tr>\n",
       "    <tr>\n",
       "      <th>12</th>\n",
       "      <td>20160630</td>\n",
       "      <td>65.7</td>\n",
       "      <td>72.7</td>\n",
       "      <td>59.2</td>\n",
       "      <td>18.722222</td>\n",
       "    </tr>\n",
       "  </tbody>\n",
       "</table>\n",
       "<p>13 rows × 5 columns</p>\n",
       "</div>"
      ],
      "text/plain": [
       "    YEARMODA  TEMP   MAX   MIN  TEMP_CELSIUS\n",
       "0   20160615  63.4  70.3  49.3     17.444444\n",
       "1   20160617  60.4  70.7  55.9     15.777778\n",
       "2   20160620  59.3  69.1  52.2     15.166667\n",
       "3   20160621  62.6  71.4  50.4     17.000000\n",
       "..       ...   ...   ...   ...           ...\n",
       "9   20160627  60.7  70.0   NaN     15.944444\n",
       "10  20160628  65.4  73.0  55.8     18.555556\n",
       "11  20160629  65.8  73.2   NaN     18.777778\n",
       "12  20160630  65.7  72.7  59.2     18.722222\n",
       "\n",
       "[13 rows x 5 columns]"
      ]
     },
     "execution_count": 88,
     "metadata": {},
     "output_type": "execute_result"
    }
   ],
   "source": [
    "warm_temps"
   ]
  },
  {
   "cell_type": "markdown",
   "id": "f826f28a-a122-4b7b-b629-7c513e0e4ea7",
   "metadata": {
    "tags": []
   },
   "source": [
    "<a id='pd-export'></a>\n",
    "## Export"
   ]
  },
  {
   "cell_type": "markdown",
   "id": "c2b4a61c-aa13-4362-a118-7498c7b668ab",
   "metadata": {
    "tags": []
   },
   "source": [
    "[Return to Start of Notebook](#pd)  "
   ]
  },
  {
   "cell_type": "markdown",
   "id": "e616ea6c-e9f7-42c4-b7d9-fa7f19dbd960",
   "metadata": {},
   "source": [
    "### .to_csv()"
   ]
  },
  {
   "cell_type": "code",
   "execution_count": 89,
   "id": "6a915cac-496f-424e-b684-a832b58926a4",
   "metadata": {},
   "outputs": [
    {
     "data": {
      "text/plain": [
       "'/Users/forest/eda/gpy/save/Kumpula_temps_June_2016.csv'"
      ]
     },
     "execution_count": 89,
     "metadata": {},
     "output_type": "execute_result"
    }
   ],
   "source": [
    "file_name = \"Kumpula_temps_June_2016.csv\"\n",
    "file_path = os.path.join(save_dir, file_name)"
   ]
  },
  {
   "cell_type": "code",
   "execution_count": 90,
   "id": "8d710911-49cb-4540-97e4-cca37c39ebaa",
   "metadata": {},
   "outputs": [],
   "source": [
    "df3.to_csv(file_path, sep=\",\")"
   ]
  },
  {
   "cell_type": "markdown",
   "id": "80d0da45-8a6c-4e34-a7ec-1f1b63f40aa1",
   "metadata": {},
   "source": [
    "### index=False"
   ]
  },
  {
   "cell_type": "code",
   "execution_count": 91,
   "id": "1b8d7be7-cedc-4451-9f6b-b95e21043263",
   "metadata": {},
   "outputs": [
    {
     "data": {
      "text/plain": [
       "'/Users/forest/eda/gpy/save/Kumpula_temps_above15_June_2016.csv'"
      ]
     },
     "execution_count": 91,
     "metadata": {},
     "output_type": "execute_result"
    }
   ],
   "source": [
    "file_name = \"Kumpula_temps_above15_June_2016.csv\"\n",
    "file_path = os.path.join(save_dir, file_name)"
   ]
  },
  {
   "cell_type": "code",
   "execution_count": 92,
   "id": "eb183cb1-d0b1-46a6-bc1e-9a62454bf435",
   "metadata": {},
   "outputs": [],
   "source": [
    "warm_temps.to_csv(file_path,  sep=\",\", index=False)"
   ]
  },
  {
   "cell_type": "markdown",
   "id": "2f6f974b-3817-4972-8c06-f32ca304381b",
   "metadata": {},
   "source": [
    "### float_format"
   ]
  },
  {
   "cell_type": "code",
   "execution_count": 93,
   "id": "8d3cbd73-028e-44cc-ac4d-bfcd1fb972c4",
   "metadata": {},
   "outputs": [],
   "source": [
    "warm_temps.to_csv(file_path,  sep=\",\", index=False, float_format=\"%.1f\")"
   ]
  },
  {
   "cell_type": "markdown",
   "id": "b27f48b3-27c5-471e-9154-768a03c57ed9",
   "metadata": {
    "tags": []
   },
   "source": [
    "<a id='pd-exercise'></a>\n",
    "## Exercise"
   ]
  },
  {
   "cell_type": "markdown",
   "id": "749534a9-ef27-46e0-ab18-6099d3f9f659",
   "metadata": {
    "tags": []
   },
   "source": [
    "[Return to Start of Notebook](#pd)  "
   ]
  },
  {
   "cell_type": "markdown",
   "id": "8678cc12-395d-4dd9-9edc-825935fea2e4",
   "metadata": {},
   "source": [
    "### Prob 1"
   ]
  },
  {
   "cell_type": "code",
   "execution_count": 94,
   "id": "6c1a2715-322b-4430-8afa-8bcfe7c3d4f8",
   "metadata": {},
   "outputs": [
    {
     "data": {
      "text/html": [
       "<div>\n",
       "<style scoped>\n",
       "    .dataframe tbody tr th:only-of-type {\n",
       "        vertical-align: middle;\n",
       "    }\n",
       "\n",
       "    .dataframe tbody tr th {\n",
       "        vertical-align: top;\n",
       "    }\n",
       "\n",
       "    .dataframe thead th {\n",
       "        text-align: right;\n",
       "    }\n",
       "</style>\n",
       "<table border=\"1\" class=\"dataframe\">\n",
       "  <thead>\n",
       "    <tr style=\"text-align: right;\">\n",
       "      <th></th>\n",
       "      <th>USAF</th>\n",
       "      <th>WBAN</th>\n",
       "      <th>YR--MODAHRMN</th>\n",
       "      <th>DIR</th>\n",
       "      <th>SPD</th>\n",
       "      <th>GUS</th>\n",
       "      <th>CLG</th>\n",
       "      <th>SKC</th>\n",
       "      <th>L</th>\n",
       "      <th>M</th>\n",
       "      <th>...</th>\n",
       "      <th>SLP</th>\n",
       "      <th>ALT</th>\n",
       "      <th>STP</th>\n",
       "      <th>MAX</th>\n",
       "      <th>MIN</th>\n",
       "      <th>PCP01</th>\n",
       "      <th>PCP06</th>\n",
       "      <th>PCP24</th>\n",
       "      <th>PCPXX</th>\n",
       "      <th>SD</th>\n",
       "    </tr>\n",
       "  </thead>\n",
       "  <tbody>\n",
       "    <tr>\n",
       "      <th>0</th>\n",
       "      <td>28450</td>\n",
       "      <td>99999</td>\n",
       "      <td>201705010000</td>\n",
       "      <td>174.0</td>\n",
       "      <td>10.0</td>\n",
       "      <td>14.0</td>\n",
       "      <td>NaN</td>\n",
       "      <td>NaN</td>\n",
       "      <td>NaN</td>\n",
       "      <td>NaN</td>\n",
       "      <td>...</td>\n",
       "      <td>1009.2</td>\n",
       "      <td>NaN</td>\n",
       "      <td>984.1</td>\n",
       "      <td>NaN</td>\n",
       "      <td>NaN</td>\n",
       "      <td>NaN</td>\n",
       "      <td>NaN</td>\n",
       "      <td>NaN</td>\n",
       "      <td>NaN</td>\n",
       "      <td>35.0</td>\n",
       "    </tr>\n",
       "    <tr>\n",
       "      <th>1</th>\n",
       "      <td>28450</td>\n",
       "      <td>99999</td>\n",
       "      <td>201705010020</td>\n",
       "      <td>180.0</td>\n",
       "      <td>10.0</td>\n",
       "      <td>NaN</td>\n",
       "      <td>4.0</td>\n",
       "      <td>NaN</td>\n",
       "      <td>NaN</td>\n",
       "      <td>NaN</td>\n",
       "      <td>...</td>\n",
       "      <td>NaN</td>\n",
       "      <td>29.74</td>\n",
       "      <td>NaN</td>\n",
       "      <td>NaN</td>\n",
       "      <td>NaN</td>\n",
       "      <td>NaN</td>\n",
       "      <td>NaN</td>\n",
       "      <td>NaN</td>\n",
       "      <td>NaN</td>\n",
       "      <td>NaN</td>\n",
       "    </tr>\n",
       "    <tr>\n",
       "      <th>2</th>\n",
       "      <td>28450</td>\n",
       "      <td>99999</td>\n",
       "      <td>201705010050</td>\n",
       "      <td>190.0</td>\n",
       "      <td>10.0</td>\n",
       "      <td>NaN</td>\n",
       "      <td>4.0</td>\n",
       "      <td>NaN</td>\n",
       "      <td>NaN</td>\n",
       "      <td>NaN</td>\n",
       "      <td>...</td>\n",
       "      <td>NaN</td>\n",
       "      <td>29.74</td>\n",
       "      <td>NaN</td>\n",
       "      <td>NaN</td>\n",
       "      <td>NaN</td>\n",
       "      <td>NaN</td>\n",
       "      <td>NaN</td>\n",
       "      <td>NaN</td>\n",
       "      <td>NaN</td>\n",
       "      <td>NaN</td>\n",
       "    </tr>\n",
       "  </tbody>\n",
       "</table>\n",
       "<p>3 rows × 33 columns</p>\n",
       "</div>"
      ],
      "text/plain": [
       "    USAF   WBAN  YR--MODAHRMN    DIR   SPD   GUS  CLG  SKC   L   M  ...  \\\n",
       "0  28450  99999  201705010000  174.0  10.0  14.0  NaN  NaN NaN NaN  ...   \n",
       "1  28450  99999  201705010020  180.0  10.0   NaN  4.0  NaN NaN NaN  ...   \n",
       "2  28450  99999  201705010050  190.0  10.0   NaN  4.0  NaN NaN NaN  ...   \n",
       "\n",
       "      SLP    ALT    STP  MAX  MIN  PCP01  PCP06  PCP24  PCPXX    SD  \n",
       "0  1009.2    NaN  984.1  NaN  NaN    NaN    NaN    NaN    NaN  35.0  \n",
       "1     NaN  29.74    NaN  NaN  NaN    NaN    NaN    NaN    NaN   NaN  \n",
       "2     NaN  29.74    NaN  NaN  NaN    NaN    NaN    NaN    NaN   NaN  \n",
       "\n",
       "[3 rows x 33 columns]"
      ]
     },
     "execution_count": 94,
     "metadata": {},
     "output_type": "execute_result"
    }
   ],
   "source": [
    "file_name = \"6153237444115dat.csv\"\n",
    "file_path = os.path.join(data_dir, file_name)\n",
    "data = pd.read_csv(file_path,\n",
    "                 sep=',',\n",
    "                  na_values=['*', '**', '***', '****', '*****', '******'])\n",
    "data.head(3)"
   ]
  },
  {
   "cell_type": "code",
   "execution_count": 95,
   "id": "018a20d6-0de4-4e61-9769-b166cfb04d38",
   "metadata": {},
   "outputs": [
    {
     "name": "stdout",
     "output_type": "stream",
     "text": [
      "There are 11694 rows\n"
     ]
    }
   ],
   "source": [
    "row_count = len(data)\n",
    "print(f\"There are {row_count} rows\")"
   ]
  },
  {
   "cell_type": "code",
   "execution_count": 96,
   "id": "26e14d35-613c-4d25-9988-3a0adfacd881",
   "metadata": {},
   "outputs": [
    {
     "name": "stdout",
     "output_type": "stream",
     "text": [
      "The columns are: \n",
      "Index(['USAF', 'WBAN', 'YR--MODAHRMN', 'DIR', 'SPD', 'GUS', 'CLG', 'SKC', 'L',\n",
      "       'M', 'H', 'VSB', 'MW', 'MW.1', 'MW.2', 'MW.3', 'AW', 'AW.1', 'AW.2',\n",
      "       'AW.3', 'W', 'TEMP', 'DEWP', 'SLP', 'ALT', 'STP', 'MAX', 'MIN', 'PCP01',\n",
      "       'PCP06', 'PCP24', 'PCPXX', 'SD'],\n",
      "      dtype='object')\n"
     ]
    }
   ],
   "source": [
    "column_names = data.columns\n",
    "print(f\"The columns are: \\n{column_names}\")"
   ]
  },
  {
   "cell_type": "code",
   "execution_count": 97,
   "id": "f23fe2ec-0fe8-4186-bbdc-4a2935834a9f",
   "metadata": {},
   "outputs": [
    {
     "name": "stdout",
     "output_type": "stream",
     "text": [
      "The columns are: \n",
      "['USAF', 'WBAN', 'YR--MODAHRMN', 'DIR', 'SPD', 'GUS', 'CLG', 'SKC', 'L', 'M', 'H', 'VSB', 'MW', 'MW.1', 'MW.2', 'MW.3', 'AW', 'AW.1', 'AW.2', 'AW.3', 'W', 'TEMP', 'DEWP', 'SLP', 'ALT', 'STP', 'MAX', 'MIN', 'PCP01', 'PCP06', 'PCP24', 'PCPXX', 'SD']\n"
     ]
    }
   ],
   "source": [
    "column_names = list(data.columns)\n",
    "print(f\"The columns are: \\n{column_names}\")"
   ]
  },
  {
   "cell_type": "code",
   "execution_count": 98,
   "id": "83b6f2cf-76db-4928-96f2-6e85df0e1a99",
   "metadata": {},
   "outputs": [
    {
     "name": "stdout",
     "output_type": "stream",
     "text": [
      "The column types are: \n",
      "USAF              int64\n",
      "WBAN              int64\n",
      "YR--MODAHRMN      int64\n",
      "DIR             float64\n",
      "                 ...   \n",
      "PCP06           float64\n",
      "PCP24           float64\n",
      "PCPXX           float64\n",
      "SD              float64\n",
      "Length: 33, dtype: object\n"
     ]
    }
   ],
   "source": [
    "column_datatypes = data.dtypes\n",
    "print(f\"The column types are: \\n{column_datatypes}\")"
   ]
  },
  {
   "cell_type": "code",
   "execution_count": 99,
   "id": "e1cf31fb-9590-4e95-a1c3-62b27375a75a",
   "metadata": {},
   "outputs": [
    {
     "name": "stdout",
     "output_type": "stream",
     "text": [
      "The mean temperature in Fahrenheit is 52.2\n"
     ]
    }
   ],
   "source": [
    "temp_mean = data [\"TEMP\"].mean()\n",
    "print(f\"The mean temperature in Fahrenheit is {round(temp_mean,1)}\")"
   ]
  },
  {
   "cell_type": "code",
   "execution_count": 100,
   "id": "ac467025-cb10-409d-9aa2-32b9f98bc9a1",
   "metadata": {},
   "outputs": [
    {
     "name": "stdout",
     "output_type": "stream",
     "text": [
      "The standard deviation of maximum temperature is 10.3\n"
     ]
    }
   ],
   "source": [
    "temp_max_std = data [\"MAX\"].std()\n",
    "print(f\"The standard deviation of maximum temperature is {round(temp_max_std, 1)}\")"
   ]
  },
  {
   "cell_type": "code",
   "execution_count": 101,
   "id": "3f1ebc8e-9c5f-4ea4-a788-b96606583ea6",
   "metadata": {},
   "outputs": [
    {
     "name": "stdout",
     "output_type": "stream",
     "text": [
      "The number of unique stations is 2\n"
     ]
    }
   ],
   "source": [
    "station_count = data[\"USAF\"].nunique()\n",
    "print(f\"The number of unique stations is {station_count}\")"
   ]
  },
  {
   "cell_type": "markdown",
   "id": "cf1c86ed-1f70-43bf-94b3-2ac0513a92d3",
   "metadata": {},
   "source": [
    "### Prob 2"
   ]
  },
  {
   "cell_type": "code",
   "execution_count": 102,
   "id": "0d8926a2-df5a-43fb-ba50-fb294d54b8c9",
   "metadata": {},
   "outputs": [
    {
     "name": "stdout",
     "output_type": "stream",
     "text": [
      "<class 'pandas.core.frame.DataFrame'>\n",
      "RangeIndex: 11694 entries, 0 to 11693\n",
      "Data columns (total 5 columns):\n",
      " #   Column        Non-Null Count  Dtype  \n",
      "---  ------        --------------  -----  \n",
      " 0   USAF          11694 non-null  int64  \n",
      " 1   YR--MODAHRMN  11694 non-null  int64  \n",
      " 2   TEMP          11691 non-null  float64\n",
      " 3   MAX           486 non-null    float64\n",
      " 4   MIN           486 non-null    float64\n",
      "dtypes: float64(3), int64(2)\n",
      "memory usage: 456.9 KB\n"
     ]
    }
   ],
   "source": [
    "selected = data[[\"USAF\", \"YR--MODAHRMN\", \"TEMP\", \"MAX\", \"MIN\"]]\n",
    "selected.info()"
   ]
  },
  {
   "cell_type": "code",
   "execution_count": 103,
   "id": "fa646804-8ad7-44fe-a509-833c139e3e41",
   "metadata": {},
   "outputs": [
    {
     "data": {
      "text/plain": [
       "11691"
      ]
     },
     "execution_count": 103,
     "metadata": {},
     "output_type": "execute_result"
    }
   ],
   "source": [
    "selected = selected.dropna(subset=[\"TEMP\"])\n",
    "len(selected)"
   ]
  },
  {
   "cell_type": "code",
   "execution_count": 104,
   "id": "2bd61a9d-89c6-48a6-a50d-8dfa1d431741",
   "metadata": {},
   "outputs": [
    {
     "data": {
      "text/html": [
       "<div>\n",
       "<style scoped>\n",
       "    .dataframe tbody tr th:only-of-type {\n",
       "        vertical-align: middle;\n",
       "    }\n",
       "\n",
       "    .dataframe tbody tr th {\n",
       "        vertical-align: top;\n",
       "    }\n",
       "\n",
       "    .dataframe thead th {\n",
       "        text-align: right;\n",
       "    }\n",
       "</style>\n",
       "<table border=\"1\" class=\"dataframe\">\n",
       "  <thead>\n",
       "    <tr style=\"text-align: right;\">\n",
       "      <th></th>\n",
       "      <th>USAF</th>\n",
       "      <th>YR--MODAHRMN</th>\n",
       "      <th>TEMP</th>\n",
       "      <th>MAX</th>\n",
       "      <th>MIN</th>\n",
       "      <th>Celsius</th>\n",
       "    </tr>\n",
       "  </thead>\n",
       "  <tbody>\n",
       "    <tr>\n",
       "      <th>0</th>\n",
       "      <td>28450</td>\n",
       "      <td>201705010000</td>\n",
       "      <td>31.0</td>\n",
       "      <td>NaN</td>\n",
       "      <td>NaN</td>\n",
       "      <td>-1</td>\n",
       "    </tr>\n",
       "    <tr>\n",
       "      <th>1</th>\n",
       "      <td>28450</td>\n",
       "      <td>201705010020</td>\n",
       "      <td>30.0</td>\n",
       "      <td>NaN</td>\n",
       "      <td>NaN</td>\n",
       "      <td>-1</td>\n",
       "    </tr>\n",
       "    <tr>\n",
       "      <th>2</th>\n",
       "      <td>28450</td>\n",
       "      <td>201705010050</td>\n",
       "      <td>30.0</td>\n",
       "      <td>NaN</td>\n",
       "      <td>NaN</td>\n",
       "      <td>-1</td>\n",
       "    </tr>\n",
       "  </tbody>\n",
       "</table>\n",
       "</div>"
      ],
      "text/plain": [
       "    USAF  YR--MODAHRMN  TEMP  MAX  MIN  Celsius\n",
       "0  28450  201705010000  31.0  NaN  NaN       -1\n",
       "1  28450  201705010020  30.0  NaN  NaN       -1\n",
       "2  28450  201705010050  30.0  NaN  NaN       -1"
      ]
     },
     "execution_count": 104,
     "metadata": {},
     "output_type": "execute_result"
    }
   ],
   "source": [
    "selected[\"Celsius\"] = (round((selected[\"TEMP\"] - 32) / 1.8,0)).astype(int)\n",
    "selected.head(3)"
   ]
  },
  {
   "cell_type": "code",
   "execution_count": 105,
   "id": "c30b6350-a91f-4eaf-b0a2-cb0c097b4dcc",
   "metadata": {},
   "outputs": [
    {
     "data": {
      "text/plain": [
       "USAF              int64\n",
       "YR--MODAHRMN      int64\n",
       "TEMP            float64\n",
       "MAX             float64\n",
       "MIN             float64\n",
       "Celsius           int64\n",
       "dtype: object"
      ]
     },
     "execution_count": 105,
     "metadata": {},
     "output_type": "execute_result"
    }
   ],
   "source": [
    "selected.dtypes"
   ]
  },
  {
   "cell_type": "code",
   "execution_count": 106,
   "id": "7625f66a-e76f-4778-91ab-36488e8b1d11",
   "metadata": {},
   "outputs": [
    {
     "data": {
      "text/plain": [
       "2924"
      ]
     },
     "execution_count": 106,
     "metadata": {},
     "output_type": "execute_result"
    }
   ],
   "source": [
    "filt = selected[\"USAF\"] == 29980\n",
    "kumpula = selected[filt]\n",
    "len(kumpula)"
   ]
  },
  {
   "cell_type": "code",
   "execution_count": 107,
   "id": "4d7e14b8-5cf0-4f08-a6d7-fe1041ed6a7e",
   "metadata": {},
   "outputs": [
    {
     "data": {
      "text/html": [
       "<div>\n",
       "<style scoped>\n",
       "    .dataframe tbody tr th:only-of-type {\n",
       "        vertical-align: middle;\n",
       "    }\n",
       "\n",
       "    .dataframe tbody tr th {\n",
       "        vertical-align: top;\n",
       "    }\n",
       "\n",
       "    .dataframe thead th {\n",
       "        text-align: right;\n",
       "    }\n",
       "</style>\n",
       "<table border=\"1\" class=\"dataframe\">\n",
       "  <thead>\n",
       "    <tr style=\"text-align: right;\">\n",
       "      <th></th>\n",
       "      <th>USAF</th>\n",
       "      <th>YR--MODAHRMN</th>\n",
       "      <th>TEMP</th>\n",
       "      <th>MAX</th>\n",
       "      <th>MIN</th>\n",
       "      <th>Celsius</th>\n",
       "    </tr>\n",
       "  </thead>\n",
       "  <tbody>\n",
       "    <tr>\n",
       "      <th>8770</th>\n",
       "      <td>29980</td>\n",
       "      <td>201705010000</td>\n",
       "      <td>37.0</td>\n",
       "      <td>NaN</td>\n",
       "      <td>NaN</td>\n",
       "      <td>3</td>\n",
       "    </tr>\n",
       "    <tr>\n",
       "      <th>8771</th>\n",
       "      <td>29980</td>\n",
       "      <td>201705010100</td>\n",
       "      <td>37.0</td>\n",
       "      <td>NaN</td>\n",
       "      <td>NaN</td>\n",
       "      <td>3</td>\n",
       "    </tr>\n",
       "    <tr>\n",
       "      <th>8772</th>\n",
       "      <td>29980</td>\n",
       "      <td>201705010200</td>\n",
       "      <td>37.0</td>\n",
       "      <td>NaN</td>\n",
       "      <td>NaN</td>\n",
       "      <td>3</td>\n",
       "    </tr>\n",
       "  </tbody>\n",
       "</table>\n",
       "</div>"
      ],
      "text/plain": [
       "       USAF  YR--MODAHRMN  TEMP  MAX  MIN  Celsius\n",
       "8770  29980  201705010000  37.0  NaN  NaN        3\n",
       "8771  29980  201705010100  37.0  NaN  NaN        3\n",
       "8772  29980  201705010200  37.0  NaN  NaN        3"
      ]
     },
     "execution_count": 107,
     "metadata": {},
     "output_type": "execute_result"
    }
   ],
   "source": [
    "kumpula.head(3)"
   ]
  },
  {
   "cell_type": "code",
   "execution_count": 108,
   "id": "016ec473-61ee-43dc-bd69-ca07bb779c31",
   "metadata": {},
   "outputs": [
    {
     "data": {
      "text/plain": [
       "8767"
      ]
     },
     "execution_count": 108,
     "metadata": {},
     "output_type": "execute_result"
    }
   ],
   "source": [
    "filt = selected[\"USAF\"] == 28450\n",
    "rovaniemi = selected[filt]\n",
    "len(rovaniemi)"
   ]
  },
  {
   "cell_type": "code",
   "execution_count": 109,
   "id": "9f21cc18-25d2-4d71-bd4f-39f342639ab7",
   "metadata": {},
   "outputs": [
    {
     "data": {
      "text/html": [
       "<div>\n",
       "<style scoped>\n",
       "    .dataframe tbody tr th:only-of-type {\n",
       "        vertical-align: middle;\n",
       "    }\n",
       "\n",
       "    .dataframe tbody tr th {\n",
       "        vertical-align: top;\n",
       "    }\n",
       "\n",
       "    .dataframe thead th {\n",
       "        text-align: right;\n",
       "    }\n",
       "</style>\n",
       "<table border=\"1\" class=\"dataframe\">\n",
       "  <thead>\n",
       "    <tr style=\"text-align: right;\">\n",
       "      <th></th>\n",
       "      <th>USAF</th>\n",
       "      <th>YR--MODAHRMN</th>\n",
       "      <th>TEMP</th>\n",
       "      <th>MAX</th>\n",
       "      <th>MIN</th>\n",
       "      <th>Celsius</th>\n",
       "    </tr>\n",
       "  </thead>\n",
       "  <tbody>\n",
       "    <tr>\n",
       "      <th>0</th>\n",
       "      <td>28450</td>\n",
       "      <td>201705010000</td>\n",
       "      <td>31.0</td>\n",
       "      <td>NaN</td>\n",
       "      <td>NaN</td>\n",
       "      <td>-1</td>\n",
       "    </tr>\n",
       "    <tr>\n",
       "      <th>1</th>\n",
       "      <td>28450</td>\n",
       "      <td>201705010020</td>\n",
       "      <td>30.0</td>\n",
       "      <td>NaN</td>\n",
       "      <td>NaN</td>\n",
       "      <td>-1</td>\n",
       "    </tr>\n",
       "    <tr>\n",
       "      <th>2</th>\n",
       "      <td>28450</td>\n",
       "      <td>201705010050</td>\n",
       "      <td>30.0</td>\n",
       "      <td>NaN</td>\n",
       "      <td>NaN</td>\n",
       "      <td>-1</td>\n",
       "    </tr>\n",
       "  </tbody>\n",
       "</table>\n",
       "</div>"
      ],
      "text/plain": [
       "    USAF  YR--MODAHRMN  TEMP  MAX  MIN  Celsius\n",
       "0  28450  201705010000  31.0  NaN  NaN       -1\n",
       "1  28450  201705010020  30.0  NaN  NaN       -1\n",
       "2  28450  201705010050  30.0  NaN  NaN       -1"
      ]
     },
     "execution_count": 109,
     "metadata": {},
     "output_type": "execute_result"
    }
   ],
   "source": [
    "rovaniemi.head(3)"
   ]
  },
  {
   "cell_type": "code",
   "execution_count": 110,
   "id": "eebf3cc1-9bd1-4738-b8c3-391d06fe12bf",
   "metadata": {},
   "outputs": [],
   "source": [
    "file_name = \"Kumpula_temps_May_Aug_2017.csv\"\n",
    "file_path = os.path.join(save_dir, file_name)\n",
    "\n",
    "kumpula.to_csv(file_path,  sep=\",\", index=False, float_format=\"%.2f\")"
   ]
  },
  {
   "cell_type": "code",
   "execution_count": 111,
   "id": "ca160952-2c72-4838-b451-3aacd25830ba",
   "metadata": {},
   "outputs": [],
   "source": [
    "file_name = \"Rovaniemi_temps_May_Aug_2017.csv\"\n",
    "file_path = os.path.join(save_dir, file_name)\n",
    "\n",
    "rovaniemi.to_csv(file_path,  sep=\",\", index=False, float_format=\"%.2f\")"
   ]
  },
  {
   "cell_type": "markdown",
   "id": "2582531a-335a-43d6-acf7-ee593e92c03f",
   "metadata": {},
   "source": [
    "### Prob 3"
   ]
  },
  {
   "cell_type": "code",
   "execution_count": 112,
   "id": "99b86a19-16c4-4521-9bd3-17abf219c244",
   "metadata": {},
   "outputs": [
    {
     "data": {
      "text/html": [
       "<div>\n",
       "<style scoped>\n",
       "    .dataframe tbody tr th:only-of-type {\n",
       "        vertical-align: middle;\n",
       "    }\n",
       "\n",
       "    .dataframe tbody tr th {\n",
       "        vertical-align: top;\n",
       "    }\n",
       "\n",
       "    .dataframe thead th {\n",
       "        text-align: right;\n",
       "    }\n",
       "</style>\n",
       "<table border=\"1\" class=\"dataframe\">\n",
       "  <thead>\n",
       "    <tr style=\"text-align: right;\">\n",
       "      <th></th>\n",
       "      <th>USAF</th>\n",
       "      <th>YR--MODAHRMN</th>\n",
       "      <th>TEMP</th>\n",
       "      <th>MAX</th>\n",
       "      <th>MIN</th>\n",
       "      <th>Celsius</th>\n",
       "    </tr>\n",
       "  </thead>\n",
       "  <tbody>\n",
       "    <tr>\n",
       "      <th>0</th>\n",
       "      <td>29980</td>\n",
       "      <td>201705010000</td>\n",
       "      <td>37.0</td>\n",
       "      <td>NaN</td>\n",
       "      <td>NaN</td>\n",
       "      <td>3</td>\n",
       "    </tr>\n",
       "  </tbody>\n",
       "</table>\n",
       "</div>"
      ],
      "text/plain": [
       "    USAF  YR--MODAHRMN  TEMP  MAX  MIN  Celsius\n",
       "0  29980  201705010000  37.0  NaN  NaN        3"
      ]
     },
     "execution_count": 112,
     "metadata": {},
     "output_type": "execute_result"
    }
   ],
   "source": [
    "file_name = \"Kumpula_temps_May_Aug_2017.csv\"\n",
    "file_path = os.path.join(save_dir, file_name)\n",
    "kumpula = pd.read_csv(file_path,\n",
    "                      sep=',')\n",
    "kumpula.head(1)"
   ]
  },
  {
   "cell_type": "code",
   "execution_count": 113,
   "id": "f9cfbd07-6d3f-4fa6-90a1-f804cc235a0f",
   "metadata": {},
   "outputs": [
    {
     "data": {
      "text/html": [
       "<div>\n",
       "<style scoped>\n",
       "    .dataframe tbody tr th:only-of-type {\n",
       "        vertical-align: middle;\n",
       "    }\n",
       "\n",
       "    .dataframe tbody tr th {\n",
       "        vertical-align: top;\n",
       "    }\n",
       "\n",
       "    .dataframe thead th {\n",
       "        text-align: right;\n",
       "    }\n",
       "</style>\n",
       "<table border=\"1\" class=\"dataframe\">\n",
       "  <thead>\n",
       "    <tr style=\"text-align: right;\">\n",
       "      <th></th>\n",
       "      <th>USAF</th>\n",
       "      <th>YR--MODAHRMN</th>\n",
       "      <th>TEMP</th>\n",
       "      <th>MAX</th>\n",
       "      <th>MIN</th>\n",
       "      <th>Celsius</th>\n",
       "    </tr>\n",
       "  </thead>\n",
       "  <tbody>\n",
       "    <tr>\n",
       "      <th>0</th>\n",
       "      <td>28450</td>\n",
       "      <td>201705010000</td>\n",
       "      <td>31.0</td>\n",
       "      <td>NaN</td>\n",
       "      <td>NaN</td>\n",
       "      <td>-1</td>\n",
       "    </tr>\n",
       "  </tbody>\n",
       "</table>\n",
       "</div>"
      ],
      "text/plain": [
       "    USAF  YR--MODAHRMN  TEMP  MAX  MIN  Celsius\n",
       "0  28450  201705010000  31.0  NaN  NaN       -1"
      ]
     },
     "execution_count": 113,
     "metadata": {},
     "output_type": "execute_result"
    }
   ],
   "source": [
    "file_name = \"Rovaniemi_temps_May_Aug_2017.csv\"\n",
    "file_path = os.path.join(save_dir, file_name)\n",
    "rovaniemi = pd.read_csv(file_path,\n",
    "                      sep=',')\n",
    "rovaniemi.head(1)"
   ]
  },
  {
   "cell_type": "code",
   "execution_count": 114,
   "id": "d01546c4-e342-4dff-a614-f2c00c4436aa",
   "metadata": {},
   "outputs": [
    {
     "data": {
      "text/plain": [
       "58.0"
      ]
     },
     "execution_count": 114,
     "metadata": {},
     "output_type": "execute_result"
    }
   ],
   "source": [
    "kumpula_median = kumpula[\"TEMP\"].median()"
   ]
  },
  {
   "cell_type": "code",
   "execution_count": 115,
   "id": "6ae95781-c041-4ce3-add4-fe7575eea8b6",
   "metadata": {},
   "outputs": [
    {
     "data": {
      "text/plain": [
       "52.0"
      ]
     },
     "execution_count": 115,
     "metadata": {},
     "output_type": "execute_result"
    }
   ],
   "source": [
    "rovaniemi_median = rovaniemi[\"TEMP\"].median()"
   ]
  },
  {
   "cell_type": "code",
   "execution_count": 116,
   "id": "26a9708d-15c2-4f74-8aca-0116b594d231",
   "metadata": {},
   "outputs": [
    {
     "name": "stdout",
     "output_type": "stream",
     "text": [
      "Kumpula median: 58.0\n",
      "Rovaniemi median: 52.0\n"
     ]
    }
   ],
   "source": [
    "print(f\"Kumpula median: {kumpula_median}\")\n",
    "print(f\"Rovaniemi median: {rovaniemi_median}\")"
   ]
  },
  {
   "cell_type": "code",
   "execution_count": 117,
   "id": "9c81bde9-1f03-4ad0-b403-3909f0505e5a",
   "metadata": {},
   "outputs": [
    {
     "name": "stdout",
     "output_type": "stream",
     "text": [
      "First values in May, Kumpula:\n",
      "    USAF  YR--MODAHRMN  TEMP  MAX  MIN  Celsius\n",
      "0  29980  201705010000  37.0  NaN  NaN        3\n",
      "Last values in May, Kumpula:\n",
      "      USAF  YR--MODAHRMN  TEMP  MAX  MIN  Celsius\n",
      "740  29980  201705312300  43.0  NaN  NaN        6\n"
     ]
    }
   ],
   "source": [
    "filt1 = kumpula[\"YR--MODAHRMN\"] >= 201705010000\n",
    "filt2 = kumpula[\"YR--MODAHRMN\"] < 201706010000\n",
    "filt = filt1 & filt2\n",
    "kumpula_may = kumpula[filt]\n",
    "print(f\"First values in May, Kumpula:\\n{kumpula_may.head(1)}\")\n",
    "print(f\"Last values in May, Kumpula:\\n{kumpula_may.tail(1)}\")"
   ]
  },
  {
   "cell_type": "code",
   "execution_count": 118,
   "id": "dd840a71-2fd6-475a-9cf5-19383112dbdc",
   "metadata": {},
   "outputs": [
    {
     "name": "stdout",
     "output_type": "stream",
     "text": [
      "First values in June, Kumpula:\n",
      "      USAF  YR--MODAHRMN  TEMP  MAX  MIN  Celsius\n",
      "741  29980  201706010000  42.0  NaN  NaN        6\n",
      "\n",
      "Last values in June, Kumpula:\n",
      "       USAF  YR--MODAHRMN  TEMP  MAX  MIN  Celsius\n",
      "1454  29980  201706302300  61.0  NaN  NaN       16\n"
     ]
    }
   ],
   "source": [
    "filt1 = kumpula[\"YR--MODAHRMN\"] >= 201706010000\n",
    "filt2 = kumpula[\"YR--MODAHRMN\"] < 201707010000\n",
    "filt = filt1 & filt2\n",
    "kumpula_june = kumpula[filt];\n",
    "print(f\"First values in June, Kumpula:\\n{kumpula_june.head(1)}\\n\")\n",
    "print(f\"Last values in June, Kumpula:\\n{kumpula_june.tail(1)}\")"
   ]
  },
  {
   "cell_type": "code",
   "execution_count": 119,
   "id": "384bd1f7-4384-4183-aaac-24d2590871ac",
   "metadata": {},
   "outputs": [
    {
     "name": "stdout",
     "output_type": "stream",
     "text": [
      "First values in May, Rovaniemi:\n",
      "    USAF  YR--MODAHRMN  TEMP  MAX  MIN  Celsius\n",
      "0  28450  201705010000  31.0  NaN  NaN       -1\n",
      "\n",
      "Last values in May, Rovaniemi:\n",
      "       USAF  YR--MODAHRMN  TEMP  MAX  MIN  Celsius\n",
      "2219  28450  201705312350  30.0  NaN  NaN       -1\n"
     ]
    }
   ],
   "source": [
    "filt1 = rovaniemi[\"YR--MODAHRMN\"] >= 201705010000\n",
    "filt2 = rovaniemi[\"YR--MODAHRMN\"] < 201706010000\n",
    "filt = filt1 & filt2\n",
    "rovaniemi_may = rovaniemi[filt]\n",
    "print(f\"First values in May, Rovaniemi:\\n{rovaniemi_may.head(1)}\\n\")\n",
    "print(f\"Last values in May, Rovaniemi:\\n{rovaniemi_may.tail(1)}\")"
   ]
  },
  {
   "cell_type": "code",
   "execution_count": 120,
   "id": "d0aac400-ea5f-43b3-8d68-3eba5182dc0b",
   "metadata": {},
   "outputs": [
    {
     "name": "stdout",
     "output_type": "stream",
     "text": [
      "First values in June, Rovaniemi:\n",
      "       USAF  YR--MODAHRMN  TEMP  MAX  MIN  Celsius\n",
      "2220  28450  201706010000  32.0  NaN  NaN        0\n",
      "\n",
      "Last values in June, Rovaniemi:\n",
      "       USAF  YR--MODAHRMN  TEMP  MAX  MIN  Celsius\n",
      "4346  28450  201706302350  57.0  NaN  NaN       14\n"
     ]
    }
   ],
   "source": [
    "filt1 = rovaniemi[\"YR--MODAHRMN\"] >= 201706010000\n",
    "filt2 = rovaniemi[\"YR--MODAHRMN\"] < 201707010000\n",
    "filt = filt1 & filt2\n",
    "rovaniemi_june = rovaniemi[filt]\n",
    "print(f\"First values in June, Rovaniemi:\\n{rovaniemi_june.head(1)}\\n\")\n",
    "print(f\"Last values in June, Rovaniemi:\\n{rovaniemi_june.tail(1)}\")"
   ]
  },
  {
   "cell_type": "code",
   "execution_count": 121,
   "id": "e73e183a-df8b-4f8a-b94b-023c935f0e74",
   "metadata": {},
   "outputs": [
    {
     "data": {
      "text/html": [
       "<div>\n",
       "<style scoped>\n",
       "    .dataframe tbody tr th:only-of-type {\n",
       "        vertical-align: middle;\n",
       "    }\n",
       "\n",
       "    .dataframe tbody tr th {\n",
       "        vertical-align: top;\n",
       "    }\n",
       "\n",
       "    .dataframe thead th {\n",
       "        text-align: right;\n",
       "    }\n",
       "</style>\n",
       "<table border=\"1\" class=\"dataframe\">\n",
       "  <thead>\n",
       "    <tr style=\"text-align: right;\">\n",
       "      <th></th>\n",
       "      <th>count</th>\n",
       "      <th>mean</th>\n",
       "      <th>std</th>\n",
       "      <th>min</th>\n",
       "      <th>25%</th>\n",
       "      <th>50%</th>\n",
       "      <th>75%</th>\n",
       "      <th>max</th>\n",
       "    </tr>\n",
       "  </thead>\n",
       "  <tbody>\n",
       "    <tr>\n",
       "      <th>TEMP</th>\n",
       "      <td>741.0</td>\n",
       "      <td>49.564103</td>\n",
       "      <td>8.992956</td>\n",
       "      <td>28.0</td>\n",
       "      <td>44.0</td>\n",
       "      <td>50.0</td>\n",
       "      <td>56.0</td>\n",
       "      <td>73.0</td>\n",
       "    </tr>\n",
       "  </tbody>\n",
       "</table>\n",
       "</div>"
      ],
      "text/plain": [
       "      count       mean       std   min   25%   50%   75%   max\n",
       "TEMP  741.0  49.564103  8.992956  28.0  44.0  50.0  56.0  73.0"
      ]
     },
     "execution_count": 121,
     "metadata": {},
     "output_type": "execute_result"
    }
   ],
   "source": [
    "kumpula_may[[\"TEMP\"]].describe().T"
   ]
  },
  {
   "cell_type": "code",
   "execution_count": 122,
   "id": "80fc7eed-a1af-4b49-9697-e9ee7f9da1bf",
   "metadata": {},
   "outputs": [
    {
     "data": {
      "text/html": [
       "<div>\n",
       "<style scoped>\n",
       "    .dataframe tbody tr th:only-of-type {\n",
       "        vertical-align: middle;\n",
       "    }\n",
       "\n",
       "    .dataframe tbody tr th {\n",
       "        vertical-align: top;\n",
       "    }\n",
       "\n",
       "    .dataframe thead th {\n",
       "        text-align: right;\n",
       "    }\n",
       "</style>\n",
       "<table border=\"1\" class=\"dataframe\">\n",
       "  <thead>\n",
       "    <tr style=\"text-align: right;\">\n",
       "      <th></th>\n",
       "      <th>count</th>\n",
       "      <th>mean</th>\n",
       "      <th>std</th>\n",
       "      <th>min</th>\n",
       "      <th>25%</th>\n",
       "      <th>50%</th>\n",
       "      <th>75%</th>\n",
       "      <th>max</th>\n",
       "    </tr>\n",
       "  </thead>\n",
       "  <tbody>\n",
       "    <tr>\n",
       "      <th>TEMP</th>\n",
       "      <td>714.0</td>\n",
       "      <td>56.735294</td>\n",
       "      <td>7.33213</td>\n",
       "      <td>37.0</td>\n",
       "      <td>52.0</td>\n",
       "      <td>56.0</td>\n",
       "      <td>62.0</td>\n",
       "      <td>75.0</td>\n",
       "    </tr>\n",
       "  </tbody>\n",
       "</table>\n",
       "</div>"
      ],
      "text/plain": [
       "      count       mean      std   min   25%   50%   75%   max\n",
       "TEMP  714.0  56.735294  7.33213  37.0  52.0  56.0  62.0  75.0"
      ]
     },
     "execution_count": 122,
     "metadata": {},
     "output_type": "execute_result"
    }
   ],
   "source": [
    "kumpula_june[[\"TEMP\"]].describe().T"
   ]
  },
  {
   "cell_type": "code",
   "execution_count": 123,
   "id": "8ddf8533-d434-4e7e-8099-39ab2b161211",
   "metadata": {},
   "outputs": [
    {
     "data": {
      "text/html": [
       "<div>\n",
       "<style scoped>\n",
       "    .dataframe tbody tr th:only-of-type {\n",
       "        vertical-align: middle;\n",
       "    }\n",
       "\n",
       "    .dataframe tbody tr th {\n",
       "        vertical-align: top;\n",
       "    }\n",
       "\n",
       "    .dataframe thead th {\n",
       "        text-align: right;\n",
       "    }\n",
       "</style>\n",
       "<table border=\"1\" class=\"dataframe\">\n",
       "  <thead>\n",
       "    <tr style=\"text-align: right;\">\n",
       "      <th></th>\n",
       "      <th>count</th>\n",
       "      <th>mean</th>\n",
       "      <th>std</th>\n",
       "      <th>min</th>\n",
       "      <th>25%</th>\n",
       "      <th>50%</th>\n",
       "      <th>75%</th>\n",
       "      <th>max</th>\n",
       "    </tr>\n",
       "  </thead>\n",
       "  <tbody>\n",
       "    <tr>\n",
       "      <th>TEMP</th>\n",
       "      <td>2220.0</td>\n",
       "      <td>37.385135</td>\n",
       "      <td>6.883362</td>\n",
       "      <td>19.0</td>\n",
       "      <td>32.0</td>\n",
       "      <td>37.0</td>\n",
       "      <td>42.0</td>\n",
       "      <td>59.0</td>\n",
       "    </tr>\n",
       "  </tbody>\n",
       "</table>\n",
       "</div>"
      ],
      "text/plain": [
       "       count       mean       std   min   25%   50%   75%   max\n",
       "TEMP  2220.0  37.385135  6.883362  19.0  32.0  37.0  42.0  59.0"
      ]
     },
     "execution_count": 123,
     "metadata": {},
     "output_type": "execute_result"
    }
   ],
   "source": [
    "rovaniemi_may[[\"TEMP\"]].describe().T"
   ]
  },
  {
   "cell_type": "code",
   "execution_count": 124,
   "id": "19d94573-69e3-4129-83e4-bf8f836d60e9",
   "metadata": {},
   "outputs": [
    {
     "data": {
      "text/html": [
       "<div>\n",
       "<style scoped>\n",
       "    .dataframe tbody tr th:only-of-type {\n",
       "        vertical-align: middle;\n",
       "    }\n",
       "\n",
       "    .dataframe tbody tr th {\n",
       "        vertical-align: top;\n",
       "    }\n",
       "\n",
       "    .dataframe thead th {\n",
       "        text-align: right;\n",
       "    }\n",
       "</style>\n",
       "<table border=\"1\" class=\"dataframe\">\n",
       "  <thead>\n",
       "    <tr style=\"text-align: right;\">\n",
       "      <th></th>\n",
       "      <th>count</th>\n",
       "      <th>mean</th>\n",
       "      <th>std</th>\n",
       "      <th>min</th>\n",
       "      <th>25%</th>\n",
       "      <th>50%</th>\n",
       "      <th>75%</th>\n",
       "      <th>max</th>\n",
       "    </tr>\n",
       "  </thead>\n",
       "  <tbody>\n",
       "    <tr>\n",
       "      <th>TEMP</th>\n",
       "      <td>2127.0</td>\n",
       "      <td>51.834979</td>\n",
       "      <td>9.793087</td>\n",
       "      <td>30.0</td>\n",
       "      <td>45.0</td>\n",
       "      <td>52.0</td>\n",
       "      <td>57.0</td>\n",
       "      <td>74.0</td>\n",
       "    </tr>\n",
       "  </tbody>\n",
       "</table>\n",
       "</div>"
      ],
      "text/plain": [
       "       count       mean       std   min   25%   50%   75%   max\n",
       "TEMP  2127.0  51.834979  9.793087  30.0  45.0  52.0  57.0  74.0"
      ]
     },
     "execution_count": 124,
     "metadata": {},
     "output_type": "execute_result"
    }
   ],
   "source": [
    "rovaniemi_june[[\"TEMP\"]].describe().T"
   ]
  },
  {
   "cell_type": "code",
   "execution_count": 125,
   "id": "7e168005-632e-4bc2-98e8-7251b123efa0",
   "metadata": {},
   "outputs": [
    {
     "data": {
      "text/html": [
       "<div>\n",
       "<style scoped>\n",
       "    .dataframe tbody tr th:only-of-type {\n",
       "        vertical-align: middle;\n",
       "    }\n",
       "\n",
       "    .dataframe tbody tr th {\n",
       "        vertical-align: top;\n",
       "    }\n",
       "\n",
       "    .dataframe thead th {\n",
       "        text-align: right;\n",
       "    }\n",
       "</style>\n",
       "<table border=\"1\" class=\"dataframe\">\n",
       "  <thead>\n",
       "    <tr style=\"text-align: right;\">\n",
       "      <th></th>\n",
       "      <th>mean</th>\n",
       "      <th>min</th>\n",
       "      <th>max</th>\n",
       "    </tr>\n",
       "  </thead>\n",
       "  <tbody>\n",
       "    <tr>\n",
       "      <th>TEMP</th>\n",
       "      <td>49.564103</td>\n",
       "      <td>28.0</td>\n",
       "      <td>73.0</td>\n",
       "    </tr>\n",
       "  </tbody>\n",
       "</table>\n",
       "</div>"
      ],
      "text/plain": [
       "           mean   min   max\n",
       "TEMP  49.564103  28.0  73.0"
      ]
     },
     "execution_count": 125,
     "metadata": {},
     "output_type": "execute_result"
    }
   ],
   "source": [
    "kumpula_may[[\"TEMP\"]].agg(['mean','min','max']).T"
   ]
  },
  {
   "cell_type": "code",
   "execution_count": 126,
   "id": "8f254b52-f79a-45c3-8910-8a5e72d101e8",
   "metadata": {},
   "outputs": [
    {
     "data": {
      "text/html": [
       "<div>\n",
       "<style scoped>\n",
       "    .dataframe tbody tr th:only-of-type {\n",
       "        vertical-align: middle;\n",
       "    }\n",
       "\n",
       "    .dataframe tbody tr th {\n",
       "        vertical-align: top;\n",
       "    }\n",
       "\n",
       "    .dataframe thead th {\n",
       "        text-align: right;\n",
       "    }\n",
       "</style>\n",
       "<table border=\"1\" class=\"dataframe\">\n",
       "  <thead>\n",
       "    <tr style=\"text-align: right;\">\n",
       "      <th></th>\n",
       "      <th>mean</th>\n",
       "      <th>min</th>\n",
       "      <th>max</th>\n",
       "    </tr>\n",
       "  </thead>\n",
       "  <tbody>\n",
       "    <tr>\n",
       "      <th>TEMP</th>\n",
       "      <td>56.735294</td>\n",
       "      <td>37.0</td>\n",
       "      <td>75.0</td>\n",
       "    </tr>\n",
       "  </tbody>\n",
       "</table>\n",
       "</div>"
      ],
      "text/plain": [
       "           mean   min   max\n",
       "TEMP  56.735294  37.0  75.0"
      ]
     },
     "execution_count": 126,
     "metadata": {},
     "output_type": "execute_result"
    }
   ],
   "source": [
    "kumpula_june[[\"TEMP\"]].agg(['mean','min','max']).T"
   ]
  },
  {
   "cell_type": "code",
   "execution_count": 127,
   "id": "728b06e2-4318-4c29-b4fb-059ac22f6ccb",
   "metadata": {},
   "outputs": [
    {
     "data": {
      "text/html": [
       "<div>\n",
       "<style scoped>\n",
       "    .dataframe tbody tr th:only-of-type {\n",
       "        vertical-align: middle;\n",
       "    }\n",
       "\n",
       "    .dataframe tbody tr th {\n",
       "        vertical-align: top;\n",
       "    }\n",
       "\n",
       "    .dataframe thead th {\n",
       "        text-align: right;\n",
       "    }\n",
       "</style>\n",
       "<table border=\"1\" class=\"dataframe\">\n",
       "  <thead>\n",
       "    <tr style=\"text-align: right;\">\n",
       "      <th></th>\n",
       "      <th>mean</th>\n",
       "      <th>min</th>\n",
       "      <th>max</th>\n",
       "    </tr>\n",
       "  </thead>\n",
       "  <tbody>\n",
       "    <tr>\n",
       "      <th>TEMP</th>\n",
       "      <td>37.385135</td>\n",
       "      <td>19.0</td>\n",
       "      <td>59.0</td>\n",
       "    </tr>\n",
       "  </tbody>\n",
       "</table>\n",
       "</div>"
      ],
      "text/plain": [
       "           mean   min   max\n",
       "TEMP  37.385135  19.0  59.0"
      ]
     },
     "execution_count": 127,
     "metadata": {},
     "output_type": "execute_result"
    }
   ],
   "source": [
    "rovaniemi_may[[\"TEMP\"]].agg(['mean','min','max']).T"
   ]
  },
  {
   "cell_type": "code",
   "execution_count": 128,
   "id": "8ef8374e-48c6-47fb-8c4f-3c8ec8b15c7d",
   "metadata": {},
   "outputs": [
    {
     "data": {
      "text/html": [
       "<div>\n",
       "<style scoped>\n",
       "    .dataframe tbody tr th:only-of-type {\n",
       "        vertical-align: middle;\n",
       "    }\n",
       "\n",
       "    .dataframe tbody tr th {\n",
       "        vertical-align: top;\n",
       "    }\n",
       "\n",
       "    .dataframe thead th {\n",
       "        text-align: right;\n",
       "    }\n",
       "</style>\n",
       "<table border=\"1\" class=\"dataframe\">\n",
       "  <thead>\n",
       "    <tr style=\"text-align: right;\">\n",
       "      <th></th>\n",
       "      <th>mean</th>\n",
       "      <th>min</th>\n",
       "      <th>max</th>\n",
       "    </tr>\n",
       "  </thead>\n",
       "  <tbody>\n",
       "    <tr>\n",
       "      <th>TEMP</th>\n",
       "      <td>51.834979</td>\n",
       "      <td>30.0</td>\n",
       "      <td>74.0</td>\n",
       "    </tr>\n",
       "  </tbody>\n",
       "</table>\n",
       "</div>"
      ],
      "text/plain": [
       "           mean   min   max\n",
       "TEMP  51.834979  30.0  74.0"
      ]
     },
     "execution_count": 128,
     "metadata": {},
     "output_type": "execute_result"
    }
   ],
   "source": [
    "rovaniemi_june[[\"TEMP\"]].agg(['mean','min','max']).T"
   ]
  },
  {
   "cell_type": "markdown",
   "id": "63ea3c2f-bd65-4bea-84ee-90d24096d14e",
   "metadata": {},
   "source": [
    "### Prob 4"
   ]
  },
  {
   "cell_type": "markdown",
   "id": "66db159a-443f-4ae5-8026-8929e879d611",
   "metadata": {},
   "source": [
    "#### option 1"
   ]
  },
  {
   "cell_type": "code",
   "execution_count": 129,
   "id": "fd3623d4-3e97-4da0-95ad-21b2a1749e7e",
   "metadata": {},
   "outputs": [
    {
     "data": {
      "text/html": [
       "<div>\n",
       "<style scoped>\n",
       "    .dataframe tbody tr th:only-of-type {\n",
       "        vertical-align: middle;\n",
       "    }\n",
       "\n",
       "    .dataframe tbody tr th {\n",
       "        vertical-align: top;\n",
       "    }\n",
       "\n",
       "    .dataframe thead th {\n",
       "        text-align: right;\n",
       "    }\n",
       "</style>\n",
       "<table border=\"1\" class=\"dataframe\">\n",
       "  <thead>\n",
       "    <tr style=\"text-align: right;\">\n",
       "      <th></th>\n",
       "      <th>USAF</th>\n",
       "      <th>YR--MODAHRMN</th>\n",
       "      <th>TEMP</th>\n",
       "      <th>MAX</th>\n",
       "      <th>MIN</th>\n",
       "      <th>Celsius</th>\n",
       "    </tr>\n",
       "  </thead>\n",
       "  <tbody>\n",
       "    <tr>\n",
       "      <th>0</th>\n",
       "      <td>29980</td>\n",
       "      <td>201705010000</td>\n",
       "      <td>37.0</td>\n",
       "      <td>NaN</td>\n",
       "      <td>NaN</td>\n",
       "      <td>3</td>\n",
       "    </tr>\n",
       "    <tr>\n",
       "      <th>1</th>\n",
       "      <td>29980</td>\n",
       "      <td>201705010100</td>\n",
       "      <td>37.0</td>\n",
       "      <td>NaN</td>\n",
       "      <td>NaN</td>\n",
       "      <td>3</td>\n",
       "    </tr>\n",
       "    <tr>\n",
       "      <th>2</th>\n",
       "      <td>29980</td>\n",
       "      <td>201705010200</td>\n",
       "      <td>37.0</td>\n",
       "      <td>NaN</td>\n",
       "      <td>NaN</td>\n",
       "      <td>3</td>\n",
       "    </tr>\n",
       "  </tbody>\n",
       "</table>\n",
       "</div>"
      ],
      "text/plain": [
       "    USAF  YR--MODAHRMN  TEMP  MAX  MIN  Celsius\n",
       "0  29980  201705010000  37.0  NaN  NaN        3\n",
       "1  29980  201705010100  37.0  NaN  NaN        3\n",
       "2  29980  201705010200  37.0  NaN  NaN        3"
      ]
     },
     "execution_count": 129,
     "metadata": {},
     "output_type": "execute_result"
    }
   ],
   "source": [
    "file_name = \"Kumpula_temps_May_Aug_2017.csv\"\n",
    "file_path = os.path.join(save_dir, file_name)\n",
    "kumpula = pd.read_csv(file_path,\n",
    "                      sep=',')\n",
    "kumpula.head(3)"
   ]
  },
  {
   "cell_type": "code",
   "execution_count": 130,
   "id": "a60d9e65-bd2c-437d-a151-cba55d1507c0",
   "metadata": {},
   "outputs": [],
   "source": [
    "kumpula['YEARMMDD']=kumpula['YR--MODAHRMN'].astype(str).str[0:8]"
   ]
  },
  {
   "cell_type": "code",
   "execution_count": 131,
   "id": "de6ac81f-048a-4d9d-8a5a-84f0eefea353",
   "metadata": {},
   "outputs": [
    {
     "data": {
      "text/html": [
       "<div>\n",
       "<style scoped>\n",
       "    .dataframe tbody tr th:only-of-type {\n",
       "        vertical-align: middle;\n",
       "    }\n",
       "\n",
       "    .dataframe tbody tr th {\n",
       "        vertical-align: top;\n",
       "    }\n",
       "\n",
       "    .dataframe thead th {\n",
       "        text-align: right;\n",
       "    }\n",
       "</style>\n",
       "<table border=\"1\" class=\"dataframe\">\n",
       "  <thead>\n",
       "    <tr style=\"text-align: right;\">\n",
       "      <th></th>\n",
       "      <th>USAF</th>\n",
       "      <th>YR--MODAHRMN</th>\n",
       "      <th>TEMP</th>\n",
       "      <th>MAX</th>\n",
       "      <th>MIN</th>\n",
       "      <th>Celsius</th>\n",
       "      <th>YEARMMDD</th>\n",
       "    </tr>\n",
       "  </thead>\n",
       "  <tbody>\n",
       "    <tr>\n",
       "      <th>0</th>\n",
       "      <td>29980</td>\n",
       "      <td>201705010000</td>\n",
       "      <td>37.0</td>\n",
       "      <td>NaN</td>\n",
       "      <td>NaN</td>\n",
       "      <td>3</td>\n",
       "      <td>20170501</td>\n",
       "    </tr>\n",
       "    <tr>\n",
       "      <th>1</th>\n",
       "      <td>29980</td>\n",
       "      <td>201705010100</td>\n",
       "      <td>37.0</td>\n",
       "      <td>NaN</td>\n",
       "      <td>NaN</td>\n",
       "      <td>3</td>\n",
       "      <td>20170501</td>\n",
       "    </tr>\n",
       "    <tr>\n",
       "      <th>2</th>\n",
       "      <td>29980</td>\n",
       "      <td>201705010200</td>\n",
       "      <td>37.0</td>\n",
       "      <td>NaN</td>\n",
       "      <td>NaN</td>\n",
       "      <td>3</td>\n",
       "      <td>20170501</td>\n",
       "    </tr>\n",
       "  </tbody>\n",
       "</table>\n",
       "</div>"
      ],
      "text/plain": [
       "    USAF  YR--MODAHRMN  TEMP  MAX  MIN  Celsius  YEARMMDD\n",
       "0  29980  201705010000  37.0  NaN  NaN        3  20170501\n",
       "1  29980  201705010100  37.0  NaN  NaN        3  20170501\n",
       "2  29980  201705010200  37.0  NaN  NaN        3  20170501"
      ]
     },
     "execution_count": 131,
     "metadata": {},
     "output_type": "execute_result"
    }
   ],
   "source": [
    "kumpula.head(3)"
   ]
  },
  {
   "cell_type": "code",
   "execution_count": 132,
   "id": "e7f734cb-f27b-44d8-8aba-e903efb35e7f",
   "metadata": {},
   "outputs": [
    {
     "data": {
      "text/html": [
       "<div>\n",
       "<style scoped>\n",
       "    .dataframe tbody tr th:only-of-type {\n",
       "        vertical-align: middle;\n",
       "    }\n",
       "\n",
       "    .dataframe tbody tr th {\n",
       "        vertical-align: top;\n",
       "    }\n",
       "\n",
       "    .dataframe thead th {\n",
       "        text-align: right;\n",
       "    }\n",
       "</style>\n",
       "<table border=\"1\" class=\"dataframe\">\n",
       "  <thead>\n",
       "    <tr style=\"text-align: right;\">\n",
       "      <th></th>\n",
       "      <th>count</th>\n",
       "      <th>mean</th>\n",
       "      <th>min</th>\n",
       "      <th>max</th>\n",
       "    </tr>\n",
       "    <tr>\n",
       "      <th>YEARMMDD</th>\n",
       "      <th></th>\n",
       "      <th></th>\n",
       "      <th></th>\n",
       "      <th></th>\n",
       "    </tr>\n",
       "  </thead>\n",
       "  <tbody>\n",
       "    <tr>\n",
       "      <th>20170501</th>\n",
       "      <td>24</td>\n",
       "      <td>7.625000</td>\n",
       "      <td>3</td>\n",
       "      <td>12</td>\n",
       "    </tr>\n",
       "    <tr>\n",
       "      <th>20170502</th>\n",
       "      <td>24</td>\n",
       "      <td>9.750000</td>\n",
       "      <td>2</td>\n",
       "      <td>16</td>\n",
       "    </tr>\n",
       "    <tr>\n",
       "      <th>20170503</th>\n",
       "      <td>24</td>\n",
       "      <td>9.208333</td>\n",
       "      <td>4</td>\n",
       "      <td>13</td>\n",
       "    </tr>\n",
       "  </tbody>\n",
       "</table>\n",
       "</div>"
      ],
      "text/plain": [
       "          count      mean  min  max\n",
       "YEARMMDD                           \n",
       "20170501     24  7.625000    3   12\n",
       "20170502     24  9.750000    2   16\n",
       "20170503     24  9.208333    4   13"
      ]
     },
     "execution_count": 132,
     "metadata": {},
     "output_type": "execute_result"
    }
   ],
   "source": [
    "kumpula_daily_stats = kumpula.groupby(['YEARMMDD'])['Celsius']\\\n",
    "                             .agg(['count','mean','min','max'])\n",
    "kumpula_daily_stats.head(3)"
   ]
  },
  {
   "cell_type": "markdown",
   "id": "65655aa5-a5fa-4d3b-ba17-03c0105f7211",
   "metadata": {},
   "source": [
    "#### option 2"
   ]
  },
  {
   "cell_type": "code",
   "execution_count": 133,
   "id": "8a3bbc5d-be79-4b2e-957a-69ba8f3385f2",
   "metadata": {},
   "outputs": [
    {
     "data": {
      "text/html": [
       "<div>\n",
       "<style scoped>\n",
       "    .dataframe tbody tr th:only-of-type {\n",
       "        vertical-align: middle;\n",
       "    }\n",
       "\n",
       "    .dataframe tbody tr th {\n",
       "        vertical-align: top;\n",
       "    }\n",
       "\n",
       "    .dataframe thead th {\n",
       "        text-align: right;\n",
       "    }\n",
       "</style>\n",
       "<table border=\"1\" class=\"dataframe\">\n",
       "  <thead>\n",
       "    <tr style=\"text-align: right;\">\n",
       "      <th></th>\n",
       "      <th>USAF</th>\n",
       "      <th>TEMP</th>\n",
       "      <th>MAX</th>\n",
       "      <th>MIN</th>\n",
       "      <th>Celsius</th>\n",
       "    </tr>\n",
       "    <tr>\n",
       "      <th>YR--MODAHRMN</th>\n",
       "      <th></th>\n",
       "      <th></th>\n",
       "      <th></th>\n",
       "      <th></th>\n",
       "      <th></th>\n",
       "    </tr>\n",
       "  </thead>\n",
       "  <tbody>\n",
       "    <tr>\n",
       "      <th>2017-05-01 00:00:00</th>\n",
       "      <td>29980</td>\n",
       "      <td>37.0</td>\n",
       "      <td>NaN</td>\n",
       "      <td>NaN</td>\n",
       "      <td>3</td>\n",
       "    </tr>\n",
       "    <tr>\n",
       "      <th>2017-05-01 01:00:00</th>\n",
       "      <td>29980</td>\n",
       "      <td>37.0</td>\n",
       "      <td>NaN</td>\n",
       "      <td>NaN</td>\n",
       "      <td>3</td>\n",
       "    </tr>\n",
       "    <tr>\n",
       "      <th>2017-05-01 02:00:00</th>\n",
       "      <td>29980</td>\n",
       "      <td>37.0</td>\n",
       "      <td>NaN</td>\n",
       "      <td>NaN</td>\n",
       "      <td>3</td>\n",
       "    </tr>\n",
       "  </tbody>\n",
       "</table>\n",
       "</div>"
      ],
      "text/plain": [
       "                      USAF  TEMP  MAX  MIN  Celsius\n",
       "YR--MODAHRMN                                       \n",
       "2017-05-01 00:00:00  29980  37.0  NaN  NaN        3\n",
       "2017-05-01 01:00:00  29980  37.0  NaN  NaN        3\n",
       "2017-05-01 02:00:00  29980  37.0  NaN  NaN        3"
      ]
     },
     "execution_count": 133,
     "metadata": {},
     "output_type": "execute_result"
    }
   ],
   "source": [
    "file_name = \"Kumpula_temps_May_Aug_2017.csv\"\n",
    "file_path = os.path.join(save_dir, file_name)\n",
    "kumpula = pd.read_csv(file_path,\n",
    "                      sep=',',\n",
    "                      parse_dates=['YR--MODAHRMN'],\n",
    "                      index_col = 'YR--MODAHRMN')\n",
    "kumpula.head(3)"
   ]
  },
  {
   "cell_type": "code",
   "execution_count": 134,
   "id": "03cf61b2-fa57-4511-9560-6962aca6182c",
   "metadata": {},
   "outputs": [
    {
     "data": {
      "text/html": [
       "<div>\n",
       "<style scoped>\n",
       "    .dataframe tbody tr th:only-of-type {\n",
       "        vertical-align: middle;\n",
       "    }\n",
       "\n",
       "    .dataframe tbody tr th {\n",
       "        vertical-align: top;\n",
       "    }\n",
       "\n",
       "    .dataframe thead th {\n",
       "        text-align: right;\n",
       "    }\n",
       "</style>\n",
       "<table border=\"1\" class=\"dataframe\">\n",
       "  <thead>\n",
       "    <tr style=\"text-align: right;\">\n",
       "      <th></th>\n",
       "      <th>count</th>\n",
       "      <th>mean</th>\n",
       "      <th>min</th>\n",
       "      <th>max</th>\n",
       "    </tr>\n",
       "    <tr>\n",
       "      <th>YR--MODAHRMN</th>\n",
       "      <th></th>\n",
       "      <th></th>\n",
       "      <th></th>\n",
       "      <th></th>\n",
       "    </tr>\n",
       "  </thead>\n",
       "  <tbody>\n",
       "    <tr>\n",
       "      <th>2017-05-01</th>\n",
       "      <td>24</td>\n",
       "      <td>7.625000</td>\n",
       "      <td>3</td>\n",
       "      <td>12</td>\n",
       "    </tr>\n",
       "    <tr>\n",
       "      <th>2017-05-02</th>\n",
       "      <td>24</td>\n",
       "      <td>9.750000</td>\n",
       "      <td>2</td>\n",
       "      <td>16</td>\n",
       "    </tr>\n",
       "    <tr>\n",
       "      <th>2017-05-03</th>\n",
       "      <td>24</td>\n",
       "      <td>9.208333</td>\n",
       "      <td>4</td>\n",
       "      <td>13</td>\n",
       "    </tr>\n",
       "  </tbody>\n",
       "</table>\n",
       "</div>"
      ],
      "text/plain": [
       "              count      mean  min  max\n",
       "YR--MODAHRMN                           \n",
       "2017-05-01       24  7.625000    3   12\n",
       "2017-05-02       24  9.750000    2   16\n",
       "2017-05-03       24  9.208333    4   13"
      ]
     },
     "execution_count": 134,
     "metadata": {},
     "output_type": "execute_result"
    }
   ],
   "source": [
    "kumpula_daily_stats = kumpula['Celsius']\\\n",
    "                             .resample('D')\\\n",
    "                             .agg(['count','mean','min','max'])\n",
    "kumpula_daily_stats.head(3)"
   ]
  },
  {
   "cell_type": "code",
   "execution_count": null,
   "id": "c8f4d454-ee9d-4798-b982-a7baa5f4e6a2",
   "metadata": {},
   "outputs": [],
   "source": []
  },
  {
   "cell_type": "code",
   "execution_count": null,
   "id": "93045e1a-73a7-4108-b996-e5c5ccf93dda",
   "metadata": {},
   "outputs": [],
   "source": []
  },
  {
   "cell_type": "code",
   "execution_count": null,
   "id": "0b365e35-4669-45ca-8c37-1048fc55472d",
   "metadata": {},
   "outputs": [],
   "source": []
  }
 ],
 "metadata": {
  "interpreter": {
   "hash": "a242e183465bb9023de0138d2b64ba329c59b510ac4eb42cc190969549979312"
  },
  "kernelspec": {
   "display_name": "Python 3 (ipykernel)",
   "language": "python",
   "name": "python3"
  },
  "language_info": {
   "codemirror_mode": {
    "name": "ipython",
    "version": 3
   },
   "file_extension": ".py",
   "mimetype": "text/x-python",
   "name": "python",
   "nbconvert_exporter": "python",
   "pygments_lexer": "ipython3",
   "version": "3.8.12"
  },
  "toc-autonumbering": false
 },
 "nbformat": 4,
 "nbformat_minor": 5
}
