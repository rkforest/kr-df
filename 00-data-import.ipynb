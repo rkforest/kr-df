{
 "cells": [
  {
   "cell_type": "markdown",
   "id": "8fb82884",
   "metadata": {
    "tags": []
   },
   "source": [
    "<a id='pd'></a>  \n",
    "# Pandas DataFrames"
   ]
  },
  {
   "cell_type": "markdown",
   "id": "39c3b93f-bfc4-4987-87d5-cb0d4a887569",
   "metadata": {},
   "source": [
    "[Import](#pd-import)  \n",
    "[Restructure](#pd-restructure)  \n",
    "[Export](#pd-export)  "
   ]
  },
  {
   "cell_type": "markdown",
   "id": "a543ed3f-1575-4db5-84bc-aefc1f3f03b9",
   "metadata": {},
   "source": [
    "### libraries"
   ]
  },
  {
   "cell_type": "code",
   "execution_count": 1,
   "id": "hungarian-longer",
   "metadata": {
    "tags": []
   },
   "outputs": [],
   "source": [
    "import os\n",
    "import calendar\n",
    "import warnings\n",
    "import requests\n",
    "import pandas as pd \n",
    "from pandas.api.types import CategoricalDtype\n",
    "#pd.__version__"
   ]
  },
  {
   "cell_type": "code",
   "execution_count": 2,
   "id": "9a07d855-4b11-4462-8778-ef970d449e56",
   "metadata": {},
   "outputs": [],
   "source": [
    "# shorter traceback error messages\n",
    "from functools import partial\n",
    "get_ipython().showtraceback = partial(get_ipython().showtraceback,exception_only=True)"
   ]
  },
  {
   "cell_type": "markdown",
   "id": "57a732de",
   "metadata": {
    "tags": []
   },
   "source": [
    "### directories"
   ]
  },
  {
   "cell_type": "code",
   "execution_count": 3,
   "id": "c7b2df80-6d08-4601-ae78-7aaf6ecc302a",
   "metadata": {
    "tags": []
   },
   "outputs": [],
   "source": [
    "home_dir = home_dir = os.path.expanduser(\"~\")\n",
    "work_dir = os.path.join(home_dir, 'kr', 'df')\n",
    "data_dir = os.path.join(home_dir, 'kr', 'df', 'data')\n",
    "save_dir = os.path.join(home_dir, 'kr', 'df', 'save')"
   ]
  },
  {
   "cell_type": "code",
   "execution_count": 4,
   "id": "718d363b-f017-4e2d-93c5-a68fde2a3b0e",
   "metadata": {},
   "outputs": [],
   "source": [
    "def create_directory(directory_name):\n",
    "    if not os.path.exists(directory_name):\n",
    "        os.mkdir(directory_name)"
   ]
  },
  {
   "cell_type": "code",
   "execution_count": 5,
   "id": "a81c6e78-dfc4-4f81-a7db-4fd833e0c455",
   "metadata": {},
   "outputs": [],
   "source": [
    "create_directory(work_dir)\n",
    "create_directory(data_dir)\n",
    "create_directory(save_dir)"
   ]
  },
  {
   "cell_type": "code",
   "execution_count": 6,
   "id": "a5c9f066-30c5-4922-a43e-63178affca6c",
   "metadata": {},
   "outputs": [
    {
     "data": {
      "text/plain": [
       "'/Users/rkforest/kr/df'"
      ]
     },
     "execution_count": 6,
     "metadata": {},
     "output_type": "execute_result"
    }
   ],
   "source": [
    "\n",
    "os.chdir(work_dir)\n",
    "os.getcwd()"
   ]
  },
  {
   "cell_type": "markdown",
   "id": "a009f371-7a1d-4379-8854-9125a54847a6",
   "metadata": {
    "tags": []
   },
   "source": [
    "### parameters"
   ]
  },
  {
   "cell_type": "code",
   "execution_count": 7,
   "id": "1738ba8d-96cc-4eea-a5c9-edafdea23846",
   "metadata": {},
   "outputs": [],
   "source": [
    "warnings.filterwarnings('ignore')"
   ]
  },
  {
   "cell_type": "code",
   "execution_count": 8,
   "id": "85bf1671-38fa-4053-82ba-4dc4755d3817",
   "metadata": {},
   "outputs": [],
   "source": [
    "# shows result of cell without needing print\n",
    "from IPython.core.interactiveshell import InteractiveShell\n",
    "InteractiveShell.ast_node_interactivity = \"last_expr_or_assign\""
   ]
  },
  {
   "cell_type": "markdown",
   "id": "3b3363f4-f0d1-4c22-8142-99a820de4941",
   "metadata": {},
   "source": [
    "### constants"
   ]
  },
  {
   "cell_type": "raw",
   "id": "389ccd6c-08b9-421e-94ba-b54b9703c95c",
   "metadata": {},
   "source": [
    "months = [month for month in calendar.month_abbr if month]\n",
    "#months_cat = CategoricalDtype(months, ordered=True)"
   ]
  },
  {
   "cell_type": "markdown",
   "id": "488b09d8-86ca-4765-a25c-74b6f5666002",
   "metadata": {
    "tags": [],
    "toc-hr-collapsed": true
   },
   "source": [
    "<a id='pd-import'></a>\n",
    "## Import"
   ]
  },
  {
   "cell_type": "markdown",
   "id": "a8898129-0d5a-458e-97f9-1f9e3cfc43f2",
   "metadata": {},
   "source": [
    "[Return to Start of Notebook](#pd)  "
   ]
  },
  {
   "cell_type": "markdown",
   "id": "39744ee0-a239-46f2-bd0b-c74b22185532",
   "metadata": {
    "jp-MarkdownHeadingCollapsed": true,
    "tags": [],
    "toc-hr-collapsed": true
   },
   "source": [
    "- skiprows  \n",
    "- sep  \n",
    "- usecols  \n",
    "- parse_dates  \n",
    "- index_col (can also use integer of column)\n",
    "- na_values  \n",
    "- nrows  "
   ]
  },
  {
   "cell_type": "markdown",
   "id": "16ab7eda-5e28-4368-aa47-b523cf4c89ce",
   "metadata": {},
   "source": [
    "### url"
   ]
  },
  {
   "cell_type": "code",
   "execution_count": 9,
   "id": "8f992495-d344-48fb-9f25-ea9213266a83",
   "metadata": {},
   "outputs": [
    {
     "data": {
      "text/plain": [
       "'https://data.giss.nasa.gov/gistemp/tabledata_v4/'"
      ]
     },
     "execution_count": 9,
     "metadata": {},
     "output_type": "execute_result"
    }
   ],
   "source": [
    "giss_url = \"https://data.giss.nasa.gov/gistemp/tabledata_v4/\""
   ]
  },
  {
   "cell_type": "markdown",
   "id": "f368134b-86df-47a8-a1fd-df9bbdb6d3b4",
   "metadata": {},
   "source": [
    "### global monthly"
   ]
  },
  {
   "cell_type": "code",
   "execution_count": 10,
   "id": "a86baf31-e236-4a70-b7fa-c3f96e42473d",
   "metadata": {},
   "outputs": [
    {
     "data": {
      "text/plain": [
       "'/Users/rkforest/kr/df/data/GLB.Ts+dSST.csv'"
      ]
     },
     "execution_count": 10,
     "metadata": {},
     "output_type": "execute_result"
    }
   ],
   "source": [
    "file_id = \"GLB\"\n",
    "file_name = file_id + \".Ts+dSST.csv\"\n",
    "file_url = giss_url + file_name\n",
    "file_path = os.path.join(data_dir, file_name)\n",
    "file_path"
   ]
  },
  {
   "cell_type": "code",
   "execution_count": 11,
   "id": "586e9593-5322-4078-bc14-098731b41c68",
   "metadata": {},
   "outputs": [
    {
     "data": {
      "text/plain": [
       "'/Users/rkforest/kr/df/data/GLB.Ts+dSST.csv'"
      ]
     },
     "execution_count": 11,
     "metadata": {},
     "output_type": "execute_result"
    }
   ],
   "source": [
    "file_path = os.path.join(data_dir, file_name)\n",
    "file_path"
   ]
  },
  {
   "cell_type": "code",
   "execution_count": 12,
   "id": "a7e8cc56-42ae-4e89-b478-3b55d6d35bd2",
   "metadata": {},
   "outputs": [
    {
     "data": {
      "text/plain": [
       "12594"
      ]
     },
     "execution_count": 12,
     "metadata": {},
     "output_type": "execute_result"
    }
   ],
   "source": [
    "# download file_url and save to file_path\n",
    "r = requests.get(file_url)\n",
    "open(file_path, 'wb').write(r.content)"
   ]
  },
  {
   "cell_type": "code",
   "execution_count": 13,
   "id": "4c53a81a-ce7e-47f3-a70c-e13d8c600a1c",
   "metadata": {},
   "outputs": [
    {
     "data": {
      "text/html": [
       "<div>\n",
       "<style scoped>\n",
       "    .dataframe tbody tr th:only-of-type {\n",
       "        vertical-align: middle;\n",
       "    }\n",
       "\n",
       "    .dataframe tbody tr th {\n",
       "        vertical-align: top;\n",
       "    }\n",
       "\n",
       "    .dataframe thead th {\n",
       "        text-align: right;\n",
       "    }\n",
       "</style>\n",
       "<table border=\"1\" class=\"dataframe\">\n",
       "  <thead>\n",
       "    <tr style=\"text-align: right;\">\n",
       "      <th></th>\n",
       "      <th>Year</th>\n",
       "      <th>Jan</th>\n",
       "      <th>Feb</th>\n",
       "      <th>Mar</th>\n",
       "      <th>Apr</th>\n",
       "      <th>May</th>\n",
       "      <th>Jun</th>\n",
       "      <th>Jul</th>\n",
       "      <th>Aug</th>\n",
       "      <th>Sep</th>\n",
       "      <th>Oct</th>\n",
       "      <th>Nov</th>\n",
       "      <th>Dec</th>\n",
       "      <th>J-D</th>\n",
       "      <th>D-N</th>\n",
       "      <th>DJF</th>\n",
       "      <th>MAM</th>\n",
       "      <th>JJA</th>\n",
       "      <th>SON</th>\n",
       "    </tr>\n",
       "  </thead>\n",
       "  <tbody>\n",
       "    <tr>\n",
       "      <th>0</th>\n",
       "      <td>1880</td>\n",
       "      <td>-0.18</td>\n",
       "      <td>-.24</td>\n",
       "      <td>-.09</td>\n",
       "      <td>-.16</td>\n",
       "      <td>-.10</td>\n",
       "      <td>-.21</td>\n",
       "      <td>-.18</td>\n",
       "      <td>-.10</td>\n",
       "      <td>-.15</td>\n",
       "      <td>-.23</td>\n",
       "      <td>-.22</td>\n",
       "      <td>-.17</td>\n",
       "      <td>-.17</td>\n",
       "      <td>***</td>\n",
       "      <td>***</td>\n",
       "      <td>-.11</td>\n",
       "      <td>-.16</td>\n",
       "      <td>-.20</td>\n",
       "    </tr>\n",
       "  </tbody>\n",
       "</table>\n",
       "</div>"
      ],
      "text/plain": [
       "   Year   Jan   Feb   Mar   Apr   May   Jun   Jul   Aug   Sep   Oct   Nov  \\\n",
       "0  1880 -0.18  -.24  -.09  -.16  -.10  -.21  -.18  -.10  -.15  -.23  -.22   \n",
       "\n",
       "    Dec   J-D  D-N  DJF   MAM   JJA   SON  \n",
       "0  -.17  -.17  ***  ***  -.11  -.16  -.20  "
      ]
     },
     "execution_count": 13,
     "metadata": {},
     "output_type": "execute_result"
    }
   ],
   "source": [
    "dfg = pd.read_csv(file_path, skiprows=1) # initial read for columns\n",
    "dfg.head(1)"
   ]
  },
  {
   "cell_type": "code",
   "execution_count": 14,
   "id": "574d9c17-a21b-4da6-888c-d15a4edf977c",
   "metadata": {},
   "outputs": [
    {
     "data": {
      "text/html": [
       "<div>\n",
       "<style scoped>\n",
       "    .dataframe tbody tr th:only-of-type {\n",
       "        vertical-align: middle;\n",
       "    }\n",
       "\n",
       "    .dataframe tbody tr th {\n",
       "        vertical-align: top;\n",
       "    }\n",
       "\n",
       "    .dataframe thead th {\n",
       "        text-align: right;\n",
       "    }\n",
       "</style>\n",
       "<table border=\"1\" class=\"dataframe\">\n",
       "  <thead>\n",
       "    <tr style=\"text-align: right;\">\n",
       "      <th></th>\n",
       "      <th>Date</th>\n",
       "      <th>Jan</th>\n",
       "      <th>Feb</th>\n",
       "      <th>Mar</th>\n",
       "      <th>Apr</th>\n",
       "      <th>May</th>\n",
       "      <th>Jun</th>\n",
       "      <th>Jul</th>\n",
       "      <th>Aug</th>\n",
       "      <th>Sep</th>\n",
       "      <th>Oct</th>\n",
       "      <th>Nov</th>\n",
       "      <th>Dec</th>\n",
       "      <th>Zone</th>\n",
       "    </tr>\n",
       "  </thead>\n",
       "  <tbody>\n",
       "    <tr>\n",
       "      <th>0</th>\n",
       "      <td>1880-01-01</td>\n",
       "      <td>-0.18</td>\n",
       "      <td>-0.24</td>\n",
       "      <td>-0.09</td>\n",
       "      <td>-0.16</td>\n",
       "      <td>-0.1</td>\n",
       "      <td>-0.21</td>\n",
       "      <td>-0.18</td>\n",
       "      <td>-0.1</td>\n",
       "      <td>-0.15</td>\n",
       "      <td>-0.23</td>\n",
       "      <td>-0.22</td>\n",
       "      <td>-0.17</td>\n",
       "      <td>GLB</td>\n",
       "    </tr>\n",
       "  </tbody>\n",
       "</table>\n",
       "</div>"
      ],
      "text/plain": [
       "        Date   Jan   Feb   Mar   Apr  May   Jun   Jul  Aug   Sep   Oct   Nov  \\\n",
       "0 1880-01-01 -0.18 -0.24 -0.09 -0.16 -0.1 -0.21 -0.18 -0.1 -0.15 -0.23 -0.22   \n",
       "\n",
       "    Dec Zone  \n",
       "0 -0.17  GLB  "
      ]
     },
     "execution_count": 14,
     "metadata": {},
     "output_type": "execute_result"
    }
   ],
   "source": [
    "cols_to_import = dfg.columns[0:13]; # start to end+1\n",
    "dfg = pd.read_csv(file_path,\n",
    "                  skiprows=1,\n",
    "                  sep=',',\n",
    "                  usecols=cols_to_import,\n",
    "                  parse_dates=['Year'],\n",
    "                  #index_col=0, # can use either  = 0, = 'Year'\n",
    "                  na_values=['***'],\n",
    "                  nrows=150)\n",
    "dfg = dfg.rename(columns={'Year': 'Date'})\n",
    "dfg['Zone'] = file_id\n",
    "dfg.head(1)"
   ]
  },
  {
   "cell_type": "markdown",
   "id": "fca2ea35-ea08-43d9-afdc-af9b2b188b16",
   "metadata": {},
   "source": [
    "### northern hemisphere monthly"
   ]
  },
  {
   "cell_type": "code",
   "execution_count": 15,
   "id": "49f83acf-ec15-4274-b883-084301d5f6eb",
   "metadata": {},
   "outputs": [
    {
     "data": {
      "text/plain": [
       "'/Users/rkforest/kr/df/data/NH.Ts+dSST.csv'"
      ]
     },
     "execution_count": 15,
     "metadata": {},
     "output_type": "execute_result"
    }
   ],
   "source": [
    "file_id = \"NH\"\n",
    "file_name = file_id + \".Ts+dSST.csv\"\n",
    "file_url = giss_url + file_name\n",
    "file_path = os.path.join(data_dir, file_name)\n",
    "file_path\n"
   ]
  },
  {
   "cell_type": "code",
   "execution_count": 16,
   "id": "3119f50e-2403-4395-9dbb-f4bf39e58cc2",
   "metadata": {},
   "outputs": [
    {
     "data": {
      "text/plain": [
       "12633"
      ]
     },
     "execution_count": 16,
     "metadata": {},
     "output_type": "execute_result"
    }
   ],
   "source": [
    "# download file_url and save to file_path\n",
    "r = requests.get(file_url)\n",
    "open(file_path, 'wb').write(r.content)"
   ]
  },
  {
   "cell_type": "code",
   "execution_count": 17,
   "id": "d688f1d4-f630-40fd-8bfb-db4cccd34d2a",
   "metadata": {},
   "outputs": [
    {
     "data": {
      "text/html": [
       "<div>\n",
       "<style scoped>\n",
       "    .dataframe tbody tr th:only-of-type {\n",
       "        vertical-align: middle;\n",
       "    }\n",
       "\n",
       "    .dataframe tbody tr th {\n",
       "        vertical-align: top;\n",
       "    }\n",
       "\n",
       "    .dataframe thead th {\n",
       "        text-align: right;\n",
       "    }\n",
       "</style>\n",
       "<table border=\"1\" class=\"dataframe\">\n",
       "  <thead>\n",
       "    <tr style=\"text-align: right;\">\n",
       "      <th></th>\n",
       "      <th>Year</th>\n",
       "      <th>Jan</th>\n",
       "      <th>Feb</th>\n",
       "      <th>Mar</th>\n",
       "      <th>Apr</th>\n",
       "      <th>May</th>\n",
       "      <th>Jun</th>\n",
       "      <th>Jul</th>\n",
       "      <th>Aug</th>\n",
       "      <th>Sep</th>\n",
       "      <th>Oct</th>\n",
       "      <th>Nov</th>\n",
       "      <th>Dec</th>\n",
       "      <th>J-D</th>\n",
       "      <th>D-N</th>\n",
       "      <th>DJF</th>\n",
       "      <th>MAM</th>\n",
       "      <th>JJA</th>\n",
       "      <th>SON</th>\n",
       "    </tr>\n",
       "  </thead>\n",
       "  <tbody>\n",
       "    <tr>\n",
       "      <th>0</th>\n",
       "      <td>1880</td>\n",
       "      <td>-0.35</td>\n",
       "      <td>-.51</td>\n",
       "      <td>-.22</td>\n",
       "      <td>-.29</td>\n",
       "      <td>-.06</td>\n",
       "      <td>-.16</td>\n",
       "      <td>-.18</td>\n",
       "      <td>-.26</td>\n",
       "      <td>-.23</td>\n",
       "      <td>-.32</td>\n",
       "      <td>-.43</td>\n",
       "      <td>-.40</td>\n",
       "      <td>-.28</td>\n",
       "      <td>***</td>\n",
       "      <td>***</td>\n",
       "      <td>-.19</td>\n",
       "      <td>-.20</td>\n",
       "      <td>-.33</td>\n",
       "    </tr>\n",
       "  </tbody>\n",
       "</table>\n",
       "</div>"
      ],
      "text/plain": [
       "   Year   Jan   Feb   Mar   Apr   May   Jun   Jul   Aug   Sep   Oct   Nov  \\\n",
       "0  1880 -0.35  -.51  -.22  -.29  -.06  -.16  -.18  -.26  -.23  -.32  -.43   \n",
       "\n",
       "    Dec   J-D  D-N  DJF   MAM   JJA   SON  \n",
       "0  -.40  -.28  ***  ***  -.19  -.20  -.33  "
      ]
     },
     "execution_count": 17,
     "metadata": {},
     "output_type": "execute_result"
    }
   ],
   "source": [
    "dfn = pd.read_csv(file_path, skiprows=1) # initial read for columns\n",
    "dfn.head(1)"
   ]
  },
  {
   "cell_type": "code",
   "execution_count": 18,
   "id": "e12d95fa-c147-43b5-ab7e-4cafc8ba02e3",
   "metadata": {},
   "outputs": [
    {
     "data": {
      "text/html": [
       "<div>\n",
       "<style scoped>\n",
       "    .dataframe tbody tr th:only-of-type {\n",
       "        vertical-align: middle;\n",
       "    }\n",
       "\n",
       "    .dataframe tbody tr th {\n",
       "        vertical-align: top;\n",
       "    }\n",
       "\n",
       "    .dataframe thead th {\n",
       "        text-align: right;\n",
       "    }\n",
       "</style>\n",
       "<table border=\"1\" class=\"dataframe\">\n",
       "  <thead>\n",
       "    <tr style=\"text-align: right;\">\n",
       "      <th></th>\n",
       "      <th>Date</th>\n",
       "      <th>Jan</th>\n",
       "      <th>Feb</th>\n",
       "      <th>Mar</th>\n",
       "      <th>Apr</th>\n",
       "      <th>May</th>\n",
       "      <th>Jun</th>\n",
       "      <th>Jul</th>\n",
       "      <th>Aug</th>\n",
       "      <th>Sep</th>\n",
       "      <th>Oct</th>\n",
       "      <th>Nov</th>\n",
       "      <th>Dec</th>\n",
       "      <th>Zone</th>\n",
       "    </tr>\n",
       "  </thead>\n",
       "  <tbody>\n",
       "    <tr>\n",
       "      <th>0</th>\n",
       "      <td>1880-01-01</td>\n",
       "      <td>-0.35</td>\n",
       "      <td>-0.51</td>\n",
       "      <td>-0.22</td>\n",
       "      <td>-0.29</td>\n",
       "      <td>-0.06</td>\n",
       "      <td>-0.16</td>\n",
       "      <td>-0.18</td>\n",
       "      <td>-0.26</td>\n",
       "      <td>-0.23</td>\n",
       "      <td>-0.32</td>\n",
       "      <td>-0.43</td>\n",
       "      <td>-0.4</td>\n",
       "      <td>NH</td>\n",
       "    </tr>\n",
       "  </tbody>\n",
       "</table>\n",
       "</div>"
      ],
      "text/plain": [
       "        Date   Jan   Feb   Mar   Apr   May   Jun   Jul   Aug   Sep   Oct  \\\n",
       "0 1880-01-01 -0.35 -0.51 -0.22 -0.29 -0.06 -0.16 -0.18 -0.26 -0.23 -0.32   \n",
       "\n",
       "    Nov  Dec Zone  \n",
       "0 -0.43 -0.4   NH  "
      ]
     },
     "execution_count": 18,
     "metadata": {},
     "output_type": "execute_result"
    }
   ],
   "source": [
    "cols_to_import = dfn.columns[0:13]; # start to end+1\n",
    "dfn = pd.read_csv(file_path,\n",
    "                  skiprows=1,\n",
    "                  sep=',',\n",
    "                  usecols=cols_to_import,\n",
    "                  parse_dates=['Year'],\n",
    "                  #index_col=0, # can use either  = 0, = 'Year'\n",
    "                  na_values=['***'],\n",
    "                  nrows=150)\n",
    "dfn = dfn.rename(columns={'Year': 'Date'})\n",
    "dfn['Zone'] = file_id\n",
    "dfn.head(1)"
   ]
  },
  {
   "cell_type": "markdown",
   "id": "04adf785-1da1-48ed-881a-c989d43b3a3b",
   "metadata": {},
   "source": [
    "### southern hemisphere monthly"
   ]
  },
  {
   "cell_type": "code",
   "execution_count": 19,
   "id": "586e10f8-0393-494a-b9ef-e8ce2566d298",
   "metadata": {},
   "outputs": [
    {
     "data": {
      "text/plain": [
       "'/Users/rkforest/kr/df/data/SH.Ts+dSST.csv'"
      ]
     },
     "execution_count": 19,
     "metadata": {},
     "output_type": "execute_result"
    }
   ],
   "source": [
    "file_id = \"SH\"\n",
    "file_name = file_id + \".Ts+dSST.csv\"\n",
    "file_url = giss_url + file_name\n",
    "file_path = os.path.join(data_dir, file_name)\n",
    "file_path"
   ]
  },
  {
   "cell_type": "code",
   "execution_count": 20,
   "id": "adcf1729-cdf6-484d-ab01-c2ed1cdb974c",
   "metadata": {},
   "outputs": [
    {
     "data": {
      "text/plain": [
       "12630"
      ]
     },
     "execution_count": 20,
     "metadata": {},
     "output_type": "execute_result"
    }
   ],
   "source": [
    "# download file_url and save to file_path\n",
    "r = requests.get(file_url)\n",
    "open(file_path, 'wb').write(r.content)"
   ]
  },
  {
   "cell_type": "code",
   "execution_count": 21,
   "id": "75b31de6-9f89-4468-a01d-bd1d131d6568",
   "metadata": {},
   "outputs": [
    {
     "data": {
      "text/html": [
       "<div>\n",
       "<style scoped>\n",
       "    .dataframe tbody tr th:only-of-type {\n",
       "        vertical-align: middle;\n",
       "    }\n",
       "\n",
       "    .dataframe tbody tr th {\n",
       "        vertical-align: top;\n",
       "    }\n",
       "\n",
       "    .dataframe thead th {\n",
       "        text-align: right;\n",
       "    }\n",
       "</style>\n",
       "<table border=\"1\" class=\"dataframe\">\n",
       "  <thead>\n",
       "    <tr style=\"text-align: right;\">\n",
       "      <th></th>\n",
       "      <th>Year</th>\n",
       "      <th>Jan</th>\n",
       "      <th>Feb</th>\n",
       "      <th>Mar</th>\n",
       "      <th>Apr</th>\n",
       "      <th>May</th>\n",
       "      <th>Jun</th>\n",
       "      <th>Jul</th>\n",
       "      <th>Aug</th>\n",
       "      <th>Sep</th>\n",
       "      <th>Oct</th>\n",
       "      <th>Nov</th>\n",
       "      <th>Dec</th>\n",
       "      <th>J-D</th>\n",
       "      <th>D-N</th>\n",
       "      <th>DJF</th>\n",
       "      <th>MAM</th>\n",
       "      <th>JJA</th>\n",
       "      <th>SON</th>\n",
       "    </tr>\n",
       "  </thead>\n",
       "  <tbody>\n",
       "    <tr>\n",
       "      <th>0</th>\n",
       "      <td>1880</td>\n",
       "      <td>0.0</td>\n",
       "      <td>.03</td>\n",
       "      <td>.05</td>\n",
       "      <td>-.02</td>\n",
       "      <td>-.13</td>\n",
       "      <td>-.25</td>\n",
       "      <td>-.18</td>\n",
       "      <td>.06</td>\n",
       "      <td>-.05</td>\n",
       "      <td>-.15</td>\n",
       "      <td>-.01</td>\n",
       "      <td>.05</td>\n",
       "      <td>-.05</td>\n",
       "      <td>***</td>\n",
       "      <td>***</td>\n",
       "      <td>-.03</td>\n",
       "      <td>-.12</td>\n",
       "      <td>-.07</td>\n",
       "    </tr>\n",
       "  </tbody>\n",
       "</table>\n",
       "</div>"
      ],
      "text/plain": [
       "   Year  Jan  Feb  Mar   Apr   May   Jun   Jul  Aug   Sep   Oct   Nov  Dec  \\\n",
       "0  1880  0.0  .03  .05  -.02  -.13  -.25  -.18  .06  -.05  -.15  -.01  .05   \n",
       "\n",
       "    J-D  D-N  DJF   MAM   JJA   SON  \n",
       "0  -.05  ***  ***  -.03  -.12  -.07  "
      ]
     },
     "execution_count": 21,
     "metadata": {},
     "output_type": "execute_result"
    }
   ],
   "source": [
    "dfs = pd.read_csv(file_path, skiprows=1) # initial read for columns\n",
    "dfs.head(1)"
   ]
  },
  {
   "cell_type": "code",
   "execution_count": 22,
   "id": "ffcd5c86-329c-420c-8663-aaa20389637b",
   "metadata": {},
   "outputs": [
    {
     "data": {
      "text/html": [
       "<div>\n",
       "<style scoped>\n",
       "    .dataframe tbody tr th:only-of-type {\n",
       "        vertical-align: middle;\n",
       "    }\n",
       "\n",
       "    .dataframe tbody tr th {\n",
       "        vertical-align: top;\n",
       "    }\n",
       "\n",
       "    .dataframe thead th {\n",
       "        text-align: right;\n",
       "    }\n",
       "</style>\n",
       "<table border=\"1\" class=\"dataframe\">\n",
       "  <thead>\n",
       "    <tr style=\"text-align: right;\">\n",
       "      <th></th>\n",
       "      <th>Date</th>\n",
       "      <th>Jan</th>\n",
       "      <th>Feb</th>\n",
       "      <th>Mar</th>\n",
       "      <th>Apr</th>\n",
       "      <th>May</th>\n",
       "      <th>Jun</th>\n",
       "      <th>Jul</th>\n",
       "      <th>Aug</th>\n",
       "      <th>Sep</th>\n",
       "      <th>Oct</th>\n",
       "      <th>Nov</th>\n",
       "      <th>Dec</th>\n",
       "      <th>Zone</th>\n",
       "    </tr>\n",
       "  </thead>\n",
       "  <tbody>\n",
       "    <tr>\n",
       "      <th>0</th>\n",
       "      <td>1880-01-01</td>\n",
       "      <td>0.0</td>\n",
       "      <td>0.03</td>\n",
       "      <td>0.05</td>\n",
       "      <td>-0.02</td>\n",
       "      <td>-0.13</td>\n",
       "      <td>-0.25</td>\n",
       "      <td>-0.18</td>\n",
       "      <td>0.06</td>\n",
       "      <td>-0.05</td>\n",
       "      <td>-0.15</td>\n",
       "      <td>-0.01</td>\n",
       "      <td>0.05</td>\n",
       "      <td>SH</td>\n",
       "    </tr>\n",
       "  </tbody>\n",
       "</table>\n",
       "</div>"
      ],
      "text/plain": [
       "        Date  Jan   Feb   Mar   Apr   May   Jun   Jul   Aug   Sep   Oct   Nov  \\\n",
       "0 1880-01-01  0.0  0.03  0.05 -0.02 -0.13 -0.25 -0.18  0.06 -0.05 -0.15 -0.01   \n",
       "\n",
       "    Dec Zone  \n",
       "0  0.05   SH  "
      ]
     },
     "execution_count": 22,
     "metadata": {},
     "output_type": "execute_result"
    }
   ],
   "source": [
    "\n",
    "cols_to_import = dfs.columns[0:13]; # start to end+1\n",
    "dfs = pd.read_csv(file_path,\n",
    "                  skiprows=1,\n",
    "                  sep=',',\n",
    "                  usecols=cols_to_import,\n",
    "                  parse_dates=['Year'],\n",
    "                  #index_col=0, # can use either  = 0, = 'Year'\n",
    "                  na_values=['***'],\n",
    "                  nrows=150)\n",
    "dfs = dfs.rename(columns={'Year': 'Date'})\n",
    "dfs['Zone'] = file_id\n",
    "dfs.head(1)"
   ]
  },
  {
   "cell_type": "markdown",
   "id": "d0780e4e-bc2e-40fd-9d78-57b6b9f4f920",
   "metadata": {},
   "source": [
    "### zonal annual"
   ]
  },
  {
   "cell_type": "code",
   "execution_count": 23,
   "id": "e52ec026-836e-4d1c-b3d3-a54a345cab10",
   "metadata": {},
   "outputs": [
    {
     "data": {
      "text/plain": [
       "'/Users/rkforest/kr/df/data/ZonAnn.Ts+dSST.csv'"
      ]
     },
     "execution_count": 23,
     "metadata": {},
     "output_type": "execute_result"
    }
   ],
   "source": [
    "file_name = 'ZonAnn.Ts+dSST.csv'\n",
    "file_url = giss_url + file_name\n",
    "file_path = os.path.join(data_dir, file_name)\n",
    "file_path"
   ]
  },
  {
   "cell_type": "code",
   "execution_count": 24,
   "id": "41d6d524-c478-4ca2-acea-dfa7aa9c13b7",
   "metadata": {},
   "outputs": [
    {
     "data": {
      "text/plain": [
       "9986"
      ]
     },
     "execution_count": 24,
     "metadata": {},
     "output_type": "execute_result"
    }
   ],
   "source": [
    "# download file_url and save to file_path\n",
    "r = requests.get(file_url)\n",
    "open(file_path, 'wb').write(r.content)"
   ]
  },
  {
   "cell_type": "code",
   "execution_count": 25,
   "id": "2045c315-fd96-48bb-866c-ae1561d8e5e5",
   "metadata": {},
   "outputs": [
    {
     "data": {
      "text/html": [
       "<div>\n",
       "<style scoped>\n",
       "    .dataframe tbody tr th:only-of-type {\n",
       "        vertical-align: middle;\n",
       "    }\n",
       "\n",
       "    .dataframe tbody tr th {\n",
       "        vertical-align: top;\n",
       "    }\n",
       "\n",
       "    .dataframe thead th {\n",
       "        text-align: right;\n",
       "    }\n",
       "</style>\n",
       "<table border=\"1\" class=\"dataframe\">\n",
       "  <thead>\n",
       "    <tr style=\"text-align: right;\">\n",
       "      <th></th>\n",
       "      <th>Year</th>\n",
       "      <th>Glob</th>\n",
       "      <th>NHem</th>\n",
       "      <th>SHem</th>\n",
       "      <th>24N-90N</th>\n",
       "      <th>24S-24N</th>\n",
       "      <th>90S-24S</th>\n",
       "      <th>64N-90N</th>\n",
       "      <th>44N-64N</th>\n",
       "      <th>24N-44N</th>\n",
       "      <th>EQU-24N</th>\n",
       "      <th>24S-EQU</th>\n",
       "      <th>44S-24S</th>\n",
       "      <th>64S-44S</th>\n",
       "      <th>90S-64S</th>\n",
       "    </tr>\n",
       "  </thead>\n",
       "  <tbody>\n",
       "    <tr>\n",
       "      <th>0</th>\n",
       "      <td>1880</td>\n",
       "      <td>-0.17</td>\n",
       "      <td>-0.28</td>\n",
       "      <td>-0.05</td>\n",
       "      <td>-0.37</td>\n",
       "      <td>-0.13</td>\n",
       "      <td>-0.02</td>\n",
       "      <td>-0.81</td>\n",
       "      <td>-0.46</td>\n",
       "      <td>-0.28</td>\n",
       "      <td>-0.16</td>\n",
       "      <td>-0.11</td>\n",
       "      <td>-0.05</td>\n",
       "      <td>0.05</td>\n",
       "      <td>0.66</td>\n",
       "    </tr>\n",
       "  </tbody>\n",
       "</table>\n",
       "</div>"
      ],
      "text/plain": [
       "   Year  Glob  NHem  SHem  24N-90N  24S-24N  90S-24S  64N-90N  44N-64N  \\\n",
       "0  1880 -0.17 -0.28 -0.05    -0.37    -0.13    -0.02    -0.81    -0.46   \n",
       "\n",
       "   24N-44N  EQU-24N  24S-EQU  44S-24S  64S-44S  90S-64S  \n",
       "0    -0.28    -0.16    -0.11    -0.05     0.05     0.66  "
      ]
     },
     "execution_count": 25,
     "metadata": {},
     "output_type": "execute_result"
    }
   ],
   "source": [
    "dfz = pd.read_csv(file_path, skiprows=0) # initial read for columns\n",
    "dfz.head(1)"
   ]
  },
  {
   "cell_type": "code",
   "execution_count": 26,
   "id": "a3e6f6d0-cb60-45f8-99cf-512a3101480e",
   "metadata": {},
   "outputs": [
    {
     "data": {
      "text/html": [
       "<div>\n",
       "<style scoped>\n",
       "    .dataframe tbody tr th:only-of-type {\n",
       "        vertical-align: middle;\n",
       "    }\n",
       "\n",
       "    .dataframe tbody tr th {\n",
       "        vertical-align: top;\n",
       "    }\n",
       "\n",
       "    .dataframe thead th {\n",
       "        text-align: right;\n",
       "    }\n",
       "</style>\n",
       "<table border=\"1\" class=\"dataframe\">\n",
       "  <thead>\n",
       "    <tr style=\"text-align: right;\">\n",
       "      <th></th>\n",
       "      <th>Year</th>\n",
       "      <th>64N-90N</th>\n",
       "      <th>44N-64N</th>\n",
       "      <th>24N-44N</th>\n",
       "      <th>EQU-24N</th>\n",
       "      <th>24S-EQU</th>\n",
       "      <th>44S-24S</th>\n",
       "      <th>64S-44S</th>\n",
       "      <th>90S-64S</th>\n",
       "    </tr>\n",
       "  </thead>\n",
       "  <tbody>\n",
       "    <tr>\n",
       "      <th>0</th>\n",
       "      <td>1880</td>\n",
       "      <td>-0.81</td>\n",
       "      <td>-0.46</td>\n",
       "      <td>-0.28</td>\n",
       "      <td>-0.16</td>\n",
       "      <td>-0.11</td>\n",
       "      <td>-0.05</td>\n",
       "      <td>0.05</td>\n",
       "      <td>0.66</td>\n",
       "    </tr>\n",
       "  </tbody>\n",
       "</table>\n",
       "</div>"
      ],
      "text/plain": [
       "   Year  64N-90N  44N-64N  24N-44N  EQU-24N  24S-EQU  44S-24S  64S-44S  \\\n",
       "0  1880    -0.81    -0.46    -0.28    -0.16    -0.11    -0.05     0.05   \n",
       "\n",
       "   90S-64S  \n",
       "0     0.66  "
      ]
     },
     "execution_count": 26,
     "metadata": {},
     "output_type": "execute_result"
    }
   ],
   "source": [
    "cols_to_import=['Year',\n",
    "                'EQU-24N','24N-44N','44N-64N','64N-90N',\n",
    "                '24S-EQU','44S-24S','64S-44S','90S-64S']\n",
    "dfz = pd.read_csv(file_path, usecols=cols_to_import)\n",
    "dfz.head(1)"
   ]
  },
  {
   "cell_type": "markdown",
   "id": "a71765c0-7fd8-4339-bcd2-ce5bf80328ec",
   "metadata": {
    "toc-hr-collapsed": true
   },
   "source": [
    "<a id='pd-restructure'></a>\n",
    "## Restructure"
   ]
  },
  {
   "cell_type": "markdown",
   "id": "e66798a3-7ddf-4f8a-a23c-9e6ee6c4d0cb",
   "metadata": {},
   "source": [
    "[Return to Start of Notebook](#pd)  "
   ]
  },
  {
   "cell_type": "markdown",
   "id": "50662e76-7f0c-4157-97df-1f4888006ec9",
   "metadata": {},
   "source": [
    "### .melt"
   ]
  },
  {
   "cell_type": "code",
   "execution_count": 27,
   "id": "c2828e62-be7d-4e4f-aff1-a63e3ed6dfb0",
   "metadata": {},
   "outputs": [
    {
     "data": {
      "text/html": [
       "<div>\n",
       "<style scoped>\n",
       "    .dataframe tbody tr th:only-of-type {\n",
       "        vertical-align: middle;\n",
       "    }\n",
       "\n",
       "    .dataframe tbody tr th {\n",
       "        vertical-align: top;\n",
       "    }\n",
       "\n",
       "    .dataframe thead th {\n",
       "        text-align: right;\n",
       "    }\n",
       "</style>\n",
       "<table border=\"1\" class=\"dataframe\">\n",
       "  <thead>\n",
       "    <tr style=\"text-align: right;\">\n",
       "      <th></th>\n",
       "      <th>Date</th>\n",
       "      <th>Jan</th>\n",
       "      <th>Feb</th>\n",
       "      <th>Mar</th>\n",
       "      <th>Apr</th>\n",
       "      <th>May</th>\n",
       "      <th>Jun</th>\n",
       "      <th>Jul</th>\n",
       "      <th>Aug</th>\n",
       "      <th>Sep</th>\n",
       "      <th>Oct</th>\n",
       "      <th>Nov</th>\n",
       "      <th>Dec</th>\n",
       "      <th>Zone</th>\n",
       "    </tr>\n",
       "  </thead>\n",
       "  <tbody>\n",
       "    <tr>\n",
       "      <th>0</th>\n",
       "      <td>1880-01-01</td>\n",
       "      <td>-0.18</td>\n",
       "      <td>-0.24</td>\n",
       "      <td>-0.09</td>\n",
       "      <td>-0.16</td>\n",
       "      <td>-0.10</td>\n",
       "      <td>-0.21</td>\n",
       "      <td>-0.18</td>\n",
       "      <td>-0.10</td>\n",
       "      <td>-0.15</td>\n",
       "      <td>-0.23</td>\n",
       "      <td>-0.22</td>\n",
       "      <td>-0.17</td>\n",
       "      <td>GLB</td>\n",
       "    </tr>\n",
       "    <tr>\n",
       "      <th>1</th>\n",
       "      <td>1881-01-01</td>\n",
       "      <td>-0.19</td>\n",
       "      <td>-0.14</td>\n",
       "      <td>0.03</td>\n",
       "      <td>0.05</td>\n",
       "      <td>0.06</td>\n",
       "      <td>-0.18</td>\n",
       "      <td>0.00</td>\n",
       "      <td>-0.03</td>\n",
       "      <td>-0.15</td>\n",
       "      <td>-0.22</td>\n",
       "      <td>-0.18</td>\n",
       "      <td>-0.07</td>\n",
       "      <td>GLB</td>\n",
       "    </tr>\n",
       "  </tbody>\n",
       "</table>\n",
       "</div>"
      ],
      "text/plain": [
       "        Date   Jan   Feb   Mar   Apr   May   Jun   Jul   Aug   Sep   Oct  \\\n",
       "0 1880-01-01 -0.18 -0.24 -0.09 -0.16 -0.10 -0.21 -0.18 -0.10 -0.15 -0.23   \n",
       "1 1881-01-01 -0.19 -0.14  0.03  0.05  0.06 -0.18  0.00 -0.03 -0.15 -0.22   \n",
       "\n",
       "    Nov   Dec Zone  \n",
       "0 -0.22 -0.17  GLB  \n",
       "1 -0.18 -0.07  GLB  "
      ]
     },
     "execution_count": 27,
     "metadata": {},
     "output_type": "execute_result"
    }
   ],
   "source": [
    "dfg.head(2)"
   ]
  },
  {
   "cell_type": "code",
   "execution_count": 28,
   "id": "57cb07a5-e100-410d-ba07-abc5f377b3a0",
   "metadata": {},
   "outputs": [
    {
     "data": {
      "text/html": [
       "<div>\n",
       "<style scoped>\n",
       "    .dataframe tbody tr th:only-of-type {\n",
       "        vertical-align: middle;\n",
       "    }\n",
       "\n",
       "    .dataframe tbody tr th {\n",
       "        vertical-align: top;\n",
       "    }\n",
       "\n",
       "    .dataframe thead th {\n",
       "        text-align: right;\n",
       "    }\n",
       "</style>\n",
       "<table border=\"1\" class=\"dataframe\">\n",
       "  <thead>\n",
       "    <tr style=\"text-align: right;\">\n",
       "      <th></th>\n",
       "      <th>Zone</th>\n",
       "      <th>Date</th>\n",
       "      <th>Mth</th>\n",
       "      <th>Temp</th>\n",
       "    </tr>\n",
       "  </thead>\n",
       "  <tbody>\n",
       "    <tr>\n",
       "      <th>0</th>\n",
       "      <td>GLB</td>\n",
       "      <td>1880-01-01</td>\n",
       "      <td>Jan</td>\n",
       "      <td>-0.18</td>\n",
       "    </tr>\n",
       "  </tbody>\n",
       "</table>\n",
       "</div>"
      ],
      "text/plain": [
       "  Zone       Date  Mth  Temp\n",
       "0  GLB 1880-01-01  Jan -0.18"
      ]
     },
     "execution_count": 28,
     "metadata": {},
     "output_type": "execute_result"
    }
   ],
   "source": [
    "dfgt = pd.melt(dfg,\n",
    "               id_vars=['Zone','Date'],\n",
    "               var_name=['Mth'],\n",
    "               value_name='Temp')\n",
    "dfgt.head(1)"
   ]
  },
  {
   "cell_type": "code",
   "execution_count": 29,
   "id": "409c17d3-7296-4bcb-99a2-77b70ec3e543",
   "metadata": {},
   "outputs": [
    {
     "data": {
      "text/html": [
       "<div>\n",
       "<style scoped>\n",
       "    .dataframe tbody tr th:only-of-type {\n",
       "        vertical-align: middle;\n",
       "    }\n",
       "\n",
       "    .dataframe tbody tr th {\n",
       "        vertical-align: top;\n",
       "    }\n",
       "\n",
       "    .dataframe thead th {\n",
       "        text-align: right;\n",
       "    }\n",
       "</style>\n",
       "<table border=\"1\" class=\"dataframe\">\n",
       "  <thead>\n",
       "    <tr style=\"text-align: right;\">\n",
       "      <th></th>\n",
       "      <th>Zone</th>\n",
       "      <th>Date</th>\n",
       "      <th>Mth</th>\n",
       "      <th>Temp</th>\n",
       "    </tr>\n",
       "  </thead>\n",
       "  <tbody>\n",
       "    <tr>\n",
       "      <th>0</th>\n",
       "      <td>NH</td>\n",
       "      <td>1880-01-01</td>\n",
       "      <td>Jan</td>\n",
       "      <td>-0.35</td>\n",
       "    </tr>\n",
       "  </tbody>\n",
       "</table>\n",
       "</div>"
      ],
      "text/plain": [
       "  Zone       Date  Mth  Temp\n",
       "0   NH 1880-01-01  Jan -0.35"
      ]
     },
     "execution_count": 29,
     "metadata": {},
     "output_type": "execute_result"
    }
   ],
   "source": [
    "dfnt = pd.melt(dfn,\n",
    "               id_vars=['Zone','Date'],\n",
    "               var_name=['Mth'],\n",
    "               value_name='Temp')\n",
    "dfnt.head(1)"
   ]
  },
  {
   "cell_type": "code",
   "execution_count": 30,
   "id": "12bfd2fc-32b6-4206-8445-7e6d6efbaa0f",
   "metadata": {},
   "outputs": [
    {
     "data": {
      "text/html": [
       "<div>\n",
       "<style scoped>\n",
       "    .dataframe tbody tr th:only-of-type {\n",
       "        vertical-align: middle;\n",
       "    }\n",
       "\n",
       "    .dataframe tbody tr th {\n",
       "        vertical-align: top;\n",
       "    }\n",
       "\n",
       "    .dataframe thead th {\n",
       "        text-align: right;\n",
       "    }\n",
       "</style>\n",
       "<table border=\"1\" class=\"dataframe\">\n",
       "  <thead>\n",
       "    <tr style=\"text-align: right;\">\n",
       "      <th></th>\n",
       "      <th>Zone</th>\n",
       "      <th>Date</th>\n",
       "      <th>Mth</th>\n",
       "      <th>Temp</th>\n",
       "    </tr>\n",
       "  </thead>\n",
       "  <tbody>\n",
       "    <tr>\n",
       "      <th>0</th>\n",
       "      <td>SH</td>\n",
       "      <td>1880-01-01</td>\n",
       "      <td>Jan</td>\n",
       "      <td>0.0</td>\n",
       "    </tr>\n",
       "  </tbody>\n",
       "</table>\n",
       "</div>"
      ],
      "text/plain": [
       "  Zone       Date  Mth  Temp\n",
       "0   SH 1880-01-01  Jan   0.0"
      ]
     },
     "execution_count": 30,
     "metadata": {},
     "output_type": "execute_result"
    }
   ],
   "source": [
    "dfst = pd.melt(dfs,\n",
    "               id_vars=['Zone','Date'],\n",
    "               var_name=['Mth'],\n",
    "               value_name='Temp')\n",
    "dfst.head(1)"
   ]
  },
  {
   "cell_type": "code",
   "execution_count": 31,
   "id": "0275f95b-ea00-4c37-afa7-aa0f0d263fa6",
   "metadata": {},
   "outputs": [
    {
     "data": {
      "text/html": [
       "<div>\n",
       "<style scoped>\n",
       "    .dataframe tbody tr th:only-of-type {\n",
       "        vertical-align: middle;\n",
       "    }\n",
       "\n",
       "    .dataframe tbody tr th {\n",
       "        vertical-align: top;\n",
       "    }\n",
       "\n",
       "    .dataframe thead th {\n",
       "        text-align: right;\n",
       "    }\n",
       "</style>\n",
       "<table border=\"1\" class=\"dataframe\">\n",
       "  <thead>\n",
       "    <tr style=\"text-align: right;\">\n",
       "      <th></th>\n",
       "      <th>Year</th>\n",
       "      <th>Zone</th>\n",
       "      <th>Temp</th>\n",
       "    </tr>\n",
       "  </thead>\n",
       "  <tbody>\n",
       "    <tr>\n",
       "      <th>0</th>\n",
       "      <td>1880</td>\n",
       "      <td>64N-90N</td>\n",
       "      <td>-0.81</td>\n",
       "    </tr>\n",
       "  </tbody>\n",
       "</table>\n",
       "</div>"
      ],
      "text/plain": [
       "   Year     Zone  Temp\n",
       "0  1880  64N-90N -0.81"
      ]
     },
     "execution_count": 31,
     "metadata": {},
     "output_type": "execute_result"
    }
   ],
   "source": [
    "dfzt = pd.melt(dfz,\n",
    "             id_vars=['Year'],\n",
    "             var_name=['Zone'],\n",
    "             value_name='Temp')\n",
    "dfzt.head(1)"
   ]
  },
  {
   "cell_type": "markdown",
   "id": "16c12a1c-d64e-401d-ad24-25ce7d412923",
   "metadata": {},
   "source": [
    "### create date with pd.to_datetime\n",
    "- using year and month strings "
   ]
  },
  {
   "cell_type": "code",
   "execution_count": 32,
   "id": "7d845cda-6e61-48a1-a810-f6d876c539c1",
   "metadata": {},
   "outputs": [],
   "source": [
    "dfgt['year_str'] = dfgt['Date'].dt.strftime('%Y') # create year string\n",
    "dfgt['month_str'] = pd.to_datetime(dfgt['Mth'], format='%b').dt.strftime('%m') # create month string\n",
    "dfgt['Date'] = pd.to_datetime(dfgt['year_str'] + dfgt['month_str'], format='%Y%m') # combine strings and convert to date"
   ]
  },
  {
   "cell_type": "code",
   "execution_count": 33,
   "id": "3544e293-ac6d-4235-a215-6d50879eeb6d",
   "metadata": {},
   "outputs": [],
   "source": [
    "dfnt['year_str'] = dfnt['Date'].dt.strftime('%Y') # create year string\n",
    "dfnt['month_str'] = pd.to_datetime(dfnt['Mth'], format='%b').dt.strftime('%m') # create month string\n",
    "dfnt['Date'] = pd.to_datetime(dfnt['year_str'] + dfnt['month_str'], format='%Y%m') # combine strings and convert to date"
   ]
  },
  {
   "cell_type": "code",
   "execution_count": 34,
   "id": "50112b01-f5a9-4197-a94d-9be30ff33b8f",
   "metadata": {},
   "outputs": [],
   "source": [
    "dfst['year_str'] = dfst['Date'].dt.strftime('%Y') # create year string\n",
    "dfst['month_str'] = pd.to_datetime(dfst['Mth'], format='%b').dt.strftime('%m') # create month string\n",
    "dfst['Date'] = pd.to_datetime(dfst['year_str'] + dfst['month_str'], format='%Y%m') # combine strings and convert to date"
   ]
  },
  {
   "cell_type": "markdown",
   "id": "9a8e90ed-2e72-44d6-9351-4572469fd53a",
   "metadata": {},
   "source": [
    "### drop unneeded columns"
   ]
  },
  {
   "cell_type": "code",
   "execution_count": 35,
   "id": "6f829c19-ee3a-4e95-8d51-3bbe9cca60a0",
   "metadata": {},
   "outputs": [],
   "source": [
    "cols = ['year_str', 'month_str']\n",
    "dfgt.drop(columns=cols,inplace=True) # drop unneeded columns\n",
    "dfnt.drop(columns=cols,inplace=True) # drop unneeded columns\n",
    "dfst.drop(columns=cols,inplace=True) # drop unneeded columns"
   ]
  },
  {
   "cell_type": "markdown",
   "id": "8911b64a-92e9-4af1-b6a8-4ba0b4d84d68",
   "metadata": {},
   "source": [
    "### extract year and month from date using date accessor"
   ]
  },
  {
   "cell_type": "code",
   "execution_count": 36,
   "id": "b2d7d464-0961-46e7-92f3-cfcd1d5f5fdd",
   "metadata": {},
   "outputs": [],
   "source": [
    "dfgt['Year'] = dfgt['Date'].dt.year\n",
    "dfnt['Year'] = dfnt['Date'].dt.year\n",
    "dfst['Year'] = dfst['Date'].dt.year"
   ]
  },
  {
   "cell_type": "code",
   "execution_count": 37,
   "id": "b5ecaad1-1388-42ee-85bc-5c61011f2637",
   "metadata": {},
   "outputs": [],
   "source": [
    "dfgt['Month'] = dfgt['Date'].dt.month\n",
    "dfnt['Month'] = dfnt['Date'].dt.month\n",
    "dfst['Month'] = dfst['Date'].dt.month"
   ]
  },
  {
   "cell_type": "markdown",
   "id": "351bf860-d996-4907-9c20-494a76af6fee",
   "metadata": {},
   "source": [
    "### reorder columns"
   ]
  },
  {
   "cell_type": "code",
   "execution_count": 38,
   "id": "244d139e-e046-4693-abe2-bea443df2e23",
   "metadata": {},
   "outputs": [
    {
     "data": {
      "text/plain": [
       "Index(['Date', 'Year', 'Month', 'Mth', 'Zone', 'Temp'], dtype='object')"
      ]
     },
     "execution_count": 38,
     "metadata": {},
     "output_type": "execute_result"
    }
   ],
   "source": [
    "dfgt = dfgt.reindex(['Date','Year','Month','Mth','Zone','Temp'], axis=1)\n",
    "dfgt.columns"
   ]
  },
  {
   "cell_type": "code",
   "execution_count": 39,
   "id": "e42146fa-ae91-409a-9f08-67b0f1be227a",
   "metadata": {},
   "outputs": [
    {
     "data": {
      "text/plain": [
       "Index(['Date', 'Year', 'Month', 'Mth', 'Zone', 'Temp'], dtype='object')"
      ]
     },
     "execution_count": 39,
     "metadata": {},
     "output_type": "execute_result"
    }
   ],
   "source": [
    "dfnt = dfnt.reindex(['Date','Year','Month','Mth','Zone','Temp'], axis=1)\n",
    "dfnt.columns"
   ]
  },
  {
   "cell_type": "code",
   "execution_count": 40,
   "id": "362b860c-de70-4acf-b661-759985163dfb",
   "metadata": {},
   "outputs": [
    {
     "data": {
      "text/plain": [
       "Index(['Date', 'Year', 'Month', 'Mth', 'Zone', 'Temp'], dtype='object')"
      ]
     },
     "execution_count": 40,
     "metadata": {},
     "output_type": "execute_result"
    }
   ],
   "source": [
    "dfst = dfst.reindex(['Date','Year','Month','Mth','Zone','Temp'], axis=1)\n",
    "dfst.columns"
   ]
  },
  {
   "cell_type": "code",
   "execution_count": 41,
   "id": "05c61464-a54a-467d-948a-086be8550cf6",
   "metadata": {},
   "outputs": [
    {
     "data": {
      "text/html": [
       "<div>\n",
       "<style scoped>\n",
       "    .dataframe tbody tr th:only-of-type {\n",
       "        vertical-align: middle;\n",
       "    }\n",
       "\n",
       "    .dataframe tbody tr th {\n",
       "        vertical-align: top;\n",
       "    }\n",
       "\n",
       "    .dataframe thead th {\n",
       "        text-align: right;\n",
       "    }\n",
       "</style>\n",
       "<table border=\"1\" class=\"dataframe\">\n",
       "  <thead>\n",
       "    <tr style=\"text-align: right;\">\n",
       "      <th></th>\n",
       "      <th>Date</th>\n",
       "      <th>Year</th>\n",
       "      <th>Month</th>\n",
       "      <th>Mth</th>\n",
       "      <th>Zone</th>\n",
       "      <th>Temp</th>\n",
       "    </tr>\n",
       "  </thead>\n",
       "  <tbody>\n",
       "    <tr>\n",
       "      <th>1727</th>\n",
       "      <td>2023-12-01</td>\n",
       "      <td>2023</td>\n",
       "      <td>12</td>\n",
       "      <td>Dec</td>\n",
       "      <td>GLB</td>\n",
       "      <td>NaN</td>\n",
       "    </tr>\n",
       "  </tbody>\n",
       "</table>\n",
       "</div>"
      ],
      "text/plain": [
       "           Date  Year  Month  Mth Zone  Temp\n",
       "1727 2023-12-01  2023     12  Dec  GLB   NaN"
      ]
     },
     "execution_count": 41,
     "metadata": {},
     "output_type": "execute_result"
    }
   ],
   "source": [
    "dfgt.tail(1)"
   ]
  },
  {
   "cell_type": "markdown",
   "id": "694a4b2a-ef5c-4693-9a2e-c7b6b46d2ac0",
   "metadata": {},
   "source": [
    "<a id='pd-export'></a>\n",
    "## Export"
   ]
  },
  {
   "cell_type": "markdown",
   "id": "9125fa20-fe53-494f-9520-d3dc3613c24d",
   "metadata": {},
   "source": [
    "[Return to Start of Notebook](#pd)   "
   ]
  },
  {
   "cell_type": "markdown",
   "id": "8dd299d9-e67a-4aa9-a685-6faac757122f",
   "metadata": {},
   "source": [
    "### save df as csv for importing to database"
   ]
  },
  {
   "cell_type": "code",
   "execution_count": 43,
   "id": "761f45c8-75a1-48af-9612-fc8cb239eba1",
   "metadata": {},
   "outputs": [],
   "source": [
    "save_path = os.path.join(save_dir, 'global_temperature_anomalies.csv')\n",
    "dfgt.to_csv(save_path, header=True, index=False, sep=',')"
   ]
  },
  {
   "cell_type": "code",
   "execution_count": 44,
   "id": "2f34e698-d8fd-49e3-9c57-7da32634297a",
   "metadata": {},
   "outputs": [],
   "source": [
    "save_path = os.path.join(save_dir, 'northern_temperature_anomalies.csv')\n",
    "dfnt.to_csv(save_path, header=True, index=False, sep=',')"
   ]
  },
  {
   "cell_type": "code",
   "execution_count": 45,
   "id": "1acb2da7-2759-4b4a-85d1-3f68f9fa78a5",
   "metadata": {},
   "outputs": [],
   "source": [
    "save_path = os.path.join(save_dir, 'southern_temperature_anomalies.csv')\n",
    "dfst.to_csv(save_path, header=True, index=False, sep=',')"
   ]
  },
  {
   "cell_type": "code",
   "execution_count": null,
   "id": "c89f308f-cbeb-44d3-8145-31192dd1734b",
   "metadata": {},
   "outputs": [],
   "source": []
  }
 ],
 "metadata": {
  "interpreter": {
   "hash": "a242e183465bb9023de0138d2b64ba329c59b510ac4eb42cc190969549979312"
  },
  "kernelspec": {
   "display_name": "Python 3 (ipykernel)",
   "language": "python",
   "name": "python3"
  },
  "language_info": {
   "codemirror_mode": {
    "name": "ipython",
    "version": 3
   },
   "file_extension": ".py",
   "mimetype": "text/x-python",
   "name": "python",
   "nbconvert_exporter": "python",
   "pygments_lexer": "ipython3",
   "version": "3.11.0"
  },
  "toc-autonumbering": false
 },
 "nbformat": 4,
 "nbformat_minor": 5
}
